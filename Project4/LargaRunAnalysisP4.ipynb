{
 "cells": [
  {
   "cell_type": "code",
   "execution_count": 1,
   "metadata": {},
   "outputs": [],
   "source": [
    "import numpy as np \n",
    "import matplotlib.pyplot as plt"
   ]
  },
  {
   "cell_type": "code",
   "execution_count": 53,
   "metadata": {},
   "outputs": [],
   "source": [
    "def FileOpen(filename):\n",
    "    f = open(filename,\"r\")\n",
    "    Lines = f.readlines()\n",
    "    #Fetching relevant data for output\n",
    "    #Number of MC Cycles\n",
    "    MCCycles = Lines[0].split(\"\\t\")\n",
    "    MCCycles = int(MCCycles[1].replace(\"\\n\",\"\"))\n",
    "    #Number of skipped cycles\n",
    "    SkipCycles = Lines[1].split(\"\\t\")\n",
    "    SkipCycles = int(SkipCycles[1].replace(\"\\n\",\"\"))\n",
    "    #LatticeSize\n",
    "    LatticeSize = Lines[2].split(\"\\t\")\n",
    "    LatticeSize = int(LatticeSize[1].replace(\"\\n\",\"\"))\n",
    "    #Number of temperature measurements\n",
    "    NumberMeasTemp = Lines[3].split(\"\\t\")\n",
    "    NumberMeasTemp = int(NumberMeasTemp[1].replace(\"\\n\",\"\"))\n",
    "    #Lenght of measurement in seconds\n",
    "    TimeMeas = Lines[4].split(\"\\t\")\n",
    "    TimeMeas = float(TimeMeas[1].replace(\"\\n\",\"\"))\n",
    "    #Fetching all the average values from the measurement\n",
    "    Temperature = np.zeros(NumberMeasTemp)\n",
    "    EnergyPerParticle = np.zeros(NumberMeasTemp)\n",
    "    HeatCapaPerParticle = np.zeros(NumberMeasTemp)\n",
    "    AbsoluteMagnPerParticle = np.zeros(NumberMeasTemp)\n",
    "    Susceptibility = np.zeros(NumberMeasTemp)\n",
    "    NoOfAcceptedSteps = np.zeros(NumberMeasTemp)\n",
    "    #looping over next lines to fetch the information\n",
    "    for i in range(NumberMeasTemp):\n",
    "        Temp = Lines[i+6].split(\"\\t\")\n",
    "        Temperature[i] = Temp[0]\n",
    "        EnergyPerParticle[i] = Temp[1]\n",
    "        HeatCapaPerParticle[i] = Temp[2]\n",
    "        AbsoluteMagnPerParticle[i] = Temp[3]\n",
    "        Susceptibility[i] = Temp[4]\n",
    "        NoOfAcceptedSteps[i] = Temp[5]\n",
    "        \n",
    "    \n",
    "    \n",
    "    f.close()\n",
    "    return Lines, MCCycles, SkipCycles, NumberMeasTemp, TimeMeas, Temperature, EnergyPerParticle, HeatCapaPerParticle, AbsoluteMagnPerParticle, Susceptibility, NoOfAcceptedSteps"
   ]
  },
  {
   "cell_type": "markdown",
   "metadata": {},
   "source": [
    "**Trial:**"
   ]
  },
  {
   "cell_type": "code",
   "execution_count": 44,
   "metadata": {},
   "outputs": [
    {
     "name": "stdout",
     "output_type": "stream",
     "text": [
      "0.2\t-2.0\t0.0\t1.0\t0.0\t9170.0\n",
      "\n",
      "-2.0\n",
      "50000\n"
     ]
    }
   ],
   "source": [
    "contentsTrial, MCCycles= FileOpen(\"RunL40_Long1.txt\")\n",
    "fyrstalina = contentsTrial[6]\n",
    "print(fyrstalina)\n",
    "Values = fyrstalina.split(\"\\t\")\n",
    "print(Values[1].replace(\"\\n\",\"\"))\n",
    "print(MCCycles)"
   ]
  },
  {
   "cell_type": "markdown",
   "metadata": {},
   "source": [
    "**L = 40 run:**"
   ]
  },
  {
   "cell_type": "code",
   "execution_count": 54,
   "metadata": {},
   "outputs": [],
   "source": [
    "contentsTrial, MCCycl, SkipCycl, NoMeas, TimeMeas, Temp, EnPerPart, HeatCPerPart, AbsMagnPerPart, Susc, AccSteps = FileOpen(\"RunL40_Long1.txt\")"
   ]
  },
  {
   "cell_type": "markdown",
   "metadata": {},
   "source": [
    "**L = 60 run:**"
   ]
  },
  {
   "cell_type": "code",
   "execution_count": 68,
   "metadata": {},
   "outputs": [],
   "source": [
    "contentsTrial2, MCCycl2, SkipCycl2, NoMeas2, TimeMeas2, Temp2, EnPerPart2, HeatCPerPart2, AbsMagnPerPart2, Susc2, AccSteps2 = FileOpen(\"RunL60_Long1.txt\")"
   ]
  },
  {
   "cell_type": "markdown",
   "metadata": {},
   "source": [
    "**Plotting:**"
   ]
  },
  {
   "cell_type": "code",
   "execution_count": 70,
   "metadata": {},
   "outputs": [
    {
     "data": {
      "text/plain": [
       "<matplotlib.legend.Legend at 0x1ad9803a208>"
      ]
     },
     "execution_count": 70,
     "metadata": {},
     "output_type": "execute_result"
    },
    {
     "data": {
      "image/png": "[encoded data removed]",
      "text/plain": [
       "<Figure size 432x288 with 1 Axes>"
      ]
     },
     "metadata": {
      "needs_background": "light"
     },
     "output_type": "display_data"
    }
   ],
   "source": [
    "#Energy\n",
    "fig1,ax1 = plt.subplots()\n",
    "ax1.plot(Temp,EnPerPart,'*',label=\"L=40\")\n",
    "#ax1.plot(Temp2,EnPerPart2,'*',label=\"L=60\")\n",
    "ax1.grid(alpha=0.3)\n",
    "ax1.legend()"
   ]
  },
  {
   "cell_type": "code",
   "execution_count": 71,
   "metadata": {},
   "outputs": [
    {
     "data": {
      "text/plain": [
       "<matplotlib.legend.Legend at 0x1ad97d57cf8>"
      ]
     },
     "execution_count": 71,
     "metadata": {},
     "output_type": "execute_result"
    },
    {
     "data": {
      "image/png": "[encoded data removed]",
      "text/plain": [
       "<Figure size 432x288 with 1 Axes>"
      ]
     },
     "metadata": {
      "needs_background": "light"
     },
     "output_type": "display_data"
    }
   ],
   "source": [
    "#Heat Capacity\n",
    "fig2, ax2 = plt.subplots()\n",
    "ax2.plot(Temp,HeatCPerPart,'*',label=\"L=40\")\n",
    "ax2.grid(alpha=0.3)\n",
    "ax2.legend()"
   ]
  },
  {
   "cell_type": "code",
   "execution_count": null,
   "metadata": {},
   "outputs": [],
   "source": [
    "#Mean Magnetization\n",
    "fig3, ax3 = plt.subplots()\n",
    "ax3.plot(Temp,AbsMagnPerPart,'*',label=\"L=40\")\n",
    "ax3.grid(alpha=0.3)\n",
    "ax2.legend()"
   ]
  }
 ],
 "metadata": {
  "kernelspec": {
   "display_name": "Python 3",
   "language": "python",
   "name": "python3"
  },
  "language_info": {
   "codemirror_mode": {
    "name": "ipython",
    "version": 3
   },
   "file_extension": ".py",
   "mimetype": "text/x-python",
   "name": "python",
   "nbconvert_exporter": "python",
   "pygments_lexer": "ipython3",
   "version": "3.6.5"
  }
 },
 "nbformat": 4,
 "nbformat_minor": 2
}
