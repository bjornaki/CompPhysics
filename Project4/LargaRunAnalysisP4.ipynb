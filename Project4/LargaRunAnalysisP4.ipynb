{
 "cells": [
  {
   "cell_type": "code",
   "execution_count": 1,
   "metadata": {},
   "outputs": [],
   "source": [
    "import numpy as np \n",
    "import matplotlib.pyplot as plt"
   ]
  },
  {
   "cell_type": "code",
   "execution_count": 53,
   "metadata": {},
   "outputs": [],
   "source": [
    "def FileOpen(filename):\n",
    "    f = open(filename,\"r\")\n",
    "    Lines = f.readlines()\n",
    "    #Fetching relevant data for output\n",
    "    #Number of MC Cycles\n",
    "    MCCycles = Lines[0].split(\"\\t\")\n",
    "    MCCycles = int(MCCycles[1].replace(\"\\n\",\"\"))\n",
    "    #Number of skipped cycles\n",
    "    SkipCycles = Lines[1].split(\"\\t\")\n",
    "    SkipCycles = int(SkipCycles[1].replace(\"\\n\",\"\"))\n",
    "    #LatticeSize\n",
    "    LatticeSize = Lines[2].split(\"\\t\")\n",
    "    LatticeSize = int(LatticeSize[1].replace(\"\\n\",\"\"))\n",
    "    #Number of temperature measurements\n",
    "    NumberMeasTemp = Lines[3].split(\"\\t\")\n",
    "    NumberMeasTemp = int(NumberMeasTemp[1].replace(\"\\n\",\"\"))\n",
    "    #Lenght of measurement in seconds\n",
    "    TimeMeas = Lines[4].split(\"\\t\")\n",
    "    TimeMeas = float(TimeMeas[1].replace(\"\\n\",\"\"))\n",
    "    #Fetching all the average values from the measurement\n",
    "    Temperature = np.zeros(NumberMeasTemp)\n",
    "    EnergyPerParticle = np.zeros(NumberMeasTemp)\n",
    "    HeatCapaPerParticle = np.zeros(NumberMeasTemp)\n",
    "    AbsoluteMagnPerParticle = np.zeros(NumberMeasTemp)\n",
    "    Susceptibility = np.zeros(NumberMeasTemp)\n",
    "    NoOfAcceptedSteps = np.zeros(NumberMeasTemp)\n",
    "    #looping over next lines to fetch the information\n",
    "    for i in range(NumberMeasTemp):\n",
    "        Temp = Lines[i+6].split(\"\\t\")\n",
    "        Temperature[i] = Temp[0]\n",
    "        EnergyPerParticle[i] = Temp[1]\n",
    "        HeatCapaPerParticle[i] = Temp[2]\n",
    "        AbsoluteMagnPerParticle[i] = Temp[3]\n",
    "        Susceptibility[i] = Temp[4]\n",
    "        NoOfAcceptedSteps[i] = Temp[5]\n",
    "        \n",
    "    \n",
    "    \n",
    "    f.close()\n",
    "    return Lines, MCCycles, SkipCycles, NumberMeasTemp, TimeMeas, Temperature, EnergyPerParticle, HeatCapaPerParticle, AbsoluteMagnPerParticle, Susceptibility, NoOfAcceptedSteps"
   ]
  },
  {
   "cell_type": "markdown",
   "metadata": {},
   "source": [
    "**Trial:**"
   ]
  },
  {
   "cell_type": "code",
   "execution_count": 44,
   "metadata": {},
   "outputs": [
    {
     "name": "stdout",
     "output_type": "stream",
     "text": [
      "0.2\t-2.0\t0.0\t1.0\t0.0\t9170.0\n",
      "\n",
      "-2.0\n",
      "50000\n"
     ]
    }
   ],
   "source": [
    "contentsTrial, MCCycles= FileOpen(\"RunL40_Long1.txt\")\n",
    "fyrstalina = contentsTrial[6]\n",
    "print(fyrstalina)\n",
    "Values = fyrstalina.split(\"\\t\")\n",
    "print(Values[1].replace(\"\\n\",\"\"))\n",
    "print(MCCycles)"
   ]
  },
  {
   "cell_type": "markdown",
   "metadata": {},
   "source": [
    "**L = 4 run:**"
   ]
  },
  {
   "cell_type": "code",
   "execution_count": 81,
   "metadata": {},
   "outputs": [],
   "source": [
    "contentsTrial01, MCCycl01, SkipCycl01, NoMeas01, TimeMeas01, Temp01, EnPerPart01, HeatCPerPart01, AbsMagnPerPart01, Susc01, AccSteps01 = FileOpen(\"RunL4_Long1.txt\")"
   ]
  },
  {
   "cell_type": "markdown",
   "metadata": {},
   "source": [
    "**L = 8 run:**"
   ]
  },
  {
   "cell_type": "code",
   "execution_count": 74,
   "metadata": {},
   "outputs": [],
   "source": [
    "contentsTrial0, MCCycl0, SkipCycl0, NoMeas0, TimeMeas0, Temp0, EnPerPart0, HeatCPerPart0, AbsMagnPerPart0, Susc0, AccSteps0 = FileOpen(\"RunL8_Long1.txt\")"
   ]
  },
  {
   "cell_type": "markdown",
   "metadata": {},
   "source": [
    "**L = 16 run:**"
   ]
  },
  {
   "cell_type": "code",
   "execution_count": 92,
   "metadata": {},
   "outputs": [],
   "source": [
    "contentsTrial1, MCCycl1, SkipCycl1, NoMeas1, TimeMeas1, Temp1, EnPerPart1, HeatCPerPart1, AbsMagnPerPart1, Susc1, AccSteps1 = FileOpen(\"RunL16_Long2.txt\")"
   ]
  },
  {
   "cell_type": "markdown",
   "metadata": {},
   "source": [
    "**L = 40 run:**"
   ]
  },
  {
   "cell_type": "code",
   "execution_count": 54,
   "metadata": {},
   "outputs": [],
   "source": [
    "contentsTrial, MCCycl, SkipCycl, NoMeas, TimeMeas, Temp, EnPerPart, HeatCPerPart, AbsMagnPerPart, Susc, AccSteps = FileOpen(\"RunL40_Long1.txt\")"
   ]
  },
  {
   "cell_type": "markdown",
   "metadata": {},
   "source": [
    "**L = 60 run:**"
   ]
  },
  {
   "cell_type": "code",
   "execution_count": 68,
   "metadata": {},
   "outputs": [],
   "source": [
    "contentsTrial2, MCCycl2, SkipCycl2, NoMeas2, TimeMeas2, Temp2, EnPerPart2, HeatCPerPart2, AbsMagnPerPart2, Susc2, AccSteps2 = FileOpen(\"RunL60_Long1.txt\")"
   ]
  },
  {
   "cell_type": "markdown",
   "metadata": {},
   "source": [
    "**Plotting:**"
   ]
  },
  {
   "cell_type": "code",
   "execution_count": 93,
   "metadata": {},
   "outputs": [
    {
     "data": {
      "text/plain": [
       "<matplotlib.legend.Legend at 0x1ada0938be0>"
      ]
     },
     "execution_count": 93,
     "metadata": {},
     "output_type": "execute_result"
    },
    {
     "data": {
      "image/png": "[encoded data removed]",
      "text/plain": [
       "<Figure size 432x288 with 1 Axes>"
      ]
     },
     "metadata": {
      "needs_background": "light"
     },
     "output_type": "display_data"
    }
   ],
   "source": [
    "#Energy\n",
    "fig1,ax1 = plt.subplots()\n",
    "ax1.plot(Temp01,EnPerPart01,'*',label=\"L=4\")\n",
    "ax1.plot(Temp0,EnPerPart0,'*',label=\"L=8\")\n",
    "ax1.plot(Temp1,EnPerPart1,'*',label=\"L=16\")\n",
    "ax1.plot(Temp,EnPerPart,'*',label=\"L=40\")\n",
    "#ax1.plot(Temp2,EnPerPart2,'*',label=\"L=60\")\n",
    "ax1.grid(alpha=0.3)\n",
    "ax1.legend()"
   ]
  },
  {
   "cell_type": "code",
   "execution_count": 94,
   "metadata": {},
   "outputs": [
    {
     "data": {
      "text/plain": [
       "<matplotlib.legend.Legend at 0x1ada09b9a20>"
      ]
     },
     "execution_count": 94,
     "metadata": {},
     "output_type": "execute_result"
    },
    {
     "data": {
      "image/png": "[encoded data removed]",
      "text/plain": [
       "<Figure size 432x288 with 1 Axes>"
      ]
     },
     "metadata": {
      "needs_background": "light"
     },
     "output_type": "display_data"
    }
   ],
   "source": [
    "#Heat Capacity\n",
    "fig2, ax2 = plt.subplots()\n",
    "ax2.plot(Temp01,HeatCPerPart01,'*',label=\"L=4\")\n",
    "ax2.plot(Temp0,HeatCPerPart0,'*',label=\"L=8\")\n",
    "ax2.plot(Temp1,HeatCPerPart1,'*',label=\"L=16\")\n",
    "ax2.plot(Temp,HeatCPerPart,'*',label=\"L=40\")\n",
    "ax2.grid(alpha=0.3)\n",
    "ax2.legend()"
   ]
  },
  {
   "cell_type": "code",
   "execution_count": 95,
   "metadata": {},
   "outputs": [
    {
     "data": {
      "text/plain": [
       "<matplotlib.legend.Legend at 0x1ada0a39dd8>"
      ]
     },
     "execution_count": 95,
     "metadata": {},
     "output_type": "execute_result"
    },
    {
     "data": {
      "image/png": "[encoded data removed]",
      "text/plain": [
       "<Figure size 432x288 with 1 Axes>"
      ]
     },
     "metadata": {
      "needs_background": "light"
     },
     "output_type": "display_data"
    }
   ],
   "source": [
    "#Mean Magnetization\n",
    "fig3, ax3 = plt.subplots()\n",
    "ax3.plot(Temp01,AbsMagnPerPart01,'*',label=\"L=4\")\n",
    "ax3.plot(Temp0,AbsMagnPerPart0,'*',label=\"L=8\")\n",
    "ax3.plot(Temp1,AbsMagnPerPart1,'*',label=\"L=16\")\n",
    "ax3.plot(Temp,AbsMagnPerPart,'*',label=\"L=40\")\n",
    "ax3.grid(alpha=0.3)\n",
    "ax3.legend()"
   ]
  },
  {
   "cell_type": "code",
   "execution_count": 96,
   "metadata": {},
   "outputs": [
    {
     "data": {
      "text/plain": [
       "<matplotlib.legend.Legend at 0x1ada0ac24a8>"
      ]
     },
     "execution_count": 96,
     "metadata": {},
     "output_type": "execute_result"
    },
    {
     "data": {
      "image/png": "[encoded data removed]",
      "text/plain": [
       "<Figure size 432x288 with 1 Axes>"
      ]
     },
     "metadata": {
      "needs_background": "light"
     },
     "output_type": "display_data"
    }
   ],
   "source": [
    "#Susceptibility\n",
    "fig4, ax4 = plt.subplots()\n",
    "ax4.plot(Temp01,Susc01,'*',label=\"L=4\")\n",
    "ax4.plot(Temp0,Susc0,'*',label=\"L=8\")\n",
    "ax4.plot(Temp1,Susc1,'*',label=\"L=16\")\n",
    "ax4.plot(Temp,Susc,'*',label=\"L=40\")\n",
    "ax4.grid(alpha=0.3)\n",
    "ax4.legend()"
   ]
  },
  {
   "cell_type": "markdown",
   "metadata": {},
   "source": [
    "## Locating $T_C$:"
   ]
  },
  {
   "cell_type": "markdown",
   "metadata": {},
   "source": [
    "**Measurements taken around $T_C$, $T \\in [2.0,2.3]$**"
   ]
  },
  {
   "cell_type": "code",
   "execution_count": 103,
   "metadata": {},
   "outputs": [
    {
     "data": {
      "text/plain": [
       "<matplotlib.legend.Legend at 0x1ada0dce908>"
      ]
     },
     "execution_count": 103,
     "metadata": {},
     "output_type": "execute_result"
    },
    {
     "data": {
      "image/png": "[encoded data removed]",
      "text/plain": [
       "<Figure size 432x288 with 1 Axes>"
      ]
     },
     "metadata": {
      "needs_background": "light"
     },
     "output_type": "display_data"
    }
   ],
   "source": [
    "#Energy\n",
    "fig5,ax5 = plt.subplots()\n",
    "ax5.plot(Temp[6:21],EnPerPart[6:21],'*',label=\"L=40\")\n",
    "#ax1.plot(Temp2,EnPerPart2,'*',label=\"L=60\")\n",
    "ax5.grid(alpha=0.3)\n",
    "ax5.legend()"
   ]
  },
  {
   "cell_type": "code",
   "execution_count": 102,
   "metadata": {},
   "outputs": [
    {
     "data": {
      "text/plain": [
       "<matplotlib.legend.Legend at 0x1ada0d5c978>"
      ]
     },
     "execution_count": 102,
     "metadata": {},
     "output_type": "execute_result"
    },
    {
     "data": {
      "image/png": "[encoded data removed]",
      "text/plain": [
       "<Figure size 432x288 with 1 Axes>"
      ]
     },
     "metadata": {
      "needs_background": "light"
     },
     "output_type": "display_data"
    }
   ],
   "source": [
    "#Heat Capacity\n",
    "fig6, ax6 = plt.subplots()\n",
    "ax6.plot(Temp[6:21],HeatCPerPart[6:21],'*',label=\"L=40\")\n",
    "ax6.grid(alpha=0.3)\n",
    "ax6.legend()"
   ]
  },
  {
   "cell_type": "code",
   "execution_count": 104,
   "metadata": {},
   "outputs": [
    {
     "data": {
      "text/plain": [
       "<matplotlib.legend.Legend at 0x1ada0e460b8>"
      ]
     },
     "execution_count": 104,
     "metadata": {},
     "output_type": "execute_result"
    },
    {
     "data": {
      "image/png": "[encoded data removed]",
      "text/plain": [
       "<Figure size 432x288 with 1 Axes>"
      ]
     },
     "metadata": {
      "needs_background": "light"
     },
     "output_type": "display_data"
    }
   ],
   "source": [
    "#Mean Magnetization\n",
    "fig7, ax7 = plt.subplots()\n",
    "ax7.plot(Temp[6:21],AbsMagnPerPart[6:21],'*',label=\"L=40\")\n",
    "ax7.grid(alpha=0.3)\n",
    "ax7.legend()"
   ]
  },
  {
   "cell_type": "code",
   "execution_count": 105,
   "metadata": {},
   "outputs": [
    {
     "data": {
      "text/plain": [
       "<matplotlib.legend.Legend at 0x1ada0eb5048>"
      ]
     },
     "execution_count": 105,
     "metadata": {},
     "output_type": "execute_result"
    },
    {
     "data": {
      "image/png": "[encoded data removed]",
      "text/plain": [
       "<Figure size 432x288 with 1 Axes>"
      ]
     },
     "metadata": {
      "needs_background": "light"
     },
     "output_type": "display_data"
    }
   ],
   "source": [
    "#Susceptibility\n",
    "fig8, ax8 = plt.subplots()\n",
    "ax8.plot(Temp[6:21],Susc[6:21],'*',label=\"L=40\")\n",
    "ax8.grid(alpha=0.3)\n",
    "ax8.legend()"
   ]
  },
  {
   "cell_type": "markdown",
   "metadata": {},
   "source": [
    "## Extracting the crytical temperature:"
   ]
  },
  {
   "cell_type": "code",
   "execution_count": 115,
   "metadata": {},
   "outputs": [
    {
     "name": "stdout",
     "output_type": "stream",
     "text": [
      "[2.24096386 2.2703012 ]\n",
      "T_C(infty) =  2.2703012048192757\n"
     ]
    },
    {
     "data": {
      "image/png": "[encoded data removed]",
      "text/plain": [
       "<Figure size 432x288 with 1 Axes>"
      ]
     },
     "metadata": {
      "needs_background": "light"
     },
     "output_type": "display_data"
    }
   ],
   "source": [
    "#Actual measured value\n",
    "TC_40 = 2.325\n",
    "#Not measured yet\n",
    "TC_60 = 2.31\n",
    "TC_80 = 2.30\n",
    "TC_100 = 2.29\n",
    "\n",
    "#Plotting\n",
    "L = np.array([40,60,80,100])\n",
    "TC = np.array([TC_40,TC_60,TC_80,TC_100])\n",
    "fig9,ax9 = plt.subplots()\n",
    "ax9.plot(1/L,TC,'*')\n",
    "ax9.grid(alpha=0.3)\n",
    "\n",
    "#Doing a linear fit\n",
    "p = np.polyfit(1/L,TC,1)\n",
    "print(p)\n",
    "x = np.linspace(0,0.030,1000)\n",
    "y = np.polyval(p,x)\n",
    "ax9.plot(x,y)\n",
    "print(\"T_C(infty) = \",p[1])"
   ]
  }
 ],
 "metadata": {
  "kernelspec": {
   "display_name": "Python 3",
   "language": "python",
   "name": "python3"
  },
  "language_info": {
   "codemirror_mode": {
    "name": "ipython",
    "version": 3
   },
   "file_extension": ".py",
   "mimetype": "text/x-python",
   "name": "python",
   "nbconvert_exporter": "python",
   "pygments_lexer": "ipython3",
   "version": "3.6.5"
  }
 },
 "nbformat": 4,
 "nbformat_minor": 2
}
