{
 "cells": [
  {
   "cell_type": "markdown",
   "metadata": {},
   "source": [
    "**Importing packages that we need**"
   ]
  },
  {
   "cell_type": "code",
   "execution_count": 2,
   "metadata": {},
   "outputs": [],
   "source": [
    "import numpy as np\n",
    "import matplotlib.pyplot as plt\n",
    "from numba import jit, njit, vectorize"
   ]
  },
  {
   "cell_type": "markdown",
   "metadata": {},
   "source": [
    "**Setting up the Monte Carlo method for a NxN lattice:**"
   ]
  },
  {
   "cell_type": "code",
   "execution_count": 11,
   "metadata": {},
   "outputs": [],
   "source": [
    "#function that defines that inital state for the lattice calling a random number generator\n",
    "@jit\n",
    "def StateInitalize(N):\n",
    "    #NXN number of spins\n",
    "    Lattice = np.zeros((N,N))\n",
    "    for i in range(N):\n",
    "        for l in range(N):\n",
    "            randNum = np.random.random()\n",
    "            if randNum < 0.5:\n",
    "                Lattice[i,l] = int(-1)\n",
    "            else:\n",
    "                Lattice[i,l] = int(1)\n",
    "                \n",
    "    return Lattice"
   ]
  },
  {
   "cell_type": "code",
   "execution_count": 29,
   "metadata": {},
   "outputs": [
    {
     "name": "stdout",
     "output_type": "stream",
     "text": [
      "[[ 1. -1. -1. -1.]\n",
      " [ 1. -1. -1.  1.]\n",
      " [ 1. -1. -1. -1.]\n",
      " [-1. -1.  1. -1.]]\n"
     ]
    }
   ],
   "source": [
    "A = StateInitalize(4)\n",
    "print(A)"
   ]
  },
  {
   "cell_type": "code",
   "execution_count": 43,
   "metadata": {},
   "outputs": [],
   "source": [
    "def NeigbourInteraction(line,column,InitialState,LatticeSize):\n",
    "    M = LatticeSize\n",
    "    DeltaE = 0\n",
    "    if line == int(0):#if at the top edge of lattice\n",
    "        #State to the left\n",
    "        if column == int(0):\n",
    "            Temp1 = InitialState[line,column]*InitialState[line,column+1]#to the left\n",
    "        else:\n",
    "            Temp1 = InitialState[line,column]*InitialState[line,column-1]#to the left\n",
    "        #State to the right\n",
    "        if column == int((M-1)):\n",
    "            Temp2 = InitialState[line,column]*InitialState[line,column-1]#to the right\n",
    "        else:\n",
    "            Temp2 = InitialState[line,column]*InitialState[line,column+1]#to the right\n",
    "        #State above\n",
    "        Temp3 = InitialState[line,column]*InitialState[line+1,column]#above\n",
    "        #State below\n",
    "        Temp4 = InitialState[line,column]*InitialState[line+1,column]#below\n",
    "    if line == int((M-1)):#if at the bottom edge lattice\n",
    "        #State to the left\n",
    "        if column == int(0):\n",
    "            Temp1 = InitialState[line,column]*InitialState[line,column+1]#to the left\n",
    "        else:\n",
    "            Temp1 = InitialState[line,column]*InitialState[line,column-1]#to the left\n",
    "        #State to the right\n",
    "        if column == int((M-1)):\n",
    "            Temp2 = InitialState[line,column]*InitialState[line,column-1]#to the right\n",
    "        else:\n",
    "            Temp2 = InitialState[line,column]*InitialState[line,column+1]#to the right\n",
    "        #State above\n",
    "        Temp3 = InitialState[line,column]*InitialState[line-1,column]#above\n",
    "        #State below\n",
    "        Temp4 = InitialState[line,column]*InitialState[line-1,column]#below\n",
    "    #Then check if at left or right edges or inside\n",
    "    else:\n",
    "        #State to the left\n",
    "        if column == int(0):\n",
    "            Temp1 = InitialState[line,column]*InitialState[line,column+1]#to the left\n",
    "        else:\n",
    "            Temp1 = InitialState[line,column]*InitialState[line,column-1]#to the left\n",
    "        #State to the right\n",
    "        if column == int((M-1)):\n",
    "            Temp2 = InitialState[line,column]*InitialState[line,column-1]#to the right\n",
    "        else:\n",
    "            Temp2 = InitialState[line,column]*InitialState[line,column+1]#to the right\n",
    "        #State above\n",
    "        Temp3 = InitialState[line,column]*InitialState[line+1,column]#above\n",
    "        #State below\n",
    "        Temp4 = InitialState[line,column]*InitialState[line-1,column]#below\n",
    "\n",
    "    DeltaE = -(Temp1 + Temp2 + Temp3 + Temp4)\n",
    "\n",
    "    return DeltaE"
   ]
  },
  {
   "cell_type": "code",
   "execution_count": 45,
   "metadata": {},
   "outputs": [
    {
     "name": "stdout",
     "output_type": "stream",
     "text": [
      "13 3 1\n",
      "-2.0\n",
      "14 3 2\n",
      "2.0\n",
      "0 0 0\n",
      "2.0\n",
      "9 2 1\n",
      "-2.0\n",
      "6 1 2\n",
      "-0.0\n",
      "3 0 3\n",
      "2.0\n",
      "11 2 3\n",
      "2.0\n",
      "6 1 2\n",
      "-0.0\n",
      "8 2 0\n",
      "2.0\n",
      "3 0 3\n",
      "-2.0\n"
     ]
    }
   ],
   "source": [
    "def MonteCarloIsing(InitialState,NumOfCycles,LatticeSize):\n",
    "    M = LatticeSize\n",
    "    MC = NumOfCycles\n",
    "    for i in range(MC):#Looping over the number of MC cycles\n",
    "        #picking a random coordinate in the lattice\n",
    "        randNum = np.random.randint(M*M)\n",
    "        line = int(np.floor(randNum/M))#finding the relavant line in the lattice\n",
    "        column = int(randNum - M*line)#finding the relavant column in the lattice\n",
    "        #print(randNum,line,column)\n",
    "        #flipping the spin at that position\n",
    "        if InitialState[line,column] == 1:\n",
    "            InitialState[line,column] = int(-1)\n",
    "        else:\n",
    "            InitialState[line,column] = int(1)\n",
    "        #finding the difference in energy - using periodic boundary conditions\n",
    "        #NEED to take into account can be on both left/right and top/bottom\n",
    "        DeltaE = NeigbourInteraction(line,column,InitialState,M)\n",
    "        \n",
    "        print(DeltaE)\n",
    "        \n",
    "\n",
    "MonteCarloIsing(A,10,4)"
   ]
  }
 ],
 "metadata": {
  "kernelspec": {
   "display_name": "Python 3",
   "language": "python",
   "name": "python3"
  },
  "language_info": {
   "codemirror_mode": {
    "name": "ipython",
    "version": 3
   },
   "file_extension": ".py",
   "mimetype": "text/x-python",
   "name": "python",
   "nbconvert_exporter": "python",
   "pygments_lexer": "ipython3",
   "version": "3.6.5"
  }
 },
 "nbformat": 4,
 "nbformat_minor": 2
}
