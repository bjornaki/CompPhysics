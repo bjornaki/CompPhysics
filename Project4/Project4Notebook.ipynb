{
 "cells": [
  {
   "cell_type": "markdown",
   "metadata": {},
   "source": [
    "**Importing packages that we need**"
   ]
  },
  {
   "cell_type": "code",
   "execution_count": 2,
   "metadata": {},
   "outputs": [],
   "source": [
    "import numpy as np\n",
    "import matplotlib.pyplot as plt\n",
    "from numba import jit, njit, vectorize"
   ]
  },
  {
   "cell_type": "markdown",
   "metadata": {},
   "source": [
    "**Setting up the Monte Carlo method for a NxN lattice:**"
   ]
  },
  {
   "cell_type": "code",
   "execution_count": 3,
   "metadata": {},
   "outputs": [],
   "source": [
    "#function that defines that inital state for the lattice calling a random number generator\n",
    "@jit()\n",
    "def StateInitalize(N):\n",
    "    #NXN number of spins\n",
    "    Lattice = np.zeros((N,N))\n",
    "    for i in range(N):\n",
    "        for l in range(N):\n",
    "            randNum = np.random.random()\n",
    "            if randNum < 0.5:\n",
    "                Lattice[i,l] = int(-1)\n",
    "            else:\n",
    "                Lattice[i,l] = int(1)\n",
    "                \n",
    "    return Lattice"
   ]
  },
  {
   "cell_type": "markdown",
   "metadata": {},
   "source": [
    "**NeigbourInteraction is a function that calculates the change in energy upon flipping one spin:**"
   ]
  },
  {
   "cell_type": "code",
   "execution_count": 7,
   "metadata": {},
   "outputs": [],
   "source": [
    "@jit()\n",
    "def NeigbourInteraction(line,column,InitialState,LatticeSize):\n",
    "    M = LatticeSize\n",
    "    DeltaE = 0\n",
    "    if line == int(0):#if at the top edge of lattice\n",
    "        #State to the left\n",
    "        if column == int(0):\n",
    "            Temp1 = InitialState[line,column]*InitialState[line,column+1]#to the left\n",
    "        else:\n",
    "            Temp1 = InitialState[line,column]*InitialState[line,column-1]#to the left\n",
    "        #State to the right\n",
    "        if column == int((M-1)):\n",
    "            Temp2 = InitialState[line,column]*InitialState[line,column-1]#to the right\n",
    "        else:\n",
    "            Temp2 = InitialState[line,column]*InitialState[line,column+1]#to the right\n",
    "        #State above\n",
    "        Temp3 = InitialState[line,column]*InitialState[line+1,column]#above\n",
    "        #State below\n",
    "        Temp4 = InitialState[line,column]*InitialState[line+1,column]#below\n",
    "    if line == int((M-1)):#if at the bottom edge lattice\n",
    "        #State to the left\n",
    "        if column == int(0):\n",
    "            Temp1 = InitialState[line,column]*InitialState[line,column+1]#to the left\n",
    "        else:\n",
    "            Temp1 = InitialState[line,column]*InitialState[line,column-1]#to the left\n",
    "        #State to the right\n",
    "        if column == int((M-1)):\n",
    "            Temp2 = InitialState[line,column]*InitialState[line,column-1]#to the right\n",
    "        else:\n",
    "            Temp2 = InitialState[line,column]*InitialState[line,column+1]#to the right\n",
    "        #State above\n",
    "        Temp3 = InitialState[line,column]*InitialState[line-1,column]#above\n",
    "        #State below\n",
    "        Temp4 = InitialState[line,column]*InitialState[line-1,column]#below\n",
    "    #Then check if at left or right edges or inside\n",
    "    else:\n",
    "        #State to the left\n",
    "        if column == int(0):\n",
    "            Temp1 = InitialState[line,column]*InitialState[line,column+1]#to the left\n",
    "        else:\n",
    "            Temp1 = InitialState[line,column]*InitialState[line,column-1]#to the left\n",
    "        #State to the right\n",
    "        if column == int((M-1)):\n",
    "            Temp2 = InitialState[line,column]*InitialState[line,column-1]#to the right\n",
    "        else:\n",
    "            Temp2 = InitialState[line,column]*InitialState[line,column+1]#to the right\n",
    "        #State above\n",
    "        Temp3 = InitialState[line,column]*InitialState[line+1,column]#above\n",
    "        #State below\n",
    "        Temp4 = InitialState[line,column]*InitialState[line-1,column]#below\n",
    "\n",
    "    DeltaE = -(Temp1 + Temp2 + Temp3 + Temp4)\n",
    "    DeltaE = DeltaE*2\n",
    "    #print(\"DeltaE is:\",DeltaE)\n",
    "    return DeltaE"
   ]
  },
  {
   "cell_type": "markdown",
   "metadata": {},
   "source": [
    "**Calculating the energy of the lattice according to the Ising model with periodic boundary conditions:**"
   ]
  },
  {
   "cell_type": "code",
   "execution_count": 8,
   "metadata": {},
   "outputs": [],
   "source": [
    "def LatticeEnergyIsing(InitialState,LatticeSize):\n",
    "    #M = LatticeSize\n",
    "    N,M = np.shape(InitialState)\n",
    "    Energy = 0\n",
    "    #print(\"Inital Energy:\",Energy)\n",
    "    for i in range(M):#loop over lines\n",
    "        for j in range(M):#loop over columns\n",
    "            Acceptance = (np.mod(i,2)+np.mod(j,2) == 0) or (np.mod(i,2)+np.mod(j,2) == 2)\n",
    "            #print(Acceptance)\n",
    "            if Acceptance:\n",
    "                if (i == 0 and j == 0):#if at the top and left edge of lattice\n",
    "                    Temp1 = InitialState[i,j]*InitialState[i,j+1]#to the right\n",
    "                    Temp2 = InitialState[i,j]*InitialState[i,j+1]#to the left\n",
    "                    Temp3 = InitialState[i,j]*InitialState[i+1,j]#above\n",
    "                    Temp4 = InitialState[i,j]*InitialState[i+1,j]#below\n",
    "                    Energy += - (Temp1 + Temp2 + Temp3 + Temp4)\n",
    "                elif (i == 0 and j == (M-1)):#if at the top and right edge of lattice\n",
    "                    Temp1 = InitialState[i,j]*InitialState[i,j-1]#to the right\n",
    "                    Temp2 = InitialState[i,j]*InitialState[i,j-1]#to the left\n",
    "                    Temp3 = InitialState[i,j]*InitialState[i+1,j]#above\n",
    "                    Temp4 = InitialState[i,j]*InitialState[i+1,j]#below\n",
    "                    Energy += - (Temp1 + Temp2 + Temp3 + Temp4)\n",
    "                elif (i == (M-1) and j == 0):#if at the bottom and left edge of lattice\n",
    "                    Temp1 = InitialState[i,j]*InitialState[i,j+1]#to the right\n",
    "                    Temp2 = InitialState[i,j]*InitialState[i,j+1]#to the left\n",
    "                    Temp3 = InitialState[i,j]*InitialState[i-1,j]#above\n",
    "                    Temp4 = InitialState[i,j]*InitialState[i-1,j]#below\n",
    "                    Energy += - (Temp1 + Temp2 + Temp3 + Temp4)\n",
    "                elif (i == (M-1) and j == (M-1)):#if at the bottom and right edge of lattice\n",
    "                    Temp1 = InitialState[i,j]*InitialState[i,j-1]#to the right\n",
    "                    Temp2 = InitialState[i,j]*InitialState[i,j-1]#to the left\n",
    "                    Temp3 = InitialState[i,j]*InitialState[i-1,j]#above\n",
    "                    Temp4 = InitialState[i,j]*InitialState[i-1,j]#below\n",
    "                    Energy += - (Temp1 + Temp2 + Temp3 + Temp4)\n",
    "                elif i == 0:#if only at top edge\n",
    "                    Temp1 = InitialState[i,j]*InitialState[i,j+1]#to the right\n",
    "                    Temp2 = InitialState[i,j]*InitialState[i,j-1]#to the left\n",
    "                    Temp3 = InitialState[i,j]*InitialState[i+1,j]#above\n",
    "                    Temp4 = InitialState[i,j]*InitialState[i+1,j]#below\n",
    "                    Energy += - (Temp1 + Temp2 + Temp3 + Temp4)\n",
    "                elif i == (M-1):#if only at bottom edge\n",
    "                    Temp1 = InitialState[i,j]*InitialState[i,j+1]#to the right\n",
    "                    Temp2 = InitialState[i,j]*InitialState[i,j-1]#to the left\n",
    "                    Temp3 = InitialState[i,j]*InitialState[i-1,j]#above\n",
    "                    Temp4 = InitialState[i,j]*InitialState[i-1,j]#below\n",
    "                    Energy += - (Temp1 + Temp2 + Temp3 + Temp4)\n",
    "                elif j == 0:#if only at left edge\n",
    "                    Temp1 = InitialState[i,j]*InitialState[i,j+1]#to the right\n",
    "                    Temp2 = InitialState[i,j]*InitialState[i,j+1]#to the left\n",
    "                    Temp3 = InitialState[i,j]*InitialState[i-1,j]#above\n",
    "                    Temp4 = InitialState[i,j]*InitialState[i+1,j]#below\n",
    "                    Energy += - (Temp1 + Temp2 + Temp3 + Temp4)\n",
    "                elif j == (M-1):#if only at right edge\n",
    "                    Temp1 = InitialState[i,j]*InitialState[i,j-1]#to the right\n",
    "                    Temp2 = InitialState[i,j]*InitialState[i,j-1]#to the left\n",
    "                    Temp3 = InitialState[i,j]*InitialState[i-1,j]#above\n",
    "                    Temp4 = InitialState[i,j]*InitialState[i+1,j]#below\n",
    "                    Energy += - (Temp1 + Temp2 + Temp3 + Temp4)\n",
    "                else:#if somewhere in the middle\n",
    "                    Temp1 = InitialState[i,j]*InitialState[i,j-1]#to the right\n",
    "                    Temp2 = InitialState[i,j]*InitialState[i,j+1]#to the left\n",
    "                    Temp3 = InitialState[i,j]*InitialState[i-1,j]#above\n",
    "                    Temp4 = InitialState[i,j]*InitialState[i+1,j]#below\n",
    "                    Energy += - (Temp1 + Temp2 + Temp3 + Temp4)\n",
    "                \n",
    "    return Energy"
   ]
  },
  {
   "cell_type": "code",
   "execution_count": 10,
   "metadata": {},
   "outputs": [
    {
     "name": "stdout",
     "output_type": "stream",
     "text": [
      "[[1 1]\n",
      " [1 1]]\n",
      "The energy according to Ising Model: -8\n"
     ]
    }
   ],
   "source": [
    "#Trial of energy\n",
    "B = np.array([[1,1],[1,1]])\n",
    "print(B)\n",
    "EnergyTrial = LatticeEnergyIsing(B,2)\n",
    "print(\"The energy according to Ising Model:\", EnergyTrial)"
   ]
  },
  {
   "cell_type": "markdown",
   "metadata": {},
   "source": [
    "**Metropolis part:**"
   ]
  },
  {
   "cell_type": "code",
   "execution_count": 11,
   "metadata": {},
   "outputs": [],
   "source": [
    "def Metropolis(DeltaEnergy,Temperature):\n",
    "    Accept = False\n",
    "    Exp1 = np.exp(-(1/Temperature)*(-8))\n",
    "    Exp2 = np.exp(-(1/Temperature)*(-4))\n",
    "    Exp3 = 1\n",
    "    Exp4 = np.exp(-(1/Temperature)*(4))\n",
    "    Exp5 = np.exp(-(1/Temperature)*(8))\n",
    "    if DeltaEnergy < 0:\n",
    "        Accept = True\n",
    "    else:\n",
    "        randNum = np.random.random()\n",
    "        if DeltaEnergy == -8:\n",
    "            w = Exp1\n",
    "        elif DeltaEnergy == -4:\n",
    "            w = Exp2\n",
    "        elif DeltaEnergy == 0:\n",
    "            w = Exp3\n",
    "        elif DeltaEnergy == 4:\n",
    "            w = Exp4\n",
    "        else:\n",
    "            w = Exp5\n",
    "        #Checking w agains the exponent and accepting if r <= w\n",
    "        if randNum <= w:\n",
    "            Accept = True\n",
    "        else:\n",
    "            Accept = False\n",
    "            \n",
    "    return Accept"
   ]
  },
  {
   "cell_type": "markdown",
   "metadata": {},
   "source": [
    "**The Monte Carlo calculation itself:**"
   ]
  },
  {
   "cell_type": "code",
   "execution_count": 43,
   "metadata": {},
   "outputs": [],
   "source": [
    "def MonteCarloIsing(InitialState1,NumOfCycles,LatticeSize,Temperature):\n",
    "    EnergyVector = []\n",
    "    T = Temperature\n",
    "    M = LatticeSize\n",
    "    print(InitialState1)\n",
    "    EnergyMatrix = InitialState1\n",
    "    InitialState = InitialState1#Setting a lattice for overwriting\n",
    "    #Calculating the initial energy\n",
    "    Energy = LatticeEnergyIsing(EnergyMatrix,M)\n",
    "    #print(Energy)\n",
    "    MC = NumOfCycles\n",
    "    CounterAcceptance = 0#Counter to see how many moves are accepted\n",
    "    for i in range(MC):#Looping over the number of MC cycles\n",
    "        #picking a random coordinate in the lattice\n",
    "        randNum = np.random.randint(M*M)\n",
    "        line = int(np.floor(randNum/M))#finding the relavant line in the lattice\n",
    "        column = int(randNum - M*line)#finding the relavant column in the lattice\n",
    "        #print(randNum,line,column)\n",
    "        #flipping the spin at that position\n",
    "        TempState = InitialState.copy()\n",
    "        #print(InitialState[line,column])\n",
    "        #print(InitialState)\n",
    "        if InitialState[line,column] == 1:\n",
    "            TempState[line,column] = int(-1)\n",
    "            tempValue = int(-1)#setting temp value to the assign to the system if move is accepted\n",
    "            #print(\"obs\",line,column)\n",
    "            #print(\"State where spin flipped:\")\n",
    "            #print(TempState)\n",
    "            #print(\"Initial State:\")\n",
    "            #print(InitialState)#Inital state er af einhverju ástæðum að breytast eins og temp state!!!\n",
    "        else:\n",
    "            TempState[line,column] = int(1)\n",
    "            tempValue = int(1)#setting temp value to the assign to the system if move is accepted\n",
    "        #finding the difference in energy - using periodic boundary conditions\n",
    "        DeltaE = NeigbourInteraction(line,column,TempState,M)\n",
    "        Acceptance = Metropolis(DeltaE,T)\n",
    "        #print(Acceptance)\n",
    "        #print(DeltaE)\n",
    "        #Metropolis part\n",
    "        if Acceptance:\n",
    "            InitialState[line,column] = tempValue\n",
    "            CounterAcceptance += 1   \n",
    "        Energy = LatticeEnergyIsing(InitialState,M)#Þarf að taka alltaf gildin á orkunni!!!\n",
    "        #print(Energy)\n",
    "        EnergyVector.append(Energy)\n",
    "        #End of MC loop\n",
    "        \n",
    "    #print(InitialState)\n",
    "    #print(Energy)\n",
    "    FinalEnergy = LatticeEnergyIsing(InitialState,M)\n",
    "    #Calculating average energy per particle\n",
    "    TotalEnergy = sum(EnergyVector)\n",
    "    #print(TotalEnergy)\n",
    "    AverageEnergy = TotalEnergy/MC\n",
    "    EnergyPerParticle = AverageEnergy/(M*M)\n",
    "\n",
    "    return FinalEnergy, CounterAcceptance, EnergyVector, EnergyPerParticle"
   ]
  },
  {
   "cell_type": "markdown",
   "metadata": {},
   "source": [
    "**Trying the algo:**"
   ]
  },
  {
   "cell_type": "code",
   "execution_count": 49,
   "metadata": {},
   "outputs": [
    {
     "name": "stdout",
     "output_type": "stream",
     "text": [
      "[[-1. -1.]\n",
      " [-1.  1.]]\n",
      "-8.0\n",
      "15\n",
      "-1.966\n"
     ]
    }
   ],
   "source": [
    "A = StateInitalize(2)\n",
    "EnergyMC, AcceptedMoves, EnergyAll, EnergyPerPart = MonteCarloIsing(A,1000,2,1)\n",
    "print(EnergyMC)\n",
    "print(AcceptedMoves)\n",
    "print(EnergyPerPart)"
   ]
  },
  {
   "cell_type": "code",
   "execution_count": 50,
   "metadata": {},
   "outputs": [
    {
     "name": "stdout",
     "output_type": "stream",
     "text": [
      "[ 0  1  2  3  4  5  6  7  8  9 10 11 12 13 14]\n"
     ]
    },
    {
     "ename": "ValueError",
     "evalue": "x and y must have same first dimension, but have shapes (15,) and (1000,)",
     "output_type": "error",
     "traceback": [
      "\u001b[1;31m---------------------------------------------------------------------------\u001b[0m",
      "\u001b[1;31mValueError\u001b[0m                                Traceback (most recent call last)",
      "\u001b[1;32m<ipython-input-50-31443e7b0a77>\u001b[0m in \u001b[0;36m<module>\u001b[1;34m\u001b[0m\n\u001b[0;32m      2\u001b[0m \u001b[0mSteps\u001b[0m \u001b[1;33m=\u001b[0m \u001b[0mnp\u001b[0m\u001b[1;33m.\u001b[0m\u001b[0marange\u001b[0m\u001b[1;33m(\u001b[0m\u001b[1;36m0\u001b[0m\u001b[1;33m,\u001b[0m\u001b[0mAcceptedMoves\u001b[0m\u001b[1;33m)\u001b[0m\u001b[1;33m\u001b[0m\u001b[0m\n\u001b[0;32m      3\u001b[0m \u001b[0mprint\u001b[0m\u001b[1;33m(\u001b[0m\u001b[0mSteps\u001b[0m\u001b[1;33m)\u001b[0m\u001b[1;33m\u001b[0m\u001b[0m\n\u001b[1;32m----> 4\u001b[1;33m \u001b[0max\u001b[0m\u001b[1;33m.\u001b[0m\u001b[0mplot\u001b[0m\u001b[1;33m(\u001b[0m\u001b[0mSteps\u001b[0m\u001b[1;33m,\u001b[0m\u001b[0mEnergyAll\u001b[0m\u001b[1;33m,\u001b[0m\u001b[1;34m'*'\u001b[0m\u001b[1;33m)\u001b[0m\u001b[1;33m\u001b[0m\u001b[0m\n\u001b[0m",
      "\u001b[1;32m~\\Anaconda3\\lib\\site-packages\\matplotlib\\axes\\_axes.py\u001b[0m in \u001b[0;36mplot\u001b[1;34m(self, scalex, scaley, data, *args, **kwargs)\u001b[0m\n\u001b[0;32m   1664\u001b[0m         \"\"\"\n\u001b[0;32m   1665\u001b[0m         \u001b[0mkwargs\u001b[0m \u001b[1;33m=\u001b[0m \u001b[0mcbook\u001b[0m\u001b[1;33m.\u001b[0m\u001b[0mnormalize_kwargs\u001b[0m\u001b[1;33m(\u001b[0m\u001b[0mkwargs\u001b[0m\u001b[1;33m,\u001b[0m \u001b[0mmlines\u001b[0m\u001b[1;33m.\u001b[0m\u001b[0mLine2D\u001b[0m\u001b[1;33m.\u001b[0m\u001b[0m_alias_map\u001b[0m\u001b[1;33m)\u001b[0m\u001b[1;33m\u001b[0m\u001b[0m\n\u001b[1;32m-> 1666\u001b[1;33m         \u001b[0mlines\u001b[0m \u001b[1;33m=\u001b[0m \u001b[1;33m[\u001b[0m\u001b[1;33m*\u001b[0m\u001b[0mself\u001b[0m\u001b[1;33m.\u001b[0m\u001b[0m_get_lines\u001b[0m\u001b[1;33m(\u001b[0m\u001b[1;33m*\u001b[0m\u001b[0margs\u001b[0m\u001b[1;33m,\u001b[0m \u001b[0mdata\u001b[0m\u001b[1;33m=\u001b[0m\u001b[0mdata\u001b[0m\u001b[1;33m,\u001b[0m \u001b[1;33m**\u001b[0m\u001b[0mkwargs\u001b[0m\u001b[1;33m)\u001b[0m\u001b[1;33m]\u001b[0m\u001b[1;33m\u001b[0m\u001b[0m\n\u001b[0m\u001b[0;32m   1667\u001b[0m         \u001b[1;32mfor\u001b[0m \u001b[0mline\u001b[0m \u001b[1;32min\u001b[0m \u001b[0mlines\u001b[0m\u001b[1;33m:\u001b[0m\u001b[1;33m\u001b[0m\u001b[0m\n\u001b[0;32m   1668\u001b[0m             \u001b[0mself\u001b[0m\u001b[1;33m.\u001b[0m\u001b[0madd_line\u001b[0m\u001b[1;33m(\u001b[0m\u001b[0mline\u001b[0m\u001b[1;33m)\u001b[0m\u001b[1;33m\u001b[0m\u001b[0m\n",
      "\u001b[1;32m~\\Anaconda3\\lib\\site-packages\\matplotlib\\axes\\_base.py\u001b[0m in \u001b[0;36m__call__\u001b[1;34m(self, *args, **kwargs)\u001b[0m\n\u001b[0;32m    223\u001b[0m                 \u001b[0mthis\u001b[0m \u001b[1;33m+=\u001b[0m \u001b[0margs\u001b[0m\u001b[1;33m[\u001b[0m\u001b[1;36m0\u001b[0m\u001b[1;33m]\u001b[0m\u001b[1;33m,\u001b[0m\u001b[1;33m\u001b[0m\u001b[0m\n\u001b[0;32m    224\u001b[0m                 \u001b[0margs\u001b[0m \u001b[1;33m=\u001b[0m \u001b[0margs\u001b[0m\u001b[1;33m[\u001b[0m\u001b[1;36m1\u001b[0m\u001b[1;33m:\u001b[0m\u001b[1;33m]\u001b[0m\u001b[1;33m\u001b[0m\u001b[0m\n\u001b[1;32m--> 225\u001b[1;33m             \u001b[1;32myield\u001b[0m \u001b[1;32mfrom\u001b[0m \u001b[0mself\u001b[0m\u001b[1;33m.\u001b[0m\u001b[0m_plot_args\u001b[0m\u001b[1;33m(\u001b[0m\u001b[0mthis\u001b[0m\u001b[1;33m,\u001b[0m \u001b[0mkwargs\u001b[0m\u001b[1;33m)\u001b[0m\u001b[1;33m\u001b[0m\u001b[0m\n\u001b[0m\u001b[0;32m    226\u001b[0m \u001b[1;33m\u001b[0m\u001b[0m\n\u001b[0;32m    227\u001b[0m     \u001b[1;32mdef\u001b[0m \u001b[0mget_next_color\u001b[0m\u001b[1;33m(\u001b[0m\u001b[0mself\u001b[0m\u001b[1;33m)\u001b[0m\u001b[1;33m:\u001b[0m\u001b[1;33m\u001b[0m\u001b[0m\n",
      "\u001b[1;32m~\\Anaconda3\\lib\\site-packages\\matplotlib\\axes\\_base.py\u001b[0m in \u001b[0;36m_plot_args\u001b[1;34m(self, tup, kwargs)\u001b[0m\n\u001b[0;32m    389\u001b[0m             \u001b[0mx\u001b[0m\u001b[1;33m,\u001b[0m \u001b[0my\u001b[0m \u001b[1;33m=\u001b[0m \u001b[0mindex_of\u001b[0m\u001b[1;33m(\u001b[0m\u001b[0mtup\u001b[0m\u001b[1;33m[\u001b[0m\u001b[1;33m-\u001b[0m\u001b[1;36m1\u001b[0m\u001b[1;33m]\u001b[0m\u001b[1;33m)\u001b[0m\u001b[1;33m\u001b[0m\u001b[0m\n\u001b[0;32m    390\u001b[0m \u001b[1;33m\u001b[0m\u001b[0m\n\u001b[1;32m--> 391\u001b[1;33m         \u001b[0mx\u001b[0m\u001b[1;33m,\u001b[0m \u001b[0my\u001b[0m \u001b[1;33m=\u001b[0m \u001b[0mself\u001b[0m\u001b[1;33m.\u001b[0m\u001b[0m_xy_from_xy\u001b[0m\u001b[1;33m(\u001b[0m\u001b[0mx\u001b[0m\u001b[1;33m,\u001b[0m \u001b[0my\u001b[0m\u001b[1;33m)\u001b[0m\u001b[1;33m\u001b[0m\u001b[0m\n\u001b[0m\u001b[0;32m    392\u001b[0m \u001b[1;33m\u001b[0m\u001b[0m\n\u001b[0;32m    393\u001b[0m         \u001b[1;32mif\u001b[0m \u001b[0mself\u001b[0m\u001b[1;33m.\u001b[0m\u001b[0mcommand\u001b[0m \u001b[1;33m==\u001b[0m \u001b[1;34m'plot'\u001b[0m\u001b[1;33m:\u001b[0m\u001b[1;33m\u001b[0m\u001b[0m\n",
      "\u001b[1;32m~\\Anaconda3\\lib\\site-packages\\matplotlib\\axes\\_base.py\u001b[0m in \u001b[0;36m_xy_from_xy\u001b[1;34m(self, x, y)\u001b[0m\n\u001b[0;32m    268\u001b[0m         \u001b[1;32mif\u001b[0m \u001b[0mx\u001b[0m\u001b[1;33m.\u001b[0m\u001b[0mshape\u001b[0m\u001b[1;33m[\u001b[0m\u001b[1;36m0\u001b[0m\u001b[1;33m]\u001b[0m \u001b[1;33m!=\u001b[0m \u001b[0my\u001b[0m\u001b[1;33m.\u001b[0m\u001b[0mshape\u001b[0m\u001b[1;33m[\u001b[0m\u001b[1;36m0\u001b[0m\u001b[1;33m]\u001b[0m\u001b[1;33m:\u001b[0m\u001b[1;33m\u001b[0m\u001b[0m\n\u001b[0;32m    269\u001b[0m             raise ValueError(\"x and y must have same first dimension, but \"\n\u001b[1;32m--> 270\u001b[1;33m                              \"have shapes {} and {}\".format(x.shape, y.shape))\n\u001b[0m\u001b[0;32m    271\u001b[0m         \u001b[1;32mif\u001b[0m \u001b[0mx\u001b[0m\u001b[1;33m.\u001b[0m\u001b[0mndim\u001b[0m \u001b[1;33m>\u001b[0m \u001b[1;36m2\u001b[0m \u001b[1;32mor\u001b[0m \u001b[0my\u001b[0m\u001b[1;33m.\u001b[0m\u001b[0mndim\u001b[0m \u001b[1;33m>\u001b[0m \u001b[1;36m2\u001b[0m\u001b[1;33m:\u001b[0m\u001b[1;33m\u001b[0m\u001b[0m\n\u001b[0;32m    272\u001b[0m             raise ValueError(\"x and y can be no greater than 2-D, but have \"\n",
      "\u001b[1;31mValueError\u001b[0m: x and y must have same first dimension, but have shapes (15,) and (1000,)"
     ]
    },
    {
     "data": {
      "image/png": "[encoded data removed]",
      "text/plain": [
       "<Figure size 432x288 with 1 Axes>"
      ]
     },
     "metadata": {
      "needs_background": "light"
     },
     "output_type": "display_data"
    }
   ],
   "source": [
    "fig, ax = plt.subplots()\n",
    "Steps = np.arange(0,AcceptedMoves)\n",
    "print(Steps)\n",
    "ax.plot(Steps,EnergyAll,'*')"
   ]
  },
  {
   "cell_type": "markdown",
   "metadata": {},
   "source": [
    "**NEED TO ADRESS THE FACT THAT I AM COUNTING TWICE!!**"
   ]
  },
  {
   "cell_type": "code",
   "execution_count": 14,
   "metadata": {},
   "outputs": [
    {
     "name": "stdout",
     "output_type": "stream",
     "text": [
      "-1\n",
      "[[ 1  1]\n",
      " [-1  1]]\n",
      "[[-1  1]\n",
      " [-1  1]]\n"
     ]
    }
   ],
   "source": [
    "print(int(-1))\n",
    "C = np.array([[1,1],[-1,1]])\n",
    "print(C)\n",
    "C[0,0] = int(-1)\n",
    "print(C)"
   ]
  }
 ],
 "metadata": {
  "kernelspec": {
   "display_name": "Python 3",
   "language": "python",
   "name": "python3"
  },
  "language_info": {
   "codemirror_mode": {
    "name": "ipython",
    "version": 3
   },
   "file_extension": ".py",
   "mimetype": "text/x-python",
   "name": "python",
   "nbconvert_exporter": "python",
   "pygments_lexer": "ipython3",
   "version": "3.6.5"
  }
 },
 "nbformat": 4,
 "nbformat_minor": 2
}
