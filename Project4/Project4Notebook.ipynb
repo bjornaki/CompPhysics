{
 "cells": [
  {
   "cell_type": "markdown",
   "metadata": {},
   "source": [
    "**Importing packages that we need**"
   ]
  },
  {
   "cell_type": "code",
   "execution_count": 2,
   "metadata": {},
   "outputs": [],
   "source": [
    "import numpy as np\n",
    "import matplotlib.pyplot as plt\n",
    "from numba import jit, njit, vectorize"
   ]
  },
  {
   "cell_type": "markdown",
   "metadata": {},
   "source": [
    "**Setting up the Monte Carlo method for a NxN lattice:**"
   ]
  },
  {
   "cell_type": "code",
   "execution_count": 11,
   "metadata": {},
   "outputs": [],
   "source": [
    "#function that defines that inital state for the lattice calling a random number generator\n",
    "@jit\n",
    "def StateInitalize(N):\n",
    "    #NXN number of spins\n",
    "    Lattice = np.zeros((N,N))\n",
    "    for i in range(N):\n",
    "        for l in range(N):\n",
    "            randNum = np.random.random()\n",
    "            if randNum < 0.5:\n",
    "                Lattice[i,l] = int(-1)\n",
    "            else:\n",
    "                Lattice[i,l] = int(1)\n",
    "                \n",
    "    return Lattice"
   ]
  },
  {
   "cell_type": "code",
   "execution_count": 29,
   "metadata": {},
   "outputs": [
    {
     "name": "stdout",
     "output_type": "stream",
     "text": [
      "[[ 1. -1. -1. -1.]\n",
      " [ 1. -1. -1.  1.]\n",
      " [ 1. -1. -1. -1.]\n",
      " [-1. -1.  1. -1.]]\n"
     ]
    }
   ],
   "source": [
    "A = StateInitalize(4)\n",
    "print(A)"
   ]
  },
  {
   "cell_type": "code",
   "execution_count": 31,
   "metadata": {},
   "outputs": [],
   "source": [
    "def MonteCarloIsing(InitialState,NumOfCycles,LatticeSize):\n",
    "    M = LatticeSize\n",
    "    MC = NumOfCycles\n",
    "    for i in range(MC):#Looping over the number of MC cycles\n",
    "        #picking a random coordinate in the lattice\n",
    "        randNum = np.random.randint(M*M)\n",
    "        line = int(np.floor(randNum/M))#finding the relavant line in the lattice\n",
    "        column = int(randNum - M*line)#finding the relavant column in the lattice\n",
    "        print(randNum,line,column)\n",
    "        #flipping the spin at that position\n",
    "        if InitialState[line,column] == 1:\n",
    "            InitialState[line,column] = int(-1)\n",
    "        else:\n",
    "            InitialState[line,column] = int(1)\n",
    "        #finding the difference in energy - using periodic boundary conditions\n",
    "        if line == 0:#if at the top edge of lattice\n",
    "            Temp1 = InitialState[line,column]*InitialState[line,column-1]#to the left\n",
    "            Temp2 = InitialState[line,column]*InitialState[line,column+1]#to the right\n",
    "            Temp3 = InitialState[line,column]*InitialState[line+1,column]#above\n",
    "            Temp4 = InitialState[line,column]*InitialState[line+1,column]#below\n",
    "        if line == (M-1):#if at the bottom edge lattice\n",
    "            Temp1 = InitialState[line,column]*InitialState[line,column-1]#to the left\n",
    "            Temp2 = InitialState[line,column]*InitialState[line,column+1]#to the right\n",
    "            Temp3 = InitialState[line,column]*InitialState[line-1,column]#above\n",
    "            Temp4 = InitialState[line,column]*InitialState[line-1,column]#below\n",
    "        if column == 0:#if at the left edge\n",
    "            Temp1 = InitialState[line,column]*InitialState[line,column+1]#to the left\n",
    "            Temp2 = InitialState[line,column]*InitialState[line,column+1]#to the right\n",
    "            Temp3 = InitialState[line,column]*InitialState[line+1,column]#above\n",
    "            Temp4 = InitialState[line,column]*InitialState[line+1,column]#below\n",
    "        if column == (M-1):#if at the right edge\n",
    "            Temp1 = InitialState[line,column]*InitialState[line,column-1]#to the left\n",
    "            Temp2 = InitialState[line,column]*InitialState[line,column-1]#to the right\n",
    "            Temp3 = InitialState[line,column]*InitialState[line+1,column]#above\n",
    "            Temp4 = InitialState[line,column]*InitialState[line+1,column]#below\n",
    "        else:\n",
    "            Temp1 = InitialState[line,column]*InitialState[line,column-1]#to the left\n",
    "            Temp2 = InitialState[line,column]*InitialState[line,column+1]#to the right\n",
    "            Temp3 = InitialState[line,column]*InitialState[line+1,column]#above\n",
    "            Temp4 = InitialState[line,column]*InitialState[line-1,column]#below\n",
    "            \n",
    "        DeltaE = -(Temp1 + Temp2 + Temp3 + Temp4)\n",
    "        \n",
    "        print(DeltaE)\n",
    "        "
   ]
  },
  {
   "cell_type": "code",
   "execution_count": 32,
   "metadata": {},
   "outputs": [
    {
     "name": "stdout",
     "output_type": "stream",
     "text": [
      "11 2 3\n",
      "4.0\n",
      "3 0 3\n"
     ]
    },
    {
     "ename": "IndexError",
     "evalue": "index 4 is out of bounds for axis 1 with size 4",
     "output_type": "error",
     "traceback": [
      "\u001b[1;31m---------------------------------------------------------------------------\u001b[0m",
      "\u001b[1;31mIndexError\u001b[0m                                Traceback (most recent call last)",
      "\u001b[1;32m<ipython-input-32-ac38f2f647e4>\u001b[0m in \u001b[0;36m<module>\u001b[1;34m\u001b[0m\n\u001b[1;32m----> 1\u001b[1;33m \u001b[0mMonteCarloIsing\u001b[0m\u001b[1;33m(\u001b[0m\u001b[0mA\u001b[0m\u001b[1;33m,\u001b[0m\u001b[1;36m10\u001b[0m\u001b[1;33m,\u001b[0m\u001b[1;36m4\u001b[0m\u001b[1;33m)\u001b[0m\u001b[1;33m\u001b[0m\u001b[0m\n\u001b[0m",
      "\u001b[1;32m<ipython-input-31-85b1d2f53371>\u001b[0m in \u001b[0;36mMonteCarloIsing\u001b[1;34m(InitialState, NumOfCycles, LatticeSize)\u001b[0m\n\u001b[0;32m     16\u001b[0m         \u001b[1;32mif\u001b[0m \u001b[0mline\u001b[0m \u001b[1;33m==\u001b[0m \u001b[1;36m0\u001b[0m\u001b[1;33m:\u001b[0m\u001b[1;31m#if at the top edge of lattice\u001b[0m\u001b[1;33m\u001b[0m\u001b[0m\n\u001b[0;32m     17\u001b[0m             \u001b[0mTemp1\u001b[0m \u001b[1;33m=\u001b[0m \u001b[0mInitialState\u001b[0m\u001b[1;33m[\u001b[0m\u001b[0mline\u001b[0m\u001b[1;33m,\u001b[0m\u001b[0mcolumn\u001b[0m\u001b[1;33m]\u001b[0m\u001b[1;33m*\u001b[0m\u001b[0mInitialState\u001b[0m\u001b[1;33m[\u001b[0m\u001b[0mline\u001b[0m\u001b[1;33m,\u001b[0m\u001b[0mcolumn\u001b[0m\u001b[1;33m-\u001b[0m\u001b[1;36m1\u001b[0m\u001b[1;33m]\u001b[0m\u001b[1;31m#to the left\u001b[0m\u001b[1;33m\u001b[0m\u001b[0m\n\u001b[1;32m---> 18\u001b[1;33m             \u001b[0mTemp2\u001b[0m \u001b[1;33m=\u001b[0m \u001b[0mInitialState\u001b[0m\u001b[1;33m[\u001b[0m\u001b[0mline\u001b[0m\u001b[1;33m,\u001b[0m\u001b[0mcolumn\u001b[0m\u001b[1;33m]\u001b[0m\u001b[1;33m*\u001b[0m\u001b[0mInitialState\u001b[0m\u001b[1;33m[\u001b[0m\u001b[0mline\u001b[0m\u001b[1;33m,\u001b[0m\u001b[0mcolumn\u001b[0m\u001b[1;33m+\u001b[0m\u001b[1;36m1\u001b[0m\u001b[1;33m]\u001b[0m\u001b[1;31m#to the right\u001b[0m\u001b[1;33m\u001b[0m\u001b[0m\n\u001b[0m\u001b[0;32m     19\u001b[0m             \u001b[0mTemp3\u001b[0m \u001b[1;33m=\u001b[0m \u001b[0mInitialState\u001b[0m\u001b[1;33m[\u001b[0m\u001b[0mline\u001b[0m\u001b[1;33m,\u001b[0m\u001b[0mcolumn\u001b[0m\u001b[1;33m]\u001b[0m\u001b[1;33m*\u001b[0m\u001b[0mInitialState\u001b[0m\u001b[1;33m[\u001b[0m\u001b[0mline\u001b[0m\u001b[1;33m+\u001b[0m\u001b[1;36m1\u001b[0m\u001b[1;33m,\u001b[0m\u001b[0mcolumn\u001b[0m\u001b[1;33m]\u001b[0m\u001b[1;31m#above\u001b[0m\u001b[1;33m\u001b[0m\u001b[0m\n\u001b[0;32m     20\u001b[0m             \u001b[0mTemp4\u001b[0m \u001b[1;33m=\u001b[0m \u001b[0mInitialState\u001b[0m\u001b[1;33m[\u001b[0m\u001b[0mline\u001b[0m\u001b[1;33m,\u001b[0m\u001b[0mcolumn\u001b[0m\u001b[1;33m]\u001b[0m\u001b[1;33m*\u001b[0m\u001b[0mInitialState\u001b[0m\u001b[1;33m[\u001b[0m\u001b[0mline\u001b[0m\u001b[1;33m+\u001b[0m\u001b[1;36m1\u001b[0m\u001b[1;33m,\u001b[0m\u001b[0mcolumn\u001b[0m\u001b[1;33m]\u001b[0m\u001b[1;31m#below\u001b[0m\u001b[1;33m\u001b[0m\u001b[0m\n",
      "\u001b[1;31mIndexError\u001b[0m: index 4 is out of bounds for axis 1 with size 4"
     ]
    }
   ],
   "source": [
    "MonteCarloIsing(A,10,4)"
   ]
  }
 ],
 "metadata": {
  "kernelspec": {
   "display_name": "Python 3",
   "language": "python",
   "name": "python3"
  },
  "language_info": {
   "codemirror_mode": {
    "name": "ipython",
    "version": 3
   },
   "file_extension": ".py",
   "mimetype": "text/x-python",
   "name": "python",
   "nbconvert_exporter": "python",
   "pygments_lexer": "ipython3",
   "version": "3.6.5"
  }
 },
 "nbformat": 4,
 "nbformat_minor": 2
}
