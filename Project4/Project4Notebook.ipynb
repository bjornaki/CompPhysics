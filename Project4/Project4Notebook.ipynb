{
 "cells": [
  {
   "cell_type": "markdown",
   "metadata": {},
   "source": [
    "**Importing packages that we need**"
   ]
  },
  {
   "cell_type": "code",
   "execution_count": 1,
   "metadata": {},
   "outputs": [],
   "source": [
    "import numpy as np\n",
    "import matplotlib.pyplot as plt\n",
    "from numba import jit, njit, vectorize, prange\n",
    "import numba as numba\n",
    "import time"
   ]
  },
  {
   "cell_type": "markdown",
   "metadata": {},
   "source": [
    "**Setting up the Monte Carlo method for a NxN lattice:**"
   ]
  },
  {
   "cell_type": "code",
   "execution_count": 2,
   "metadata": {},
   "outputs": [],
   "source": [
    "#function that defines that inital state for the lattice calling a random number generator\n",
    "@jit()\n",
    "def StateInitalize(N):\n",
    "    #NXN number of spins\n",
    "    Lattice = np.zeros((N,N))\n",
    "    for i in range(N):\n",
    "        for l in range(N):\n",
    "            randNum = np.random.random()\n",
    "            if randNum < 0.5:\n",
    "                Lattice[i,l] = int(-1)\n",
    "            else:\n",
    "                Lattice[i,l] = int(1)\n",
    "                \n",
    "    return Lattice"
   ]
  },
  {
   "cell_type": "markdown",
   "metadata": {},
   "source": [
    "**NeigbourInteraction is a function that calculates the change in energy upon flipping one spin:**"
   ]
  },
  {
   "cell_type": "code",
   "execution_count": 3,
   "metadata": {},
   "outputs": [],
   "source": [
    "@jit()\n",
    "def NeigbourInteraction(line,column,InitialState,LatticeSize):\n",
    "    M = LatticeSize\n",
    "    DeltaE = 0\n",
    "    if line == int(0):#if at the top edge of lattice\n",
    "        #State to the left\n",
    "        if column == int(0):\n",
    "            Temp1 = InitialState[line,column]*InitialState[line,column+1]#to the left\n",
    "        else:\n",
    "            Temp1 = InitialState[line,column]*InitialState[line,column-1]#to the left\n",
    "        #State to the right\n",
    "        if column == int((M-1)):\n",
    "            Temp2 = InitialState[line,column]*InitialState[line,column-1]#to the right\n",
    "        else:\n",
    "            Temp2 = InitialState[line,column]*InitialState[line,column+1]#to the right\n",
    "        #State above\n",
    "        Temp3 = InitialState[line,column]*InitialState[line+1,column]#above\n",
    "        #State below\n",
    "        Temp4 = InitialState[line,column]*InitialState[line+1,column]#below\n",
    "    if line == int((M-1)):#if at the bottom edge lattice\n",
    "        #State to the left\n",
    "        if column == int(0):\n",
    "            Temp1 = InitialState[line,column]*InitialState[line,column+1]#to the left\n",
    "        else:\n",
    "            Temp1 = InitialState[line,column]*InitialState[line,column-1]#to the left\n",
    "        #State to the right\n",
    "        if column == int((M-1)):\n",
    "            Temp2 = InitialState[line,column]*InitialState[line,column-1]#to the right\n",
    "        else:\n",
    "            Temp2 = InitialState[line,column]*InitialState[line,column+1]#to the right\n",
    "        #State above\n",
    "        Temp3 = InitialState[line,column]*InitialState[line-1,column]#above\n",
    "        #State below\n",
    "        Temp4 = InitialState[line,column]*InitialState[line-1,column]#below\n",
    "    #Then check if at left or right edges or inside\n",
    "    else:\n",
    "        #State to the left\n",
    "        if column == int(0):\n",
    "            Temp1 = InitialState[line,column]*InitialState[line,column+1]#to the left\n",
    "        else:\n",
    "            Temp1 = InitialState[line,column]*InitialState[line,column-1]#to the left\n",
    "        #State to the right\n",
    "        if column == int((M-1)):\n",
    "            Temp2 = InitialState[line,column]*InitialState[line,column-1]#to the right\n",
    "        else:\n",
    "            Temp2 = InitialState[line,column]*InitialState[line,column+1]#to the right\n",
    "        #State above\n",
    "        Temp3 = InitialState[line,column]*InitialState[line+1,column]#above\n",
    "        #State below\n",
    "        Temp4 = InitialState[line,column]*InitialState[line-1,column]#below\n",
    "\n",
    "    DeltaE = -(Temp1 + Temp2 + Temp3 + Temp4)\n",
    "    DeltaE = DeltaE*2\n",
    "    #print(\"DeltaE is:\",DeltaE)\n",
    "    return DeltaE"
   ]
  },
  {
   "cell_type": "markdown",
   "metadata": {},
   "source": [
    "**Function that calculates the Magnetization:**"
   ]
  },
  {
   "cell_type": "code",
   "execution_count": 4,
   "metadata": {},
   "outputs": [],
   "source": [
    "@jit()\n",
    "def Magnetization(Lattice):\n",
    "    N,M = np.shape(Lattice)\n",
    "    Magnetization = 0\n",
    "    for i in range(M):#looping over lines\n",
    "        for j in range(M):#looping over colums\n",
    "            Magnetization += Lattice[i,j]#Adding the spin value at location i,j\n",
    "            \n",
    "    return Magnetization"
   ]
  },
  {
   "cell_type": "code",
   "execution_count": 6,
   "metadata": {},
   "outputs": [
    {
     "name": "stdout",
     "output_type": "stream",
     "text": [
      "2\n"
     ]
    }
   ],
   "source": [
    "#Trial of Magnetization function\n",
    "LatticeA = np.array([[1,-1],[1,1]])\n",
    "Magn = Magnetization(LatticeA)\n",
    "print(Magn)"
   ]
  },
  {
   "cell_type": "markdown",
   "metadata": {},
   "source": [
    "**Calculating the energy of the lattice according to the Ising model with periodic boundary conditions:**"
   ]
  },
  {
   "cell_type": "code",
   "execution_count": 7,
   "metadata": {},
   "outputs": [],
   "source": [
    "@jit()\n",
    "def LatticeEnergyIsing(InitialState,LatticeSize):\n",
    "    #M = LatticeSize\n",
    "    N,M = np.shape(InitialState)\n",
    "    Energy = 0\n",
    "    #print(\"Inital Energy:\",Energy)\n",
    "    for i in range(M):#loop over lines\n",
    "        for j in range(M):#loop over columns\n",
    "            Acceptance = (np.mod(i,2)+np.mod(j,2) == 0) or (np.mod(i,2)+np.mod(j,2) == 2)\n",
    "            #print(Acceptance)\n",
    "            if Acceptance:\n",
    "                if (i == 0 and j == 0):#if at the top and left edge of lattice\n",
    "                    Temp1 = InitialState[i,j]*InitialState[i,j+1]#to the right\n",
    "                    Temp2 = InitialState[i,j]*InitialState[i,j+1]#to the left\n",
    "                    Temp3 = InitialState[i,j]*InitialState[i+1,j]#above\n",
    "                    Temp4 = InitialState[i,j]*InitialState[i+1,j]#below\n",
    "                    Energy += - (Temp1 + Temp2 + Temp3 + Temp4)\n",
    "                elif (i == 0 and j == (M-1)):#if at the top and right edge of lattice\n",
    "                    Temp1 = InitialState[i,j]*InitialState[i,j-1]#to the right\n",
    "                    Temp2 = InitialState[i,j]*InitialState[i,j-1]#to the left\n",
    "                    Temp3 = InitialState[i,j]*InitialState[i+1,j]#above\n",
    "                    Temp4 = InitialState[i,j]*InitialState[i+1,j]#below\n",
    "                    Energy += - (Temp1 + Temp2 + Temp3 + Temp4)\n",
    "                elif (i == (M-1) and j == 0):#if at the bottom and left edge of lattice\n",
    "                    Temp1 = InitialState[i,j]*InitialState[i,j+1]#to the right\n",
    "                    Temp2 = InitialState[i,j]*InitialState[i,j+1]#to the left\n",
    "                    Temp3 = InitialState[i,j]*InitialState[i-1,j]#above\n",
    "                    Temp4 = InitialState[i,j]*InitialState[i-1,j]#below\n",
    "                    Energy += - (Temp1 + Temp2 + Temp3 + Temp4)\n",
    "                elif (i == (M-1) and j == (M-1)):#if at the bottom and right edge of lattice\n",
    "                    Temp1 = InitialState[i,j]*InitialState[i,j-1]#to the right\n",
    "                    Temp2 = InitialState[i,j]*InitialState[i,j-1]#to the left\n",
    "                    Temp3 = InitialState[i,j]*InitialState[i-1,j]#above\n",
    "                    Temp4 = InitialState[i,j]*InitialState[i-1,j]#below\n",
    "                    Energy += - (Temp1 + Temp2 + Temp3 + Temp4)\n",
    "                elif i == 0:#if only at top edge\n",
    "                    Temp1 = InitialState[i,j]*InitialState[i,j+1]#to the right\n",
    "                    Temp2 = InitialState[i,j]*InitialState[i,j-1]#to the left\n",
    "                    Temp3 = InitialState[i,j]*InitialState[i+1,j]#above\n",
    "                    Temp4 = InitialState[i,j]*InitialState[i+1,j]#below\n",
    "                    Energy += - (Temp1 + Temp2 + Temp3 + Temp4)\n",
    "                elif i == (M-1):#if only at bottom edge\n",
    "                    Temp1 = InitialState[i,j]*InitialState[i,j+1]#to the right\n",
    "                    Temp2 = InitialState[i,j]*InitialState[i,j-1]#to the left\n",
    "                    Temp3 = InitialState[i,j]*InitialState[i-1,j]#above\n",
    "                    Temp4 = InitialState[i,j]*InitialState[i-1,j]#below\n",
    "                    Energy += - (Temp1 + Temp2 + Temp3 + Temp4)\n",
    "                elif j == 0:#if only at left edge\n",
    "                    Temp1 = InitialState[i,j]*InitialState[i,j+1]#to the right\n",
    "                    Temp2 = InitialState[i,j]*InitialState[i,j+1]#to the left\n",
    "                    Temp3 = InitialState[i,j]*InitialState[i-1,j]#above\n",
    "                    Temp4 = InitialState[i,j]*InitialState[i+1,j]#below\n",
    "                    Energy += - (Temp1 + Temp2 + Temp3 + Temp4)\n",
    "                elif j == (M-1):#if only at right edge\n",
    "                    Temp1 = InitialState[i,j]*InitialState[i,j-1]#to the right\n",
    "                    Temp2 = InitialState[i,j]*InitialState[i,j-1]#to the left\n",
    "                    Temp3 = InitialState[i,j]*InitialState[i-1,j]#above\n",
    "                    Temp4 = InitialState[i,j]*InitialState[i+1,j]#below\n",
    "                    Energy += - (Temp1 + Temp2 + Temp3 + Temp4)\n",
    "                else:#if somewhere in the middle\n",
    "                    Temp1 = InitialState[i,j]*InitialState[i,j-1]#to the right\n",
    "                    Temp2 = InitialState[i,j]*InitialState[i,j+1]#to the left\n",
    "                    Temp3 = InitialState[i,j]*InitialState[i-1,j]#above\n",
    "                    Temp4 = InitialState[i,j]*InitialState[i+1,j]#below\n",
    "                    Energy += - (Temp1 + Temp2 + Temp3 + Temp4)\n",
    "                \n",
    "    return Energy"
   ]
  },
  {
   "cell_type": "code",
   "execution_count": 9,
   "metadata": {},
   "outputs": [
    {
     "name": "stdout",
     "output_type": "stream",
     "text": [
      "[[1 1]\n",
      " [1 1]]\n",
      "The energy according to Ising Model: -8\n"
     ]
    }
   ],
   "source": [
    "#Trial of energy\n",
    "B = np.array([[1,1],[1,1]])\n",
    "print(B)\n",
    "EnergyTrial = LatticeEnergyIsing(B,2)\n",
    "print(\"The energy according to Ising Model:\", EnergyTrial)"
   ]
  },
  {
   "cell_type": "markdown",
   "metadata": {},
   "source": [
    "**Metropolis part:**"
   ]
  },
  {
   "cell_type": "code",
   "execution_count": 10,
   "metadata": {},
   "outputs": [],
   "source": [
    "@jit()\n",
    "def Metropolis(DeltaEnergy,Temperature):\n",
    "    Accept = False\n",
    "    Exp1 = np.exp(-(1/Temperature)*(-8))\n",
    "    Exp2 = np.exp(-(1/Temperature)*(-4))\n",
    "    Exp3 = 1\n",
    "    Exp4 = np.exp(-(1/Temperature)*(4))\n",
    "    Exp5 = np.exp(-(1/Temperature)*(8))\n",
    "    if DeltaEnergy < 0:\n",
    "        Accept = True\n",
    "    else:\n",
    "        randNum = np.random.random()\n",
    "        if DeltaEnergy == -8:\n",
    "            w = Exp1\n",
    "        elif DeltaEnergy == -4:\n",
    "            w = Exp2\n",
    "        elif DeltaEnergy == 0:\n",
    "            w = Exp3\n",
    "        elif DeltaEnergy == 4:\n",
    "            w = Exp4\n",
    "        else:\n",
    "            w = Exp5\n",
    "        #Checking w agains the exponent and accepting if r <= w\n",
    "        if randNum <= w:\n",
    "            Accept = True\n",
    "        else:\n",
    "            Accept = False\n",
    "            \n",
    "    return Accept"
   ]
  },
  {
   "cell_type": "markdown",
   "metadata": {},
   "source": [
    "**The Monte Carlo calculation itself:**"
   ]
  },
  {
   "cell_type": "code",
   "execution_count": 64,
   "metadata": {},
   "outputs": [],
   "source": [
    "@jit(nopython=True)\n",
    "def MonteCarloIsing(InitialState1,NumOfCycles,LatticeSize,Temperature):\n",
    "    EnergyVector = np.zeros(NumOfCycles-80001)\n",
    "    MagnetizationVector = np.zeros(NumOfCycles-80001)\n",
    "    M = LatticeSize\n",
    "    NSpins = M*M#Number of spins\n",
    "    EnergyMatrix = InitialState1\n",
    "    InitialState = InitialState1#Setting a lattice for overwriting\n",
    "    #Calculating the initial energy\n",
    "    Energy = LatticeEnergyIsing(EnergyMatrix,M)\n",
    "    #print(Energy)\n",
    "    MC = NumOfCycles\n",
    "    SkipCycles = 80001#Number of cycles to skip for the system to reach its most likely state\n",
    "    CounterAcceptance = 0#Counter to see how many moves are accepted\n",
    "    EnergyValue = 0\n",
    "    EnergyValueSquared = 0\n",
    "    MagnValue = 0\n",
    "    MagnValueSquared = 0\n",
    "    MagnValueAbs = 0\n",
    "    norm = 1/MC\n",
    "    T = Temperature\n",
    "    counter = 0\n",
    "    for i in range(MC):#Looping over the number of MC cycles\n",
    "        #picking a random coordinate in the lattice\n",
    "        randNum = np.random.randint(M*M)\n",
    "        line = int(np.floor(randNum/M))#finding the relavant line in the lattice\n",
    "        column = int(randNum - M*line)#finding the relavant column in the lattice\n",
    "        #print(randNum,line,column)\n",
    "        #flipping the spin at that position\n",
    "        TempState = InitialState.copy()\n",
    "        #print(InitialState[line,column])\n",
    "        #print(InitialState)\n",
    "        if InitialState[line,column] == 1:\n",
    "            TempState[line,column] = int(-1)\n",
    "            tempValue = int(-1)#setting temp value to the assign to the system if move is accepted\n",
    "        else:\n",
    "            TempState[line,column] = int(1)\n",
    "            tempValue = int(1)#setting temp value to the assign to the system if move is accepted\n",
    "        #finding the difference in energy - using periodic boundary conditions\n",
    "        DeltaE = NeigbourInteraction(line,column,TempState,M)\n",
    "        Acceptance = Metropolis(DeltaE,T)\n",
    "        #Metropolis part\n",
    "        if Acceptance:\n",
    "            InitialState[line,column] = tempValue\n",
    "            CounterAcceptance += 1  \n",
    "        #Appending Energy and other relevant variables for calculations\n",
    "        Energy = LatticeEnergyIsing(InitialState,M)#Þarf að taka alltaf gildin á orkunni!!!\n",
    "        if i > 80000:#Accounting for time that it takes to reach the most likely state\n",
    "            EnergyVector[counter] = Energy\n",
    "            EnergyValue += Energy\n",
    "            EnergyValueSquared += Energy**2\n",
    "            #Magnetization\n",
    "            MagnetiZ = Magnetization(InitialState)\n",
    "            MagnetizationVector[counter] = MagnetiZ\n",
    "            MagnValue += MagnetiZ\n",
    "            MagnValueSquared += MagnetiZ**2\n",
    "            MagnValueAbs += abs(MagnetiZ)\n",
    "            counter += 1\n",
    "        #End of MC loop\n",
    "\n",
    "    #print(InitialState)\n",
    "    MC = MC - SkipCycles\n",
    "    #print(Energy)\n",
    "    FinalEnergy = LatticeEnergyIsing(InitialState,M)\n",
    "    #Calculating average energy per particle\n",
    "    #TotalEnergy = sum(EnergyVector)\n",
    "    AverageEnergy = EnergyValue/MC\n",
    "    AverageEnergySquared = EnergyValueSquared/MC\n",
    "    #Energy per spin\n",
    "    EnergyPerParticle = AverageEnergy/NSpins\n",
    "    #Variance in Energy\n",
    "    EnergyVariancePerSpin = (AverageEnergySquared - AverageEnergy**2)/NSpins\n",
    "    #Specific Heat - SPURNING hvað ég að nota fyrir Boltzmanns fasta\n",
    "    k = 1\n",
    "    SpecificHeat = (1/(k*(T**2)))*EnergyVariancePerSpin\n",
    "    #Magnetization\n",
    "    AverageMagnetization = MagnValue/MC\n",
    "    AverageMagnetizationPerPar = AverageMagnetization/NSpins\n",
    "    AverageMagnetizationSquared = MagnValueSquared/MC\n",
    "    AverageMagnetizationAbs = MagnValueAbs/MC\n",
    "    AverageMagnetizationAbsPerSpin = AverageMagnetizationAbs/NSpins\n",
    "    #Variance in Magnetization\n",
    "    MagnetizationVariancePerSpin = (AverageMagnetizationSquared - AverageMagnetization**2)/(NSpins)\n",
    "    #Susceptibility\n",
    "    Susceptibility = (1/(k*T))*MagnetizationVariancePerSpin\n",
    "\n",
    "    return CounterAcceptance, EnergyVector, EnergyPerParticle, AverageMagnetizationPerPar, AverageMagnetizationAbsPerSpin, SpecificHeat, Susceptibility"
   ]
  },
  {
   "cell_type": "markdown",
   "metadata": {},
   "source": [
    "## Parallelized Monte Carlo:\n",
    "\n",
    "**Eitthvað sem fer vel úr skorðum við útreikninga!!! Möguleg lausn að kalla á gamla fallið sem gerir alla útreikninga og annað yfirfall sem sér bara um að skipta á milli þráða samkvæmt hitastigi**"
   ]
  },
  {
   "cell_type": "code",
   "execution_count": 39,
   "metadata": {},
   "outputs": [],
   "source": [
    "@jit(nopython=True,parallel=True)\n",
    "def MonteCarloIsingParallel(InitialState1,NumOfCycles,LatticeSize,Temperature,Time):\n",
    "    EnergyVector = np.zeros(NumOfCycles-80001)\n",
    "    MagnetizationVector = np.zeros(NumOfCycles-80001)\n",
    "    M = LatticeSize\n",
    "    NSpins = M*M#Number of spins\n",
    "    EnergyMatrix = InitialState1\n",
    "    InitialState = InitialState1#Setting a lattice for overwriting\n",
    "    #Calculating the initial energy\n",
    "    Energy = LatticeEnergyIsing(EnergyMatrix,M)\n",
    "    #print(Energy)\n",
    "    MC = NumOfCycles\n",
    "    SkipCycles = 80001#Number of cycles to skip for the system to reach its most likely state\n",
    "    CounterAcceptance = np.zeros(len(Temperature))#Counter to see how many moves are accepted\n",
    "    EnergyValue = np.zeros(len(Temperature))\n",
    "    EnergyValueSquared = np.zeros(len(Temperature))\n",
    "    MagnValue = np.zeros(len(Temperature))\n",
    "    MagnValueSquared = np.zeros(len(Temperature))\n",
    "    MagnValueAbs = np.zeros(len(Temperature))\n",
    "    norm = 1/MC\n",
    "    #Parallelization\n",
    "    counter = np.zeros(len(Temperature))\n",
    "    T = Temperature\n",
    "    for j in prange(len(Temperature)):\n",
    "        np.random.seed(Time*(j+1))#Seeding differently for each thread if they start at the same time\n",
    "        tempTemp = T[j]\n",
    "        for i in range(MC):#Looping over the number of MC cycles\n",
    "            #picking a random coordinate in the lattice\n",
    "            randNum = np.random.randint(M*M)\n",
    "            line = int(np.floor(randNum/M))#finding the relavant line in the lattice\n",
    "            column = int(randNum - M*line)#finding the relavant column in the lattice\n",
    "            #print(randNum,line,column)\n",
    "            #flipping the spin at that position\n",
    "            TempState = InitialState.copy()\n",
    "            #print(InitialState[line,column])\n",
    "            #print(InitialState)\n",
    "            if InitialState[line,column] == 1:\n",
    "                TempState[line,column] = int(-1)\n",
    "                tempValue = int(-1)#setting temp value to the assign to the system if move is accepted\n",
    "            else:\n",
    "                TempState[line,column] = int(1)\n",
    "                tempValue = int(1)#setting temp value to the assign to the system if move is accepted\n",
    "            #finding the difference in energy - using periodic boundary conditions\n",
    "            DeltaE = NeigbourInteraction(line,column,TempState,M)\n",
    "            Acceptance = Metropolis(DeltaE,tempTemp)\n",
    "            #Metropolis part\n",
    "            if Acceptance:\n",
    "                InitialState[line,column] = tempValue\n",
    "                CounterAcceptance[j] += 1  \n",
    "            #Appending Energy and other relevant variables for calculations\n",
    "            Energy = LatticeEnergyIsing(InitialState,M)#Þarf að taka alltaf gildin á orkunni!!!\n",
    "            if i > 80000:#Accounting for time that it takes to reach the most likely state\n",
    "                #EnergyVector[counter] = Energy\n",
    "                EnergyValue[j] += Energy\n",
    "                EnergyValueSquared[j] += Energy**2\n",
    "                #Magnetization\n",
    "                MagnetiZ = Magnetization(InitialState)\n",
    "                #MagnetizationVector[counter] = MagnetiZ\n",
    "                MagnValue[j] += MagnetiZ\n",
    "                MagnValueSquared[j] += MagnetiZ**2\n",
    "                MagnValueAbs[j] += np.absolute(MagnetiZ)\n",
    "                counter[j] += 1\n",
    "            #End of MC loop\n",
    "\n",
    "    #print(InitialState)\n",
    "    MC = MC - SkipCycles\n",
    "    #print(Energy)\n",
    "    #FinalEnergy = LatticeEnergyIsing(InitialState,M)\n",
    "    #Calculating average energy per particle\n",
    "    #TotalEnergy = sum(EnergyVector)\n",
    "    AverageEnergy = EnergyValue/MC\n",
    "    AverageEnergySquared = EnergyValueSquared/MC\n",
    "    #Energy per spin\n",
    "    EnergyPerParticle = AverageEnergy/NSpins\n",
    "    #Magnetization\n",
    "    AverageMagnetization = MagnValue/MC\n",
    "    AverageMagnetizationPerPar = AverageMagnetization/NSpins\n",
    "    AverageMagnetizationSquared = MagnValueSquared/MC\n",
    "    AverageMagnetizationAbs = MagnValueAbs/MC\n",
    "    AverageMagnetizationAbsPerSpin = AverageMagnetizationAbs/NSpins\n",
    "    #Calculating the rest\n",
    "    EnergyVariancePerSpin = np.zeros(len(T))\n",
    "    #SpecificHeat = np.zeros(len(T))\n",
    "    MagnetizationVariancePerSpin = np.zeros(len(T))\n",
    "    Susceptibility = np.zeros(len(T))\n",
    "    #for i in range(len(T)):#Eitthvað flipp í gangi hér!!\n",
    "    #Variance in Energy\n",
    "    EnergyVariancePerSpin = (AverageEnergySquared - AverageEnergy**2)/NSpins\n",
    "    #Variance in Magnetization\n",
    "    MagnetizationVariancePerSpin = (AverageMagnetizationSquared - AverageMagnetization**2)/(NSpins)\n",
    "    #Specific Heat - SPURNING hvað ég að nota fyrir Boltzmanns fasta\n",
    "    k = 1\n",
    "    SpecificHeat = (1/(k*(T**2)))*EnergyVariancePerSpin\n",
    "    #Susceptibility\n",
    "    Susceptibility = (1/(k*T))*MagnetizationVariancePerSpin\n",
    "\n",
    "    return CounterAcceptance, EnergyVector, EnergyPerParticle, AverageMagnetizationPerPar, AverageMagnetizationAbsPerSpin, SpecificHeat, Susceptibility"
   ]
  },
  {
   "cell_type": "markdown",
   "metadata": {},
   "source": [
    "**Alternative MC parallelized:**"
   ]
  },
  {
   "cell_type": "code",
   "execution_count": 89,
   "metadata": {},
   "outputs": [],
   "source": [
    "@jit(nopython=True,parallel=True)\n",
    "def MonteCarloIsingParallel2(State,NumOfCycles,L,Temperature,Time):\n",
    "    #Calling the original MCIsing with Temperature Parallized\n",
    "    T = Temperature\n",
    "    CounterAccept = np.zeros(len(T))\n",
    "    EnergyPerPart = np.zeros(len(T))\n",
    "    AverageMagnPerPart = np.zeros(len(T))\n",
    "    AverageMagnPerPartAbs = np.zeros(len(T))\n",
    "    SpecificHeat = np.zeros(len(T))\n",
    "    Susceptibility = np.zeros(len(T))\n",
    "    for i in prange(len(T)):\n",
    "        np.random.seed(Time*(i+1))#Seeding differently for each thread if they start at the same time\n",
    "        #Calling the original MC Ising\n",
    "        TempState = State.copy()\n",
    "        CountAcc, EnergyVec, EnPerPa, AvMagnPePa, AvMagnPePaAbs, SpeHeat, Susc = MonteCarloIsing(TempState,NumOfCycles,L,T[i])\n",
    "        CounterAccept[i] = CountAcc\n",
    "        EnergyPerPart[i] = EnPerPa\n",
    "        AverageMagnPerPart[i] = AvMagnPePa\n",
    "        AverageMagnPerPartAbs[i] = AvMagnPePaAbs\n",
    "        SpecificHeat[i] = SpeHeat\n",
    "        Susceptibility[i] = Susc\n",
    "        \n",
    "    return CounterAccept, EnergyPerPart, AverageMagnPerPart, AverageMagnPerPartAbs, SpecificHeat, Susceptibility"
   ]
  },
  {
   "cell_type": "code",
   "execution_count": 73,
   "metadata": {},
   "outputs": [
    {
     "name": "stdout",
     "output_type": "stream",
     "text": [
      "[0.2 0.3 0.4 0.5 0.6 0.7 0.8 0.9 1.  1.1 1.2 1.3 1.4 1.5 1.6 1.7 1.8 1.9]\n",
      "-1.9579186933898842 -0.8719521053827232\n",
      "-1.9645740049717446 -0.9897961139088194\n",
      "-1.9972606981094545 -0.9992723905134678\n",
      "-2.0 -1.0\n",
      "-1.8608715661647457 -0.6278924868396596\n",
      "-1.9481792371513447 0.9842884068352248\n",
      "-2.0 -1.0\n",
      "-1.9928836118300128 -0.9980122532741883\n",
      "-1.9996024723939916 -0.999899070542468\n",
      "-1.9242141621893065 -0.9763812188926292\n",
      "-1.9873019046759834 -0.9965542951677121\n",
      "-2.0 -1.0\n",
      "-1.9987800693261624 -0.999675939865152\n",
      "-1.8888492922274915 0.9635274603559352\n",
      "-1.9790272435078733 -0.9940991457599411\n",
      "-1.7946118528389703 0.17995436408083051\n",
      "-1.8501900871631383 -0.9503195329560141\n",
      "-1.789643662656155 0.9160271750295381\n",
      "The measurement took, in seconds: 25.56398916244507\n",
      "Number of Accepted moves: [  938.   702.  1730.  4218.  2520. 10134.   918.  1608.  1656.  3444.\n",
      "  4398.  6729. 12891. 18167. 22836. 36429. 48652. 68540.]\n",
      "Energy per particle: [-2.         -2.         -2.         -1.79461185 -1.95791869 -1.86087157\n",
      " -1.99960247 -1.99878007 -1.9972607  -1.99288361 -1.9873019  -1.97902724\n",
      " -1.964574   -1.94817924 -1.92421416 -1.88884929 -1.85019009 -1.78964366]\n",
      "The Average magnetization per spin is: [-1.         -1.         -1.          0.17995436 -0.87195211 -0.62789249\n",
      " -0.99989907 -0.99967594 -0.99927239 -0.99801225 -0.9965543  -0.99409915\n",
      " -0.98979611  0.98428841 -0.97638122  0.96352746 -0.95031953  0.91602718]\n",
      "The Average absolute magnetization per spin is [1.         1.         1.         0.17995436 0.87195211 0.62789249\n",
      " 0.99989907 0.99967594 0.99927239 0.99801225 0.9965543  0.99409915\n",
      " 0.98979611 0.98428841 0.97638122 0.96352746 0.95031953 0.91602718]\n",
      "The Specific Heat is: [0.00000000e+00 0.00000000e+00 0.00000000e+00 1.43777495e-01\n",
      " 4.95754846e+00 9.06830919e+00 5.13658114e-03 1.25936820e-02\n",
      " 2.21505065e-02 4.83679859e-02 7.34336974e-02 1.07531663e-01\n",
      " 1.65768896e-01 2.33396059e-01 2.78993597e-01 3.90533951e-01\n",
      " 4.85571355e-01 5.87602859e-01]\n",
      "The Susceptibility is: [0.00000000e+00 0.00000000e+00 0.00000000e+00 2.26741186e+00\n",
      " 2.34799449e+01 5.20144374e+01 2.67284636e-04 8.38291410e-04\n",
      " 1.61517054e-03 4.83934632e-03 6.97384295e-03 1.25375757e-02\n",
      " 2.33615257e-02 4.34897197e-02 6.70300885e-02 1.20393449e-01\n",
      " 1.63784095e-01 5.31358637e-01]\n"
     ]
    }
   ],
   "source": [
    "#Trial of New Parallized MC\n",
    "Time = time.time()\n",
    "L = 20\n",
    "StateP = StateInitalize(L)\n",
    "TempRange = np.arange(0.2,2,0.1)\n",
    "#TempRange = np.array([1])\n",
    "print(TempRange)\n",
    "start = time.time()\n",
    "AcceptedMovesP, EnergyPerPartP, AverageMagnP, AverageMagnAbsP, SpecificHeatP, SusceptibilityP = MonteCarloIsingParallel2(StateP,1000000,L,TempRange,Time)\n",
    "end = time.time()\n",
    "print(\"The measurement took, in seconds:\", end-start)\n",
    "print(\"Number of Accepted moves:\",AcceptedMovesP)\n",
    "print(\"Energy per particle:\",EnergyPerPartP)\n",
    "print(\"The Average magnetization per spin is:\",AverageMagnP)\n",
    "print(\"The Average absolute magnetization per spin is\",AverageMagnAbsP)\n",
    "print(\"The Specific Heat is:\",SpecificHeatP)\n",
    "print(\"The Susceptibility is:\",SusceptibilityP)"
   ]
  },
  {
   "cell_type": "code",
   "execution_count": 43,
   "metadata": {},
   "outputs": [
    {
     "name": "stdout",
     "output_type": "stream",
     "text": [
      "[0.2 0.3 0.4 0.5 0.6 0.7 0.8 0.9 1.  1.1 1.2 1.3 1.4 1.5 1.6 1.7 1.8 1.9]\n",
      "The measurement took, in seconds: 3.011178493499756\n",
      "Number of Accepted moves: [17742. 29409. 40502. 55464. 18049. 29994. 41055. 56070. 18363. 31436.\n",
      " 44014. 58754. 22681. 35395. 48852. 68708. 66588. 82722.]\n",
      "Energy per particle: [-1.95356625 -1.92459122 -1.89674771 -1.85971506 -1.95236625 -1.9242184\n",
      " -1.89438902 -1.85986724 -1.95312386 -1.92273687 -1.89175423 -1.85827485\n",
      " -1.94835973 -1.91969665 -1.88721727 -1.84173026 -1.86769877 -1.8342346 ]\n",
      "The Average magnetization per spin is: [ 5.09239684e-04  9.32446666e-03  2.57647019e-02 -1.86706725e-02\n",
      " -1.25000136e-05  2.36157865e-02  2.02560003e-02 -8.13479145e-03\n",
      "  4.67772248e-03  1.08108813e-02  9.88968466e-03 -6.46305050e-03\n",
      "  6.54457233e-03  1.43233851e-02  1.16902301e-02 -8.89566184e-03\n",
      " -5.97826737e-04  4.77283127e-03]\n",
      "The Average absolute magnetization per spin is [0.98533966 0.976294   0.96752225 0.95587713 0.98496574 0.97610269\n",
      " 0.96670377 0.95585756 0.98525488 0.97567823 0.96595594 0.95523473\n",
      " 0.98393368 0.97495812 0.96505214 0.95074886 0.95594995 0.94480537]\n",
      "The Specific Heat is: [10.65342428  7.6694016   5.81500248  4.98724969  1.22410213  1.4076642\n",
      "  1.48639173  1.5346544   0.43185447  0.57998619  0.67674058  0.74037611\n",
      "  0.23989295  0.32168589  0.39211263  0.47834964  0.30659412  0.33883707]\n",
      "The Susceptibility is: [19.63811942 12.9429019   9.59264669  7.56238034  6.54332776  5.54272131\n",
      "  4.79281102  4.20234572  3.92719827  3.52691085  3.19317473  2.90712045\n",
      "  2.80001266  2.58329702  2.39102915  2.20906173  2.09995318  1.96010063]\n"
     ]
    }
   ],
   "source": [
    "#Trial of Parallized MC\n",
    "Time = time.time()\n",
    "StateP = StateInitalize(2)\n",
    "TempRange = np.arange(0.2,2,0.1)\n",
    "#TempRange = np.array([1])\n",
    "print(TempRange)\n",
    "start = time.time()\n",
    "AcceptedMovesP, EnergyAllP, EnergyPerPartP, AverageMagnP, AverageMagnAbsP, SpecificHeatP, SusceptibilityP = MonteCarloIsingParallel(StateP,1000000,2,TempRange,Time)\n",
    "end = time.time()\n",
    "print(\"The measurement took, in seconds:\", end-start)\n",
    "print(\"Number of Accepted moves:\",AcceptedMovesP)\n",
    "print(\"Energy per particle:\",EnergyPerPartP)\n",
    "print(\"The Average magnetization per spin is:\",AverageMagnP)\n",
    "print(\"The Average absolute magnetization per spin is\",AverageMagnAbsP)\n",
    "print(\"The Specific Heat is:\",SpecificHeatP)\n",
    "print(\"The Susceptibility is:\",SusceptibilityP)"
   ]
  },
  {
   "cell_type": "markdown",
   "metadata": {},
   "source": [
    "**Trying the algo:**\n",
    "Gera 2x2 case þannig að ég tel frá byrjun!!!"
   ]
  },
  {
   "cell_type": "code",
   "execution_count": 21,
   "metadata": {},
   "outputs": [
    {
     "name": "stdout",
     "output_type": "stream",
     "text": [
      "The measurement took, in seconds: 0.4340066909790039\n",
      "Number of Accepted moves: 1759\n",
      "Energy per particle: -1.9966956485822267\n",
      "The Average magnetization per spin is: -0.11957567345181896\n",
      "The Average absolute magnetization per spin is 0.998899455325495\n",
      "The Specific Heat is: 0.02639113638901769\n",
      "The Susceptibility is: 3.9373011925073924\n"
     ]
    }
   ],
   "source": [
    "A = StateInitalize(2)\n",
    "start = time.time()\n",
    "AcceptedMoves, EnergyAll, EnergyPerPart, AverageMagn, AverageMagnAbs, SpecificHeat, Susceptibility = MonteCarloIsing(A,1000000,2,1)\n",
    "end = time.time()\n",
    "print(\"The measurement took, in seconds:\", end-start)\n",
    "print(\"Number of Accepted moves:\",AcceptedMoves)\n",
    "print(\"Energy per particle:\",EnergyPerPart)\n",
    "print(\"The Average magnetization per spin is:\",AverageMagn)\n",
    "print(\"The Average absolute magnetization per spin is\",AverageMagnAbs)\n",
    "print(\"The Specific Heat is:\",SpecificHeat)\n",
    "print(\"The Susceptibility is:\",Susceptibility)#Susceptibility measurement looks strange!!"
   ]
  },
  {
   "cell_type": "markdown",
   "metadata": {},
   "source": [
    "**Plotting the energy as a function of MC steps:**"
   ]
  },
  {
   "cell_type": "code",
   "execution_count": 22,
   "metadata": {},
   "outputs": [
    {
     "data": {
      "image/png": "[encoded data removed]",
      "text/plain": [
       "<Figure size 432x288 with 1 Axes>"
      ]
     },
     "metadata": {
      "needs_background": "light"
     },
     "output_type": "display_data"
    }
   ],
   "source": [
    "fig, ax = plt.subplots()\n",
    "Steps = np.arange(0,1000000-80001)\n",
    "ax.plot(Steps,EnergyAll,'*')\n",
    "ax.set_xlabel(\"MC steps\")\n",
    "ax.set_ylabel(\"Energy [J]\")\n",
    "ax.grid(alpha=0.3)\n",
    "plt.show()"
   ]
  },
  {
   "cell_type": "markdown",
   "metadata": {},
   "source": [
    "**Trial for bigger lattice:**"
   ]
  },
  {
   "cell_type": "code",
   "execution_count": 58,
   "metadata": {},
   "outputs": [
    {
     "name": "stdout",
     "output_type": "stream",
     "text": [
      "The measurement took, in seconds: 2.4031732082366943\n",
      "Number of Accepted moves: 1868\n",
      "Energy per particle: -1.997324056873975\n",
      "The Average magnetization is: 0.9992934340146021\n",
      "The Averaga absolute magnetization is: 0.9992934340146021\n",
      "The Specific Heat is: 0.022801139686489478\n",
      "The Susceptibility is: 0.0016529599910427351\n"
     ]
    }
   ],
   "source": [
    "A2 = StateInitalize(20)\n",
    "start = time.time()\n",
    "AcceptedMoves2, EnergyAll2, EnergyPerPart2, AverageMagn2, AverageMagnAbs2,SpecificHeat2, Susceptibility2 = MonteCarloIsing(A2,1000000,20,1)\n",
    "end = time.time()\n",
    "print(\"The measurement took, in seconds:\", end-start)\n",
    "print(\"Number of Accepted moves:\",AcceptedMoves2)\n",
    "print(\"Energy per particle:\",EnergyPerPart2)\n",
    "print(\"The Average magnetization is:\",AverageMagn2)\n",
    "print(\"The Averaga absolute magnetization is:\",AverageMagnAbs2)\n",
    "print(\"The Specific Heat is:\",SpecificHeat2)\n",
    "print(\"The Susceptibility is:\", Susceptibility2)"
   ]
  },
  {
   "cell_type": "code",
   "execution_count": 24,
   "metadata": {},
   "outputs": [
    {
     "data": {
      "image/png": "[encoded data removed]",
      "text/plain": [
       "<Figure size 432x288 with 1 Axes>"
      ]
     },
     "metadata": {
      "needs_background": "light"
     },
     "output_type": "display_data"
    }
   ],
   "source": [
    "fig2, ax2 = plt.subplots()\n",
    "Steps2 = np.arange(0,1000000-80001)\n",
    "ax2.plot(Steps2,EnergyAll2)\n",
    "ax2.set_xlabel(\"MC steps\")\n",
    "ax2.set_ylabel(\"Energy [J]\")\n",
    "ax2.grid(alpha=0.3)#Eitthvað abnormalitiy í lokin!!!\n",
    "plt.show()"
   ]
  },
  {
   "cell_type": "markdown",
   "metadata": {},
   "source": [
    "**We see that the system has reached its most likely state after at least 80000 iterations, but often quite lower. Thus we start to take measurements after 80000 iterations for analysis.**"
   ]
  },
  {
   "cell_type": "markdown",
   "metadata": {},
   "source": [
    "**Let's do measurements for several different Temperature:**"
   ]
  },
  {
   "cell_type": "code",
   "execution_count": 94,
   "metadata": {},
   "outputs": [
    {
     "name": "stdout",
     "output_type": "stream",
     "text": [
      "2.2041046619415283\n",
      "2.47882342338562\n",
      "2.195523977279663\n",
      "2.220167636871338\n",
      "2.196187973022461\n",
      "2.2446696758270264\n",
      "2.289799690246582\n",
      "3.167296886444092\n",
      "2.4891843795776367\n",
      "3.5488288402557373\n",
      "2.5402185916900635\n",
      "2.9357118606567383\n",
      "2.7071938514709473\n",
      "2.5123684406280518\n",
      "2.409299850463867\n",
      "2.3613083362579346\n",
      "2.337552785873413\n",
      "2.313279390335083\n",
      "2.4682319164276123\n",
      "2.311919689178467\n",
      "2.288526773452759\n",
      "2.3238399028778076\n",
      "2.383549928665161\n",
      "2.398573160171509\n",
      "2.3485233783721924\n",
      "3.608905553817749\n",
      "2.3992645740509033\n",
      "2.3471145629882812\n",
      "2.4306447505950928\n",
      "2.3927130699157715\n",
      "2.7332065105438232\n",
      "2.3959007263183594\n",
      "2.4458718299865723\n",
      "4.529515266418457\n",
      "2.5357940196990967\n",
      "2.7666239738464355\n",
      "2.518165349960327\n",
      "2.351426124572754\n",
      "2.6516213417053223\n",
      "2.6435952186584473\n",
      "2.6121418476104736\n",
      "2.8060975074768066\n",
      "2.3883309364318848\n",
      "2.476022243499756\n",
      "2.550145387649536\n",
      "2.4581398963928223\n",
      "2.358994245529175\n",
      "2.736621618270874\n",
      "2.494142770767212\n",
      "2.293806314468384\n"
     ]
    },
    {
     "data": {
      "image/png": "[encoded data removed]",
      "text/plain": [
       "<Figure size 432x288 with 1 Axes>"
      ]
     },
     "metadata": {
      "needs_background": "light"
     },
     "output_type": "display_data"
    }
   ],
   "source": [
    "#T = [0.1,0.3,0.5,0.7,0.9,1,1.3,1.5,1.7,1.9,2,2.3,2.5,2.7,2.9,3]\n",
    "T = np.arange(0.1,5.1,0.1)\n",
    "MC_Cycles = int(1e6)\n",
    "Steps3 = np.arange(0,MC_Cycles-80001)\n",
    "AcceptedMoves = np.zeros(len(T))\n",
    "EnergyPerParticle = np.zeros(len(T))\n",
    "MagnetizationPerParticle = np.zeros(len(T))\n",
    "Susceptibility = np.zeros(len(T))\n",
    "SpecificHeat = np.zeros(len(T))\n",
    "fig3, ax3 = plt.subplots()\n",
    "counter = 0\n",
    "L = 20#Lattice size\n",
    "for i in range(len(T)):\n",
    "    Temp = T[i]\n",
    "    A3 = StateInitalize(L)\n",
    "    start = time.time()\n",
    "    AcceptedMoves2, EnergyAll2, EnergyPerPart2, AverageMagn2, AverageMagnAbs2,SpecificHeat2, Susceptibility2 = MonteCarloIsing(A3,MC_Cycles,L,Temp)\n",
    "    end = time.time()\n",
    "    print(end-start)\n",
    "    EnergyPerParticle[counter] = EnergyPerPart2\n",
    "    SpecificHeat[counter] = SpecificHeat2\n",
    "    MagnetizationPerParticle[counter] = AverageMagnAbs2\n",
    "    Susceptibility[counter] = Susceptibility2\n",
    "    counter += 1\n",
    "    ax3.plot(Steps3,EnergyAll2)\n",
    "    \n",
    "ax3.grid(alpha=0.3)\n",
    "plt.show()"
   ]
  },
  {
   "cell_type": "markdown",
   "metadata": {},
   "source": [
    "**Energy per particle as a function of temperature:**"
   ]
  },
  {
   "cell_type": "code",
   "execution_count": 95,
   "metadata": {},
   "outputs": [
    {
     "data": {
      "image/png": "[encoded data removed]",
      "text/plain": [
       "<Figure size 432x288 with 1 Axes>"
      ]
     },
     "metadata": {
      "needs_background": "light"
     },
     "output_type": "display_data"
    }
   ],
   "source": [
    "#Plotting energy as a function of particle\n",
    "fig4,ax4 = plt.subplots()\n",
    "ax4.plot(T,EnergyPerParticle,'+')\n",
    "ax4.set_ylabel(\"Energy per particle [J]\")\n",
    "ax4.set_xlabel(\"Temperature [T]\")\n",
    "ax4.grid(alpha=0.3)\n",
    "plt.show()"
   ]
  },
  {
   "cell_type": "markdown",
   "metadata": {},
   "source": [
    "**Specific heat as a function of temperature:**"
   ]
  },
  {
   "cell_type": "code",
   "execution_count": 96,
   "metadata": {},
   "outputs": [
    {
     "data": {
      "image/png": "[encoded data removed]",
      "text/plain": [
       "<Figure size 432x288 with 1 Axes>"
      ]
     },
     "metadata": {
      "needs_background": "light"
     },
     "output_type": "display_data"
    }
   ],
   "source": [
    "#Plotting specific heat as a function of Temperature - Eitthvað mjög flippað í gangi hér !!\n",
    "fig5,ax5 = plt.subplots()\n",
    "ax5.plot(T,SpecificHeat,'+')\n",
    "ax5.set_ylabel(\"Specific Heat, Cv [eining]\")\n",
    "ax5.set_xlabel(\"Temperature [T]\")\n",
    "ax5.grid(alpha=0.3)\n",
    "plt.show()"
   ]
  },
  {
   "cell_type": "markdown",
   "metadata": {},
   "source": [
    "**Average Magnetization as a function of particle:**"
   ]
  },
  {
   "cell_type": "code",
   "execution_count": 97,
   "metadata": {},
   "outputs": [
    {
     "data": {
      "image/png": "[encoded data removed]",
      "text/plain": [
       "<Figure size 432x288 with 1 Axes>"
      ]
     },
     "metadata": {
      "needs_background": "light"
     },
     "output_type": "display_data"
    }
   ],
   "source": [
    "#Plotting average Magnetization as a function of temperature\n",
    "fig6,ax6 = plt.subplots()\n",
    "ax6.plot(T,MagnetizationPerParticle,'+')\n",
    "ax6.set_ylabel(\"Average Magnetization, |M| [eining]\")\n",
    "ax6.set_xlabel(\"Temperature [T]\")\n",
    "ax6.grid(alpha=0.3)\n",
    "plt.show()"
   ]
  },
  {
   "cell_type": "markdown",
   "metadata": {},
   "source": [
    "**Accurate measurements around $T_C$:** Eitthvað mjög flippað í gangi, held með parallelization!!!!"
   ]
  },
  {
   "cell_type": "code",
   "execution_count": 90,
   "metadata": {},
   "outputs": [
    {
     "name": "stdout",
     "output_type": "stream",
     "text": [
      "[0.2 0.3 0.4 0.5 0.6 0.7 0.8 0.9 1.  1.1 1.2 1.3 1.4 1.5 1.6 1.7 1.8 1.9\n",
      " 2.  2.1 2.2 2.3 2.4 2.5 2.6 2.7 2.8 2.9 3.  3.1 3.2 3.3 3.4 3.5 3.6 3.7\n",
      " 3.8 3.9]\n",
      "The measurement took, in seconds: 355.06412410736084\n",
      "Number of Accepted moves: [   9608.   11322.   13518.   14514.    9712.   10684.   31982.   13002.\n",
      "   12686.   26335.   69440.   34411.   84993.   60686.   63026.  149921.\n",
      "  154763.  190240.  239636.  254285.  362421.  467497.  550145.  628911.\n",
      "  708132.  763122.  814496.  864800.  912562.  946995.  983876. 1019227.\n",
      " 1050966. 1079725. 1110361. 1134586. 1158887. 1181579.]\n",
      "Energy per particle: [-1.9863111  -1.896022   -1.97121802 -1.92925594 -1.98712943 -1.98551203\n",
      " -1.92533207 -1.98277776 -1.98354685 -1.95139657 -1.85305245 -1.94533701\n",
      " -1.84734595 -1.90349606 -1.90454063 -1.75500204 -1.75535821 -1.70510704\n",
      " -1.63408265 -1.62157044 -1.46792771 -1.32911622 -1.22333443 -1.13090652\n",
      " -1.03798037 -0.98007929 -0.92861615 -0.87726899 -0.82891416 -0.79724724\n",
      " -0.76356938 -0.72827598 -0.70027509 -0.67646454 -0.64941655 -0.63075978\n",
      " -0.60806818 -0.59079148]\n",
      "The Average magnetization per spin is: [ 0.94905321 -0.02815734 -0.76889822  0.23406236  0.93133082 -0.93430746\n",
      "  0.51439738  0.9452125   0.9402111  -0.79281222  0.04680512  0.87394654\n",
      " -0.51995301  0.79558681 -0.91119357 -0.38274684  0.53227683 -0.11134417\n",
      "  0.51123508  0.79657089 -0.5552457  -0.29585301  0.03376516  0.17145869\n",
      "  0.03162102 -0.04594725 -0.00570696 -0.00547774  0.00273342  0.00866182\n",
      " -0.00944436 -0.00698632 -0.00323389  0.00573559 -0.00253027 -0.0068198\n",
      "  0.00164012 -0.00659127]\n",
      "The Average absolute magnetization per spin is [0.94905321 0.04197818 0.76889822 0.27443943 0.93133082 0.93430746\n",
      " 0.51439738 0.9452125  0.9402111  0.79281222 0.08546028 0.87394654\n",
      " 0.51995301 0.79561901 0.91119357 0.39494889 0.53262816 0.12291228\n",
      " 0.52088381 0.79657089 0.55797066 0.30339394 0.19265954 0.18105087\n",
      " 0.10429572 0.09502456 0.07833917 0.08093495 0.06999036 0.0646454\n",
      " 0.05396078 0.05355745 0.05029117 0.04911216 0.04606027 0.04859356\n",
      " 0.04423813 0.04329091]\n",
      "The Specific Heat is: [42.33277318  0.94965041  8.50551928  6.15684672  3.10364594  3.26155411\n",
      "  4.59893643  3.68310429  1.50266576  1.92398964  0.13709808  2.89589091\n",
      "  2.23835025  4.29271668  1.69254642  2.05182675  2.55143238  1.08033124\n",
      "  2.47253108  1.58002892  1.71632001  1.0802938   1.01311912  0.86728577\n",
      "  0.6102571   0.58648477  0.49537427  0.42898406  0.38833147  0.3670594\n",
      "  0.33126048  0.29268093  0.27713961  0.26346481  0.24018962  0.21773014\n",
      "  0.20191908  0.20595963]\n",
      "The Susceptibility is: [134.00883786   8.65241774 249.73331739 104.00281604  64.08891015\n",
      "  54.66814664 168.95185145  44.24810285  34.09587724  51.82884503\n",
      "  11.40323286  50.26901043  65.82410993 110.08677818  23.70170376\n",
      "  80.30503173 103.0055241    8.81588044 102.04674675  11.94306136\n",
      "  39.75149461  19.74414256  31.56068716  13.36169544   9.05645957\n",
      "   7.01071617   5.50379571   5.47182761   4.02536409   3.22749457\n",
      "   2.21029846   2.04798616   1.79244617   1.65592436   1.4916201\n",
      "   1.54148588   1.28718247   1.19184659]\n"
     ]
    }
   ],
   "source": [
    "#Trial of Parallized MC\n",
    "L = 40\n",
    "StateP = StateInitalize(L)\n",
    "TempRange = np.arange(0.2,4,0.1)\n",
    "print(TempRange)\n",
    "Time = time.time()\n",
    "start = time.time()\n",
    "AcceptedMovesP, EnergyPerPartP, AverageMagnP, AverageMagnAbsP, SpecificHeatP, SusceptibilityP = MonteCarloIsingParallel2(StateP,2000000,L,TempRange,Time)\n",
    "end = time.time()\n",
    "print(\"The measurement took, in seconds:\", end-start)\n",
    "print(\"Number of Accepted moves:\",AcceptedMovesP)\n",
    "print(\"Energy per particle:\",EnergyPerPartP)\n",
    "print(\"The Average magnetization per spin is:\",AverageMagnP)\n",
    "print(\"The Average absolute magnetization per spin is\",AverageMagnAbsP)\n",
    "print(\"The Specific Heat is:\",SpecificHeatP)\n",
    "print(\"The Susceptibility is:\",SusceptibilityP)"
   ]
  },
  {
   "cell_type": "markdown",
   "metadata": {},
   "source": [
    "**Plotting the relevant Parameters:**"
   ]
  },
  {
   "cell_type": "code",
   "execution_count": 91,
   "metadata": {},
   "outputs": [
    {
     "data": {
      "image/png": "[encoded data removed]",
      "text/plain": [
       "<Figure size 432x288 with 1 Axes>"
      ]
     },
     "metadata": {
      "needs_background": "light"
     },
     "output_type": "display_data"
    }
   ],
   "source": [
    "fig7, ax7 = plt.subplots()\n",
    "ax7.plot(TempRange,AverageMagnAbsP,'+')\n",
    "ax7.set_ylabel(\"Absolute average Magnetization\")\n",
    "ax7.set_xlabel(\"Temperature [T]\")\n",
    "ax7.grid(alpha=0.3)"
   ]
  },
  {
   "cell_type": "code",
   "execution_count": 92,
   "metadata": {},
   "outputs": [
    {
     "data": {
      "image/png": "[encoded data removed]",
      "text/plain": [
       "<Figure size 432x288 with 1 Axes>"
      ]
     },
     "metadata": {
      "needs_background": "light"
     },
     "output_type": "display_data"
    }
   ],
   "source": [
    "#Heat capacity\n",
    "fig8, ax8 = plt.subplots()\n",
    "ax8.plot(TempRange,SpecificHeatP,'+')\n",
    "ax8.set_ylabel(\"Heat Capacity\")\n",
    "ax8.set_xlabel(\"Temperature [T]\")\n",
    "ax8.grid(alpha=0.3)"
   ]
  },
  {
   "cell_type": "code",
   "execution_count": 93,
   "metadata": {},
   "outputs": [
    {
     "data": {
      "image/png": "[encoded data removed]",
      "text/plain": [
       "<Figure size 432x288 with 1 Axes>"
      ]
     },
     "metadata": {
      "needs_background": "light"
     },
     "output_type": "display_data"
    }
   ],
   "source": [
    "#Energy per Particle\n",
    "fig9, ax9 = plt.subplots()\n",
    "ax9.plot(TempRange,EnergyPerPartP,'+')\n",
    "ax9.set_ylabel(\"Heat Capacity\")\n",
    "ax9.set_xlabel(\"Temperature [T]\")\n",
    "ax9.grid(alpha=0.3)"
   ]
  }
 ],
 "metadata": {
  "kernelspec": {
   "display_name": "Python 3",
   "language": "python",
   "name": "python3"
  },
  "language_info": {
   "codemirror_mode": {
    "name": "ipython",
    "version": 3
   },
   "file_extension": ".py",
   "mimetype": "text/x-python",
   "name": "python",
   "nbconvert_exporter": "python",
   "pygments_lexer": "ipython3",
   "version": "3.6.5"
  }
 },
 "nbformat": 4,
 "nbformat_minor": 2
}
