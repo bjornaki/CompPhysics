{
 "cells": [
  {
   "cell_type": "markdown",
   "metadata": {},
   "source": [
    "**Importing packages that we need**"
   ]
  },
  {
   "cell_type": "code",
   "execution_count": 2,
   "metadata": {},
   "outputs": [],
   "source": [
    "import numpy as np\n",
    "import matplotlib.pyplot as plt\n",
    "from numba import jit, njit, vectorize, prange\n",
    "import numba as numba\n",
    "import time"
   ]
  },
  {
   "cell_type": "markdown",
   "metadata": {},
   "source": [
    "## Here are the functions needed for the Monte Carlo calculations and Metropolis algorithm:"
   ]
  },
  {
   "cell_type": "code",
   "execution_count": 3,
   "metadata": {},
   "outputs": [],
   "source": [
    "#function that defines that inital state for the lattice calling a random number generator\n",
    "@jit(nopython=True)\n",
    "def StateInitalize(N):\n",
    "    #NXN number of spins\n",
    "    Lattice = np.zeros((N,N))\n",
    "    for i in range(N):\n",
    "        for l in range(N):\n",
    "            randNum = np.random.random()\n",
    "            if randNum < 0.5:\n",
    "                Lattice[i,l] = int(-1)\n",
    "            else:\n",
    "                Lattice[i,l] = int(1)\n",
    "                \n",
    "    return Lattice"
   ]
  },
  {
   "cell_type": "code",
   "execution_count": 4,
   "metadata": {},
   "outputs": [],
   "source": [
    "#function that defines that inital state either all spins up or down\n",
    "@jit()\n",
    "def StateInitalizeNonRandom(N,position):\n",
    "    #NXN number of spins\n",
    "    if position == \"up\":\n",
    "        temp = int(1)\n",
    "    else:\n",
    "        temp = int(-1)\n",
    "    Lattice = np.zeros((N,N))\n",
    "    for i in range(N):\n",
    "        for l in range(N):\n",
    "            Lattice[i,l] = temp\n",
    "            randNum = np.random.random()\n",
    "                \n",
    "    return Lattice"
   ]
  },
  {
   "cell_type": "markdown",
   "metadata": {},
   "source": [
    "**NeigbourInteraction is a function that calculates the change in energy upon flipping one spin:**"
   ]
  },
  {
   "cell_type": "code",
   "execution_count": 5,
   "metadata": {},
   "outputs": [],
   "source": [
    "@jit()\n",
    "def NeigbourInteraction(line,column,InitialState,LatticeSize):\n",
    "    M = LatticeSize\n",
    "    DeltaE = 0\n",
    "    if line == int(0):#if at the top edge of lattice\n",
    "        #State to the left\n",
    "        if column == int(0):\n",
    "            Temp1 = InitialState[line,column]*InitialState[line,M-1]#to the left\n",
    "        else:\n",
    "            Temp1 = InitialState[line,column]*InitialState[line,column-1]#to the left\n",
    "        #State to the right\n",
    "        if column == int((M-1)):\n",
    "            Temp2 = InitialState[line,column]*InitialState[line,0]#to the right\n",
    "        else:\n",
    "            Temp2 = InitialState[line,column]*InitialState[line,column+1]#to the right\n",
    "        #State above\n",
    "        Temp3 = InitialState[line,column]*InitialState[M-1,column]#above\n",
    "        #State below\n",
    "        Temp4 = InitialState[line,column]*InitialState[line+1,column]#below\n",
    "    if line == int((M-1)):#if at the bottom edge lattice\n",
    "        #State to the left\n",
    "        if column == int(0):\n",
    "            Temp1 = InitialState[line,column]*InitialState[line,M-1]#to the left\n",
    "        else:\n",
    "            Temp1 = InitialState[line,column]*InitialState[line,column-1]#to the left\n",
    "        #State to the right\n",
    "        if column == int((M-1)):\n",
    "            Temp2 = InitialState[line,column]*InitialState[line,0]#to the right\n",
    "        else:\n",
    "            Temp2 = InitialState[line,column]*InitialState[line,column+1]#to the right\n",
    "        #State above\n",
    "        Temp3 = InitialState[line,column]*InitialState[line-1,column]#above\n",
    "        #State below\n",
    "        Temp4 = InitialState[line,column]*InitialState[0,column]#below\n",
    "    #Then check if at left or right edges or inside\n",
    "    else:\n",
    "        #State to the left\n",
    "        if column == int(0):\n",
    "            Temp1 = InitialState[line,column]*InitialState[line,M-1]#to the left\n",
    "        else:\n",
    "            Temp1 = InitialState[line,column]*InitialState[line,column-1]#to the left\n",
    "        #State to the right\n",
    "        if column == int((M-1)):\n",
    "            Temp2 = InitialState[line,column]*InitialState[line,0]#to the right\n",
    "        else:\n",
    "            Temp2 = InitialState[line,column]*InitialState[line,column+1]#to the right\n",
    "        #State above\n",
    "        Temp3 = InitialState[line,column]*InitialState[line+1,column]#above\n",
    "        #State below\n",
    "        Temp4 = InitialState[line,column]*InitialState[line-1,column]#below\n",
    "\n",
    "    DeltaE = -(Temp1 + Temp2 + Temp3 + Temp4)\n",
    "    DeltaE = DeltaE*2\n",
    "    if DeltaE not in [-8,-4,0,4,8]:\n",
    "        print(\"The change in energy is not right\")\n",
    "    return int(DeltaE)"
   ]
  },
  {
   "cell_type": "markdown",
   "metadata": {},
   "source": [
    "**Function that calculates the Magnetization:**"
   ]
  },
  {
   "cell_type": "code",
   "execution_count": 6,
   "metadata": {},
   "outputs": [],
   "source": [
    "@jit(nopython=True)\n",
    "def Magnetization(Lattice):\n",
    "    N,M = np.shape(Lattice)\n",
    "    Magnetization = 0\n",
    "    for i in range(M):#looping over lines\n",
    "        for j in range(M):#looping over colums\n",
    "            Magnetization += Lattice[i,j]#Adding the spin value at location i,j\n",
    "    #Calculating the absolute value of Magnetization\n",
    "    AbsoluteMagnetization = np.absolute(Magnetization)\n",
    "    \n",
    "    return Magnetization, AbsoluteMagnetization"
   ]
  },
  {
   "cell_type": "code",
   "execution_count": 7,
   "metadata": {},
   "outputs": [
    {
     "name": "stdout",
     "output_type": "stream",
     "text": [
      "The Magnetization is: -2\n",
      "The Absolute Magnetization is: 2\n"
     ]
    }
   ],
   "source": [
    "#Trial of Magnetization function\n",
    "LatticeA = np.array([[1,-1],[-1,-1]])\n",
    "Magn, AbsMagn = Magnetization(LatticeA)\n",
    "print(\"The Magnetization is:\",Magn)\n",
    "print(\"The Absolute Magnetization is:\",AbsMagn)"
   ]
  },
  {
   "cell_type": "markdown",
   "metadata": {},
   "source": [
    "**Calculating the energy of the lattice according to the Ising model with periodic boundary conditions:**"
   ]
  },
  {
   "cell_type": "code",
   "execution_count": 8,
   "metadata": {},
   "outputs": [],
   "source": [
    "@jit()\n",
    "def LatticeEnergyIsing(InitialState,LatticeSize):\n",
    "    N,M = np.shape(InitialState)#Lattice size\n",
    "    Energy = 0\n",
    "    for i in range(M):#loop over lines\n",
    "        for j in range(M):#loop over columns\n",
    "            #Only checking every other site so that one doesn't double count\n",
    "            DoMeasurement = (np.mod(i,2)+np.mod(j,2) == 0) or (np.mod(i,2)+np.mod(j,2) == 2)\n",
    "            #print(Acceptance)\n",
    "            if DoMeasurement:\n",
    "                if (i == 0 and j == 0):#if at the top and left edge of lattice\n",
    "                    Temp1 = InitialState[i,j]*InitialState[i,j+1]#to the right\n",
    "                    Temp2 = InitialState[i,j]*InitialState[i,M-1]#to the left - periodic boundary\n",
    "                    Temp3 = InitialState[i,j]*InitialState[M-1,j]#above - periodic boundary\n",
    "                    Temp4 = InitialState[i,j]*InitialState[i+1,j]#below\n",
    "                    Energy += - (Temp1 + Temp2 + Temp3 + Temp4)\n",
    "                elif (i == 0 and j == (M-1)):#if at the top and right edge of lattice\n",
    "                    #Temp1 = InitialState[i,j]*InitialState[i,j-1]#to the right\n",
    "                    Temp2 = InitialState[i,j]*InitialState[i,j-1]#to the left\n",
    "                    #Temp3 = InitialState[i,j]*InitialState[i+1,j]#above\n",
    "                    Temp4 = InitialState[i,j]*InitialState[i+1,j]#below\n",
    "                    Energy += - (Temp2 + Temp4)\n",
    "                elif (i == (M-1) and j == 0):#if at the bottom and left edge of lattice\n",
    "                    Temp1 = InitialState[i,j]*InitialState[i,j+1]#to the right\n",
    "                    #Temp2 = InitialState[i,j]*InitialState[i,j+1]#to the left\n",
    "                    Temp3 = InitialState[i,j]*InitialState[i-1,j]#above\n",
    "                    #Temp4 = InitialState[i,j]*InitialState[i-1,j]#below\n",
    "                    Energy += - (Temp1 + Temp3)\n",
    "                elif (i == (M-1) and j == (M-1)):#if at the bottom and right edge of lattice\n",
    "                    Temp1 = InitialState[i,j]*InitialState[i,0]#to the right - periodic boundary\n",
    "                    Temp2 = InitialState[i,j]*InitialState[i,j-1]#to the left\n",
    "                    Temp3 = InitialState[i,j]*InitialState[i-1,j]#above\n",
    "                    Temp4 = InitialState[i,j]*InitialState[0,j]#below - periodic boundary\n",
    "                    Energy += - (Temp1 + Temp2 + Temp3 + Temp4)\n",
    "                elif i == 0:#if only at top edge\n",
    "                    Temp1 = InitialState[i,j]*InitialState[i,j+1]#to the right\n",
    "                    Temp2 = InitialState[i,j]*InitialState[i,j-1]#to the left\n",
    "                    Temp3 = InitialState[i,j]*InitialState[M-1,j]#above - periodic boundary\n",
    "                    Temp4 = InitialState[i,j]*InitialState[i+1,j]#below\n",
    "                    Energy += - (Temp1 + Temp2 + Temp3 + Temp4)\n",
    "                elif i == (M-1):#if only at bottom edge\n",
    "                    Temp1 = InitialState[i,j]*InitialState[i,j+1]#to the right\n",
    "                    Temp2 = InitialState[i,j]*InitialState[i,j-1]#to the left\n",
    "                    Temp3 = InitialState[i,j]*InitialState[i-1,j]#above\n",
    "                    #Temp4 = InitialState[i,j]*InitialState[i-1,j]#below\n",
    "                    Energy += - (Temp1 + Temp2 + Temp3)\n",
    "                elif j == 0:#if only at left edge\n",
    "                    Temp1 = InitialState[i,j]*InitialState[i,j+1]#to the right\n",
    "                    Temp2 = InitialState[i,j]*InitialState[i,M-1]#to the left - periodic boundary\n",
    "                    Temp3 = InitialState[i,j]*InitialState[i-1,j]#above\n",
    "                    Temp4 = InitialState[i,j]*InitialState[i+1,j]#below\n",
    "                    Energy += - (Temp1 + Temp2 + Temp3 + Temp4)\n",
    "                elif j == (M-1):#if only at right edge\n",
    "                    #Temp1 = InitialState[i,j]*InitialState[i,j-1]#to the right\n",
    "                    Temp2 = InitialState[i,j]*InitialState[i,j-1]#to the left\n",
    "                    Temp3 = InitialState[i,j]*InitialState[i-1,j]#above\n",
    "                    Temp4 = InitialState[i,j]*InitialState[i+1,j]#below\n",
    "                    Energy += - (Temp2 + Temp3 + Temp4)\n",
    "                else:#if somewhere in the middle\n",
    "                    Temp1 = InitialState[i,j]*InitialState[i,j-1]#to the right\n",
    "                    Temp2 = InitialState[i,j]*InitialState[i,j+1]#to the left\n",
    "                    Temp3 = InitialState[i,j]*InitialState[i-1,j]#above\n",
    "                    Temp4 = InitialState[i,j]*InitialState[i+1,j]#below\n",
    "                    Energy += - (Temp1 + Temp2 + Temp3 + Temp4)\n",
    "            elif M > 2 and (np.mod(M,2) != 0):#To not double count for 2x2 lattice - odd case M\n",
    "                if i == 0:#If at the top and at odd site\n",
    "                    Temp1 = InitialState[i,j]*InitialState[M-1,j-1]#above - periodic boundary\n",
    "                    Energy += -(Temp1)\n",
    "                elif j == 0:#At the right edge and odd site\n",
    "                    Temp1 = InitialState[i,j]*InitialState[i,M-1]\n",
    "                    Energy += -(Temp1)\n",
    "                else:\n",
    "                    continue\n",
    "            TruthValue = ((np.mod(i,2) == 0) and (j == (M-1)))\n",
    "            TruthValue = TruthValue and np.mod(M,2) == 0\n",
    "            #print(TruthValue,i,j)\n",
    "            #Even case, count the rest that hasn't been counted\n",
    "            if M > 2 and TruthValue:\n",
    "                if i == 0:\n",
    "                    Temp1 = InitialState[i,j]*InitialState[i,M-1]#above - periodic boundary\n",
    "                    Temp2 = InitialState[i,j]*InitialState[i,j+1]#above - periodic boundary\n",
    "                    #Energy += -(Temp1 + Temp2)\n",
    "                elif i == (M-1):\n",
    "                    Temp1 = InitialState[i,j]*InitialState[i,j-1]#above - periodic boundary\n",
    "                    Temp2 = InitialState[i,j]*InitialState[i,0]#above - periodic boundary\n",
    "                    Energy += -(Temp1 + Temp2)\n",
    "                else:\n",
    "                    Temp1 = InitialState[i,j]*InitialState[i,j-1]#above - periodic boundary\n",
    "                    Temp2 = InitialState[i,j]*InitialState[i,j+1]#above - periodic boundary\n",
    "                    Energy += -(Temp1 + Temp2)\n",
    "    return Energy"
   ]
  },
  {
   "cell_type": "code",
   "execution_count": 10,
   "metadata": {},
   "outputs": [
    {
     "name": "stdout",
     "output_type": "stream",
     "text": [
      "[[-1 -1]\n",
      " [-1 -1]]\n",
      "The energy according to Ising Model: -8\n",
      "For all spins up the energy is: -7200.0\n",
      "-2.0\n",
      "The change in energy upon flipping spin at [0,0] -8\n",
      "[[-1.  1. -1. -1.]\n",
      " [ 1. -1.  1. -1.]\n",
      " [ 1.  1. -1. -1.]\n",
      " [-1.  1.  1.  1.]]\n",
      "The change in energy upon flipping spin at [1,1] 8\n"
     ]
    }
   ],
   "source": [
    "#Trial of energy\n",
    "B = np.array([[-1,-1],[-1,-1]])\n",
    "print(B)\n",
    "EnergyTrial = LatticeEnergyIsing(B,2)\n",
    "print(\"The energy according to Ising Model:\", EnergyTrial)\n",
    "L = 60\n",
    "TrialLatticeUp = StateInitalizeNonRandom(L,\"up\")\n",
    "EnergyTrial2 = LatticeEnergyIsing(TrialLatticeUp,L)\n",
    "print(\"For all spins up the energy is:\", EnergyTrial2)\n",
    "print(EnergyTrial2/(L*L))\n",
    "#Trial of change in energy\n",
    "DeltaE = NeigbourInteraction(0,0,B,2)\n",
    "print(\"The change in energy upon flipping spin at [0,0]\",DeltaE)\n",
    "TrialLatticeUp = StateInitalize(4)\n",
    "print(TrialLatticeUp)\n",
    "DeltaE = NeigbourInteraction(1,1,TrialLatticeUp,4)\n",
    "print(\"The change in energy upon flipping spin at [1,1]\",DeltaE)"
   ]
  },
  {
   "cell_type": "markdown",
   "metadata": {},
   "source": [
    "**Function that counts how often a certain element is found in an array:**"
   ]
  },
  {
   "cell_type": "code",
   "execution_count": 11,
   "metadata": {},
   "outputs": [],
   "source": [
    "def ArrayElementCounter(array):\n",
    "    energylist = []\n",
    "    energylist.append(array[0])\n",
    "    for i in range(1,len(array)):\n",
    "        if array[i] not in energylist:\n",
    "            energylist.append(array[i])\n",
    "            \n",
    "    energylist.sort()\n",
    "    countinglist = np.zeros(len(energylist))\n",
    "    for i in range(len(array)):\n",
    "        temp = array[i]\n",
    "        position = np.where(energylist == temp)\n",
    "        countinglist[position[0][0]] += 1\n",
    "            \n",
    "    return energylist, countinglist"
   ]
  },
  {
   "cell_type": "code",
   "execution_count": 12,
   "metadata": {},
   "outputs": [
    {
     "name": "stdout",
     "output_type": "stream",
     "text": [
      "[0, 3, 4, 6, 7, 8] [1. 1. 2. 1. 2. 1.]\n"
     ]
    }
   ],
   "source": [
    "#Trial\n",
    "Vigur = np.array([0,3,4,4,6,8,7,7])\n",
    "energylist,countinglist = ArrayElementCounter(Vigur)\n",
    "print(energylist,countinglist)"
   ]
  },
  {
   "cell_type": "markdown",
   "metadata": {},
   "source": [
    "**Metropolis part: This is the function that takes care of the Metropolis algorithm**"
   ]
  },
  {
   "cell_type": "code",
   "execution_count": 90,
   "metadata": {},
   "outputs": [],
   "source": [
    "@jit()\n",
    "def Metropolis(DeltaEnergy,Exponent,Temperature):\n",
    "    if DeltaEnergy not in [-8,-4,0,4,8]:\n",
    "        print(\"The change in Energy does not agree with the Ising model\")\n",
    "    Accept = False\n",
    "    if DeltaEnergy <= 0:\n",
    "        Accept = True\n",
    "    else:\n",
    "        randNum = np.random.random()\n",
    "        w = Exponent\n",
    "        #Checking w agains the exponent and accepting if r <= w\n",
    "        if randNum <= w:\n",
    "            Accept = True\n",
    "        else:\n",
    "            Accept = False\n",
    "            \n",
    "    return Accept"
   ]
  },
  {
   "cell_type": "markdown",
   "metadata": {},
   "source": [
    "**The Monte Carlo calculation itself: Everything combines into the MonteCarloIsing function**"
   ]
  },
  {
   "cell_type": "code",
   "execution_count": 91,
   "metadata": {},
   "outputs": [],
   "source": [
    "@jit(nopython=True)\n",
    "def MonteCarloIsing(InitialState,NumOfCycles,LatticeSize,Temperature,SkipCycles):\n",
    "    EnergyVector = np.zeros(NumOfCycles)\n",
    "    MagnetizationVector = np.zeros(NumOfCycles)\n",
    "    MagnetizationVectorAbs = np.zeros(NumOfCycles)\n",
    "    M = LatticeSize\n",
    "    NSpins = M*M#Number of spins\n",
    "    #Calculating the initial energy\n",
    "    Energy = LatticeEnergyIsing(InitialState,M)\n",
    "    #print(Energy)\n",
    "    MC = NumOfCycles\n",
    "    CounterAcceptance = 0#Counter to see how many moves are accepted\n",
    "    EnergyValue = 0#Value to assign the energy when we start to take measurements\n",
    "    EnergyValueSquared = 0#Value to assign the energy^2 when we start to take measurements\n",
    "    MagnValue = 0#Value to assign the Magnitization when we start to take measurements\n",
    "    MagnValueSquared = 0#Value to assign the Magnitization^2 when we start to take measurements\n",
    "    MagnValueAbs = 0#Value to assign the Absolute Magnetzation when we start to take measurements\n",
    "    norm = 1/MC\n",
    "    T = Temperature\n",
    "    counter = 0\n",
    "    #precalculation of exponents\n",
    "    Exp1 = np.exp(-(1/Temperature)*(-8))\n",
    "    Exp2 = np.exp(-(1/Temperature)*(-4))\n",
    "    Exp3 = 1\n",
    "    Exp4 = np.exp(-(1/Temperature)*(4))\n",
    "    Exp5 = np.exp(-(1/Temperature)*(8))\n",
    "    for i in range(MC):#Looping over the number of MC cycles\n",
    "        #loop over number of spins\n",
    "        for k in range(NSpins):\n",
    "            #picking a random coordinate in the lattice\n",
    "            line = np.random.randint(M)\n",
    "            column = np.random.randint(M)\n",
    "            #flipping the spin at that position\n",
    "            TempState = InitialState.copy()#Taking a copy so we don't change the initial state\n",
    "            #Then we check the value at that position\n",
    "            if InitialState[line,column] == 1:\n",
    "                TempState[line,column] = int(-1)\n",
    "                tempValue = int(-1)#setting temp value to the assign to the system if move is accepted\n",
    "            else:\n",
    "                TempState[line,column] = int(1)\n",
    "                tempValue = int(1)#setting temp value to the assign to the system if move is accepted\n",
    "            #finding the difference in energy - using periodic boundary conditions\n",
    "            DeltaE = NeigbourInteraction(line,column,TempState,M)\n",
    "            if DeltaE == -8:\n",
    "                Exp = Exp1\n",
    "            elif DeltaE == -4:\n",
    "                Exp = Exp2\n",
    "            elif DeltaE == 0:\n",
    "                Exp = Exp3\n",
    "            elif DeltaE == 4:\n",
    "                Exp = Exp4\n",
    "            else:\n",
    "                Exp = Exp5\n",
    "            #Metropolis part\n",
    "            Acceptance = Metropolis(DeltaE,Exp,T)\n",
    "            if Acceptance:\n",
    "                InitialState[line,column] = tempValue#Change the spin at the location if move accepted\n",
    "                Energy = LatticeEnergyIsing(InitialState,M)#Calculate the new energy value\n",
    "                CounterAcceptance += 1#count if the step was accepted  \n",
    "        #Appending Energy and other relevant variables for calculations\n",
    "        EnergyVector[counter] = Energy\n",
    "        MagnetiZ, MagnetiZAbs = Magnetization(InitialState)\n",
    "        MagnetizationVector[counter] = MagnetiZ\n",
    "        MagnetizationVectorAbs[counter] = MagnetiZAbs\n",
    "        counter += 1\n",
    "        if i >= SkipCycles:#Accounting for time that it takes to reach the most likely state\n",
    "            if not Acceptance:\n",
    "                if EnergyVector[counter-1] != Energy:\n",
    "                    print(\"Error Error Error\")\n",
    "                    print(EnergyVector[counter-1],Energy)\n",
    "            EnergyValue += Energy\n",
    "            EnergyValueSquared += Energy**2\n",
    "            #Magnetization\n",
    "            MagnValue += MagnetiZ\n",
    "            MagnValueSquared += MagnetiZ**2\n",
    "            MagnValueAbs += MagnetiZAbs\n",
    "            \n",
    "        #End of MC loop\n",
    "\n",
    "    MCUsed = MC - SkipCycles#Accounting for the number of cycles that were skipped\n",
    "    #Calculating average energy per particle\n",
    "    #TotalEnergy = sum(EnergyVector)\n",
    "    AverageEnergy = EnergyValue/MCUsed\n",
    "    AverageEnergySquared = EnergyValueSquared/MCUsed\n",
    "    #Energy per spin\n",
    "    EnergyPerParticle = AverageEnergy/NSpins\n",
    "    #Variance in Energy\n",
    "    EnergyVariancePerSpin = (AverageEnergySquared - AverageEnergy**2)/NSpins\n",
    "    #Specific Heat - SPURNING hvað ég að nota fyrir Boltzmanns fasta\n",
    "    k = 1\n",
    "    SpecificHeat = (1/(k*(T**2)))*EnergyVariancePerSpin\n",
    "    #Magnetization\n",
    "    AverageMagnetization = MagnValue/MCUsed\n",
    "    AverageMagnetizationPerPar = AverageMagnetization/NSpins\n",
    "    AverageMagnetizationSquared = MagnValueSquared/MCUsed\n",
    "    AverageMagnetizationAbs = MagnValueAbs/MCUsed\n",
    "    AverageMagnetizationAbsPerSpin = AverageMagnetizationAbs/NSpins\n",
    "    #Variance in Magnetization\n",
    "    MagnetizationVariancePerSpin = (AverageMagnetizationSquared - AverageMagnetizationAbs**2)/(NSpins)\n",
    "    #Susceptibility\n",
    "    Susceptibility = (1/(k*T))*MagnetizationVariancePerSpin\n",
    "\n",
    "    return CounterAcceptance, EnergyVector, MagnetizationVector, MagnetizationVectorAbs, EnergyPerParticle, AverageMagnetizationPerPar, AverageMagnetizationAbsPerSpin, SpecificHeat, Susceptibility"
   ]
  },
  {
   "cell_type": "markdown",
   "metadata": {},
   "source": [
    "**Trying the algo for a 2x2 case:**"
   ]
  },
  {
   "cell_type": "code",
   "execution_count": 93,
   "metadata": {},
   "outputs": [
    {
     "name": "stdout",
     "output_type": "stream",
     "text": [
      "The measurement took, in seconds: 5.296939134597778\n",
      "Number of Accepted moves: 1129919\n",
      "Energy per particle: -0.86932\n",
      "The Average magnetization per spin is: -0.0028\n",
      "The Average absolute magnetization per spin is 0.629258\n",
      "The Specific Heat is: 0.18696655353602665\n",
      "The Susceptibility is: 0.11812438321306126\n"
     ]
    }
   ],
   "source": [
    "L = 2\n",
    "MCCycles = int(5e5)\n",
    "SkipCycles = 0\n",
    "A = StateInitalize(L)\n",
    "TempSmall = np.arange(0.1,5.1,0.4)\n",
    "EnergySmallCase = np.zeros(len(TempSmall))\n",
    "SpecHeatSmallCase = np.zeros(len(TempSmall))\n",
    "MeanMagnAbsSmallCase = np.zeros(len(TempSmall))\n",
    "SusceptibilitySmallCase = np.zeros(len(TempSmall))\n",
    "start = time.time()\n",
    "counter = 0\n",
    "for T1 in TempSmall:\n",
    "    AcceptedMoves, EnergyAll, MagnAll, MagnAllAbs,EnergyPerPart, AverageMagn, AverageMagnAbs, SpecificHeat, Susceptibility = MonteCarloIsing(A,MCCycles,L,T1,SkipCycles)\n",
    "    EnergySmallCase[counter] = EnergyPerPart\n",
    "    SpecHeatSmallCase[counter] = SpecificHeat\n",
    "    MeanMagnAbsSmallCase[counter] = AverageMagnAbs\n",
    "    SusceptibilitySmallCase[counter] = Susceptibility\n",
    "    counter += 1\n",
    "    \n",
    "end = time.time()\n",
    "print(\"The measurement took, in seconds:\", end-start)\n",
    "print(\"Number of Accepted moves:\",AcceptedMoves)\n",
    "print(\"Energy per particle:\",EnergyPerPart)\n",
    "print(\"The Average magnetization per spin is:\",AverageMagn)\n",
    "print(\"The Average absolute magnetization per spin is\",AverageMagnAbs)\n",
    "print(\"The Specific Heat is:\",SpecificHeat)\n",
    "print(\"The Susceptibility is:\",Susceptibility)"
   ]
  },
  {
   "cell_type": "markdown",
   "metadata": {},
   "source": [
    "## Analytical results for 2x2 case:"
   ]
  },
  {
   "cell_type": "markdown",
   "metadata": {},
   "source": [
    "**We now look at analytical results for a 2x2 case of spins:**"
   ]
  },
  {
   "cell_type": "code",
   "execution_count": 16,
   "metadata": {},
   "outputs": [],
   "source": [
    "#All the relevant functions for the 2x2 case\n",
    "def EnergyExp(T):\n",
    "    Beta = 1/T\n",
    "    temp = -((8*np.sinh(8*Beta))/(np.cosh(8*Beta) + 3))\n",
    "    return temp/4\n",
    "\n",
    "def Z(T):\n",
    "    Beta = 1/T\n",
    "    return 2*np.exp(8*Beta) + 12 + 2*np.exp(-8*Beta)\n",
    "\n",
    "def SpecificHeatSmall(T):##Eitthvað vitlaust hér eða hvað??\n",
    "    Beta = 1/T\n",
    "    teljari = 64*(1 + 3*np.cosh(8*Beta))\n",
    "    nefnari = (T**2)*((np.cosh(8*Beta) + 3)**2)\n",
    "    return teljari/nefnari/4\n",
    "\n",
    "def AveragAbsMagnSmall(T):\n",
    "    Beta = 1/T\n",
    "    temp = (8*np.exp(8*Beta) + 16)/Z(T)\n",
    "    return temp/4\n",
    "\n",
    "def SusceptibilitySmall(T):\n",
    "    Beta = 1/T\n",
    "    firstTerm = (32/Z(T))*(1 + np.exp(8*Beta))\n",
    "    secondTerm = (64/Z(T)**2)*((2 + np.exp(8*Beta)))**2\n",
    "    return Beta*(firstTerm - secondTerm)/4"
   ]
  },
  {
   "cell_type": "markdown",
   "metadata": {},
   "source": [
    "**Let's plot:**"
   ]
  },
  {
   "cell_type": "code",
   "execution_count": 94,
   "metadata": {},
   "outputs": [
    {
     "data": {
      "text/plain": [
       "<matplotlib.legend.Legend at 0x21f9b858ac8>"
      ]
     },
     "execution_count": 94,
     "metadata": {},
     "output_type": "execute_result"
    },
    {
     "data": {
      "image/png": "[encoded data removed]",
      "text/plain": [
       "<Figure size 432x288 with 1 Axes>"
      ]
     },
     "metadata": {
      "needs_background": "light"
     },
     "output_type": "display_data"
    },
    {
     "data": {
      "image/png": "[encoded data removed]",
      "text/plain": [
       "<Figure size 432x288 with 1 Axes>"
      ]
     },
     "metadata": {
      "needs_background": "light"
     },
     "output_type": "display_data"
    },
    {
     "data": {
      "image/png": "[encoded data removed]",
      "text/plain": [
       "<Figure size 432x288 with 1 Axes>"
      ]
     },
     "metadata": {
      "needs_background": "light"
     },
     "output_type": "display_data"
    },
    {
     "data": {
      "image/png": "[encoded data removed]",
      "text/plain": [
       "<Figure size 432x288 with 1 Axes>"
      ]
     },
     "metadata": {
      "needs_background": "light"
     },
     "output_type": "display_data"
    }
   ],
   "source": [
    "fig0,ax0 = plt.subplots()\n",
    "T = np.arange(0.1,5,0.01)\n",
    "AvergeEnergySmall = EnergyExp(T)\n",
    "SpecHeatSmall = SpecificHeatSmall(T)\n",
    "AverageAbsSmall = AveragAbsMagnSmall(T)\n",
    "SucsSmall = SusceptibilitySmall(T)\n",
    "#Average energy\n",
    "ax0.plot(T,AvergeEnergySmall,label=\"Analytic Solution\")\n",
    "ax0.plot(TempSmall,EnergySmallCase,'*',label=\"MC\")\n",
    "ax0.grid(alpha=0.3)\n",
    "ax0.set_ylabel(\"AverageEnergy [J]\")\n",
    "ax0.set_xlabel(\"Temperature [T]\")\n",
    "ax0.legend()\n",
    "#Specific Heat\n",
    "fig0_1,ax0_1 = plt.subplots()\n",
    "ax0_1.plot(T,SpecHeatSmall,label=\"Analytic Solution\")\n",
    "ax0_1.plot(TempSmall,SpecHeatSmallCase,'*',label=\"MC\")\n",
    "ax0_1.grid(alpha=0.3)\n",
    "ax0_1.set_ylabel(\"Specific Heat [eining]\")\n",
    "ax0_1.set_xlabel(\"Temperature [T]\")\n",
    "ax0_1.legend()\n",
    "#Mean magnetization - Skrýtið gildi fyrir analytical!!\n",
    "fig0_2,ax0_2 = plt.subplots()\n",
    "ax0_2.plot(T,AverageAbsSmall,label=\"Analytic Solution\")\n",
    "ax0_2.plot(TempSmall,MeanMagnAbsSmallCase,'*',label=\"MC\")\n",
    "ax0_2.grid(alpha=0.3)\n",
    "ax0_2.set_ylabel(\"Mean magnetization [eining]\")\n",
    "ax0_2.set_xlabel(\"Temperature [T]\")\n",
    "ax0_2.legend()\n",
    "#Susceptibility - Per spin!\n",
    "fig0_3,ax0_3 = plt.subplots()\n",
    "ax0_3.plot(T,SucsSmall,label=\"Analytic Solution\")\n",
    "ax0_3.plot(TempSmall,SusceptibilitySmallCase,'*',label=\"MC\")\n",
    "ax0_3.grid(alpha=0.3)\n",
    "ax0_3.set_ylabel(\"Susceptibility [eining]\")\n",
    "ax0_3.set_xlabel(\"Temperature [T]\")\n",
    "ax0_3.legend()"
   ]
  },
  {
   "cell_type": "markdown",
   "metadata": {},
   "source": [
    "## Parallelized Monte Carlo:\n",
    "\n",
    "**We now parallize our code (for different temperatures)**"
   ]
  },
  {
   "cell_type": "code",
   "execution_count": 96,
   "metadata": {},
   "outputs": [],
   "source": [
    "@jit(nopython=True,parallel=True)\n",
    "def MonteCarloIsingParallel2(State,NumOfCycles,L,Temperature,Time,SkipCycles):\n",
    "    #Calling the original MCIsing with Temperature Parallized\n",
    "    T = Temperature\n",
    "    CounterAccept = np.zeros(len(T))\n",
    "    EnergyPerPart = np.zeros(len(T))\n",
    "    AverageMagnPerPart = np.zeros(len(T))\n",
    "    AverageMagnPerPartAbs = np.zeros(len(T))\n",
    "    SpecificHeat = np.zeros(len(T))\n",
    "    Susceptibility = np.zeros(len(T))\n",
    "    AllEnergyPerPart = np.zeros((len(T),NumOfCycles))\n",
    "    TempSkip = SkipCycles\n",
    "    for i in prange(len(T)):\n",
    "        np.random.seed(Time*(i+1))#Seeding differently for each thread if they start at the same time\n",
    "        #Calling the original MC Ising\n",
    "        TempState = State.copy()\n",
    "        CountAcc, EnergyVec, AvMagnVec, AvMagnAbsVec, EnPerPa, AvMagnPePa, AvMagnPePaAbs, SpeHeat, Susc = MonteCarloIsing(TempState,NumOfCycles,L,T[i],TempSkip)\n",
    "        CounterAccept[i] = CountAcc\n",
    "        EnergyPerPart[i] = EnPerPa\n",
    "        AverageMagnPerPart[i] = AvMagnPePa\n",
    "        AverageMagnPerPartAbs[i] = AvMagnPePaAbs\n",
    "        SpecificHeat[i] = SpeHeat\n",
    "        Susceptibility[i] = Susc\n",
    "        AllEnergyPerPart[i,:] = EnergyVec\n",
    "        \n",
    "        \n",
    "    return CounterAccept, EnergyPerPart, AverageMagnPerPart, AverageMagnPerPartAbs, SpecificHeat, Susceptibility, AllEnergyPerPart"
   ]
  },
  {
   "cell_type": "markdown",
   "metadata": {},
   "source": [
    "**Writing to file:**"
   ]
  },
  {
   "cell_type": "code",
   "execution_count": 97,
   "metadata": {},
   "outputs": [],
   "source": [
    "def WriteToFile(filename,NumOfCycles,SkipCycles,L,EnergyPerPart,SpecificHeat,AverageMagnPerPartAbs,Susceptibility,CounterAccept,T,time,EnergyAll):\n",
    "    #writing the the relevant quantities to file\n",
    "    f = open(filename,\"w+\")\n",
    "    f.write(\"Number of Monte Carlo Cycles: \\t\" + str(int(NumOfCycles)) + \"\\n\")\n",
    "    f.write(\"Number of MC cycles skipped before measurements: \\t\" + str(int(SkipCycles)) + \"\\n\" )\n",
    "    f.write(\"Lattice size, L = \\t\" + str(int(L)) + \"\\n\")\n",
    "    f.write(\"Number of different Temperature Measurements: \\t\" + str(int(len(T))) + \"\\n\")\n",
    "    f.write(\"The measurement took  in seconds:\\t\" + str(time) + \"\\n\")\n",
    "    f.write(\"Temperature \\t EnergyPerParticle \\t Heat Capacity Per Part \\t Absolute Mean Magnetization \\t Susceptibility \\t No of accepted steps \\n\")\n",
    "    #writing all averages in the file\n",
    "    for i in range(len(T)):\n",
    "        f.write(str(T[i]) + \"\\t\" + str(EnergyPerPart[i]) + \"\\t\" + str(SpecificHeat[i]) + \"\\t\" + str(AverageMagnPerPartAbs[i]) + \"\\t\" + str(Susceptibility[i]) + \"\\t\" + str(CounterAccept[i]) + \"\\n\")\n",
    "    #writing the values for each step for further analysis\n",
    "    \n",
    "    f.close()"
   ]
  },
  {
   "cell_type": "code",
   "execution_count": 98,
   "metadata": {},
   "outputs": [],
   "source": [
    "f = open(\"TrialFile.txt\",\"w+\")\n",
    "f.write(\"Number of Monte Carlo Cycles: \\t 100000\\n\")\n",
    "f.write(\"Number of MC cycles skipped before measurements: \\t 10000 \\n\")\n",
    "f.write(\"Lattice size, L = \\t 10 \\n\")\n",
    "f.write(\"Number of different Temperature Measurements:\")\n",
    "\n",
    "for i in range(10):\n",
    "    f.write(\"Hello \\n\")\n",
    "        \n",
    "f.close()"
   ]
  },
  {
   "cell_type": "code",
   "execution_count": 100,
   "metadata": {},
   "outputs": [
    {
     "name": "stdout",
     "output_type": "stream",
     "text": [
      "[0.2 0.3 0.4 0.5 0.6 0.7 0.8 0.9 1.  1.1 1.2 1.3 1.4 1.5 1.6 1.7 1.8 1.9\n",
      " 2.  2.1 2.2 2.3 2.4 2.5 2.6 2.7 2.8 2.9 3.  3.1 3.2 3.3 3.4 3.5 3.6 3.7\n",
      " 3.8 3.9 4.  4.1 4.2 4.3 4.4 4.5 4.6 4.7 4.8 4.9]\n",
      "The measurement took, in seconds: 26.960083484649658\n",
      "Number of Accepted moves: [3.000000e+00 1.300000e+01 1.000000e+00 3.000000e+00 5.500000e+01\n",
      " 2.910000e+02 1.097000e+03 3.295000e+03 7.913000e+03 1.666700e+04\n",
      " 3.047900e+04 4.970900e+04 7.747300e+04 1.142570e+05 1.554810e+05\n",
      " 2.054850e+05 2.639690e+05 3.284970e+05 3.999490e+05 4.712330e+05\n",
      " 5.515130e+05 6.339250e+05 7.131230e+05 7.963390e+05 8.839790e+05\n",
      " 9.662250e+05 1.043511e+06 1.122241e+06 1.199031e+06 1.274749e+06\n",
      " 1.347108e+06 1.420100e+06 1.488499e+06 1.558407e+06 1.621333e+06\n",
      " 1.683303e+06 1.743997e+06 1.799503e+06 1.853238e+06 1.904924e+06\n",
      " 1.954839e+06 2.007267e+06 2.051639e+06 2.098471e+06 2.141608e+06\n",
      " 2.180823e+06 2.220446e+06 2.255297e+06]\n",
      "Energy per particle: [-1.999998 -1.999994 -2.       -2.       -1.999976 -1.999852 -1.999464\n",
      " -1.998332 -1.996058 -1.991738 -1.984672 -1.975178 -1.961484 -1.942614\n",
      " -1.922232 -1.89731  -1.868404 -1.835636 -1.800306 -1.764164 -1.724258\n",
      " -1.683136 -1.643084 -1.602632 -1.557846 -1.516436 -1.478966 -1.438618\n",
      " -1.400294 -1.362612 -1.32679  -1.290688 -1.255914 -1.221304 -1.189262\n",
      " -1.15842  -1.127556 -1.100138 -1.072922 -1.046758 -1.022038 -0.99634\n",
      " -0.97557  -0.95044  -0.93016  -0.908128 -0.889914 -0.872946]\n",
      "The Average magnetization per spin is: [-9.999995e-01 -9.999980e-01  1.000000e+00  1.000000e+00 -7.413535e-01\n",
      " -1.755240e-01  1.511095e-01  3.425500e-03 -3.343150e-02 -1.979800e-02\n",
      "  4.110350e-02  1.477000e-02  5.195000e-03 -5.855000e-03 -1.295000e-04\n",
      "  7.527000e-03 -3.260000e-03  4.720000e-04 -5.051500e-03  5.328000e-03\n",
      " -9.662500e-03  3.330500e-03 -2.019000e-03 -1.175500e-03 -1.082500e-03\n",
      " -1.772500e-03  2.688000e-03  1.253500e-03 -2.893000e-03  3.000500e-03\n",
      "  8.650000e-04 -1.397500e-03 -3.027500e-03  3.769000e-03 -1.189500e-03\n",
      "  1.248500e-03 -2.398000e-03  3.504000e-03 -3.745000e-04 -3.063500e-03\n",
      "  1.368000e-03  2.770000e-03 -1.005000e-03 -1.346000e-03  2.020500e-03\n",
      "  6.410000e-04 -2.754000e-03  1.744000e-03]\n",
      "The Average absolute magnetization per spin is [0.9999995 0.999998  1.        1.        0.9999905 0.999952  0.9998185\n",
      " 0.9994415 0.9986865 0.99725   0.9949145 0.991757  0.98715   0.980907\n",
      " 0.9740985 0.965779  0.956185  0.945252  0.9335875 0.92134   0.9082385\n",
      " 0.8946655 0.881336  0.8679205 0.8529955 0.8393775 0.827072  0.8140115\n",
      " 0.801207  0.7888495 0.776979  0.7653875 0.7537725 0.742272  0.7323515\n",
      " 0.7219675 0.711988  0.703026  0.6944275 0.6862405 0.678114  0.669484\n",
      " 0.662873  0.654698  0.6480435 0.64119   0.63562   0.630074 ]\n",
      "The Specific Heat is: [3.99999600e-04 5.33331733e-04 0.00000000e+00 0.00000000e+00\n",
      " 5.33326933e-04 2.41614772e-03 6.69820440e-03 1.64603347e-02\n",
      " 3.14738425e-02 5.44520309e-02 8.45251456e-02 1.16099097e-01\n",
      " 1.54311261e-01 1.98454839e-01 2.34125216e-01 2.70442580e-01\n",
      " 3.04832707e-01 3.36204405e-01 3.61910306e-01 3.80608962e-01\n",
      " 3.96782107e-01 4.08133993e-01 4.12924284e-01 4.14168750e-01\n",
      " 4.15517065e-01 4.11639977e-01 4.02832434e-01 3.95014625e-01\n",
      " 3.85516762e-01 3.74766509e-01 3.62993866e-01 3.51108351e-01\n",
      " 3.38794472e-01 3.27317074e-01 3.15072807e-01 3.02845027e-01\n",
      " 2.91466334e-01 2.79648752e-01 2.68730595e-01 2.58042044e-01\n",
      " 2.47724791e-01 2.37672819e-01 2.27875036e-01 2.19205493e-01\n",
      " 2.10358105e-01 2.02192401e-01 1.94380742e-01 1.86674433e-01]\n",
      "The Susceptibility is: [4.99999500e-06 1.99999467e-05 0.00000000e+00 0.00000000e+00\n",
      " 5.49993983e-05 1.99986834e-04 6.91085289e-04 1.86861368e-03\n",
      " 3.93209887e-03 7.46522727e-03 1.25696256e-02 1.87463168e-02\n",
      " 2.70996500e-02 3.71678863e-02 4.69034057e-02 5.77009957e-02\n",
      " 6.88194351e-02 8.02961189e-02 9.08692597e-02 1.01079246e-01\n",
      " 1.10141049e-01 1.18421553e-01 1.25327259e-01 1.31162009e-01\n",
      " 1.37225272e-01 1.41186167e-01 1.43449153e-01 1.45485556e-01\n",
      " 1.47296458e-01 1.48110602e-01 1.48430167e-01 1.47966333e-01\n",
      " 1.47623257e-01 1.47092318e-01 1.45215034e-01 1.44000734e-01\n",
      " 1.42352724e-01 1.40398916e-01 1.38229697e-01 1.35899245e-01\n",
      " 1.33845146e-01 1.31892255e-01 1.29452624e-01 1.27414248e-01\n",
      " 1.25179019e-01 1.22823731e-01 1.20425180e-01 1.18221432e-01]\n"
     ]
    }
   ],
   "source": [
    "#Trial of New Parallized MC\n",
    "Time = time.time()\n",
    "L = 2\n",
    "StateP = StateInitalize(L)\n",
    "TempRange = np.arange(0.2,5,0.1)\n",
    "#TempRange = np.array([1])\n",
    "SkipCycl = 0\n",
    "MCCycles = int(1e6)\n",
    "filename = \"TrialWriting.txt\"\n",
    "print(TempRange)\n",
    "start = time.time()\n",
    "AcceptedMovesP, EnergyPerPartP, AverageMagnP, AverageMagnAbsP, SpecificHeatP, SusceptibilityP, AllEnergy = MonteCarloIsingParallel2(StateP,MCCycles,L,TempRange,Time,0)\n",
    "end = time.time()\n",
    "print(\"The measurement took, in seconds:\", end-start)\n",
    "print(\"Number of Accepted moves:\",AcceptedMovesP)\n",
    "print(\"Energy per particle:\",EnergyPerPartP)\n",
    "print(\"The Average magnetization per spin is:\",AverageMagnP)\n",
    "print(\"The Average absolute magnetization per spin is\",AverageMagnAbsP)\n",
    "print(\"The Specific Heat is:\",SpecificHeatP)\n",
    "print(\"The Susceptibility is:\",SusceptibilityP)\n",
    "\n",
    "WriteToFile(filename,MCCycles,SkipCycl,L,EnergyPerPartP,SpecificHeatP,AverageMagnAbsP,SusceptibilityP,AcceptedMovesP,TempRange,end-start,AllEnergy)"
   ]
  },
  {
   "cell_type": "code",
   "execution_count": 22,
   "metadata": {},
   "outputs": [
    {
     "data": {
      "image/png": "[encoded data removed]",
      "text/plain": [
       "<Figure size 432x288 with 1 Axes>"
      ]
     },
     "metadata": {
      "needs_background": "light"
     },
     "output_type": "display_data"
    },
    {
     "data": {
      "image/png": "[encoded data removed]",
      "text/plain": [
       "<Figure size 432x288 with 1 Axes>"
      ]
     },
     "metadata": {
      "needs_background": "light"
     },
     "output_type": "display_data"
    },
    {
     "data": {
      "image/png": "[encoded data removed]",
      "text/plain": [
       "<Figure size 432x288 with 1 Axes>"
      ]
     },
     "metadata": {
      "needs_background": "light"
     },
     "output_type": "display_data"
    },
    {
     "data": {
      "image/png": "[encoded data removed]",
      "text/plain": [
       "<Figure size 432x288 with 1 Axes>"
      ]
     },
     "metadata": {
      "needs_background": "light"
     },
     "output_type": "display_data"
    }
   ],
   "source": [
    "#Plotting the trial parallized\n",
    "fig1_0,ax1_0 = plt.subplots()\n",
    "T = np.arange(0.1,5,0.01)\n",
    "AvergeEnergySmall = EnergyExp(T)\n",
    "SpecHeatSmall = SpecificHeatSmall(T)\n",
    "AverageAbsSmall = AveragAbsMagnSmall(T)\n",
    "SucsSmall = SusceptibilitySmall(T)\n",
    "#Average energy\n",
    "ax1_0.plot(T,AvergeEnergySmall,label=\"Analytic Solution\")\n",
    "ax1_0.plot(TempRange,EnergyPerPartP,'*',label=\"MC\")\n",
    "ax1_0.grid(alpha=0.3)\n",
    "ax1_0.set_ylabel(\"AverageEnergy [J]\")\n",
    "ax1_0.set_xlabel(\"Temperature [T]\")\n",
    "ax1_0.legend()\n",
    "plt.savefig(\"L2LatticeEnergy.png\",format=\"png\",dpi=300)\n",
    "#Specific Heat\n",
    "fig1_1,ax1_1 = plt.subplots()\n",
    "ax1_1.plot(T,SpecHeatSmall,label=\"Analytic Solution\")\n",
    "ax1_1.plot(TempRange,SpecificHeatP,'*',label=\"MC\")\n",
    "ax1_1.grid(alpha=0.3)\n",
    "ax1_1.set_ylabel(\"Specific Heat [eining]\")\n",
    "ax1_1.set_xlabel(\"Temperature [T]\")\n",
    "ax1_1.legend()\n",
    "plt.savefig(\"L2LatticeHeatCapacity.png\",format=\"png\",dpi=300)\n",
    "#Mean magnetization - Skrýtið gildi fyrir analytical!!\n",
    "fig1_2,ax1_2 = plt.subplots()\n",
    "ax1_2.plot(T,AverageAbsSmall,label=\"Analytic Solution\")\n",
    "ax1_2.plot(TempRange,AverageMagnAbsP,'*',label=\"MC\")\n",
    "ax1_2.grid(alpha=0.3)\n",
    "ax1_2.set_ylabel(\"Mean magnetization [eining]\")\n",
    "ax1_2.set_xlabel(\"Temperature [T]\")\n",
    "ax1_2.legend()\n",
    "plt.savefig(\"L2LatticeMeanMagn.png\",format=\"png\",dpi=300)\n",
    "#Susceptibility - Per spin!\n",
    "fig1_3,ax1_3 = plt.subplots()\n",
    "ax1_3.plot(T,SucsSmall,label=\"Analytic Solution\")\n",
    "ax1_3.plot(TempRange,SusceptibilityP,'*',label=\"MC\")\n",
    "ax1_3.grid(alpha=0.3)\n",
    "ax1_3.set_ylabel(\"Susceptibility [eining]\")\n",
    "ax1_3.set_xlabel(\"Temperature [T]\")\n",
    "ax1_3.legend()\n",
    "plt.savefig(\"L2LatticeSusceptibility.png\",format=\"png\",dpi=300)"
   ]
  },
  {
   "cell_type": "markdown",
   "metadata": {},
   "source": [
    "**Trial for bigger lattice:**"
   ]
  },
  {
   "cell_type": "code",
   "execution_count": 70,
   "metadata": {},
   "outputs": [
    {
     "name": "stdout",
     "output_type": "stream",
     "text": [
      "The measurement took, in seconds: 46.75622487068176\n",
      "Number of Accepted moves: 693242\n",
      "Energy per particle: -1.965639\n",
      "The Average magnetization is: -0.779713375\n",
      "The Average absolute magnetization is: 0.8390680416666666\n",
      "The Specific Heat is: 4.837411353067727\n",
      "The Susceptibility is: 131.73816907586414\n"
     ]
    }
   ],
   "source": [
    "L = 40\n",
    "A2 = StateInitalize(L)\n",
    "T2 = 1\n",
    "SkippingCycles = int(1e4)\n",
    "MCCycles = int(4e4)\n",
    "start = time.time()\n",
    "AcceptedMoves2, EnergyAll2, MagnAll2, MagnallAbs2, EnergyPerPart2, AverageMagn2, AverageMagnAbs2,SpecificHeat2, Susceptibility2 = MonteCarloIsing(A2,MCCycles,L,T2,SkippingCycles)\n",
    "end = time.time()\n",
    "print(\"The measurement took, in seconds:\", end-start)\n",
    "print(\"Number of Accepted moves:\",AcceptedMoves2)\n",
    "print(\"Energy per particle:\",EnergyPerPart2)\n",
    "print(\"The Average magnetization is:\",AverageMagn2)\n",
    "print(\"The Average absolute magnetization is:\",AverageMagnAbs2)\n",
    "print(\"The Specific Heat is:\",SpecificHeat2)\n",
    "print(\"The Susceptibility is:\", Susceptibility2)"
   ]
  },
  {
   "cell_type": "markdown",
   "metadata": {},
   "source": [
    "**Counting how often a certain energy value is measured:**"
   ]
  },
  {
   "cell_type": "code",
   "execution_count": 71,
   "metadata": {},
   "outputs": [
    {
     "data": {
      "text/plain": [
       "Text(0, 0.5, 'Counts')"
      ]
     },
     "execution_count": 71,
     "metadata": {},
     "output_type": "execute_result"
    },
    {
     "data": {
      "image/png": "[encoded data removed]",
      "text/plain": [
       "<Figure size 432x288 with 1 Axes>"
      ]
     },
     "metadata": {
      "needs_background": "light"
     },
     "output_type": "display_data"
    }
   ],
   "source": [
    "EnergyValue, EnergyCount = ArrayElementCounter(EnergyAll2[SkippingCycles:-1])\n",
    "fig1_7,ax1_7 = plt.subplots()\n",
    "ax1_7.bar(EnergyValue,EnergyCount)\n",
    "ax1_7.grid(alpha=0.3)\n",
    "ax1_7.set_xlabel(\"Energy [J]\")\n",
    "ax1_7.set_ylabel(\"Counts\")\n",
    "#plt.yscale(\"log\")"
   ]
  },
  {
   "cell_type": "code",
   "execution_count": 26,
   "metadata": {},
   "outputs": [
    {
     "name": "stdout",
     "output_type": "stream",
     "text": [
      "-1.645973\n",
      "-2.0\n"
     ]
    }
   ],
   "source": [
    "SummaPerSpin = sum(EnergyAll2)/((MCCycles-SkippingCycles)*(L**2))\n",
    "print(SummaPerSpin)\n",
    "State = StateInitalizeNonRandom(3,\"up\")\n",
    "print(LatticeEnergyIsing(State,3)/(3*3))#Gefur ekki rétta meðalorku þegar oddatala :O !!!!!"
   ]
  },
  {
   "cell_type": "code",
   "execution_count": 72,
   "metadata": {},
   "outputs": [
    {
     "data": {
      "image/png": "[encoded data removed]",
      "text/plain": [
       "<Figure size 432x288 with 1 Axes>"
      ]
     },
     "metadata": {
      "needs_background": "light"
     },
     "output_type": "display_data"
    }
   ],
   "source": [
    "fig2, ax2 = plt.subplots()\n",
    "Steps2 = np.arange(0,MCCycles)\n",
    "ax2.plot(Steps2,EnergyAll2)\n",
    "#ax2.axhline(y=-20000,c='r')\n",
    "ax2.set_xlabel(\"MC steps\")\n",
    "ax2.set_ylabel(\"Energy [J]\")\n",
    "ax2.grid(alpha=0.3)\n",
    "plt.savefig(\"EnergyMCL80.png\",format=\"png\",dpi=300)\n",
    "plt.show()"
   ]
  },
  {
   "cell_type": "code",
   "execution_count": 73,
   "metadata": {},
   "outputs": [
    {
     "data": {
      "image/png": "[encoded data removed]",
      "text/plain": [
       "<Figure size 432x288 with 1 Axes>"
      ]
     },
     "metadata": {
      "needs_background": "light"
     },
     "output_type": "display_data"
    }
   ],
   "source": [
    "fig2_2, ax2_2 = plt.subplots()\n",
    "Steps2 = np.arange(0,MCCycles)\n",
    "#ax2_2.plot(Steps2,MagnAll2)\n",
    "ax2_2.plot(Steps2,MagnallAbs2)\n",
    "ax2_2.set_xlabel(\"MC steps\")\n",
    "ax2_2.set_ylabel(\"Magnetization\")\n",
    "ax2_2.grid(alpha=0.3)\n",
    "plt.savefig(\"AbsMagnetizationL80.png\",format=\"png\",dpi=300)\n",
    "plt.show()"
   ]
  },
  {
   "cell_type": "markdown",
   "metadata": {},
   "source": [
    "**We see that the system has reached its most likely state after at least 80000 iterations, but often quite lower. Thus we start to take measurements after 80000 iterations for analysis. Getur verið mun hærra!!**"
   ]
  },
  {
   "cell_type": "markdown",
   "metadata": {},
   "source": [
    "**Let's do measurements for several different Temperature:**"
   ]
  },
  {
   "cell_type": "code",
   "execution_count": null,
   "metadata": {},
   "outputs": [],
   "source": [
    "#T = [0.1,0.3,0.5,0.7,0.9,1,1.3,1.5,1.7,1.9,2,2.3,2.5,2.7,2.9,3]\n",
    "a = np.arange(0.1,2,0.1)\n",
    "b = np.arange(2.0,2.3,0.005)\n",
    "c = np.concatenate((a,b),axis=0)\n",
    "d = np.arange(2.35,4,0.1)\n",
    "T = np.concatenate((c,d),axis=0)\n",
    "#T = np.arange(2.0,2.3,0.005)\n",
    "print(T)\n",
    "SkipSteps = 400000\n",
    "MC_Cycles = int(1e6)\n",
    "Steps3 = np.arange(0,MC_Cycles-(SkipSteps+1))\n",
    "AcceptedMoves = np.zeros(len(T))\n",
    "EnergyPerParticle = np.zeros(len(T))\n",
    "MagnetizationPerParticle = np.zeros(len(T))\n",
    "Susceptibility = np.zeros(len(T))\n",
    "SpecificHeat = np.zeros(len(T))\n",
    "fig3, ax3 = plt.subplots()\n",
    "fig3_1,ax3_1 = plt.subplots()\n",
    "counter = 0\n",
    "L = 40#Lattice size\n",
    "start = time.time()\n",
    "for i in range(len(T)):\n",
    "    Temp = T[i]\n",
    "    A3 = StateInitalize(L)\n",
    "    AcceptedMoves2, EnergyAll2, MagnAll2, MagnAllAbs2, EnergyPerPart2, AverageMagn2, AverageMagnAbs2, SpecificHeat2, Susceptibility2 = MonteCarloIsing(A3,MC_Cycles,L,Temp,SkipSteps)\n",
    "    EnergyPerParticle[counter] = EnergyPerPart2\n",
    "    SpecificHeat[counter] = SpecificHeat2\n",
    "    MagnetizationPerParticle[counter] = AverageMagnAbs2\n",
    "    Susceptibility[counter] = Susceptibility2\n",
    "    counter += 1\n",
    "    ax3.plot(Steps3,EnergyAll2)\n",
    "    ax3_1.plot(Steps3,MagnAll2)\n",
    "    \n",
    "end = time.time()\n",
    "print(\"took in seconds: \",end-start)\n",
    "ax3.grid(alpha=0.3)\n",
    "ax3_1.grid(alpha=0.3)\n",
    "plt.show()"
   ]
  },
  {
   "cell_type": "markdown",
   "metadata": {},
   "source": [
    "**Energy per particle as a function of temperature:**\n",
    "\n",
    "Gæti verið að Setupið sé ekki búið að converga???"
   ]
  },
  {
   "cell_type": "code",
   "execution_count": null,
   "metadata": {},
   "outputs": [],
   "source": [
    "#Plotting energy as a function of particle\n",
    "fig4,ax4 = plt.subplots()\n",
    "ax4.plot(T,EnergyPerParticle,'*--',ms=9)\n",
    "ax4.set_ylabel(\"Energy per particle [J]\")\n",
    "ax4.set_xlabel(\"Temperature [T]\")\n",
    "ax4.grid(alpha=0.3)\n",
    "plt.show()"
   ]
  },
  {
   "cell_type": "markdown",
   "metadata": {},
   "source": [
    "**Specific heat as a function of temperature:**"
   ]
  },
  {
   "cell_type": "code",
   "execution_count": null,
   "metadata": {},
   "outputs": [],
   "source": [
    "#Plotting specific heat as a function of Temperature - Eitthvað mjög flippað í gangi hér !!\n",
    "fig5,ax5 = plt.subplots()\n",
    "ax5.plot(T,SpecificHeat,'*',ms=9)\n",
    "ax5.set_ylabel(\"Specific Heat, Cv [eining]\")\n",
    "ax5.set_xlabel(\"Temperature [T]\")\n",
    "ax5.grid(alpha=0.3)\n",
    "plt.show()"
   ]
  },
  {
   "cell_type": "markdown",
   "metadata": {},
   "source": [
    "**Average Magnetization as a function of particle:**"
   ]
  },
  {
   "cell_type": "code",
   "execution_count": null,
   "metadata": {},
   "outputs": [],
   "source": [
    "#Plotting average Magnetization as a function of temperature\n",
    "fig6,ax6 = plt.subplots()\n",
    "ax6.plot(T,MagnetizationPerParticle,'*',ms=7)\n",
    "ax6.set_ylabel(\"Average absolute Magnetization, |M| [eining]\")\n",
    "ax6.set_xlabel(\"Temperature [T]\")\n",
    "ax6.grid(alpha=0.3)\n",
    "plt.show()"
   ]
  },
  {
   "cell_type": "code",
   "execution_count": null,
   "metadata": {},
   "outputs": [],
   "source": [
    "#Plotting average Magnetization as a function of temperature\n",
    "fig6,ax6 = plt.subplots()\n",
    "ax6.plot(T,Susceptibility,'*--',ms=9)\n",
    "ax6.set_ylabel(\"Susceptibility, [eining]\")\n",
    "ax6.set_xlabel(\"Temperature [T]\")\n",
    "ax6.grid(alpha=0.3)\n",
    "plt.show()"
   ]
  },
  {
   "cell_type": "markdown",
   "metadata": {},
   "source": [
    "**Accurate measurements around $T_C$:** Eitthvað mjög flippað í gangi, held með parallelization!!!!"
   ]
  },
  {
   "cell_type": "code",
   "execution_count": 77,
   "metadata": {},
   "outputs": [
    {
     "name": "stdout",
     "output_type": "stream",
     "text": [
      "[0.1  0.35 0.6  0.85 1.1  1.35 1.6  1.85 2.   2.05 2.1  2.15 2.2  2.25\n",
      " 2.3  2.55 2.8  3.05 3.3  3.55 3.8  4.05 4.3  4.55 4.8 ]\n",
      "The measurement took, in seconds: 8936.800213575363\n",
      "Number of Accepted moves: [8.03100000e+03 1.55450000e+04 8.90300000e+03 3.52510000e+04\n",
      " 2.61091000e+05 1.60006800e+06 3.24382700e+06 7.81309400e+06\n",
      " 1.26546800e+07 1.48611230e+07 1.73863180e+07 2.04914530e+07\n",
      " 2.40713420e+07 2.87323980e+07 3.46005830e+07 5.46364190e+07\n",
      " 6.64063910e+07 7.54035680e+07 8.27065270e+07 8.87857490e+07\n",
      " 9.38962660e+07 9.83416290e+07 1.02183243e+08 1.05569102e+08\n",
      " 1.08547603e+08]\n",
      "Energy per particle: [-2.         -2.         -1.99998905 -1.99934988 -1.99396672 -1.9747326\n",
      " -1.9279905  -1.83666648 -1.74619485 -1.7074189  -1.661592   -1.60646873\n",
      " -1.544957   -1.46723025 -1.37021775 -1.06347777 -0.90634247 -0.79663387\n",
      " -0.71237058 -0.64613078 -0.59220587 -0.54705633 -0.5092628  -0.4757717\n",
      " -0.44725213]\n",
      "The Average magnetization per spin is: [-1.00000000e+00 -1.00000000e+00  9.99997225e-01  9.99836175e-01\n",
      "  9.98446800e-01 -9.93245400e-01  9.79553275e-01 -9.48728000e-01\n",
      " -9.12197375e-01 -8.93842100e-01 -8.68763650e-01 -8.31910100e-01\n",
      " -7.86239725e-01  1.45966875e-01  1.85205700e-01 -1.43132000e-02\n",
      " -3.26460000e-03  5.24000000e-05  1.50642500e-03  2.73292500e-03\n",
      " -7.97425000e-04 -8.93275000e-04 -4.00275000e-04  5.82775000e-04\n",
      " -6.58550000e-04]\n",
      "The Average absolute magnetization per spin is [1.         1.         0.99999722 0.99983617 0.9984468  0.9932454\n",
      " 0.97955328 0.948728   0.91219737 0.8938421  0.86876365 0.8319101\n",
      " 0.78623972 0.69389482 0.53410935 0.1367844  0.08519265 0.06548315\n",
      " 0.05525973 0.04821668 0.04409472 0.04077528 0.03831478 0.03625568\n",
      " 0.0346372 ]\n",
      "The Specific Heat is: [0.00000000e+00 0.00000000e+00 2.40578213e-04 7.27209685e-03\n",
      " 4.14268582e-02 1.22968886e-01 2.64339787e-01 4.95744172e-01\n",
      " 7.31905333e-01 8.28350833e-01 9.51574004e-01 1.17166665e+00\n",
      " 1.39312172e+00 1.76131071e+00 2.02475670e+00 8.00487394e-01\n",
      " 5.20277904e-01 3.81069355e-01 2.97270096e-01 2.44169554e-01\n",
      " 2.01317225e-01 1.68261813e-01 1.44457267e-01 1.24288765e-01\n",
      " 1.09135779e-01]\n",
      "The Susceptibility is: [0.00000000e+00 0.00000000e+00 9.22946492e-06 3.94833166e-04\n",
      " 3.15219238e-03 1.32169675e-02 4.30649055e-02 1.45397744e-01\n",
      " 3.60941559e-01 5.09709038e-01 8.69541763e-01 2.18129699e+00\n",
      " 3.42502917e+00 1.43323746e+01 2.94235644e+01 6.31694689e+00\n",
      " 2.38238772e+00 1.26621210e+00 8.28821763e-01 5.94268437e-01\n",
      " 4.68044240e-01 3.70967720e-01 3.13522343e-01 2.58251890e-01\n",
      " 2.27195459e-01]\n"
     ]
    }
   ],
   "source": [
    "#Trial of Parallized MC\n",
    "#Assigning Temperature\n",
    "a = np.arange(0.1,2,0.25)\n",
    "b = np.arange(2.0,2.3,0.05)\n",
    "c = np.concatenate((a,b),axis=0)\n",
    "d = np.arange(2.3,5,0.25)\n",
    "TempRange = np.concatenate((c,d),axis=0)\n",
    "#TempRange = np.arange(2,2.34,0.02)\n",
    "print(TempRange)\n",
    "#Creating Lattice\n",
    "L = 40\n",
    "MCCycles = int(1e5)\n",
    "SkipCycles = int(0.5e5)\n",
    "StateP = StateInitalize(L)\n",
    "#TempRange = np.arange(0.2,3.5,0.1)\n",
    "#print(TempRange)\n",
    "Time = time.time()\n",
    "start = time.time()\n",
    "AcceptedMovesP, EnergyPerPartP, AverageMagnP, AverageMagnAbsP, SpecificHeatP, SusceptibilityP, EnergyAll = MonteCarloIsingParallel2(StateP,MCCycles,L,TempRange,Time,SkipCycles)\n",
    "end = time.time()\n",
    "print(\"The measurement took, in seconds:\", end-start)\n",
    "print(\"Number of Accepted moves:\",AcceptedMovesP)\n",
    "print(\"Energy per particle:\",EnergyPerPartP)\n",
    "print(\"The Average magnetization per spin is:\",AverageMagnP)\n",
    "print(\"The Average absolute magnetization per spin is\",AverageMagnAbsP)\n",
    "print(\"The Specific Heat is:\",SpecificHeatP)\n",
    "print(\"The Susceptibility is:\",SusceptibilityP)"
   ]
  },
  {
   "cell_type": "markdown",
   "metadata": {},
   "source": [
    "**Plotting the relevant Parameters:**"
   ]
  },
  {
   "cell_type": "code",
   "execution_count": 79,
   "metadata": {},
   "outputs": [
    {
     "data": {
      "image/png": "[encoded data removed]",
      "text/plain": [
       "<Figure size 432x288 with 1 Axes>"
      ]
     },
     "metadata": {
      "needs_background": "light"
     },
     "output_type": "display_data"
    }
   ],
   "source": [
    "fig7, ax7 = plt.subplots()\n",
    "ax7.plot(TempRange,AverageMagnAbsP,'*--',ms=9)\n",
    "ax7.set_ylabel(\"Absolute average Magnetization\")\n",
    "ax7.set_xlabel(\"Temperature [T]\")\n",
    "ax7.grid(alpha=0.3)"
   ]
  },
  {
   "cell_type": "code",
   "execution_count": 80,
   "metadata": {},
   "outputs": [
    {
     "data": {
      "image/png": "[encoded data removed]",
      "text/plain": [
       "<Figure size 432x288 with 1 Axes>"
      ]
     },
     "metadata": {
      "needs_background": "light"
     },
     "output_type": "display_data"
    }
   ],
   "source": [
    "#Heat capacity\n",
    "fig8, ax8 = plt.subplots()\n",
    "ax8.plot(TempRange,SpecificHeatP,'*--',ms=9)\n",
    "ax8.set_ylabel(\"Heat Capacity\")\n",
    "ax8.set_xlabel(\"Temperature [T]\")\n",
    "ax8.grid(alpha=0.3)"
   ]
  },
  {
   "cell_type": "code",
   "execution_count": 81,
   "metadata": {},
   "outputs": [
    {
     "data": {
      "image/png": "[encoded data removed]",
      "text/plain": [
       "<Figure size 432x288 with 1 Axes>"
      ]
     },
     "metadata": {
      "needs_background": "light"
     },
     "output_type": "display_data"
    }
   ],
   "source": [
    "#Energy per Particle\n",
    "fig9, ax9 = plt.subplots()\n",
    "ax9.plot(TempRange,EnergyPerPartP,'*--',ms=9)\n",
    "ax9.set_ylabel(\"Energy Per particle\")\n",
    "ax9.set_xlabel(\"Temperature [T]\")\n",
    "ax9.grid(alpha=0.3)"
   ]
  },
  {
   "cell_type": "code",
   "execution_count": 82,
   "metadata": {},
   "outputs": [
    {
     "data": {
      "image/png": "[encoded data removed]",
      "text/plain": [
       "<Figure size 432x288 with 1 Axes>"
      ]
     },
     "metadata": {
      "needs_background": "light"
     },
     "output_type": "display_data"
    }
   ],
   "source": [
    "#Susceptibility\n",
    "fig10, ax10 = plt.subplots()\n",
    "ax10.plot(TempRange,SusceptibilityP,'*--',ms=9)\n",
    "ax10.set_ylabel(\"Susceptibility [Eining]\")\n",
    "ax10.set_xlabel(\"Temperature [T]\")\n",
    "ax10.grid(alpha=0.3)"
   ]
  },
  {
   "cell_type": "markdown",
   "metadata": {},
   "source": [
    "**Writing to file:**"
   ]
  },
  {
   "cell_type": "code",
   "execution_count": 87,
   "metadata": {},
   "outputs": [],
   "source": [
    "filename = \"RunL40No5Test.txt\"\n",
    "WriteToFile(filename,MCCycles,SkipCycles,L,EnergyPerPartP,SpecificHeatP,AverageMagnAbsP,SusceptibilityP,AcceptedMovesP,TempRange,end-start,EnergyAll)"
   ]
  },
  {
   "cell_type": "markdown",
   "metadata": {},
   "source": [
    "**Plotting individual runs:**"
   ]
  },
  {
   "cell_type": "code",
   "execution_count": 76,
   "metadata": {},
   "outputs": [
    {
     "name": "stdout",
     "output_type": "stream",
     "text": [
      "[    0     1     2 ... 99997 99998 99999]\n",
      "4.499792875\n"
     ]
    },
    {
     "data": {
      "image/png": "[encoded data removed]",
      "text/plain": [
       "<Figure size 432x288 with 1 Axes>"
      ]
     },
     "metadata": {
      "needs_background": "light"
     },
     "output_type": "display_data"
    }
   ],
   "source": [
    "fig11,ax11 = plt.subplots()\n",
    "Steps = np.arange(0,100000,1)\n",
    "print(Steps)\n",
    "ax11.plot(Steps,EnergyAll[10,:])\n",
    "print(sum(EnergyAll[0,:])/((MCCycles-SkipCycles)*L**2))"
   ]
  },
  {
   "cell_type": "markdown",
   "metadata": {},
   "source": [
    "## Functions not used:"
   ]
  },
  {
   "cell_type": "code",
   "execution_count": null,
   "metadata": {},
   "outputs": [],
   "source": [
    "@jit(nopython=True,parallel=True)\n",
    "def MonteCarloIsingParallel(InitialState1,NumOfCycles,LatticeSize,Temperature,Time):\n",
    "    EnergyVector = np.zeros(NumOfCycles-80001)\n",
    "    MagnetizationVector = np.zeros(NumOfCycles-80001)\n",
    "    MagnetizationVectorAbs = np.zeros(NumOfCycles-80001)\n",
    "    M = LatticeSize\n",
    "    NSpins = M*M#Number of spins\n",
    "    InitialState = InitialState1#Setting a lattice for overwriting\n",
    "    #Calculating the initial energy\n",
    "    Energy = LatticeEnergyIsing(EnergyMatrix,M)\n",
    "    #print(Energy)\n",
    "    MC = NumOfCycles\n",
    "    SkipCycles = 80001#Number of cycles to skip for the system to reach its most likely state\n",
    "    CounterAcceptance = np.zeros(len(Temperature))#Counter to see how many moves are accepted\n",
    "    EnergyValue = np.zeros(len(Temperature))\n",
    "    EnergyValueSquared = np.zeros(len(Temperature))\n",
    "    MagnValue = np.zeros(len(Temperature))\n",
    "    MagnValueSquared = np.zeros(len(Temperature))\n",
    "    MagnValueAbs = np.zeros(len(Temperature))\n",
    "    norm = 1/MC\n",
    "    #Parallelization\n",
    "    counter = np.zeros(len(Temperature))\n",
    "    T = Temperature\n",
    "    \n",
    "    InitialStates = np.array([[np.zeros((L,L))]])#Assigning array of the same state for each vector to work on\n",
    "    InitialStates[:] = InitialState\n",
    "    for j in prange(len(Temperature)):\n",
    "        np.random.seed(Time*(j+1))#Seeding differently for each thread if they start at the same time\n",
    "        tempTemp = T[j]\n",
    "        for i in range(MC):#Looping over the number of MC cycles\n",
    "            #picking a random coordinate in the lattice\n",
    "            randNum = np.random.randint(M*M)\n",
    "            line = int(np.floor(randNum/M))#finding the relavant line in the lattice\n",
    "            column = int(randNum - M*line)#finding the relavant column in the lattice\n",
    "            #print(randNum,line,column)\n",
    "            #flipping the spin at that position\n",
    "            TempState = InitialStates[j][0].copy()\n",
    "            #print(InitialState[line,column])\n",
    "            #print(InitialState)\n",
    "            if InitialState[line,column] == 1:\n",
    "                TempState[line,column] = int(-1)\n",
    "                tempValue = int(-1)#setting temp value to the assign to the system if move is accepted\n",
    "            else:\n",
    "                TempState[line,column] = int(1)\n",
    "                tempValue = int(1)#setting temp value to the assign to the system if move is accepted\n",
    "            #finding the difference in energy - using periodic boundary conditions\n",
    "            DeltaE = NeigbourInteraction(line,column,TempState,M)\n",
    "            if DeltaE not in [-8,-4,0,4,8]:\n",
    "                print(\"vúpps\")\n",
    "            Acceptance = Metropolis(DeltaE,tempTemp)\n",
    "            #Metropolis part\n",
    "            if Acceptance:\n",
    "                InitialStates[j][0][line,column] = tempValue\n",
    "                CounterAcceptance[j] += 1  \n",
    "            #Appending Energy and other relevant variables for calculations\n",
    "            Energy = LatticeEnergyIsing(InitialStates[j][0],M)#Þarf að taka alltaf gildin á orkunni!!!\n",
    "            if i > 80000:#Accounting for time that it takes to reach the most likely state\n",
    "                #EnergyVector[counter] = Energy\n",
    "                EnergyValue[j] += Energy\n",
    "                EnergyValueSquared[j] += Energy**2\n",
    "                #Magnetization\n",
    "                MagnetiZ = Magnetization(InitialStates[j][0])\n",
    "                #MagnetizationVector[counter] = MagnetiZ\n",
    "                MagnValue[j] += MagnetiZ\n",
    "                MagnValueSquared[j] += MagnetiZ**2\n",
    "                MagnValueAbs[j] += np.absolute(MagnetiZ)\n",
    "                counter[j] += 1\n",
    "            #End of MC loop\n",
    "\n",
    "    #print(InitialState)\n",
    "    MC = MC - SkipCycles\n",
    "    #print(Energy)\n",
    "    #FinalEnergy = LatticeEnergyIsing(InitialState,M)\n",
    "    #Calculating average energy per particle\n",
    "    #TotalEnergy = sum(EnergyVector)\n",
    "    AverageEnergy = EnergyValue/MC\n",
    "    AverageEnergySquared = EnergyValueSquared/MC\n",
    "    #Energy per spin\n",
    "    EnergyPerParticle = AverageEnergy/NSpins\n",
    "    #Magnetization\n",
    "    AverageMagnetization = MagnValue/MC\n",
    "    AverageMagnetizationPerPar = AverageMagnetization/NSpins\n",
    "    AverageMagnetizationSquared = MagnValueSquared/MC\n",
    "    AverageMagnetizationAbs = MagnValueAbs/MC\n",
    "    AverageMagnetizationAbsPerSpin = AverageMagnetizationAbs/NSpins\n",
    "    #Calculating the rest\n",
    "    EnergyVariancePerSpin = np.zeros(len(T))\n",
    "    #SpecificHeat = np.zeros(len(T))\n",
    "    MagnetizationVariancePerSpin = np.zeros(len(T))\n",
    "    Susceptibility = np.zeros(len(T))\n",
    "    #for i in range(len(T)):#Eitthvað flipp í gangi hér!!\n",
    "    #Variance in Energy\n",
    "    EnergyVariancePerSpin = (AverageEnergySquared - AverageEnergy**2)/NSpins\n",
    "    #Variance in Magnetization\n",
    "    MagnetizationVariancePerSpin = (AverageMagnetizationSquared - AverageMagnetization**2)/(NSpins)\n",
    "    #Specific Heat - SPURNING hvað ég að nota fyrir Boltzmanns fasta\n",
    "    k = 1\n",
    "    SpecificHeat = (1/(k*(T**2)))*EnergyVariancePerSpin\n",
    "    #Susceptibility\n",
    "    Susceptibility = (1/(k*T))*MagnetizationVariancePerSpin\n",
    "\n",
    "    return CounterAcceptance, EnergyVector, EnergyPerParticle, AverageMagnetizationPerPar, AverageMagnetizationAbsPerSpin, SpecificHeat, Susceptibility"
   ]
  }
 ],
 "metadata": {
  "kernelspec": {
   "display_name": "Python 3",
   "language": "python",
   "name": "python3"
  },
  "language_info": {
   "codemirror_mode": {
    "name": "ipython",
    "version": 3
   },
   "file_extension": ".py",
   "mimetype": "text/x-python",
   "name": "python",
   "nbconvert_exporter": "python",
   "pygments_lexer": "ipython3",
   "version": "3.6.5"
  }
 },
 "nbformat": 4,
 "nbformat_minor": 2
}
