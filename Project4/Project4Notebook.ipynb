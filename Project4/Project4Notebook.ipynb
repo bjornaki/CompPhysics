{
 "cells": [
  {
   "cell_type": "markdown",
   "metadata": {},
   "source": [
    "**Importing packages that we need**"
   ]
  },
  {
   "cell_type": "code",
   "execution_count": 50,
   "metadata": {},
   "outputs": [],
   "source": [
    "import numpy as np\n",
    "import matplotlib.pyplot as plt\n",
    "from numba import jit, njit, vectorize, prange\n",
    "import numba as numba\n",
    "import time\n",
    "from mpl_toolkits.axes_grid1.inset_locator import inset_axes"
   ]
  },
  {
   "cell_type": "markdown",
   "metadata": {},
   "source": [
    "## Here are the functions needed for the Monte Carlo calculations and Metropolis algorithm:"
   ]
  },
  {
   "cell_type": "code",
   "execution_count": 2,
   "metadata": {},
   "outputs": [],
   "source": [
    "#function that defines that inital state for the lattice calling a random number generator\n",
    "@jit(nopython=True)\n",
    "def StateInitalize(N):\n",
    "    #NXN number of spins\n",
    "    Lattice = np.zeros((N,N))\n",
    "    for i in range(N):\n",
    "        for l in range(N):\n",
    "            randNum = np.random.random()\n",
    "            if randNum < 0.5:\n",
    "                Lattice[i,l] = int(-1)\n",
    "            else:\n",
    "                Lattice[i,l] = int(1)\n",
    "                \n",
    "    return Lattice"
   ]
  },
  {
   "cell_type": "code",
   "execution_count": 3,
   "metadata": {},
   "outputs": [],
   "source": [
    "#function that defines that inital state either all spins up or down\n",
    "@jit()\n",
    "def StateInitalizeNonRandom(N,position):\n",
    "    #NXN number of spins\n",
    "    if position == \"up\":\n",
    "        temp = int(1)\n",
    "    else:\n",
    "        temp = int(-1)\n",
    "    Lattice = np.zeros((N,N))\n",
    "    for i in range(N):\n",
    "        for l in range(N):\n",
    "            Lattice[i,l] = temp\n",
    "            randNum = np.random.random()\n",
    "                \n",
    "    return Lattice"
   ]
  },
  {
   "cell_type": "markdown",
   "metadata": {},
   "source": [
    "**NeigbourInteraction is a function that calculates the change in energy upon flipping one spin:**"
   ]
  },
  {
   "cell_type": "code",
   "execution_count": 4,
   "metadata": {},
   "outputs": [],
   "source": [
    "@jit()\n",
    "def NeigbourInteraction(line,column,InitialState,LatticeSize):\n",
    "    M = LatticeSize\n",
    "    DeltaE = 0\n",
    "    if line == int(0):#if at the top edge of lattice\n",
    "        #State to the left\n",
    "        if column == int(0):\n",
    "            Temp1 = InitialState[line,column]*InitialState[line,M-1]#to the left\n",
    "        else:\n",
    "            Temp1 = InitialState[line,column]*InitialState[line,column-1]#to the left\n",
    "        #State to the right\n",
    "        if column == int((M-1)):\n",
    "            Temp2 = InitialState[line,column]*InitialState[line,0]#to the right\n",
    "        else:\n",
    "            Temp2 = InitialState[line,column]*InitialState[line,column+1]#to the right\n",
    "        #State above\n",
    "        Temp3 = InitialState[line,column]*InitialState[M-1,column]#above\n",
    "        #State below\n",
    "        Temp4 = InitialState[line,column]*InitialState[line+1,column]#below\n",
    "    if line == int((M-1)):#if at the bottom edge lattice\n",
    "        #State to the left\n",
    "        if column == int(0):\n",
    "            Temp1 = InitialState[line,column]*InitialState[line,M-1]#to the left\n",
    "        else:\n",
    "            Temp1 = InitialState[line,column]*InitialState[line,column-1]#to the left\n",
    "        #State to the right\n",
    "        if column == int((M-1)):\n",
    "            Temp2 = InitialState[line,column]*InitialState[line,0]#to the right\n",
    "        else:\n",
    "            Temp2 = InitialState[line,column]*InitialState[line,column+1]#to the right\n",
    "        #State above\n",
    "        Temp3 = InitialState[line,column]*InitialState[line-1,column]#above\n",
    "        #State below\n",
    "        Temp4 = InitialState[line,column]*InitialState[0,column]#below\n",
    "    #Then check if at left or right edges or inside\n",
    "    else:\n",
    "        #State to the left\n",
    "        if column == int(0):\n",
    "            Temp1 = InitialState[line,column]*InitialState[line,M-1]#to the left\n",
    "        else:\n",
    "            Temp1 = InitialState[line,column]*InitialState[line,column-1]#to the left\n",
    "        #State to the right\n",
    "        if column == int((M-1)):\n",
    "            Temp2 = InitialState[line,column]*InitialState[line,0]#to the right\n",
    "        else:\n",
    "            Temp2 = InitialState[line,column]*InitialState[line,column+1]#to the right\n",
    "        #State above\n",
    "        Temp3 = InitialState[line,column]*InitialState[line+1,column]#above\n",
    "        #State below\n",
    "        Temp4 = InitialState[line,column]*InitialState[line-1,column]#below\n",
    "\n",
    "    DeltaE = -(Temp1 + Temp2 + Temp3 + Temp4)\n",
    "    DeltaE = DeltaE*2\n",
    "    if DeltaE not in [-8,-4,0,4,8]:\n",
    "        print(\"The change in energy is not right\")\n",
    "    return int(DeltaE)"
   ]
  },
  {
   "cell_type": "markdown",
   "metadata": {},
   "source": [
    "**Function that calculates the Magnetization:**"
   ]
  },
  {
   "cell_type": "code",
   "execution_count": 5,
   "metadata": {},
   "outputs": [],
   "source": [
    "@jit(nopython=True)\n",
    "def Magnetization(Lattice):\n",
    "    N,M = np.shape(Lattice)\n",
    "    Magnetization = 0\n",
    "    for i in range(M):#looping over lines\n",
    "        for j in range(M):#looping over colums\n",
    "            Magnetization += Lattice[i,j]#Adding the spin value at location i,j\n",
    "    #Calculating the absolute value of Magnetization\n",
    "    AbsoluteMagnetization = np.absolute(Magnetization)\n",
    "    \n",
    "    return Magnetization, AbsoluteMagnetization"
   ]
  },
  {
   "cell_type": "code",
   "execution_count": 6,
   "metadata": {},
   "outputs": [
    {
     "name": "stdout",
     "output_type": "stream",
     "text": [
      "The Magnetization is: -2\n",
      "The Absolute Magnetization is: 2\n"
     ]
    }
   ],
   "source": [
    "#Trial of Magnetization function\n",
    "LatticeA = np.array([[1,-1],[-1,-1]])\n",
    "Magn, AbsMagn = Magnetization(LatticeA)\n",
    "print(\"The Magnetization is:\",Magn)\n",
    "print(\"The Absolute Magnetization is:\",AbsMagn)"
   ]
  },
  {
   "cell_type": "markdown",
   "metadata": {},
   "source": [
    "**Calculating the energy of the lattice according to the Ising model with periodic boundary conditions:**"
   ]
  },
  {
   "cell_type": "code",
   "execution_count": 7,
   "metadata": {},
   "outputs": [],
   "source": [
    "@jit()\n",
    "def LatticeEnergyIsing(InitialState,LatticeSize):\n",
    "    N,M = np.shape(InitialState)#Lattice size\n",
    "    Energy = 0\n",
    "    for i in range(M):#loop over lines\n",
    "        for j in range(M):#loop over columns\n",
    "            #Only checking every other site so that one doesn't double count\n",
    "            DoMeasurement = (np.mod(i,2)+np.mod(j,2) == 0) or (np.mod(i,2)+np.mod(j,2) == 2)\n",
    "            #print(Acceptance)\n",
    "            if DoMeasurement:\n",
    "                if (i == 0 and j == 0):#if at the top and left edge of lattice\n",
    "                    Temp1 = InitialState[i,j]*InitialState[i,j+1]#to the right\n",
    "                    Temp2 = InitialState[i,j]*InitialState[i,M-1]#to the left - periodic boundary\n",
    "                    Temp3 = InitialState[i,j]*InitialState[M-1,j]#above - periodic boundary\n",
    "                    Temp4 = InitialState[i,j]*InitialState[i+1,j]#below\n",
    "                    Energy += - (Temp1 + Temp2 + Temp3 + Temp4)\n",
    "                elif (i == 0 and j == (M-1)):#if at the top and right edge of lattice\n",
    "                    #Temp1 = InitialState[i,j]*InitialState[i,j-1]#to the right\n",
    "                    Temp2 = InitialState[i,j]*InitialState[i,j-1]#to the left\n",
    "                    #Temp3 = InitialState[i,j]*InitialState[i+1,j]#above\n",
    "                    Temp4 = InitialState[i,j]*InitialState[i+1,j]#below\n",
    "                    Energy += - (Temp2 + Temp4)\n",
    "                elif (i == (M-1) and j == 0):#if at the bottom and left edge of lattice\n",
    "                    Temp1 = InitialState[i,j]*InitialState[i,j+1]#to the right\n",
    "                    #Temp2 = InitialState[i,j]*InitialState[i,j+1]#to the left\n",
    "                    Temp3 = InitialState[i,j]*InitialState[i-1,j]#above\n",
    "                    #Temp4 = InitialState[i,j]*InitialState[i-1,j]#below\n",
    "                    Energy += - (Temp1 + Temp3)\n",
    "                elif (i == (M-1) and j == (M-1)):#if at the bottom and right edge of lattice\n",
    "                    Temp1 = InitialState[i,j]*InitialState[i,0]#to the right - periodic boundary\n",
    "                    Temp2 = InitialState[i,j]*InitialState[i,j-1]#to the left\n",
    "                    Temp3 = InitialState[i,j]*InitialState[i-1,j]#above\n",
    "                    Temp4 = InitialState[i,j]*InitialState[0,j]#below - periodic boundary\n",
    "                    Energy += - (Temp1 + Temp2 + Temp3 + Temp4)\n",
    "                elif i == 0:#if only at top edge\n",
    "                    Temp1 = InitialState[i,j]*InitialState[i,j+1]#to the right\n",
    "                    Temp2 = InitialState[i,j]*InitialState[i,j-1]#to the left\n",
    "                    Temp3 = InitialState[i,j]*InitialState[M-1,j]#above - periodic boundary\n",
    "                    Temp4 = InitialState[i,j]*InitialState[i+1,j]#below\n",
    "                    Energy += - (Temp1 + Temp2 + Temp3 + Temp4)\n",
    "                elif i == (M-1):#if only at bottom edge\n",
    "                    Temp1 = InitialState[i,j]*InitialState[i,j+1]#to the right\n",
    "                    Temp2 = InitialState[i,j]*InitialState[i,j-1]#to the left\n",
    "                    Temp3 = InitialState[i,j]*InitialState[i-1,j]#above\n",
    "                    #Temp4 = InitialState[i,j]*InitialState[i-1,j]#below\n",
    "                    Energy += - (Temp1 + Temp2 + Temp3)\n",
    "                elif j == 0:#if only at left edge\n",
    "                    Temp1 = InitialState[i,j]*InitialState[i,j+1]#to the right\n",
    "                    Temp2 = InitialState[i,j]*InitialState[i,M-1]#to the left - periodic boundary\n",
    "                    Temp3 = InitialState[i,j]*InitialState[i-1,j]#above\n",
    "                    Temp4 = InitialState[i,j]*InitialState[i+1,j]#below\n",
    "                    Energy += - (Temp1 + Temp2 + Temp3 + Temp4)\n",
    "                elif j == (M-1):#if only at right edge\n",
    "                    #Temp1 = InitialState[i,j]*InitialState[i,j-1]#to the right\n",
    "                    Temp2 = InitialState[i,j]*InitialState[i,j-1]#to the left\n",
    "                    Temp3 = InitialState[i,j]*InitialState[i-1,j]#above\n",
    "                    Temp4 = InitialState[i,j]*InitialState[i+1,j]#below\n",
    "                    Energy += - (Temp2 + Temp3 + Temp4)\n",
    "                else:#if somewhere in the middle\n",
    "                    Temp1 = InitialState[i,j]*InitialState[i,j-1]#to the right\n",
    "                    Temp2 = InitialState[i,j]*InitialState[i,j+1]#to the left\n",
    "                    Temp3 = InitialState[i,j]*InitialState[i-1,j]#above\n",
    "                    Temp4 = InitialState[i,j]*InitialState[i+1,j]#below\n",
    "                    Energy += - (Temp1 + Temp2 + Temp3 + Temp4)\n",
    "            elif M > 2 and (np.mod(M,2) != 0):#To not double count for 2x2 lattice - odd case M\n",
    "                if i == 0:#If at the top and at odd site\n",
    "                    Temp1 = InitialState[i,j]*InitialState[M-1,j-1]#above - periodic boundary\n",
    "                    Energy += -(Temp1)\n",
    "                elif j == 0:#At the right edge and odd site\n",
    "                    Temp1 = InitialState[i,j]*InitialState[i,M-1]\n",
    "                    Energy += -(Temp1)\n",
    "                else:\n",
    "                    continue\n",
    "            TruthValue = ((np.mod(i,2) == 0) and (j == (M-1)))\n",
    "            TruthValue = TruthValue and np.mod(M,2) == 0\n",
    "            #print(TruthValue,i,j)\n",
    "            #Even case, count the rest that hasn't been counted\n",
    "            if M > 2 and TruthValue:\n",
    "                if i == 0:\n",
    "                    Temp1 = InitialState[i,j]*InitialState[i,M-1]#above - periodic boundary\n",
    "                    Temp2 = InitialState[i,j]*InitialState[i,j+1]#above - periodic boundary\n",
    "                    #Energy += -(Temp1 + Temp2)\n",
    "                elif i == (M-1):\n",
    "                    Temp1 = InitialState[i,j]*InitialState[i,j-1]#above - periodic boundary\n",
    "                    Temp2 = InitialState[i,j]*InitialState[i,0]#above - periodic boundary\n",
    "                    Energy += -(Temp1 + Temp2)\n",
    "                else:\n",
    "                    Temp1 = InitialState[i,j]*InitialState[i,j-1]#above - periodic boundary\n",
    "                    Temp2 = InitialState[i,j]*InitialState[i,j+1]#above - periodic boundary\n",
    "                    Energy += -(Temp1 + Temp2)\n",
    "    return Energy"
   ]
  },
  {
   "cell_type": "code",
   "execution_count": 8,
   "metadata": {},
   "outputs": [
    {
     "name": "stdout",
     "output_type": "stream",
     "text": [
      "[[-1 -1]\n",
      " [-1 -1]]\n",
      "The energy according to Ising Model: -8\n",
      "For all spins up the energy is: -7200.0\n",
      "-2.0\n",
      "The change in energy upon flipping spin at [0,0] -8\n",
      "[[-1. -1. -1.  1.]\n",
      " [ 1.  1.  1.  1.]\n",
      " [ 1. -1. -1. -1.]\n",
      " [ 1. -1. -1. -1.]]\n",
      "The change in energy upon flipping spin at [1,1] 0\n"
     ]
    }
   ],
   "source": [
    "#Trial of energy\n",
    "B = np.array([[-1,-1],[-1,-1]])\n",
    "print(B)\n",
    "EnergyTrial = LatticeEnergyIsing(B,2)\n",
    "print(\"The energy according to Ising Model:\", EnergyTrial)\n",
    "L = 60\n",
    "TrialLatticeUp = StateInitalizeNonRandom(L,\"up\")\n",
    "EnergyTrial2 = LatticeEnergyIsing(TrialLatticeUp,L)\n",
    "print(\"For all spins up the energy is:\", EnergyTrial2)\n",
    "print(EnergyTrial2/(L*L))\n",
    "#Trial of change in energy\n",
    "DeltaE = NeigbourInteraction(0,0,B,2)\n",
    "print(\"The change in energy upon flipping spin at [0,0]\",DeltaE)\n",
    "TrialLatticeUp = StateInitalize(4)\n",
    "print(TrialLatticeUp)\n",
    "DeltaE = NeigbourInteraction(1,1,TrialLatticeUp,4)\n",
    "print(\"The change in energy upon flipping spin at [1,1]\",DeltaE)"
   ]
  },
  {
   "cell_type": "markdown",
   "metadata": {},
   "source": [
    "**Function that counts how often a certain element is found in an array:**"
   ]
  },
  {
   "cell_type": "code",
   "execution_count": 9,
   "metadata": {},
   "outputs": [],
   "source": [
    "def ArrayElementCounter(array):\n",
    "    energylist = []\n",
    "    energylist.append(array[0])\n",
    "    for i in range(1,len(array)):\n",
    "        if array[i] not in energylist:\n",
    "            energylist.append(array[i])\n",
    "            \n",
    "    energylist.sort()\n",
    "    countinglist = np.zeros(len(energylist))\n",
    "    for i in range(len(array)):\n",
    "        temp = array[i]\n",
    "        position = np.where(energylist == temp)\n",
    "        countinglist[position[0][0]] += 1\n",
    "            \n",
    "    return energylist, countinglist"
   ]
  },
  {
   "cell_type": "code",
   "execution_count": 10,
   "metadata": {},
   "outputs": [
    {
     "name": "stdout",
     "output_type": "stream",
     "text": [
      "[0, 3, 4, 6, 7, 8] [1. 1. 2. 1. 2. 1.]\n"
     ]
    }
   ],
   "source": [
    "#Trial\n",
    "Vigur = np.array([0,3,4,4,6,8,7,7])\n",
    "energylist,countinglist = ArrayElementCounter(Vigur)\n",
    "print(energylist,countinglist)"
   ]
  },
  {
   "cell_type": "markdown",
   "metadata": {},
   "source": [
    "**Metropolis part: This is the function that takes care of the Metropolis algorithm**"
   ]
  },
  {
   "cell_type": "code",
   "execution_count": 11,
   "metadata": {},
   "outputs": [],
   "source": [
    "@jit()\n",
    "def Metropolis(DeltaEnergy,Exponent,Temperature):\n",
    "    if DeltaEnergy not in [-8,-4,0,4,8]:\n",
    "        print(\"The change in Energy does not agree with the Ising model\")\n",
    "    Accept = False\n",
    "    if DeltaEnergy <= 0:\n",
    "        Accept = True\n",
    "    else:\n",
    "        randNum = np.random.random()\n",
    "        w = Exponent\n",
    "        #Checking w agains the exponent and accepting if r <= w\n",
    "        if randNum <= w:\n",
    "            Accept = True\n",
    "        else:\n",
    "            Accept = False\n",
    "            \n",
    "    return Accept"
   ]
  },
  {
   "cell_type": "markdown",
   "metadata": {},
   "source": [
    "**The Monte Carlo calculation itself: Everything combines into the MonteCarloIsing function**"
   ]
  },
  {
   "cell_type": "code",
   "execution_count": 12,
   "metadata": {},
   "outputs": [],
   "source": [
    "@jit(nopython=True)\n",
    "def MonteCarloIsing(InitialState,NumOfCycles,LatticeSize,Temperature,SkipCycles):\n",
    "    EnergyVector = np.zeros(NumOfCycles)\n",
    "    MagnetizationVector = np.zeros(NumOfCycles)\n",
    "    MagnetizationVectorAbs = np.zeros(NumOfCycles)\n",
    "    M = LatticeSize\n",
    "    NSpins = M*M#Number of spins\n",
    "    #Calculating the initial energy\n",
    "    Energy = LatticeEnergyIsing(InitialState,M)\n",
    "    MagnetiZ, MagnetiZAbs = Magnetization(InitialState)\n",
    "    #print(Energy)\n",
    "    MC = NumOfCycles\n",
    "    CounterAcceptance = 0#Counter to see how many moves are accepted\n",
    "    EnergyValue = 0#Value to assign the energy when we start to take measurements\n",
    "    EnergyValueSquared = 0#Value to assign the energy^2 when we start to take measurements\n",
    "    MagnValue = 0#Value to assign the Magnitization when we start to take measurements\n",
    "    MagnValueSquared = 0#Value to assign the Magnitization^2 when we start to take measurements\n",
    "    MagnValueAbs = 0#Value to assign the Absolute Magnetzation when we start to take measurements\n",
    "    norm = 1/MC\n",
    "    T = Temperature\n",
    "    counter = 0\n",
    "    #precalculation of exponents\n",
    "    Exp1 = np.exp(-(1/Temperature)*(-8))\n",
    "    Exp2 = np.exp(-(1/Temperature)*(-4))\n",
    "    Exp3 = 1\n",
    "    Exp4 = np.exp(-(1/Temperature)*(4))\n",
    "    Exp5 = np.exp(-(1/Temperature)*(8))\n",
    "    for i in range(MC):#Looping over the number of MC cycles\n",
    "        #loop over number of spins\n",
    "        for k in range(NSpins):\n",
    "            #picking a random coordinate in the lattice\n",
    "            line = np.random.randint(M)\n",
    "            column = np.random.randint(M)\n",
    "            #flipping the spin at that position\n",
    "            TempState = InitialState.copy()#Taking a copy so we don't change the initial state\n",
    "            #Then we check the value at that position\n",
    "            if InitialState[line,column] == 1:\n",
    "                TempState[line,column] = int(-1)\n",
    "                tempValue = int(-1)#setting temp value to the assign to the system if move is accepted\n",
    "            else:\n",
    "                TempState[line,column] = int(1)\n",
    "                tempValue = int(1)#setting temp value to the assign to the system if move is accepted\n",
    "            #finding the difference in energy - using periodic boundary conditions\n",
    "            DeltaE = NeigbourInteraction(line,column,TempState,M)\n",
    "            if DeltaE == -8:\n",
    "                Exp = Exp1\n",
    "            elif DeltaE == -4:\n",
    "                Exp = Exp2\n",
    "            elif DeltaE == 0:\n",
    "                Exp = Exp3\n",
    "            elif DeltaE == 4:\n",
    "                Exp = Exp4\n",
    "            else:\n",
    "                Exp = Exp5\n",
    "            #Metropolis part\n",
    "            Acceptance = Metropolis(DeltaE,Exp,T)\n",
    "            if Acceptance:\n",
    "                InitialState[line,column] = tempValue#Change the spin at the location if move accepted\n",
    "                Energy = LatticeEnergyIsing(InitialState,M)#Calculate the new energy value\n",
    "                MagnetiZ, MagnetiZAbs = Magnetization(InitialState)#Calculate new magnetization\n",
    "                CounterAcceptance += 1#count if the step was accepted  \n",
    "            #Appending Energy and other relevant variables for calculations\n",
    "            if i >= SkipCycles:#Accounting for time that it takes to reach the most likely state\n",
    "                EnergyValue += Energy\n",
    "                EnergyValueSquared += Energy**2\n",
    "                #Magnetization\n",
    "                MagnValue += MagnetiZ\n",
    "                MagnValueSquared += MagnetiZ**2\n",
    "                MagnValueAbs += MagnetiZAbs\n",
    "        \n",
    "        EnergyVector[i] = Energy\n",
    "        MagnetizationVector[i] = MagnetiZ\n",
    "        MagnetizationVectorAbs[i] = MagnetiZAbs\n",
    "        #End of MC loop\n",
    "\n",
    "    MCUsed = MC - SkipCycles#Accounting for the number of cycles that were skipped\n",
    "    #Calculating average energy per particle\n",
    "    #TotalEnergy = sum(EnergyVector)\n",
    "    AverageEnergy = EnergyValue/(MCUsed*NSpins)\n",
    "    AverageEnergySquared = EnergyValueSquared/(MCUsed*NSpins)\n",
    "    #Energy per spin\n",
    "    EnergyPerParticle = AverageEnergy/NSpins\n",
    "    #Variance in Energy\n",
    "    EnergyVariancePerSpin = (AverageEnergySquared - AverageEnergy**2)/NSpins\n",
    "    #Specific Heat - SPURNING hvað ég að nota fyrir Boltzmanns fasta\n",
    "    k = 1\n",
    "    SpecificHeat = (1/(k*(T**2)))*EnergyVariancePerSpin\n",
    "    #Magnetization\n",
    "    AverageMagnetization = MagnValue/(MCUsed*NSpins)\n",
    "    AverageMagnetizationPerPar = AverageMagnetization/NSpins\n",
    "    AverageMagnetizationSquared = MagnValueSquared/(MCUsed*NSpins)\n",
    "    AverageMagnetizationAbs = MagnValueAbs/(MCUsed*NSpins)\n",
    "    AverageMagnetizationAbsPerSpin = AverageMagnetizationAbs/NSpins\n",
    "    #Variance in Magnetization\n",
    "    MagnetizationVariancePerSpin = (AverageMagnetizationSquared - AverageMagnetizationAbs**2)/(NSpins)\n",
    "    #Susceptibility\n",
    "    Susceptibility = (1/(k*T))*MagnetizationVariancePerSpin\n",
    "\n",
    "    return CounterAcceptance, EnergyVector, MagnetizationVector, MagnetizationVectorAbs, EnergyPerParticle, AverageMagnetizationPerPar, AverageMagnetizationAbsPerSpin, SpecificHeat, Susceptibility"
   ]
  },
  {
   "cell_type": "markdown",
   "metadata": {},
   "source": [
    "**Trying the algo for a 2x2 case:**"
   ]
  },
  {
   "cell_type": "code",
   "execution_count": 14,
   "metadata": {},
   "outputs": [
    {
     "name": "stdout",
     "output_type": "stream",
     "text": [
      "The measurement took, in seconds: 5.080157518386841\n",
      "Number of Accepted moves: 1128747\n",
      "Energy per particle: -0.8701\n",
      "The Average magnetization per spin is: 0.00050325\n",
      "The Average absolute magnetization per spin is 0.62913375\n",
      "The Specific Heat is: 0.18687246813827568\n",
      "The Susceptibility is: 0.11832130580484689\n"
     ]
    }
   ],
   "source": [
    "L = 2\n",
    "MCCycles = int(5e5)\n",
    "SkipCycles = 0\n",
    "A = StateInitalize(L)\n",
    "TempSmall = np.arange(0.1,5.1,0.4)\n",
    "EnergySmallCase = np.zeros(len(TempSmall))\n",
    "SpecHeatSmallCase = np.zeros(len(TempSmall))\n",
    "MeanMagnAbsSmallCase = np.zeros(len(TempSmall))\n",
    "SusceptibilitySmallCase = np.zeros(len(TempSmall))\n",
    "start = time.time()\n",
    "counter = 0\n",
    "for T1 in TempSmall:\n",
    "    AcceptedMoves, EnergyAll, MagnAll, MagnAllAbs,EnergyPerPart, AverageMagn, AverageMagnAbs, SpecificHeat, Susceptibility = MonteCarloIsing(A,MCCycles,L,T1,SkipCycles)\n",
    "    EnergySmallCase[counter] = EnergyPerPart\n",
    "    SpecHeatSmallCase[counter] = SpecificHeat\n",
    "    MeanMagnAbsSmallCase[counter] = AverageMagnAbs\n",
    "    SusceptibilitySmallCase[counter] = Susceptibility\n",
    "    counter += 1\n",
    "    \n",
    "end = time.time()\n",
    "print(\"The measurement took, in seconds:\", end-start)\n",
    "print(\"Number of Accepted moves:\",AcceptedMoves)\n",
    "print(\"Energy per particle:\",EnergyPerPart)\n",
    "print(\"The Average magnetization per spin is:\",AverageMagn)\n",
    "print(\"The Average absolute magnetization per spin is\",AverageMagnAbs)\n",
    "print(\"The Specific Heat is:\",SpecificHeat)\n",
    "print(\"The Susceptibility is:\",Susceptibility)"
   ]
  },
  {
   "cell_type": "markdown",
   "metadata": {},
   "source": [
    "## Analytical results for 2x2 case:"
   ]
  },
  {
   "cell_type": "markdown",
   "metadata": {},
   "source": [
    "**We now look at analytical results for a 2x2 case of spins:**"
   ]
  },
  {
   "cell_type": "code",
   "execution_count": 15,
   "metadata": {},
   "outputs": [],
   "source": [
    "#All the relevant functions for the 2x2 case\n",
    "def EnergyExp(T):\n",
    "    Beta = 1/T\n",
    "    temp = -((8*np.sinh(8*Beta))/(np.cosh(8*Beta) + 3))\n",
    "    return temp/4\n",
    "\n",
    "def Z(T):\n",
    "    Beta = 1/T\n",
    "    return 2*np.exp(8*Beta) + 12 + 2*np.exp(-8*Beta)\n",
    "\n",
    "def SpecificHeatSmall(T):##Eitthvað vitlaust hér eða hvað??\n",
    "    Beta = 1/T\n",
    "    teljari = 64*(1 + 3*np.cosh(8*Beta))\n",
    "    nefnari = (T**2)*((np.cosh(8*Beta) + 3)**2)\n",
    "    return teljari/nefnari/4\n",
    "\n",
    "def AveragAbsMagnSmall(T):\n",
    "    Beta = 1/T\n",
    "    temp = (8*np.exp(8*Beta) + 16)/Z(T)\n",
    "    return temp/4\n",
    "\n",
    "def SusceptibilitySmall(T):\n",
    "    Beta = 1/T\n",
    "    firstTerm = (32/Z(T))*(1 + np.exp(8*Beta))\n",
    "    secondTerm = (64/Z(T)**2)*((2 + np.exp(8*Beta)))**2\n",
    "    return Beta*(firstTerm - secondTerm)/4"
   ]
  },
  {
   "cell_type": "markdown",
   "metadata": {},
   "source": [
    "**Let's plot:**"
   ]
  },
  {
   "cell_type": "code",
   "execution_count": 16,
   "metadata": {},
   "outputs": [
    {
     "data": {
      "text/plain": [
       "<matplotlib.legend.Legend at 0x17e27d36668>"
      ]
     },
     "execution_count": 16,
     "metadata": {},
     "output_type": "execute_result"
    },
    {
     "data": {
      "image/png": "[encoded data removed]",
      "text/plain": [
       "<Figure size 432x288 with 1 Axes>"
      ]
     },
     "metadata": {
      "needs_background": "light"
     },
     "output_type": "display_data"
    },
    {
     "data": {
      "image/png": "[encoded data removed]",
      "text/plain": [
       "<Figure size 432x288 with 1 Axes>"
      ]
     },
     "metadata": {
      "needs_background": "light"
     },
     "output_type": "display_data"
    },
    {
     "data": {
      "image/png": "[encoded data removed]",
      "text/plain": [
       "<Figure size 432x288 with 1 Axes>"
      ]
     },
     "metadata": {
      "needs_background": "light"
     },
     "output_type": "display_data"
    },
    {
     "data": {
      "image/png": "[encoded data removed]",
      "text/plain": [
       "<Figure size 432x288 with 1 Axes>"
      ]
     },
     "metadata": {
      "needs_background": "light"
     },
     "output_type": "display_data"
    }
   ],
   "source": [
    "fig0,ax0 = plt.subplots()\n",
    "T = np.arange(0.1,5,0.01)\n",
    "AvergeEnergySmall = EnergyExp(T)\n",
    "SpecHeatSmall = SpecificHeatSmall(T)\n",
    "AverageAbsSmall = AveragAbsMagnSmall(T)\n",
    "SucsSmall = SusceptibilitySmall(T)\n",
    "#Average energy\n",
    "ax0.plot(T,AvergeEnergySmall,label=\"Analytic Solution\")\n",
    "ax0.plot(TempSmall,EnergySmallCase,'*',label=\"MC\")\n",
    "ax0.grid(alpha=0.3)\n",
    "ax0.set_ylabel(\"AverageEnergy [J]\")\n",
    "ax0.set_xlabel(\"Temperature [T]\")\n",
    "ax0.legend()\n",
    "#Specific Heat\n",
    "fig0_1,ax0_1 = plt.subplots()\n",
    "ax0_1.plot(T,SpecHeatSmall,label=\"Analytic Solution\")\n",
    "ax0_1.plot(TempSmall,SpecHeatSmallCase,'*',label=\"MC\")\n",
    "ax0_1.grid(alpha=0.3)\n",
    "ax0_1.set_ylabel(\"Specific Heat [eining]\")\n",
    "ax0_1.set_xlabel(\"Temperature [T]\")\n",
    "ax0_1.legend()\n",
    "#Mean magnetization - Skrýtið gildi fyrir analytical!!\n",
    "fig0_2,ax0_2 = plt.subplots()\n",
    "ax0_2.plot(T,AverageAbsSmall,label=\"Analytic Solution\")\n",
    "ax0_2.plot(TempSmall,MeanMagnAbsSmallCase,'*',label=\"MC\")\n",
    "ax0_2.grid(alpha=0.3)\n",
    "ax0_2.set_ylabel(\"Mean magnetization [eining]\")\n",
    "ax0_2.set_xlabel(\"Temperature [T]\")\n",
    "ax0_2.legend()\n",
    "#Susceptibility - Per spin!\n",
    "fig0_3,ax0_3 = plt.subplots()\n",
    "ax0_3.plot(T,SucsSmall,label=\"Analytic Solution\")\n",
    "ax0_3.plot(TempSmall,SusceptibilitySmallCase,'*',label=\"MC\")\n",
    "ax0_3.grid(alpha=0.3)\n",
    "ax0_3.set_ylabel(\"Susceptibility [eining]\")\n",
    "ax0_3.set_xlabel(\"Temperature [T]\")\n",
    "ax0_3.legend()"
   ]
  },
  {
   "cell_type": "markdown",
   "metadata": {},
   "source": [
    "## Parallelized Monte Carlo:\n",
    "\n",
    "**We now parallize our code (for different temperatures)**"
   ]
  },
  {
   "cell_type": "code",
   "execution_count": 107,
   "metadata": {},
   "outputs": [],
   "source": [
    "@jit(nopython=True,parallel=True)\n",
    "def MonteCarloIsingParallel2(State,NumOfCycles,L,Temperature,Time,SkipCycles):\n",
    "    #Calling the original MCIsing with Temperature Parallized\n",
    "    T = Temperature\n",
    "    CounterAccept = np.zeros(len(T))\n",
    "    EnergyPerPart = np.zeros(len(T))\n",
    "    AverageMagnPerPart = np.zeros(len(T))\n",
    "    AverageMagnPerPartAbs = np.zeros(len(T))\n",
    "    SpecificHeat = np.zeros(len(T))\n",
    "    Susceptibility = np.zeros(len(T))\n",
    "    AllEnergyPerPart = np.zeros((len(T),NumOfCycles))\n",
    "    AllAbsMagnPerPart = np.zeros((len(T),NumOfCycles))\n",
    "    TempSkip = SkipCycles\n",
    "    for i in prange(len(T)):\n",
    "        np.random.seed(Time*(i+1))#Seeding differently for each thread if they start at the same time\n",
    "        #Calling the original MC Ising\n",
    "        TempState = State.copy()\n",
    "        CountAcc, EnergyVec, AvMagnVec, AvMagnAbsVec, EnPerPa, AvMagnPePa, AvMagnPePaAbs, SpeHeat, Susc = MonteCarloIsing(TempState,NumOfCycles,L,T[i],TempSkip)\n",
    "        CounterAccept[i] = CountAcc\n",
    "        EnergyPerPart[i] = EnPerPa\n",
    "        AverageMagnPerPart[i] = AvMagnPePa\n",
    "        AverageMagnPerPartAbs[i] = AvMagnPePaAbs\n",
    "        SpecificHeat[i] = SpeHeat\n",
    "        Susceptibility[i] = Susc\n",
    "        AllEnergyPerPart[i,:] = EnergyVec\n",
    "        AllAbsMagnPerPart[i,:] = AvMagnAbsVec\n",
    "        #print(\"Temperature\",T[i],\" finished\")\n",
    "          \n",
    "    return CounterAccept, EnergyPerPart, AverageMagnPerPart, AverageMagnPerPartAbs, SpecificHeat, Susceptibility, AllEnergyPerPart, AllAbsMagnPerPart"
   ]
  },
  {
   "cell_type": "markdown",
   "metadata": {},
   "source": [
    "**Writing to file:**"
   ]
  },
  {
   "cell_type": "code",
   "execution_count": 18,
   "metadata": {},
   "outputs": [],
   "source": [
    "def WriteToFile(filename,NumOfCycles,SkipCycles,L,EnergyPerPart,SpecificHeat,AverageMagnPerPartAbs,Susceptibility,CounterAccept,T,time,EnergyAll,MagnAll):\n",
    "    #writing the the relevant quantities to file\n",
    "    f = open(filename,\"w+\")\n",
    "    f.write(\"Number of Monte Carlo Cycles: \\t\" + str(int(NumOfCycles)) + \"\\n\")\n",
    "    f.write(\"Number of MC cycles skipped before measurements: \\t\" + str(int(SkipCycles)) + \"\\n\" )\n",
    "    f.write(\"Lattice size, L = \\t\" + str(int(L)) + \"\\n\")\n",
    "    f.write(\"Number of different Temperature Measurements: \\t\" + str(int(len(T))) + \"\\n\")\n",
    "    f.write(\"The measurement took  in seconds:\\t\" + str(time) + \"\\n\")\n",
    "    f.write(\"Temperature \\t EnergyPerParticle \\t Heat Capacity Per Part \\t Absolute Mean Magnetization \\t Susceptibility \\t No of accepted steps \\n\")\n",
    "    #writing all averages in the file\n",
    "    for i in range(len(T)):\n",
    "        f.write(str(T[i]) + \"\\t\" + str(EnergyPerPart[i]) + \"\\t\" + str(SpecificHeat[i]) + \"\\t\" + str(AverageMagnPerPartAbs[i]) + \"\\t\" + str(Susceptibility[i]) + \"\\t\" + str(CounterAccept[i]) + \"\\n\")\n",
    "    #writing the values for each step for further analysis\n",
    "    f.write(\"\\n \\n\")\n",
    "    f.write(\"All measurments: \\n\")\n",
    "    for i in range(len(T)):\n",
    "        f.write(\"Temperature: \\t\" + str(T[i]) + \"\\n\")\n",
    "        for k in range(len(EnergyAll[i,:])):\n",
    "            f.write(str(EnergyAll[i,k]) + \"\\t\")\n",
    "        f.write(\"\\n\")\n",
    "        \n",
    "    #Magnetization\n",
    "    f.write(\"\\n \\n\")\n",
    "    f.write(\"Magnetization: \\n\")\n",
    "    for i in range(len(T)):\n",
    "        f.write(\"Temperature: \\t\" + str(T[i]) + \"\\n\")\n",
    "        for k in range(len(MagnAll[i,:])):\n",
    "            f.write(str(MagnAll[i,k]) + \"\\t\")\n",
    "        f.write(\"\\n\")\n",
    "        \n",
    "    f.close()"
   ]
  },
  {
   "cell_type": "code",
   "execution_count": 48,
   "metadata": {},
   "outputs": [
    {
     "name": "stdout",
     "output_type": "stream",
     "text": [
      "[0.2 0.3 0.4 0.5 0.6 0.7 0.8 0.9 1.  1.1 1.2 1.3 1.4 1.5 1.6 1.7 1.8 1.9\n",
      " 2.  2.1 2.2 2.3 2.4 2.5 2.6 2.7 2.8 2.9 3.  3.1 3.2 3.3 3.4 3.5 3.6 3.7\n",
      " 3.8 3.9 4.  4.1 4.2 4.3 4.4 4.5 4.6 4.7 4.8 4.9]\n",
      "TemperatureTemperatureTemperature 3.8000000000000016  finished\n",
      " 1.4000000000000004  finished\n",
      " TemperatureTemperature 0.2Temperature  1.5000000000000004  finished\n",
      "2.600000000000001Temperature 1.6000000000000003  finished\n",
      " finished   finished\n",
      "3.9000000000000012  finished\n",
      "TemperatureTemperature\n",
      " Temperature 2.700000000000001  finished\n",
      "1.7000000000000004 Temperature 2.800000000000001  finished\n",
      " finishedTemperatureTemperature 4.000000000000001  finished\n",
      "  2.9000000000000012  finished\n",
      "\n",
      "TemperatureTemperature 4.100000000000001  finished\n",
      "0.30000000000000004   finished\n",
      "3.000000000000001Temperature Temperature 4.200000000000002  finished\n",
      "Temperature 0.4000000000000001  finished\n",
      "1.8000000000000005 Temperature 4.300000000000002  finished\n",
      " Temperature finished finished\n",
      "Temperature 4.400000000000001  finished\n",
      "\n",
      "Temperature 1.9000000000000006  finished\n",
      "Temperature 4.500000000000002  finished\n",
      "Temperature 2.000000000000001  finished\n",
      "Temperature 2.1000000000000005  finished\n",
      "Temperature 4.600000000000001  finished\n",
      " Temperature 2.200000000000001  finished\n",
      "0.5000000000000001Temperature Temperature 2.3000000000000007  finished\n",
      "Temperature 3.100000000000001  finished\n",
      "Temperature 3.200000000000001  finished\n",
      " Temperature 3.300000000000001  finished\n",
      " finishedTemperature 2.400000000000001  finished\n",
      "4.700000000000002Temperature 3.4000000000000012  finished\n",
      "  finished\n",
      "TemperatureTemperature \n",
      "Temperature 2.500000000000001  finished\n",
      "4.800000000000002 Temperature  finished\n",
      " 0.6000000000000001  finished\n",
      "3.5000000000000013  finished\n",
      "Temperature 3.6000000000000014  finished\n",
      "TemperatureTemperature 3.7000000000000015  finished\n",
      "Temperature 0.7000000000000002  finished\n",
      " 4.900000000000002  finished\n",
      "Temperature 0.8000000000000003  finished\n",
      "Temperature 0.9000000000000001  finished\n",
      "Temperature 1.0000000000000002  finished\n",
      "Temperature 1.1000000000000003  finished\n",
      "Temperature 1.2000000000000004  finished\n",
      "Temperature 1.3000000000000003  finished\n",
      "The measurement took, in seconds: 0.12153267860412598\n",
      "Temperature 0.2 Temperature  finishedTemperature 3.8000000000000016  finished\n",
      "1.4000000000000004\n",
      "TemperatureTemperature 3.9000000000000012  finished\n",
      " Temperature  2.600000000000001  finished\n",
      " finished\n",
      "0.30000000000000004TemperatureTemperatureTemperature    finished\n",
      "4.000000000000001  finished\n",
      "2.700000000000001  finished\n",
      " 1.5000000000000004  finished\n",
      "TemperatureTemperature 1.6000000000000003  finished\n",
      "Temperature 4.100000000000001  finished\n",
      "Temperature Temperature 1.7000000000000004  finished\n",
      " Temperature 4.200000000000002  finished\n",
      "2.8000000000000010.4000000000000001  finished\n",
      "Temperature 1.8000000000000005  finished\n",
      "TemperatureTemperatureTemperature   finished\n",
      "2.9000000000000012  finished\n",
      " 4.300000000000002  finished 1.9000000000000006  finished\n",
      "\n",
      "Temperature 0.5000000000000001  finished\n",
      "TemperatureTemperatureTemperature 4.400000000000001  finished\n",
      " Temperature2.000000000000001  finished\n",
      " 0.6000000000000001  finished\n",
      " 3.000000000000001  finished\n",
      "Temperature 4.500000000000002  finished\n",
      "TemperatureTemperature 3.100000000000001  finished\n",
      " TemperatureTemperature 2.1000000000000005  finished\n",
      "Temperature 3.200000000000001  finished\n",
      "Temperature 2.200000000000001  finished\n",
      "Temperature 4.600000000000001  finished\n",
      " 3.300000000000001  finished\n",
      "Temperature0.7000000000000002  finished\n",
      "Temperature 4.700000000000002  finished\n",
      " Temperature2.3000000000000007  finished\n",
      "Temperature 3.4000000000000012  finished\n",
      "Temperature 4.800000000000002  finished\n",
      "Temperature Temperature 2.400000000000001  finished\n",
      "Temperature 4.9000000000000020.8000000000000003Temperature 2.500000000000001  finished\n",
      "  3.5000000000000013  finished\n",
      "  finished\n",
      " finished\n",
      "TemperatureTemperature 0.9000000000000001  finished 3.6000000000000014  finished\n",
      "\n",
      "TemperatureTemperature 1.0000000000000002 3.7000000000000015  finished\n",
      "  finished\n",
      "Temperature 1.1000000000000003  finished\n",
      "Temperature 1.2000000000000004  finished\n",
      "Temperature 1.3000000000000003  finished\n",
      "The measurement took, in seconds: 0.10604143142700195\n",
      "TemperatureTemperature TemperatureTemperature 3.8000000000000016  finished\n",
      "0.2   finished\n",
      "1.4000000000000004  finished\n",
      " 2.600000000000001  finished\n",
      "TemperatureTemperatureTemperature 2.700000000000001  finished\n",
      " Temperature3.9000000000000012  finished\n",
      " 1.5000000000000004  finished\n",
      " 0.30000000000000004  finished\n",
      "Temperature 2.800000000000001  finished\n",
      "TemperatureTemperature Temperature 4.000000000000001  finished\n",
      "0.4000000000000001 1.6000000000000003  finished\n",
      "  finished\n",
      "Temperature 2.9000000000000012  finished\n",
      "TemperatureTemperature 4.100000000000001  finished\n",
      "Temperature 1.7000000000000004  finished\n",
      " Temperature 0.50000000000000013.000000000000001  finished\n",
      "  finished\n",
      "TemperatureTemperatureTemperatureTemperature 3.100000000000001  finished\n",
      "   1.8000000000000005  finished\n",
      "4.200000000000002  finished\n",
      "0.6000000000000001  finished\n",
      "TemperatureTemperature 4.300000000000002  finished\n",
      "Temperature 1.9000000000000006  finished\n",
      " 3.200000000000001  finished\n",
      "Temperature Temperature 4.400000000000001  finished\n",
      "0.7000000000000002Temperature 3.300000000000001  finished\n",
      "Temperature  2.000000000000001  finished\n",
      " finished\n",
      "Temperature 4.500000000000002  finished\n",
      "Temperature 3.4000000000000012  finished\n",
      "Temperature 2.1000000000000005  finished\n",
      "Temperature 0.8000000000000003  finished\n",
      "Temperature 4.600000000000001  finished\n",
      "TemperatureTemperature  2.200000000000001  finishedTemperature\n",
      "3.5000000000000013  finished\n",
      " 0.9000000000000001  finished\n",
      "Temperature 4.700000000000002  finished\n",
      "Temperature 3.6000000000000014  finished\n",
      "TemperatureTemperature Temperature Temperature 3.7000000000000015  finished\n",
      " 2.30000000000000071.00000000000000024.800000000000002  finished\n",
      "  finished\n",
      "  finished\n",
      "TemperatureTemperature 4.900000000000002  finished\n",
      "Temperature 2.400000000000001  finished\n",
      " 1.1000000000000003  finished\n",
      "TemperatureTemperature 1.2000000000000004  finished\n",
      " 2.500000000000001  finished\n",
      "Temperature 1.3000000000000003  finished\n",
      "The measurement took, in seconds: 0.17982029914855957\n",
      "Temperature TemperatureTemperature 3.8000000000000016  finished\n",
      "0.2Temperature  2.600000000000001  finished\n",
      " 1.4000000000000004  finished\n",
      " finished\n",
      "TemperatureTemperature Temperature 2.700000000000001  finished\n",
      "3.9000000000000012Temperature  finished\n",
      "  1.5000000000000004  finished\n",
      "0.30000000000000004  finished\n",
      "TemperatureTemperature 1.6000000000000003  finished\n",
      " TemperatureTemperature  4.000000000000001  finished\n",
      "0.4000000000000001  finished\n",
      "2.800000000000001  finished\n",
      "Temperature 1.7000000000000004  finished\n",
      "TemperatureTemperature 4.100000000000001  finished\n",
      " 2.9000000000000012  finished\n",
      "Temperature 0.5000000000000001  finished\n",
      "Temperature 1.8000000000000005  finished\n",
      "TemperatureTemperature 3.000000000000001  finished\n",
      " 4.200000000000002  finished\n",
      "Temperature 0.6000000000000001  finished\n",
      "Temperature 1.9000000000000006  finished\n",
      "TemperatureTemperature 4.300000000000002  finished\n",
      " 3.100000000000001  finished\n",
      "TemperatureTemperature 0.7000000000000002  finished\n",
      " 2.000000000000001  finished\n",
      "TemperatureTemperature 3.200000000000001  finished\n",
      " 4.400000000000001  finished\n",
      "Temperature 2.1000000000000005  finished\n",
      "Temperature 0.8000000000000003  finished\n",
      "TemperatureTemperature 4.500000000000002  finished\n",
      " 3.300000000000001  finished\n",
      "Temperature 2.200000000000001  finished\n",
      "Temperature 0.9000000000000001  finished\n",
      "TemperatureTemperature 3.4000000000000012  finished\n",
      " 4.600000000000001  finished\n",
      "Temperature 2.3000000000000007  finished\n",
      "TemperatureTemperature 4.700000000000002  finished\n",
      " 3.5000000000000013  finished\n",
      "Temperature 2.400000000000001  finished\n",
      "Temperature 1.0000000000000002  finished\n",
      "TemperatureTemperatureTemperatureTemperature  1.1000000000000003  finished\n",
      " 2.500000000000001  finished\n",
      " 3.6000000000000014  finished\n",
      "4.800000000000002  finished\n",
      "Temperature 1.2000000000000004  finishedTemperature\n",
      "Temperature 4.900000000000002  finished\n",
      " 3.7000000000000015  finished\n",
      "Temperature 1.3000000000000003  finished\n",
      "The measurement took, in seconds: 0.3011176586151123\n",
      "Temperature 2.600000000000001  finished\n",
      "Temperature 1.4000000000000004  finished\n",
      "Temperature 0.2  finished\n",
      "Temperature 3.8000000000000016  finished\n"
     ]
    },
    {
     "name": "stdout",
     "output_type": "stream",
     "text": [
      "Temperature 2.700000000000001  finished\n",
      "Temperature 1.5000000000000004  finished\n",
      "Temperature 0.30000000000000004  finished\n",
      "Temperature 3.9000000000000012  finished\n",
      "Temperature 2.800000000000001  finished\n",
      "Temperature 1.6000000000000003  finished\n",
      "Temperature 0.4000000000000001  finished\n",
      "Temperature 4.000000000000001  finished\n",
      "Temperature 2.9000000000000012  finished\n",
      "TemperatureTemperature 0.5000000000000001  finished\n",
      " 1.7000000000000004  finished\n",
      "Temperature 4.100000000000001  finished\n",
      "Temperature 3.000000000000001  finished\n",
      "Temperature 1.8000000000000005  finished\n",
      "Temperature 0.6000000000000001  finished\n",
      "Temperature 4.200000000000002  finished\n",
      "Temperature 3.100000000000001  finished\n",
      "Temperature 1.9000000000000006  finished\n",
      "Temperature 0.7000000000000002  finished\n",
      "Temperature 4.300000000000002  finished\n",
      "Temperature 2.000000000000001  finished\n",
      "Temperature 0.8000000000000003  finished\n",
      "Temperature 3.200000000000001  finished\n",
      "Temperature 4.400000000000001  finished\n",
      "Temperature 0.9000000000000001  finished\n",
      "Temperature 2.1000000000000005  finished\n",
      "Temperature 3.300000000000001  finished\n",
      "Temperature 4.500000000000002  finished\n",
      "Temperature 1.0000000000000002  finished\n",
      "Temperature 2.200000000000001  finished\n",
      "Temperature 3.4000000000000012  finished\n",
      "Temperature 4.600000000000001  finished\n",
      "TemperatureTemperature 1.1000000000000003  finished\n",
      " 2.3000000000000007  finished\n",
      "Temperature 3.5000000000000013  finished\n",
      "Temperature 4.700000000000002  finished\n",
      "Temperature 2.400000000000001  finished\n",
      "Temperature 1.2000000000000004  finished\n",
      "Temperature 3.6000000000000014  finished\n",
      "Temperature 4.800000000000002  finished\n",
      "Temperature 2.500000000000001  finished\n",
      "Temperature 1.3000000000000003  finished\n",
      "Temperature 3.7000000000000015  finished\n",
      "Temperature 4.900000000000002  finished\n",
      "The measurement took, in seconds: 2.7623822689056396\n"
     ]
    }
   ],
   "source": [
    "#Trial of New Parallized MC\n",
    "Time = time.time()\n",
    "L = 2\n",
    "StateP = StateInitalize(L)\n",
    "TempRange = np.arange(0.2,5,0.1)\n",
    "#TempRange = np.array([1])\n",
    "SkipCycl = 0\n",
    "MCCyclesAll = np.array([100,1000,5000,10000,100000])\n",
    "EnergyPerPart2by2 = np.zeros((len(MCCyclesAll),len(TempRange)))\n",
    "SpecificHeatPerPart2by2 = np.zeros((len(MCCyclesAll),len(TempRange)))\n",
    "MagnPerPart2by2 = np.zeros((len(MCCyclesAll),len(TempRange)))\n",
    "SuscPerPart2by2 = np.zeros((len(MCCyclesAll),len(TempRange)))\n",
    "filename = \"TrialWriting.txt\"\n",
    "print(TempRange)\n",
    "counter = 0\n",
    "for MCCycles in MCCyclesAll:\n",
    "    MCCycles = int(MCCycles)\n",
    "    start = time.time()\n",
    "    AcceptedMovesP, EnergyPerPartP, AverageMagnP, AverageMagnAbsP, SpecificHeatP, SusceptibilityP, AllEnergy, AllAbsMagn = MonteCarloIsingParallel2(StateP,MCCycles,L,TempRange,Time,0)\n",
    "    end = time.time()\n",
    "    print(\"The measurement took, in seconds:\", end-start)\n",
    "    EnergyPerPart2by2[counter,:] = EnergyPerPartP\n",
    "    SpecificHeatPerPart2by2[counter,:] = SpecificHeatP\n",
    "    MagnPerPart2by2[counter,:] = AverageMagnAbsP\n",
    "    SuscPerPart2by2[counter,:] = SusceptibilityP\n",
    "    counter += 1\n",
    "\n",
    "WriteToFile(filename,MCCycles,SkipCycl,L,EnergyPerPartP,SpecificHeatP,AverageMagnAbsP,SusceptibilityP,AcceptedMovesP,TempRange,end-start,AllEnergy,AllAbsMagn)"
   ]
  },
  {
   "cell_type": "markdown",
   "metadata": {},
   "source": [
    "**Calculating the error:**"
   ]
  },
  {
   "cell_type": "code",
   "execution_count": 82,
   "metadata": {},
   "outputs": [],
   "source": [
    "#Energy\n",
    "TempRange = np.arange(0.2,5,0.1)\n",
    "AnalyticalEnergy = EnergyExp(TempRange)\n",
    "ErrorEnergy100 = abs(AnalyticalEnergy - EnergyPerPart2by2[0,:])\n",
    "ErrorEnergy1000 = abs(AnalyticalEnergy - EnergyPerPart2by2[1,:])\n",
    "ErrorEnergy10000 = abs(AnalyticalEnergy - EnergyPerPart2by2[3,:])\n",
    "ErrorEnergy100000 = abs(AnalyticalEnergy - EnergyPerPart2by2[4,:])\n",
    "#HeatCapacity\n",
    "AnalyticalHeatCap = SpecificHeatSmall(TempRange)\n",
    "ErrorHeatCap100 = abs(AnalyticalHeatCap - SpecificHeatPerPart2by2[0,:])\n",
    "ErrorHeatCap1000 = abs(AnalyticalHeatCap - SpecificHeatPerPart2by2[1,:])\n",
    "ErrorHeatCap10000 = abs(AnalyticalHeatCap - SpecificHeatPerPart2by2[3,:])\n",
    "ErrorHeatCap100000 = abs(AnalyticalHeatCap - SpecificHeatPerPart2by2[4,:])\n",
    "#Magnetization\n",
    "AnalyticalMagn = AveragAbsMagnSmall(TempRange)\n",
    "ErrorMagn100 = abs(AnalyticalMagn - MagnPerPart2by2[0,:])\n",
    "ErrorMagn1000 = abs(AnalyticalMagn - MagnPerPart2by2[1,:])\n",
    "ErrorMagn10000 = abs(AnalyticalMagn - MagnPerPart2by2[3,:])\n",
    "ErrorMagn100000 = abs(AnalyticalMagn - MagnPerPart2by2[4,:])\n",
    "#Susceptibility\n",
    "AnalyticalSusc = SusceptibilitySmall(TempRange)\n",
    "ErrorSusc100 = abs(AnalyticalSusc - SuscPerPart2by2[0,:])\n",
    "ErrorSusc1000 = abs(AnalyticalSusc - SuscPerPart2by2[1,:])\n",
    "ErrorSusc10000 = abs(AnalyticalSusc - SuscPerPart2by2[3,:])\n",
    "ErrorSusc100000 = abs(AnalyticalSusc - SuscPerPart2by2[4,:])"
   ]
  },
  {
   "cell_type": "code",
   "execution_count": 89,
   "metadata": {},
   "outputs": [
    {
     "data": {
      "image/png": "[encoded data removed]",
      "text/plain": [
       "<Figure size 432x288 with 2 Axes>"
      ]
     },
     "metadata": {
      "needs_background": "light"
     },
     "output_type": "display_data"
    },
    {
     "data": {
      "image/png": "[encoded data removed]",
      "text/plain": [
       "<Figure size 432x288 with 2 Axes>"
      ]
     },
     "metadata": {
      "needs_background": "light"
     },
     "output_type": "display_data"
    },
    {
     "data": {
      "image/png": "[encoded data removed]",
      "text/plain": [
       "<Figure size 432x288 with 2 Axes>"
      ]
     },
     "metadata": {
      "needs_background": "light"
     },
     "output_type": "display_data"
    },
    {
     "data": {
      "image/png": "[encoded data removed]",
      "text/plain": [
       "<Figure size 432x288 with 2 Axes>"
      ]
     },
     "metadata": {
      "needs_background": "light"
     },
     "output_type": "display_data"
    }
   ],
   "source": [
    "#Plotting the trial parallized\n",
    "fig1_0,ax1_0 = plt.subplots()\n",
    "T = np.arange(0.1,5,0.01)\n",
    "AvergeEnergySmall = EnergyExp(T)\n",
    "SpecHeatSmall = SpecificHeatSmall(T)\n",
    "AverageAbsSmall = AveragAbsMagnSmall(T)\n",
    "SucsSmall = SusceptibilitySmall(T)\n",
    "#Average energy\n",
    "ax1_0.plot(T,AvergeEnergySmall,label=\"Analytic Solution\")\n",
    "#ax1_0.plot(TempRange,EnergyPerPart2by2[0,:],'*',label=\"MC = 100\")\n",
    "#ax1_0.plot(TempRange,EnergyPerPart2by2[1,:],'*',label=\"MC = 1000\")\n",
    "#ax1_0.plot(TempRange,EnergyPerPart2by2[2,:],'*',label=\"MC = 5000\")\n",
    "#ax1_0.plot(TempRange,EnergyPerPart2by2[3,:],'*',label=\"MC = 10000\")\n",
    "ax1_0.plot(TempRange,EnergyPerPart2by2[4,:],'r*',label=\"MC = 100000\")\n",
    "ax1_0.grid(alpha=0.3)\n",
    "ax1_0.set_ylabel(\"AverageEnergy [J]\")\n",
    "ax1_0.set_xlabel(\"Temperature [T]\")\n",
    "ax1_0.legend()\n",
    "#Creating inset axis\n",
    "axins1 = inset_axes(ax1_0,height=1.2,width=1.8,loc=4)\n",
    "axins1.plot(TempRange,ErrorEnergy100,'+',label=\"MC=$10^2$\")\n",
    "axins1.plot(TempRange,ErrorEnergy1000,'+',label=\"MC=$10^3$\")\n",
    "axins1.plot(TempRange,ErrorEnergy10000,'+',label=\"MC=$10^4$\")\n",
    "axins1.plot(TempRange,ErrorEnergy10000,'+',label=\"MC=$10^5$\")\n",
    "axins1.legend(prop={'size': 7})            \n",
    "plt.savefig(\"L2LatticeEnergy.png\",format=\"png\",dpi=300)\n",
    "#Specific Heat\n",
    "fig1_1,ax1_1 = plt.subplots()\n",
    "ax1_1.plot(T,SpecHeatSmall,label=\"Analytic Solution\")\n",
    "#ax1_1.plot(TempRange,SpecificHeatPerPart2by2[0,:],'*',label=\"MC = 100\")\n",
    "#ax1_1.plot(TempRange,SpecificHeatPerPart2by2[1,:],'*',label=\"MC = 1000\")\n",
    "#ax1_1.plot(TempRange,SpecificHeatPerPart2by2[3,:],'*',label=\"MC = 10000\")\n",
    "ax1_1.plot(TempRange,SpecificHeatPerPart2by2[4,:],'r*',label=\"MC = 100000\")\n",
    "ax1_1.grid(alpha=0.3)\n",
    "ax1_1.set_ylabel(\"Specific Heat [eining]\")\n",
    "ax1_1.set_xlabel(\"Temperature [T]\")\n",
    "ax1_1.legend()\n",
    "axins2 = inset_axes(ax1_1,height=1.2,width=2.1,loc=4)\n",
    "axins2.plot(TempRange,ErrorHeatCap100,'+',label=\"MC=$10^2$\")\n",
    "axins2.plot(TempRange,ErrorHeatCap1000,'+',label=\"MC=$10^3$\")\n",
    "axins2.plot(TempRange,ErrorHeatCap10000,'+',label=\"MC=$10^4$\")\n",
    "axins2.plot(TempRange,ErrorHeatCap100000,'+',label=\"MC=$10^5$\")\n",
    "axins2.legend(prop={'size': 7})\n",
    "plt.savefig(\"L2LatticeHeatCapacity.png\",format=\"png\",dpi=300)\n",
    "#Mean magnetization\n",
    "fig1_2,ax1_2 = plt.subplots()\n",
    "ax1_2.plot(T,AverageAbsSmall,label=\"Analytic Solution\")\n",
    "#ax1_2.plot(TempRange,MagnPerPart2by2[0,:],'*',label=\"MC = 100\")\n",
    "#ax1_2.plot(TempRange,MagnPerPart2by2[1,:],'*',label=\"MC = 1000\")\n",
    "#ax1_2.plot(TempRange,MagnPerPart2by2[3,:],'*',label=\"MC = 10000\")\n",
    "ax1_2.plot(TempRange,MagnPerPart2by2[4,:],'r*',label=\"MC = 100000\")\n",
    "ax1_2.grid(alpha=0.3)\n",
    "ax1_2.set_ylabel(\"Mean magnetization [eining]\")\n",
    "ax1_2.set_xlabel(\"Temperature [T]\")\n",
    "ax1_2.legend()\n",
    "axins3 = inset_axes(ax1_2,height=1.2,width=2.1,loc=3,borderpad=3)\n",
    "axins3.plot(TempRange,ErrorMagn100,'+',label=\"MC=$10^2$\")\n",
    "axins3.plot(TempRange,ErrorMagn1000,'+',label=\"MC=$10^3$\")\n",
    "axins3.plot(TempRange,ErrorMagn10000,'+',label=\"MC=$10^4$\")\n",
    "axins3.plot(TempRange,ErrorMagn100000,'+',label=\"MC=$10^5$\")\n",
    "axins3.legend(prop={'size': 7})\n",
    "plt.savefig(\"L2LatticeMeanMagn.png\",format=\"png\",dpi=300)\n",
    "#Susceptibility\n",
    "fig1_3,ax1_3 = plt.subplots()\n",
    "ax1_3.plot(T,SucsSmall,label=\"Analytic Solution\")\n",
    "#ax1_3.plot(TempRange,SuscPerPart2by2[0,:],'*',label=\"MC = 100\")\n",
    "#ax1_3.plot(TempRange,SuscPerPart2by2[1,:],'*',label=\"MC = 1000\")\n",
    "#ax1_3.plot(TempRange,SuscPerPart2by2[3,:],'*',label=\"MC = 10000\")\n",
    "ax1_3.plot(TempRange,SuscPerPart2by2[4,:],'r*',label=\"MC = 100000\")\n",
    "ax1_3.grid(alpha=0.3)\n",
    "ax1_3.set_ylabel(\"Susceptibility [eining]\")\n",
    "ax1_3.set_xlabel(\"Temperature [T]\")\n",
    "ax1_3.legend()\n",
    "axins4 = inset_axes(ax1_3,height=1.2,width=2.1,loc=4)\n",
    "axins4.plot(TempRange,ErrorSusc100,'+',label=\"MC=$10^2$\")\n",
    "axins4.plot(TempRange,ErrorSusc1000,'+',label=\"MC=$10^3$\")\n",
    "axins4.plot(TempRange,ErrorSusc10000,'+',label=\"MC=$10^4$\")\n",
    "axins4.plot(TempRange,ErrorSusc100000,'+',label=\"MC=$10^5$\")\n",
    "axins4.legend(prop={'size': 7})\n",
    "plt.savefig(\"L2LatticeSusceptibility.png\",format=\"png\",dpi=300)"
   ]
  },
  {
   "cell_type": "markdown",
   "metadata": {},
   "source": [
    "**Trial for bigger lattice:**"
   ]
  },
  {
   "cell_type": "code",
   "execution_count": 24,
   "metadata": {},
   "outputs": [
    {
     "name": "stdout",
     "output_type": "stream",
     "text": [
      "The measurement took, in seconds: 205.03594040870667\n",
      "Number of Accepted moves: 8017442\n",
      "Energy per particle: -1.3619112960841049\n",
      "The Average magnetization is: -0.45682852139274693\n",
      "The Average absolute magnetization is: 0.4660367415702161\n",
      "The Specific Heat is: 2.6876457729577363\n",
      "The Susceptibility is: 80.8716080425107\n"
     ]
    }
   ],
   "source": [
    "L = 60\n",
    "A2 = StateInitalize(L)\n",
    "T2 = 2.3\n",
    "SkippingCycles = int(0.2e4)\n",
    "MCCycles = int(1e4)\n",
    "start = time.time()\n",
    "AcceptedMoves2, EnergyAll2, MagnAll2, MagnallAbs2, EnergyPerPart2, AverageMagn2, AverageMagnAbs2,SpecificHeat2, Susceptibility2 = MonteCarloIsing(A2,MCCycles,L,T2,SkippingCycles)\n",
    "end = time.time()\n",
    "print(\"The measurement took, in seconds:\", end-start)\n",
    "print(\"Number of Accepted moves:\",AcceptedMoves2)\n",
    "print(\"Energy per particle:\",EnergyPerPart2)\n",
    "print(\"The Average magnetization is:\",AverageMagn2)\n",
    "print(\"The Average absolute magnetization is:\",AverageMagnAbs2)\n",
    "print(\"The Specific Heat is:\",SpecificHeat2)\n",
    "print(\"The Susceptibility is:\", Susceptibility2)"
   ]
  },
  {
   "cell_type": "markdown",
   "metadata": {},
   "source": [
    "**Counting how often a certain energy value is measured:**"
   ]
  },
  {
   "cell_type": "code",
   "execution_count": 27,
   "metadata": {},
   "outputs": [
    {
     "data": {
      "text/plain": [
       "Text(0, 0.5, 'Counts')"
      ]
     },
     "execution_count": 27,
     "metadata": {},
     "output_type": "execute_result"
    },
    {
     "data": {
      "image/png": "[encoded data removed]",
      "text/plain": [
       "<Figure size 432x288 with 1 Axes>"
      ]
     },
     "metadata": {
      "needs_background": "light"
     },
     "output_type": "display_data"
    }
   ],
   "source": [
    "EnergyValue, EnergyCount = ArrayElementCounter(EnergyAll2[SkippingCycles:-1])\n",
    "fig1_7,ax1_7 = plt.subplots()\n",
    "ax1_7.bar(EnergyValue,EnergyCount)\n",
    "ax1_7.grid(alpha=0.3)\n",
    "ax1_7.set_xlabel(\"Energy [J]\")\n",
    "ax1_7.set_ylabel(\"Counts\")\n",
    "#plt.yscale(\"log\")"
   ]
  },
  {
   "cell_type": "code",
   "execution_count": 25,
   "metadata": {},
   "outputs": [
    {
     "data": {
      "image/png": "[encoded data removed]",
      "text/plain": [
       "<Figure size 432x288 with 1 Axes>"
      ]
     },
     "metadata": {
      "needs_background": "light"
     },
     "output_type": "display_data"
    }
   ],
   "source": [
    "fig2, ax2 = plt.subplots()\n",
    "Steps2 = np.arange(0,MCCycles)\n",
    "ax2.plot(Steps2,EnergyAll2)\n",
    "#ax2.axhline(y=-20000,c='r')\n",
    "ax2.set_xlabel(\"MC steps\")\n",
    "ax2.set_ylabel(\"Energy [J]\")\n",
    "ax2.grid(alpha=0.3)\n",
    "plt.savefig(\"EnergyMCL80.png\",format=\"png\",dpi=300)\n",
    "plt.show()"
   ]
  },
  {
   "cell_type": "code",
   "execution_count": 26,
   "metadata": {},
   "outputs": [
    {
     "data": {
      "image/png": "[encoded data removed]",
      "text/plain": [
       "<Figure size 432x288 with 1 Axes>"
      ]
     },
     "metadata": {
      "needs_background": "light"
     },
     "output_type": "display_data"
    }
   ],
   "source": [
    "fig2_2, ax2_2 = plt.subplots()\n",
    "Steps2 = np.arange(0,MCCycles)\n",
    "#ax2_2.plot(Steps2,MagnAll2)\n",
    "ax2_2.plot(Steps2,MagnallAbs2)\n",
    "ax2_2.set_xlabel(\"MC steps\")\n",
    "ax2_2.set_ylabel(\"Magnetization\")\n",
    "ax2_2.grid(alpha=0.3)\n",
    "plt.savefig(\"AbsMagnetizationL80.png\",format=\"png\",dpi=300)\n",
    "plt.show()"
   ]
  },
  {
   "cell_type": "markdown",
   "metadata": {},
   "source": [
    "## Analysis of lattice of size 20x20:"
   ]
  },
  {
   "cell_type": "code",
   "execution_count": 90,
   "metadata": {},
   "outputs": [
    {
     "name": "stdout",
     "output_type": "stream",
     "text": [
      "[1.  2.4]\n",
      "Temperature 1.0  finished\n",
      "Temperature 2.4  finished\n",
      "The measurement took, in seconds: 4.70698356628418\n",
      "Temperature 1.0  finished\n",
      "Temperature 2.4  finished\n",
      "The measurement took, in seconds: 4.636553049087524\n"
     ]
    }
   ],
   "source": [
    "TempRange = np.array([1,2.4])\n",
    "print(TempRange)\n",
    "#Creating Lattice\n",
    "L = 20\n",
    "MCCycles20 = int(1e4)\n",
    "SkipCycles20 = int(0.25e3)\n",
    "State20 = StateInitalize(L)\n",
    "Time20 = time.time()\n",
    "start20 = time.time()\n",
    "AcceptedMoves20, EnergyPerPart20, AverageMagn20, AverageMagnAbs20, SpecificHeat20, Susceptibility20, EnergyAll20, AbsMagnAll20 = MonteCarloIsingParallel2(State20,MCCycles20,L,TempRange,Time20,SkipCycles20)\n",
    "end20 = time.time()\n",
    "print(\"The measurement took, in seconds:\", end20-start20)\n",
    "#Non-random start point\n",
    "State20Up = StateInitalizeNonRandom(L,\"up\")\n",
    "Time20 = time.time()\n",
    "start20Up = time.time()\n",
    "AcceptedMoves20Up, EnergyPerPart20Up, AverageMagn20Up, AverageMagnAbs20Up, SpecificHeat20Up, Susceptibility20Up, EnergyAll20Up, AbsMagnAll20Up = MonteCarloIsingParallel2(State20Up,MCCycles20,L,TempRange,Time20,SkipCycles20)\n",
    "end20Up = time.time()\n",
    "print(\"The measurement took, in seconds:\", end20Up-start20Up)"
   ]
  },
  {
   "cell_type": "markdown",
   "metadata": {},
   "source": [
    "**Plotting:**"
   ]
  },
  {
   "cell_type": "code",
   "execution_count": 91,
   "metadata": {},
   "outputs": [
    {
     "data": {
      "image/png": "[encoded data removed]",
      "text/plain": [
       "<Figure size 432x288 with 1 Axes>"
      ]
     },
     "metadata": {
      "needs_background": "light"
     },
     "output_type": "display_data"
    }
   ],
   "source": [
    "#Energy\n",
    "figL20,axL20 = plt.subplots()\n",
    "StepsL20 = np.arange(0,MCCycles20,1)\n",
    "axL20.plot(StepsL20,EnergyAll20[0,:],label=\"T = 1.0, Random\")\n",
    "axL20.plot(StepsL20,EnergyAll20[1,:],label=\"T = 2.4, Random\")\n",
    "axL20.plot(StepsL20,EnergyAll20Up[0,:],label=\"T = 1.0, Ordered(Up)\")\n",
    "axL20.plot(StepsL20,EnergyAll20Up[1,:],label=\"T = 2.4, Ordered(Up)\")\n",
    "axL20.legend()\n",
    "axL20.set_xlabel(\"MC Steps\")\n",
    "axL20.set_ylabel(\"Energy [J]\")\n",
    "axL20.grid(alpha=0.3)\n",
    "axL20.set_ylim([-820,0])\n",
    "plt.savefig(\"L20ComparisonEnergy_5.png\",format=\"png\",dpi=300)"
   ]
  },
  {
   "cell_type": "code",
   "execution_count": 92,
   "metadata": {},
   "outputs": [
    {
     "data": {
      "image/png": "[encoded data removed]",
      "text/plain": [
       "<Figure size 432x288 with 1 Axes>"
      ]
     },
     "metadata": {
      "needs_background": "light"
     },
     "output_type": "display_data"
    }
   ],
   "source": [
    "#Abs Magnetization\n",
    "figL20,axL20 = plt.subplots()\n",
    "axL20.plot(StepsL20,AbsMagnAll20[0,:],label=\"T = 1.0, Random\")\n",
    "axL20.plot(StepsL20,AbsMagnAll20[1,:],label=\"T = 2.4, Random\")\n",
    "axL20.plot(StepsL20,AbsMagnAll20Up[0,:],label=\"T = 1.0, Ordered (Up)\")\n",
    "axL20.plot(StepsL20,AbsMagnAll20Up[1,:],label=\"T = 2.4, Ordered (Up)\")\n",
    "axL20.legend()\n",
    "axL20.set_xlabel(\"MC Steps\")\n",
    "axL20.set_ylabel(\"Magnetization [Eining]\")\n",
    "axL20.grid(alpha=0.3)\n",
    "plt.savefig(\"L20ComparisonMagn_5.png\",format=\"png\",dpi=300)"
   ]
  },
  {
   "cell_type": "markdown",
   "metadata": {},
   "source": [
    "**Analysing total accepted steps as function of MCCycles**"
   ]
  },
  {
   "cell_type": "code",
   "execution_count": 50,
   "metadata": {},
   "outputs": [
    {
     "name": "stdout",
     "output_type": "stream",
     "text": [
      "[  50  100  150  200  250  300  350  400  450  500  550  600  650  700\n",
      "  750  800  850  900  950 1000 1050 1100 1150 1200 1250 1300 1350 1400\n",
      " 1450 1500 1550 1600 1650 1700 1750 1800 1850 1900 1950 2000 2050 2100\n",
      " 2150 2200 2250 2300 2350 2400 2450 2500 2550 2600 2650 2700 2750 2800\n",
      " 2850 2900 2950]\n",
      "Temperature 1.0  finished\n",
      "Temperature 2.4  finished\n",
      "Temperature 1.0  finished\n",
      "Temperature 2.4  finished\n",
      "Temperature 1.0  finished\n",
      "Temperature 2.4  finished\n",
      "Temperature 1.0  finished\n",
      "Temperature 2.4  finished\n",
      "Temperature 1.0  finished\n",
      "Temperature 2.4  finished\n",
      "Temperature 1.0  finished\n",
      "Temperature 2.4  finished\n",
      "Temperature 1.0  finished\n",
      "Temperature 2.4  finished\n",
      "Temperature 1.0  finished\n",
      "Temperature 2.4  finished\n",
      "Temperature 1.0  finished\n",
      "Temperature 2.4  finished\n",
      "Temperature 1.0  finished\n",
      "Temperature 2.4  finished\n",
      "Temperature 1.0  finished\n",
      "Temperature 2.4  finished\n",
      "Temperature 1.0  finished\n",
      "Temperature 2.4  finished\n",
      "Temperature 1.0  finished\n",
      "Temperature 2.4  finished\n",
      "Temperature 1.0  finished\n",
      "Temperature 2.4  finished\n",
      "Temperature 1.0  finished\n",
      "Temperature 2.4  finished\n",
      "Temperature 1.0  finished\n",
      "Temperature 2.4  finished\n",
      "Temperature 1.0  finished\n",
      "Temperature 2.4  finished\n",
      "Temperature 1.0  finished\n",
      "Temperature 2.4  finished\n",
      "Temperature 1.0  finished\n",
      "Temperature 2.4  finished\n",
      "Temperature 1.0  finished\n",
      "Temperature 2.4  finished\n",
      "Temperature 1.0  finished\n",
      "Temperature 2.4  finished\n",
      "Temperature 1.0  finished\n",
      "Temperature 2.4  finished\n",
      "Temperature 1.0  finished\n",
      "Temperature 2.4  finished\n",
      "Temperature 1.0  finished\n",
      "Temperature 2.4  finished\n",
      "Temperature 1.0  finished\n",
      "Temperature 2.4  finished\n",
      "Temperature 1.0  finished\n",
      "Temperature 2.4  finished\n",
      "Temperature 1.0  finished\n",
      "Temperature 2.4  finished\n",
      "Temperature 1.0  finished\n",
      "Temperature 2.4  finished\n",
      "Temperature 1.0  finished\n",
      "Temperature 2.4  finished\n",
      "Temperature 1.0  finished\n",
      "Temperature 2.4  finished\n",
      "Temperature 1.0  finished\n",
      "Temperature 2.4  finished\n",
      "Temperature 1.0  finished\n",
      "Temperature 2.4  finished\n",
      "Temperature 1.0  finished\n",
      "Temperature 2.4  finished\n",
      "Temperature 1.0  finished\n",
      "Temperature 2.4  finished\n",
      "Temperature 1.0  finished\n",
      "Temperature 2.4  finished\n",
      "Temperature 1.0  finished\n",
      "Temperature 2.4  finished\n",
      "Temperature 1.0  finished\n",
      "Temperature 2.4  finished\n",
      "Temperature 1.0  finished\n",
      "Temperature 2.4  finished\n",
      "Temperature 1.0  finished\n",
      "Temperature 2.4  finished\n",
      "Temperature 1.0  finished\n",
      "Temperature 2.4  finished\n",
      "Temperature 1.0  finished\n",
      "Temperature 2.4  finished\n",
      "Temperature 1.0  finished\n",
      "Temperature 2.4  finished\n",
      "Temperature 1.0  finished\n",
      "Temperature 2.4  finished\n",
      "Temperature 1.0  finished\n",
      "Temperature 2.4  finished\n",
      "Temperature 1.0  finished\n",
      "Temperature 2.4  finished\n",
      "Temperature 1.0  finished\n",
      "Temperature 2.4  finished\n",
      "Temperature 1.0  finished\n",
      "Temperature 2.4  finished\n",
      "Temperature 1.0  finished\n",
      "Temperature 2.4  finished\n",
      "Temperature 1.0  finished\n",
      "Temperature 2.4  finished\n",
      "Temperature 1.0  finished\n",
      "Temperature 2.4  finished\n",
      "Temperature 1.0  finished\n",
      "Temperature 2.4  finished\n",
      "Temperature 1.0  finished\n",
      "Temperature 2.4  finished\n",
      "Temperature 1.0  finished\n",
      "Temperature 2.4  finished\n",
      "Temperature 1.0  finished\n",
      "Temperature 2.4  finished\n",
      "Temperature 1.0  finished\n",
      "Temperature 2.4  finished\n",
      "Temperature 1.0  finished\n",
      "Temperature 2.4  finished\n",
      "Temperature 1.0  finished\n",
      "Temperature 2.4  finished\n",
      "Temperature 1.0  finished\n",
      "Temperature 2.4  finished\n",
      "Temperature 1.0  finished\n",
      "Temperature 2.4  finished\n"
     ]
    }
   ],
   "source": [
    "#Creating Lattice\n",
    "StepsSteps = np.arange(50,3000,50)\n",
    "T1_0 = np.zeros(len(StepsSteps))\n",
    "T2_4 = np.zeros(len(StepsSteps))\n",
    "print(StepsSteps)\n",
    "counter = 0\n",
    "for steps in StepsSteps:\n",
    "    L = 20\n",
    "    MCCycles20 = int(steps)\n",
    "    SkipCycles20 = 0\n",
    "    State20 = StateInitalize(L)\n",
    "    Time20 = time.time()\n",
    "    start20 = time.time()\n",
    "    AcceptedMoves20, EnergyPerPart20, AverageMagn20, AverageMagnAbs20, SpecificHeat20, Susceptibility20, EnergyAll20, AbsMagnAll20 = MonteCarloIsingParallel2(State20,MCCycles20,L,TempRange,Time20,SkipCycles20)\n",
    "    end20 = time.time()\n",
    "    #print(\"The measurement took, in seconds:\", end20-start20)\n",
    "    T1_0[counter] = AcceptedMoves20[0]\n",
    "    T2_4[counter] = AcceptedMoves20[1]\n",
    "    counter += 1"
   ]
  },
  {
   "cell_type": "markdown",
   "metadata": {},
   "source": [
    "**Plotting:**"
   ]
  },
  {
   "cell_type": "code",
   "execution_count": 55,
   "metadata": {},
   "outputs": [
    {
     "data": {
      "image/png": "[encoded data removed]",
      "text/plain": [
       "<Figure size 432x288 with 1 Axes>"
      ]
     },
     "metadata": {
      "needs_background": "light"
     },
     "output_type": "display_data"
    }
   ],
   "source": [
    "figL20Steps,axL20Steps = plt.subplots()\n",
    "axL20Steps.plot(StepsSteps,T1_0,'*',label=\"T=1.0\")\n",
    "axL20Steps.plot(StepsSteps,T2_4,'*',label=\"T=2.4\")\n",
    "axL20Steps.set_xlabel(\"MC Cycles\")\n",
    "axL20Steps.set_ylabel(\"Number of accepted configurations\")\n",
    "axL20Steps.grid(alpha=0.3)\n",
    "axL20Steps.legend()\n",
    "plt.savefig(\"L20NumberOfAccepted.png\",format=\"png\",dpi=300)"
   ]
  },
  {
   "cell_type": "markdown",
   "metadata": {},
   "source": [
    "**Probability distribution for 20x20 lattice:**"
   ]
  },
  {
   "cell_type": "code",
   "execution_count": 57,
   "metadata": {},
   "outputs": [
    {
     "name": "stdout",
     "output_type": "stream",
     "text": [
      "Temperature 1.0  finished\n",
      "Temperature 2.4  finished\n",
      "The measurement took, in seconds: 16.757317066192627\n"
     ]
    }
   ],
   "source": [
    "#Creating the lattice\n",
    "L = 20\n",
    "TempRange = np.array([1,2.4])\n",
    "MCCycles20 = int(4e4)\n",
    "SkipCycles20 = 1500\n",
    "State20 = StateInitalize(L)\n",
    "Time20 = time.time()\n",
    "start20 = time.time()\n",
    "AcceptedMoves20, EnergyPerPart20, AverageMagn20, AverageMagnAbs20, SpecificHeat20, Susceptibility20, EnergyAll20, AbsMagnAll20 = MonteCarloIsingParallel2(State20,MCCycles20,L,TempRange,Time20,SkipCycles20)\n",
    "end20 = time.time()\n",
    "print(\"The measurement took, in seconds:\", end20-start20)"
   ]
  },
  {
   "cell_type": "code",
   "execution_count": 58,
   "metadata": {},
   "outputs": [
    {
     "data": {
      "image/png": "[encoded data removed]",
      "text/plain": [
       "<Figure size 432x288 with 2 Axes>"
      ]
     },
     "metadata": {
      "needs_background": "light"
     },
     "output_type": "display_data"
    }
   ],
   "source": [
    "EnergyValue1, EnergyCount1 = ArrayElementCounter(EnergyAll20[0,SkipCycles20:-1])\n",
    "EnergyValue2, EnergyCount2 = ArrayElementCounter(EnergyAll20[1,SkipCycles20:-1])\n",
    "fig20Counter = plt.subplot(1,2,1)\n",
    "fig20Counter.bar(EnergyValue1,EnergyCount1)\n",
    "fig20Counter.grid(alpha=0.3)\n",
    "fig20Counter.set_xlabel(\"Energy [J]\")\n",
    "fig20Counter.set_ylabel(\"Counts\")\n",
    "#plt.yscale(\"log\")\n",
    "fig20Counter2 = plt.subplot(1,2,2)\n",
    "fig20Counter2.bar(EnergyValue2,EnergyCount2)\n",
    "fig20Counter2.grid(alpha=0.3)\n",
    "fig20Counter2.set_xlabel(\"Energy [J]\")\n",
    "#fig20Counter2.set_ylabel(\"Counts\")\n",
    "plt.savefig(\"L20ComparisonEnergyCount.png\",format=\"png\",dpi=300)"
   ]
  },
  {
   "cell_type": "markdown",
   "metadata": {},
   "source": [
    "**Timing of parallelized vs non-parallized:**"
   ]
  },
  {
   "cell_type": "code",
   "execution_count": 124,
   "metadata": {},
   "outputs": [
    {
     "name": "stdout",
     "output_type": "stream",
     "text": [
      "[0.2 0.4 0.6 0.8 1.  1.2 1.4 1.6 1.8 2.  2.2 2.4 2.6 2.8 3.  3.2 3.4 3.6\n",
      " 3.8 4.  4.2 4.4 4.6 4.8] 24\n"
     ]
    }
   ],
   "source": [
    "TempRange = np.arange(0.2,5,0.2)\n",
    "print(TempRange,len(TempRange))\n",
    "#TempRange = np.array([1,2])"
   ]
  },
  {
   "cell_type": "code",
   "execution_count": 121,
   "metadata": {},
   "outputs": [
    {
     "name": "stdout",
     "output_type": "stream",
     "text": [
      "The measurement for parallelized took, in seconds: 657.8245613574982\n"
     ]
    }
   ],
   "source": [
    "#Parallized\n",
    "#Creating Lattice\n",
    "L = 30\n",
    "MCCycles20 = int(2e4)\n",
    "SkipCycles20 = int(1e4)\n",
    "State20 = StateInitalize(L)\n",
    "Time20 = time.time()\n",
    "start20 = time.time()\n",
    "AcceptedMoves20, EnergyPerPart20, AverageMagn20, AverageMagnAbs20, SpecificHeat20, Susceptibility20, EnergyAll20, AbsMagnAll20 = MonteCarloIsingParallel2(State20,MCCycles20,L,TempRange,Time20,SkipCycles20)\n",
    "end20 = time.time()\n",
    "print(\"The measurement for parallelized took, in seconds:\", end20-start20)"
   ]
  },
  {
   "cell_type": "code",
   "execution_count": 122,
   "metadata": {},
   "outputs": [
    {
     "name": "stdout",
     "output_type": "stream",
     "text": [
      "[0.2 0.4 0.6 0.8 1.  1.2 1.4 1.6 1.8 2.  2.2 2.4 2.6 2.8 3.  3.2 3.4 3.6\n",
      " 3.8 4.  4.2 4.4 4.6 4.8]\n",
      "The measurement for non-parallelized took, in seconds: 830.3906729221344\n"
     ]
    }
   ],
   "source": [
    "#Non-Parallized\n",
    "#Creating Lattice\n",
    "print(TempRange)\n",
    "L = 30\n",
    "MCCycles20 = int(2e4)\n",
    "SkipCycles20 = int(1e4)\n",
    "State20 = StateInitalize(L)\n",
    "start20 = time.time()\n",
    "for i in range(len(TempRange)):\n",
    "    T = TempRange[i]\n",
    "    Time20 = time.time()\n",
    "    AcceptedMoves20, EnergyAll20, MagnAll20, AbsMagnAll20, EnergyPerPart20, AverageMagn20, AverageMagnAbs20, SpecificHeat20, Susceptibility20,  = MonteCarloIsing(State20,MCCycles20,L,T,SkipCycles20)\n",
    "end20 = time.time()\n",
    "print(\"The measurement for non-parallelized took, in seconds:\", end20-start20)\n",
    "#MonteCarloIsing(InitialState,NumOfCycles,LatticeSize,Temperature,SkipCycles)\n",
    "#CounterAcceptance, EnergyVector, MagnetizationVector, MagnetizationVectorAbs, EnergyPerParticle, AverageMagnetizationPerPar, AverageMagnetizationAbsPerSpin, SpecificHeat, Susceptibility"
   ]
  },
  {
   "cell_type": "markdown",
   "metadata": {},
   "source": [
    "## Large scale run:"
   ]
  },
  {
   "cell_type": "code",
   "execution_count": 255,
   "metadata": {},
   "outputs": [
    {
     "name": "stdout",
     "output_type": "stream",
     "text": [
      "[0.2   0.55  0.9   1.25  1.6   1.95  2.    2.025 2.05  2.075 2.1   2.125\n",
      " 2.15  2.175 2.2   2.225 2.25  2.275 2.3   2.325 2.35  2.35  2.7   3.05\n",
      " 3.4   3.75  4.1   4.45 ]\n",
      "The measurement took, in seconds: 3.2661046981811523\n"
     ]
    }
   ],
   "source": [
    "#Trial of Parallized MC\n",
    "#Assigning Temperature\n",
    "a = np.arange(0.20,2,0.35)\n",
    "b = np.arange(2.0,2.35,0.025)\n",
    "c = np.concatenate((a,b),axis=0)\n",
    "d = np.arange(2.35,4.8,0.35)\n",
    "TempRange = np.concatenate((c,d),axis=0)\n",
    "#TempRange = np.arange(2,2.34,0.02)\n",
    "print(TempRange)\n",
    "#Creating Lattice\n",
    "L = 8\n",
    "MCCycles = int(1e4)\n",
    "SkipCycles = int(0.5e4)\n",
    "StateP = StateInitalize(L)\n",
    "#TempRange = np.arange(0.2,3.5,0.1)\n",
    "#print(TempRange)\n",
    "Time = time.time()\n",
    "start = time.time()\n",
    "AcceptedMovesP, EnergyPerPartP, AverageMagnP, AverageMagnAbsP, SpecificHeatP, SusceptibilityP, EnergyAll, AbsMagnAll = MonteCarloIsingParallel2(StateP,MCCycles,L,TempRange,Time,SkipCycles)\n",
    "end = time.time()\n",
    "print(\"The measurement took, in seconds:\", end-start)"
   ]
  },
  {
   "cell_type": "code",
   "execution_count": 256,
   "metadata": {},
   "outputs": [],
   "source": [
    "#Write to file\n",
    "filename = \"RunL4No1Test.txt\"\n",
    "WriteToFile(filename,MCCycles,SkipCycles,L,EnergyPerPartP,SpecificHeatP,AverageMagnAbsP,SusceptibilityP,AcceptedMovesP,TempRange,end-start,EnergyAll,AbsMagnAll)"
   ]
  },
  {
   "cell_type": "markdown",
   "metadata": {},
   "source": [
    "## L = 4"
   ]
  },
  {
   "cell_type": "code",
   "execution_count": 32,
   "metadata": {},
   "outputs": [
    {
     "name": "stdout",
     "output_type": "stream",
     "text": [
      "[0.2   0.55  0.9   1.25  1.6   1.95  2.    2.025 2.05  2.075 2.1   2.125\n",
      " 2.15  2.175 2.2   2.225 2.25  2.275 2.3   2.325 2.35  2.35  2.7   3.05\n",
      " 3.4   3.75  4.1   4.45 ]\n",
      "The measurement took, in seconds: 1.2796339988708496\n"
     ]
    }
   ],
   "source": [
    "#Assigning Temperature\n",
    "a = np.arange(0.20,2,0.35)\n",
    "b = np.arange(2.0,2.35,0.025)\n",
    "c = np.concatenate((a,b),axis=0)\n",
    "d = np.arange(2.35,4.8,0.35)\n",
    "TempRange = np.concatenate((c,d),axis=0)\n",
    "#TempRange = np.arange(2,2.34,0.02)\n",
    "print(TempRange)\n",
    "#Creating Lattice\n",
    "L = 4\n",
    "MCCycles = int(2e4)\n",
    "SkipCycles = int(0.5e4)\n",
    "StateP = StateInitalize(L)\n",
    "#TempRange = np.arange(0.2,3.5,0.1)\n",
    "#print(TempRange)\n",
    "Time = time.time()\n",
    "start = time.time()\n",
    "AcceptedMovesP, EnergyPerPartP, AverageMagnP, AverageMagnAbsP, SpecificHeatP, SusceptibilityP, EnergyAll, AbsMagnAll = MonteCarloIsingParallel2(StateP,MCCycles,L,TempRange,Time,SkipCycles)\n",
    "end = time.time()\n",
    "print(\"The measurement took, in seconds:\", end-start)\n",
    "#Write to file\n",
    "filename = \"RunL4_Long1.txt\"\n",
    "WriteToFile(filename,MCCycles,SkipCycles,L,EnergyPerPartP,SpecificHeatP,AverageMagnAbsP,SusceptibilityP,AcceptedMovesP,TempRange,end-start,EnergyAll,AbsMagnAll)"
   ]
  },
  {
   "cell_type": "markdown",
   "metadata": {},
   "source": [
    "## L = 8"
   ]
  },
  {
   "cell_type": "code",
   "execution_count": 31,
   "metadata": {},
   "outputs": [
    {
     "name": "stdout",
     "output_type": "stream",
     "text": [
      "[0.2   0.55  0.9   1.25  1.6   1.95  2.    2.025 2.05  2.075 2.1   2.125\n",
      " 2.15  2.175 2.2   2.225 2.25  2.275 2.3   2.325 2.35  2.35  2.7   3.05\n",
      " 3.4   3.75  4.1   4.45 ]\n",
      "The measurement took, in seconds: 7.547550439834595\n"
     ]
    }
   ],
   "source": [
    "#Assigning Temperature\n",
    "a = np.arange(0.20,2,0.35)\n",
    "b = np.arange(2.0,2.35,0.025)\n",
    "c = np.concatenate((a,b),axis=0)\n",
    "d = np.arange(2.35,4.8,0.35)\n",
    "TempRange = np.concatenate((c,d),axis=0)\n",
    "#TempRange = np.arange(2,2.34,0.02)\n",
    "print(TempRange)\n",
    "#Creating Lattice\n",
    "L = 8\n",
    "MCCycles = int(2e4)\n",
    "SkipCycles = int(0.5e4)\n",
    "StateP = StateInitalize(L)\n",
    "#TempRange = np.arange(0.2,3.5,0.1)\n",
    "#print(TempRange)\n",
    "Time = time.time()\n",
    "start = time.time()\n",
    "AcceptedMovesP, EnergyPerPartP, AverageMagnP, AverageMagnAbsP, SpecificHeatP, SusceptibilityP, EnergyAll, AbsMagnAll = MonteCarloIsingParallel2(StateP,MCCycles,L,TempRange,Time,SkipCycles)\n",
    "end = time.time()\n",
    "print(\"The measurement took, in seconds:\", end-start)\n",
    "#Write to file\n",
    "filename = \"RunL8_Long1.txt\"\n",
    "WriteToFile(filename,MCCycles,SkipCycles,L,EnergyPerPartP,SpecificHeatP,AverageMagnAbsP,SusceptibilityP,AcceptedMovesP,TempRange,end-start,EnergyAll,AbsMagnAll)"
   ]
  },
  {
   "cell_type": "markdown",
   "metadata": {},
   "source": [
    "## L = 16"
   ]
  },
  {
   "cell_type": "code",
   "execution_count": 37,
   "metadata": {},
   "outputs": [
    {
     "name": "stdout",
     "output_type": "stream",
     "text": [
      "[0.2   0.55  0.9   1.25  1.6   1.95  2.    2.025 2.05  2.075 2.1   2.125\n",
      " 2.15  2.175 2.2   2.225 2.25  2.275 2.3   2.325 2.35  2.35  2.7   3.05\n",
      " 3.4   3.75  4.1   4.45 ]\n",
      "Temperature 0.2  finished\n",
      "Temperature 2.025  finished\n",
      "Temperature 2.1999999999999993  finished\n",
      "Temperature 0.55  finished\n",
      "Temperature 2.35  finished\n",
      "Temperature 2.05  finished\n",
      "Temperature 0.9000000000000001  finished\n",
      "Temperature 2.224999999999999  finished\n",
      "Temperature 1.25  finished\n",
      "Temperature 2.0749999999999997  finished\n",
      "Temperature 1.6  finished\n",
      "Temperature 2.7  finished\n",
      "Temperature 2.249999999999999  finished\n",
      "Temperature 2.0999999999999996  finished\n",
      "Temperature 1.9500000000000002  finished\n",
      "Temperature 2.274999999999999  finished\n",
      "Temperature 2.1249999999999996  finished\n",
      "Temperature 2.0  finished\n",
      "Temperature 3.0500000000000003  finished\n",
      "Temperature 2.1499999999999995  finished\n",
      "Temperature 2.299999999999999  finished\n",
      "Temperature 2.1749999999999994  finished\n",
      "Temperature 2.324999999999999  finished\n",
      "Temperature 3.4000000000000004  finished\n",
      "Temperature 2.3499999999999988  finished\n",
      "Temperature 3.7500000000000004  finished\n",
      "Temperature 4.1000000000000005  finished\n",
      "Temperature 4.450000000000001  finished\n",
      "The measurement took, in seconds: 97.05153203010559\n"
     ]
    }
   ],
   "source": [
    "#Assigning Temperature\n",
    "a = np.arange(0.20,2,0.35)\n",
    "b = np.arange(2.0,2.35,0.025)\n",
    "c = np.concatenate((a,b),axis=0)\n",
    "d = np.arange(2.35,4.8,0.35)\n",
    "TempRange = np.concatenate((c,d),axis=0)\n",
    "#TempRange = np.arange(2,2.34,0.02)\n",
    "print(TempRange)\n",
    "#Creating Lattice\n",
    "L = 16\n",
    "MCCycles = int(3.5e4)\n",
    "SkipCycles = int(1.5e4)\n",
    "StateP = StateInitalize(L)\n",
    "#TempRange = np.arange(0.2,3.5,0.1)\n",
    "#print(TempRange)\n",
    "Time = time.time()\n",
    "start = time.time()\n",
    "AcceptedMovesP, EnergyPerPartP, AverageMagnP, AverageMagnAbsP, SpecificHeatP, SusceptibilityP, EnergyAll, AbsMagnAll = MonteCarloIsingParallel2(StateP,MCCycles,L,TempRange,Time,SkipCycles)\n",
    "end = time.time()\n",
    "print(\"The measurement took, in seconds:\", end-start)\n",
    "#Write to file\n",
    "filename = \"RunL16_Long2.txt\"\n",
    "WriteToFile(filename,MCCycles,SkipCycles,L,EnergyPerPartP,SpecificHeatP,AverageMagnAbsP,SusceptibilityP,AcceptedMovesP,TempRange,end-start,EnergyAll,AbsMagnAll)"
   ]
  },
  {
   "cell_type": "markdown",
   "metadata": {},
   "source": [
    "## L = 40"
   ]
  },
  {
   "cell_type": "code",
   "execution_count": 257,
   "metadata": {},
   "outputs": [
    {
     "name": "stdout",
     "output_type": "stream",
     "text": [
      "[0.2   0.55  0.9   1.25  1.6   1.95  2.    2.025 2.05  2.075 2.1   2.125\n",
      " 2.15  2.175 2.2   2.225 2.25  2.275 2.3   2.325 2.35  2.35  2.7   3.05\n",
      " 3.4   3.75  4.1   4.45 ]\n",
      "The measurement took, in seconds: 3788.827029466629\n"
     ]
    }
   ],
   "source": [
    "#Assigning Temperature\n",
    "a = np.arange(0.20,2,0.35)\n",
    "b = np.arange(2.0,2.35,0.025)\n",
    "c = np.concatenate((a,b),axis=0)\n",
    "d = np.arange(2.35,4.8,0.35)\n",
    "TempRange = np.concatenate((c,d),axis=0)\n",
    "#TempRange = np.arange(2,2.34,0.02)\n",
    "print(TempRange)\n",
    "#Creating Lattice\n",
    "L = 40\n",
    "MCCycles = int(5e4)\n",
    "SkipCycles = int(2e4)\n",
    "StateP = StateInitalize(L)\n",
    "#TempRange = np.arange(0.2,3.5,0.1)\n",
    "#print(TempRange)\n",
    "Time = time.time()\n",
    "start = time.time()\n",
    "AcceptedMovesP, EnergyPerPartP, AverageMagnP, AverageMagnAbsP, SpecificHeatP, SusceptibilityP, EnergyAll, AbsMagnAll = MonteCarloIsingParallel2(StateP,MCCycles,L,TempRange,Time,SkipCycles)\n",
    "end = time.time()\n",
    "print(\"The measurement took, in seconds:\", end-start)\n",
    "#Write to file\n",
    "filename = \"RunL40_Long1.txt\"\n",
    "WriteToFile(filename,MCCycles,SkipCycles,L,EnergyPerPartP,SpecificHeatP,AverageMagnAbsP,SusceptibilityP,AcceptedMovesP,TempRange,end-start,EnergyAll,AbsMagnAll)"
   ]
  },
  {
   "cell_type": "markdown",
   "metadata": {},
   "source": [
    "## L = 60"
   ]
  },
  {
   "cell_type": "code",
   "execution_count": 27,
   "metadata": {},
   "outputs": [
    {
     "name": "stdout",
     "output_type": "stream",
     "text": [
      "[2.    2.025 2.05  2.075 2.1   2.125 2.15  2.175 2.2   2.225 2.25  2.275\n",
      " 2.3   2.325 2.35 ]\n",
      "Temperature 2.0  finished\n",
      "Temperature 2.0749999999999997  finished\n",
      "Temperature 2.1499999999999995  finished\n",
      "Temperature 2.224999999999999  finished\n",
      "Temperature 2.025  finished\n",
      "Temperature 2.0999999999999996  finished\n",
      "Temperature 2.1749999999999994  finished\n",
      "Temperature 2.05  finished\n",
      "Temperature 2.249999999999999  finished\n",
      "Temperature 2.1249999999999996  finished\n",
      "Temperature 2.1999999999999993  finished\n",
      "Temperature 2.274999999999999  finished\n",
      "Temperature 2.299999999999999  finished\n",
      "Temperature 2.324999999999999  finished\n",
      "Temperature 2.3499999999999988  finished\n",
      "The measurement took, in seconds: 1792.5211772918701\n"
     ]
    }
   ],
   "source": [
    "#Assigning Temperature\n",
    "TempRange = np.arange(2.0,2.35,0.025)\n",
    "print(TempRange)\n",
    "#Creating Lattice\n",
    "L = 60\n",
    "MCCycles = int(1e4)\n",
    "SkipCycles = int(0.5e4)\n",
    "StateP = StateInitalize(L)\n",
    "#TempRange = np.arange(0.2,3.5,0.1)\n",
    "#print(TempRange)\n",
    "Time = time.time()\n",
    "start = time.time()\n",
    "AcceptedMovesP, EnergyPerPartP, AverageMagnP, AverageMagnAbsP, SpecificHeatP, SusceptibilityP, EnergyAll, AbsMagnAll = MonteCarloIsingParallel2(StateP,MCCycles,L,TempRange,Time,SkipCycles)\n",
    "end = time.time()\n",
    "print(\"The measurement took, in seconds:\", end-start)\n",
    "#Write to file\n",
    "filename = \"RunL60_Long2.txt\"\n",
    "WriteToFile(filename,MCCycles,SkipCycles,L,EnergyPerPartP,SpecificHeatP,AverageMagnAbsP,SusceptibilityP,AcceptedMovesP,TempRange,end-start,EnergyAll,AbsMagnAll)"
   ]
  },
  {
   "cell_type": "markdown",
   "metadata": {},
   "source": [
    "## L = 80"
   ]
  },
  {
   "cell_type": "code",
   "execution_count": 45,
   "metadata": {},
   "outputs": [
    {
     "name": "stdout",
     "output_type": "stream",
     "text": [
      "[2.    2.025 2.05  2.075 2.1   2.125 2.15  2.175 2.2   2.225 2.227 2.228\n",
      " 2.229 2.31  2.325]\n"
     ]
    }
   ],
   "source": [
    "a = np.arange(2.0,2.225,0.025)\n",
    "#print(a)\n",
    "b = np.array([2.227,2.228,2.229])\n",
    "#print(b)\n",
    "b = np.concatenate((a,b),axis=0)\n",
    "#print(b)\n",
    "c = np.array([2.31,2.325])\n",
    "c = np.concatenate((b,c),0)\n",
    "#print(c)\n",
    "TempRange = c\n",
    "print(TempRange)"
   ]
  },
  {
   "cell_type": "code",
   "execution_count": 40,
   "metadata": {},
   "outputs": [
    {
     "name": "stdout",
     "output_type": "stream",
     "text": [
      "[2.    2.025 2.05  2.075 2.1   2.125 2.15  2.175 2.2   2.225 2.25  2.265\n",
      " 2.28  2.295 3.1   3.25 ]\n",
      "Temperature 2.0  finished\n",
      "Temperature 2.0999999999999996  finished\n",
      "Temperature 2.1999999999999993  finished\n",
      "Temperature 2.2800000000000002  finished\n",
      "Temperature 2.025  finished\n",
      "Temperature 2.1249999999999996  finished\n",
      "Temperature 2.05  finished\n",
      "Temperature 2.224999999999999  finished\n",
      "Temperature 2.2950000000000004  finished\n",
      "Temperature 2.1499999999999995  finished\n",
      "Temperature 2.0749999999999997  finished\n",
      "Temperature 2.25  finished\n",
      "Temperature 2.1749999999999994  finished\n",
      "Temperature 2.265  finished\n",
      "Temperature 3.1  finished\n",
      "Temperature 3.25  finished\n",
      "The measurement took, in seconds: 5991.258769273758\n"
     ]
    }
   ],
   "source": [
    "#Assigning Temperature\n",
    "#TempRange = np.arange(2.0,2.35,0.025)\n",
    "print(TempRange)\n",
    "#Creating Lattice\n",
    "L = 80\n",
    "MCCycles = int(1e4)\n",
    "SkipCycles = int(0.5e4)\n",
    "StateP = StateInitalize(L)\n",
    "#TempRange = np.arange(0.2,3.5,0.1)\n",
    "#print(TempRange)\n",
    "Time = time.time()\n",
    "start = time.time()\n",
    "AcceptedMovesP, EnergyPerPartP, AverageMagnP, AverageMagnAbsP, SpecificHeatP, SusceptibilityP, EnergyAll, AbsMagnAll = MonteCarloIsingParallel2(StateP,MCCycles,L,TempRange,Time,SkipCycles)\n",
    "end = time.time()\n",
    "print(\"The measurement took, in seconds:\", end-start)\n",
    "#Write to file\n",
    "filename = \"RunL80_Long1.txt\"\n",
    "WriteToFile(filename,MCCycles,SkipCycles,L,EnergyPerPartP,SpecificHeatP,AverageMagnAbsP,SusceptibilityP,AcceptedMovesP,TempRange,end-start,EnergyAll,AbsMagnAll)"
   ]
  },
  {
   "cell_type": "markdown",
   "metadata": {},
   "source": [
    "## L = 100"
   ]
  },
  {
   "cell_type": "code",
   "execution_count": 46,
   "metadata": {},
   "outputs": [
    {
     "name": "stdout",
     "output_type": "stream",
     "text": [
      "[2.    2.025 2.05  2.075 2.1   2.125 2.15  2.175 2.2   2.225 2.227 2.228\n",
      " 2.229 2.31  2.325]\n",
      "[2.    2.025 2.05  2.075 2.1   2.125 2.15  2.175 2.2   2.225 2.227 2.228\n",
      " 2.229 2.31  2.325]\n",
      "Temperature 2.0  finished\n",
      "Temperature 2.0749999999999997  finished\n",
      "Temperature 2.1499999999999995  finished\n",
      "Temperature 2.224999999999999  finished\n",
      "Temperature 2.025  finished\n",
      "Temperature 2.0999999999999996  finished\n",
      "Temperature 2.1749999999999994  finished\n",
      "Temperature 2.05  finished\n",
      "Temperature 2.227  finished\n",
      "Temperature 2.1249999999999996  finished\n",
      "Temperature 2.1999999999999993  finished\n",
      "Temperature 2.228  finished\n",
      "Temperature 2.229  finished\n",
      "Temperature 2.31  finished\n",
      "Temperature 2.325  finished\n",
      "The measurement took, in seconds: 18853.830647706985\n"
     ]
    }
   ],
   "source": [
    "a = np.arange(2.0,2.225,0.025)\n",
    "#print(a)\n",
    "b = np.array([2.227,2.228,2.229])\n",
    "#print(b)\n",
    "b = np.concatenate((a,b),axis=0)\n",
    "#print(b)\n",
    "c = np.array([2.31,2.325])\n",
    "c = np.concatenate((b,c),0)\n",
    "#print(c)\n",
    "TempRange = c\n",
    "print(TempRange)\n",
    "#Assigning Temperature\n",
    "#TempRange = np.arange(2.0,2.35,0.025)\n",
    "print(TempRange)\n",
    "#Creating Lattice\n",
    "L = 100\n",
    "MCCycles = int(1.5e4)\n",
    "SkipCycles = int(0.75e4)\n",
    "StateP = StateInitalize(L)\n",
    "#TempRange = np.arange(0.2,3.5,0.1)\n",
    "#print(TempRange)\n",
    "Time = time.time()\n",
    "start = time.time()\n",
    "AcceptedMovesP, EnergyPerPartP, AverageMagnP, AverageMagnAbsP, SpecificHeatP, SusceptibilityP, EnergyAll, AbsMagnAll = MonteCarloIsingParallel2(StateP,MCCycles,L,TempRange,Time,SkipCycles)\n",
    "end = time.time()\n",
    "print(\"The measurement took, in seconds:\", end-start)\n",
    "#Write to file\n",
    "filename = \"RunL100_Long1.txt\"\n",
    "WriteToFile(filename,MCCycles,SkipCycles,L,EnergyPerPartP,SpecificHeatP,AverageMagnAbsP,SusceptibilityP,AcceptedMovesP,TempRange,end-start,EnergyAll,AbsMagnAll)"
   ]
  },
  {
   "cell_type": "markdown",
   "metadata": {},
   "source": [
    "## Functions not used:"
   ]
  },
  {
   "cell_type": "code",
   "execution_count": null,
   "metadata": {},
   "outputs": [],
   "source": [
    "@jit(nopython=True,parallel=True)\n",
    "def MonteCarloIsingParallel(InitialState1,NumOfCycles,LatticeSize,Temperature,Time):\n",
    "    EnergyVector = np.zeros(NumOfCycles-80001)\n",
    "    MagnetizationVector = np.zeros(NumOfCycles-80001)\n",
    "    MagnetizationVectorAbs = np.zeros(NumOfCycles-80001)\n",
    "    M = LatticeSize\n",
    "    NSpins = M*M#Number of spins\n",
    "    InitialState = InitialState1#Setting a lattice for overwriting\n",
    "    #Calculating the initial energy\n",
    "    Energy = LatticeEnergyIsing(EnergyMatrix,M)\n",
    "    #print(Energy)\n",
    "    MC = NumOfCycles\n",
    "    SkipCycles = 80001#Number of cycles to skip for the system to reach its most likely state\n",
    "    CounterAcceptance = np.zeros(len(Temperature))#Counter to see how many moves are accepted\n",
    "    EnergyValue = np.zeros(len(Temperature))\n",
    "    EnergyValueSquared = np.zeros(len(Temperature))\n",
    "    MagnValue = np.zeros(len(Temperature))\n",
    "    MagnValueSquared = np.zeros(len(Temperature))\n",
    "    MagnValueAbs = np.zeros(len(Temperature))\n",
    "    norm = 1/MC\n",
    "    #Parallelization\n",
    "    counter = np.zeros(len(Temperature))\n",
    "    T = Temperature\n",
    "    \n",
    "    InitialStates = np.array([[np.zeros((L,L))]])#Assigning array of the same state for each vector to work on\n",
    "    InitialStates[:] = InitialState\n",
    "    for j in prange(len(Temperature)):\n",
    "        np.random.seed(Time*(j+1))#Seeding differently for each thread if they start at the same time\n",
    "        tempTemp = T[j]\n",
    "        for i in range(MC):#Looping over the number of MC cycles\n",
    "            #picking a random coordinate in the lattice\n",
    "            randNum = np.random.randint(M*M)\n",
    "            line = int(np.floor(randNum/M))#finding the relavant line in the lattice\n",
    "            column = int(randNum - M*line)#finding the relavant column in the lattice\n",
    "            #print(randNum,line,column)\n",
    "            #flipping the spin at that position\n",
    "            TempState = InitialStates[j][0].copy()\n",
    "            #print(InitialState[line,column])\n",
    "            #print(InitialState)\n",
    "            if InitialState[line,column] == 1:\n",
    "                TempState[line,column] = int(-1)\n",
    "                tempValue = int(-1)#setting temp value to the assign to the system if move is accepted\n",
    "            else:\n",
    "                TempState[line,column] = int(1)\n",
    "                tempValue = int(1)#setting temp value to the assign to the system if move is accepted\n",
    "            #finding the difference in energy - using periodic boundary conditions\n",
    "            DeltaE = NeigbourInteraction(line,column,TempState,M)\n",
    "            if DeltaE not in [-8,-4,0,4,8]:\n",
    "                print(\"vúpps\")\n",
    "            Acceptance = Metropolis(DeltaE,tempTemp)\n",
    "            #Metropolis part\n",
    "            if Acceptance:\n",
    "                InitialStates[j][0][line,column] = tempValue\n",
    "                CounterAcceptance[j] += 1  \n",
    "            #Appending Energy and other relevant variables for calculations\n",
    "            Energy = LatticeEnergyIsing(InitialStates[j][0],M)#Þarf að taka alltaf gildin á orkunni!!!\n",
    "            if i > 80000:#Accounting for time that it takes to reach the most likely state\n",
    "                #EnergyVector[counter] = Energy\n",
    "                EnergyValue[j] += Energy\n",
    "                EnergyValueSquared[j] += Energy**2\n",
    "                #Magnetization\n",
    "                MagnetiZ = Magnetization(InitialStates[j][0])\n",
    "                #MagnetizationVector[counter] = MagnetiZ\n",
    "                MagnValue[j] += MagnetiZ\n",
    "                MagnValueSquared[j] += MagnetiZ**2\n",
    "                MagnValueAbs[j] += np.absolute(MagnetiZ)\n",
    "                counter[j] += 1\n",
    "            #End of MC loop\n",
    "\n",
    "    #print(InitialState)\n",
    "    MC = MC - SkipCycles\n",
    "    #print(Energy)\n",
    "    #FinalEnergy = LatticeEnergyIsing(InitialState,M)\n",
    "    #Calculating average energy per particle\n",
    "    #TotalEnergy = sum(EnergyVector)\n",
    "    AverageEnergy = EnergyValue/MC\n",
    "    AverageEnergySquared = EnergyValueSquared/MC\n",
    "    #Energy per spin\n",
    "    EnergyPerParticle = AverageEnergy/NSpins\n",
    "    #Magnetization\n",
    "    AverageMagnetization = MagnValue/MC\n",
    "    AverageMagnetizationPerPar = AverageMagnetization/NSpins\n",
    "    AverageMagnetizationSquared = MagnValueSquared/MC\n",
    "    AverageMagnetizationAbs = MagnValueAbs/MC\n",
    "    AverageMagnetizationAbsPerSpin = AverageMagnetizationAbs/NSpins\n",
    "    #Calculating the rest\n",
    "    EnergyVariancePerSpin = np.zeros(len(T))\n",
    "    #SpecificHeat = np.zeros(len(T))\n",
    "    MagnetizationVariancePerSpin = np.zeros(len(T))\n",
    "    Susceptibility = np.zeros(len(T))\n",
    "    #for i in range(len(T)):#Eitthvað flipp í gangi hér!!\n",
    "    #Variance in Energy\n",
    "    EnergyVariancePerSpin = (AverageEnergySquared - AverageEnergy**2)/NSpins\n",
    "    #Variance in Magnetization\n",
    "    MagnetizationVariancePerSpin = (AverageMagnetizationSquared - AverageMagnetization**2)/(NSpins)\n",
    "    #Specific Heat - SPURNING hvað ég að nota fyrir Boltzmanns fasta\n",
    "    k = 1\n",
    "    SpecificHeat = (1/(k*(T**2)))*EnergyVariancePerSpin\n",
    "    #Susceptibility\n",
    "    Susceptibility = (1/(k*T))*MagnetizationVariancePerSpin\n",
    "\n",
    "    return CounterAcceptance, EnergyVector, EnergyPerParticle, AverageMagnetizationPerPar, AverageMagnetizationAbsPerSpin, SpecificHeat, Susceptibility"
   ]
  }
 ],
 "metadata": {
  "kernelspec": {
   "display_name": "Python 3",
   "language": "python",
   "name": "python3"
  },
  "language_info": {
   "codemirror_mode": {
    "name": "ipython",
    "version": 3
   },
   "file_extension": ".py",
   "mimetype": "text/x-python",
   "name": "python",
   "nbconvert_exporter": "python",
   "pygments_lexer": "ipython3",
   "version": "3.6.5"
  }
 },
 "nbformat": 4,
 "nbformat_minor": 2
}
