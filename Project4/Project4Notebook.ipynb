{
 "cells": [
  {
   "cell_type": "markdown",
   "metadata": {},
   "source": [
    "**Importing packages that we need**"
   ]
  },
  {
   "cell_type": "code",
   "execution_count": 2,
   "metadata": {},
   "outputs": [],
   "source": [
    "import numpy as np\n",
    "import matplotlib.pyplot as plt\n",
    "from numba import jit, njit, vectorize"
   ]
  },
  {
   "cell_type": "markdown",
   "metadata": {},
   "source": [
    "**Setting up the Monte Carlo method for a NxN lattice:**"
   ]
  },
  {
   "cell_type": "code",
   "execution_count": 11,
   "metadata": {},
   "outputs": [],
   "source": [
    "#function that defines that inital state for the lattice calling a random number generator\n",
    "@jit\n",
    "def StateInitalize(N):\n",
    "    #NXN number of spins\n",
    "    Lattice = np.zeros((N,N))\n",
    "    for i in range(N):\n",
    "        for l in range(N):\n",
    "            randNum = np.random.random()\n",
    "            if randNum < 0.5:\n",
    "                Lattice[i,l] = int(-1)\n",
    "            else:\n",
    "                Lattice[i,l] = int(1)\n",
    "                \n",
    "    return Lattice"
   ]
  },
  {
   "cell_type": "code",
   "execution_count": 16,
   "metadata": {},
   "outputs": [
    {
     "name": "stdout",
     "output_type": "stream",
     "text": [
      "[[-1. -1. -1.  1.]\n",
      " [-1.  1. -1. -1.]\n",
      " [-1. -1.  1.  1.]\n",
      " [-1.  1. -1.  1.]]\n"
     ]
    }
   ],
   "source": [
    "A = StateInitalize(4)\n",
    "print(A)"
   ]
  },
  {
   "cell_type": "code",
   "execution_count": null,
   "metadata": {},
   "outputs": [],
   "source": [
    "def MonteCarloIsing(InitialState,NumOfCycles):\n",
    "    MC = NumOfCycles\n",
    "    for i in range(MC):\n",
    "        "
   ]
  }
 ],
 "metadata": {
  "kernelspec": {
   "display_name": "Python 3",
   "language": "python",
   "name": "python3"
  },
  "language_info": {
   "codemirror_mode": {
    "name": "ipython",
    "version": 3
   },
   "file_extension": ".py",
   "mimetype": "text/x-python",
   "name": "python",
   "nbconvert_exporter": "python",
   "pygments_lexer": "ipython3",
   "version": "3.6.5"
  }
 },
 "nbformat": 4,
 "nbformat_minor": 2
}
