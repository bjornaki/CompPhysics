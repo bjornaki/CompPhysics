{
 "cells": [
  {
   "cell_type": "markdown",
   "metadata": {},
   "source": [
    "**Importing packages that we need**"
   ]
  },
  {
   "cell_type": "code",
   "execution_count": 1,
   "metadata": {},
   "outputs": [],
   "source": [
    "import numpy as np\n",
    "import matplotlib.pyplot as plt\n",
    "from numba import jit, njit, vectorize\n",
    "import time"
   ]
  },
  {
   "cell_type": "markdown",
   "metadata": {},
   "source": [
    "**Setting up the Monte Carlo method for a NxN lattice:**"
   ]
  },
  {
   "cell_type": "code",
   "execution_count": 2,
   "metadata": {},
   "outputs": [],
   "source": [
    "#function that defines that inital state for the lattice calling a random number generator\n",
    "@jit()\n",
    "def StateInitalize(N):\n",
    "    #NXN number of spins\n",
    "    Lattice = np.zeros((N,N))\n",
    "    for i in range(N):\n",
    "        for l in range(N):\n",
    "            randNum = np.random.random()\n",
    "            if randNum < 0.5:\n",
    "                Lattice[i,l] = int(-1)\n",
    "            else:\n",
    "                Lattice[i,l] = int(1)\n",
    "                \n",
    "    return Lattice"
   ]
  },
  {
   "cell_type": "markdown",
   "metadata": {},
   "source": [
    "**NeigbourInteraction is a function that calculates the change in energy upon flipping one spin:**"
   ]
  },
  {
   "cell_type": "code",
   "execution_count": 3,
   "metadata": {},
   "outputs": [],
   "source": [
    "@jit()\n",
    "def NeigbourInteraction(line,column,InitialState,LatticeSize):\n",
    "    M = LatticeSize\n",
    "    DeltaE = 0\n",
    "    if line == int(0):#if at the top edge of lattice\n",
    "        #State to the left\n",
    "        if column == int(0):\n",
    "            Temp1 = InitialState[line,column]*InitialState[line,column+1]#to the left\n",
    "        else:\n",
    "            Temp1 = InitialState[line,column]*InitialState[line,column-1]#to the left\n",
    "        #State to the right\n",
    "        if column == int((M-1)):\n",
    "            Temp2 = InitialState[line,column]*InitialState[line,column-1]#to the right\n",
    "        else:\n",
    "            Temp2 = InitialState[line,column]*InitialState[line,column+1]#to the right\n",
    "        #State above\n",
    "        Temp3 = InitialState[line,column]*InitialState[line+1,column]#above\n",
    "        #State below\n",
    "        Temp4 = InitialState[line,column]*InitialState[line+1,column]#below\n",
    "    if line == int((M-1)):#if at the bottom edge lattice\n",
    "        #State to the left\n",
    "        if column == int(0):\n",
    "            Temp1 = InitialState[line,column]*InitialState[line,column+1]#to the left\n",
    "        else:\n",
    "            Temp1 = InitialState[line,column]*InitialState[line,column-1]#to the left\n",
    "        #State to the right\n",
    "        if column == int((M-1)):\n",
    "            Temp2 = InitialState[line,column]*InitialState[line,column-1]#to the right\n",
    "        else:\n",
    "            Temp2 = InitialState[line,column]*InitialState[line,column+1]#to the right\n",
    "        #State above\n",
    "        Temp3 = InitialState[line,column]*InitialState[line-1,column]#above\n",
    "        #State below\n",
    "        Temp4 = InitialState[line,column]*InitialState[line-1,column]#below\n",
    "    #Then check if at left or right edges or inside\n",
    "    else:\n",
    "        #State to the left\n",
    "        if column == int(0):\n",
    "            Temp1 = InitialState[line,column]*InitialState[line,column+1]#to the left\n",
    "        else:\n",
    "            Temp1 = InitialState[line,column]*InitialState[line,column-1]#to the left\n",
    "        #State to the right\n",
    "        if column == int((M-1)):\n",
    "            Temp2 = InitialState[line,column]*InitialState[line,column-1]#to the right\n",
    "        else:\n",
    "            Temp2 = InitialState[line,column]*InitialState[line,column+1]#to the right\n",
    "        #State above\n",
    "        Temp3 = InitialState[line,column]*InitialState[line+1,column]#above\n",
    "        #State below\n",
    "        Temp4 = InitialState[line,column]*InitialState[line-1,column]#below\n",
    "\n",
    "    DeltaE = -(Temp1 + Temp2 + Temp3 + Temp4)\n",
    "    DeltaE = DeltaE*2\n",
    "    #print(\"DeltaE is:\",DeltaE)\n",
    "    return DeltaE"
   ]
  },
  {
   "cell_type": "markdown",
   "metadata": {},
   "source": [
    "**Function that calculates the Magnetization:**"
   ]
  },
  {
   "cell_type": "code",
   "execution_count": 4,
   "metadata": {},
   "outputs": [],
   "source": [
    "@jit()\n",
    "def Magnetization(Lattice):\n",
    "    N,M = np.shape(Lattice)\n",
    "    Magnetization = 0\n",
    "    for i in range(M):#looping over lines\n",
    "        for j in range(M):#looping over colums\n",
    "            Magnetization += Lattice[i,j]#Adding the spin value at location i,j\n",
    "            \n",
    "    return Magnetization"
   ]
  },
  {
   "cell_type": "code",
   "execution_count": 5,
   "metadata": {},
   "outputs": [
    {
     "name": "stdout",
     "output_type": "stream",
     "text": [
      "2\n"
     ]
    }
   ],
   "source": [
    "#Trial of Magnetization function\n",
    "LatticeA = np.array([[1,-1],[1,1]])\n",
    "Magn = Magnetization(LatticeA)\n",
    "print(Magn)"
   ]
  },
  {
   "cell_type": "markdown",
   "metadata": {},
   "source": [
    "**Calculating the energy of the lattice according to the Ising model with periodic boundary conditions:**"
   ]
  },
  {
   "cell_type": "code",
   "execution_count": 6,
   "metadata": {},
   "outputs": [],
   "source": [
    "@jit()\n",
    "def LatticeEnergyIsing(InitialState,LatticeSize):\n",
    "    #M = LatticeSize\n",
    "    N,M = np.shape(InitialState)\n",
    "    Energy = 0\n",
    "    #print(\"Inital Energy:\",Energy)\n",
    "    for i in range(M):#loop over lines\n",
    "        for j in range(M):#loop over columns\n",
    "            Acceptance = (np.mod(i,2)+np.mod(j,2) == 0) or (np.mod(i,2)+np.mod(j,2) == 2)\n",
    "            #print(Acceptance)\n",
    "            if Acceptance:\n",
    "                if (i == 0 and j == 0):#if at the top and left edge of lattice\n",
    "                    Temp1 = InitialState[i,j]*InitialState[i,j+1]#to the right\n",
    "                    Temp2 = InitialState[i,j]*InitialState[i,j+1]#to the left\n",
    "                    Temp3 = InitialState[i,j]*InitialState[i+1,j]#above\n",
    "                    Temp4 = InitialState[i,j]*InitialState[i+1,j]#below\n",
    "                    Energy += - (Temp1 + Temp2 + Temp3 + Temp4)\n",
    "                elif (i == 0 and j == (M-1)):#if at the top and right edge of lattice\n",
    "                    Temp1 = InitialState[i,j]*InitialState[i,j-1]#to the right\n",
    "                    Temp2 = InitialState[i,j]*InitialState[i,j-1]#to the left\n",
    "                    Temp3 = InitialState[i,j]*InitialState[i+1,j]#above\n",
    "                    Temp4 = InitialState[i,j]*InitialState[i+1,j]#below\n",
    "                    Energy += - (Temp1 + Temp2 + Temp3 + Temp4)\n",
    "                elif (i == (M-1) and j == 0):#if at the bottom and left edge of lattice\n",
    "                    Temp1 = InitialState[i,j]*InitialState[i,j+1]#to the right\n",
    "                    Temp2 = InitialState[i,j]*InitialState[i,j+1]#to the left\n",
    "                    Temp3 = InitialState[i,j]*InitialState[i-1,j]#above\n",
    "                    Temp4 = InitialState[i,j]*InitialState[i-1,j]#below\n",
    "                    Energy += - (Temp1 + Temp2 + Temp3 + Temp4)\n",
    "                elif (i == (M-1) and j == (M-1)):#if at the bottom and right edge of lattice\n",
    "                    Temp1 = InitialState[i,j]*InitialState[i,j-1]#to the right\n",
    "                    Temp2 = InitialState[i,j]*InitialState[i,j-1]#to the left\n",
    "                    Temp3 = InitialState[i,j]*InitialState[i-1,j]#above\n",
    "                    Temp4 = InitialState[i,j]*InitialState[i-1,j]#below\n",
    "                    Energy += - (Temp1 + Temp2 + Temp3 + Temp4)\n",
    "                elif i == 0:#if only at top edge\n",
    "                    Temp1 = InitialState[i,j]*InitialState[i,j+1]#to the right\n",
    "                    Temp2 = InitialState[i,j]*InitialState[i,j-1]#to the left\n",
    "                    Temp3 = InitialState[i,j]*InitialState[i+1,j]#above\n",
    "                    Temp4 = InitialState[i,j]*InitialState[i+1,j]#below\n",
    "                    Energy += - (Temp1 + Temp2 + Temp3 + Temp4)\n",
    "                elif i == (M-1):#if only at bottom edge\n",
    "                    Temp1 = InitialState[i,j]*InitialState[i,j+1]#to the right\n",
    "                    Temp2 = InitialState[i,j]*InitialState[i,j-1]#to the left\n",
    "                    Temp3 = InitialState[i,j]*InitialState[i-1,j]#above\n",
    "                    Temp4 = InitialState[i,j]*InitialState[i-1,j]#below\n",
    "                    Energy += - (Temp1 + Temp2 + Temp3 + Temp4)\n",
    "                elif j == 0:#if only at left edge\n",
    "                    Temp1 = InitialState[i,j]*InitialState[i,j+1]#to the right\n",
    "                    Temp2 = InitialState[i,j]*InitialState[i,j+1]#to the left\n",
    "                    Temp3 = InitialState[i,j]*InitialState[i-1,j]#above\n",
    "                    Temp4 = InitialState[i,j]*InitialState[i+1,j]#below\n",
    "                    Energy += - (Temp1 + Temp2 + Temp3 + Temp4)\n",
    "                elif j == (M-1):#if only at right edge\n",
    "                    Temp1 = InitialState[i,j]*InitialState[i,j-1]#to the right\n",
    "                    Temp2 = InitialState[i,j]*InitialState[i,j-1]#to the left\n",
    "                    Temp3 = InitialState[i,j]*InitialState[i-1,j]#above\n",
    "                    Temp4 = InitialState[i,j]*InitialState[i+1,j]#below\n",
    "                    Energy += - (Temp1 + Temp2 + Temp3 + Temp4)\n",
    "                else:#if somewhere in the middle\n",
    "                    Temp1 = InitialState[i,j]*InitialState[i,j-1]#to the right\n",
    "                    Temp2 = InitialState[i,j]*InitialState[i,j+1]#to the left\n",
    "                    Temp3 = InitialState[i,j]*InitialState[i-1,j]#above\n",
    "                    Temp4 = InitialState[i,j]*InitialState[i+1,j]#below\n",
    "                    Energy += - (Temp1 + Temp2 + Temp3 + Temp4)\n",
    "                \n",
    "    return Energy"
   ]
  },
  {
   "cell_type": "code",
   "execution_count": 7,
   "metadata": {},
   "outputs": [
    {
     "name": "stdout",
     "output_type": "stream",
     "text": [
      "[[1 1]\n",
      " [1 1]]\n",
      "The energy according to Ising Model: -8\n"
     ]
    }
   ],
   "source": [
    "#Trial of energy\n",
    "B = np.array([[1,1],[1,1]])\n",
    "print(B)\n",
    "EnergyTrial = LatticeEnergyIsing(B,2)\n",
    "print(\"The energy according to Ising Model:\", EnergyTrial)"
   ]
  },
  {
   "cell_type": "markdown",
   "metadata": {},
   "source": [
    "**Metropolis part:**"
   ]
  },
  {
   "cell_type": "code",
   "execution_count": 8,
   "metadata": {},
   "outputs": [],
   "source": [
    "@jit()\n",
    "def Metropolis(DeltaEnergy,Temperature):\n",
    "    Accept = False\n",
    "    Exp1 = np.exp(-(1/Temperature)*(-8))\n",
    "    Exp2 = np.exp(-(1/Temperature)*(-4))\n",
    "    Exp3 = 1\n",
    "    Exp4 = np.exp(-(1/Temperature)*(4))\n",
    "    Exp5 = np.exp(-(1/Temperature)*(8))\n",
    "    if DeltaEnergy < 0:\n",
    "        Accept = True\n",
    "    else:\n",
    "        randNum = np.random.random()\n",
    "        if DeltaEnergy == -8:\n",
    "            w = Exp1\n",
    "        elif DeltaEnergy == -4:\n",
    "            w = Exp2\n",
    "        elif DeltaEnergy == 0:\n",
    "            w = Exp3\n",
    "        elif DeltaEnergy == 4:\n",
    "            w = Exp4\n",
    "        else:\n",
    "            w = Exp5\n",
    "        #Checking w agains the exponent and accepting if r <= w\n",
    "        if randNum <= w:\n",
    "            Accept = True\n",
    "        else:\n",
    "            Accept = False\n",
    "            \n",
    "    return Accept"
   ]
  },
  {
   "cell_type": "markdown",
   "metadata": {},
   "source": [
    "**The Monte Carlo calculation itself:**"
   ]
  },
  {
   "cell_type": "code",
   "execution_count": 27,
   "metadata": {},
   "outputs": [],
   "source": [
    "@jit()\n",
    "def MonteCarloIsing(InitialState1,NumOfCycles,LatticeSize,Temperature):\n",
    "    EnergyVector = np.zeros(NumOfCycles-80001)\n",
    "    MagnetizationVector = np.zeros(NumOfCycles-80001)\n",
    "    T = Temperature\n",
    "    M = LatticeSize\n",
    "    NSpins = M*M#Number of spins\n",
    "    EnergyMatrix = InitialState1\n",
    "    InitialState = InitialState1#Setting a lattice for overwriting\n",
    "    #Calculating the initial energy\n",
    "    Energy = LatticeEnergyIsing(EnergyMatrix,M)\n",
    "    #print(Energy)\n",
    "    MC = NumOfCycles\n",
    "    CounterAcceptance = 0#Counter to see how many moves are accepted\n",
    "    EnergyValue = 0\n",
    "    EnergyValueSquared = 0\n",
    "    MagnValue = 0\n",
    "    MagnValueSquared = 0\n",
    "    MagnValueAbs = 0\n",
    "    norm = 1/MC\n",
    "    counter = 0\n",
    "    for i in range(MC):#Looping over the number of MC cycles\n",
    "        #picking a random coordinate in the lattice\n",
    "        randNum = np.random.randint(M*M)\n",
    "        line = int(np.floor(randNum/M))#finding the relavant line in the lattice\n",
    "        column = int(randNum - M*line)#finding the relavant column in the lattice\n",
    "        #print(randNum,line,column)\n",
    "        #flipping the spin at that position\n",
    "        TempState = InitialState.copy()\n",
    "        #print(InitialState[line,column])\n",
    "        #print(InitialState)\n",
    "        if InitialState[line,column] == 1:\n",
    "            TempState[line,column] = int(-1)\n",
    "            tempValue = int(-1)#setting temp value to the assign to the system if move is accepted\n",
    "        else:\n",
    "            TempState[line,column] = int(1)\n",
    "            tempValue = int(1)#setting temp value to the assign to the system if move is accepted\n",
    "        #finding the difference in energy - using periodic boundary conditions\n",
    "        DeltaE = NeigbourInteraction(line,column,TempState,M)\n",
    "        Acceptance = Metropolis(DeltaE,T)\n",
    "        #Metropolis part\n",
    "        if Acceptance:\n",
    "            InitialState[line,column] = tempValue\n",
    "            CounterAcceptance += 1  \n",
    "        #Appending Energy and other relevant variables for calculations\n",
    "        Energy = LatticeEnergyIsing(InitialState,M)#Þarf að taka alltaf gildin á orkunni!!!\n",
    "        if i > 80000:#Accounting for time that it takes to reach the most likely state\n",
    "            EnergyVector[counter] = Energy\n",
    "            EnergyValue += Energy\n",
    "            EnergyValueSquared += Energy**2\n",
    "            #Magnetization\n",
    "            MagnetiZ = Magnetization(InitialState)\n",
    "            MagnetizationVector[counter] = MagnetiZ\n",
    "            MagnValue += MagnetiZ\n",
    "            MagnValueSquared += MagnetiZ**2\n",
    "            MagnValueAbs += abs(MagnetiZ)\n",
    "            counter += 1\n",
    "        #End of MC loop\n",
    "\n",
    "    #print(InitialState)\n",
    "    #print(Energy)\n",
    "    FinalEnergy = LatticeEnergyIsing(InitialState,M)\n",
    "    #Calculating average energy per particle\n",
    "    TotalEnergy = sum(EnergyVector)\n",
    "    AverageEnergy = EnergyValue/MC\n",
    "    AverageEnergySquared = EnergyValueSquared/MC\n",
    "    #Energy per spin\n",
    "    EnergyPerParticle = AverageEnergy/NSpins\n",
    "    #Variance in Energy\n",
    "    EnergyVariancePerSpin = (AverageEnergySquared - AverageEnergy**2)/NSpins\n",
    "    #Specific Heat - SPURNING hvað ég að nota fyrir Boltzmanns fasta\n",
    "    k = 1\n",
    "    SpecificHeat = (1/(k*(T**2)))*EnergyVariancePerSpin\n",
    "    #Magnetization\n",
    "    AverageMagnetization = MagnValue/MC\n",
    "    AverageMagnetizationPerPar = AverageMagnetization/NSpins\n",
    "    AverageMagnetizationSquared = MagnValueSquared/MC\n",
    "    AverageMagnetizationAbs = MagnValueAbs/MC\n",
    "    AverageMagnetizationAbsPerSpin = AverageMagnetizationAbs/NSpins\n",
    "    #Variance in Magnetization\n",
    "    MagnetizationVariancePerSpin = (AverageMagnetizationSquared - AverageMagnetization**2)/(NSpins)\n",
    "    #Susceptibility\n",
    "    Susceptibility = (1/(k*T))*MagnetizationVariancePerSpin\n",
    "\n",
    "    return CounterAcceptance, EnergyVector, EnergyPerParticle, AverageMagnetizationPerPar, AverageMagnetizationAbsPerSpin, SpecificHeat, Susceptibility"
   ]
  },
  {
   "cell_type": "markdown",
   "metadata": {},
   "source": [
    "**Trying the algo:**\n",
    "Gera 2x2 case þannig að ég tel frá byrjun!!!"
   ]
  },
  {
   "cell_type": "code",
   "execution_count": 29,
   "metadata": {},
   "outputs": [
    {
     "name": "stdout",
     "output_type": "stream",
     "text": [
      "The measurement took, in seconds: 0.31778454780578613\n",
      "Number of Accepted moves: 1977\n",
      "Energy per particle: -1.83633\n",
      "The Average magnetization per spin is: 0.010888\n",
      "The Average absolute magnetization per spin is 0.91878\n",
      "The Specific Heat is: 1.2022085243999996\n",
      "The Susceptibility is: 3.6734158058240003\n"
     ]
    }
   ],
   "source": [
    "A = StateInitalize(2)\n",
    "start = time.time()\n",
    "AcceptedMoves, EnergyAll, EnergyPerPart, AverageMagn, AverageMagnAbs, SpecificHeat, Susceptibility = MonteCarloIsing(A,1000000,2,1)\n",
    "end = time.time()\n",
    "print(\"The measurement took, in seconds:\", end-start)\n",
    "print(\"Number of Accepted moves:\",AcceptedMoves)\n",
    "print(\"Energy per particle:\",EnergyPerPart)\n",
    "print(\"The Average magnetization per spin is:\",AverageMagn)\n",
    "print(\"The Average absolute magnetization per spin is\",AverageMagnAbs)\n",
    "print(\"The Specific Heat is:\",SpecificHeat)\n",
    "print(\"The Susceptibility is:\",Susceptibility)#Susceptibility measurement looks strange!!"
   ]
  },
  {
   "cell_type": "markdown",
   "metadata": {},
   "source": [
    "**Plotting the energy as a function of MC steps:**"
   ]
  },
  {
   "cell_type": "code",
   "execution_count": 30,
   "metadata": {},
   "outputs": [
    {
     "data": {
      "image/png": "[encoded data removed]",
      "text/plain": [
       "<Figure size 432x288 with 1 Axes>"
      ]
     },
     "metadata": {
      "needs_background": "light"
     },
     "output_type": "display_data"
    }
   ],
   "source": [
    "fig, ax = plt.subplots()\n",
    "Steps = np.arange(0,1000000-80001)\n",
    "ax.plot(Steps,EnergyAll,'*')\n",
    "ax.set_xlabel(\"MC steps\")\n",
    "ax.set_ylabel(\"Energy [J]\")\n",
    "ax.grid(alpha=0.3)\n",
    "plt.show()"
   ]
  },
  {
   "cell_type": "markdown",
   "metadata": {},
   "source": [
    "**Trial for bigger lattice:**"
   ]
  },
  {
   "cell_type": "code",
   "execution_count": 31,
   "metadata": {},
   "outputs": [
    {
     "name": "stdout",
     "output_type": "stream",
     "text": [
      "The measurement took, in seconds: 2.418663740158081\n",
      "Number of Accepted moves: 93449\n",
      "Energy per particle: -1.5850482049999999\n",
      "The Average magnetization is: -0.781104055\n",
      "The Averaga absolute magnetization is: 0.783482635\n",
      "The Specific Heat is: 22.656189855127813\n",
      "The Susceptibility is: 16.530742077511405\n"
     ]
    }
   ],
   "source": [
    "A2 = StateInitalize(20)\n",
    "start = time.time()\n",
    "AcceptedMoves2, EnergyAll2, EnergyPerPart2, AverageMagn2, AverageMagnAbs2,SpecificHeat2, Susceptibility2 = MonteCarloIsing(A2,1000000,20,2)\n",
    "end = time.time()\n",
    "print(\"The measurement took, in seconds:\", end-start)\n",
    "print(\"Number of Accepted moves:\",AcceptedMoves2)\n",
    "print(\"Energy per particle:\",EnergyPerPart2)\n",
    "print(\"The Average magnetization is:\",AverageMagn2)\n",
    "print(\"The Averaga absolute magnetization is:\",AverageMagnAbs2)\n",
    "print(\"The Specific Heat is:\",SpecificHeat2)\n",
    "print(\"The Susceptibility is:\", Susceptibility2)"
   ]
  },
  {
   "cell_type": "code",
   "execution_count": 32,
   "metadata": {},
   "outputs": [
    {
     "data": {
      "image/png": "[encoded data removed]",
      "text/plain": [
       "<Figure size 432x288 with 1 Axes>"
      ]
     },
     "metadata": {
      "needs_background": "light"
     },
     "output_type": "display_data"
    }
   ],
   "source": [
    "fig2, ax2 = plt.subplots()\n",
    "Steps2 = np.arange(0,1000000-80001)\n",
    "ax2.plot(Steps2,EnergyAll2)\n",
    "ax2.set_xlabel(\"MC steps\")\n",
    "ax2.set_ylabel(\"Energy [J]\")\n",
    "ax2.grid(alpha=0.3)#Eitthvað abnormalitiy í lokin!!!\n",
    "plt.show()"
   ]
  },
  {
   "cell_type": "markdown",
   "metadata": {},
   "source": [
    "**We see that the system has reached its most likely state after at least 80000 iterations, but often quite lower. Thus we start to take measurements after 80000 iterations for analysis.**"
   ]
  },
  {
   "cell_type": "markdown",
   "metadata": {},
   "source": [
    "**Let's do measurements for several different Temperature:**"
   ]
  },
  {
   "cell_type": "code",
   "execution_count": 40,
   "metadata": {},
   "outputs": [
    {
     "name": "stdout",
     "output_type": "stream",
     "text": [
      "2.2357308864593506\n",
      "2.4540035724639893\n",
      "2.2854816913604736\n",
      "2.281118869781494\n",
      "2.3298134803771973\n",
      "2.481330394744873\n",
      "2.6364986896514893\n",
      "2.523759126663208\n",
      "2.397557497024536\n",
      "2.300330638885498\n",
      "2.336735963821411\n",
      "2.3269824981689453\n",
      "2.3041276931762695\n",
      "2.5073747634887695\n",
      "2.401089906692505\n",
      "2.4121439456939697\n"
     ]
    },
    {
     "data": {
      "image/png": "[encoded data removed]",
      "text/plain": [
       "<Figure size 432x288 with 1 Axes>"
      ]
     },
     "metadata": {
      "needs_background": "light"
     },
     "output_type": "display_data"
    }
   ],
   "source": [
    "T = [0.1,0.3,0.5,0.7,0.9,1,1.3,1.5,1.7,1.9,2,2.3,2.5,2.7,2.9,3]\n",
    "MC_Cycles = int(1e6)\n",
    "Steps3 = np.arange(0,MC_Cycles-80001)\n",
    "AcceptedMoves = np.zeros(len(T))\n",
    "EnergyPerParticle = np.zeros(len(T))\n",
    "MagnetizationPerParticle = np.zeros(len(T))\n",
    "Susceptibility = np.zeros(len(T))\n",
    "SpecificHeat = np.zeros(len(T))\n",
    "fig3, ax3 = plt.subplots()\n",
    "counter = 0\n",
    "for Temp in T:\n",
    "    A3 = StateInitalize(20)\n",
    "    start = time.time()\n",
    "    AcceptedMoves2, EnergyAll2, EnergyPerPart2, AverageMagn2, AverageMagnAbs2,SpecificHeat2, Susceptibility2 = MonteCarloIsing(A3,MC_Cycles,20,Temp)\n",
    "    end = time.time()\n",
    "    print(end-start)\n",
    "    EnergyPerParticle[counter] = EnergyPerPart2\n",
    "    SpecificHeat[counter] = SpecificHeat2\n",
    "    MagnetizationPerParticle[counter] = AverageMagnAbs2\n",
    "    Susceptibility[counter] = Susceptibility2\n",
    "    counter += 1\n",
    "    ax3.plot(Steps3,EnergyAll2)\n",
    "    \n",
    "plt.show()"
   ]
  },
  {
   "cell_type": "markdown",
   "metadata": {},
   "source": [
    "**Energy per particle as a function of temperature:**"
   ]
  },
  {
   "cell_type": "code",
   "execution_count": 41,
   "metadata": {},
   "outputs": [
    {
     "data": {
      "image/png": "[encoded data removed]",
      "text/plain": [
       "<Figure size 432x288 with 1 Axes>"
      ]
     },
     "metadata": {
      "needs_background": "light"
     },
     "output_type": "display_data"
    }
   ],
   "source": [
    "#Plotting energy as a function of particle\n",
    "fig4,ax4 = plt.subplots()\n",
    "ax4.plot(T,EnergyPerParticle,'+')\n",
    "ax4.set_ylabel(\"Energy per particle [J]\")\n",
    "ax4.set_xlabel(\"Temperature [T]\")\n",
    "plt.show()"
   ]
  },
  {
   "cell_type": "markdown",
   "metadata": {},
   "source": [
    "**Specific heat as a function of temperature:**"
   ]
  },
  {
   "cell_type": "code",
   "execution_count": 42,
   "metadata": {},
   "outputs": [
    {
     "data": {
      "image/png": "[encoded data removed]",
      "text/plain": [
       "<Figure size 432x288 with 1 Axes>"
      ]
     },
     "metadata": {
      "needs_background": "light"
     },
     "output_type": "display_data"
    }
   ],
   "source": [
    "#Plotting specific heat as a function of Temperature - Eitthvað mjög flippað í gangi hér !!\n",
    "fig5,ax5 = plt.subplots()\n",
    "ax5.plot(T,SpecificHeat,'+')\n",
    "ax5.set_ylabel(\"Specific Heat, Cv [eining]\")\n",
    "ax5.set_xlabel(\"Temperature [T]\")\n",
    "plt.show()"
   ]
  },
  {
   "cell_type": "markdown",
   "metadata": {},
   "source": [
    "**Average Magnetization as a function of particle:**"
   ]
  },
  {
   "cell_type": "code",
   "execution_count": 43,
   "metadata": {},
   "outputs": [
    {
     "data": {
      "image/png": "[encoded data removed]",
      "text/plain": [
       "<Figure size 432x288 with 1 Axes>"
      ]
     },
     "metadata": {
      "needs_background": "light"
     },
     "output_type": "display_data"
    }
   ],
   "source": [
    "#Plotting average Magnetization as a function of temperature\n",
    "fig6,ax6 = plt.subplots()\n",
    "ax6.plot(T,MagnetizationPerParticle,'+')\n",
    "ax6.set_ylabel(\"Average Magnetization, |M| [eining]\")\n",
    "ax6.set_xlabel(\"Temperature [T]\")\n",
    "plt.show()"
   ]
  }
 ],
 "metadata": {
  "kernelspec": {
   "display_name": "Python 3",
   "language": "python",
   "name": "python3"
  },
  "language_info": {
   "codemirror_mode": {
    "name": "ipython",
    "version": 3
   },
   "file_extension": ".py",
   "mimetype": "text/x-python",
   "name": "python",
   "nbconvert_exporter": "python",
   "pygments_lexer": "ipython3",
   "version": "3.6.5"
  }
 },
 "nbformat": 4,
 "nbformat_minor": 2
}
