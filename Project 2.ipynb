{
 "cells": [
  {
   "cell_type": "markdown",
   "metadata": {},
   "source": [
    "**First we install all packages that we need:**"
   ]
  },
  {
   "cell_type": "code",
   "execution_count": 1,
   "metadata": {},
   "outputs": [],
   "source": [
    "import numpy as np \n",
    "import matplotlib.pyplot as plt\n",
    "from numba import jit, vectorize, njit\n",
    "import time\n",
    "import pytest"
   ]
  },
  {
   "cell_type": "markdown",
   "metadata": {},
   "source": [
    "**Next we setup functions for creating the matrices:**"
   ]
  },
  {
   "cell_type": "code",
   "execution_count": 2,
   "metadata": {},
   "outputs": [],
   "source": [
    "#Setting up the matrix where the diagonal term is not constant\n",
    "def createMatrix(rhoMin,rhoMax,N):\n",
    "    h = (rhoMax - rhoMin)/(N+1)\n",
    "    D = np.zeros((N,N))\n",
    "    Mask = np.ones((N,N),dtype=bool)\n",
    "    rho = np.zeros(N)\n",
    "    #x = np.linspace(0+h,1-h,n)\n",
    "    for i in range(N):\n",
    "        for l in range(N):\n",
    "            if i == l:\n",
    "                rho_i = rho_0 + (i+1)*h\n",
    "                rho[i] = rho_i\n",
    "                D[i,l] = 2/(h**2) + rho_i**2\n",
    "                Mask[i,l] = False\n",
    "            if ((i-l) == 1) or ((i-l) == -1):\n",
    "                D[i,l] = -1/(h**2)\n",
    "    return D, Mask, rho\n",
    "\n",
    "#Setting up matrix for the diagonal term is constant\n",
    "def createMatrix2(N):\n",
    "    h = 1/(N+1)\n",
    "    D = np.zeros((N,N))\n",
    "    Mask = np.ones((N,N),dtype=bool)\n",
    "    #x = np.linspace(0+h,1-h,n)\n",
    "    for i in range(N):\n",
    "        for l in range(N):\n",
    "            if i == l:\n",
    "                D[i,l] = 2/(h**2)\n",
    "                Mask[i,l] = False\n",
    "            if ((i-l) == 1) or ((i-l) == -1):\n",
    "                D[i,l] = -1/(h**2)\n",
    "    return D, Mask"
   ]
  },
  {
   "cell_type": "markdown",
   "metadata": {},
   "source": [
    "**Coding Jacobi's method:**   \n",
    "Let's split it down to few functions and readability to utilize numba for speeding up the algorithm"
   ]
  },
  {
   "cell_type": "code",
   "execution_count": 3,
   "metadata": {},
   "outputs": [],
   "source": [
    "#Function largest_nonDiag finds the largest absolute value of the non-diagonal and returns the indices\n",
    "@jit\n",
    "def largest_nonDiag2(A, Mask):\n",
    "    nonDiagonalMax = np.amax(abs(A[Mask]))#gives the largest nondiagonal\n",
    "    maxValueIndex = np.where(abs(A) == nonDiagonalMax)#finding the indices that match with found maximum\n",
    "    #taking the lowest index in case has more than one maximum element\n",
    "    maxValueIndexRow = maxValueIndex[0][0]#row\n",
    "    k = maxValueIndexRow\n",
    "    maxValueIndexColumn = maxValueIndex[1][0]#column\n",
    "    l = maxValueIndexColumn\n",
    "    #Quick fix to not be choosing the diagonal element\n",
    "    counter = 1\n",
    "    while k == l:\n",
    "        maxValueIndexRow = maxValueIndex[0][counter]#row\n",
    "        k = maxValueIndexRow\n",
    "        maxValueIndexColumn = maxValueIndex[1][counter]#column\n",
    "        l = maxValueIndexColumn\n",
    "        counter += 1\n",
    "    #We need to check if the largest element is in the lower triangle and then change indices\n",
    "    if k > l:\n",
    "        temp = k\n",
    "        k = l\n",
    "        l = temp\n",
    "        \n",
    "    return k, l, nonDiagonalMax#returns the row,column and the value of the largest non-diagonal element\n",
    "\n",
    "#@jit\n",
    "#Rotation is the function which takes care of creating the transformation matrix and rotating around an axis for found\n",
    "#value of theta such that all non diagonal elements become zero\n",
    "def Rotation(A,epsilon,maxValue,k,l,Mask):\n",
    "    #takes in matrix A to be tranformed as well a certain epsilon to specify the threshold for zero\n",
    "    counter = 0#the counter counts how many iterations are needed for the matrix to become diagonlized\n",
    "    summa = 0\n",
    "    while maxValue > epsilon:\n",
    "        tau = (A[l,l]-A[k,k])/(2*A[k,l])\n",
    "        #Finding the smaller root\n",
    "        t1 = -1/(-tau-np.sqrt(1 + tau**2))\n",
    "        t2 = -1/(-tau+np.sqrt(1 + tau**2))\n",
    "        if abs(t1) > abs(t2):\n",
    "            tan_theta = t2\n",
    "        else:\n",
    "            tan_theta = t1\n",
    "        cos_theta = 1/np.sqrt((1 + tan_theta**2))\n",
    "        sin_theta = tan_theta*cos_theta\n",
    "        #Setting up matrix S\n",
    "        S = np.identity(int(A.shape[0]))\n",
    "        S[k,k] = cos_theta\n",
    "        S[l,l] = cos_theta\n",
    "        S[k,l] = sin_theta\n",
    "        S[l,k] = -sin_theta\n",
    "        S_transpose = S.transpose()\n",
    "        A = S_transpose@A@S\n",
    "        k,l,maxValue = largest_nonDiag2(A,Mask)\n",
    "        counter += 1\n",
    "    \n",
    "    return A, counter\n",
    "\n",
    "#The fuction Jacobi_method2 is the function which utilizes both Rotation and largest_nonDiag2 to give the finalized \n",
    "#diagonal matrix where the eigenvalues lie on the diagonal\n",
    "def Jacobi_method2(A,epsilon,Mask):\n",
    "    #epsilon is the tolerance\n",
    "    A_temp = A#To not be overwriting every time\n",
    "    k, l, maxValue = largest_nonDiag2(A_temp,Mask)\n",
    "    #setting up the algo itself\n",
    "    A_temp, counter = Rotation(A_temp,epsilon,maxValue,k,l,Mask)\n",
    "        \n",
    "    #Setting the eigenvalues to a vector\n",
    "    eigval = np.zeros(A_temp.shape[0])\n",
    "    for i in range(A_temp.shape[0]):\n",
    "        for m in range(A_temp.shape[0]):\n",
    "            if i == m:\n",
    "                eigval[m] = A_temp[i,m]\n",
    "    eigval = np.sort(eigval)\n",
    "    #returns the diagonlized matrix as well as the eigenvalues sorted in a vector and number of iterations\n",
    "    return A_temp, eigval, counter"
   ]
  },
  {
   "cell_type": "markdown",
   "metadata": {},
   "source": [
    "## Implementing unit testing:"
   ]
  },
  {
   "cell_type": "markdown",
   "metadata": {},
   "source": [
    "We now implement unit testing using a python package called pytest.  \n",
    "First we check that the orthogonality is preserved:\n",
    "That is we have the transformation matrix $\\mathbf{B}$ and take two orthonormal vectors $\\mathbf{e_1}$ and $\\mathbf{e_2}$. The transformation $\\mathbf{v_1} = \\mathbf{B}\\mathbf{e_1}$ and $\\mathbf{v_2} = \\mathbf{B}\\mathbf{e_2}$ should preserve the orthonormality such that $\\mathbf{v_1}\\cdot\\mathbf{v_2} = 0$  \n",
    "Let's do this test for a $4x4$ matrix that we defined earlier.\n",
    "\n",
    "For another unit test lets see that we obtain the same eigenvalues as the analytical solution suggests. These are given by\n",
    "\n",
    "$$\\lambda_j = d + 2acos\\bigg(\\frac{j\\pi}{N + 1}\\bigg), \\hspace{1cm} j = 1,2,...N$$  \n",
    "Lets use the same $4x4$ matrix.\n",
    "\n",
    "As the project is done in a ipython notebook all the functions have to be defined in the same cell as we declare the pytest cell. We therefore define all the functions we intend to test again below. They are excact copy of the functions we defined earlier."
   ]
  },
  {
   "cell_type": "code",
   "execution_count": 4,
   "metadata": {},
   "outputs": [],
   "source": [
    "%load_ext ipython_pytest"
   ]
  },
  {
   "cell_type": "code",
   "execution_count": 5,
   "metadata": {},
   "outputs": [
    {
     "name": "stdout",
     "output_type": "stream",
     "text": [
      "============================= test session starts =============================\n",
      "platform win32 -- Python 3.6.5, pytest-3.5.1, py-1.5.3, pluggy-0.6.0\n",
      "rootdir: C:\\Users\\lenovo\\AppData\\Local\\Temp\\tmpi5rmiew5, inifile:\n",
      "plugins: remotedata-0.2.1, openfiles-0.3.0, doctestplus-0.1.3, arraydiff-0.2\n",
      "collected 2 items\n",
      "\n",
      "_ipytesttmp.py ..                                                        [100%]\n",
      "\n",
      "========================== 2 passed in 0.76 seconds ===========================\n"
     ]
    }
   ],
   "source": [
    "%%pytest\n",
    "import pytest\n",
    "import numpy as np \n",
    "import matplotlib.pyplot as plt\n",
    "from numba import jit, vectorize, njit\n",
    "import time\n",
    "#defining the functions again\n",
    "def createMatrix2(N):\n",
    "    h = 1/(N+1)\n",
    "    D = np.zeros((N,N))\n",
    "    Mask = np.ones((N,N),dtype=bool)\n",
    "    #x = np.linspace(0+h,1-h,n)\n",
    "    for i in range(N):\n",
    "        for l in range(N):\n",
    "            if i == l:\n",
    "                D[i,l] = 2/(h**2)\n",
    "                Mask[i,l] = False\n",
    "            if ((i-l) == 1) or ((i-l) == -1):\n",
    "                D[i,l] = -1/(h**2)\n",
    "    print(Mask)\n",
    "    return D, Mask\n",
    "\n",
    "@jit\n",
    "def largest_nonDiag2(A, Mask):\n",
    "    nonDiagonalMax = np.amax(abs(A[Mask]))#gives the largest nondiagonal\n",
    "    maxValueIndex = np.where(abs(A) == nonDiagonalMax)#finding the indices that match with found maximum\n",
    "    #taking the lowest index in case has more than one maximum element\n",
    "    maxValueIndexRow = maxValueIndex[0][0]#row\n",
    "    k = maxValueIndexRow\n",
    "    maxValueIndexColumn = maxValueIndex[1][0]#column\n",
    "    l = maxValueIndexColumn\n",
    "    #Quick fix to not be choosing the diagonal element\n",
    "    counter = 1\n",
    "    while k == l:\n",
    "        maxValueIndexRow = maxValueIndex[0][counter]#row\n",
    "        k = maxValueIndexRow\n",
    "        maxValueIndexColumn = maxValueIndex[1][counter]#column\n",
    "        l = maxValueIndexColumn\n",
    "        counter += 1\n",
    "    #We need to check if the largest element is in the lower triangle and then change indices\n",
    "    if k > l:\n",
    "        temp = k\n",
    "        k = l\n",
    "        l = temp\n",
    "        \n",
    "    return k, l, nonDiagonalMax#returns the row,column and the value of the largest non-diagonal element\n",
    "\n",
    "#@jit\n",
    "#Rotation is the function which takes care of creating the transformation matrix and rotating around an axis for found\n",
    "#value of theta such that all non diagonal elements become zero\n",
    "def Rotation(A,epsilon,maxValue,k,l,Mask):\n",
    "    #takes in matrix A to be tranformed as well a certain epsilon to specify the threshold for zero\n",
    "    counter = 0#the counter counts how many iterations are needed for the matrix to become diagonlized\n",
    "    summa = 0\n",
    "    while maxValue > epsilon:\n",
    "        tau = (A[l,l]-A[k,k])/(2*A[k,l])\n",
    "        #Finding the smaller root\n",
    "        t1 = -1/(-tau-np.sqrt(1 + tau**2))\n",
    "        t2 = -1/(-tau+np.sqrt(1 + tau**2))\n",
    "        if abs(t1) > abs(t2):\n",
    "            tan_theta = t2\n",
    "        else:\n",
    "            tan_theta = t1\n",
    "        cos_theta = 1/np.sqrt((1 + tan_theta**2))\n",
    "        sin_theta = tan_theta*cos_theta\n",
    "        #Setting up matrix S\n",
    "        S = np.identity(int(A.shape[0]))\n",
    "        S[k,k] = cos_theta\n",
    "        S[l,l] = cos_theta\n",
    "        S[k,l] = sin_theta\n",
    "        S[l,k] = -sin_theta\n",
    "        S_transpose = S.transpose()\n",
    "        A = S_transpose@A@S\n",
    "        k,l,maxValue = largest_nonDiag2(A,Mask)\n",
    "        counter += 1\n",
    "    \n",
    "    return A, counter\n",
    "\n",
    "#The fuction Jacobi_method2 is the function which utilizes both Rotation and largest_nonDiag2 to give the finalized \n",
    "#diagonal matrix where the eigenvalues lie on the diagonal\n",
    "def Jacobi_method2(A,epsilon,Mask):\n",
    "    #epsilon is the tolerance\n",
    "    A_temp = A#To not be overwriting every time\n",
    "    k, l, maxValue = largest_nonDiag2(A_temp,Mask)\n",
    "    #setting up the algo itself\n",
    "    A_temp, counter = Rotation(A_temp,epsilon,maxValue,k,l,Mask)\n",
    "        \n",
    "    #Setting the eigenvalues to a vector\n",
    "    eigval = np.zeros(A_temp.shape[0])\n",
    "    for i in range(A_temp.shape[0]):\n",
    "        for m in range(A_temp.shape[0]):\n",
    "            if i == m:\n",
    "                eigval[m] = A_temp[i,m]\n",
    "    eigval = np.sort(eigval)\n",
    "    #returns the diagonlized matrix as well as the eigenvalues sorted in a vector and number of iterations\n",
    "    return A_temp, eigval, counter\n",
    "\n",
    "#Checking that our setup of the Jacobi_method returns the same eigenvalues as the analytical ones\n",
    "#Analytical solution\n",
    "def analyticalSolution(n):\n",
    "    h = 1/(n+1)\n",
    "    Eigval = []\n",
    "    for i in range(n):\n",
    "        eigval = (2/(h**2)) + 2*(-1/(h**2))*np.cos((i+1)*np.pi/(n+1))\n",
    "        Eigval.append(eigval)\n",
    "    return Eigval\n",
    "\n",
    "#Testing the eigenvalues obtained with Jacobis method against analytical ones\n",
    "def test_eigenvalue():\n",
    "    N = 4\n",
    "    D, Mask = createMatrix2(N)\n",
    "    D_out, eigval, counter = Jacobi_method2(D,1e-10,Mask)\n",
    "    eigval = np.sort(eigval)\n",
    "    Eigval_analytical = analyticalSolution(N)\n",
    "    assert all([a == pytest.approx(b) for a, b in zip(Eigval_analytical,eigval)])#checking all eigenvalues individually\n",
    "    \n",
    "def test_orthonormality():\n",
    "    e1 = np.array([1,0,0,0])\n",
    "    e2 = np.array([0,1,0,0])\n",
    "    N = 4\n",
    "    D, Mask = createMatrix2(N)\n",
    "    D_out, eigval, counter = Jacobi_method2(D,1e-10,Mask)\n",
    "    v1 = D_out@e1\n",
    "    v2 = D_out@e2\n",
    "    assert (e1@e2) == pytest.approx(0)#checking that our original vectors are orthonormal, inner product = zeros\n",
    "    assert (v1@v2) == pytest.approx(0)#check the inner product (almost) equals zero"
   ]
  },
  {
   "cell_type": "markdown",
   "metadata": {},
   "source": [
    "So we see that the orthonormality is preserved and we find the same eigenvalues as the analytical solution.  \n",
    "**The warnings that are given are not related to the code just a problem with using pytest in an iPython notebook**\n"
   ]
  },
  {
   "cell_type": "markdown",
   "metadata": {},
   "source": [
    "## Quantum computations:"
   ]
  },
  {
   "cell_type": "markdown",
   "metadata": {},
   "source": [
    "**We now solve the following equation:**  \n",
    "\n",
    "$$-\\frac{d^2}{d\\rho^2}u(\\rho) + \\rho^2u(\\rho) = \\lambda u(\\rho)$$  \n",
    "\n",
    "We get the same matrix as before but now the diagonal becomes $d_i = \\frac{2}{h^2} + V_i$ where $V_i = \\rho_i^2$ is the harmonic oscillator potential.  \n",
    "\n",
    "We also set $\\rho_{min} = \\rho_0$ and $\\rho_{max} = \\rho_N$, then\n",
    "\n",
    "$$h = \\frac{\\rho_N - \\rho_0}{N}$$\n",
    "\n",
    "and\n",
    "\n",
    "$$\\rho_i = \\rho_0 + ih, \\hspace{1cm} i = 1,2,....N$$\n",
    "\n",
    "The diagonal element is then,\n",
    "\n",
    "$$d_i = \\frac{2}{h^2} + V_i$$"
   ]
  },
  {
   "cell_type": "markdown",
   "metadata": {},
   "source": [
    "**We then solve for the eigenvalues:**\n",
    "\n",
    "Let's define different value of infinity, that is $\\rho_{max}$ as well as take as different number of integration points and see how the eigenvalues of the lowest energy states change and compare them against the analytical ones."
   ]
  },
  {
   "cell_type": "code",
   "execution_count": 7,
   "metadata": {},
   "outputs": [
    {
     "name": "stderr",
     "output_type": "stream",
     "text": [
      "C:\\Users\\lenovo\\Anaconda3\\lib\\site-packages\\ipykernel_launcher.py:37: RuntimeWarning: divide by zero encountered in double_scalars\n",
      "C:\\Users\\lenovo\\Anaconda3\\lib\\site-packages\\ipykernel_launcher.py:38: RuntimeWarning: divide by zero encountered in double_scalars\n"
     ]
    }
   ],
   "source": [
    "n = [10,50,200]\n",
    "rho_0 = 0\n",
    "rho_Max = [2,4,6,8,10,12,14,16,18,20,30,40,50]\n",
    "#rho_Max = [2,4,6,8]\n",
    "Rho = []\n",
    "GroundState1 = []\n",
    "GroundState2 = []\n",
    "GroundState3 = []\n",
    "FirstState1 = []\n",
    "FirstState2 = []\n",
    "FirstState3 = []\n",
    "SecondState1 = []\n",
    "SecondState2 = []\n",
    "SecondState3 = []\n",
    "ThirdState1 = []\n",
    "ThirdState2 = []\n",
    "ThirdState3 = []\n",
    "for rhoValue in rho_Max:\n",
    "    GroundState = []\n",
    "    for N in n:\n",
    "        D, Mask, rho = createMatrix(rho_0,rhoValue,N)\n",
    "        D_out, eigval, counter = Jacobi_method2(D,1e-10,Mask)\n",
    "        if N == 10:\n",
    "            GroundState1.append(eigval[0])\n",
    "            FirstState1.append(eigval[1])\n",
    "            SecondState1.append(eigval[2])\n",
    "            ThirdState1.append(eigval[3])\n",
    "        if N == 50:\n",
    "            GroundState2.append(eigval[0])\n",
    "            FirstState2.append(eigval[1])\n",
    "            SecondState2.append(eigval[2])\n",
    "            ThirdState2.append(eigval[3])\n",
    "        if N == 200:\n",
    "            GroundState3.append(eigval[0])\n",
    "            FirstState3.append(eigval[1])\n",
    "            SecondState3.append(eigval[2])\n",
    "            ThirdState3.append(eigval[3])"
   ]
  },
  {
   "cell_type": "markdown",
   "metadata": {},
   "source": [
    "## Plotting the result:"
   ]
  },
  {
   "cell_type": "markdown",
   "metadata": {},
   "source": [
    "**First a plot of the ground state eigenvalue as a function of $\\rho_{max}$ for three different value of integration points**"
   ]
  },
  {
   "cell_type": "code",
   "execution_count": 8,
   "metadata": {},
   "outputs": [
    {
     "data": {
      "image/png": "[encoded data removed]",
      "text/plain": [
       "<Figure size 432x288 with 1 Axes>"
      ]
     },
     "metadata": {},
     "output_type": "display_data"
    }
   ],
   "source": [
    "fig, ax = plt.subplots()\n",
    "ax.axhline(y=3,lw=0.5)\n",
    "ax.plot(rho_Max[0:10],GroundState1[0:10],'+r', label=\"N = 10\")\n",
    "ax.plot(rho_Max[0:10],GroundState2[0:10],'+b', label=\"N = 50\")\n",
    "ax.plot(rho_Max[0:10],GroundState3[0:10],'+y', label=\"N = 200\")\n",
    "ax.legend()\n",
    "ax.set_xlabel(r\"$\\rho_{max}$\")\n",
    "ax.set_ylabel(\"Eigenvalue\")\n",
    "ax.grid(alpha=0.1)\n",
    "plt.savefig(\"GroundStateEigenvalue.png\",format=\"png\",dpi=300)"
   ]
  },
  {
   "cell_type": "markdown",
   "metadata": {},
   "source": [
    "**Then the same plot for the first excited state:**"
   ]
  },
  {
   "cell_type": "code",
   "execution_count": 9,
   "metadata": {},
   "outputs": [
    {
     "data": {
      "image/png": "[encoded data removed]",
      "text/plain": [
       "<Figure size 432x288 with 1 Axes>"
      ]
     },
     "metadata": {},
     "output_type": "display_data"
    }
   ],
   "source": [
    "fig2, ax2 = plt.subplots()\n",
    "ax2.axhline(y=7,lw=0.5)\n",
    "ax2.plot(rho_Max[0:10],FirstState1[0:10],'+r', label=\"N = 10\")\n",
    "ax2.plot(rho_Max[0:10],FirstState2[0:10],'+b', label=\"N = 50\")\n",
    "ax2.plot(rho_Max[0:10],FirstState3[0:10],'+y', label=\"N = 200\")\n",
    "ax2.legend()\n",
    "ax2.set_xlabel(r\"$\\rho_{max}$\")\n",
    "ax2.set_ylabel(\"Eigenvalue\")\n",
    "ax2.grid(alpha=0.1)\n",
    "plt.savefig(\"FirstStateEigenvalue.png\",format=\"png\",dpi=300)"
   ]
  },
  {
   "cell_type": "markdown",
   "metadata": {},
   "source": [
    "**Again for the second excited state:**"
   ]
  },
  {
   "cell_type": "code",
   "execution_count": 10,
   "metadata": {},
   "outputs": [
    {
     "data": {
      "image/png": "[encoded data removed]",
      "text/plain": [
       "<Figure size 432x288 with 1 Axes>"
      ]
     },
     "metadata": {},
     "output_type": "display_data"
    }
   ],
   "source": [
    "fig3, ax3 = plt.subplots()\n",
    "ax3.axhline(y=11,lw=0.5)\n",
    "ax3.plot(rho_Max[0:10],SecondState1[0:10],'+r', label=\"N = 10\")\n",
    "ax3.plot(rho_Max[0:10],SecondState2[0:10],'+b', label=\"N = 50\")\n",
    "ax3.plot(rho_Max[0:10],SecondState3[0:10],'+y', label=\"N = 200\")\n",
    "ax3.legend()\n",
    "ax3.set_xlabel(r\"$\\rho_{max}$\")\n",
    "ax3.set_ylabel(\"Eigenvalue\")\n",
    "ax3.grid(alpha=0.1)\n",
    "plt.savefig(\"SecondStateEigenvalue.png\",format=\"png\",dpi=300)"
   ]
  },
  {
   "cell_type": "markdown",
   "metadata": {},
   "source": [
    "**Lastly for the third excited state:**"
   ]
  },
  {
   "cell_type": "code",
   "execution_count": 11,
   "metadata": {},
   "outputs": [
    {
     "data": {
      "image/png": "[encoded data removed]",
      "text/plain": [
       "<Figure size 432x288 with 1 Axes>"
      ]
     },
     "metadata": {},
     "output_type": "display_data"
    }
   ],
   "source": [
    "fig4, ax4 = plt.subplots()\n",
    "ax4.axhline(y=15,lw=0.5)\n",
    "ax4.plot(rho_Max[0:10],ThirdState1[0:10],'+r', label=\"N = 10\")\n",
    "ax4.plot(rho_Max[0:10],ThirdState2[0:10],'+b', label=\"N = 50\")\n",
    "ax4.plot(rho_Max[0:10],ThirdState3[0:10],'+y', label=\"N = 200\")\n",
    "ax4.legend()\n",
    "ax4.set_xlabel(r\"$\\rho_{max}$\")\n",
    "ax4.set_ylabel(\"Eigenvalue\")\n",
    "ax4.grid(alpha=0.1)\n",
    "plt.savefig(\"ThirdStateEigenvalue.png\",format=\"png\",dpi=300)"
   ]
  },
  {
   "cell_type": "markdown",
   "metadata": {},
   "source": [
    "**Checking how many integration points we need to be within four leading decimal points after the comma.**"
   ]
  },
  {
   "cell_type": "code",
   "execution_count": 12,
   "metadata": {},
   "outputs": [],
   "source": [
    "rho_0 = 0\n",
    "rho_max = 15\n",
    "N = 3000\n",
    "D, Mask, rho = createMatrix(rho_0,rho_max,N)"
   ]
  },
  {
   "cell_type": "markdown",
   "metadata": {},
   "source": [
    "**For $\\rho_{max} = 15$ 3000 integration points are sufficient for the numercal eigenvalue to be within four leading decimal points after the comma compared to analytical eigenvalues. Here numpy was used for such a large matrix.**"
   ]
  },
  {
   "cell_type": "code",
   "execution_count": 13,
   "metadata": {},
   "outputs": [
    {
     "name": "stdout",
     "output_type": "stream",
     "text": [
      "[ 2.99999219  6.99996096 10.99990475 14.99982355]\n"
     ]
    }
   ],
   "source": [
    "#Use numpy for speed\n",
    "EigVal_nump, EigVec_nump = np.linalg.eig(D)\n",
    "#print(EigVal_nump)\n",
    "idx = EigVal_nump.argsort()[::1]\n",
    "#print(idx)\n",
    "EigVal_nump = EigVal_nump[idx]\n",
    "EigVec_nump = EigVec_nump[:,idx]\n",
    "print(EigVal_nump[0:4])"
   ]
  },
  {
   "cell_type": "markdown",
   "metadata": {},
   "source": [
    "## Quantum dots in three dimensions, two electrons"
   ]
  },
  {
   "cell_type": "markdown",
   "metadata": {},
   "source": [
    "Our equation now reads:\n",
    "\n",
    "$$-\\frac{d^2}{d\\rho^2}\\phi(\\rho) + \\omega_r^2\\rho^2\\phi(\\rho) + \\frac{1}{\\rho} = \\lambda\\phi(\\rho)$$"
   ]
  },
  {
   "cell_type": "code",
   "execution_count": 14,
   "metadata": {},
   "outputs": [],
   "source": [
    "#Set up a new function to create the matrix with additional term to the diagonal\n",
    "#Setting up the matrix\n",
    "#@jit(nopython=True)\n",
    "def createMatrix3(rhoMin,rhoMax,N,omegaR):\n",
    "    h = (rhoMax - rhoMin)/(N+1)\n",
    "    D = np.zeros((N,N))\n",
    "    Mask = np.ones((N,N),dtype=bool)\n",
    "    #x = np.linspace(0+h,1-h,n)\n",
    "    for i in range(N):\n",
    "        for l in range(N):\n",
    "            if i == l:\n",
    "                rho_i = rho_0 + (i+1)*h\n",
    "                D[i,l] = 2/(h**2) + (rho_i**2)*(omegaR**2) + 1/rho_i#additional term on the diagonal\n",
    "                Mask[i,l] = False\n",
    "            if ((i-l) == 1) or ((i-l) == -1):\n",
    "                D[i,l] = -1/(h**2)\n",
    "    return D, Mask"
   ]
  },
  {
   "cell_type": "code",
   "execution_count": 15,
   "metadata": {},
   "outputs": [],
   "source": [
    "rho_0 = 0\n",
    "rho_max = 15\n",
    "N = 200\n",
    "#omega_r = 0.01 \n",
    "D1, Mask = createMatrix3(rho_0,rho_max,N,0.01)\n",
    "#omega_r = 0.5 \n",
    "D2, Mask = createMatrix3(rho_0,rho_max,N,0.5)\n",
    "#omega_r = 1 \n",
    "D3, Mask = createMatrix3(rho_0,rho_max,N,1.0)\n",
    "#omega_r = 5.0 \n",
    "D4, Mask = createMatrix3(rho_0,rho_max,N,5.0)"
   ]
  },
  {
   "cell_type": "markdown",
   "metadata": {},
   "source": [
    "**Solving the equation:**"
   ]
  },
  {
   "cell_type": "code",
   "execution_count": 16,
   "metadata": {},
   "outputs": [
    {
     "name": "stderr",
     "output_type": "stream",
     "text": [
      "C:\\Users\\lenovo\\Anaconda3\\lib\\site-packages\\ipykernel_launcher.py:38: RuntimeWarning: divide by zero encountered in double_scalars\n",
      "C:\\Users\\lenovo\\Anaconda3\\lib\\site-packages\\ipykernel_launcher.py:37: RuntimeWarning: divide by zero encountered in double_scalars\n"
     ]
    },
    {
     "name": "stdout",
     "output_type": "stream",
     "text": [
      "omega_r = 0.01  [0.18612443 0.36480978 0.6165887 ] 69034\n",
      "omega_r = 0.5  [2.22967321 4.13243096 6.06893772] 67541\n",
      "omega_r = 1.0  [ 4.05605181  7.90130833 11.79872033] 66514\n",
      "omega_r = 5.0  [17.40298741 36.85597169 56.32614061] 40826\n"
     ]
    }
   ],
   "source": [
    "#omega_r = 0.01 \n",
    "D_out, EigVal3, counter = Jacobi_method2(D1,1e-10,Mask)\n",
    "EigVal3.sort()\n",
    "print('omega_r = 0.01 ',EigVal3[0:3],counter)\n",
    "\n",
    "#omega_r = 0.5\n",
    "D_out, EigVal3, counter = Jacobi_method2(D2,1e-10,Mask)\n",
    "EigVal3.sort()\n",
    "print('omega_r = 0.5 ',EigVal3[0:3],counter)\n",
    "\n",
    "#omega_r = 1\n",
    "D_out, EigVal3, counter = Jacobi_method2(D3,1e-10,Mask)\n",
    "EigVal3.sort()\n",
    "print('omega_r = 1.0 ',EigVal3[0:3],counter)\n",
    "\n",
    "#omega_r = 5.0\n",
    "D_out, EigVal3, counter = Jacobi_method2(D4,1e-10,Mask)\n",
    "EigVal3.sort()\n",
    "print('omega_r = 5.0 ',EigVal3[0:3],counter)"
   ]
  },
  {
   "cell_type": "markdown",
   "metadata": {},
   "source": [
    "**Check two value againts article:**"
   ]
  },
  {
   "cell_type": "code",
   "execution_count": 17,
   "metadata": {},
   "outputs": [
    {
     "name": "stderr",
     "output_type": "stream",
     "text": [
      "C:\\Users\\lenovo\\Anaconda3\\lib\\site-packages\\ipykernel_launcher.py:38: RuntimeWarning: divide by zero encountered in double_scalars\n",
      "C:\\Users\\lenovo\\Anaconda3\\lib\\site-packages\\ipykernel_launcher.py:37: RuntimeWarning: divide by zero encountered in double_scalars\n"
     ]
    },
    {
     "name": "stdout",
     "output_type": "stream",
     "text": [
      "omega_r = 0.25  [1.24989238 2.18962328 3.14930871] 68640\n"
     ]
    }
   ],
   "source": [
    "N = 200\n",
    "D1, Mask = createMatrix3(rho_0,rho_max,N,0.25)\n",
    "#omega_r = 0.25 - In article corresponds to eigenvalue 1.250\n",
    "D_out, EigVal3, counter = Jacobi_method2(D1,1e-10,Mask)\n",
    "EigVal3.sort()\n",
    "print('omega_r = 0.25 ',EigVal3[0:3],counter)"
   ]
  },
  {
   "cell_type": "code",
   "execution_count": 18,
   "metadata": {},
   "outputs": [
    {
     "name": "stderr",
     "output_type": "stream",
     "text": [
      "C:\\Users\\lenovo\\Anaconda3\\lib\\site-packages\\ipykernel_launcher.py:37: RuntimeWarning: divide by zero encountered in double_scalars\n",
      "C:\\Users\\lenovo\\Anaconda3\\lib\\site-packages\\ipykernel_launcher.py:38: RuntimeWarning: divide by zero encountered in double_scalars\n"
     ]
    },
    {
     "name": "stdout",
     "output_type": "stream",
     "text": [
      "omega_r = 0.05  [0.35098818 0.54856229 0.79953868] 69226\n",
      "0.35\n"
     ]
    }
   ],
   "source": [
    "#omega_r = 0.05 - In article corresponds to eigenvalue 0.1750*2\n",
    "D2, Mask = createMatrix3(rho_0,rho_max,N,0.05)\n",
    "D_out, EigVal3, counter = Jacobi_method2(D2,1e-10,Mask)\n",
    "EigVal3.sort()\n",
    "print('omega_r = 0.05 ',EigVal3[0:3],counter)\n",
    "print(0.1750*2)"
   ]
  },
  {
   "cell_type": "markdown",
   "metadata": {},
   "source": [
    "## Additional functions that where not used:"
   ]
  },
  {
   "cell_type": "code",
   "execution_count": 19,
   "metadata": {},
   "outputs": [],
   "source": [
    "#Original function to find the largest nondiagonal element\n",
    "@jit\n",
    "def largest_nonDiag(A):\n",
    "    #Masking diagonal elements and finding the max value of the off-diagonal\n",
    "    mask = np.ones(A.shape, dtype=bool)\n",
    "    np.fill_diagonal(mask,0)\n",
    "    maxValue = np.amax(abs(A[mask]))\n",
    "    maxValueIndex = np.where(abs(A) == maxValue)\n",
    "    #taking the lowest index in case has more than one maximum element\n",
    "    maxValueIndexRow = maxValueIndex[0][0]#row\n",
    "    k = maxValueIndexRow\n",
    "    maxValueIndexColumn = maxValueIndex[1][0]#column\n",
    "    l = maxValueIndexColumn\n",
    "    #Quick fix to not be choosing the diagonal element\n",
    "    counter = 1\n",
    "    while k == l:\n",
    "        maxValueIndexRow = maxValueIndex[0][counter]#row\n",
    "        k = maxValueIndexRow\n",
    "        maxValueIndexColumn = maxValueIndex[1][counter]#column\n",
    "        l = maxValueIndexColumn\n",
    "        counter += 1\n",
    "    #We need to check if the largest element is in the lower triangle and then change indices\n",
    "    if k > l:\n",
    "        temp = k\n",
    "        k = l\n",
    "        l = temp\n",
    "        \n",
    "    return k,l, maxValue\n",
    "\n",
    "#First version of the Jacobi_method function\n",
    "#@jit - Prófa kannski að gera sér fall fyrir while lúppu til að flýta fyrir reikningum\n",
    "def Jacobi_method(A,epsilon):\n",
    "    #epsilon is the tolerance\n",
    "    A_temp = A#To not be overwriting every time\n",
    "    k, l, maxValue = largest_nonDiag2(A_temp,Mask)\n",
    "    #setting up the algo itself\n",
    "    while maxValue > epsilon:\n",
    "        tau = (A_temp[l,l]-A_temp[k,k])/(2*A_temp[k,l])\n",
    "        #Finding the smaller root\n",
    "        t1 = -1/(-tau-np.sqrt(1 + tau**2))\n",
    "        t2 = -1/(-tau+np.sqrt(1 + tau**2))\n",
    "        if abs(t1) > abs(t2):\n",
    "            tan_theta = t2\n",
    "        else:\n",
    "            tan_theta = t1\n",
    "        cos_theta = 1/np.sqrt((1 + tan_theta**2))\n",
    "        sin_theta = tan_theta*cos_theta\n",
    "        #Setting up matrix S\n",
    "        S = np.identity(int(A_temp.shape[0]))\n",
    "        S[k,k] = cos_theta\n",
    "        S[l,l] = cos_theta\n",
    "        S[k,l] = sin_theta\n",
    "        S[l,k] = -sin_theta\n",
    "        S_transpose = S.transpose()\n",
    "        A_temp = np.matmul(S_transpose,np.matmul(A_temp,S))\n",
    "        #Masking diagonal elements and finding the max value of the off-diagonal\n",
    "        k,l,maxValue = largest_nonDiag2(A_temp,Mask)\n",
    "        \n",
    "        #Setting the eigenvalues to a vector\n",
    "        eigval = np.zeros(A_temp.shape[0])\n",
    "        for i in range(A_temp.shape[0]):\n",
    "            for m in range(A_temp.shape[0]):\n",
    "                if i == m:\n",
    "                    eigval[m] = A_temp[i,m]\n",
    "    \n",
    "    return A_temp, eigval"
   ]
  }
 ],
 "metadata": {
  "kernelspec": {
   "display_name": "Python 3",
   "language": "python",
   "name": "python3"
  },
  "language_info": {
   "codemirror_mode": {
    "name": "ipython",
    "version": 3
   },
   "file_extension": ".py",
   "mimetype": "text/x-python",
   "name": "python",
   "nbconvert_exporter": "python",
   "pygments_lexer": "ipython3",
   "version": "3.6.5"
  }
 },
 "nbformat": 4,
 "nbformat_minor": 2
}
