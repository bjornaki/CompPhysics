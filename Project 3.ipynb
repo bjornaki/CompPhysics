{
 "cells": [
  {
   "cell_type": "markdown",
   "metadata": {},
   "source": [
    "# Project 3:"
   ]
  },
  {
   "cell_type": "markdown",
   "metadata": {},
   "source": [
    "**We start by importing packages that we need**"
   ]
  },
  {
   "cell_type": "code",
   "execution_count": 287,
   "metadata": {},
   "outputs": [],
   "source": [
    "import numpy as np\n",
    "import matplotlib.pyplot as plt \n",
    "from numba import jit, njit, vectorize, prange\n",
    "import numba as numba\n",
    "import time\n",
    "from scipy.special import gamma, factorial\n",
    "import math"
   ]
  },
  {
   "cell_type": "markdown",
   "metadata": {},
   "source": [
    "**Next we define the functions that we need:**"
   ]
  },
  {
   "cell_type": "markdown",
   "metadata": {},
   "source": [
    "**First the functions for Gauss Quadrature using Legendre polynonials:**"
   ]
  },
  {
   "cell_type": "code",
   "execution_count": 3,
   "metadata": {},
   "outputs": [],
   "source": [
    "#Legendre is a function that calculates the value of a n-th Legendre polynomial using the recursion relation \n",
    "#for Legendre polynomials\n",
    "@jit()\n",
    "def Legendre(n,x):\n",
    "    L_0 = 1\n",
    "    L_1 = x\n",
    "    j = 1\n",
    "    while j < n:#Calculate the value of a second or higher order Legendre polynomial for a given x\n",
    "        L_2 = (((2*j + 1)/(j + 1)))*x*L_1 - (j/(j + 1))*L_0\n",
    "        temp = L_1\n",
    "        L_1 = L_2\n",
    "        L_0 = temp\n",
    "        j += 1\n",
    "        \n",
    "    if n == 0:\n",
    "        return L_0\n",
    "    elif n == 1:\n",
    "        return L_1\n",
    "    else:\n",
    "        return L_2\n",
    "\n",
    "#Gauss_Legendre is a function that integrates a function f(x) using Legendre polynomials\n",
    "#def Gauss_Legendre(N,a,b):\n",
    "    #approximate the function as a polynomial of degree 2N - 1\n",
    "    #The mesh points are the zeros of L_N(x) - Legendre polynomial of degree N"
   ]
  },
  {
   "cell_type": "code",
   "execution_count": 289,
   "metadata": {},
   "outputs": [],
   "source": [
    "#Function that sets up the integration and weights for N number of integration points on the interval [-1,1]\n",
    "@jit()\n",
    "def GaussLegendre(N):#Sets up the integration points and weights for limit -1 to 1\n",
    "    #N - number of integration points, [a,b] - integration limits, func - function to be integrated\n",
    "    L = np.zeros((N,N))#setting up matrix L\n",
    "    polynomial = np.zeros(N+1)#setting up the N-th Legendre polynomial\n",
    "    polynomial[N] = 1\n",
    "    roots = np.polynomial.legendre.legroots(polynomial)#finding the roots of that polynomial\n",
    "    for i in range(N):#setting up all matrix elements\n",
    "        for j in range(N):\n",
    "            L[i,j] = Legendre(j,roots[i])\n",
    "            \n",
    "    #finding the inverse\n",
    "    L_inv = np.linalg.inv(L)\n",
    "    weights = np.zeros(N)#the weights\n",
    "    for i in range(N):\n",
    "        weights[i] = 2*L_inv[0,i]\n",
    "    \n",
    "    return roots, weights\n",
    "\n",
    "#Gauss Legendre in 1 dimension - unused here but coded for implentiation first time\n",
    "def GaussLegendreIntegrate(roots,weights,func):\n",
    "    N = len(roots)\n",
    "    #funtion that use Gauss legendre to numercally integrate\n",
    "    Integral = 0\n",
    "    for i in range(N):\n",
    "        Integral += weights[i]*func(roots[i])\n",
    "    \n",
    "    return Integral"
   ]
  },
  {
   "cell_type": "code",
   "execution_count": 291,
   "metadata": {},
   "outputs": [],
   "source": [
    "#Function that specifies the Integrand in cartesian coordinates\n",
    "@jit(nopython=True)\n",
    "def WaveFunctionPos(x1,y1,z1,x2,y2,z2):\n",
    "    #checking if we are dividing by zero and if so disregard this contribution\n",
    "    if np.sqrt((x1-x2)**2+(y1-y2)**2+(z1-z2)**2) < 10e-8:\n",
    "        return 0\n",
    "    else:\n",
    "        return np.exp(-4*(np.sqrt(x1**2+y1**2+z1**2) + np.sqrt(x2**2+y2**2+z2**2)))*(1/(np.sqrt((x1-x2)**2+(y1-y2)**2+(z1-z2)**2)))\n",
    "\n",
    "@jit()\n",
    "#This is the function which takes in the integration points and weight on [-1,1] and calculates\n",
    "#the two electron correlation energy and an interval [a,b]\n",
    "def GaussLegendreWaveFunc(N,WaveFunction,a,b,intPoints,weights):\n",
    "    #intPoints, weights = GaussLegendre(N)\n",
    "    intPoints = ((b-a)/2)*intPoints + (b+a)/2\n",
    "    #print(weights)\n",
    "    Integral = 0\n",
    "    for x1 in range(N):\n",
    "        for y1 in range(N):\n",
    "            for z1 in range(N):\n",
    "                for x2 in range(N):\n",
    "                    for y2 in range(N):\n",
    "                        for z2 in range(N):\n",
    "                            functionValue = WaveFunction(intPoints[x1],intPoints[y1],intPoints[z1],intPoints[x2],intPoints[y2],intPoints[z2])\n",
    "                            if functionValue < 0:\n",
    "                                print(\"Obs\")\n",
    "                            Integral += weights[x1]*weights[y1]*weights[z1]*weights[x2]*weights[y2]*weights[z2]*functionValue\n",
    "                            \n",
    "                            \n",
    "    Integral = Integral*(((b-a)/2)**6)\n",
    "    return Integral"
   ]
  },
  {
   "cell_type": "markdown",
   "metadata": {},
   "source": [
    "**Next are the functions needed for Gaussian Quadrature using Laguerre polynomials:**"
   ]
  },
  {
   "cell_type": "code",
   "execution_count": 59,
   "metadata": {},
   "outputs": [],
   "source": [
    "#Recursion formula for the n-th Laguerre polynomial\n",
    "@jit(nopython=True)\n",
    "def Laguerre(n,x):#n-th Laguerre polynomial at position x\n",
    "    L_0 = 1\n",
    "    L_1 = 1-x\n",
    "    j = 1\n",
    "    while j < n:\n",
    "        L_2 = (2*j + 1 - x)*L_1 - j*L_0\n",
    "        L_2 = L_2/(j + 1)\n",
    "        temp = L_1\n",
    "        L_1 = L_2\n",
    "        L_0 = temp\n",
    "        j += 1\n",
    "        \n",
    "    return L_2"
   ]
  },
  {
   "cell_type": "code",
   "execution_count": 195,
   "metadata": {},
   "outputs": [],
   "source": [
    "#Roots of the n-th order Laguerre polynomial\n",
    "@jit()\n",
    "def LaguerreRoots(n):#roots of n-th order Laguerre polynomial\n",
    "    polynomial = np.zeros(n+1)\n",
    "    polynomial[n] = 1\n",
    "    #print(polynomial)\n",
    "    roots = np.polynomial.laguerre.lagroots(polynomial)\n",
    "    return roots\n",
    "\n",
    "#Weights for using Laguerre polynomials\n",
    "@jit()\n",
    "def LaguerreWeights(roots,n):\n",
    "    weights = np.zeros(len(roots))\n",
    "    for i in range(len(roots)):\n",
    "        weights[i] = roots[i]/(((n+1)**2)*(Laguerre(n+1,roots[i])**2))\n",
    "    return weights\n",
    "\n",
    "#Wave function integrand in polar coordinates and taking into account the use of Laguerre polynomials\n",
    "@jit(nopython=True)\n",
    "def WaveFuncPolar(r1,r2,theta1,theta2,phi1,phi2):\n",
    "    cosBeta = np.cos(theta1)*np.cos(theta2) + np.sin(theta1)*np.sin(theta2)*np.cos(phi1-phi2)\n",
    "    if abs(r1**2 + r2**2 - 2*r1*r2*cosBeta) < 10e-10:#to account for zero and loss on numerical precession\n",
    "        return 0\n",
    "    else:\n",
    "        r_12 = np.sqrt(r1**2 + r2**2 - 2*r1*r2*cosBeta)\n",
    "        return (r1**2)*(r2**2)*np.sin(theta1)*np.sin(theta2)*np.exp(-3*(r1 + r2))*(1/r_12)\n",
    "    \n",
    "#Wave function integrand in polar coordinates for Monte Carlo integration, importance sampling\n",
    "@jit(nopython=True)\n",
    "def WaveFuncPolarMC(r1,r2,theta1,theta2,phi1,phi2):\n",
    "    cosBeta = np.cos(theta1)*np.cos(theta2) + np.sin(theta1)*np.sin(theta2)*np.cos(phi1-phi2)\n",
    "    if abs(r1**2 + r2**2 - 2*r1*r2*cosBeta) < 10e-10:#to account for zero and loss on numerical precession\n",
    "        return 0\n",
    "    else:\n",
    "        r_12 = np.sqrt(r1**2 + r2**2 - 2*r1*r2*cosBeta)\n",
    "        return (r1**2)*(r2**2)*np.exp(-3*(r1+r2))*np.sin(theta1)*np.sin(theta2)*(1/r_12)"
   ]
  },
  {
   "cell_type": "markdown",
   "metadata": {},
   "source": [
    "**Integration using Legendre polynomials for the angles and Laguerre polynomials for the radial part:**"
   ]
  },
  {
   "cell_type": "code",
   "execution_count": 292,
   "metadata": {},
   "outputs": [],
   "source": [
    "#Function the computes the correlation energy for the two electrons using Legendre polynomials for the \n",
    "#angles and Laguerre polynomials for the radial part\n",
    "@jit(nopython=True)\n",
    "def ImprovedGauss(N,WaveFuncPolar,intPointsTheta,intPointsPhi,intPointsR,weightsTheta,weightsPhi,weightsR,a1,b1,a2,b2):\n",
    "    Integral2 = 0\n",
    "    for theta1 in range(N):\n",
    "            for theta2 in range(N):\n",
    "                for phi1 in range(N):\n",
    "                    for phi2 in range(N):\n",
    "                        for r1 in range(N):\n",
    "                            for r2 in range(N):\n",
    "                                functionValue = WaveFuncPolar(intPointsR[r1],intPointsR[r2],intPointsTheta[theta1],intPointsTheta[theta2],intPointsPhi[phi1],intPointsPhi[phi2])\n",
    "                                Integral2 += weightsTheta[theta1]*weightsTheta[theta2]*weightsPhi[phi1]*weightsPhi[phi2]*weightsR[r1]*weightsR[r2]*functionValue\n",
    "                            \n",
    "    Integral2 = Integral2*(((b1-a1)/2)**2)*(((b2-a2)/2)**2)\n",
    "    return Integral2"
   ]
  },
  {
   "cell_type": "markdown",
   "metadata": {},
   "source": [
    "## Gauss Legendre"
   ]
  },
  {
   "cell_type": "markdown",
   "metadata": {},
   "source": [
    "Let's start finding where the wave function as approximately zero so that we can discretize and find an approximation for infinity. To do so we plot the wave function for a single particle $e^{-\\alpha r_i}$ and see for which value $\\lambda$ it is more or less zero."
   ]
  },
  {
   "cell_type": "code",
   "execution_count": 3,
   "metadata": {},
   "outputs": [
    {
     "data": {
      "image/png": "[encoded data removed]",
      "text/plain": [
       "<Figure size 432x288 with 1 Axes>"
      ]
     },
     "metadata": {
      "needs_background": "light"
     },
     "output_type": "display_data"
    }
   ],
   "source": [
    "#Plotting\n",
    "x = np.linspace(-5,5,1000)\n",
    "y = 0\n",
    "z = 0\n",
    "r = np.sqrt(x**2 + y**2 + z**2)\n",
    "#Take y = 0 and z = 0 and see for which value lambda in x is a good approx for inf\n",
    "fig, ax = plt.subplots()\n",
    "ax.plot(x,np.exp(-2*r))\n",
    "ax.set_xlim(-5,5)\n",
    "ax.grid(alpha=0.3)\n",
    "ax.set_xlabel(\"x [length]\")\n",
    "ax.set_ylabel(\"Wave function amplitude\")\n",
    "plt.savefig(\"WavefunctionAmp.png\",format=\"png\",dpi=300)\n",
    "plt.show()"
   ]
  },
  {
   "cell_type": "markdown",
   "metadata": {},
   "source": [
    "From this we conclude that $\\lambda = 3$ is a good approximation for $\\infty$. As the wave function is axisymmetric this is the approximation for x, y and z."
   ]
  },
  {
   "cell_type": "markdown",
   "metadata": {},
   "source": [
    "**Let's now calculate the integral using GQ with Legendre polynomials for a few different number of integration points.**"
   ]
  },
  {
   "cell_type": "code",
   "execution_count": 321,
   "metadata": {},
   "outputs": [],
   "source": [
    "#N = [2,3,4,5,6]\n",
    "#N = [2,4,6,10,15,20,25,30]\n",
    "N = [5,7,11,17,23,25,31,33]\n",
    "IntegralTotal = np.zeros(int(len(N)))\n",
    "counter = 0\n",
    "for n in N:\n",
    "    intPoints, weights = GaussLegendre(n)\n",
    "    Integral = GaussLegendreWaveFunc(n,WaveFunctionPos,-4,4,intPoints,weights)\n",
    "    IntegralTotal[counter] = Integral\n",
    "    counter += 1"
   ]
  },
  {
   "cell_type": "markdown",
   "metadata": {},
   "source": [
    "**Now we plot the results:**"
   ]
  },
  {
   "cell_type": "code",
   "execution_count": 295,
   "metadata": {},
   "outputs": [
    {
     "data": {
      "image/png": "[encoded data removed]",
      "text/plain": [
       "<Figure size 432x288 with 1 Axes>"
      ]
     },
     "metadata": {
      "needs_background": "light"
     },
     "output_type": "display_data"
    }
   ],
   "source": [
    "fig2, ax2 = plt.subplots()\n",
    "ax2.plot(N,IntegralTotal,'r*')\n",
    "ax2.axhline(y=5*np.pi**2/(16**2))\n",
    "ax2.grid(alpha=0.3)\n",
    "ax2.set_xlabel(\"Number of integration points, N\")\n",
    "ax2.set_ylabel(\"Integral value\")\n",
    "plt.show()"
   ]
  },
  {
   "cell_type": "markdown",
   "metadata": {},
   "source": [
    "**Calculating the error:**"
   ]
  },
  {
   "cell_type": "code",
   "execution_count": 296,
   "metadata": {},
   "outputs": [
    {
     "data": {
      "image/png": "[encoded data removed]",
      "text/plain": [
       "<Figure size 432x288 with 1 Axes>"
      ]
     },
     "metadata": {
      "needs_background": "light"
     },
     "output_type": "display_data"
    }
   ],
   "source": [
    "AnalyticalValue = 5*np.pi**2/(16**2)\n",
    "ErrorGaussQuad = AnalyticalValue - IntegralTotal\n",
    "fig3,ax3 = plt.subplots()\n",
    "ax3.plot(N,abs(ErrorGaussQuad),'r*')\n",
    "ax3.grid(alpha=0.3)\n",
    "ax3.set_ylabel(\"|Error|\")\n",
    "ax3.set_xlabel(\"Number of integration points, N\")\n",
    "plt.show()"
   ]
  },
  {
   "cell_type": "markdown",
   "metadata": {},
   "source": [
    "## Improved Gauss Quadrature"
   ]
  },
  {
   "cell_type": "markdown",
   "metadata": {},
   "source": [
    "**We now change to spherical coordinates and integrate over a sphere. Our variables are then:**\n",
    "\n",
    "$\\theta \\in [0,\\pi]$.  \n",
    "$\\phi \\in [0,2\\pi]$  \n",
    "$r \\in [0,\\infty)$  \n",
    "\n",
    "We then use Laguerre polynomials for the radial part, $r$, and Legendre polynomials for the angle parts, $\\theta$ and $\\phi$.\n",
    "\n",
    "Using the Laguerre polynomials we absorbe the exponential into the weight function.\n",
    "\n",
    "Our integral now reads\n",
    "\n",
    "$$I = \\int_{0}^{\\infty}r_1^2dr_1 \\int_{0}^{\\infty}r_2^2dr_2 \\int_{0}^{2\\pi}d\\phi_1 \\int_{0}^{2\\pi}d\\phi_2 \\int_{0}^{\\pi}sin(\\theta_1)d\\theta_1 \\int_{0}^{\\pi}sin(\\theta_2)d\\theta_2 \\frac{e^{-2\\alpha(r_1 + r_2)}}{r_{12}} $$\n",
    "\n",
    "where \n",
    "\n",
    "$$\\frac{1}{r_{12}}= \\frac{1}{\\sqrt{r_1^2+r_2^2-2r_1r_2cos(\\beta)}}$$\n",
    "\n",
    "and\n",
    "\n",
    "$$cos(\\beta) = cos(\\theta_1)cos(\\theta_2)+sin(\\theta_1)sin(\\theta_2)cos(\\phi_1-\\phi_2))$$\n",
    "\n",
    "Then we can absorbe the exponential wave functions into the weights utilizing Laguerre polynomials."
   ]
  },
  {
   "cell_type": "markdown",
   "metadata": {},
   "source": [
    "**Now we take measurements for the same values of integration points, N, as before but using the improved GQ with Legendre for the angles and Laguerre for the radial part:**"
   ]
  },
  {
   "cell_type": "code",
   "execution_count": 322,
   "metadata": {},
   "outputs": [],
   "source": [
    "n = [5,7,11,17,23,25,31,33]\n",
    "IntegralTotal2 = np.zeros(len(n))\n",
    "counter = 0\n",
    "for N in n:\n",
    "    #setting up integration limits and integration points and weights\n",
    "    aTheta = 0\n",
    "    bTheta = np.pi\n",
    "    aPhi = 0\n",
    "    bPhi = 2*np.pi\n",
    "    #theta\n",
    "    intPointsTheta, weightsTheta = GaussLegendre(N)\n",
    "    intPointsTheta = ((bTheta-aTheta)/2)*intPointsTheta + (bTheta+aTheta)/2\n",
    "    #print(intPointsTheta)\n",
    "    #Phi\n",
    "    intPointsPhi, weightsPhi = GaussLegendre(N)\n",
    "    intPointsPhi = ((bPhi-aPhi)/2)*intPointsPhi + (bPhi+aPhi)/2\n",
    "    #print(intPointsPhi)\n",
    "    #R\n",
    "    intPointsR = LaguerreRoots(N)\n",
    "    weightsR = LaguerreWeights(intPointsR,N)\n",
    "    #print(intPointsR)\n",
    "    #print(weightsR)\n",
    "\n",
    "    #Result\n",
    "    Integral2 = ImprovedGauss(N,WaveFuncPolar,intPointsTheta,intPointsPhi,intPointsR,weightsTheta,weightsPhi,weightsR,aTheta,bTheta,aPhi,bPhi)\n",
    "    IntegralTotal2[counter] = Integral2\n",
    "    counter += 1"
   ]
  },
  {
   "cell_type": "markdown",
   "metadata": {},
   "source": [
    "**Plotting the results:**"
   ]
  },
  {
   "cell_type": "code",
   "execution_count": 299,
   "metadata": {},
   "outputs": [
    {
     "data": {
      "image/png": "[encoded data removed]",
      "text/plain": [
       "<Figure size 432x288 with 1 Axes>"
      ]
     },
     "metadata": {
      "needs_background": "light"
     },
     "output_type": "display_data"
    }
   ],
   "source": [
    "fig3,ax3 = plt.subplots()\n",
    "ax3.plot(n,IntegralTotal2,'r*',label=\"Improved GQ\")\n",
    "ax3.plot(n,IntegralTotal,'g*',label=\"GQ\")\n",
    "ax3.axhline(y=5*np.pi**2/(16**2),label=\"Analytical value\")\n",
    "ax3.grid(alpha=0.3)\n",
    "ax3.set_xlabel(\"Number of integration points, N\")\n",
    "ax3.set_ylabel(\"Value of integral\")\n",
    "ax3.legend()\n",
    "plt.savefig(\"GQandImprovedGQ.png\",format=\"PNG\",dpi=300)\n",
    "plt.show()"
   ]
  },
  {
   "cell_type": "markdown",
   "metadata": {},
   "source": [
    "**Printing out the values:**"
   ]
  },
  {
   "cell_type": "code",
   "execution_count": 300,
   "metadata": {},
   "outputs": [
    {
     "name": "stdout",
     "output_type": "stream",
     "text": [
      "[5, 7, 11, 17, 23, 25, 31, 33]\n",
      "GQ:  [0.12220851 0.24536729 0.32274001 0.26564817 0.22177484 0.21336473\n",
      " 0.19887355 0.19627595]\n",
      "Improved GQ:  [0.17049197 0.15442207 0.18302187 0.19439573 0.19481241 0.19480424\n",
      " 0.19477176 0.19475479]\n"
     ]
    }
   ],
   "source": [
    "print(n)\n",
    "print(\"GQ: \",IntegralTotal)\n",
    "print(\"Improved GQ: \",IntegralTotal2)"
   ]
  },
  {
   "cell_type": "markdown",
   "metadata": {},
   "source": [
    "**Calculating and plotting the error:**"
   ]
  },
  {
   "cell_type": "code",
   "execution_count": 319,
   "metadata": {},
   "outputs": [
    {
     "data": {
      "image/png": "[encoded data removed]",
      "text/plain": [
       "<Figure size 432x288 with 1 Axes>"
      ]
     },
     "metadata": {
      "needs_background": "light"
     },
     "output_type": "display_data"
    }
   ],
   "source": [
    "AnalyticalValue = 5*np.pi**2/(16**2)\n",
    "ErrorGaussQuad = AnalyticalValue - IntegralTotal\n",
    "ErrorGaussQuadImproved = AnalyticalValue - IntegralTotal2\n",
    "fig5,ax5 = plt.subplots()\n",
    "ax5.plot(n,abs(ErrorGaussQuadImproved),'r*',label=\"Improved GQ\")\n",
    "ax5.plot(n,abs(ErrorGaussQuad),'g*',label=\"GQ\")\n",
    "ax5.grid(alpha=0.3)\n",
    "ax5.set_ylabel(\"|Error|\")\n",
    "ax5.set_xlabel(\"Number of integration points, N\")\n",
    "plt.yscale(\"log\")\n",
    "ax5.legend(loc=\"upper right\")\n",
    "plt.savefig(\"GaussQuadError.png\",format=\"PNG\",dpi=300)\n",
    "plt.show()"
   ]
  },
  {
   "cell_type": "markdown",
   "metadata": {},
   "source": [
    "**Print the error:**"
   ]
  },
  {
   "cell_type": "code",
   "execution_count": 302,
   "metadata": {},
   "outputs": [
    {
     "name": "stdout",
     "output_type": "stream",
     "text": [
      "GQ:  [0.0705572  0.05260158 0.1299743  0.07288246 0.02900913 0.02059902\n",
      " 0.00610784 0.00351024]\n",
      "Improved GQ:  [0.02227374 0.03834364 0.00974385 0.00163002 0.0020467  0.00203852\n",
      " 0.00200605 0.00198908]\n"
     ]
    }
   ],
   "source": [
    "print(\"GQ: \",abs(ErrorGaussQuad))\n",
    "print(\"Improved GQ: \",abs(ErrorGaussQuadImproved))"
   ]
  },
  {
   "cell_type": "markdown",
   "metadata": {},
   "source": [
    "# Monte Carlo Methods:"
   ]
  },
  {
   "cell_type": "markdown",
   "metadata": {},
   "source": [
    "**Now we start implementing Monte Carlo Methods: First we use a brute force approach and integrate in cartesian coordinates.**"
   ]
  },
  {
   "cell_type": "code",
   "execution_count": 251,
   "metadata": {},
   "outputs": [],
   "source": [
    "#random number generator\n",
    "@jit(nopython=True)\n",
    "def MonteCarloInt(N,a,b):\n",
    "    functionValue = 0\n",
    "    Sigma_contr = 0\n",
    "    #calculating Jacobi determinant\n",
    "    JBdeter = (b-a)**6\n",
    "    #N - number of iterations, takes in a function on an interval [a,b]\n",
    "    for i in range(N):\n",
    "        #generating random numbers using numpy on [0,1) and the use a mapping to project onto [a,b]\n",
    "        randx1 = np.random.random()\n",
    "        randx1 = a + (b-a)*randx1\n",
    "        randx2 = np.random.random()\n",
    "        randx2 = a + (b-a)*randx2\n",
    "        randy1 = np.random.random()\n",
    "        randy1 = a + (b-a)*randy1\n",
    "        randy2 = np.random.random()\n",
    "        randy2 = a + (b-a)*randy2\n",
    "        randz1 = np.random.random()\n",
    "        randz1 = a + (b-a)*randz1\n",
    "        randz2 = np.random.random()\n",
    "        randz2 = a + (b-a)*randz2\n",
    "        #contribution to function value\n",
    "        funcTemp = WaveFunctionPos(randx1,randy1,randz1,randx2,randy2,randz2)\n",
    "        functionValue += funcTemp\n",
    "        #contribution to variance and std\n",
    "        Sigma_contr += funcTemp**2\n",
    "        \n",
    "    #Average value\n",
    "    Integral = functionValue/N\n",
    "    sum2 = Integral\n",
    "    Integral = Integral*JBdeter\n",
    "    #Variance\n",
    "    Sigma_contr = Sigma_contr/N\n",
    "    sum2 = sum2/N\n",
    "    Variance = (JBdeter**2)*((Sigma_contr - sum2**2)/N)\n",
    "    #Standard Deviation\n",
    "    StandardDev = np.sqrt(Variance)\n",
    "    return Integral, Variance, StandardDev"
   ]
  },
  {
   "cell_type": "code",
   "execution_count": 249,
   "metadata": {},
   "outputs": [],
   "source": [
    "#Sampling for different number of iterations\n",
    "M = [1000,10e3,10e4,10e5,10e6,10e7]\n",
    "Integral3 = np.zeros(len(M))\n",
    "Variance3 = np.zeros(len(M))\n",
    "StandardDev3 = np.zeros(len(M))\n",
    "Timer3 = np.zeros(len(M))\n",
    "counter = 0\n",
    "for N in M:\n",
    "    start = time.time()#Timing each run\n",
    "    Integral3temp, Variance3temp, StandardDev3temp = MonteCarloInt(N,-3,3)\n",
    "    end = time.time()\n",
    "    Timer3[counter] = end-start\n",
    "    Integral3[counter] = Integral3temp\n",
    "    Variance3[counter] = Variance3temp\n",
    "    StandardDev3[counter] = StandardDev3temp\n",
    "    counter += 1"
   ]
  },
  {
   "cell_type": "markdown",
   "metadata": {},
   "source": [
    "## Monte Carlo with importance sampling:"
   ]
  },
  {
   "cell_type": "markdown",
   "metadata": {},
   "source": [
    "**We now cast our problem onto spherical cordinates and use the fact that we have an exponential term in our integrand:**\n",
    "\n",
    "For this we use the exponential distribution"
   ]
  },
  {
   "cell_type": "code",
   "execution_count": 303,
   "metadata": {},
   "outputs": [],
   "source": [
    "@jit(nopython=True)\n",
    "def MonteCarloIntImproved(N,aTheta,bTheta,aPhi,bPhi):\n",
    "    functionValue = 0\n",
    "    SigmaContr = 0\n",
    "    #calculating Jacobi determinant\n",
    "    JBdeter = ((bTheta-aTheta)**2)*((bPhi-aPhi)**2)\n",
    "    #N - number of iterations, takes in a function on an interval [a,b]\n",
    "    for i in range(N):\n",
    "        #generating random numbers using numpy on [0,1) for the angles and mapping to interval [a,b]\n",
    "        randTheta1 = np.random.random()\n",
    "        randTheta1 = aTheta + (bTheta-aTheta)*randTheta1\n",
    "        randTheta2 = np.random.random()\n",
    "        randTheta2 = aTheta + (bTheta-aTheta)*randTheta2\n",
    "        randPhi1 = np.random.random()\n",
    "        randPhi1 = aPhi + (bPhi-aPhi)*randPhi1\n",
    "        randPhi2 = np.random.random()\n",
    "        randPhi2 = aPhi + (bPhi-aPhi)*randPhi2\n",
    "        #generating random numbers using numpy with the exponential PDF on an interval [0,inf) for the radial part\n",
    "        randr1 = np.random.exponential(scale=1.0)\n",
    "        randr2 = np.random.exponential(scale=1.0)\n",
    "        #Function value\n",
    "        FuncTemp = WaveFuncPolarMC(randr1,randr2,randTheta1,randTheta2,randPhi1,randPhi2)\n",
    "        functionValue += FuncTemp\n",
    "        #Variance\n",
    "        SigmaContr += FuncTemp**2\n",
    "    \n",
    "    #Average value\n",
    "    Integral = functionValue/N\n",
    "    sum2 = Integral\n",
    "    #SigmaTemp = Integral\n",
    "    Integral = Integral*JBdeter\n",
    "    #Variance\n",
    "    SigmaContr = SigmaContr/N\n",
    "    sum2 = sum2/N\n",
    "    Variance = (JBdeter**2)*((SigmaContr - sum2**2)/N)\n",
    "    #Standard Deviation\n",
    "    StandardDev = np.sqrt(Variance)\n",
    "\n",
    "    return Integral, Variance, StandardDev"
   ]
  },
  {
   "cell_type": "markdown",
   "metadata": {},
   "source": [
    "**Calculating the result using MC with importance sampling:**"
   ]
  },
  {
   "cell_type": "code",
   "execution_count": 257,
   "metadata": {},
   "outputs": [],
   "source": [
    "#Sampling for different number of iterations\n",
    "M = [1000,10e3,10e4,10e5,10e6,10e7]\n",
    "Integral5 = np.zeros(len(M))\n",
    "Variance5 = np.zeros(len(M))\n",
    "StandardDev5 = np.zeros(len(M))\n",
    "Timer5 = np.zeros(len(M))\n",
    "counter = 0\n",
    "for N in M:\n",
    "    start = time.time()\n",
    "    Integral5temp, Variance5temp, StandardDev5temp = MonteCarloIntImproved(N,0,np.pi,0,2*np.pi)\n",
    "    end = time.time()\n",
    "    Timer5[counter] = end-start\n",
    "    Integral5[counter] = Integral5temp\n",
    "    Variance5[counter] = Variance5temp\n",
    "    StandardDev5[counter] = StandardDev5temp\n",
    "    counter += 1"
   ]
  },
  {
   "cell_type": "markdown",
   "metadata": {},
   "source": [
    "## Improved Monte Carlo with parallelization, Numba:\n",
    "\n",
    "We now use the fact that the MC method is easily parallilzed and for the we use the package numba"
   ]
  },
  {
   "cell_type": "code",
   "execution_count": 304,
   "metadata": {},
   "outputs": [],
   "source": [
    "#Function that does the same as the MC function with importance sampling but using parallelization\n",
    "@jit(nopython=True,parallel=True)\n",
    "def MonteCarloIntImprovedOpt(N,aTheta,bTheta,aPhi,bPhi,Time):\n",
    "    N = int(N/4)#to split up between threads\n",
    "    SigmaContr = 0\n",
    "    #calculating Jacobi determinant\n",
    "    JBdeter = ((bTheta-aTheta)**2)*((bPhi-aPhi)**2)\n",
    "    ThreadNumber = numba.config.NUMBA_DEFAULT_NUM_THREADS#Finding number of threads to split up task\n",
    "    functionValue = np.zeros(ThreadNumber)\n",
    "    #N - number of iterations, takes in a function on an interval [a,b]\n",
    "    for l in prange(ThreadNumber):\n",
    "        np.random.seed(Time*(l+1))#Seeding differently for each thread if they start at the same time\n",
    "        for i in range(N):\n",
    "            #generating random numbers using numpy on [0,1)\n",
    "            #theta1\n",
    "            randTheta1 = np.random.random()\n",
    "            randTheta1 = aTheta + (bTheta-aTheta)*randTheta1\n",
    "            #theta2\n",
    "            randTheta2 = np.random.random()\n",
    "            randTheta2 = aTheta + (bTheta-aTheta)*randTheta2\n",
    "            #Phi1\n",
    "            randPhi1 = np.random.random()\n",
    "            randPhi1 = aPhi + (bPhi-aPhi)*randPhi1\n",
    "            #Phi2\n",
    "            randPhi2 = np.random.random()\n",
    "            randPhi2 = aPhi + (bPhi-aPhi)*randPhi2\n",
    "            #generating random number using exponential PDF for the radial part\n",
    "            #r1\n",
    "            randr1 = np.random.exponential(scale=1.0)\n",
    "            #r2\n",
    "            randr2 = np.random.exponential(scale=1.0)\n",
    "            #function value\n",
    "            funcTemp = WaveFuncPolarMC(randr1,randr2,randTheta1,randTheta2,randPhi1,randPhi2)\n",
    "            functionValue[l] += funcTemp\n",
    "            SigmaContr += funcTemp**2\n",
    "            \n",
    "    #Average value\n",
    "    Integral = np.sum(functionValue)\n",
    "    sum2 = Integral\n",
    "    Integral = Integral/(4*N)\n",
    "    Integral = Integral*JBdeter\n",
    "    #Variance\n",
    "    SigmaContr = SigmaContr/(4*N)\n",
    "    sum2 = sum2/(4*N)\n",
    "    Variance = (JBdeter**2)*((SigmaContr - sum2**2)/N)\n",
    "    #Standard Deviation\n",
    "    StandardDev = np.sqrt(Variance)\n",
    "    \n",
    "    return Integral, Variance, StandardDev"
   ]
  },
  {
   "cell_type": "code",
   "execution_count": 283,
   "metadata": {},
   "outputs": [],
   "source": [
    "#Sampling for the optimezed MonteCarlo with paralellization\n",
    "Time = time.time()\n",
    "M = [1000,10e3,10e4,10e5,10e6,10e7]\n",
    "Integral6 = np.zeros(len(M))\n",
    "Variance6 = np.zeros(len(M))\n",
    "StandardDev6 = np.zeros(len(M))\n",
    "Timer6 = np.zeros(len(M))\n",
    "counter = 0\n",
    "for N in M:\n",
    "    start = time.time()\n",
    "    Integral6temp, Variance6temp, StandardDev6temp = MonteCarloIntImprovedOpt(N,0,np.pi,0,2*np.pi,Time)\n",
    "    end = time.time()\n",
    "    Timer6[counter] = end-start\n",
    "    Integral6[counter] = Integral6temp\n",
    "    Variance6[counter] = Variance6temp\n",
    "    StandardDev6[counter] = StandardDev6temp\n",
    "    counter += 1"
   ]
  },
  {
   "cell_type": "code",
   "execution_count": 284,
   "metadata": {},
   "outputs": [
    {
     "name": "stdout",
     "output_type": "stream",
     "text": [
      "[0.19186693 0.19805423 0.19463211 0.19315981 0.19286329 0.19278904] [0.02325287 0.00788695 0.00265191 0.00081167 0.00025847 0.00008143]\n",
      "0.19276571095877654\n"
     ]
    }
   ],
   "source": [
    "print(Integral6, StandardDev6)\n",
    "print(AnalyticalValue)"
   ]
  },
  {
   "cell_type": "markdown",
   "metadata": {},
   "source": [
    "**Plotting brute force Monte Carlo vs Monte Carlo with importance sampling:**"
   ]
  },
  {
   "cell_type": "code",
   "execution_count": 315,
   "metadata": {},
   "outputs": [
    {
     "data": {
      "image/png": "[encoded data removed]",
      "text/plain": [
       "<Figure size 432x288 with 1 Axes>"
      ]
     },
     "metadata": {
      "needs_background": "light"
     },
     "output_type": "display_data"
    }
   ],
   "source": [
    "fig6,ax6 = plt.subplots()\n",
    "ax6.plot(M,Integral3,'+',ms=10,label=\"Brute force Monte Carlo\")\n",
    "ax6.plot(M,Integral5,'+',ms=10,label=\"Monte Carlo w. importance sampling\")\n",
    "ax6.axhline(y=5*np.pi**2/(16**2),c='g',label=\"Analytical value\")\n",
    "ax6.legend()\n",
    "plt.xscale(\"log\")\n",
    "ax6.set_xlabel(\"Number of iterations, N\")\n",
    "ax6.set_ylabel(\"Integral Value\")\n",
    "ax6.grid(alpha=0.3)\n",
    "plt.savefig(\"MonteCarloComparison.png\",format=\"png\",dpi=300)"
   ]
  },
  {
   "cell_type": "markdown",
   "metadata": {},
   "source": [
    "**Print out values:**"
   ]
  },
  {
   "cell_type": "code",
   "execution_count": 306,
   "metadata": {},
   "outputs": [
    {
     "name": "stdout",
     "output_type": "stream",
     "text": [
      "Brute Force:  [0.56497764 0.06170277 0.1758335  0.21646774 0.18991891 0.19546554]\n",
      "Brute Force:  [0.32011648 0.01571785 0.05947085 0.03018525 0.00809075 0.00392256]\n",
      "Importance Sampling [0.17618565 0.19259224 0.19184081 0.19300942 0.19256837 0.19275255]\n",
      "Importance Sampling [0.01275696 0.00445128 0.00142621 0.00045608 0.00014205 0.00004514]\n",
      "100\n"
     ]
    }
   ],
   "source": [
    "np.set_printoptions(suppress=True)\n",
    "#No importance sampling\n",
    "print(\"Brute Force: \",Integral3)\n",
    "print(\"Brute Force: \",StandardDev3)\n",
    "#Importance sampling\n",
    "print(\"Importance Sampling\", Integral5)\n",
    "print(\"Importance Sampling\", StandardDev5)\n",
    "print(10**2)"
   ]
  },
  {
   "cell_type": "markdown",
   "metadata": {},
   "source": [
    "**Calculating Error against anaytical value:**"
   ]
  },
  {
   "cell_type": "code",
   "execution_count": 316,
   "metadata": {},
   "outputs": [
    {
     "data": {
      "image/png": "[encoded data removed]",
      "text/plain": [
       "<Figure size 432x288 with 1 Axes>"
      ]
     },
     "metadata": {
      "needs_background": "light"
     },
     "output_type": "display_data"
    }
   ],
   "source": [
    "ErrorBruteMC = AnalyticalValue - Integral3\n",
    "ErrorMCImportance = AnalyticalValue - Integral5\n",
    "#plotting\n",
    "fig7,ax7 = plt.subplots()\n",
    "ax7.plot(M,abs(ErrorBruteMC),'+',ms=10,label=\"Brute force MC\")\n",
    "ax7.plot(M,abs(ErrorMCImportance),'+',ms=10,label=\"Imp. samp. MC\")\n",
    "plt.xscale(\"log\")\n",
    "plt.yscale(\"log\")\n",
    "ax7.grid(alpha=0.3)\n",
    "ax7.legend()\n",
    "ax7.set_ylabel(\"|Error|\")\n",
    "ax7.set_xlabel(\"Number of iterations, N\")\n",
    "plt.savefig(\"MC_comparison_error.png\",format=\"PNG\",dpi=300)"
   ]
  },
  {
   "cell_type": "markdown",
   "metadata": {},
   "source": [
    "**Looking at time difference for parallelization vs no parallelization:**"
   ]
  },
  {
   "cell_type": "code",
   "execution_count": 320,
   "metadata": {},
   "outputs": [
    {
     "data": {
      "image/png": "[encoded data removed]",
      "text/plain": [
       "<Figure size 432x288 with 1 Axes>"
      ]
     },
     "metadata": {
      "needs_background": "light"
     },
     "output_type": "display_data"
    }
   ],
   "source": [
    "fig8, ax8 = plt.subplots()\n",
    "ax8.plot(M,Timer5,'r+',ms=10,label=\"No parallelization\")\n",
    "ax8.plot(M,Timer6,'b+',ms=10,label=\"Parallelization\")\n",
    "plt.xscale(\"log\")\n",
    "ax8.grid(alpha=0.3)\n",
    "ax8.set_xlabel(\"Number of iterations, N\")\n",
    "ax8.set_ylabel(\"Time [s]\")\n",
    "ax8.legend()\n",
    "plt.savefig(\"TimeComparison.png\",format=\"PNG\",dpi=300)\n",
    "plt.show()"
   ]
  }
 ],
 "metadata": {
  "kernelspec": {
   "display_name": "Python 3",
   "language": "python",
   "name": "python3"
  },
  "language_info": {
   "codemirror_mode": {
    "name": "ipython",
    "version": 3
   },
   "file_extension": ".py",
   "mimetype": "text/x-python",
   "name": "python",
   "nbconvert_exporter": "python",
   "pygments_lexer": "ipython3",
   "version": "3.6.5"
  }
 },
 "nbformat": 4,
 "nbformat_minor": 2
}
