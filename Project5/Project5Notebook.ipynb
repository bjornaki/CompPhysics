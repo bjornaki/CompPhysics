{
 "cells": [
  {
   "cell_type": "code",
   "execution_count": 2,
   "metadata": {},
   "outputs": [],
   "source": [
    "import numpy as np\n",
    "import matplotlib.pyplot as plt \n",
    "from numba import jit, njit, vectorize\n",
    "import time"
   ]
  },
  {
   "cell_type": "markdown",
   "metadata": {},
   "source": [
    "## Defining functions that we need:"
   ]
  },
  {
   "cell_type": "code",
   "execution_count": 180,
   "metadata": {},
   "outputs": [],
   "source": [
    "#Trial energy 1\n",
    "def TrialEnergy1(alpha,omega,r1,r2):\n",
    "    return 0.5*omega**2*(r1**2 + r2**2)*(1 - alpha**2) + 3*omega*alpha\n",
    "\n",
    "@vectorize#By far the quickest of the three\n",
    "def TrialEnergy1Vec(alpha,omega,r1,r2):\n",
    "    #r1 = np.sqrt(x1**2 + y1**2 + z1**2)\n",
    "    #r2 = np.sqrt(x2**2 + y2**2 + z2**2)\n",
    "    return 0.5*omega**2*(r1**2 + r2**2)*(1 - alpha**2) + 3*omega*alpha\n",
    "\n",
    "@jit(nopython=True)\n",
    "def TrialEnergyJIT(alpha,omega,r1,r2):\n",
    "    return 0.5*(omega**2)*(r1**2 + r2**2)*(1 - alpha**2) + 3*omega*alpha\n",
    "\n",
    "@jit\n",
    "def TrialWaveFunction1(alpha,omega,x1,y1,z1,x2,y2,z2):\n",
    "    r1 = np.sqrt(x1**2 + y1**2 + z1**2)\n",
    "    r2 = np.sqrt(x2**2 + y2**2 + z2**2)\n",
    "    return np.exp(-alpha*omega*(r1**2 + r2**2)/2)"
   ]
  },
  {
   "cell_type": "code",
   "execution_count": 198,
   "metadata": {},
   "outputs": [
    {
     "name": "stdout",
     "output_type": "stream",
     "text": [
      "6.0\n"
     ]
    }
   ],
   "source": [
    "alpha = 2\n",
    "trialEnergyTemp = TrialEnergyJIT(alpha,1,0,0)\n",
    "print(trialEnergyTemp)"
   ]
  },
  {
   "cell_type": "markdown",
   "metadata": {},
   "source": [
    "## Monte Carlo and Metropolis algo:"
   ]
  },
  {
   "cell_type": "code",
   "execution_count": 181,
   "metadata": {},
   "outputs": [],
   "source": [
    "#Probability ratio\n",
    "@jit\n",
    "def ProbRatio(Rold,Rnew,alpha,omega):#Rold and Rnew as an array\n",
    "    new = TrialWaveFunction1(alpha,omega,Rnew[0],Rnew[1],Rnew[2],Rnew[3],Rnew[4],Rnew[5])\n",
    "    new = new**2\n",
    "    old = TrialWaveFunction1(alpha,omega,Rold[0],Rold[1],Rold[2],Rold[3],Rold[4],Rold[5])\n",
    "    old = old**2\n",
    "    return new/old\n",
    "\n",
    "#Metropolis part\n",
    "@jit\n",
    "def Metropolis(Rold,Rnew,alpha,omega):\n",
    "    Acceptance = False\n",
    "    probRatio = ProbRatio(Rold,Rnew,alpha,omega)\n",
    "    if probRatio > 1:\n",
    "        Acceptance = True\n",
    "    elif np.random.random() <= probRatio:\n",
    "        Acceptance = True\n",
    "    else:\n",
    "        Acceptance = False\n",
    "    return Acceptance"
   ]
  },
  {
   "cell_type": "code",
   "execution_count": 156,
   "metadata": {},
   "outputs": [
    {
     "name": "stdout",
     "output_type": "stream",
     "text": [
      "False\n",
      "[2 3 4]\n"
     ]
    }
   ],
   "source": [
    "R1 = np.array([1,1,1,1,1,1])\n",
    "R2 = np.array([2,2,2,2,2,2])\n",
    "alpha = 1\n",
    "omega = 1\n",
    "print(Metropolis(R1,R2,alpha,omega))\n",
    "\n",
    "a = np.array([1,2,3])\n",
    "print(a+1)"
   ]
  },
  {
   "cell_type": "code",
   "execution_count": 227,
   "metadata": {},
   "outputs": [],
   "source": [
    "#Monte Carlo part\n",
    "@jit(nopython=True)\n",
    "def MonteCarlo(MCCycles,omega,alpha,stepsize):\n",
    "    #initalizing position randomly according to exponetial distribution\n",
    "    x1 = np.random.exponential()\n",
    "    y1 = np.random.exponential()\n",
    "    z1 = np.random.exponential()\n",
    "    x2 = np.random.exponential()\n",
    "    y2 = np.random.exponential()\n",
    "    z2 = np.random.exponential()\n",
    "    r1 = np.sqrt(x1**2 + y1**2 + z1**2)\n",
    "    r2 = np.sqrt(x2**2 + y2**2 + z2**2)\n",
    "    Rold = np.array([x1,y1,z1,x2,y2,z2])\n",
    "    Energy = TrialEnergy1Vec(alpha,omega,r1,r2)\n",
    "    #Step size for proposed steps\n",
    "    DeltaR = stepsize\n",
    "    #Counter for how many steps are accepted\n",
    "    CounterAccept = 0\n",
    "    #looping over MC cycles\n",
    "    for i in range(MCCycles):\n",
    "        #looping over each position, in total 6\n",
    "        for l in range(6):\n",
    "            randnum = (1+1)*np.random.random() - 1#creating random number on [-1,1]\n",
    "            Rnew = np.copy(Rold)\n",
    "            Rnew[l] = Rold[l] + randnum*DeltaR#The proposed move for each coordinate at a time\n",
    "            #Metropolis test\n",
    "            Acceptance = Metropolis(Rold,Rnew,alpha,omega)\n",
    "            if Acceptance:#Moving the coordinates if the move is accepted\n",
    "                Rold = Rnew\n",
    "                CounterAccept += 1\n",
    "        r1 = np.sqrt(Rold[0]**2 + Rold[1]**2 + Rold[2]**2)\n",
    "        r2 = np.sqrt(Rold[3]**2 + Rold[4]**2 + Rold[5]**2)\n",
    "        Energy += TrialEnergyJIT(alpha,omega,r1,r2)\n",
    "\n",
    "    #End of MC loop\n",
    "    #Analysis of relevant parameters\n",
    "    Energy = Energy/MCCycles\n",
    "    \n",
    "    return Energy, CounterAccept/6"
   ]
  },
  {
   "cell_type": "markdown",
   "metadata": {},
   "source": [
    "## Trial of the MC calculations:"
   ]
  },
  {
   "cell_type": "code",
   "execution_count": 242,
   "metadata": {},
   "outputs": [
    {
     "name": "stdout",
     "output_type": "stream",
     "text": [
      "49952.5\n",
      "40756.5\n",
      "35192.666666666664\n",
      "31133.333333333332\n",
      "29633.833333333332\n",
      "27076.0\n",
      "25093.833333333332\n",
      "23635.5\n",
      "22165.0\n",
      "20963.666666666668\n"
     ]
    },
    {
     "data": {
      "image/png": "[encoded data removed]",
      "text/plain": [
       "<Figure size 432x288 with 1 Axes>"
      ]
     },
     "metadata": {
      "needs_background": "light"
     },
     "output_type": "display_data"
    }
   ],
   "source": [
    "alpha = [0.3,0.5,0.7,0.9,1,1.2,1.4,1.6,1.8,2.0]\n",
    "fig, ax = plt.subplots()\n",
    "for alphaTemp in alpha:\n",
    "    Energy, Counter = MonteCarlo(100000,1,alphaTemp,3.8)\n",
    "    print(Counter)\n",
    "    ax.plot(alphaTemp,Energy,'r*')"
   ]
  },
  {
   "cell_type": "markdown",
   "metadata": {},
   "source": [
    "**Device a way to find the optimal step length for each alpha so that acceptance rate is around 50%**"
   ]
  },
  {
   "cell_type": "code",
   "execution_count": 241,
   "metadata": {},
   "outputs": [
    {
     "name": "stdout",
     "output_type": "stream",
     "text": [
      "[0.   0.05 0.1  0.15 0.2  0.25 0.3  0.35 0.4  0.45 0.5  0.55 0.6  0.65\n",
      " 0.7  0.75 0.8  0.85 0.9  0.95 1.   1.05 1.1  1.15 1.2  1.25 1.3  1.35\n",
      " 1.4  1.45 1.5  1.55 1.6  1.65 1.7  1.75 1.8  1.85 1.9  1.95 2.   2.05\n",
      " 2.1  2.15 2.2  2.25 2.3  2.35 2.4  2.45 2.5  2.55 2.6  2.65 2.7  2.75\n",
      " 2.8  2.85 2.9  2.95 3.   3.05 3.1  3.15 3.2  3.25 3.3  3.35 3.4  3.45\n",
      " 3.5  3.55 3.6  3.65 3.7  3.75 3.8  3.85 3.9  3.95 4.   4.05 4.1  4.15\n",
      " 4.2  4.25 4.3  4.35 4.4  4.45 4.5  4.55 4.6  4.65 4.7  4.75 4.8  4.85\n",
      " 4.9  4.95 5.   5.05 5.1  5.15 5.2  5.25 5.3  5.35 5.4  5.45 5.5  5.55\n",
      " 5.6  5.65 5.7  5.75 5.8  5.85 5.9  5.95 6.   6.05 6.1  6.15 6.2  6.25\n",
      " 6.3  6.35 6.4  6.45 6.5  6.55 6.6  6.65 6.7  6.75 6.8  6.85 6.9  6.95\n",
      " 7.   7.05 7.1  7.15 7.2  7.25 7.3  7.35 7.4  7.45 7.5  7.55 7.6  7.65\n",
      " 7.7  7.75 7.8  7.85 7.9  7.95]\n",
      "3.7\n",
      "3.75\n",
      "3.8000000000000003\n",
      "3.85\n",
      "3.9000000000000004\n"
     ]
    },
    {
     "data": {
      "image/png": "[encoded data removed]",
      "text/plain": [
       "<Figure size 432x288 with 1 Axes>"
      ]
     },
     "metadata": {
      "needs_background": "light"
     },
     "output_type": "display_data"
    }
   ],
   "source": [
    "stepsize = np.arange(0,8,0.05)\n",
    "print(stepsize)\n",
    "alpha = 0.3\n",
    "fig2, ax2 = plt.subplots()\n",
    "for i in stepsize:\n",
    "    Energy, Counter = MonteCarlo(10000,1,alpha,i)\n",
    "    if (Counter >= 4900) and (Counter <= 5100):\n",
    "        print(i)\n",
    "    ax2.plot(i,Counter,'r*')"
   ]
  },
  {
   "cell_type": "markdown",
   "metadata": {},
   "source": [
    "**Algorithm that takes care of this in a brute force way:**"
   ]
  },
  {
   "cell_type": "code",
   "execution_count": 254,
   "metadata": {},
   "outputs": [],
   "source": [
    "def FindStepsize(stepsize,alpha):\n",
    "    MCCycles = 10000\n",
    "    M = len(alpha)\n",
    "    StepSize = np.zeros(M)\n",
    "    counter = 0\n",
    "    for i in alpha:\n",
    "        StepTemp = []\n",
    "        for l in stepsize:\n",
    "            Energy, Counter = MonteCarlo(10000,1,i,l)\n",
    "            if (Counter >= 4900) and (Counter <= 5100):\n",
    "                StepTemp.append(l)\n",
    "        StepSize[counter] = np.median(StepTemp)\n",
    "        counter += 1\n",
    "        \n",
    "    return StepSize"
   ]
  },
  {
   "cell_type": "code",
   "execution_count": 249,
   "metadata": {},
   "outputs": [
    {
     "name": "stdout",
     "output_type": "stream",
     "text": [
      "4.5\n"
     ]
    }
   ],
   "source": [
    "a = [1,2,3,4,5,6,6,6]\n",
    "print(np.median(a))"
   ]
  },
  {
   "cell_type": "code",
   "execution_count": 255,
   "metadata": {},
   "outputs": [
    {
     "name": "stdout",
     "output_type": "stream",
     "text": [
      "[0.2 0.4 0.6 0.8 1.  1.2 1.4 1.6 1.8]\n"
     ]
    }
   ],
   "source": [
    "#Trial\n",
    "stepsize = np.arange(0,8,0.05)\n",
    "alpha = np.arange(0.2,2,0.2)\n",
    "print(alpha)\n",
    "StepSize = FindStepsize(stepsize,alpha)"
   ]
  },
  {
   "cell_type": "code",
   "execution_count": 256,
   "metadata": {},
   "outputs": [
    {
     "name": "stdout",
     "output_type": "stream",
     "text": [
      "[4.65  3.3   2.675 2.35  2.075 1.9   1.75  1.65  1.525]\n"
     ]
    }
   ],
   "source": [
    "print(StepSize)"
   ]
  },
  {
   "cell_type": "code",
   "execution_count": 258,
   "metadata": {},
   "outputs": [
    {
     "name": "stdout",
     "output_type": "stream",
     "text": [
      "49860.166666666664\n",
      "49886.833333333336\n",
      "50146.0\n",
      "49677.333333333336\n",
      "50060.333333333336\n",
      "49977.666666666664\n",
      "50155.166666666664\n",
      "49797.666666666664\n",
      "50619.833333333336\n"
     ]
    },
    {
     "data": {
      "image/png": "[encoded data removed]",
      "text/plain": [
       "<Figure size 432x288 with 1 Axes>"
      ]
     },
     "metadata": {
      "needs_background": "light"
     },
     "output_type": "display_data"
    }
   ],
   "source": [
    "fig3, ax3 = plt.subplots()\n",
    "for i in range(len(alpha)):\n",
    "    stepTemp = StepSize[i]\n",
    "    alphaTemp = alpha[i]\n",
    "    Energy, Counter = MonteCarlo(100000,1,alphaTemp,stepTemp)\n",
    "    print(Counter)\n",
    "    ax3.plot(alphaTemp,Energy,'r*')"
   ]
  }
 ],
 "metadata": {
  "kernelspec": {
   "display_name": "Python 3",
   "language": "python",
   "name": "python3"
  },
  "language_info": {
   "codemirror_mode": {
    "name": "ipython",
    "version": 3
   },
   "file_extension": ".py",
   "mimetype": "text/x-python",
   "name": "python",
   "nbconvert_exporter": "python",
   "pygments_lexer": "ipython3",
   "version": "3.6.5"
  }
 },
 "nbformat": 4,
 "nbformat_minor": 2
}
