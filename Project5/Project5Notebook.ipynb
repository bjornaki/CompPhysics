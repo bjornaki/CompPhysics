{
 "cells": [
  {
   "cell_type": "code",
   "execution_count": 1172,
   "metadata": {},
   "outputs": [],
   "source": [
    "import numpy as np\n",
    "import matplotlib.pyplot as plt \n",
    "plt.rcParams.update({'font.size': 16})\n",
    "from numba import jit, njit, vectorize\n",
    "import time\n",
    "from IPython.core.debugger import set_trace\n",
    "from scipy.signal import savgol_filter"
   ]
  },
  {
   "cell_type": "markdown",
   "metadata": {},
   "source": [
    "## Defining functions that we need:"
   ]
  },
  {
   "cell_type": "code",
   "execution_count": 907,
   "metadata": {},
   "outputs": [],
   "source": [
    "@vectorize\n",
    "def TrialEnergy1Vec(alpha,omega,r1,r2):\n",
    "    #r1 = np.sqrt(x1**2 + y1**2 + z1**2)\n",
    "    #r2 = np.sqrt(x2**2 + y2**2 + z2**2)\n",
    "    return 0.5*omega**2*(r1**2 + r2**2)*(1 - alpha**2) + 3*omega*alpha\n",
    "\n",
    "@jit(nopython=True)\n",
    "def TrialEnergyJIT(alpha,omega,r1,r2):\n",
    "    return 0.5*(omega**2)*(r1**2 + r2**2)*(1 - alpha**2) + 3*omega*alpha\n",
    "\n",
    "@jit(nopython=True)\n",
    "def TrialEnergyJITwithCoulomb(alpha,omega,x1,y1,z1,x2,y2,z2):\n",
    "    r1 = np.sqrt(x1**2 + y1**2 + z1**2)\n",
    "    r2 = np.sqrt(x2**2 + y2**2 + z2**2)\n",
    "    r_12 = np.sqrt((x1-x2)**2 + (y1-y2)**2 + (z1-z2)**2)\n",
    "    if abs(r_12) <= 1e-12:\n",
    "        return 0\n",
    "    else:\n",
    "        return 0.5*(omega**2)*(r1**2 + r2**2)*(1 - alpha**2) + 3*omega*alpha + 1/r_12\n",
    "    \n",
    "#Trial energy for the seconds trial wave function\n",
    "@jit(nopython=True)\n",
    "def TrialEnergy2JIT(alpha,beta,omega,x1,y1,z1,x2,y2,z2):\n",
    "    r1 = np.sqrt(x1**2 + y1**2 + z1**2)\n",
    "    r2 = np.sqrt(x2**2 + y2**2 + z2**2)\n",
    "    r_12 = np.sqrt((x1-x2)**2 + (y1-y2)**2 + (z1-z2)**2)\n",
    "    TrialEnergy1 = TrialEnergyJITwithCoulomb(alpha,omega,x1,y1,z1,x2,y2,z2)\n",
    "    if abs(r_12) <= 1e-12:\n",
    "        return 0\n",
    "    else:\n",
    "        temp1 = 1/(2*(1 + beta*r_12)**2)\n",
    "        temp2 = alpha*omega*r_12\n",
    "        temp3 = 1/(2*((1 + beta*r_12))**2)\n",
    "        temp4 = (2*beta)/(1 + beta*r_12)\n",
    "        TrialEnergy2Partial = temp1*(temp2 - temp3 - 2/r_12 + temp4)\n",
    "        return TrialEnergy1 + TrialEnergy2Partial\n",
    "\n",
    "\n",
    "@jit\n",
    "def TrialWaveFunction1(alpha,omega,x1,y1,z1,x2,y2,z2):\n",
    "    r1 = np.sqrt(x1**2 + y1**2 + z1**2)\n",
    "    r2 = np.sqrt(x2**2 + y2**2 + z2**2)\n",
    "    return np.exp(-alpha*omega*(r1**2 + r2**2)/2)\n",
    "\n",
    "@jit\n",
    "def TrialWaveFunction2(alpha,beta,omega,x1,y1,z1,x2,y2,z2):\n",
    "    r1 = np.sqrt(x1**2 + y1**2 + z1**2)\n",
    "    r2 = np.sqrt(x2**2 + y2**2 + z2**2)\n",
    "    r_12 = np.sqrt((x1-x2)**2 + (y1-y2)**2 + (z1-z2)**2)\n",
    "    if (beta*r_12 < -1+1e-12) and (beta*r_12 > -1-1e-12):#So that not division by zero\n",
    "        return 0\n",
    "    else:\n",
    "        return np.exp(-alpha*omega*(r1**2 + r2**2)/2)*np.exp(r_12/(2*(1 + beta*r_12)))\n",
    "\n",
    "#Function to calculate the potential energy at each position for different omega\n",
    "@jit\n",
    "def PotentialEnergy1(omega,x1,y1,z1,x2,y2,z2):\n",
    "    r1 = np.sqrt(x1**2 + y1**2 + z1**2)\n",
    "    r2 = np.sqrt(x2**2 + y2**2 + z2**2)\n",
    "    r_12 = np.sqrt((x1-x2)**2 + (y1-y2)**2 + (z1-z2)**2)\n",
    "    temp1 = 0.5*(omega**2)*(r1**2)\n",
    "    temp2 = 0.5*(omega**2)*(r2**2)\n",
    "    temp3 = 1/r_12\n",
    "    return temp1 + temp2 + temp3\n",
    "\n",
    "@jit#Without the Coulomb interaction\n",
    "def PotentialEnergy2(omega,x1,y1,z1,x2,y2,z2):\n",
    "    r1 = np.sqrt(x1**2 + y1**2 + z1**2)\n",
    "    r2 = np.sqrt(x2**2 + y2**2 + z2**2)\n",
    "    temp1 = 0.5*(omega**2)*(r1**2)\n",
    "    temp2 = 0.5*(omega**2)*(r2**2)\n",
    "    return temp1 + temp2"
   ]
  },
  {
   "cell_type": "markdown",
   "metadata": {},
   "source": [
    "## Monte Carlo and Metropolis algo:"
   ]
  },
  {
   "cell_type": "code",
   "execution_count": 868,
   "metadata": {},
   "outputs": [],
   "source": [
    "#Probability ratio\n",
    "@jit\n",
    "def ProbRatio(Rold,Rnew,alpha,omega):#Rold and Rnew as an array\n",
    "    new = TrialWaveFunction1(alpha,omega,Rnew[0],Rnew[1],Rnew[2],Rnew[3],Rnew[4],Rnew[5])\n",
    "    new = new**2\n",
    "    old = TrialWaveFunction1(alpha,omega,Rold[0],Rold[1],Rold[2],Rold[3],Rold[4],Rold[5])\n",
    "    old = old**2\n",
    "    return new/old\n",
    "\n",
    "#Probability ratio for the second trial wave function\n",
    "@jit\n",
    "def ProbRatio2(Rold,Rnew,alpha,beta,omega):#Rold and Rnew as an array\n",
    "    new = TrialWaveFunction2(alpha,beta,omega,Rnew[0],Rnew[1],Rnew[2],Rnew[3],Rnew[4],Rnew[5])\n",
    "    new = new**2\n",
    "    old = TrialWaveFunction2(alpha,beta,omega,Rold[0],Rold[1],Rold[2],Rold[3],Rold[4],Rold[5])\n",
    "    old = old**2\n",
    "    return new/old\n",
    "\n",
    "#Metropolis part for the first trial wave function\n",
    "@jit\n",
    "def Metropolis(Rold,Rnew,alpha,omega):\n",
    "    Acceptance = False\n",
    "    probRatio = ProbRatio(Rold,Rnew,alpha,omega)\n",
    "    if probRatio > 1:\n",
    "        Acceptance = True\n",
    "    elif np.random.random() <= probRatio:\n",
    "        Acceptance = True\n",
    "    else:\n",
    "        Acceptance = False\n",
    "    return Acceptance\n",
    "\n",
    "#Metropolis test for the second trial wave function\n",
    "@jit\n",
    "def Metropolis2(Rold,Rnew,alpha,beta,omega):\n",
    "    Acceptance = False\n",
    "    probRatio = ProbRatio2(Rold,Rnew,alpha,beta,omega)\n",
    "    if probRatio > 1:\n",
    "        Acceptance = True\n",
    "    elif np.random.random() <= probRatio:\n",
    "        Acceptance = True\n",
    "    else:\n",
    "        Acceptance = False\n",
    "    return Acceptance"
   ]
  },
  {
   "cell_type": "markdown",
   "metadata": {},
   "source": [
    "**First Monte Carlo with trial wave function 1 and without Coulomb interaction:**"
   ]
  },
  {
   "cell_type": "code",
   "execution_count": 937,
   "metadata": {},
   "outputs": [],
   "source": [
    "#Monte Carlo part\n",
    "@jit(nopython=True)\n",
    "def MonteCarlo(MCCycles,omega,alpha,stepsize):\n",
    "    #initalizing position randomly according to exponetial distribution\n",
    "    x1 = np.random.exponential()\n",
    "    y1 = np.random.exponential()\n",
    "    z1 = np.random.exponential()\n",
    "    x2 = np.random.exponential()\n",
    "    y2 = np.random.exponential()\n",
    "    z2 = np.random.exponential()\n",
    "    r1 = np.sqrt(x1**2 + y1**2 + z1**2)\n",
    "    r2 = np.sqrt(x2**2 + y2**2 + z2**2)\n",
    "    Rold = np.array([x1,y1,z1,x2,y2,z2])\n",
    "    Energy = 0\n",
    "    EnergySquared = 0\n",
    "    PotentialEnergy = 0\n",
    "    #Step size for proposed steps\n",
    "    DeltaR = stepsize\n",
    "    #Counter for how many steps are accepted\n",
    "    CounterAccept = 0\n",
    "    #looping over MC cycles\n",
    "    for i in range(MCCycles):\n",
    "        #looping over each position, in total 6\n",
    "        for l in range(6):\n",
    "            randnum = np.random.random() - 0.5#creating random number on [-0.5,0.5]\n",
    "            Rnew = np.copy(Rold)\n",
    "            Rnew[l] = Rold[l] + randnum*DeltaR#The proposed move for each coordinate at a time\n",
    "            #Metropolis test\n",
    "            Acceptance = Metropolis(Rold,Rnew,alpha,omega)\n",
    "            if Acceptance:#Moving the coordinates if the move is accepted\n",
    "                Rold = Rnew\n",
    "                CounterAccept += 1\n",
    "            r1 = np.sqrt(Rold[0]**2 + Rold[1]**2 + Rold[2]**2)\n",
    "            r2 = np.sqrt(Rold[3]**2 + Rold[4]**2 + Rold[5]**2)\n",
    "            EnergyTemp = TrialEnergyJIT(alpha,omega,r1,r2)\n",
    "            PotentialTemp = PotentialEnergy2(omega,Rold[0],Rold[1],Rold[2],Rold[3],Rold[4],Rold[5])\n",
    "            PotentialEnergy += PotentialTemp\n",
    "            Energy += EnergyTemp\n",
    "            EnergySquared += EnergyTemp**2\n",
    "\n",
    "    #End of MC loop\n",
    "    #Analysis of relevant parameters\n",
    "    AverageEnergy = Energy/MCCycles/6\n",
    "    AverageEnergySquared = EnergySquared/MCCycles/6\n",
    "    AveragePotentialEnergy = PotentialEnergy/MCCycles/6\n",
    "    #AveragePotentialEnergy = PotentialEnergy2(omega,x1,y1,z1,x2,y2,z2)\n",
    "    Variance = AverageEnergySquared - AverageEnergy**2\n",
    "    \n",
    "    return AverageEnergy, CounterAccept/6, Variance, AveragePotentialEnergy"
   ]
  },
  {
   "cell_type": "markdown",
   "metadata": {},
   "source": [
    "**Then MC for trial wave function 1 with Coulomb interaction:**"
   ]
  },
  {
   "cell_type": "code",
   "execution_count": 914,
   "metadata": {},
   "outputs": [],
   "source": [
    "#Monte Carlo part\n",
    "@jit(nopython=True)\n",
    "def MonteCarloCoulomb(MCCycles,omega,alpha,stepsize):\n",
    "    #initalizing position randomly according to exponetial distribution\n",
    "    x1 = np.random.exponential()\n",
    "    y1 = np.random.exponential()\n",
    "    z1 = np.random.exponential()\n",
    "    x2 = np.random.exponential()\n",
    "    y2 = np.random.exponential()\n",
    "    z2 = np.random.exponential()\n",
    "    r1 = np.sqrt(x1**2 + y1**2 + z1**2)\n",
    "    r2 = np.sqrt(x2**2 + y2**2 + z2**2)\n",
    "    Rold = np.array([x1,y1,z1,x2,y2,z2])\n",
    "    Energy = 0\n",
    "    EnergySquared = 0\n",
    "    ElectronDistance = 0\n",
    "    PotentialEnergy = 0\n",
    "    #Step size for proposed steps\n",
    "    DeltaR = stepsize\n",
    "    #Counter for how many steps are accepted\n",
    "    CounterAccept = 0\n",
    "    #looping over MC cycles\n",
    "    for i in range(MCCycles):\n",
    "        #looping over each position, in total 6\n",
    "        for l in range(6):\n",
    "            randnum = np.random.random() - 0.5#creating random number on [-0.5,0.5]\n",
    "            Rnew = np.copy(Rold)\n",
    "            Rnew[l] = Rold[l] + randnum*DeltaR#The proposed move for each coordinate at a time\n",
    "            #Metropolis test\n",
    "            Acceptance = Metropolis(Rold,Rnew,alpha,omega)\n",
    "            if Acceptance:#Moving the coordinates if the move is accepted\n",
    "                Rold = Rnew\n",
    "                CounterAccept += 1\n",
    "            r1 = np.sqrt(Rold[0]**2 + Rold[1]**2 + Rold[2]**2)\n",
    "            r2 = np.sqrt(Rold[3]**2 + Rold[4]**2 + Rold[5]**2)\n",
    "            EnergyTemp = TrialEnergyJITwithCoulomb(alpha,omega,Rold[0],Rold[1],Rold[2],Rold[3],Rold[4],Rold[5])\n",
    "            if np.isnan(EnergyTemp):\n",
    "                print(\"Error, the Energy is nan, cycle numner:\",i,l)\n",
    "                break\n",
    "            Energy += EnergyTemp\n",
    "            EnergySquared += EnergyTemp**2\n",
    "            #Potential Energy Term\n",
    "            PotentialEnergyTemp = PotentialEnergy1(omega,Rold[0],Rold[1],Rold[2],Rold[3],Rold[4],Rold[5])\n",
    "            PotentialEnergy += PotentialEnergyTemp\n",
    "            #Updating the expectationValue of the distance between the two electrons\n",
    "            ElectronDistance += np.sqrt((Rold[0]-Rold[3])**2 + (Rold[1]-Rold[4])**2 + (Rold[2]-Rold[5])**2)\n",
    "            \n",
    "\n",
    "    #End of MC loop\n",
    "    #Analysis of relevant parameters\n",
    "    AverageEnergy = Energy/MCCycles/6\n",
    "    AverageEnergySquared = EnergySquared/MCCycles/6\n",
    "    AveragePotentialEnergy = PotentialEnergy/MCCycles/6\n",
    "    Variance = AverageEnergySquared - AverageEnergy**2\n",
    "    ElectronDistanceAverage = ElectronDistance/MCCycles/6\n",
    "    \n",
    "    return AverageEnergy, int(CounterAccept/6), Variance, ElectronDistanceAverage, AveragePotentialEnergy"
   ]
  },
  {
   "cell_type": "markdown",
   "metadata": {},
   "source": [
    "**Then Monte Carlo for the second trial wave function:**"
   ]
  },
  {
   "cell_type": "code",
   "execution_count": 915,
   "metadata": {},
   "outputs": [],
   "source": [
    "@jit(nopython=True)\n",
    "def MonteCarlo2(MCCycles,omega,alpha,beta,stepsize):\n",
    "    #initalizing position randomly according to exponetial distribution\n",
    "    x1 = np.random.exponential()\n",
    "    y1 = np.random.exponential()\n",
    "    z1 = np.random.exponential()\n",
    "    x2 = np.random.exponential()\n",
    "    y2 = np.random.exponential()\n",
    "    z2 = np.random.exponential()\n",
    "    r1 = np.sqrt(x1**2 + y1**2 + z1**2)\n",
    "    r2 = np.sqrt(x2**2 + y2**2 + z2**2)\n",
    "    Rold = np.array([x1,y1,z1,x2,y2,z2])\n",
    "    Energy = 0\n",
    "    EnergySquared = 0\n",
    "    ElectronDistance = 0\n",
    "    PotentialEnergy = 0\n",
    "    #Step size for proposed steps\n",
    "    DeltaR = stepsize\n",
    "    #Counter for how many steps are accepted\n",
    "    CounterAccept = 0\n",
    "    #looping over MC cycles\n",
    "    for i in range(MCCycles):\n",
    "        #looping over each position, in total 6\n",
    "        for l in range(6):\n",
    "            randnum = np.random.random() - 0.5#creating random number on [-0.5,0.5]\n",
    "            Rnew = np.copy(Rold)\n",
    "            Rnew[l] = Rold[l] + randnum*DeltaR#The proposed move for each coordinate at a time\n",
    "            #Metropolis test\n",
    "            Acceptance = Metropolis2(Rold,Rnew,alpha,beta,omega)\n",
    "            if Acceptance:#Moving the coordinates if the move is accepted\n",
    "                Rold = Rnew\n",
    "                CounterAccept += 1\n",
    "            r1 = np.sqrt(Rold[0]**2 + Rold[1]**2 + Rold[2]**2)\n",
    "            r2 = np.sqrt(Rold[3]**2 + Rold[4]**2 + Rold[5]**2)\n",
    "            EnergyTemp = TrialEnergy2JIT(alpha,beta,omega,Rold[0],Rold[1],Rold[2],Rold[3],Rold[4],Rold[5])\n",
    "            if np.isnan(EnergyTemp):\n",
    "                print(\"Error, the Energy is nan, cycle numner:\",i,l)\n",
    "                break\n",
    "            Energy += EnergyTemp\n",
    "            EnergySquared += EnergyTemp**2\n",
    "            PotentialEnergyTemp = PotentialEnergy1(omega,Rold[0],Rold[1],Rold[2],Rold[3],Rold[4],Rold[5])\n",
    "            PotentialEnergy += PotentialEnergyTemp\n",
    "            #Updating the expectationValue of the distance between the two electrons\n",
    "            ElectronDistance += np.sqrt((Rold[0]-Rold[3])**2 + (Rold[1]-Rold[4])**2 + (Rold[2]-Rold[5])**2)\n",
    "            \n",
    "\n",
    "    #End of MC loop\n",
    "    #Analysis of relevant parameters\n",
    "    AverageEnergy = Energy/MCCycles/6\n",
    "    AverageEnergySquared = EnergySquared/MCCycles/6\n",
    "    AveragePotentialEnergy = PotentialEnergy/MCCycles/6\n",
    "    Variance = AverageEnergySquared - AverageEnergy**2\n",
    "    ElectronDistanceAverage = ElectronDistance/MCCycles/6\n",
    "    \n",
    "    return AverageEnergy, int(CounterAccept/6), Variance, ElectronDistanceAverage, AveragePotentialEnergy"
   ]
  },
  {
   "cell_type": "markdown",
   "metadata": {},
   "source": [
    "**Algorithm that takes care of finding the step size such that 50 \\% acceptance rate in a brute force way:**"
   ]
  },
  {
   "cell_type": "code",
   "execution_count": 938,
   "metadata": {},
   "outputs": [],
   "source": [
    "@jit\n",
    "def FindStepsize(stepsize,alpha,omega):\n",
    "    M = len(alpha)\n",
    "    StepSize = np.zeros(M)\n",
    "    counter = 0\n",
    "    for i in alpha:\n",
    "        StepTemp = []\n",
    "        for l in stepsize:\n",
    "            Energy, Counter, Variance, PotEnergy = MonteCarlo(1000,omega,i,l)\n",
    "            if (Counter >= 400) and (Counter <= 600):\n",
    "                StepTemp.append(l)\n",
    "        StepSize[counter] = np.median(StepTemp)\n",
    "        counter += 1\n",
    "        \n",
    "    return StepSize\n",
    "\n",
    "@jit\n",
    "def FindStepsize2(stepsize,alpha,beta,omega):\n",
    "    MCCycles = 10000\n",
    "    M = len(beta)\n",
    "    StepSize = np.zeros(M)\n",
    "    counter = 0\n",
    "    for i in beta:\n",
    "        StepTemp = []\n",
    "        for l in stepsize:\n",
    "            Energy, Counter, Variance, ElectronDistance, PotEnergy = MonteCarlo2(1000,omega,alpha,i,l)\n",
    "            if (Counter >= 480) and (Counter <= 520):\n",
    "                StepTemp.append(l)\n",
    "        StepSize[counter] = np.median(StepTemp)\n",
    "        counter += 1\n",
    "        \n",
    "    return StepSize"
   ]
  },
  {
   "cell_type": "markdown",
   "metadata": {},
   "source": [
    "**Locating the minimum in energy:**"
   ]
  },
  {
   "cell_type": "code",
   "execution_count": 1369,
   "metadata": {},
   "outputs": [],
   "source": [
    "#Function that finds the minimal energy in terms of either alpha or beta\n",
    "#as well as finding the electron distance at that minimum\n",
    "def FindMinimalEnergy(EnergyTotal,ElectronDistance,PotentialEnergyTotal,VarianceTotal,alpha,beta,VarChoice):\n",
    "    #Variable VarChoice decides which variable we are trying to find a minimum at, alpha or beta\n",
    "    MinimalEnergy = np.min(EnergyTotal)\n",
    "    MinimalEnergyIndex = np.where(EnergyTotal == MinimalEnergy)[0][0]#Index for minimal energy\n",
    "    if VarChoice == \"alpha\":\n",
    "        alphaMinimal = alpha[MinimalEnergyIndex]\n",
    "        electronDistanceMinimalEnergy = ElectronDistance[MinimalEnergyIndex]\n",
    "        PotentialEnergyMinimum = PotentialEnergyTotal[MinimalEnergyIndex]\n",
    "        VarianceEnergyMinimum = VarianceTotal[MinimalEnergyIndex]\n",
    "        return MinimalEnergy, electronDistanceMinimalEnergy, alphaMinimal, PotentialEnergyMinimum, VarianceEnergyMinimum\n",
    "    elif VarChoice == \"beta\":\n",
    "        betaMinimal = beta[MinimalEnergyIndex]\n",
    "        electronDistanceMinimalEnergy = ElectronDistance[MinimalEnergyIndex]\n",
    "        PotentialEnergyMinimum = PotentialEnergyTotal[MinimalEnergyIndex]\n",
    "        VarianceEnergyMinimum = VarianceTotal[MinimalEnergyIndex]\n",
    "        return MinimalEnergy, electronDistanceMinimalEnergy, betaMinimal, PotentialEnergyMinimum, VarianceEnergyMinimum\n",
    "    else:\n",
    "        assert(\"Please state wheter to find minimal with regards to beta or alpha\")"
   ]
  },
  {
   "cell_type": "markdown",
   "metadata": {},
   "source": [
    "# 5.c)"
   ]
  },
  {
   "cell_type": "markdown",
   "metadata": {},
   "source": [
    "**First let's check our calculations without the Coulomb potential and see if we obtain the exact answer:**"
   ]
  },
  {
   "cell_type": "code",
   "execution_count": 1134,
   "metadata": {},
   "outputs": [
    {
     "name": "stdout",
     "output_type": "stream",
     "text": [
      "Measurement took in seconds: 45.30519366264343\n"
     ]
    }
   ],
   "source": [
    "#Monte Carlo calculations for the first trial wave function for more number of different alpha\n",
    "#first finding the optimal step size for each value of alpha\n",
    "alpha1 = np.arange(0.2,2,0.05)\n",
    "stepsize1 = np.arange(0,10,0.05)\n",
    "StepSize1 = FindStepsize(stepsize1,alpha1,1)\n",
    "EnergyTotalAnalytical = np.zeros(len(alpha1))\n",
    "VarianceTotalAnalytical = np.zeros(len(alpha1))\n",
    "CounterTotalAnalytial = np.zeros(len(alpha1))\n",
    "PotentialEnergyTotalAnalytical = np.zeros(len(alpha1))\n",
    "#Then doing calculation for each alpha\n",
    "start = time.time()\n",
    "for i in range(len(alpha1)):\n",
    "    stepTemp = StepSize1[i]\n",
    "    alphaTemp = alpha1[i]\n",
    "    Energy, Counter, Variance, PotEnergy = MonteCarlo(int(1e6),1,alphaTemp,stepTemp)\n",
    "    EnergyTotalAnalytical[i] = Energy\n",
    "    VarianceTotalAnalytical[i] = Variance\n",
    "    CounterTotalAnalytial[i] = Counter\n",
    "    PotentialEnergyTotalAnalytical[i] = PotEnergy\n",
    "    #print(Counter,Energy,Variance)\n",
    "end = time.time()\n",
    "print(\"Measurement took in seconds:\",end-start)"
   ]
  },
  {
   "cell_type": "code",
   "execution_count": 1363,
   "metadata": {},
   "outputs": [
    {
     "data": {
      "image/png": "[encoded data removed]",
      "text/plain": [
       "<Figure size 504x288 with 3 Axes>"
      ]
     },
     "metadata": {
      "needs_background": "light"
     },
     "output_type": "display_data"
    }
   ],
   "source": [
    "#better picture\n",
    "fig = plt.figure(figsize=(7,4))\n",
    "ax1 = fig.add_axes([0.1, 0.1, 0.3, 0.9])\n",
    "ax2 = fig.add_axes([0.55, 0.1, 0.3, 0.9])\n",
    "ax3 = fig.add_axes([1, 0.1, 0.3, 0.9])\n",
    "#Energy\n",
    "ax1.plot(alpha1,EnergyTotalAnalytical,'*')\n",
    "ax1.grid(alpha=0.3)\n",
    "ax1.set_ylabel(\"Energy [a.u.]\")\n",
    "ax1.set_xlabel(r\"$\\alpha$\")\n",
    "ax1.text(1,7,\"A\",size=25)\n",
    "#Variance\n",
    "ax2.plot(alpha1,VarianceTotalAnalytical,'*')\n",
    "ax2.grid(alpha=0.3)\n",
    "ax2.set_ylabel(r\"Variance [(a.u.)$^2$]\")\n",
    "ax2.set_xlabel(r\"$\\alpha$\")\n",
    "ax2.text(1,14.6,\"B\",size=25)\n",
    "#Counter\n",
    "ax3.plot(alpha1,CounterTotalAnalytial/1e6,'*')\n",
    "ax3.grid(alpha=0.3)\n",
    "ax3.set_ylabel(\"Accpeptance rate\")\n",
    "ax3.set_xlabel(r\"$\\alpha$\")\n",
    "ax3.text(1,0.523,\"C\",size=25)\n",
    "#Saving\n",
    "plt.savefig(\"SimpleHarmonic2e.png\",format=\"PNG\",dpi=300,bbox_inches=\"tight\")"
   ]
  },
  {
   "cell_type": "markdown",
   "metadata": {},
   "source": [
    "## Then we do the calculations with Coulomb interaction for both trial wave functions. Basing the optimization of paramater $\\beta$ on the initial extremum in $\\alpha$. We take measurements for values of $\\omega$, $\\omega \\in \\{0.01,0.05,0.25,0.5,0.75,1\\}$\n",
    "\n",
    "The following is i bit long because oject orientation was not implemented. Here each case is tackled at a time"
   ]
  },
  {
   "cell_type": "markdown",
   "metadata": {},
   "source": [
    "# First with $\\omega = 1$:"
   ]
  },
  {
   "cell_type": "code",
   "execution_count": 1390,
   "metadata": {},
   "outputs": [],
   "source": [
    "omega1 = 1\n",
    "alpha1 = np.arange(0.2,2,0.02)\n",
    "stepsize1 = np.arange(0,10,0.05)\n",
    "StepSize1 = FindStepsize(stepsize1,alpha1,omega1)"
   ]
  },
  {
   "cell_type": "code",
   "execution_count": 1391,
   "metadata": {},
   "outputs": [
    {
     "name": "stdout",
     "output_type": "stream",
     "text": [
      "measurement took in seconds: 124.24509453773499\n"
     ]
    }
   ],
   "source": [
    "EnergyTotal = np.zeros(len(alpha1))\n",
    "CounterTotal = np.zeros(len(alpha1))\n",
    "VarianceTotal = np.zeros(len(alpha1))\n",
    "ElectronDistanceTotal = np.zeros(len(alpha1))\n",
    "PotentialEnergyTotal = np.zeros(len(alpha1))\n",
    "start = time.time()\n",
    "for i in range(len(alpha1)):\n",
    "    stepTemp = StepSize1[i]\n",
    "    alphaTemp = alpha1[i]\n",
    "    Energy, Counter, Variance, ElectronDistance, PotEnergy = MonteCarloCoulomb(int(1e6),omega1,alphaTemp,stepTemp)\n",
    "    EnergyTotal[i] = Energy\n",
    "    CounterTotal[i] = Counter\n",
    "    VarianceTotal[i] = Variance\n",
    "    ElectronDistanceTotal[i] = ElectronDistance\n",
    "    PotentialEnergyTotal[i] = PotEnergy\n",
    "end = time.time()\n",
    "print(\"measurement took in seconds:\",end-start)"
   ]
  },
  {
   "cell_type": "code",
   "execution_count": 1392,
   "metadata": {},
   "outputs": [
    {
     "name": "stdout",
     "output_type": "stream",
     "text": [
      "The minimum in energy is: 3.773310535096588\n",
      "alpha at that minimum is: 0.8799999999999997\n",
      "This distance between electrons at the mininum is 1.7009552756770934\n",
      "The potential energy at that position is 2.4518986911944523\n"
     ]
    }
   ],
   "source": [
    "#Finding the lowest energy\n",
    "MinimalEnergy, electDistMinimalEnergy, alphaMinimal, PotEnergyMinimal, VarianceEnergyMinimal = FindMinimalEnergy(EnergyTotal,ElectronDistanceTotal,PotentialEnergyTotal,VarianceTotal,alpha1,1,\"alpha\")\n",
    "print(\"The minimum in energy is:\",MinimalEnergy)\n",
    "print(\"alpha at that minimum is:\",alphaMinimal)\n",
    "print(\"This distance between electrons at the mininum is\",electDistMinimalEnergy)\n",
    "print(\"The potential energy at that position is\",PotEnergyMinimal)"
   ]
  },
  {
   "cell_type": "markdown",
   "metadata": {},
   "source": [
    "**Plotting:**"
   ]
  },
  {
   "cell_type": "code",
   "execution_count": 1393,
   "metadata": {},
   "outputs": [
    {
     "data": {
      "text/plain": [
       "Text(0.5, 0, '$\\\\alpha$')"
      ]
     },
     "execution_count": 1393,
     "metadata": {},
     "output_type": "execute_result"
    },
    {
     "data": {
      "image/png": "[encoded data removed]",
      "text/plain": [
       "<Figure size 432x288 with 1 Axes>"
      ]
     },
     "metadata": {
      "needs_background": "light"
     },
     "output_type": "display_data"
    }
   ],
   "source": [
    "#Energy as a function of variational paramater alpha\n",
    "fig5_1,ax5_1 = plt.subplots()\n",
    "ax5_1.plot(alpha1,EnergyTotal,'*')\n",
    "ax5_1.plot(alphaMinimal,MinimalEnergy,'r*')\n",
    "ax5_1.set_ylabel(\"Energy\")\n",
    "ax5_1.set_xlabel(r\"$\\alpha$\")"
   ]
  },
  {
   "cell_type": "code",
   "execution_count": 948,
   "metadata": {},
   "outputs": [
    {
     "data": {
      "text/plain": [
       "[<matplotlib.lines.Line2D at 0x17a38242978>]"
      ]
     },
     "execution_count": 948,
     "metadata": {},
     "output_type": "execute_result"
    },
    {
     "data": {
      "image/png": "[encoded data removed]",
      "text/plain": [
       "<Figure size 432x288 with 1 Axes>"
      ]
     },
     "metadata": {
      "needs_background": "light"
     },
     "output_type": "display_data"
    }
   ],
   "source": [
    "#Variance as a function of variational parameter alpha\n",
    "fig5_2,ax5_2 = plt.subplots()\n",
    "ax5_2.plot(alpha1,VarianceTotal,'*')"
   ]
  },
  {
   "cell_type": "markdown",
   "metadata": {},
   "source": [
    "**Then analysis for the second trial wave function using the optimal $\\alpha$ obtained:**"
   ]
  },
  {
   "cell_type": "code",
   "execution_count": 1394,
   "metadata": {},
   "outputs": [],
   "source": [
    "#Setting up range in beta\n",
    "temp = np.arange(0.4,1.4,0.02)\n",
    "beta1 = np.arange(0.02,3,0.2)\n",
    "beta1 = np.concatenate((temp,beta1),axis=0)\n",
    "beta1 = np.sort(beta1)"
   ]
  },
  {
   "cell_type": "code",
   "execution_count": 1395,
   "metadata": {},
   "outputs": [],
   "source": [
    "#Finding the right stepsize\n",
    "stepsize = np.arange(1,10,0.2)\n",
    "StepSize2 = FindStepsize2(stepsize,0.88,beta1,1)"
   ]
  },
  {
   "cell_type": "code",
   "execution_count": 741,
   "metadata": {},
   "outputs": [
    {
     "name": "stdout",
     "output_type": "stream",
     "text": [
      "measurement took in seconds: 619.1042504310608\n"
     ]
    }
   ],
   "source": [
    "alpha1_Minimal = 0.86\n",
    "EnergyTotal2 = np.zeros(len(beta1))\n",
    "CounterTotal2 = np.zeros(len(beta1))\n",
    "VarianceTotal2 = np.zeros(len(beta1))\n",
    "ElectronDistanceTotal2 = np.zeros(len(beta1))\n",
    "PotentialEnergyTotal2 = np.zeros(len(beta1))\n",
    "start = time.time()\n",
    "for i in range(len(beta1)):\n",
    "    Energy, Counter, Variance, ElectronDistance, PotEnergy = MonteCarlo2(int(5e6),omega1,alpha1_Minimal,beta1[i],4.5)\n",
    "    EnergyTotal2[i] = Energy\n",
    "    CounterTotal2[i] = Counter\n",
    "    VarianceTotal2[i] = Variance\n",
    "    ElectronDistanceTotal2[i] = ElectronDistance\n",
    "end = time.time()\n",
    "print(\"measurement took in seconds:\",end-start)"
   ]
  },
  {
   "cell_type": "code",
   "execution_count": 758,
   "metadata": {},
   "outputs": [
    {
     "name": "stdout",
     "output_type": "stream",
     "text": [
      "3.749869676931379\n",
      "0.6400000000000002 1.840518118711498\n",
      "The minimum in energy is: 3.7500587687005495\n",
      "Beta at that minimum is: 0.6400000000000002\n",
      "This distance between electrons at that minimum is: 1.8446203427000079\n"
     ]
    }
   ],
   "source": [
    "#Finding the minimal energy\n",
    "MinimalEnergy2, electDistMinimalEnergy2, betaMinimal2, PotEnergyMinimal2, VarianceEnergyMinimal2 = FindMinimalEnergy(EnergyTotal2,ElectronDistanceTotal2,P,alpha1_Minimal,beta1,\"beta\")\n",
    "print(\"The minimum in energy is:\",MinimalEnergy2)\n",
    "print(\"Beta at that minimum is:\",betaMinimal2)\n",
    "print(\"This distance between electrons at that minimum is:\",electDistMinimalEnergy2)"
   ]
  },
  {
   "cell_type": "code",
   "execution_count": 743,
   "metadata": {},
   "outputs": [
    {
     "data": {
      "text/plain": [
       "Text(0, 0.5, 'Energy')"
      ]
     },
     "execution_count": 743,
     "metadata": {},
     "output_type": "execute_result"
    },
    {
     "data": {
      "image/png": "[encoded data removed]",
      "text/plain": [
       "<Figure size 432x288 with 1 Axes>"
      ]
     },
     "metadata": {
      "needs_background": "light"
     },
     "output_type": "display_data"
    }
   ],
   "source": [
    "#plotting Energy as a function of Beta\n",
    "fig5_3,ax5_3 = plt.subplots()\n",
    "ax5_3.plot(beta1[2:-1],EnergyTotal2[2:-1],'*')\n",
    "ax5_3.plot(betaMinimal2,MinimalEnergy2,'r*')\n",
    "ax5_3.set_xlabel(r\"$\\beta$\")\n",
    "ax5_3.set_ylabel(\"Energy\")"
   ]
  },
  {
   "cell_type": "code",
   "execution_count": 746,
   "metadata": {},
   "outputs": [
    {
     "data": {
      "text/plain": [
       "Text(0, 0.5, 'Variance')"
      ]
     },
     "execution_count": 746,
     "metadata": {},
     "output_type": "execute_result"
    },
    {
     "data": {
      "image/png": "[encoded data removed]",
      "text/plain": [
       "<Figure size 432x288 with 1 Axes>"
      ]
     },
     "metadata": {
      "needs_background": "light"
     },
     "output_type": "display_data"
    }
   ],
   "source": [
    "#plotting Variance in Energy as a function of Beta\n",
    "fig5_4,ax5_4 = plt.subplots()\n",
    "ax5_4.plot(beta1[1:-1],VarianceTotal2[1:-1],'*')\n",
    "ax5_4.set_xlabel(r\"$\\beta$\")\n",
    "ax5_4.set_ylabel(\"Variance\")"
   ]
  },
  {
   "cell_type": "markdown",
   "metadata": {},
   "source": [
    "## Running again for variation in $\\alpha$ with optimal $\\beta$"
   ]
  },
  {
   "cell_type": "code",
   "execution_count": 1020,
   "metadata": {},
   "outputs": [
    {
     "name": "stdout",
     "output_type": "stream",
     "text": [
      "[0.89   0.8925 0.895  0.8975 0.9    0.9025 0.905  0.9075 0.91   0.9125\n",
      " 0.915  0.9175 0.92   0.9225 0.925  0.9275 0.93   0.9325 0.935  0.9375\n",
      " 0.94   0.9425 0.945  0.9475 0.95   0.9525 0.955  0.9575 0.96   0.9625\n",
      " 0.965  0.9675 0.97   0.9725 0.975  0.9775 0.98   0.9825 0.985  0.9875\n",
      " 0.99   0.9925 0.995  0.9975 1.     1.0025]\n"
     ]
    }
   ],
   "source": [
    "alpha1_2 = np.arange(0.89,1.005,0.0025)\n",
    "print(alpha1_2)"
   ]
  },
  {
   "cell_type": "code",
   "execution_count": 1021,
   "metadata": {},
   "outputs": [
    {
     "name": "stdout",
     "output_type": "stream",
     "text": [
      "measurement took in seconds: 157.08308386802673\n"
     ]
    }
   ],
   "source": [
    "beta1_Minimal = 0.64\n",
    "EnergyTotal_0 = np.zeros(len(alpha1_2))\n",
    "CounterTotal_0 = np.zeros(len(alpha1_2))\n",
    "VarianceTotal_0 = np.zeros(len(alpha1_2))\n",
    "ElectronDistanceTotal_0 = np.zeros(len(alpha1_2))\n",
    "PotentialEnergy_0 = np.zeros(len(alpha1_2))\n",
    "start = time.time()\n",
    "for i in range(len(alpha1_2)):\n",
    "    Energy, Counter, Variance, ElectronDistance, PotEnergy = MonteCarlo2(int(2e6),omega1,alpha1_2[i],beta1_Minimal,4.5)\n",
    "    EnergyTotal_0[i] = Energy\n",
    "    CounterTotal_0[i] = Counter\n",
    "    VarianceTotal_0[i] = Variance\n",
    "    ElectronDistanceTotal_0[i] = ElectronDistance\n",
    "    PotentialEnergy_0[i] = PotEnergy\n",
    "end = time.time()\n",
    "print(\"measurement took in seconds:\",end-start)"
   ]
  },
  {
   "cell_type": "code",
   "execution_count": 1022,
   "metadata": {},
   "outputs": [
    {
     "name": "stdout",
     "output_type": "stream",
     "text": [
      "The minimum in energy is: 3.7371987767943433\n",
      "alpha at that minimum is: 0.9449999999999988\n",
      "This distance between electrons at the mininum is 1.7564114552678847\n",
      "The potential energy at that position is 2.389293028633911\n"
     ]
    }
   ],
   "source": [
    "#Finding the lowest energy\n",
    "MinimalEnergy_0, electDistMinimalEnergy_0, alphaMinima_0, PotEnergyMinimal_0 = FindMinimalEnergy(EnergyTotal_0,ElectronDistanceTotal_0,PotentialEnergy_0,alpha1_2,1,\"alpha\")\n",
    "print(\"The minimum in energy is:\",MinimalEnergy_0)\n",
    "print(\"alpha at that minimum is:\",alphaMinima_0)\n",
    "print(\"This distance between electrons at the mininum is\",electDistMinimalEnergy_0)\n",
    "print(\"The potential energy at that position is\",PotEnergyMinimal_0)"
   ]
  },
  {
   "cell_type": "code",
   "execution_count": 1023,
   "metadata": {},
   "outputs": [
    {
     "data": {
      "text/plain": [
       "Text(0.5, 0, '$\\\\alpha$')"
      ]
     },
     "execution_count": 1023,
     "metadata": {},
     "output_type": "execute_result"
    },
    {
     "data": {
      "image/png": "[encoded data removed]",
      "text/plain": [
       "<Figure size 432x288 with 1 Axes>"
      ]
     },
     "metadata": {
      "needs_background": "light"
     },
     "output_type": "display_data"
    }
   ],
   "source": [
    "#Energy as a function of variational paramater alpha\n",
    "fig5_5,ax5_5 = plt.subplots()\n",
    "ax5_5.plot(alpha1_2,EnergyTotal_0,'*')\n",
    "ax5_5.plot(alphaMinima_0,MinimalEnergy_0,'r*')\n",
    "ax5_5.set_ylabel(\"Energy\")\n",
    "ax5_5.set_xlabel(r\"$\\alpha$\")"
   ]
  },
  {
   "cell_type": "markdown",
   "metadata": {},
   "source": [
    "**And then the second time for $\\beta$**"
   ]
  },
  {
   "cell_type": "code",
   "execution_count": 1026,
   "metadata": {},
   "outputs": [
    {
     "name": "stdout",
     "output_type": "stream",
     "text": [
      "[0.6    0.6025 0.605  0.6075 0.61   0.6125 0.615  0.6175 0.62   0.6225\n",
      " 0.625  0.6275 0.63   0.6325 0.635  0.6375 0.64   0.6425 0.645  0.6475\n",
      " 0.65   0.6525 0.655  0.6575 0.66   0.6625 0.665  0.6675 0.67   0.6725\n",
      " 0.675  0.6775 0.68   0.6825 0.685  0.6875 0.69   0.6925 0.695  0.6975]\n"
     ]
    }
   ],
   "source": [
    "#Setting up range in beta\n",
    "temp = np.arange(0.4,1.4,0.02)\n",
    "beta1_2 = np.arange(0.6,0.7,0.0025)\n",
    "print(beta1_2)"
   ]
  },
  {
   "cell_type": "code",
   "execution_count": 1027,
   "metadata": {},
   "outputs": [
    {
     "name": "stdout",
     "output_type": "stream",
     "text": [
      "measurement took in seconds: 71.98252749443054\n"
     ]
    }
   ],
   "source": [
    "alpha1_Minimal_0 = 0.945\n",
    "EnergyTotal2_0 = np.zeros(len(beta1_2))\n",
    "CounterTotal2_0 = np.zeros(len(beta1_2))\n",
    "VarianceTotal2_0 = np.zeros(len(beta1_2))\n",
    "ElectronDistanceTotal2_0 = np.zeros(len(beta1_2))\n",
    "PotentialEnergyTotal2_0 = np.zeros(len(beta1_2))\n",
    "start = time.time()\n",
    "for i in range(len(beta1_2)):\n",
    "    Energy, Counter, Variance, ElectronDistance, PotEnergy = MonteCarlo2(int(1e6),omega1,alpha1_Minimal_0,beta1_2[i],4.5)\n",
    "    EnergyTotal2_0[i] = Energy\n",
    "    CounterTotal2_0[i] = Counter\n",
    "    VarianceTotal2_0[i] = Variance\n",
    "    ElectronDistanceTotal2_0[i] = ElectronDistance\n",
    "    PotentialEnergyTotal2_0[i] = PotEnergy\n",
    "end = time.time()\n",
    "print(\"measurement took in seconds:\",end-start)"
   ]
  },
  {
   "cell_type": "code",
   "execution_count": 1372,
   "metadata": {},
   "outputs": [
    {
     "name": "stdout",
     "output_type": "stream",
     "text": [
      "The minimal energy: 3.7361648031651105\n",
      "beta at that minima: 0.6074999999999998\n",
      "distance between electrons at that minima: 1.763176098050588\n",
      "Variance at that minima: 0.01678624990590194\n"
     ]
    }
   ],
   "source": [
    "#Finding the minimal energy\n",
    "MinimalEnergy2_0, electDistMinimalEnergy2_0, betaMinimal2_0, PotEnergyMinimal2_0, VarianceEnergyMinimal2_0 = FindMinimalEnergy(EnergyTotal2_0,ElectronDistanceTotal2_0,PotentialEnergyTotal2_0,VarianceTotal2_0,alpha1_Minimal_0,beta1_2,\"beta\")\n",
    "print(\"The minimal energy:\",MinimalEnergy2_0)\n",
    "print(\"beta at that minima:\",betaMinimal2_0)\n",
    "print(\"distance between electrons at that minima:\",electDistMinimalEnergy2_0)\n",
    "print(\"Variance at that minima:\",VarianceEnergyMinimal2_0)\n",
    "#Filtered\n",
    "#EnergyTotal2Filtered = savgol_filter(EnergyTotal2,window_length=7,polyorder=5)\n",
    "#MinimalEnergy2Filt, electDistMinimalEnergy2Filt, betaMinimal2Filt = FindMinimalEnergy(EnergyTotal2Filtered,ElectronDistanceTotal2,alpha1_Minimal,beta1,\"beta\")\n",
    "#print(\"The minimum in energy is:\",MinimalEnergy2Filt)\n",
    "#print(\"Beta at that minimum is:\",betaMinimal2)\n",
    "#print(\"This distance between electrons at that minimum is:\",electDistMinimalEnergy2Filt)"
   ]
  },
  {
   "cell_type": "markdown",
   "metadata": {},
   "source": [
    "# Then with $\\omega = 0.01$:"
   ]
  },
  {
   "cell_type": "code",
   "execution_count": 1030,
   "metadata": {},
   "outputs": [],
   "source": [
    "omega2 = 0.01\n",
    "alpha2 = np.arange(0.2,1,0.02)\n",
    "stepsize2 = np.arange(30,75,0.25)\n",
    "StepSize2 = FindStepsize(stepsize2,alpha2,omega2)"
   ]
  },
  {
   "cell_type": "code",
   "execution_count": 1031,
   "metadata": {},
   "outputs": [
    {
     "name": "stdout",
     "output_type": "stream",
     "text": [
      "[72.    70.125 69.125 68.    67.125 65.625 65.125 64.125 63.375 63.125\n",
      " 62.    61.625 60.625 60.375 59.875 59.5   58.875 58.5   57.875 56.625\n",
      " 55.125 54.75  53.375 53.25  52.75  51.5   50.25  50.125 49.375 49.\n",
      " 48.5   47.625 46.875 46.5   45.625 45.125 44.75  44.125 43.75  43.875]\n"
     ]
    }
   ],
   "source": [
    "print(StepSize2)"
   ]
  },
  {
   "cell_type": "code",
   "execution_count": 1036,
   "metadata": {},
   "outputs": [
    {
     "name": "stdout",
     "output_type": "stream",
     "text": [
      "measurement took in seconds: 110.91476106643677\n"
     ]
    }
   ],
   "source": [
    "omega2 = 0.01\n",
    "EnergyTotal3 = np.zeros(len(alpha2))\n",
    "CounterTotal3 = np.zeros(len(alpha2))\n",
    "VarianceTotal3 = np.zeros(len(alpha2))\n",
    "ElectronDistanceTotal3 = np.zeros(len(alpha2))\n",
    "PotentialEnergyTotal3 = np.zeros(len(alpha2))\n",
    "start = time.time()\n",
    "for i in range(len(alpha2)):\n",
    "    stepTemp = StepSize2[i]\n",
    "    alphaTemp = alpha2[i]\n",
    "    Energy, Counter, Variance, ElectronDistance, PotEnergy = MonteCarloCoulomb(int(2e6),omega2,alphaTemp,stepTemp)\n",
    "    EnergyTotal3[i] = Energy\n",
    "    CounterTotal3[i] = Counter\n",
    "    VarianceTotal3[i] = Variance\n",
    "    ElectronDistanceTotal3[i] = ElectronDistance\n",
    "    PotentialEnergyTotal3[i] = PotEnergy\n",
    "end = time.time()\n",
    "print(\"measurement took in seconds:\",end-start)"
   ]
  },
  {
   "cell_type": "code",
   "execution_count": 1037,
   "metadata": {},
   "outputs": [
    {
     "name": "stdout",
     "output_type": "stream",
     "text": [
      "The minimal energy is: 0.09360562377714098\n",
      "The minimal energy is at alpha = 0.4399999999999999\n",
      "There the distance between electrons is: 24.060016048348505\n",
      "The Potential Energy at that position is: 0.08700180031575422\n"
     ]
    }
   ],
   "source": [
    "#Finding the lowest energy\n",
    "MinimalEnergy3, electDistMinimalEnergy3, alphaMinimal3, PotEnergyMinimal3 = FindMinimalEnergy(EnergyTotal3,ElectronDistanceTotal3,PotentialEnergyTotal3,alpha2,1,\"alpha\")\n",
    "print(\"The minimal energy is:\",MinimalEnergy3)\n",
    "print(\"The minimal energy is at alpha =\",alphaMinimal3)\n",
    "print(\"There the distance between electrons is:\",electDistMinimalEnergy3)\n",
    "print(\"The Potential Energy at that position is:\", PotEnergyMinimal3)"
   ]
  },
  {
   "cell_type": "markdown",
   "metadata": {},
   "source": [
    "**Plotting:**"
   ]
  },
  {
   "cell_type": "code",
   "execution_count": 1038,
   "metadata": {},
   "outputs": [
    {
     "data": {
      "text/plain": [
       "Text(0.5, 0, '$\\\\alpha$')"
      ]
     },
     "execution_count": 1038,
     "metadata": {},
     "output_type": "execute_result"
    },
    {
     "data": {
      "image/png": "[encoded data removed]",
      "text/plain": [
       "<Figure size 432x288 with 1 Axes>"
      ]
     },
     "metadata": {
      "needs_background": "light"
     },
     "output_type": "display_data"
    }
   ],
   "source": [
    "#Energy as a function of variational paramater alpha\n",
    "fig6_1,ax6_1 = plt.subplots()\n",
    "ax6_1.plot(alpha2,EnergyTotal3,'*')\n",
    "ax6_1.plot(alphaMinimal3,MinimalEnergy3,'r*')\n",
    "ax6_1.set_ylabel(\"Energy\")\n",
    "ax6_1.set_xlabel(r\"$\\alpha$\")"
   ]
  },
  {
   "cell_type": "code",
   "execution_count": 1039,
   "metadata": {},
   "outputs": [
    {
     "data": {
      "text/plain": [
       "Text(0.5, 0, '$\\\\alpha$')"
      ]
     },
     "execution_count": 1039,
     "metadata": {},
     "output_type": "execute_result"
    },
    {
     "data": {
      "image/png": "[encoded data removed]",
      "text/plain": [
       "<Figure size 432x288 with 1 Axes>"
      ]
     },
     "metadata": {
      "needs_background": "light"
     },
     "output_type": "display_data"
    }
   ],
   "source": [
    "#Variance as a function of variational parameter alpha\n",
    "fig6_2,ax6_2 = plt.subplots()\n",
    "ax6_2.plot(alpha2,VarianceTotal3,'*')\n",
    "ax6_2.set_ylabel(\"Variance\")\n",
    "ax6_2.set_xlabel(r\"$\\alpha$\")"
   ]
  },
  {
   "cell_type": "markdown",
   "metadata": {},
   "source": [
    "**Then analysis for the second trial wave function using the optimal $\\alpha$ obtained:**"
   ]
  },
  {
   "cell_type": "code",
   "execution_count": 1057,
   "metadata": {},
   "outputs": [
    {
     "name": "stdout",
     "output_type": "stream",
     "text": [
      "[0.05   0.0525 0.055  0.0575 0.06   0.0625 0.065  0.0675 0.07   0.0725\n",
      " 0.075  0.0775 0.08   0.0825 0.085  0.0875 0.09   0.0925 0.095  0.0975\n",
      " 0.1    0.1025 0.105  0.1075 0.11   0.1125 0.115  0.1175 0.12   0.1225\n",
      " 0.125  0.1275 0.13   0.1325 0.135  0.1375 0.14   0.1425 0.145  0.1475\n",
      " 0.15   0.1525 0.155  0.1575 0.16   0.1625 0.165  0.1675 0.17   0.1725\n",
      " 0.175  0.1775 0.18   0.1825 0.185  0.1875 0.19   0.1925 0.195  0.1975\n",
      " 0.2   ]\n"
     ]
    }
   ],
   "source": [
    "#Setting up range in beta\n",
    "beta2 = np.arange(0.05,0.2,0.0025)\n",
    "print(beta2)"
   ]
  },
  {
   "cell_type": "code",
   "execution_count": 1058,
   "metadata": {},
   "outputs": [
    {
     "name": "stdout",
     "output_type": "stream",
     "text": [
      "[68.5  68.   68.25 69.   68.5  68.5  67.5  67.75 67.75 67.5  68.25 67.5\n",
      " 67.5  67.5  67.25 67.75 67.25 66.75 67.5  68.25 67.5  67.   67.   67.25\n",
      " 66.5  67.   66.5  66.75 67.25 66.75 66.5  67.   66.5  66.5  66.75 65.75\n",
      " 66.75 66.   66.   66.25 66.25 65.5  66.25 66.75 66.   66.   65.75 66.25\n",
      " 66.5  65.75 65.   65.75 64.75 66.25 66.   65.5  65.75 65.5  65.25 64.5\n",
      " 65.  ]\n"
     ]
    }
   ],
   "source": [
    "#Finding the right stepsize\n",
    "stepsize = np.arange(40,80,0.5)\n",
    "StepSize3 = FindStepsize2(stepsize,0.44,beta2,0.01)\n",
    "print(StepSize3)"
   ]
  },
  {
   "cell_type": "code",
   "execution_count": 1059,
   "metadata": {},
   "outputs": [
    {
     "name": "stdout",
     "output_type": "stream",
     "text": [
      "measurement took in seconds: 220.1136598587036\n"
     ]
    }
   ],
   "source": [
    "omega = 0.01\n",
    "alpha2 = 0.44\n",
    "EnergyTotal4 = np.zeros(len(beta2))\n",
    "CounterTotal4 = np.zeros(len(beta2))\n",
    "VarianceTotal4 = np.zeros(len(beta2))\n",
    "ElectronDistanceTotal4 = np.zeros(len(beta2))\n",
    "PotentialEnergyTotal4 = np.zeros(len(beta2))\n",
    "start = time.time()\n",
    "for i in range(len(beta2)):\n",
    "    Energy, Counter, Variance, ElectronDistance, PotEnergy = MonteCarlo2(int(2e6),omega,alpha2,beta2[i],StepSize3[i])\n",
    "    EnergyTotal4[i] = Energy\n",
    "    CounterTotal4[i] = Counter\n",
    "    VarianceTotal4[i] = Variance\n",
    "    ElectronDistanceTotal4[i] = ElectronDistance\n",
    "    PotentialEnergyTotal4[i] = PotEnergy\n",
    "end = time.time()\n",
    "print(\"measurement took in seconds:\",end-start)"
   ]
  },
  {
   "cell_type": "code",
   "execution_count": 1060,
   "metadata": {},
   "outputs": [
    {
     "name": "stdout",
     "output_type": "stream",
     "text": [
      "The minimal in energy is 0.08595106701775097\n",
      "At the minimum the position in beta is 0.10500000000000005\n",
      "At that minimum the distance between electrons is: 31.28802156034327\n"
     ]
    }
   ],
   "source": [
    "#Finding the minimal energy\n",
    "MinimalEnergy4, electDistMinimalEnergy4, betaMinimal4, PotEnergyMinimal4 = FindMinimalEnergy(EnergyTotal4,ElectronDistanceTotal4,PotentialEnergyTotal4,alpha2,beta2,\"beta\")\n",
    "print(\"The minimal in energy is\",MinimalEnergy4)\n",
    "print(\"At the minimum the position in beta is\",betaMinimal4)\n",
    "print(\"At that minimum the distance between electrons is:\",electDistMinimalEnergy4)"
   ]
  },
  {
   "cell_type": "code",
   "execution_count": 1061,
   "metadata": {},
   "outputs": [
    {
     "data": {
      "text/plain": [
       "Text(0, 0.5, 'Energy')"
      ]
     },
     "execution_count": 1061,
     "metadata": {},
     "output_type": "execute_result"
    },
    {
     "data": {
      "image/png": "[encoded data removed]",
      "text/plain": [
       "<Figure size 432x288 with 1 Axes>"
      ]
     },
     "metadata": {
      "needs_background": "light"
     },
     "output_type": "display_data"
    }
   ],
   "source": [
    "#plotting Energy as a function of Beta\n",
    "fig6_3,ax6_3 = plt.subplots()\n",
    "ax6_3.plot(beta2[3:-1],EnergyTotal4[3:-1],'*')\n",
    "ax6_3.plot(betaMinimal4,MinimalEnergy4,'r*')\n",
    "ax6_3.set_xlabel(r\"$\\beta$\")\n",
    "ax6_3.set_ylabel(\"Energy\")"
   ]
  },
  {
   "cell_type": "markdown",
   "metadata": {},
   "source": [
    "**Second time for $\\alpha$:**"
   ]
  },
  {
   "cell_type": "code",
   "execution_count": 1070,
   "metadata": {},
   "outputs": [
    {
     "name": "stdout",
     "output_type": "stream",
     "text": [
      "[0.45 0.46 0.47 0.48 0.49 0.5  0.51 0.52 0.53 0.54 0.55 0.56 0.57 0.58\n",
      " 0.59 0.6  0.61 0.62 0.63 0.64 0.65 0.66 0.67 0.68 0.69 0.7  0.71 0.72\n",
      " 0.73 0.74 0.75 0.76 0.77 0.78 0.79 0.8  0.81 0.82 0.83 0.84 0.85 0.86\n",
      " 0.87 0.88 0.89]\n"
     ]
    }
   ],
   "source": [
    "omega2 = 0.01\n",
    "alpha2_0 = np.arange(0.45,0.9,0.01)\n",
    "print(alpha2_0)"
   ]
  },
  {
   "cell_type": "code",
   "execution_count": 1071,
   "metadata": {},
   "outputs": [],
   "source": [
    "stepsize2_0 = np.arange(30,75,0.25)\n",
    "StepSize2_0 = FindStepsize(stepsize2_0,alpha2_0,omega2)"
   ]
  },
  {
   "cell_type": "code",
   "execution_count": 1072,
   "metadata": {},
   "outputs": [
    {
     "name": "stdout",
     "output_type": "stream",
     "text": [
      "measurement took in seconds: 168.59577083587646\n"
     ]
    }
   ],
   "source": [
    "omega2 = 0.01\n",
    "beta2_Minimal = 0.105\n",
    "EnergyTotal3_0 = np.zeros(len(alpha2_0))\n",
    "CounterTotal3_0 = np.zeros(len(alpha2_0))\n",
    "VarianceTotal3_0 = np.zeros(len(alpha2_0))\n",
    "ElectronDistanceTotal3_0 = np.zeros(len(alpha2_0))\n",
    "PotentialEnergyTotal3_0 = np.zeros(len(alpha2_0))\n",
    "start = time.time()\n",
    "for i in range(len(alpha2_0)):\n",
    "    stepTemp = StepSize2_0[i]\n",
    "    alphaTemp = alpha2_0[i]\n",
    "    Energy, Counter, Variance, ElectronDistance, PotEnergy = MonteCarlo2(int(2e6),omega2,alphaTemp,beta2_Minimal,stepTemp)\n",
    "    EnergyTotal3_0[i] = Energy\n",
    "    CounterTotal3_0[i] = Counter\n",
    "    VarianceTotal3_0[i] = Variance\n",
    "    ElectronDistanceTotal3_0[i] = ElectronDistance\n",
    "    PotentialEnergyTotal3_0[i] = PotEnergy\n",
    "end = time.time()\n",
    "print(\"measurement took in seconds:\",end-start)"
   ]
  },
  {
   "cell_type": "code",
   "execution_count": 1073,
   "metadata": {},
   "outputs": [
    {
     "name": "stdout",
     "output_type": "stream",
     "text": [
      "The minimal energy is: 0.08212761094276408\n",
      "The minimal energy is at alpha = 0.6700000000000002\n",
      "There the distance between electrons is: 25.785439287355512\n",
      "The Potential Energy at that position is: 0.07287725139011093\n"
     ]
    }
   ],
   "source": [
    "#Finding the lowest energy\n",
    "MinimalEnergy3_0, electDistMinimalEnergy3_0, alphaMinimal3_0, PotEnergyMinimal3_0 = FindMinimalEnergy(EnergyTotal3_0,ElectronDistanceTotal3_0,PotentialEnergyTotal3_0,alpha2_0,1,\"alpha\")\n",
    "print(\"The minimal energy is:\",MinimalEnergy3_0)\n",
    "print(\"The minimal energy is at alpha =\",alphaMinimal3_0)\n",
    "print(\"There the distance between electrons is:\",electDistMinimalEnergy3_0)\n",
    "print(\"The Potential Energy at that position is:\", PotEnergyMinimal3_0)"
   ]
  },
  {
   "cell_type": "code",
   "execution_count": 1074,
   "metadata": {},
   "outputs": [
    {
     "data": {
      "text/plain": [
       "Text(0.5, 0, '$\\\\alpha$')"
      ]
     },
     "execution_count": 1074,
     "metadata": {},
     "output_type": "execute_result"
    },
    {
     "data": {
      "image/png": "[encoded data removed]",
      "text/plain": [
       "<Figure size 432x288 with 1 Axes>"
      ]
     },
     "metadata": {
      "needs_background": "light"
     },
     "output_type": "display_data"
    }
   ],
   "source": [
    "#Energy as a function of variational paramater alpha\n",
    "fig6_4,ax6_4 = plt.subplots()\n",
    "ax6_4.plot(alpha2_0,EnergyTotal3_0,'*')\n",
    "ax6_4.plot(alphaMinimal3_0,MinimalEnergy3_0,'r*')\n",
    "ax6_4.set_ylabel(\"Energy\")\n",
    "ax6_4.set_xlabel(r\"$\\alpha$\")"
   ]
  },
  {
   "cell_type": "markdown",
   "metadata": {},
   "source": [
    "**Again for $\\beta$:**"
   ]
  },
  {
   "cell_type": "code",
   "execution_count": 1085,
   "metadata": {},
   "outputs": [
    {
     "name": "stdout",
     "output_type": "stream",
     "text": [
      "[0.04   0.0415 0.043  0.0445 0.046  0.0475 0.049  0.0505 0.052  0.0535\n",
      " 0.055  0.0565 0.058  0.0595 0.061  0.0625 0.064  0.0655 0.067  0.0685\n",
      " 0.07   0.0715 0.073  0.0745 0.076  0.0775 0.079 ]\n"
     ]
    }
   ],
   "source": [
    "#Setting up range in beta\n",
    "beta2_0 = np.arange(0.04,0.08,0.0015)\n",
    "print(beta2_0)"
   ]
  },
  {
   "cell_type": "code",
   "execution_count": 1086,
   "metadata": {},
   "outputs": [
    {
     "name": "stdout",
     "output_type": "stream",
     "text": [
      "[56.5  56.25 56.   56.   56.   55.75 55.75 55.75 56.5  55.   56.25 56.5\n",
      " 55.5  55.25 55.   55.   55.25 55.5  55.25 55.5  55.25 55.   54.75 55.25\n",
      " 55.   55.75 55.  ]\n"
     ]
    }
   ],
   "source": [
    "#Finding the right stepsize\n",
    "stepsize_0 = np.arange(40,80,0.5)\n",
    "StepSize3_0 = FindStepsize2(stepsize,0.67,beta2_0,0.01)\n",
    "print(StepSize3_0)"
   ]
  },
  {
   "cell_type": "code",
   "execution_count": 1087,
   "metadata": {},
   "outputs": [
    {
     "name": "stdout",
     "output_type": "stream",
     "text": [
      "measurement took in seconds: 95.87823367118835\n"
     ]
    }
   ],
   "source": [
    "omega = 0.01\n",
    "alpha2_Minimal = 0.67\n",
    "EnergyTotal4_0 = np.zeros(len(beta2_0))\n",
    "CounterTotal4_0 = np.zeros(len(beta2_0))\n",
    "VarianceTotal4_0 = np.zeros(len(beta2_0))\n",
    "ElectronDistanceTotal4_0 = np.zeros(len(beta2_0))\n",
    "PotentialEnergyTotal4_0 = np.zeros(len(beta2_0))\n",
    "start = time.time()\n",
    "for i in range(len(beta2_0)):\n",
    "    Energy, Counter, Variance, ElectronDistance, PotEnergy = MonteCarlo2(int(2e6),omega,alpha2_Minimal,beta2_0[i],StepSize3_0[i])\n",
    "    EnergyTotal4_0[i] = Energy\n",
    "    CounterTotal4_0[i] = Counter\n",
    "    VarianceTotal4_0[i] = Variance\n",
    "    ElectronDistanceTotal4_0[i] = ElectronDistance\n",
    "    PotentialEnergyTotal4_0[i] = PotEnergy\n",
    "end = time.time()\n",
    "print(\"measurement took in seconds:\",end-start)"
   ]
  },
  {
   "cell_type": "code",
   "execution_count": 1374,
   "metadata": {},
   "outputs": [
    {
     "name": "stdout",
     "output_type": "stream",
     "text": [
      "The minimal in energy is 0.08057281968423592\n",
      "At the minimum the position in beta is 0.06700000000000003\n",
      "At that minimum the distance between electrons is: 29.60800191276884\n",
      "There the potential Energy is: 0.07156439817848091\n",
      "The variance at that minima is: 3.056955460188464e-05\n"
     ]
    }
   ],
   "source": [
    "#Finding the minimal energy\n",
    "MinimalEnergy4_0, electDistMinimalEnergy4_0, betaMinimal4_0, PotEnergyMinimal4_0, VarianceEnergyMinimal4_0 = FindMinimalEnergy(EnergyTotal4_0,ElectronDistanceTotal4_0,PotentialEnergyTotal4_0,VarianceTotal4_0,alpha2_Minimal,beta2_0,\"beta\")\n",
    "print(\"The minimal in energy is\",MinimalEnergy4_0)\n",
    "print(\"At the minimum the position in beta is\",betaMinimal4_0)\n",
    "print(\"At that minimum the distance between electrons is:\",electDistMinimalEnergy4_0)\n",
    "print(\"There the potential Energy is:\",PotEnergyMinimal4_0)\n",
    "print(\"The variance at that minima is:\",VarianceEnergyMinimal4_0)"
   ]
  },
  {
   "cell_type": "code",
   "execution_count": 1089,
   "metadata": {},
   "outputs": [
    {
     "data": {
      "text/plain": [
       "Text(0, 0.5, 'Energy')"
      ]
     },
     "execution_count": 1089,
     "metadata": {},
     "output_type": "execute_result"
    },
    {
     "data": {
      "image/png": "[encoded data removed]",
      "text/plain": [
       "<Figure size 432x288 with 1 Axes>"
      ]
     },
     "metadata": {
      "needs_background": "light"
     },
     "output_type": "display_data"
    }
   ],
   "source": [
    "#plotting Energy as a function of Beta\n",
    "fig6_5,ax6_5 = plt.subplots()\n",
    "ax6_5.plot(beta2_0[3:-1],EnergyTotal4_0[3:-1],'*')\n",
    "ax6_5.plot(betaMinimal4_0,MinimalEnergy4_0,'r*')\n",
    "ax6_5.set_xlabel(r\"$\\beta$\")\n",
    "ax6_5.set_ylabel(\"Energy\")"
   ]
  },
  {
   "cell_type": "markdown",
   "metadata": {},
   "source": [
    "# Then with $\\omega = 0.5$:"
   ]
  },
  {
   "cell_type": "code",
   "execution_count": 958,
   "metadata": {},
   "outputs": [],
   "source": [
    "omega3 = 0.5\n",
    "alpha3 = np.arange(0.2,2,0.02)\n",
    "stepsize3 = np.arange(0,10,0.05)\n",
    "StepSize3 = FindStepsize(stepsize3,alpha3,omega3)"
   ]
  },
  {
   "cell_type": "code",
   "execution_count": 959,
   "metadata": {},
   "outputs": [
    {
     "name": "stdout",
     "output_type": "stream",
     "text": [
      "measurement took in seconds: 117.50904297828674\n"
     ]
    }
   ],
   "source": [
    "EnergyTotal5 = np.zeros(len(alpha3))\n",
    "CounterTotal5 = np.zeros(len(alpha3))\n",
    "VarianceTotal5 = np.zeros(len(alpha3))\n",
    "ElectronDistanceTotal5 = np.zeros(len(alpha3))\n",
    "PotentialEnergyTotal5 = np.zeros(len(alpha3))\n",
    "start = time.time()\n",
    "for i in range(len(alpha3)):\n",
    "    stepTemp = StepSize3[i]\n",
    "    alphaTemp = alpha3[i]\n",
    "    Energy, Counter, Variance, ElectronDistance, PotEnergy = MonteCarloCoulomb(int(1e6),omega3,alphaTemp,stepTemp)\n",
    "    EnergyTotal5[i] = Energy\n",
    "    CounterTotal5[i] = Counter\n",
    "    VarianceTotal5[i] = Variance\n",
    "    ElectronDistanceTotal5[i] = ElectronDistance\n",
    "    PotentialEnergyTotal5[i] = PotEnergy\n",
    "end = time.time()\n",
    "print(\"measurement took in seconds:\",end-start)"
   ]
  },
  {
   "cell_type": "code",
   "execution_count": 960,
   "metadata": {},
   "outputs": [
    {
     "name": "stdout",
     "output_type": "stream",
     "text": [
      "The minimal energy is: 2.0400307056647056\n",
      "The minimal energy is at alpha = 0.8399999999999996\n",
      "There the distance between electrons is: 2.462966104617315\n",
      "At the minimum the potential energy is: 1.4102428880756577\n"
     ]
    }
   ],
   "source": [
    "#Finding the lowest energy\n",
    "MinimalEnergy5, electDistMinimalEnergy5, alphaMinimal5, PotEnergyMinimal5 = FindMinimalEnergy(EnergyTotal5,ElectronDistanceTotal5,PotentialEnergyTotal5,alpha3,1,\"alpha\")\n",
    "print(\"The minimal energy is:\",MinimalEnergy5)\n",
    "print(\"The minimal energy is at alpha =\",alphaMinimal5)\n",
    "print(\"There the distance between electrons is:\",electDistMinimalEnergy5)\n",
    "print(\"At the minimum the potential energy is:\",PotEnergyMinimal5)"
   ]
  },
  {
   "cell_type": "code",
   "execution_count": 689,
   "metadata": {},
   "outputs": [
    {
     "data": {
      "text/plain": [
       "Text(0, 0.5, 'Energy')"
      ]
     },
     "execution_count": 689,
     "metadata": {},
     "output_type": "execute_result"
    },
    {
     "data": {
      "image/png": "[encoded data removed]",
      "text/plain": [
       "<Figure size 432x288 with 1 Axes>"
      ]
     },
     "metadata": {
      "needs_background": "light"
     },
     "output_type": "display_data"
    }
   ],
   "source": [
    "#Energy as a function of variational paramater alpha\n",
    "fig7, ax7 = plt.subplots()\n",
    "ax7.plot(alpha3,EnergyTotal5,'*')\n",
    "ax7.plot(alphaMinimal5,MinimalEnergy5,'r*')\n",
    "ax7.set_xlabel(r\"$\\alpha$\")\n",
    "ax7.set_ylabel(\"Energy\")"
   ]
  },
  {
   "cell_type": "code",
   "execution_count": 690,
   "metadata": {},
   "outputs": [
    {
     "data": {
      "text/plain": [
       "Text(0.5, 0, '$\\\\alpha$')"
      ]
     },
     "execution_count": 690,
     "metadata": {},
     "output_type": "execute_result"
    },
    {
     "data": {
      "image/png": "[encoded data removed]",
      "text/plain": [
       "<Figure size 432x288 with 1 Axes>"
      ]
     },
     "metadata": {
      "needs_background": "light"
     },
     "output_type": "display_data"
    }
   ],
   "source": [
    "#Variance as a function of variational parameter alpha\n",
    "fig7_2,ax7_2 = plt.subplots()\n",
    "ax7_2.plot(alpha1,VarianceTotal5,'*')\n",
    "ax7_2.set_ylabel(\"Variance\")\n",
    "ax7_2.set_xlabel(r\"$\\alpha$\")"
   ]
  },
  {
   "cell_type": "markdown",
   "metadata": {},
   "source": [
    "**Then for variational parameter $\\beta$:**"
   ]
  },
  {
   "cell_type": "code",
   "execution_count": 697,
   "metadata": {},
   "outputs": [
    {
     "name": "stdout",
     "output_type": "stream",
     "text": [
      "[0.02 0.2  0.22 0.22 0.24 0.26 0.28 0.3  0.32 0.34 0.36 0.38 0.4  0.42\n",
      " 0.42 0.44 0.46 0.48 0.5  0.52 0.54 0.56 0.58 0.6  0.62 0.62 0.64 0.66\n",
      " 0.68 0.7  0.72 0.74 0.76 0.78 0.8  0.82 1.02 1.22 1.42 1.62 1.82 2.02\n",
      " 2.22 2.42 2.62 2.82]\n"
     ]
    }
   ],
   "source": [
    "#Setting up range in beta\n",
    "temp = np.arange(0.2,0.8,0.02)\n",
    "beta1 = np.arange(0.02,3,0.2)\n",
    "beta1 = np.concatenate((temp,beta1),axis=0)\n",
    "beta3 = np.sort(beta1)\n",
    "print(beta3)"
   ]
  },
  {
   "cell_type": "code",
   "execution_count": 698,
   "metadata": {},
   "outputs": [
    {
     "name": "stdout",
     "output_type": "stream",
     "text": [
      "[7.4 6.9 6.8 6.7 6.8 6.9 6.9 7.  6.8 6.8 6.7 6.7 6.9 6.8 6.8 6.9 6.7 6.7\n",
      " 6.7 6.6 6.8 6.5 6.5 6.7 6.6 6.6 6.7 6.6 6.5 6.6 6.6 6.7 6.5 6.6 6.6 6.5\n",
      " 6.5 6.5 6.5 6.2 6.4 6.4 6.4 6.5 6.6 6.4]\n"
     ]
    }
   ],
   "source": [
    "#Finding the right stepsize\n",
    "stepsize = np.arange(1,10,0.2)\n",
    "StepSize4 = FindStepsize2(stepsize,0.84,beta3,omega3)\n",
    "print(StepSize4)"
   ]
  },
  {
   "cell_type": "code",
   "execution_count": 699,
   "metadata": {},
   "outputs": [
    {
     "name": "stdout",
     "output_type": "stream",
     "text": [
      "measurement took in seconds: 80.72088384628296\n"
     ]
    }
   ],
   "source": [
    "alpha3 = 0.84\n",
    "EnergyTotal6 = np.zeros(len(beta3))\n",
    "CounterTotal6 = np.zeros(len(beta3))\n",
    "VarianceTotal6 = np.zeros(len(beta3))\n",
    "ElectronDistanceTotal6 = np.zeros(len(beta3))\n",
    "start = time.time()\n",
    "for i in range(len(beta3)):\n",
    "    Energy, Counter, Variance, ElectronDistance = MonteCarlo2(int(1e6),omega3,alpha3,beta3[i],StepSize4[i])\n",
    "    EnergyTotal6[i] = Energy\n",
    "    CounterTotal6[i] = Counter\n",
    "    VarianceTotal6[i] = Variance\n",
    "    ElectronDistanceTotal6[i] = ElectronDistance\n",
    "end = time.time()\n",
    "print(\"measurement took in seconds:\",end-start)"
   ]
  },
  {
   "cell_type": "code",
   "execution_count": 700,
   "metadata": {},
   "outputs": [
    {
     "name": "stdout",
     "output_type": "stream",
     "text": [
      "The minimum in energy is : 2.0128596173272544\n",
      "Beta at that minimum is: 0.41999999999999993\n",
      "The electron distance at the minimum is 2.7177013829051084\n"
     ]
    }
   ],
   "source": [
    "#Finding the minimal energy\n",
    "MinimalEnergy6, electDistMinimalEnergy6, betaMinimal6 = FindMinimalEnergy(EnergyTotal6,ElectronDistanceTotal6,alpha2,beta3,\"beta\")\n",
    "print(\"The minimum in energy is :\",MinimalEnergy6)\n",
    "print(\"Beta at that minimum is:\",betaMinimal6)\n",
    "print(\"The electron distance at the minimum is\",electDistMinimalEnergy6)"
   ]
  },
  {
   "cell_type": "code",
   "execution_count": 702,
   "metadata": {},
   "outputs": [
    {
     "data": {
      "text/plain": [
       "Text(0, 0.5, 'Energy')"
      ]
     },
     "execution_count": 702,
     "metadata": {},
     "output_type": "execute_result"
    },
    {
     "data": {
      "image/png": "[encoded data removed]",
      "text/plain": [
       "<Figure size 432x288 with 1 Axes>"
      ]
     },
     "metadata": {
      "needs_background": "light"
     },
     "output_type": "display_data"
    }
   ],
   "source": [
    "#plotting Energy as a function of Beta\n",
    "fig7_3,ax7_3 = plt.subplots()\n",
    "ax7_3.plot(beta3[1:-1],EnergyTotal6[1:-1],'*')\n",
    "ax7_3.plot(betaMinimal6,MinimalEnergy6,'r*')\n",
    "ax7_3.set_xlabel(r\"$\\beta$\")\n",
    "ax7_3.set_ylabel(\"Energy\")"
   ]
  },
  {
   "cell_type": "markdown",
   "metadata": {},
   "source": [
    "**Again for $\\alpha$:**"
   ]
  },
  {
   "cell_type": "code",
   "execution_count": 1094,
   "metadata": {},
   "outputs": [
    {
     "name": "stdout",
     "output_type": "stream",
     "text": [
      "[0.5  0.52 0.54 0.56 0.58 0.6  0.62 0.64 0.66 0.68 0.7  0.72 0.74 0.76\n",
      " 0.78 0.8  0.82 0.84 0.86 0.88 0.9  0.92 0.94 0.96 0.98 1.   1.02 1.04\n",
      " 1.06 1.08 1.1  1.12 1.14 1.16 1.18 1.2  1.22 1.24]\n"
     ]
    }
   ],
   "source": [
    "alpha3_0 = np.arange(0.5,1.25,0.02)\n",
    "print(alpha3_0)"
   ]
  },
  {
   "cell_type": "code",
   "execution_count": 1095,
   "metadata": {},
   "outputs": [],
   "source": [
    "stepsize3_0 = np.arange(0,10,0.05)\n",
    "StepSize3_0 = FindStepsize(stepsize3,alpha3,omega3)"
   ]
  },
  {
   "cell_type": "code",
   "execution_count": 1096,
   "metadata": {},
   "outputs": [
    {
     "name": "stdout",
     "output_type": "stream",
     "text": [
      "measurement took in seconds: 67.59955930709839\n"
     ]
    }
   ],
   "source": [
    "beta3_Minimal = 0.42\n",
    "EnergyTotal5_0 = np.zeros(len(alpha3_0))\n",
    "CounterTotal5_0 = np.zeros(len(alpha3_0))\n",
    "VarianceTotal5_0 = np.zeros(len(alpha3_0))\n",
    "ElectronDistanceTotal5_0 = np.zeros(len(alpha3_0))\n",
    "PotentialEnergyTotal5_0 = np.zeros(len(alpha3_0))\n",
    "start = time.time()\n",
    "for i in range(len(alpha3_0)):\n",
    "    stepTemp = StepSize3_0[i]\n",
    "    alphaTemp = alpha3_0[i]\n",
    "    Energy, Counter, Variance, ElectronDistance, PotEnergy = MonteCarlo2(int(1e6),omega3,alphaTemp,beta3_Minimal,stepTemp)\n",
    "    EnergyTotal5_0[i] = Energy\n",
    "    CounterTotal5_0[i] = Counter\n",
    "    VarianceTotal5_0[i] = Variance\n",
    "    ElectronDistanceTotal5_0[i] = ElectronDistance\n",
    "    PotentialEnergyTotal5_0[i] = PotEnergy\n",
    "end = time.time()\n",
    "print(\"measurement took in seconds:\",end-start)"
   ]
  },
  {
   "cell_type": "code",
   "execution_count": 1097,
   "metadata": {},
   "outputs": [
    {
     "name": "stdout",
     "output_type": "stream",
     "text": [
      "The minimal energy is: 2.00503064813686\n",
      "The minimal energy is at alpha = 0.9200000000000004\n",
      "There the distance between electrons is: 2.6014483803367923\n",
      "At the minimum the potential energy is: 1.3611579616898861\n"
     ]
    }
   ],
   "source": [
    "#Finding the lowest energy\n",
    "MinimalEnergy5_0, electDistMinimalEnergy5_0, alphaMinimal5_0, PotEnergyMinimal5_0 = FindMinimalEnergy(EnergyTotal5_0,ElectronDistanceTotal5_0,PotentialEnergyTotal5_0,alpha3_0,1,\"alpha\")\n",
    "print(\"The minimal energy is:\",MinimalEnergy5_0)\n",
    "print(\"The minimal energy is at alpha =\",alphaMinimal5_0)\n",
    "print(\"There the distance between electrons is:\",electDistMinimalEnergy5_0)\n",
    "print(\"At the minimum the potential energy is:\",PotEnergyMinimal5_0)"
   ]
  },
  {
   "cell_type": "code",
   "execution_count": 1098,
   "metadata": {},
   "outputs": [
    {
     "data": {
      "text/plain": [
       "Text(0, 0.5, 'Energy')"
      ]
     },
     "execution_count": 1098,
     "metadata": {},
     "output_type": "execute_result"
    },
    {
     "data": {
      "image/png": "[encoded data removed]",
      "text/plain": [
       "<Figure size 432x288 with 1 Axes>"
      ]
     },
     "metadata": {
      "needs_background": "light"
     },
     "output_type": "display_data"
    }
   ],
   "source": [
    "#Energy as a function of variational paramater alpha\n",
    "fig7_4, ax7_4 = plt.subplots()\n",
    "ax7_4.plot(alpha3_0,EnergyTotal5_0,'*')\n",
    "ax7_4.plot(alphaMinimal5_0,MinimalEnergy5_0,'r*')\n",
    "ax7_4.set_xlabel(r\"$\\alpha$\")\n",
    "ax7_4.set_ylabel(\"Energy\")"
   ]
  },
  {
   "cell_type": "markdown",
   "metadata": {},
   "source": [
    "**And again for $\\beta$:**"
   ]
  },
  {
   "cell_type": "code",
   "execution_count": 1103,
   "metadata": {},
   "outputs": [
    {
     "name": "stdout",
     "output_type": "stream",
     "text": [
      "[0.25 0.26 0.27 0.28 0.29 0.3  0.31 0.32 0.33 0.34 0.35 0.36 0.37 0.38\n",
      " 0.39 0.4  0.41 0.42 0.43 0.44 0.45 0.46 0.47 0.48 0.49 0.5  0.51 0.52\n",
      " 0.53 0.54 0.55 0.56 0.57 0.58 0.59 0.6  0.61 0.62 0.63 0.64 0.65 0.66\n",
      " 0.67 0.68 0.69 0.7  0.71 0.72 0.73 0.74]\n"
     ]
    }
   ],
   "source": [
    "#Setting up range in beta\n",
    "beta3_0 = np.arange(0.25,0.75,0.01)\n",
    "print(beta3_0)"
   ]
  },
  {
   "cell_type": "code",
   "execution_count": 1104,
   "metadata": {},
   "outputs": [
    {
     "name": "stdout",
     "output_type": "stream",
     "text": [
      "[6.9 6.9 6.7 6.9 7.  6.9 6.8 6.7 6.7 6.8 6.7 6.7 6.7 6.7 6.6 6.6 6.6 6.7\n",
      " 6.7 6.7 6.7 6.8 6.9 6.7 6.7 6.6 6.8 6.7 6.6 6.5 6.7 6.6 6.5 6.6 6.7 6.7\n",
      " 6.6 6.5 6.6 6.6 6.7 6.7 6.6 6.7 6.5 6.5 6.7 6.6 6.6 6.6]\n"
     ]
    }
   ],
   "source": [
    "#Finding the right stepsize\n",
    "stepsize = np.arange(1,10,0.2)\n",
    "StepSize4_0 = FindStepsize2(stepsize,0.84,beta3_0,omega3)\n",
    "print(StepSize4_0)"
   ]
  },
  {
   "cell_type": "code",
   "execution_count": 1106,
   "metadata": {},
   "outputs": [
    {
     "name": "stdout",
     "output_type": "stream",
     "text": [
      "measurement took in seconds: 87.71915531158447\n"
     ]
    }
   ],
   "source": [
    "alpha3_0 = 0.92\n",
    "EnergyTotal6_0 = np.zeros(len(beta3_0))\n",
    "CounterTotal6_0 = np.zeros(len(beta3_0))\n",
    "VarianceTotal6_0 = np.zeros(len(beta3_0))\n",
    "ElectronDistanceTotal6_0 = np.zeros(len(beta3_0))\n",
    "PotentialEnergyTotal6_0 = np.zeros(len(beta3_0))\n",
    "start = time.time()\n",
    "for i in range(len(beta3_0)):\n",
    "    Energy, Counter, Variance, ElectronDistance, PotEnergy = MonteCarlo2(int(1e6),omega3,alpha3_0,beta3_0[i],StepSize4_0[i])\n",
    "    EnergyTotal6_0[i] = Energy\n",
    "    CounterTotal6_0[i] = Counter\n",
    "    VarianceTotal6_0[i] = Variance\n",
    "    ElectronDistanceTotal6_0[i] = ElectronDistance\n",
    "    PotentialEnergyTotal6_0[i] = PotEnergy\n",
    "end = time.time()\n",
    "print(\"measurement took in seconds:\",end-start)"
   ]
  },
  {
   "cell_type": "code",
   "execution_count": 1375,
   "metadata": {},
   "outputs": [
    {
     "name": "stdout",
     "output_type": "stream",
     "text": [
      "The minimum in energy is : 2.002715170697718\n",
      "Beta at that minimum is: 0.29000000000000004\n",
      "The electron distance at the minimum is 2.6919737631791674\n",
      "Variance at that minima: 0.0029855517133423604\n"
     ]
    }
   ],
   "source": [
    "#Finding the minimal energy\n",
    "MinimalEnergy6_0, electDistMinimalEnergy6_0, betaMinimal6_0, PotEnergyMinimal6_0, VarianceEnergyMinimal6_0 = FindMinimalEnergy(EnergyTotal6_0,ElectronDistanceTotal6_0,PotentialEnergyTotal6_0,VarianceTotal6_0,alpha3_0,beta3_0,\"beta\")\n",
    "print(\"The minimum in energy is :\",MinimalEnergy6_0)\n",
    "print(\"Beta at that minimum is:\",betaMinimal6_0)\n",
    "print(\"The electron distance at the minimum is\",electDistMinimalEnergy6_0)\n",
    "print(\"Variance at that minima:\",VarianceEnergyMinimal6_0)"
   ]
  },
  {
   "cell_type": "markdown",
   "metadata": {},
   "source": [
    "# $\\omega = 0.25$ "
   ]
  },
  {
   "cell_type": "code",
   "execution_count": 962,
   "metadata": {},
   "outputs": [],
   "source": [
    "omega4 = 0.25\n",
    "alpha4 = np.arange(0.2,2,0.02)\n",
    "stepsize4 = np.arange(0,40,0.5)\n",
    "StepSize4 = FindStepsize(stepsize4,alpha4,omega4)"
   ]
  },
  {
   "cell_type": "code",
   "execution_count": 963,
   "metadata": {},
   "outputs": [
    {
     "name": "stdout",
     "output_type": "stream",
     "text": [
      "[19.25 18.25 17.5  16.75 16.25 15.75 15.25 15.   14.5  14.25 13.5  13.5\n",
      " 13.25 12.75 12.25 12.25 12.   11.5  11.5  11.25 11.   11.25 11.25 10.5\n",
      " 10.5  10.25 10.   10.25  9.75  9.75  9.75  9.5   9.5   9.25  9.25  9.25\n",
      "  9.    8.75  8.75  8.5   8.5   8.75  8.5   8.5   8.5   8.    8.    8.\n",
      "  8.    8.    8.    7.75  7.75  7.5   7.75  7.75  7.5   7.25  7.25  7.25\n",
      "  7.    7.25  7.    7.    7.25  7.    7.25  7.25  6.75  6.75  6.75  6.75\n",
      "  7.    6.5   6.5   6.75  6.5   6.5   6.5   6.5   6.5   6.25  6.5   6.5\n",
      "  6.25  6.5   6.25  6.25  6.    6.25]\n"
     ]
    }
   ],
   "source": [
    "print(StepSize4)"
   ]
  },
  {
   "cell_type": "code",
   "execution_count": 964,
   "metadata": {},
   "outputs": [
    {
     "name": "stdout",
     "output_type": "stream",
     "text": [
      "measurement took in seconds: 107.92413139343262\n"
     ]
    }
   ],
   "source": [
    "EnergyTotal7 = np.zeros(len(alpha4))\n",
    "CounterTotal7 = np.zeros(len(alpha4))\n",
    "VarianceTotal7 = np.zeros(len(alpha4))\n",
    "ElectronDistanceTotal7 = np.zeros(len(alpha4))\n",
    "PotentialEnergyTotal7 = np.zeros(len(alpha4))\n",
    "start = time.time()\n",
    "for i in range(len(alpha4)):\n",
    "    stepTemp = StepSize4[i]\n",
    "    alphaTemp = alpha4[i]\n",
    "    Energy, Counter, Variance, ElectronDistance, PotEnergy = MonteCarloCoulomb(int(1e6),omega4,alphaTemp,stepTemp)\n",
    "    EnergyTotal7[i] = Energy\n",
    "    CounterTotal7[i] = Counter\n",
    "    VarianceTotal7[i] = Variance\n",
    "    ElectronDistanceTotal7[i] = ElectronDistance\n",
    "    PotentialEnergyTotal7[i] = PotEnergy\n",
    "end = time.time()\n",
    "print(\"measurement took in seconds:\",end-start)"
   ]
  },
  {
   "cell_type": "code",
   "execution_count": 966,
   "metadata": {},
   "outputs": [
    {
     "name": "stdout",
     "output_type": "stream",
     "text": [
      "The minimal energy is: 1.1255795639663753\n",
      "The minimal energy is at alpha = 0.7999999999999996\n",
      "There the distance between electrons is: 3.5658542428598317\n",
      "There the potential energy is 0.8250581837269761\n"
     ]
    }
   ],
   "source": [
    "#Finding the lowest energy\n",
    "MinimalEnergy7, electDistMinimalEnergy7, alphaMinimal7, PotEnergyMinimal7 = FindMinimalEnergy(EnergyTotal7,ElectronDistanceTotal7,PotentialEnergyTotal7,alpha1,1,\"alpha\")\n",
    "print(\"The minimal energy is:\",MinimalEnergy7)\n",
    "print(\"The minimal energy is at alpha =\",alphaMinimal7)\n",
    "print(\"There the distance between electrons is:\",electDistMinimalEnergy7)\n",
    "print(\"There the potential energy is\",PotEnergyMinimal7)"
   ]
  },
  {
   "cell_type": "code",
   "execution_count": 751,
   "metadata": {},
   "outputs": [
    {
     "data": {
      "text/plain": [
       "Text(0, 0.5, 'Variance')"
      ]
     },
     "execution_count": 751,
     "metadata": {},
     "output_type": "execute_result"
    },
    {
     "data": {
      "image/png": "[encoded data removed]",
      "text/plain": [
       "<Figure size 432x288 with 1 Axes>"
      ]
     },
     "metadata": {
      "needs_background": "light"
     },
     "output_type": "display_data"
    },
    {
     "data": {
      "image/png": "[encoded data removed]",
      "text/plain": [
       "<Figure size 432x288 with 1 Axes>"
      ]
     },
     "metadata": {
      "needs_background": "light"
     },
     "output_type": "display_data"
    }
   ],
   "source": [
    "#Energy as a function of variational paramater alpha\n",
    "fig8, ax8 = plt.subplots()\n",
    "ax8.plot(alpha1,EnergyTotal7,'*')\n",
    "ax8.plot(alphaMinimal7,MinimalEnergy7,'r*')\n",
    "ax8.set_xlabel(r\"$\\alpha$\")\n",
    "ax8.set_ylabel(\"Energy\")\n",
    "#Variance\n",
    "#Energy as a function of variational paramater alpha\n",
    "fig8_1, ax8_1 = plt.subplots()\n",
    "ax8_1.plot(alpha1,VarianceTotal7,'*')\n",
    "ax8.set_xlabel(r\"$\\alpha$\")\n",
    "ax8.set_ylabel(\"Variance\")"
   ]
  },
  {
   "cell_type": "markdown",
   "metadata": {},
   "source": [
    "**Then for variational parameter $\\beta$:**"
   ]
  },
  {
   "cell_type": "code",
   "execution_count": 713,
   "metadata": {},
   "outputs": [
    {
     "name": "stdout",
     "output_type": "stream",
     "text": [
      "[0.002 0.1   0.102 0.104 0.106 0.108 0.11  0.112 0.114 0.116 0.118 0.12\n",
      " 0.122 0.124 0.126 0.128 0.13  0.132 0.134 0.136 0.138 0.14  0.142 0.144\n",
      " 0.146 0.148 0.15  0.152 0.154 0.156 0.158 0.16  0.162 0.164 0.166 0.168\n",
      " 0.17  0.172 0.174 0.176 0.178 0.18  0.182 0.184 0.186 0.188 0.19  0.192\n",
      " 0.194 0.196 0.198 0.2   0.202 0.202 0.204 0.206 0.208 0.21  0.212 0.214\n",
      " 0.216 0.218 0.22  0.222 0.224 0.226 0.228 0.23  0.232 0.234 0.236 0.238\n",
      " 0.24  0.242 0.244 0.246 0.248 0.25  0.252 0.254 0.256 0.258 0.26  0.262\n",
      " 0.264 0.266 0.268 0.27  0.272 0.274 0.276 0.278 0.28  0.282 0.284 0.286\n",
      " 0.288 0.29  0.292 0.294 0.296 0.298 0.3   0.302 0.304 0.306 0.308 0.31\n",
      " 0.312 0.314 0.316 0.318 0.32  0.322 0.324 0.326 0.328 0.33  0.332 0.334\n",
      " 0.336 0.338 0.34  0.342 0.344 0.346 0.348 0.35  0.352 0.354 0.356 0.358\n",
      " 0.36  0.362 0.364 0.366 0.368 0.37  0.372 0.374 0.376 0.378 0.38  0.382\n",
      " 0.384 0.386 0.388 0.39  0.392 0.394 0.396 0.398 0.4   0.402 0.602 0.802\n",
      " 1.002 1.202 1.402 1.602 1.802]\n"
     ]
    }
   ],
   "source": [
    "#Setting up range in beta\n",
    "temp = np.arange(0.002,2,0.2)\n",
    "beta1 = np.arange(0.1,0.4,0.002)\n",
    "beta1 = np.concatenate((temp,beta1),axis=0)\n",
    "beta4 = np.sort(beta1)\n",
    "print(beta4)"
   ]
  },
  {
   "cell_type": "code",
   "execution_count": 714,
   "metadata": {},
   "outputs": [
    {
     "name": "stdout",
     "output_type": "stream",
     "text": [
      "[5.4 5.1 5.1 5.1 5.  5.  5.1 5.1 5.1 5.  5.1 5.  5.  5.  5.1 5.  5.1 5.1\n",
      " 5.1 5.1 5.  5.  5.  5.  5.  5.  4.9 5.  5.  5.  5.  5.  4.9 4.9 5.  5.\n",
      " 5.1 5.  4.9 4.9 4.9 5.  5.  5.  4.8 5.  5.1 4.9 5.  4.9 4.8 5.1 4.9 5.\n",
      " 5.  5.1 5.  5.1 4.9 5.  4.9 4.9 4.9 4.9 5.  4.8 5.  5.1 5.  5.  5.  5.\n",
      " 4.9 5.  4.9 5.  4.8 5.  4.9 4.9 4.8 5.  4.9 4.8 4.9 5.  4.9 4.9 5.  5.\n",
      " 4.9 4.8 4.9 5.  4.8 4.9 4.9 4.9 5.  4.8 4.9 4.9 5.  5.  5.  4.9 4.9 4.9\n",
      " 4.8 4.8 4.9 4.9 4.9 4.9 4.8 5.  4.8 4.8 4.9 4.9 4.7 4.9 4.8 4.9 4.9 4.8\n",
      " 4.9 5.  4.9 4.9 4.8 5.  5.  4.8 5.  4.9 4.9 4.8 4.9 4.9 4.8 4.8 4.8 4.8\n",
      " 4.8 4.8 5.  4.9 4.9 4.9 4.9 4.8 4.8 4.9 4.8 4.8 4.8 4.8 4.8 4.6 4.7]\n"
     ]
    }
   ],
   "source": [
    "#Finding the right stepsize\n",
    "stepsize = np.arange(1,10,0.2)\n",
    "StepSize4 = FindStepsize2(stepsize,0.8,beta4,1)\n",
    "print(StepSize4)"
   ]
  },
  {
   "cell_type": "code",
   "execution_count": 715,
   "metadata": {},
   "outputs": [
    {
     "name": "stdout",
     "output_type": "stream",
     "text": [
      "measurement took in seconds: 277.67400455474854\n"
     ]
    }
   ],
   "source": [
    "omega4 = 0.25\n",
    "alpha4 = 0.8\n",
    "EnergyTotal8 = np.zeros(len(beta4))\n",
    "CounterTotal8 = np.zeros(len(beta4))\n",
    "VarianceTotal8 = np.zeros(len(beta4))\n",
    "ElectronDistanceTotal8 = np.zeros(len(beta4))\n",
    "start = time.time()\n",
    "for i in range(len(beta4)):\n",
    "    Energy, Counter, Variance, ElectronDistance = MonteCarlo2(int(1e6),omega4,alpha4,beta4[i],StepSize4[i])\n",
    "    EnergyTotal8[i] = Energy\n",
    "    CounterTotal8[i] = Counter\n",
    "    VarianceTotal8[i] = Variance\n",
    "    ElectronDistanceTotal8[i] = ElectronDistance\n",
    "end = time.time()\n",
    "print(\"measurement took in seconds:\",end-start)"
   ]
  },
  {
   "cell_type": "code",
   "execution_count": 718,
   "metadata": {},
   "outputs": [
    {
     "name": "stdout",
     "output_type": "stream",
     "text": [
      "The minimum in energy is : 1.0999148076438836\n",
      "Beta at that minimum is: 0.3240000000000002\n",
      "The electron distance at the minimum is 4.0456760555373\n",
      "The minimum in energy is (Filtered): 1.0999637389270445\n",
      "Beta at that minimum is (Filtered): 0.3240000000000002\n",
      "The electron distance at the minimum is (Filtered) 4.0456760555373\n"
     ]
    }
   ],
   "source": [
    "#Finding the minimal energy\n",
    "EnergyTotal8Filtered = savgol_filter(EnergyTotal8,window_length=5,polyorder=3)\n",
    "MinimalEnergy8, electDistMinimalEnergy8, betaMinimal8 = FindMinimalEnergy(EnergyTotal8,ElectronDistanceTotal8,alpha4,beta4,\"beta\")\n",
    "print(\"The minimum in energy is :\",MinimalEnergy8)\n",
    "print(\"Beta at that minimum is:\",betaMinimal8)\n",
    "print(\"The electron distance at the minimum is\",electDistMinimalEnergy8)\n",
    "MinimalEnergy8Filt, electDistMinimalEnergy8Filt, betaMinimal8Filt = FindMinimalEnergy(EnergyTotal8Filtered,ElectronDistanceTotal8,alpha2,beta4,\"beta\")\n",
    "print(\"The minimum in energy is (Filtered):\",MinimalEnergy8Filt)\n",
    "print(\"Beta at that minimum is (Filtered):\",betaMinimal8Filt)\n",
    "print(\"The electron distance at the minimum is (Filtered)\",electDistMinimalEnergy8Filt)"
   ]
  },
  {
   "cell_type": "code",
   "execution_count": 717,
   "metadata": {},
   "outputs": [
    {
     "data": {
      "text/plain": [
       "<matplotlib.legend.Legend at 0x17a37dfb240>"
      ]
     },
     "execution_count": 717,
     "metadata": {},
     "output_type": "execute_result"
    },
    {
     "data": {
      "image/png": "[encoded data removed]",
      "text/plain": [
       "<Figure size 432x288 with 1 Axes>"
      ]
     },
     "metadata": {
      "needs_background": "light"
     },
     "output_type": "display_data"
    }
   ],
   "source": [
    "#plotting Energy as a function of Beta\n",
    "fig8_3,ax8_3 = plt.subplots()\n",
    "ax8_3.plot(beta4[1:-1],EnergyTotal8[1:-1],'*',label=\"Original data\")#Spurning um að nota einhver filter til að ná út suði\n",
    "ax8_3.plot(betaMinimal8,MinimalEnergy8,'r*')\n",
    "ax8_3.plot(betaMinimal8Filt,MinimalEnergy8Filt,'r*')\n",
    "ax8_3.set_xlabel(r\"$\\beta$\")\n",
    "ax8_3.set_ylabel(\"Energy\")\n",
    "#Trying to filter the data\n",
    "MinimalEnergy8Filtered = savgol_filter(EnergyTotal8[1:-1],window_length=7,polyorder=5)\n",
    "ax8_3.plot(beta4[1:-1],MinimalEnergy8Filtered,label=\"Filtered Data\")\n",
    "ax8_3.legend()"
   ]
  },
  {
   "cell_type": "markdown",
   "metadata": {},
   "source": [
    "**Again for $\\alpha$:**"
   ]
  },
  {
   "cell_type": "code",
   "execution_count": 1112,
   "metadata": {},
   "outputs": [
    {
     "name": "stdout",
     "output_type": "stream",
     "text": [
      "[0.5  0.51 0.52 0.53 0.54 0.55 0.56 0.57 0.58 0.59 0.6  0.61 0.62 0.63\n",
      " 0.64 0.65 0.66 0.67 0.68 0.69 0.7  0.71 0.72 0.73 0.74 0.75 0.76 0.77\n",
      " 0.78 0.79 0.8  0.81 0.82 0.83 0.84 0.85 0.86 0.87 0.88 0.89 0.9  0.91\n",
      " 0.92 0.93 0.94 0.95 0.96 0.97 0.98 0.99 1.   1.01 1.02 1.03 1.04 1.05\n",
      " 1.06 1.07 1.08 1.09 1.1  1.11 1.12 1.13 1.14 1.15 1.16 1.17 1.18 1.19\n",
      " 1.2  1.21 1.22 1.23 1.24]\n"
     ]
    }
   ],
   "source": [
    "omega4 = 0.25\n",
    "alpha4_0 = np.arange(0.5,1.25,0.01)\n",
    "print(alpha4_0)"
   ]
  },
  {
   "cell_type": "code",
   "execution_count": 1113,
   "metadata": {},
   "outputs": [],
   "source": [
    "stepsize4_0 = np.arange(0,40,0.5)\n",
    "StepSize4_0 = FindStepsize(stepsize4,alpha4,omega4)"
   ]
  },
  {
   "cell_type": "code",
   "execution_count": 1114,
   "metadata": {},
   "outputs": [
    {
     "name": "stdout",
     "output_type": "stream",
     "text": [
      "measurement took in seconds: 133.92133569717407\n"
     ]
    }
   ],
   "source": [
    "beta4_Minimal = 0.324\n",
    "EnergyTotal7_0 = np.zeros(len(alpha4_0))\n",
    "CounterTotal7_0 = np.zeros(len(alpha4_0))\n",
    "VarianceTotal7_0 = np.zeros(len(alpha4_0))\n",
    "ElectronDistanceTotal7_0 = np.zeros(len(alpha4_0))\n",
    "PotentialEnergyTotal7_0 = np.zeros(len(alpha4_0))\n",
    "start = time.time()\n",
    "for i in range(len(alpha4_0)):\n",
    "    stepTemp = StepSize4_0[i]\n",
    "    alphaTemp = alpha4_0[i]\n",
    "    Energy, Counter, Variance, ElectronDistance, PotEnergy = MonteCarlo2(int(1e6),omega4,alphaTemp,beta4_Minimal,stepTemp)\n",
    "    EnergyTotal7_0[i] = Energy\n",
    "    CounterTotal7_0[i] = Counter\n",
    "    VarianceTotal7_0[i] = Variance\n",
    "    ElectronDistanceTotal7_0[i] = ElectronDistance\n",
    "    PotentialEnergyTotal7_0[i] = PotEnergy\n",
    "end = time.time()\n",
    "print(\"measurement took in seconds:\",end-start)"
   ]
  },
  {
   "cell_type": "code",
   "execution_count": 1115,
   "metadata": {},
   "outputs": [
    {
     "name": "stdout",
     "output_type": "stream",
     "text": [
      "The minimal energy is: 1.0943621937129484\n",
      "The minimal energy is at alpha = 0.9100000000000004\n",
      "There the distance between electrons is: 3.7947167957062238\n",
      "There the potential energy is 0.7785617330253963\n"
     ]
    }
   ],
   "source": [
    "#Finding the lowest energy\n",
    "MinimalEnergy7_0, electDistMinimalEnergy7_0, alphaMinimal7_0, PotEnergyMinimal7_0 = FindMinimalEnergy(EnergyTotal7_0,ElectronDistanceTotal7_0,PotentialEnergyTotal7_0,alpha4_0,1,\"alpha\")\n",
    "print(\"The minimal energy is:\",MinimalEnergy7_0)\n",
    "print(\"The minimal energy is at alpha =\",alphaMinimal7_0)\n",
    "print(\"There the distance between electrons is:\",electDistMinimalEnergy7_0)\n",
    "print(\"There the potential energy is\",PotEnergyMinimal7_0)"
   ]
  },
  {
   "cell_type": "markdown",
   "metadata": {},
   "source": [
    "**Again for $\\beta$:**"
   ]
  },
  {
   "cell_type": "code",
   "execution_count": 1118,
   "metadata": {},
   "outputs": [
    {
     "name": "stdout",
     "output_type": "stream",
     "text": [
      "[0.2   0.205 0.21  0.215 0.22  0.225 0.23  0.235 0.24  0.245 0.25  0.255\n",
      " 0.26  0.265 0.27  0.275 0.28  0.285 0.29  0.295 0.3   0.305 0.31  0.315\n",
      " 0.32  0.325 0.33  0.335 0.34  0.345 0.35  0.355 0.36  0.365 0.37  0.375\n",
      " 0.38  0.385 0.39  0.395 0.4   0.405 0.41  0.415 0.42  0.425 0.43  0.435\n",
      " 0.44  0.445 0.45  0.455 0.46  0.465 0.47  0.475 0.48  0.485 0.49  0.495]\n"
     ]
    }
   ],
   "source": [
    "#Setting up range in beta\n",
    "beta4_0 = np.arange(0.2,0.5,0.005)\n",
    "print(beta4_0)"
   ]
  },
  {
   "cell_type": "code",
   "execution_count": 1119,
   "metadata": {},
   "outputs": [
    {
     "name": "stdout",
     "output_type": "stream",
     "text": [
      "[4.7 4.6 4.6 4.6 4.6 4.7 4.7 4.5 4.6 4.6 4.5 4.6 4.7 4.5 4.7 4.6 4.7 4.5\n",
      " 4.6 4.5 4.6 4.6 4.5 4.6 4.5 4.6 4.6 4.6 4.6 4.5 4.6 4.6 4.6 4.5 4.5 4.5\n",
      " 4.5 4.5 4.6 4.6 4.6 4.5 4.6 4.5 4.6 4.5 4.6 4.6 4.5 4.4 4.5 4.5 4.5 4.6\n",
      " 4.5 4.5 4.6 4.5 4.6 4.5]\n"
     ]
    }
   ],
   "source": [
    "#Finding the right stepsize\n",
    "stepsize = np.arange(1,10,0.2)\n",
    "StepSize4_0 = FindStepsize2(stepsize,0.91,beta4_0,1)\n",
    "print(StepSize4_0)"
   ]
  },
  {
   "cell_type": "code",
   "execution_count": 1120,
   "metadata": {},
   "outputs": [
    {
     "name": "stdout",
     "output_type": "stream",
     "text": [
      "measurement took in seconds: 105.69120001792908\n"
     ]
    }
   ],
   "source": [
    "omega4 = 0.25\n",
    "alpha4_Minimal = 0.91\n",
    "EnergyTotal8_0 = np.zeros(len(beta4_0))\n",
    "CounterTotal8_0 = np.zeros(len(beta4_0))\n",
    "VarianceTotal8_0 = np.zeros(len(beta4_0))\n",
    "ElectronDistanceTotal8_0 = np.zeros(len(beta4_0))\n",
    "PotentialEnergyTotal8_0 = np.zeros(len(beta4_0))\n",
    "start = time.time()\n",
    "for i in range(len(beta4_0)):\n",
    "    Energy, Counter, Variance, ElectronDistance, PotEnergy = MonteCarlo2(int(1e6),omega4,alpha4_Minimal,beta4_0[i],StepSize4_0[i])\n",
    "    EnergyTotal8_0[i] = Energy\n",
    "    CounterTotal8_0[i] = Counter\n",
    "    VarianceTotal8_0[i] = Variance\n",
    "    ElectronDistanceTotal8_0[i] = ElectronDistance\n",
    "    PotentialEnergyTotal8_0[i] = PotEnergy\n",
    "end = time.time()\n",
    "print(\"measurement took in seconds:\",end-start)"
   ]
  },
  {
   "cell_type": "code",
   "execution_count": 1377,
   "metadata": {},
   "outputs": [
    {
     "name": "stdout",
     "output_type": "stream",
     "text": [
      "The minimum in energy is : 1.0909927644001682\n",
      "Beta at that minimum is: 0.20500000000000002\n",
      "The electron distance at the minimum is 4.020555197640189\n",
      "Variance at that minima: 0.0009302057388222984\n"
     ]
    }
   ],
   "source": [
    "MinimalEnergy8_0, electDistMinimalEnergy8_0, betaMinimal8_0, PotEnergyMinimal8_0, VarianceEnergyMinimal8_0 = FindMinimalEnergy(EnergyTotal8_0,ElectronDistanceTotal8_0,PotentialEnergyTotal8_0,VarianceTotal8_0,alpha4_Minimal,beta4_0,\"beta\")\n",
    "print(\"The minimum in energy is :\",MinimalEnergy8_0)\n",
    "print(\"Beta at that minimum is:\",betaMinimal8_0)\n",
    "print(\"The electron distance at the minimum is\",electDistMinimalEnergy8_0)\n",
    "print(\"Variance at that minima:\",VarianceEnergyMinimal8_0)"
   ]
  },
  {
   "cell_type": "markdown",
   "metadata": {},
   "source": [
    "#  $\\omega = 0.05$"
   ]
  },
  {
   "cell_type": "code",
   "execution_count": 967,
   "metadata": {},
   "outputs": [],
   "source": [
    "omega5 = 0.05\n",
    "alpha5 = np.arange(0.2,2,0.02)\n",
    "stepsize5 = np.arange(0,40,0.5)\n",
    "StepSize5 = FindStepsize(stepsize5,alpha5,omega5)"
   ]
  },
  {
   "cell_type": "code",
   "execution_count": 968,
   "metadata": {},
   "outputs": [
    {
     "name": "stdout",
     "output_type": "stream",
     "text": [
      "[35.25 34.75 34.25 33.5  32.75 32.5  32.25 32.   31.25 31.   30.5  29.75\n",
      " 29.25 28.75 28.   27.25 26.75 26.   25.75 25.5  25.25 24.   24.   23.5\n",
      " 23.5  23.25 22.75 22.75 22.   22.5  21.5  21.25 21.5  20.25 20.5  20.5\n",
      " 19.75 19.75 19.5  19.25 19.   18.75 18.75 19.   18.5  18.5  18.   18.25\n",
      " 17.75 17.75 17.5  17.25 17.25 17.5  17.25 17.   16.5  16.75 16.25 16.\n",
      " 16.25 16.25 16.25 16.   15.5  15.75 15.75 15.75 15.5  15.25 14.75 15.\n",
      " 15.   15.   14.75 14.75 15.   14.5  14.75 14.75 14.5  14.   14.25 14.\n",
      " 13.75 14.   14.   14.   14.   13.75]\n"
     ]
    }
   ],
   "source": [
    "print(StepSize5)"
   ]
  },
  {
   "cell_type": "code",
   "execution_count": 969,
   "metadata": {},
   "outputs": [
    {
     "name": "stdout",
     "output_type": "stream",
     "text": [
      "measurement took in seconds: 120.52262425422668\n"
     ]
    }
   ],
   "source": [
    "EnergyTotal9 = np.zeros(len(alpha5))\n",
    "CounterTotal9 = np.zeros(len(alpha5))\n",
    "VarianceTotal9 = np.zeros(len(alpha5))\n",
    "ElectronDistanceTotal9 = np.zeros(len(alpha5))\n",
    "PotentialEnergyTotal9 = np.zeros(len(alpha5))\n",
    "start = time.time()\n",
    "for i in range(len(alpha5)):\n",
    "    stepTemp = StepSize5[i]\n",
    "    alphaTemp = alpha5[i]\n",
    "    Energy, Counter, Variance, ElectronDistance, PotEnergy = MonteCarloCoulomb(int(1e6),omega5,alphaTemp,stepTemp)\n",
    "    EnergyTotal9[i] = Energy\n",
    "    CounterTotal9[i] = Counter\n",
    "    VarianceTotal9[i] = Variance\n",
    "    ElectronDistanceTotal9[i] = ElectronDistance\n",
    "    PotentialEnergyTotal9[i] = PotEnergy\n",
    "end = time.time()\n",
    "print(\"measurement took in seconds:\",end-start)"
   ]
  },
  {
   "cell_type": "code",
   "execution_count": 970,
   "metadata": {},
   "outputs": [
    {
     "name": "stdout",
     "output_type": "stream",
     "text": [
      "The minimal energy is: 0.30782050389761123\n",
      "The minimal energy is at alpha = 0.6399999999999998\n",
      "There the distance between electrons is: 8.92743671957213\n",
      "There the potential energy is 0.25984238035651025\n"
     ]
    }
   ],
   "source": [
    "#Finding the lowest energy\n",
    "MinimalEnergy9, electDistMinimalEnergy9, alphaMinimal9, PotEnergyMinimal9 = FindMinimalEnergy(EnergyTotal9,ElectronDistanceTotal9,PotentialEnergyTotal9,alpha5,omega5,\"alpha\")\n",
    "print(\"The minimal energy is:\",MinimalEnergy9)\n",
    "print(\"The minimal energy is at alpha =\",alphaMinimal9)\n",
    "print(\"There the distance between electrons is:\",electDistMinimalEnergy9)\n",
    "print(\"There the potential energy is\",PotEnergyMinimal9)"
   ]
  },
  {
   "cell_type": "code",
   "execution_count": 730,
   "metadata": {},
   "outputs": [
    {
     "data": {
      "text/plain": [
       "Text(0, 0.5, 'Energy')"
      ]
     },
     "execution_count": 730,
     "metadata": {},
     "output_type": "execute_result"
    },
    {
     "data": {
      "image/png": "[encoded data removed]",
      "text/plain": [
       "<Figure size 432x288 with 1 Axes>"
      ]
     },
     "metadata": {
      "needs_background": "light"
     },
     "output_type": "display_data"
    }
   ],
   "source": [
    "#Energy as a function of variational paramater alpha\n",
    "fig9, ax9 = plt.subplots()\n",
    "ax9.plot(alpha5,EnergyTotal9,'*')\n",
    "ax9.plot(alphaMinimal9,MinimalEnergy9,'r*')\n",
    "ax9.set_xlabel(r\"$\\alpha$\")\n",
    "ax9.set_ylabel(\"Energy\")"
   ]
  },
  {
   "cell_type": "markdown",
   "metadata": {},
   "source": [
    "**Then for $\\beta$ based on optimal $\\alpha$:**"
   ]
  },
  {
   "cell_type": "code",
   "execution_count": 1261,
   "metadata": {},
   "outputs": [
    {
     "name": "stdout",
     "output_type": "stream",
     "text": [
      "[0.1   0.105 0.11  0.115 0.12  0.125 0.13  0.135 0.14  0.145 0.15  0.155\n",
      " 0.16  0.165 0.17  0.175 0.18  0.185 0.19  0.195 0.2   0.205 0.21  0.215\n",
      " 0.22  0.225 0.23  0.235 0.24  0.245 0.25  0.255 0.26  0.265 0.27  0.275\n",
      " 0.28  0.285 0.29  0.295 0.3   0.305 0.31  0.315 0.32  0.325 0.33  0.335\n",
      " 0.34  0.345 0.35  0.355 0.36  0.365 0.37  0.375 0.38  0.385 0.39  0.395\n",
      " 0.4   0.405 0.41  0.415 0.42  0.425 0.43  0.435 0.44  0.445 0.45  0.455\n",
      " 0.46  0.465 0.47  0.475 0.48  0.485 0.49  0.495]\n"
     ]
    }
   ],
   "source": [
    "#Setting up range in beta\n",
    "beta5 = np.arange(0.1,0.5,0.005)\n",
    "print(beta5)"
   ]
  },
  {
   "cell_type": "code",
   "execution_count": 1262,
   "metadata": {},
   "outputs": [
    {
     "name": "stdout",
     "output_type": "stream",
     "text": [
      "[25.7 25.4 25.4 25.4 25.1 25.2 25.  25.2 24.9 24.9 25.1 24.9 24.7 24.8\n",
      " 24.9 24.8 24.7 24.7 24.6 24.4 24.8 24.6 24.6 24.3 24.3 24.3 24.4 24.8\n",
      " 24.3 24.5 24.6 24.2 24.2 24.6 24.4 24.5 24.6 24.2 24.5 24.3 24.1 24.1\n",
      " 24.2 24.2 24.1 24.2 23.8 24.2 24.  23.8 24.1 24.3 24.1 24.3 24.1 23.9\n",
      " 23.9 23.8 24.  23.9 23.9 24.  23.8 24.1 23.9 23.7 23.8 23.6 24.1 24.1\n",
      " 24.  23.8 24.  23.6 23.9 23.7 24.  24.  23.8 23.7]\n"
     ]
    }
   ],
   "source": [
    "#Finding the right stepsize\n",
    "stepsize = np.arange(10,40,0.2)\n",
    "StepSize5 = FindStepsize2(stepsize,0.64,beta5,omega5)\n",
    "print(StepSize5)"
   ]
  },
  {
   "cell_type": "code",
   "execution_count": 1263,
   "metadata": {},
   "outputs": [
    {
     "name": "stdout",
     "output_type": "stream",
     "text": [
      "80 80\n"
     ]
    }
   ],
   "source": [
    "print(len(beta5),len(StepSize5))"
   ]
  },
  {
   "cell_type": "code",
   "execution_count": 1264,
   "metadata": {},
   "outputs": [
    {
     "name": "stdout",
     "output_type": "stream",
     "text": [
      "measurement took in seconds: 671.6514668464661\n"
     ]
    }
   ],
   "source": [
    "omega5 = 0.05\n",
    "alpha5 = 0.64\n",
    "EnergyTotal10 = np.zeros(len(beta5))\n",
    "CounterTotal10 = np.zeros(len(beta5))\n",
    "VarianceTotal10 = np.zeros(len(beta5))\n",
    "ElectronDistanceTotal10 = np.zeros(len(beta5))\n",
    "PotentialEnergyTotal10 = np.zeros(len(beta5))\n",
    "start = time.time()\n",
    "for i in range(len(beta5)):\n",
    "    Energy, Counter, Variance, ElectronDistance, PotEnergy = MonteCarlo2(int(5e6),omega5,alpha5,beta5[i],StepSize5[i])\n",
    "    EnergyTotal10[i] = Energy\n",
    "    CounterTotal10[i] = Counter\n",
    "    VarianceTotal10[i] = Variance\n",
    "    ElectronDistanceTotal10[i] = ElectronDistance\n",
    "    PotentialEnergyTotal10[i] = PotEnergy\n",
    "end = time.time()\n",
    "print(\"measurement took in seconds:\",end-start)"
   ]
  },
  {
   "cell_type": "code",
   "execution_count": 1265,
   "metadata": {},
   "outputs": [
    {
     "name": "stdout",
     "output_type": "stream",
     "text": [
      "The minimum in energy is : 0.29165951893106984\n",
      "Beta at that minimum is: 0.18000000000000008\n",
      "The electron distance at the minimum is 10.873373978293293\n"
     ]
    }
   ],
   "source": [
    "MinimalEnergy10, electDistMinimalEnergy10, betaMinimal10, PotEnergyMinimal10 = FindMinimalEnergy(EnergyTotal10,ElectronDistanceTotal10,PotentialEnergyTotal10,alpha5,beta5,\"beta\")\n",
    "print(\"The minimum in energy is :\",MinimalEnergy10)\n",
    "print(\"Beta at that minimum is:\",betaMinimal10)\n",
    "print(\"The electron distance at the minimum is\",electDistMinimalEnergy10)"
   ]
  },
  {
   "cell_type": "code",
   "execution_count": 1266,
   "metadata": {},
   "outputs": [
    {
     "data": {
      "text/plain": [
       "Text(0, 0.5, 'Energy')"
      ]
     },
     "execution_count": 1266,
     "metadata": {},
     "output_type": "execute_result"
    },
    {
     "data": {
      "image/png": "[encoded data removed]",
      "text/plain": [
       "<Figure size 432x288 with 1 Axes>"
      ]
     },
     "metadata": {
      "needs_background": "light"
     },
     "output_type": "display_data"
    }
   ],
   "source": [
    "#plotting Energy as a function of Beta\n",
    "fig9_2,ax9_2 = plt.subplots()\n",
    "ax9_2.plot(beta5[1:-1],EnergyTotal10[1:-1],'*',label=\"Original data\")#Spurning um að nota einhver filter til að ná út suði\n",
    "ax9_2.plot(betaMinimal10,MinimalEnergy10,'r*')\n",
    "ax9_2.set_xlabel(r\"$\\beta$\")\n",
    "ax9_2.set_ylabel(\"Energy\")"
   ]
  },
  {
   "cell_type": "markdown",
   "metadata": {},
   "source": [
    "**Again for $\\alpha$:**"
   ]
  },
  {
   "cell_type": "code",
   "execution_count": 1257,
   "metadata": {},
   "outputs": [
    {
     "name": "stdout",
     "output_type": "stream",
     "text": [
      "[0.5  0.51 0.52 0.53 0.54 0.55 0.56 0.57 0.58 0.59 0.6  0.61 0.62 0.63\n",
      " 0.64 0.65 0.66 0.67 0.68 0.69 0.7  0.71 0.72 0.73 0.74 0.75 0.76 0.77\n",
      " 0.78 0.79 0.8  0.81 0.82 0.83 0.84 0.85 0.86 0.87 0.88 0.89 0.9  0.91\n",
      " 0.92 0.93 0.94 0.95 0.96 0.97 0.98 0.99 1.   1.01 1.02 1.03 1.04 1.05\n",
      " 1.06 1.07 1.08 1.09 1.1  1.11 1.12 1.13 1.14 1.15 1.16 1.17 1.18 1.19\n",
      " 1.2  1.21 1.22 1.23 1.24]\n"
     ]
    }
   ],
   "source": [
    "omega5 = 0.05\n",
    "alpha5_0 = np.arange(0.5,1.25,0.01)\n",
    "print(alpha5_0)"
   ]
  },
  {
   "cell_type": "code",
   "execution_count": 1258,
   "metadata": {},
   "outputs": [],
   "source": [
    "stepsize5_0 = np.arange(0,40,0.5)\n",
    "StepSize5_0 = FindStepsize(stepsize5,alpha5_0,omega5)"
   ]
  },
  {
   "cell_type": "code",
   "execution_count": 1259,
   "metadata": {},
   "outputs": [
    {
     "name": "stdout",
     "output_type": "stream",
     "text": [
      "measurement took in seconds: 115.97317004203796\n"
     ]
    }
   ],
   "source": [
    "beta5_Minimal = 0.70\n",
    "EnergyTotal9_0 = np.zeros(len(alpha5_0))\n",
    "CounterTotal9_0 = np.zeros(len(alpha5_0))\n",
    "VarianceTotal9_0 = np.zeros(len(alpha5_0))\n",
    "ElectronDistanceTotal9_0 = np.zeros(len(alpha5_0))\n",
    "PotentialEnergyTotal9_0 = np.zeros(len(alpha5_0))\n",
    "start = time.time()\n",
    "for i in range(len(alpha4_0)):\n",
    "    stepTemp = StepSize5_0[i]\n",
    "    alphaTemp = alpha5_0[i]\n",
    "    Energy, Counter, Variance, ElectronDistance, PotEnergy = MonteCarlo2(int(1e6),omega5,alphaTemp,beta5_Minimal,stepTemp)\n",
    "    EnergyTotal9_0[i] = Energy\n",
    "    CounterTotal9_0[i] = Counter\n",
    "    VarianceTotal9_0[i] = Variance\n",
    "    ElectronDistanceTotal9_0[i] = ElectronDistance\n",
    "    PotentialEnergyTotal9_0[i] = PotEnergy\n",
    "end = time.time()\n",
    "print(\"measurement took in seconds:\",end-start)"
   ]
  },
  {
   "cell_type": "code",
   "execution_count": 1260,
   "metadata": {},
   "outputs": [
    {
     "name": "stdout",
     "output_type": "stream",
     "text": [
      "The minimal energy is: 0.3013264156865675\n",
      "The minimal energy is at alpha = 0.6600000000000001\n",
      "There the distance between electrons is: 9.110678326845026\n",
      "There the potential energy is 0.25293534681655977\n"
     ]
    }
   ],
   "source": [
    "#Finding the lowest energy\n",
    "MinimalEnergy9_0, electDistMinimalEnergy9_0, alphaMinimal9_0, PotEnergyMinimal9_0 = FindMinimalEnergy(EnergyTotal9_0,ElectronDistanceTotal9_0,PotentialEnergyTotal9_0,alpha5_0,1,\"alpha\")\n",
    "print(\"The minimal energy is:\",MinimalEnergy9_0)\n",
    "print(\"The minimal energy is at alpha =\",alphaMinimal9_0)\n",
    "print(\"There the distance between electrons is:\",electDistMinimalEnergy9_0)\n",
    "print(\"There the potential energy is\",PotEnergyMinimal9_0)"
   ]
  },
  {
   "cell_type": "markdown",
   "metadata": {},
   "source": [
    "**again for $\\beta$:**"
   ]
  },
  {
   "cell_type": "code",
   "execution_count": 1267,
   "metadata": {},
   "outputs": [
    {
     "name": "stdout",
     "output_type": "stream",
     "text": [
      "[0.1   0.105 0.11  0.115 0.12  0.125 0.13  0.135 0.14  0.145 0.15  0.155\n",
      " 0.16  0.165 0.17  0.175 0.18  0.185 0.19  0.195 0.2   0.205 0.21  0.215\n",
      " 0.22  0.225 0.23  0.235 0.24  0.245 0.25  0.255 0.26  0.265 0.27  0.275\n",
      " 0.28  0.285 0.29  0.295 0.3   0.305 0.31  0.315 0.32  0.325 0.33  0.335\n",
      " 0.34  0.345 0.35  0.355 0.36  0.365 0.37  0.375 0.38  0.385 0.39  0.395\n",
      " 0.4   0.405 0.41  0.415 0.42  0.425 0.43  0.435 0.44  0.445 0.45  0.455\n",
      " 0.46  0.465 0.47  0.475 0.48  0.485 0.49  0.495]\n"
     ]
    }
   ],
   "source": [
    "#Setting up range in beta\n",
    "beta5_0 = np.arange(0.1,0.5,0.005)\n",
    "print(beta5_0)"
   ]
  },
  {
   "cell_type": "code",
   "execution_count": 1268,
   "metadata": {},
   "outputs": [
    {
     "name": "stdout",
     "output_type": "stream",
     "text": [
      "[25.  24.9 25.  24.6 24.9 24.8 24.8 24.6 24.8 25.  24.6 24.9 24.6 24.7\n",
      " 24.7 24.6 24.3 24.5 24.2 24.4 24.2 24.  23.9 24.1 24.5 23.9 24.1 24.4\n",
      " 24.1 24.2 23.9 24.1 24.1 23.8 24.  23.9 23.8 24.  23.9 23.9 23.9 24.\n",
      " 24.  23.8 23.9 24.  23.8 23.7 23.7 23.7 23.7 23.8 23.5 23.8 23.9 23.7\n",
      " 23.7 23.7 23.7 23.8 23.7 23.7 23.8 23.5 23.3 23.5 23.6 23.5 23.4 23.4\n",
      " 23.7 23.7 23.5 23.5 23.5 23.5 23.6 23.6 23.4 23.3]\n"
     ]
    }
   ],
   "source": [
    "#Finding the right stepsize\n",
    "stepsize = np.arange(10,40,0.2)\n",
    "StepSize5_0 = FindStepsize2(stepsize,0.66,beta5_0,omega5)\n",
    "print(StepSize5_0)"
   ]
  },
  {
   "cell_type": "code",
   "execution_count": 1269,
   "metadata": {},
   "outputs": [
    {
     "name": "stdout",
     "output_type": "stream",
     "text": [
      "measurement took in seconds: 679.0664641857147\n"
     ]
    }
   ],
   "source": [
    "omega5 = 0.05\n",
    "alpha5_Minimal = 0.64\n",
    "EnergyTotal10_0 = np.zeros(len(beta5_0))\n",
    "CounterTotal10_0 = np.zeros(len(beta5_0))\n",
    "VarianceTotal10_0 = np.zeros(len(beta5_0))\n",
    "ElectronDistanceTotal10_0 = np.zeros(len(beta5_0))\n",
    "PotentialEnergyTotal10_0 = np.zeros(len(beta5_0))\n",
    "start = time.time()\n",
    "for i in range(len(beta5_0)):\n",
    "    Energy, Counter, Variance, ElectronDistance, PotEnergy = MonteCarlo2(int(5e6),omega5,alpha5_Minimal,beta5_0[i],StepSize5_0[i])\n",
    "    EnergyTotal10_0[i] = Energy\n",
    "    CounterTotal10_0[i] = Counter\n",
    "    VarianceTotal10_0[i] = Variance\n",
    "    ElectronDistanceTotal10_0[i] = ElectronDistance\n",
    "    PotentialEnergyTotal10_0[i] = PotEnergy\n",
    "end = time.time()\n",
    "print(\"measurement took in seconds:\",end-start)"
   ]
  },
  {
   "cell_type": "code",
   "execution_count": 1378,
   "metadata": {},
   "outputs": [
    {
     "name": "stdout",
     "output_type": "stream",
     "text": [
      "The minimum in energy is : 0.2916291246160414\n",
      "Beta at that minimum is: 0.18000000000000008\n",
      "The electron distance at the minimum is 10.86654722444671\n",
      "The variance at that minima is: 0.0010985590658036393\n"
     ]
    }
   ],
   "source": [
    "MinimalEnergy10_0, electDistMinimalEnergy10_0, betaMinimal10_0, PotEnergyMinimal10_0, VarianceEnergyMinimal10_0 = FindMinimalEnergy(EnergyTotal10_0,ElectronDistanceTotal10_0,PotentialEnergyTotal10_0,VarianceTotal10,alpha5_Minimal,beta5_0,\"beta\")\n",
    "print(\"The minimum in energy is :\",MinimalEnergy10_0)\n",
    "print(\"Beta at that minimum is:\",betaMinimal10_0)\n",
    "print(\"The electron distance at the minimum is\",electDistMinimalEnergy10_0)\n",
    "print(\"The variance at that minima is:\", VarianceEnergyMinimal10_0)"
   ]
  },
  {
   "cell_type": "code",
   "execution_count": 1271,
   "metadata": {},
   "outputs": [
    {
     "data": {
      "text/plain": [
       "Text(0, 0.5, 'Energy')"
      ]
     },
     "execution_count": 1271,
     "metadata": {},
     "output_type": "execute_result"
    },
    {
     "data": {
      "image/png": "[encoded data removed]",
      "text/plain": [
       "<Figure size 432x288 with 1 Axes>"
      ]
     },
     "metadata": {
      "needs_background": "light"
     },
     "output_type": "display_data"
    }
   ],
   "source": [
    "#plotting Energy as a function of Beta\n",
    "fig9_3,ax9_3 = plt.subplots()\n",
    "ax9_3.plot(beta5_0[1:-1],EnergyTotal10_0[1:-1],'*',label=\"Original data\")#Spurning um að nota einhver filter til að ná út suði\n",
    "ax9_3.plot(betaMinimal10_0,MinimalEnergy10_0,'r*')\n",
    "ax9_3.set_xlabel(r\"$\\beta$\")\n",
    "ax9_3.set_ylabel(\"Energy\")"
   ]
  },
  {
   "cell_type": "markdown",
   "metadata": {},
   "source": [
    "# $\\omega = 0.75$"
   ]
  },
  {
   "cell_type": "code",
   "execution_count": 1235,
   "metadata": {},
   "outputs": [],
   "source": [
    "omega6 = 0.75\n",
    "alpha6 = np.arange(0.2,2,0.02)\n",
    "stepsize6 = np.arange(0,40,0.5)\n",
    "StepSize6 = FindStepsize(stepsize6,alpha6,omega6)"
   ]
  },
  {
   "cell_type": "code",
   "execution_count": 1236,
   "metadata": {},
   "outputs": [
    {
     "name": "stdout",
     "output_type": "stream",
     "text": [
      "[10.75 10.5  10.25  9.5   9.25  9.25  8.75  8.5   8.25  8.    8.    7.75\n",
      "  7.5   7.25  7.25  7.    6.75  6.75  6.5   6.5   6.5   6.25  6.    6.25\n",
      "  5.75  6.    5.75  6.    5.75  5.75  5.5   5.75  5.25  5.5   5.25  5.5\n",
      "  5.    5.    5.25  5.    5.    5.    4.75  4.75  5.    4.75  4.75  4.75\n",
      "  4.5   4.5   4.5   4.5   4.5   4.5   4.5   4.5   4.5   4.5   4.25  4.25\n",
      "  4.25  4.25  4.    4.    4.    4.    4.    4.    4.    4.    3.75  3.75\n",
      "  4.    4.    3.75  3.75  3.75  4.    3.75  3.75  3.75  3.75  3.75  3.75\n",
      "  3.5   3.75  3.5   3.5   3.5   3.75]\n"
     ]
    }
   ],
   "source": [
    "print(StepSize6)"
   ]
  },
  {
   "cell_type": "code",
   "execution_count": 1237,
   "metadata": {},
   "outputs": [
    {
     "name": "stdout",
     "output_type": "stream",
     "text": [
      "measurement took in seconds: 119.19809484481812\n"
     ]
    }
   ],
   "source": [
    "EnergyTotal11 = np.zeros(len(alpha6))\n",
    "CounterTotal11 = np.zeros(len(alpha6))\n",
    "VarianceTotal11 = np.zeros(len(alpha6))\n",
    "ElectronDistanceTotal11 = np.zeros(len(alpha6))\n",
    "PotentialEnergyTotal11 = np.zeros(len(alpha6))\n",
    "start = time.time()\n",
    "for i in range(len(alpha6)):\n",
    "    stepTemp = StepSize6[i]\n",
    "    alphaTemp = alpha6[i]\n",
    "    Energy, Counter, Variance, ElectronDistance, PotEnergy = MonteCarloCoulomb(int(1e6),omega6,alphaTemp,stepTemp)\n",
    "    EnergyTotal11[i] = Energy\n",
    "    CounterTotal11[i] = Counter\n",
    "    VarianceTotal11[i] = Variance\n",
    "    ElectronDistanceTotal11[i] = ElectronDistance\n",
    "    PotentialEnergyTotal11[i] = PotEnergy\n",
    "end = time.time()\n",
    "print(\"measurement took in seconds:\",end-start)"
   ]
  },
  {
   "cell_type": "code",
   "execution_count": 1238,
   "metadata": {},
   "outputs": [
    {
     "name": "stdout",
     "output_type": "stream",
     "text": [
      "The minimal energy is: 2.9170675136104687\n",
      "The minimal energy is at alpha = 0.8799999999999997\n",
      "There the distance between electrons is: 1.9644948272682035\n",
      "There the potential energy is 1.928001503660707\n"
     ]
    }
   ],
   "source": [
    "#Finding the lowest energy\n",
    "MinimalEnergy11, electDistMinimalEnergy11, alphaMinimal11, PotEnergyMinimal11 = FindMinimalEnergy(EnergyTotal11,ElectronDistanceTotal11,PotentialEnergyTotal11,alpha6,omega6,\"alpha\")\n",
    "print(\"The minimal energy is:\",MinimalEnergy11)\n",
    "print(\"The minimal energy is at alpha =\",alphaMinimal11)\n",
    "print(\"There the distance between electrons is:\",electDistMinimalEnergy11)\n",
    "print(\"There the potential energy is\",PotEnergyMinimal11)"
   ]
  },
  {
   "cell_type": "code",
   "execution_count": 1239,
   "metadata": {},
   "outputs": [
    {
     "data": {
      "text/plain": [
       "Text(0, 0.5, 'Energy')"
      ]
     },
     "execution_count": 1239,
     "metadata": {},
     "output_type": "execute_result"
    },
    {
     "data": {
      "image/png": "[encoded data removed]",
      "text/plain": [
       "<Figure size 432x288 with 1 Axes>"
      ]
     },
     "metadata": {
      "needs_background": "light"
     },
     "output_type": "display_data"
    }
   ],
   "source": [
    "#Energy as a function of variational paramater alpha\n",
    "fig11, ax11 = plt.subplots()\n",
    "ax11.plot(alpha6,EnergyTotal11,'*')\n",
    "ax11.plot(alphaMinimal11,MinimalEnergy11,'r*')\n",
    "ax11.set_xlabel(r\"$\\alpha$\")\n",
    "ax11.set_ylabel(\"Energy\")"
   ]
  },
  {
   "cell_type": "markdown",
   "metadata": {},
   "source": [
    "**Then for $\\beta$ based on optimal $\\alpha$:**"
   ]
  },
  {
   "cell_type": "code",
   "execution_count": 1272,
   "metadata": {},
   "outputs": [
    {
     "name": "stdout",
     "output_type": "stream",
     "text": [
      "[0.35  0.355 0.36  0.365 0.37  0.375 0.38  0.385 0.39  0.395 0.4   0.405\n",
      " 0.41  0.415 0.42  0.425 0.43  0.435 0.44  0.445 0.45  0.455 0.46  0.465\n",
      " 0.47  0.475 0.48  0.485 0.49  0.495 0.5   0.505 0.51  0.515 0.52  0.525\n",
      " 0.53  0.535 0.54  0.545 0.55  0.555 0.56  0.565 0.57  0.575 0.58  0.585\n",
      " 0.59  0.595 0.6   0.605 0.61  0.615 0.62  0.625 0.63  0.635 0.64  0.645\n",
      " 0.65 ]\n"
     ]
    }
   ],
   "source": [
    "#Setting up range in beta\n",
    "beta6 = np.arange(0.35,0.65,0.005)\n",
    "print(beta6)"
   ]
  },
  {
   "cell_type": "code",
   "execution_count": 1273,
   "metadata": {},
   "outputs": [
    {
     "name": "stdout",
     "output_type": "stream",
     "text": [
      "[5.4 5.3 5.2 5.5 5.2 5.4 5.4 5.3 5.3 5.3 5.2 5.3 5.4 5.5 5.2 5.4 5.3 5.4\n",
      " 5.4 5.2 5.4 5.4 5.2 5.3 5.5 5.3 5.5 5.3 5.4 5.2 5.3 5.3 5.4 5.2 5.2 5.4\n",
      " 5.2 5.4 5.3 5.2 5.4 5.3 5.3 5.3 5.3 5.2 5.4 5.2 5.2 5.3 5.3 5.4 5.3 5.4\n",
      " 5.4 5.3 5.2 5.3 5.2 5.2 5.2]\n"
     ]
    }
   ],
   "source": [
    "#Finding the right stepsize\n",
    "stepsize = np.arange(0,60,0.2)\n",
    "StepSize7 = FindStepsize2(stepsize,0.88,beta6,omega6)\n",
    "print(StepSize7)"
   ]
  },
  {
   "cell_type": "code",
   "execution_count": 1274,
   "metadata": {},
   "outputs": [
    {
     "name": "stdout",
     "output_type": "stream",
     "text": [
      "measurement took in seconds: 508.78418016433716\n"
     ]
    }
   ],
   "source": [
    "omega6 = 0.75\n",
    "alpha6 = 0.88\n",
    "EnergyTotal12 = np.zeros(len(beta6))\n",
    "CounterTotal12 = np.zeros(len(beta6))\n",
    "VarianceTotal12 = np.zeros(len(beta6))\n",
    "ElectronDistanceTotal12 = np.zeros(len(beta6))\n",
    "PotentialEnergyTotal12 = np.zeros(len(beta6))\n",
    "start = time.time()\n",
    "for i in range(len(beta6)):\n",
    "    Energy, Counter, Variance, ElectronDistance, PotEnergy = MonteCarlo2(int(5e6),omega6,alpha6,beta6[i],StepSize7[i])\n",
    "    EnergyTotal12[i] = Energy\n",
    "    CounterTotal12[i] = Counter\n",
    "    VarianceTotal12[i] = Variance\n",
    "    ElectronDistanceTotal12[i] = ElectronDistance\n",
    "    PotentialEnergyTotal12[i] = PotEnergy\n",
    "end = time.time()\n",
    "print(\"measurement took in seconds:\",end-start)"
   ]
  },
  {
   "cell_type": "code",
   "execution_count": 1275,
   "metadata": {},
   "outputs": [
    {
     "name": "stdout",
     "output_type": "stream",
     "text": [
      "The minimum in energy is : 2.884982752053336\n",
      "Beta at that minimum is: 0.5050000000000001\n",
      "The electron distance at the minimum is 2.134634821541271\n"
     ]
    }
   ],
   "source": [
    "MinimalEnergy12, electDistMinimalEnergy12, betaMinimal12, PotEnergyMinimal12 = FindMinimalEnergy(EnergyTotal12,ElectronDistanceTotal12,PotentialEnergyTotal12,alpha6,beta6,\"beta\")\n",
    "print(\"The minimum in energy is :\",MinimalEnergy12)\n",
    "print(\"Beta at that minimum is:\",betaMinimal12)\n",
    "print(\"The electron distance at the minimum is\",electDistMinimalEnergy12)"
   ]
  },
  {
   "cell_type": "code",
   "execution_count": 1276,
   "metadata": {},
   "outputs": [
    {
     "data": {
      "text/plain": [
       "Text(0, 0.5, 'Energy')"
      ]
     },
     "execution_count": 1276,
     "metadata": {},
     "output_type": "execute_result"
    },
    {
     "data": {
      "image/png": "[encoded data removed]",
      "text/plain": [
       "<Figure size 432x288 with 1 Axes>"
      ]
     },
     "metadata": {
      "needs_background": "light"
     },
     "output_type": "display_data"
    }
   ],
   "source": [
    "#plotting Energy as a function of Beta\n",
    "fig11_2,ax11_2 = plt.subplots()\n",
    "ax11_2.plot(beta6[1:-1],EnergyTotal12[1:-1],'*',label=\"Original data\")#Spurning um að nota einhver filter til að ná út suði\n",
    "ax11_2.plot(betaMinimal12,MinimalEnergy12,'r*')\n",
    "ax11_2.set_xlabel(r\"$\\beta$\")\n",
    "ax11_2.set_ylabel(\"Energy\")"
   ]
  },
  {
   "cell_type": "markdown",
   "metadata": {},
   "source": [
    "**again for $\\alpha$:**"
   ]
  },
  {
   "cell_type": "code",
   "execution_count": 1292,
   "metadata": {},
   "outputs": [
    {
     "name": "stdout",
     "output_type": "stream",
     "text": [
      "[0.5  0.51 0.52 0.53 0.54 0.55 0.56 0.57 0.58 0.59 0.6  0.61 0.62 0.63\n",
      " 0.64 0.65 0.66 0.67 0.68 0.69 0.7  0.71 0.72 0.73 0.74 0.75 0.76 0.77\n",
      " 0.78 0.79 0.8  0.81 0.82 0.83 0.84 0.85 0.86 0.87 0.88 0.89 0.9  0.91\n",
      " 0.92 0.93 0.94 0.95 0.96 0.97 0.98 0.99 1.   1.01 1.02 1.03 1.04 1.05\n",
      " 1.06 1.07 1.08 1.09 1.1  1.11 1.12 1.13 1.14 1.15 1.16 1.17 1.18 1.19\n",
      " 1.2  1.21 1.22 1.23 1.24]\n"
     ]
    }
   ],
   "source": [
    "omega6 = 0.75\n",
    "alpha6_0 = np.arange(0.5,1.25,0.01)\n",
    "print(alpha6_0)"
   ]
  },
  {
   "cell_type": "code",
   "execution_count": 1293,
   "metadata": {},
   "outputs": [],
   "source": [
    "stepsize6_0 = np.arange(0,40,0.5)\n",
    "StepSize6_0 = FindStepsize(stepsize6,alpha6_0,omega6)"
   ]
  },
  {
   "cell_type": "code",
   "execution_count": 1294,
   "metadata": {},
   "outputs": [
    {
     "name": "stdout",
     "output_type": "stream",
     "text": [
      "measurement took in seconds: 113.66886973381042\n"
     ]
    }
   ],
   "source": [
    "beta6_Minimal = 0.505\n",
    "EnergyTotal11_0 = np.zeros(len(alpha6_0))\n",
    "CounterTotal11_0 = np.zeros(len(alpha6_0))\n",
    "VarianceTotal11_0 = np.zeros(len(alpha6_0))\n",
    "ElectronDistanceTotal11_0 = np.zeros(len(alpha6_0))\n",
    "PotentialEnergyTotal11_0 = np.zeros(len(alpha6_0))\n",
    "start = time.time()\n",
    "for i in range(len(alpha6_0)):\n",
    "    stepTemp = StepSize6_0[i]\n",
    "    alphaTemp = alpha6_0[i]\n",
    "    Energy, Counter, Variance, ElectronDistance, PotEnergy = MonteCarlo2(int(1e6),omega6,alphaTemp,beta6_Minimal,stepTemp)\n",
    "    EnergyTotal11_0[i] = Energy\n",
    "    CounterTotal11_0[i] = Counter\n",
    "    VarianceTotal11_0[i] = Variance\n",
    "    ElectronDistanceTotal11_0[i] = ElectronDistance\n",
    "    PotentialEnergyTotal11_0[i] = PotEnergy\n",
    "end = time.time()\n",
    "print(\"measurement took in seconds:\",end-start)"
   ]
  },
  {
   "cell_type": "code",
   "execution_count": 1295,
   "metadata": {},
   "outputs": [
    {
     "name": "stdout",
     "output_type": "stream",
     "text": [
      "The minimal energy is: 2.880066728215699\n",
      "The minimal energy is at alpha = 0.9300000000000004\n",
      "There the distance between electrons is: 2.0749418328811844\n",
      "There the potential energy is 1.8926889854010183\n"
     ]
    }
   ],
   "source": [
    "#Finding the lowest energy\n",
    "MinimalEnergy11_0, electDistMinimalEnergy11_0, alphaMinimal11_0, PotEnergyMinimal11_0 = FindMinimalEnergy(EnergyTotal11_0,ElectronDistanceTotal11_0,PotentialEnergyTotal11_0,alpha6_0,1,\"alpha\")\n",
    "print(\"The minimal energy is:\",MinimalEnergy11_0)\n",
    "print(\"The minimal energy is at alpha =\",alphaMinimal11_0)\n",
    "print(\"There the distance between electrons is:\",electDistMinimalEnergy11_0)\n",
    "print(\"There the potential energy is\",PotEnergyMinimal11_0)"
   ]
  },
  {
   "cell_type": "code",
   "execution_count": 1323,
   "metadata": {},
   "outputs": [
    {
     "data": {
      "text/plain": [
       "Text(0, 0.5, 'Energy')"
      ]
     },
     "execution_count": 1323,
     "metadata": {},
     "output_type": "execute_result"
    },
    {
     "data": {
      "image/png": "[encoded data removed]",
      "text/plain": [
       "<Figure size 432x288 with 1 Axes>"
      ]
     },
     "metadata": {
      "needs_background": "light"
     },
     "output_type": "display_data"
    }
   ],
   "source": [
    "#plotting Energy as a function of Beta\n",
    "fig11_3,ax11_3 = plt.subplots()\n",
    "ax11_3.plot(alpha6_0[1:-1],EnergyTotal11_0[1:-1],'*',label=\"Original data\")#Spurning um að nota einhver filter til að ná út suði\n",
    "ax11_3.plot(alphaMinimal11_0,MinimalEnergy11_0,'r*')\n",
    "ax11_3.set_xlabel(r\"$\\alpha$\")\n",
    "ax11_3.set_ylabel(\"Energy\")"
   ]
  },
  {
   "cell_type": "markdown",
   "metadata": {},
   "source": [
    "**again for $\\beta$:**"
   ]
  },
  {
   "cell_type": "code",
   "execution_count": 1334,
   "metadata": {},
   "outputs": [
    {
     "name": "stdout",
     "output_type": "stream",
     "text": [
      "[0.25  0.253 0.256 0.259 0.262 0.265 0.268 0.271 0.274 0.277 0.28  0.283\n",
      " 0.286 0.289 0.292 0.295 0.298 0.301 0.304 0.307 0.31  0.313 0.316 0.319\n",
      " 0.322 0.325 0.328 0.331 0.334 0.337 0.34  0.343 0.346 0.349 0.352 0.355\n",
      " 0.358 0.361 0.364 0.367 0.37  0.373 0.376 0.379 0.382 0.385 0.388 0.391\n",
      " 0.394 0.397 0.4   0.403 0.406 0.409 0.412 0.415 0.418 0.421 0.424 0.427\n",
      " 0.43  0.433 0.436 0.439 0.442 0.445 0.448]\n"
     ]
    }
   ],
   "source": [
    "#Setting up range in beta\n",
    "beta6_0 = np.arange(0.25,0.45,0.003)\n",
    "print(beta6_0)"
   ]
  },
  {
   "cell_type": "code",
   "execution_count": 1335,
   "metadata": {},
   "outputs": [
    {
     "name": "stdout",
     "output_type": "stream",
     "text": [
      "[5.2 5.4 5.2 5.2 5.3 5.2 5.2 5.3 5.1 5.3 5.1 5.2 5.1 5.2 5.2 5.2 5.2 5.3\n",
      " 5.1 5.2 5.3 5.3 5.2 5.3 5.3 5.2 5.2 5.2 5.2 5.2 5.3 5.2 5.3 5.2 5.3 5.3\n",
      " 5.2 5.2 5.3 5.4 5.1 5.2 5.2 5.3 5.3 5.2 5.1 5.1 5.2 5.3 5.3 5.2 5.2 5.2\n",
      " 5.2 5.2 5.2 5.3 5.2 5.4 5.2 5.1 5.2 5.2 5.2 5.1 5.2]\n"
     ]
    }
   ],
   "source": [
    "#Finding the right stepsize\n",
    "stepsize = np.arange(0,20,0.2)\n",
    "StepSize6_0 = FindStepsize2(stepsize,0.93,beta6_0,omega6)\n",
    "print(StepSize6_0)"
   ]
  },
  {
   "cell_type": "code",
   "execution_count": 1336,
   "metadata": {},
   "outputs": [
    {
     "name": "stdout",
     "output_type": "stream",
     "text": [
      "measurement took in seconds: 605.9111726284027\n"
     ]
    }
   ],
   "source": [
    "omega6 = 0.75\n",
    "alpha6_Minimal = 0.93\n",
    "EnergyTotal12_0 = np.zeros(len(beta6_0))\n",
    "CounterTotal12_0 = np.zeros(len(beta6_0))\n",
    "VarianceTotal12_0 = np.zeros(len(beta6_0))\n",
    "ElectronDistanceTotal12_0 = np.zeros(len(beta6_0))\n",
    "PotentialEnergyTotal12_0 = np.zeros(len(beta6_0))\n",
    "start = time.time()\n",
    "for i in range(len(beta6_0)):\n",
    "    Energy, Counter, Variance, ElectronDistance, PotEnergy = MonteCarlo2(int(5e6),omega6,alpha6_Minimal,beta6_0[i],StepSize6_0[i])\n",
    "    EnergyTotal12_0[i] = Energy\n",
    "    CounterTotal12_0[i] = Counter\n",
    "    VarianceTotal12_0[i] = Variance\n",
    "    ElectronDistanceTotal12_0[i] = ElectronDistance\n",
    "    PotentialEnergyTotal12_0[i] = PotEnergy\n",
    "end = time.time()\n",
    "print(\"measurement took in seconds:\",end-start)"
   ]
  },
  {
   "cell_type": "code",
   "execution_count": 1380,
   "metadata": {},
   "outputs": [
    {
     "name": "stdout",
     "output_type": "stream",
     "text": [
      "The minimum in energy is : 2.877704733517629\n",
      "Beta at that minimum is: 0.3400000000000001\n",
      "The electron distance at the minimum is 2.143647805634846\n",
      "The variance at that minima is: 0.005068437981883278\n"
     ]
    }
   ],
   "source": [
    "MinimalEnergy12_0, electDistMinimalEnergy12_0, betaMinimal12_0, PotEnergyMinimal12_0, VarianceEnergyMinimal12_0 = FindMinimalEnergy(EnergyTotal12_0,ElectronDistanceTotal12_0,PotentialEnergyTotal12_0,VarianceTotal12_0,alpha6_Minimal,beta6_0,\"beta\")\n",
    "print(\"The minimum in energy is :\",MinimalEnergy12_0)\n",
    "print(\"Beta at that minimum is:\",betaMinimal12_0)\n",
    "print(\"The electron distance at the minimum is\",electDistMinimalEnergy12_0)\n",
    "print(\"The variance at that minima is:\",VarianceEnergyMinimal12_0)"
   ]
  },
  {
   "cell_type": "code",
   "execution_count": 1338,
   "metadata": {},
   "outputs": [
    {
     "data": {
      "text/plain": [
       "Text(0, 0.5, 'Energy')"
      ]
     },
     "execution_count": 1338,
     "metadata": {},
     "output_type": "execute_result"
    },
    {
     "data": {
      "image/png": "[encoded data removed]",
      "text/plain": [
       "<Figure size 432x288 with 1 Axes>"
      ]
     },
     "metadata": {
      "needs_background": "light"
     },
     "output_type": "display_data"
    }
   ],
   "source": [
    "#plotting Energy as a function of Beta\n",
    "fig11_3,ax11_3 = plt.subplots()\n",
    "ax11_3.plot(beta6_0[0:-1],EnergyTotal12_0[0:-1],'*',label=\"Original data\")#Spurning um að nota einhver filter til að ná út suði\n",
    "ax11_3.plot(betaMinimal12_0,MinimalEnergy12_0,'r*')\n",
    "ax11_3.set_xlabel(r\"$\\beta$\")\n",
    "ax11_3.set_ylabel(\"Energy\")"
   ]
  },
  {
   "cell_type": "markdown",
   "metadata": {},
   "source": [
    "# Virial Theorem"
   ]
  },
  {
   "cell_type": "markdown",
   "metadata": {},
   "source": [
    "**Having minimized the energy we can chech the Virial Theorem:**"
   ]
  },
  {
   "cell_type": "code",
   "execution_count": 784,
   "metadata": {},
   "outputs": [],
   "source": [
    "#Setting up the omega we intend to measure\n",
    "omegaVirial = np.array([0.01,0.05,0.25,0.5,1])"
   ]
  },
  {
   "cell_type": "markdown",
   "metadata": {},
   "source": [
    "**First we check for the simple harmonic oscillator with non-interacting electrons:**\n",
    "\n",
    "$\\alpha = 1$ is always a minimum "
   ]
  },
  {
   "cell_type": "code",
   "execution_count": 993,
   "metadata": {},
   "outputs": [
    {
     "name": "stdout",
     "output_type": "stream",
     "text": [
      "[0.01 0.06 0.11 0.16 0.21 0.26 0.31 0.36 0.41 0.46 0.51 0.56 0.61 0.66\n",
      " 0.71 0.76 0.81 0.86 0.91 0.96]\n"
     ]
    }
   ],
   "source": [
    "omegaVirial = np.arange(0.01,1,0.05)\n",
    "print(omegaVirial)"
   ]
  },
  {
   "cell_type": "code",
   "execution_count": 994,
   "metadata": {},
   "outputs": [],
   "source": [
    "PotentialEnergyVirial = np.zeros(len(omegaVirial))\n",
    "KineticEnergyVirial = np.zeros(len(omegaVirial))\n",
    "counter = 0\n",
    "for omegaTemp in omegaVirial:\n",
    "    Energy, Counter, Variance, PotEnergy = MonteCarlo(int(4e5),omegaTemp,1,3.8)\n",
    "    PotentialEnergyVirial[counter] = PotEnergy\n",
    "    KineticEnergyVirial[counter] = Energy - PotEnergy\n",
    "    counter += 1"
   ]
  },
  {
   "cell_type": "markdown",
   "metadata": {},
   "source": [
    "**Setting up measured values in vectors:**"
   ]
  },
  {
   "cell_type": "code",
   "execution_count": 1384,
   "metadata": {},
   "outputs": [],
   "source": [
    "omegaVirial2 = np.array([0.01,0.05,0.25,0.5,0.75,1])\n",
    "#Total Energy with Jastrow factor\n",
    "EnergyMinimalTotal = np.array([MinimalEnergy4_0,MinimalEnergy10_0,MinimalEnergy8_0,MinimalEnergy6_0,MinimalEnergy12_0,MinimalEnergy2_0])\n",
    "#Total Energy without Jastrow factor\n",
    "EnergyMinimalTotalNoJast = np.array([MinimalEnergy3,MinimalEnergy9,MinimalEnergy7,MinimalEnergy5,MinimalEnergy11,MinimalEnergy])\n",
    "#Potential Energy\n",
    "PotEnergyMinimalTotal = np.array([PotEnergyMinimal4_0,PotEnergyMinimal10_0,PotEnergyMinimal8_0,PotEnergyMinimal6_0,PotEnergyMinimal12_0,PotEnergyMinimal2_0])\n",
    "#Kinetic Energy\n",
    "KineticEnergyTotal = EnergyMinimalTotal - PotEnergyMinimalTotal\n",
    "#Ratio\n",
    "KV_Ratio = KineticEnergyTotal/PotEnergyMinimalTotal\n",
    "#Electron distance without Jastrow factor\n",
    "ElectronDistwithoutJastrow = np.array([electDistMinimalEnergy3,electDistMinimalEnergy9,electDistMinimalEnergy7,electDistMinimalEnergy5,electDistMinimalEnergy11,electDistMinimalEnergy])\n",
    "#Electron distance with Jastrow factor\n",
    "ElectronDistwithJastrow = np.array([electDistMinimalEnergy4_0,electDistMinimalEnergy10_0,electDistMinimalEnergy8_0,electDistMinimalEnergy6_0,electDistMinimalEnergy12_0,electDistMinimalEnergy2_0])"
   ]
  },
  {
   "cell_type": "code",
   "execution_count": 1346,
   "metadata": {},
   "outputs": [
    {
     "data": {
      "image/png": "[encoded data removed]",
      "text/plain": [
       "<Figure size 432x288 with 1 Axes>"
      ]
     },
     "metadata": {
      "needs_background": "light"
     },
     "output_type": "display_data"
    }
   ],
   "source": [
    "fig10,ax10 = plt.subplots()\n",
    "ax10.plot(omegaVirial,KineticEnergyVirial/PotentialEnergyVirial,'*')\n",
    "ax10.set_ylabel(r\"$\\frac{\\langle T\\rangle}{\\langle V\\rangle}$\")\n",
    "ax10.set_xlabel(r\"$\\omega$\")\n",
    "#ax10.set_ylim([0,2])\n",
    "#Taking the ration from the first trial wave function and including the Coulomb potential contribution\n",
    "ax10.plot(omegaVirial2,KV_Ratio,'*')\n",
    "plt.show()"
   ]
  },
  {
   "cell_type": "code",
   "execution_count": 1349,
   "metadata": {},
   "outputs": [
    {
     "name": "stdout",
     "output_type": "stream",
     "text": [
      "0.34132381333225836\n",
      "-0.5638939886524764\n"
     ]
    },
    {
     "data": {
      "image/png": "[encoded data removed]",
      "text/plain": [
       "<Figure size 432x288 with 1 Axes>"
      ]
     },
     "metadata": {
      "needs_background": "light"
     },
     "output_type": "display_data"
    }
   ],
   "source": [
    "p = np.polyfit(np.log(omegaVirial2),np.log(KV_Ratio),1)\n",
    "power = p[0]\n",
    "print(power)\n",
    "constant = p[1]\n",
    "print(constant)\n",
    "x = np.linspace(0,1)\n",
    "y = x**power\n",
    "y = y*np.exp(constant)\n",
    "#plotta\n",
    "fig11,ax11 = plt.subplots()\n",
    "ax11.plot(omegaVirial,KineticEnergyVirial/PotentialEnergyVirial,'*',label=\"SHO\")\n",
    "ax11.set_ylabel(r\"$\\frac{\\langle T\\rangle}{\\langle V\\rangle}$\")\n",
    "ax11.set_xlabel(r\"$\\omega$\")\n",
    "ax11.plot(omegaVirial2,KV_Ratio,'*',label=\"Full Hamiltonian\")\n",
    "ax11.plot(x,y,'--',label=r\"Fit to model\")\n",
    "ax11.legend()\n",
    "ax11.grid(alpha=0.3)\n",
    "#Saving\n",
    "plt.savefig(\"VirialTheorem.png\",format=\"PNG\",dpi=300,bbox_inches='tight')"
   ]
  },
  {
   "cell_type": "markdown",
   "metadata": {},
   "source": [
    "**Distance between electrons:**"
   ]
  },
  {
   "cell_type": "code",
   "execution_count": 1355,
   "metadata": {},
   "outputs": [
    {
     "data": {
      "image/png": "[encoded data removed]",
      "text/plain": [
       "<Figure size 432x288 with 1 Axes>"
      ]
     },
     "metadata": {
      "needs_background": "light"
     },
     "output_type": "display_data"
    }
   ],
   "source": [
    "omegaVirial2_1 = np.array([0.01,0.05,0.25,0.5,1])\n",
    "fig12,ax12 = plt.subplots()\n",
    "ax12.plot(omegaVirial2,ElectronDistwithoutJastrow,'*',label=\"Without Jastrow factor\")\n",
    "ax12.plot(omegaVirial2,ElectronDistwithJastrow,'*',label=\"With Jastrow factor\")\n",
    "ax12.grid(alpha=0.3)\n",
    "ax12.set_yscale(\"log\")\n",
    "ax12.legend()\n",
    "ax12.set_ylabel(r\"Electrons distance, $r_{12}$\")\n",
    "ax12.set_xlabel(r\"$\\omega$\")\n",
    "#Saving\n",
    "plt.savefig(\"ElectronDistance.png\",format=\"png\",dpi=300,bbox_inches='tight')"
   ]
  },
  {
   "cell_type": "markdown",
   "metadata": {},
   "source": [
    "**Total Energy:**"
   ]
  },
  {
   "cell_type": "code",
   "execution_count": 1389,
   "metadata": {},
   "outputs": [
    {
     "data": {
      "image/png": "[encoded data removed]",
      "text/plain": [
       "<Figure size 432x288 with 1 Axes>"
      ]
     },
     "metadata": {
      "needs_background": "light"
     },
     "output_type": "display_data"
    }
   ],
   "source": [
    "fig13,ax13 = plt.subplots()\n",
    "ax13.plot(omegaVirial2,EnergyMinimalTotalNoJast,'*--',label=\"Without Jastrow factor\")\n",
    "ax13.plot(omegaVirial2,EnergyMinimalTotal,'*--',label=\"With Jastrow factor\")\n",
    "ax13.set_xlabel(r\"$\\omega$\")\n",
    "ax13.set_ylabel(r\"$\\langle H\\rangle$ [a.u.]\")\n",
    "ax13.grid(alpha=0.3)\n",
    "ax13.legend()\n",
    "plt.savefig(\"TotalEnergy.png\",format=\"png\",dpi=300,bbox_inches='tight')"
   ]
  }
 ],
 "metadata": {
  "kernelspec": {
   "display_name": "Python 3",
   "language": "python",
   "name": "python3"
  },
  "language_info": {
   "codemirror_mode": {
    "name": "ipython",
    "version": 3
   },
   "file_extension": ".py",
   "mimetype": "text/x-python",
   "name": "python",
   "nbconvert_exporter": "python",
   "pygments_lexer": "ipython3",
   "version": "3.6.5"
  }
 },
 "nbformat": 4,
 "nbformat_minor": 2
}
