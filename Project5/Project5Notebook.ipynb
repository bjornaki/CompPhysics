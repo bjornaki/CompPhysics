{
 "cells": [
  {
   "cell_type": "code",
   "execution_count": 576,
   "metadata": {},
   "outputs": [],
   "source": [
    "import numpy as np\n",
    "import matplotlib.pyplot as plt \n",
    "from numba import jit, njit, vectorize\n",
    "import time\n",
    "from IPython.core.debugger import set_trace\n",
    "from scipy.signal import savgol_filter"
   ]
  },
  {
   "cell_type": "markdown",
   "metadata": {},
   "source": [
    "## Defining functions that we need:"
   ]
  },
  {
   "cell_type": "code",
   "execution_count": 493,
   "metadata": {},
   "outputs": [],
   "source": [
    "#Trial energy 1\n",
    "def TrialEnergy1(alpha,omega,r1,r2):\n",
    "    return 0.5*omega**2*(r1**2 + r2**2)*(1 - alpha**2) + 3*omega*alpha\n",
    "\n",
    "@vectorize#By far the quickest of the three for vectors\n",
    "def TrialEnergy1Vec(alpha,omega,r1,r2):\n",
    "    #r1 = np.sqrt(x1**2 + y1**2 + z1**2)\n",
    "    #r2 = np.sqrt(x2**2 + y2**2 + z2**2)\n",
    "    return 0.5*omega**2*(r1**2 + r2**2)*(1 - alpha**2) + 3*omega*alpha\n",
    "\n",
    "@jit(nopython=True)\n",
    "def TrialEnergyJIT(alpha,omega,r1,r2):\n",
    "    return 0.5*(omega**2)*(r1**2 + r2**2)*(1 - alpha**2) + 3*omega*alpha\n",
    "\n",
    "#Athuga betur hvernig ég á að díla við að deila með núlli þegar Coulomb víxlverkun til staðar\n",
    "@jit(nopython=True)\n",
    "def TrialEnergyJITwithCoulomb(alpha,omega,x1,y1,z1,x2,y2,z2):\n",
    "    r1 = np.sqrt(x1**2 + y1**2 + z1**2)\n",
    "    r2 = np.sqrt(x2**2 + y2**2 + z2**2)\n",
    "    r_12 = np.sqrt((x1-x2)**2 + (y1-y2)**2 + (z1-z2)**2)\n",
    "    if abs(r_12) <= 1e-12:\n",
    "        return 0\n",
    "    else:\n",
    "        return 0.5*(omega**2)*(r1**2 + r2**2)*(1 - alpha**2) + 3*omega*alpha + 1/r_12\n",
    "    \n",
    "#Trial energy for the seconds trial wave function\n",
    "@jit(nopython=True)\n",
    "def TrialEnergy2JIT(alpha,beta,omega,x1,y1,z1,x2,y2,z2):\n",
    "    r1 = np.sqrt(x1**2 + y1**2 + z1**2)\n",
    "    r2 = np.sqrt(x2**2 + y2**2 + z2**2)\n",
    "    r_12 = np.sqrt((x1-x2)**2 + (y1-y2)**2 + (z1-z2)**2)\n",
    "    TrialEnergy1 = TrialEnergyJITwithCoulomb(alpha,omega,x1,y1,z1,x2,y2,z2)\n",
    "    if abs(r_12) <= 1e-12:\n",
    "        return 0\n",
    "    else:\n",
    "        temp1 = 1/(2*(1 + beta*r_12)**2)\n",
    "        temp2 = alpha*omega*r_12\n",
    "        temp3 = 1/(2*((1 + beta*r_12))**2)\n",
    "        temp4 = (2*beta)/(1 + beta*r_12)\n",
    "        TrialEnergy2Partial = temp1*(temp2 - temp3 - 2/r_12 + temp4)\n",
    "        return TrialEnergy1 + TrialEnergy2Partial\n",
    "\n",
    "#ATH! Should there be a -2/r_12 or a plus, wierd to have a minus as that reduces energy when electrons near each other\n",
    "\n",
    "@jit\n",
    "def TrialWaveFunction1(alpha,omega,x1,y1,z1,x2,y2,z2):\n",
    "    r1 = np.sqrt(x1**2 + y1**2 + z1**2)\n",
    "    r2 = np.sqrt(x2**2 + y2**2 + z2**2)\n",
    "    return np.exp(-alpha*omega*(r1**2 + r2**2)/2)\n",
    "\n",
    "@jit\n",
    "def TrialWaveFunction2(alpha,beta,omega,x1,y1,z1,x2,y2,z2):\n",
    "    r1 = np.sqrt(x1**2 + y1**2 + z1**2)\n",
    "    r2 = np.sqrt(x2**2 + y2**2 + z2**2)\n",
    "    r_12 = np.sqrt((x1-x2)**2 + (y1-y2)**2 + (z1-z2)**2)\n",
    "    if (beta*r_12 < -1+1e-12) and (beta*r_12 > -1-1e-12):#So that not division by zero\n",
    "        return 0\n",
    "    else:\n",
    "        return np.exp(-alpha*omega*(r1**2 + r2**2)/2)*np.exp(r_12/(2*(1 + beta*r_12)))"
   ]
  },
  {
   "cell_type": "code",
   "execution_count": 503,
   "metadata": {},
   "outputs": [
    {
     "name": "stdout",
     "output_type": "stream",
     "text": [
      "0.75\n",
      "112.39469949365268\n",
      "2.398588562373095\n",
      "0.8227633476483185\n"
     ]
    }
   ],
   "source": [
    "alpha = 0.25\n",
    "beta = 0\n",
    "trialEnergyTemp = TrialEnergyJIT(alpha,1,0,0)\n",
    "print(trialEnergyTemp)\n",
    "trialEnergyTemp = TrialEnergyJITwithCoulomb(alpha,1,2,3,0,0,15,0)\n",
    "print(trialEnergyTemp)\n",
    "x1 = 0\n",
    "y1 = 0\n",
    "z1 = 0\n",
    "x2 = 0\n",
    "y2 = 0\n",
    "z2 = 0.5\n",
    "trialEnergyTemp = TrialEnergyJITwithCoulomb(alpha,1,x1,y1,z1,z2,y2,z2)\n",
    "print(trialEnergyTemp)\n",
    "trialEnergyTemp1 = TrialEnergy2JIT(alpha,beta,1,x1,y1,z1,z2,y2,z2)\n",
    "print(trialEnergyTemp1)"
   ]
  },
  {
   "cell_type": "code",
   "execution_count": 504,
   "metadata": {},
   "outputs": [
    {
     "data": {
      "text/plain": [
       "[<matplotlib.lines.Line2D at 0x17a345e8ba8>]"
      ]
     },
     "execution_count": 504,
     "metadata": {},
     "output_type": "execute_result"
    },
    {
     "data": {
      "image/png": "[encoded data removed]",
      "text/plain": [
       "<Figure size 432x288 with 1 Axes>"
      ]
     },
     "metadata": {
      "needs_background": "light"
     },
     "output_type": "display_data"
    }
   ],
   "source": [
    "#Trying to plot just the addon due to trial wave function 2 to the trial energy\n",
    "alpha = 1\n",
    "omega = 1\n",
    "r_12 = 4\n",
    "beta = np.linspace(0,100,1000)\n",
    "TrialEnergy2Partial = (1/(2*(1 + beta*r_12)**2))\n",
    "TrialTemp = 2*beta/(1 + beta*r_12)*TrialEnergy2Partial\n",
    "TrialEnergyTrue = TrialEnergy2Partial*(alpha*omega*r_12 - 1/(2*(1+beta*r_12)**2) - 2/r_12 + (2*beta/(1 + beta*r_12)))\n",
    "#(alpha*omega*r_12 - (1/2*(1+beta*r_12)**2) - 2/r_12 + (2*beta/(1 + beta*r_12)))\n",
    "#plotting\n",
    "fig0,ax0 = plt.subplots()\n",
    "ax0.plot(beta,TrialEnergy2Partial)\n",
    "ax0.plot(beta,TrialTemp)\n",
    "ax0.plot(beta,TrialEnergyTrue)"
   ]
  },
  {
   "cell_type": "markdown",
   "metadata": {},
   "source": [
    "## Monte Carlo and Metropolis algo:"
   ]
  },
  {
   "cell_type": "code",
   "execution_count": 506,
   "metadata": {},
   "outputs": [],
   "source": [
    "#Probability ratio\n",
    "@jit\n",
    "def ProbRatio(Rold,Rnew,alpha,omega):#Rold and Rnew as an array\n",
    "    new = TrialWaveFunction1(alpha,omega,Rnew[0],Rnew[1],Rnew[2],Rnew[3],Rnew[4],Rnew[5])\n",
    "    new = new**2\n",
    "    old = TrialWaveFunction1(alpha,omega,Rold[0],Rold[1],Rold[2],Rold[3],Rold[4],Rold[5])\n",
    "    old = old**2\n",
    "    return new/old\n",
    "\n",
    "#Probability ratio for the second trial wave function\n",
    "@jit\n",
    "def ProbRatio2(Rold,Rnew,alpha,beta,omega):#Rold and Rnew as an array\n",
    "    new = TrialWaveFunction2(alpha,beta,omega,Rnew[0],Rnew[1],Rnew[2],Rnew[3],Rnew[4],Rnew[5])\n",
    "    new = new**2\n",
    "    old = TrialWaveFunction2(alpha,beta,omega,Rold[0],Rold[1],Rold[2],Rold[3],Rold[4],Rold[5])\n",
    "    old = old**2\n",
    "    return new/old\n",
    "\n",
    "#Metropolis part for the first trial wave function\n",
    "@jit\n",
    "def Metropolis(Rold,Rnew,alpha,omega):\n",
    "    Acceptance = False\n",
    "    probRatio = ProbRatio(Rold,Rnew,alpha,omega)\n",
    "    if probRatio > 1:\n",
    "        Acceptance = True\n",
    "    elif np.random.random() <= probRatio:\n",
    "        Acceptance = True\n",
    "    else:\n",
    "        Acceptance = False\n",
    "    return Acceptance\n",
    "\n",
    "#Metropolis test for the second trial wave function\n",
    "@jit\n",
    "def Metropolis2(Rold,Rnew,alpha,beta,omega):\n",
    "    Acceptance = False\n",
    "    probRatio = ProbRatio2(Rold,Rnew,alpha,beta,omega)\n",
    "    if probRatio > 1:\n",
    "        Acceptance = True\n",
    "    elif np.random.random() <= probRatio:\n",
    "        Acceptance = True\n",
    "    else:\n",
    "        Acceptance = False\n",
    "    return Acceptance"
   ]
  },
  {
   "cell_type": "code",
   "execution_count": 7,
   "metadata": {},
   "outputs": [
    {
     "name": "stdout",
     "output_type": "stream",
     "text": [
      "False\n",
      "[2 3 4]\n"
     ]
    }
   ],
   "source": [
    "R1 = np.array([1,1,1,1,1,1])\n",
    "R2 = np.array([2,2,2,2,2,2])\n",
    "alpha = 1\n",
    "omega = 1\n",
    "print(Metropolis(R1,R2,alpha,omega))\n",
    "\n",
    "a = np.array([1,2,3])\n",
    "print(a+1)"
   ]
  },
  {
   "cell_type": "markdown",
   "metadata": {},
   "source": [
    "**First Monte Carlo with trial wave function 1 and without Coulomb interaction:**"
   ]
  },
  {
   "cell_type": "code",
   "execution_count": 508,
   "metadata": {},
   "outputs": [],
   "source": [
    "#Monte Carlo part\n",
    "@jit(nopython=True)\n",
    "def MonteCarlo(MCCycles,omega,alpha,stepsize):\n",
    "    #initalizing position randomly according to exponetial distribution\n",
    "    x1 = np.random.exponential()\n",
    "    y1 = np.random.exponential()\n",
    "    z1 = np.random.exponential()\n",
    "    x2 = np.random.exponential()\n",
    "    y2 = np.random.exponential()\n",
    "    z2 = np.random.exponential()\n",
    "    r1 = np.sqrt(x1**2 + y1**2 + z1**2)\n",
    "    r2 = np.sqrt(x2**2 + y2**2 + z2**2)\n",
    "    Rold = np.array([x1,y1,z1,x2,y2,z2])\n",
    "    Energy = 0\n",
    "    EnergySquared = 0\n",
    "    #Step size for proposed steps\n",
    "    DeltaR = stepsize\n",
    "    #Counter for how many steps are accepted\n",
    "    CounterAccept = 0\n",
    "    #looping over MC cycles\n",
    "    for i in range(MCCycles):\n",
    "        #looping over each position, in total 6\n",
    "        for l in range(6):\n",
    "            randnum = np.random.random() - 0.5#creating random number on [-0.5,0.5]\n",
    "            Rnew = np.copy(Rold)\n",
    "            Rnew[l] = Rold[l] + randnum*DeltaR#The proposed move for each coordinate at a time\n",
    "            #Metropolis test\n",
    "            Acceptance = Metropolis(Rold,Rnew,alpha,omega)\n",
    "            if Acceptance:#Moving the coordinates if the move is accepted\n",
    "                Rold = Rnew\n",
    "                CounterAccept += 1\n",
    "            r1 = np.sqrt(Rold[0]**2 + Rold[1]**2 + Rold[2]**2)\n",
    "            r2 = np.sqrt(Rold[3]**2 + Rold[4]**2 + Rold[5]**2)\n",
    "            EnergyTemp = TrialEnergyJIT(alpha,omega,r1,r2)\n",
    "            Energy += EnergyTemp\n",
    "            EnergySquared += EnergyTemp**2\n",
    "\n",
    "    #End of MC loop\n",
    "    #Analysis of relevant parameters\n",
    "    AverageEnergy = Energy/MCCycles/6\n",
    "    AverageEnergySquared = EnergySquared/MCCycles/6\n",
    "    Variance = AverageEnergySquared - AverageEnergy**2\n",
    "    \n",
    "    return AverageEnergy, CounterAccept/6, Variance"
   ]
  },
  {
   "cell_type": "markdown",
   "metadata": {},
   "source": [
    "**Then MC for trial wave function 1 with Coulomb interaction: ATH LAGA ÞETTA FALL!!**"
   ]
  },
  {
   "cell_type": "code",
   "execution_count": 509,
   "metadata": {},
   "outputs": [],
   "source": [
    "#Monte Carlo part\n",
    "@jit(nopython=True)\n",
    "def MonteCarloCoulomb(MCCycles,omega,alpha,stepsize):\n",
    "    #initalizing position randomly according to exponetial distribution\n",
    "    x1 = np.random.exponential()\n",
    "    y1 = np.random.exponential()\n",
    "    z1 = np.random.exponential()\n",
    "    x2 = np.random.exponential()\n",
    "    y2 = np.random.exponential()\n",
    "    z2 = np.random.exponential()\n",
    "    r1 = np.sqrt(x1**2 + y1**2 + z1**2)\n",
    "    r2 = np.sqrt(x2**2 + y2**2 + z2**2)\n",
    "    Rold = np.array([x1,y1,z1,x2,y2,z2])\n",
    "    Energy = 0\n",
    "    EnergySquared = 0\n",
    "    ElectronDistance = 0\n",
    "    #Step size for proposed steps\n",
    "    DeltaR = stepsize\n",
    "    #Counter for how many steps are accepted\n",
    "    CounterAccept = 0\n",
    "    #looping over MC cycles\n",
    "    for i in range(MCCycles):\n",
    "        #looping over each position, in total 6\n",
    "        for l in range(6):\n",
    "            randnum = np.random.random() - 0.5#creating random number on [-0.5,0.5]\n",
    "            Rnew = np.copy(Rold)\n",
    "            Rnew[l] = Rold[l] + randnum*DeltaR#The proposed move for each coordinate at a time\n",
    "            #Metropolis test\n",
    "            Acceptance = Metropolis(Rold,Rnew,alpha,omega)\n",
    "            if Acceptance:#Moving the coordinates if the move is accepted\n",
    "                Rold = Rnew\n",
    "                CounterAccept += 1\n",
    "            r1 = np.sqrt(Rold[0]**2 + Rold[1]**2 + Rold[2]**2)\n",
    "            r2 = np.sqrt(Rold[3]**2 + Rold[4]**2 + Rold[5]**2)\n",
    "            EnergyTemp = TrialEnergyJITwithCoulomb(alpha,omega,Rold[0],Rold[1],Rold[2],Rold[3],Rold[4],Rold[5])\n",
    "            if np.isnan(EnergyTemp):\n",
    "                print(\"Error, the Energy is nan, cycle numner:\",i,l)\n",
    "                break\n",
    "            Energy += EnergyTemp\n",
    "            EnergySquared += EnergyTemp**2\n",
    "            #Updating the expectationValue of the distance between the two electrons\n",
    "            ElectronDistance += np.sqrt((Rold[0]-Rold[3])**2 + (Rold[1]-Rold[4])**2 + (Rold[2]-Rold[5])**2)\n",
    "            \n",
    "\n",
    "    #End of MC loop\n",
    "    #Analysis of relevant parameters\n",
    "    AverageEnergy = Energy/MCCycles/6\n",
    "    AverageEnergySquared = EnergySquared/MCCycles/6\n",
    "    Variance = AverageEnergySquared - AverageEnergy**2\n",
    "    ElectronDistanceAverage = ElectronDistance/MCCycles/6\n",
    "    \n",
    "    return AverageEnergy, int(CounterAccept/6), Variance, ElectronDistanceAverage"
   ]
  },
  {
   "cell_type": "markdown",
   "metadata": {},
   "source": [
    "**Then Monte Carlo for the second trial wave function:**"
   ]
  },
  {
   "cell_type": "code",
   "execution_count": 511,
   "metadata": {},
   "outputs": [],
   "source": [
    "@jit(nopython=True)\n",
    "def MonteCarlo2(MCCycles,omega,alpha,beta,stepsize):\n",
    "    #initalizing position randomly according to exponetial distribution\n",
    "    x1 = np.random.exponential()\n",
    "    y1 = np.random.exponential()\n",
    "    z1 = np.random.exponential()\n",
    "    x2 = np.random.exponential()\n",
    "    y2 = np.random.exponential()\n",
    "    z2 = np.random.exponential()\n",
    "    r1 = np.sqrt(x1**2 + y1**2 + z1**2)\n",
    "    r2 = np.sqrt(x2**2 + y2**2 + z2**2)\n",
    "    Rold = np.array([x1,y1,z1,x2,y2,z2])\n",
    "    Energy = 0\n",
    "    EnergySquared = 0\n",
    "    ElectronDistance = 0\n",
    "    #Step size for proposed steps\n",
    "    DeltaR = stepsize\n",
    "    #Counter for how many steps are accepted\n",
    "    CounterAccept = 0\n",
    "    #looping over MC cycles\n",
    "    for i in range(MCCycles):\n",
    "        #looping over each position, in total 6\n",
    "        for l in range(6):\n",
    "            randnum = np.random.random() - 0.5#creating random number on [-0.5,0.5]\n",
    "            Rnew = np.copy(Rold)\n",
    "            Rnew[l] = Rold[l] + randnum*DeltaR#The proposed move for each coordinate at a time\n",
    "            #Metropolis test\n",
    "            Acceptance = Metropolis2(Rold,Rnew,alpha,beta,omega)\n",
    "            if Acceptance:#Moving the coordinates if the move is accepted\n",
    "                Rold = Rnew\n",
    "                CounterAccept += 1\n",
    "            r1 = np.sqrt(Rold[0]**2 + Rold[1]**2 + Rold[2]**2)\n",
    "            r2 = np.sqrt(Rold[3]**2 + Rold[4]**2 + Rold[5]**2)\n",
    "            EnergyTemp = TrialEnergy2JIT(alpha,beta,omega,Rold[0],Rold[1],Rold[2],Rold[3],Rold[4],Rold[5])\n",
    "            if np.isnan(EnergyTemp):\n",
    "                print(\"Error, the Energy is nan, cycle numner:\",i,l)\n",
    "                break\n",
    "            Energy += EnergyTemp\n",
    "            EnergySquared += EnergyTemp**2\n",
    "            #Updating the expectationValue of the distance between the two electrons\n",
    "            ElectronDistance += np.sqrt((Rold[0]-Rold[3])**2 + (Rold[1]-Rold[4])**2 + (Rold[2]-Rold[5])**2)\n",
    "            \n",
    "\n",
    "    #End of MC loop\n",
    "    #Analysis of relevant parameters\n",
    "    AverageEnergy = Energy/MCCycles/6\n",
    "    AverageEnergySquared = EnergySquared/MCCycles/6\n",
    "    Variance = AverageEnergySquared - AverageEnergy**2\n",
    "    ElectronDistanceAverage = ElectronDistance/MCCycles/6\n",
    "    \n",
    "    return AverageEnergy, int(CounterAccept/6), Variance, ElectronDistanceAverage"
   ]
  },
  {
   "cell_type": "markdown",
   "metadata": {},
   "source": [
    "## Trial of the MC calculations:"
   ]
  },
  {
   "cell_type": "code",
   "execution_count": 429,
   "metadata": {},
   "outputs": [
    {
     "name": "stdout",
     "output_type": "stream",
     "text": [
      "71871.0 6.8878592870077675\n",
      "64683.5 1.674858528525748\n",
      "59372.666666666664 0.4077879805224587\n",
      "54925.5 0.033724417840696574\n",
      "53246.666666666664 0.0\n",
      "49977.333333333336 0.10291144597242408\n",
      "47229.333333333336 0.3492957545318536\n",
      "44672.333333333336 0.7166098585252492\n",
      "42825.5 1.1742442876348864\n",
      "40901.333333333336 1.6833792168554123\n"
     ]
    },
    {
     "data": {
      "image/png": "[encoded data removed]",
      "text/plain": [
       "<Figure size 432x288 with 1 Axes>"
      ]
     },
     "metadata": {
      "needs_background": "light"
     },
     "output_type": "display_data"
    },
    {
     "data": {
      "image/png": "[encoded data removed]",
      "text/plain": [
       "<Figure size 432x288 with 1 Axes>"
      ]
     },
     "metadata": {
      "needs_background": "light"
     },
     "output_type": "display_data"
    }
   ],
   "source": [
    "alpha = [0.3,0.5,0.7,0.9,1,1.2,1.4,1.6,1.8,2.0]\n",
    "fig, ax = plt.subplots()\n",
    "fig0, ax0 = plt.subplots()\n",
    "for alphaTemp in alpha:\n",
    "    Energy, Counter, Variance = MonteCarlo(100000,1,alphaTemp,3.8)\n",
    "    print(Counter,Variance)\n",
    "    ax.plot(alphaTemp,Energy,'r*')\n",
    "    ax0.plot(alphaTemp,Variance,'g*')"
   ]
  },
  {
   "cell_type": "markdown",
   "metadata": {},
   "source": [
    "**Device a way to find the optimal step length for each alpha so that acceptance rate is around 50%**"
   ]
  },
  {
   "cell_type": "markdown",
   "metadata": {},
   "source": [
    "**Algorithm that takes care of finding the step size such that 50 \\% acceptance rate in a brute force way:**"
   ]
  },
  {
   "cell_type": "code",
   "execution_count": 483,
   "metadata": {},
   "outputs": [],
   "source": [
    "def FindStepsize(stepsize,alpha,omega):\n",
    "    MCCycles = 10000\n",
    "    M = len(alpha)\n",
    "    StepSize = np.zeros(M)\n",
    "    counter = 0\n",
    "    for i in alpha:\n",
    "        StepTemp = []\n",
    "        for l in stepsize:\n",
    "            Energy, Counter, Variance = MonteCarlo(10000,omega,i,l)\n",
    "            if (Counter >= 4900) and (Counter <= 5100):\n",
    "                StepTemp.append(l)\n",
    "        StepSize[counter] = np.median(StepTemp)\n",
    "        counter += 1\n",
    "        \n",
    "    return StepSize\n",
    "\n",
    "def FindStepsize2(stepsize,alpha,beta,omega):\n",
    "    MCCycles = 10000\n",
    "    M = len(beta)\n",
    "    StepSize = np.zeros(M)\n",
    "    counter = 0\n",
    "    for i in beta:\n",
    "        StepTemp = []\n",
    "        for l in stepsize:\n",
    "            Energy, Counter, Variance, ElectronDistance = MonteCarlo2(10000,omega,alpha,i,l)\n",
    "            if (Counter >= 4900) and (Counter <= 5100):\n",
    "                StepTemp.append(l)\n",
    "        StepSize[counter] = np.median(StepTemp)\n",
    "        counter += 1\n",
    "        \n",
    "    return StepSize\n",
    "\n",
    "#Function that finds the minimal energy in terms of either alpha or beta\n",
    "#as well as finding the electron distance at that minimum\n",
    "def FindMinimalEnergy(EnergyTotal,ElectronDistance,alpha,beta,VarChoice):\n",
    "    #Variable VarChoice decides which variable we are trying to find a minimum at, alpha or beta\n",
    "    MinimalEnergy = np.min(EnergyTotal)\n",
    "    MinimalEnergyIndex = np.where(EnergyTotal == MinimalEnergy)[0][0]#Index for minimal energy\n",
    "    if VarChoice == \"alpha\":\n",
    "        alphaMinimal = alpha[MinimalEnergyIndex]\n",
    "        electronDistanceMinimalEnergy = ElectronDistance[MinimalEnergyIndex]\n",
    "        return MinimalEnergy, electronDistanceMinimalEnergy, alphaMinimal\n",
    "    elif VarChoice == \"beta\":\n",
    "        betaMinimal = beta[MinimalEnergyIndex]\n",
    "        electronDistanceMinimalEnergy = ElectronDistance[MinimalEnergyIndex]\n",
    "        return MinimalEnergy, electronDistanceMinimalEnergy, betaMinimal\n",
    "    else:\n",
    "        assert(\"Please state wheter to find minimal with regards to beta or alpha\")"
   ]
  },
  {
   "cell_type": "code",
   "execution_count": 259,
   "metadata": {},
   "outputs": [
    {
     "name": "stdout",
     "output_type": "stream",
     "text": [
      "[0.2 0.4 0.6 0.8 1.  1.2 1.4 1.6 1.8]\n",
      "[4.775 4.7   4.625 4.625 4.6   4.6   4.575 4.6   4.575]\n"
     ]
    }
   ],
   "source": [
    "#Trial\n",
    "stepsize = np.arange(0,10,0.05)\n",
    "alpha = np.arange(0.2,2,0.2)\n",
    "print(alpha)\n",
    "StepSize = FindStepsize(stepsize,alpha)\n",
    "#Trial for second wave function\n",
    "beta = np.arange(0.2,2,0.2)\n",
    "StepSize2 = FindStepsize2(stepsize,0.85,beta)\n",
    "print(StepSize2)"
   ]
  },
  {
   "cell_type": "code",
   "execution_count": 28,
   "metadata": {},
   "outputs": [
    {
     "name": "stdout",
     "output_type": "stream",
     "text": [
      "[9.275 6.55  5.35  4.65  4.175 3.8   3.525 3.275 3.1  ]\n"
     ]
    }
   ],
   "source": [
    "print(StepSize)"
   ]
  },
  {
   "cell_type": "markdown",
   "metadata": {},
   "source": [
    "# 5.c)"
   ]
  },
  {
   "cell_type": "markdown",
   "metadata": {},
   "source": [
    "**First let's check our calculations without the Coulomb potential and see if we obtain the exact answer:**"
   ]
  },
  {
   "cell_type": "code",
   "execution_count": 71,
   "metadata": {},
   "outputs": [
    {
     "name": "stdout",
     "output_type": "stream",
     "text": [
      "499003.6666666667 7.808273769298527 17.30281358301375\n",
      "500850.1666666667 6.3743725062164005 10.546490184884497\n",
      "498738.1666666667 5.454235946363128 6.891218626121301\n",
      "499033.1666666667 4.807042411954534 4.713471991573453\n",
      "502695.1666666667 4.349285505398034 3.306954137387166\n",
      "500001.5 4.009627168945303 2.3700699462089254\n",
      "497457.8333333333 3.748868776324519 1.6911840111990983\n",
      "499067.8333333333 3.5533093004490053 1.2094331600415877\n",
      "501773.8333333333 3.400486864384481 0.8544809738285792\n",
      "498737.0 3.2803623215217126 0.5883744581380945\n",
      "499810.1666666667 3.1948408479406862 0.3980819055863325\n",
      "500148.0 3.125737871082341 0.2563621833028993\n",
      "497655.8333333333 3.07385563789037 0.15143500049932435\n",
      "500766.8333333333 3.040080455555834 0.07997793861683178\n",
      "498478.1666666667 3.0163254433959263 0.033414126948146716\n",
      "495188.6666666667 3.0040147354676363 0.007897449238566168\n",
      "501012.3333333333 3.0 0.0\n",
      "503093.1666666667 3.0037044500634242 0.007128248534591819\n",
      "496846.3333333333 3.013420307074274 0.027462068161414166\n",
      "500191.5 3.0299882978554744 0.059093772397107\n",
      "499916.1666666667 3.049661269052526 0.10127512760892365\n",
      "497102.8333333333 3.074937040889575 0.1518033761516726\n",
      "499581.8333333333 3.1039078584102486 0.21202997823863257\n",
      "500955.6666666667 3.136045448279324 0.27902015726835216\n",
      "499287.8333333333 3.1720893379942807 0.3528391338853982\n",
      "497745.0 3.208853135681109 0.4337885882612653\n",
      "501997.0 3.2499249204761753 0.5225333909462577\n",
      "501354.5 3.2953658845131755 0.613156593465197\n",
      "495961.3333333333 3.3375197796845484 0.7124577111698116\n",
      "498437.5 3.3851857435386807 0.8169166961538021\n",
      "498883.3333333333 3.4318309827977784 0.9269521244864265\n",
      "499368.0 3.4817269292948905 1.0406148403073168\n",
      "496927.6666666667 3.5300957998105305 1.1632432882280401\n",
      "500734.5 3.58204049844548 1.2909972868225683\n",
      "501995.0 3.636260687621712 1.41810802553435\n",
      "503216.3333333333 3.6923300505374055 1.557660383495536\n",
      "Measurement took in seconds: 44.276692628860474\n"
     ]
    },
    {
     "data": {
      "image/png": "[encoded data removed]",
      "text/plain": [
       "<Figure size 432x288 with 1 Axes>"
      ]
     },
     "metadata": {
      "needs_background": "light"
     },
     "output_type": "display_data"
    }
   ],
   "source": [
    "#Monte Carlo calculations for the first trial wave function for more number of different alpha\n",
    "#first finding the optimal step size for each value of alpha\n",
    "alpha1 = np.arange(0.2,2,0.05)\n",
    "stepsize1 = np.arange(0,10,0.05)\n",
    "StepSize1 = FindStepsize(stepsize1,alpha1)\n",
    "#Then doing calculation for each alpha\n",
    "fig4, ax4 = plt.subplots()\n",
    "start = time.time()\n",
    "for i in range(len(alpha1)):\n",
    "    stepTemp = StepSize1[i]\n",
    "    alphaTemp = alpha1[i]\n",
    "    Energy, Counter, Variance = MonteCarlo(1000000,1,alphaTemp,stepTemp)\n",
    "    print(Counter,Energy,Variance)\n",
    "    ax4.plot(alphaTemp,Energy,'r*')\n",
    "end = time.time()\n",
    "print(\"Measurement took in seconds:\",end-start)"
   ]
  },
  {
   "cell_type": "markdown",
   "metadata": {},
   "source": [
    "## Then we do the calculations with Coulomb interaction for both trial wave functions. Basing the optimization of paramater $\\beta$ on the initial extremum in $\\alpha$. We take measurements for three different value of $\\omega$, $\\omega \\in \\{0.01,0.5,1\\}$"
   ]
  },
  {
   "cell_type": "markdown",
   "metadata": {},
   "source": [
    "# First with $\\omega = 1$:"
   ]
  },
  {
   "cell_type": "code",
   "execution_count": 282,
   "metadata": {},
   "outputs": [
    {
     "name": "stdout",
     "output_type": "stream",
     "text": [
      "measurement took in seconds: 41.17655563354492\n"
     ]
    }
   ],
   "source": [
    "omega = 1\n",
    "EnergyTotal = np.zeros(len(alpha1))\n",
    "CounterTotal = np.zeros(len(alpha1))\n",
    "VarianceTotal = np.zeros(len(alpha1))\n",
    "ElectronDistanceTotal = np.zeros(len(alpha1))\n",
    "start = time.time()\n",
    "for i in range(len(alpha1)):\n",
    "    stepTemp = StepSize1[i]\n",
    "    alphaTemp = alpha1[i]\n",
    "    Energy, Counter, Variance, ElectronDistance = MonteCarloCoulomb(int(1e6),omega,alphaTemp,stepTemp)\n",
    "    EnergyTotal[i] = Energy\n",
    "    CounterTotal[i] = Counter\n",
    "    VarianceTotal[i] = Variance\n",
    "    ElectronDistanceTotal[i] = ElectronDistance\n",
    "end = time.time()\n",
    "print(\"measurement took in seconds:\",end-start)"
   ]
  },
  {
   "cell_type": "code",
   "execution_count": 303,
   "metadata": {},
   "outputs": [
    {
     "name": "stdout",
     "output_type": "stream",
     "text": [
      "3.774100014850241\n",
      "0.8999999999999999 1.6810623394492132\n"
     ]
    }
   ],
   "source": [
    "#Finding the lowest energy\n",
    "MinimalEnergy, electDistMinimalEnergy, alphaMinimal = FindMinimalEnergy(EnergyTotal,ElectronDistanceTotal,alpha1,1,\"alpha\")\n",
    "print(MinimalEnergy)\n",
    "print(alphaMinimal,electDistMinimalEnergy)"
   ]
  },
  {
   "cell_type": "markdown",
   "metadata": {},
   "source": [
    "**Plotting:**"
   ]
  },
  {
   "cell_type": "code",
   "execution_count": 304,
   "metadata": {},
   "outputs": [
    {
     "data": {
      "text/plain": [
       "Text(0.5, 0, '$\\\\alpha$')"
      ]
     },
     "execution_count": 304,
     "metadata": {},
     "output_type": "execute_result"
    },
    {
     "data": {
      "image/png": "[encoded data removed]",
      "text/plain": [
       "<Figure size 432x288 with 1 Axes>"
      ]
     },
     "metadata": {
      "needs_background": "light"
     },
     "output_type": "display_data"
    }
   ],
   "source": [
    "#Energy as a function of variational paramater alpha\n",
    "fig5_1,ax5_1 = plt.subplots()\n",
    "ax5_1.plot(alpha1,EnergyTotal,'*')\n",
    "ax5_1.plot(alphaMinimal,MinimalEnergy,'r*')\n",
    "ax5_1.set_ylabel(\"Energy\")\n",
    "ax5_1.set_xlabel(r\"$\\alpha$\")"
   ]
  },
  {
   "cell_type": "code",
   "execution_count": 286,
   "metadata": {},
   "outputs": [
    {
     "data": {
      "text/plain": [
       "[<matplotlib.lines.Line2D at 0x17a2a190c50>]"
      ]
     },
     "execution_count": 286,
     "metadata": {},
     "output_type": "execute_result"
    },
    {
     "data": {
      "image/png": "[encoded data removed]",
      "text/plain": [
       "<Figure size 432x288 with 1 Axes>"
      ]
     },
     "metadata": {
      "needs_background": "light"
     },
     "output_type": "display_data"
    }
   ],
   "source": [
    "#Variance as a function of variational parameter alpha\n",
    "fig5_2,ax5_2 = plt.subplots()\n",
    "ax5_2.plot(alpha1,VarianceTotal,'*')"
   ]
  },
  {
   "cell_type": "markdown",
   "metadata": {},
   "source": [
    "**Then analysis for the second trial wave function using the optimal $\\alpha$ obtained:**"
   ]
  },
  {
   "cell_type": "code",
   "execution_count": 319,
   "metadata": {},
   "outputs": [
    {
     "name": "stdout",
     "output_type": "stream",
     "text": [
      "[0.02 0.22 0.4  0.42 0.42 0.44 0.46 0.48 0.5  0.52 0.54 0.56 0.58 0.6\n",
      " 0.62 0.62 0.64 0.66 0.68 0.7  0.72 0.74 0.76 0.78 0.8  0.82 0.82 0.84\n",
      " 0.86 0.88 0.9  0.92 0.94 0.96 0.98 1.   1.02 1.02 1.04 1.06 1.08 1.1\n",
      " 1.12 1.14 1.16 1.18 1.2  1.22 1.22 1.24 1.26 1.28 1.3  1.32 1.34 1.36\n",
      " 1.38 1.42 1.62 1.82 2.02 2.22 2.42 2.62 2.82]\n"
     ]
    }
   ],
   "source": [
    "#Setting up range in beta\n",
    "temp = np.arange(0.4,1.4,0.02)\n",
    "beta1 = np.arange(0.02,3,0.2)\n",
    "beta1 = np.concatenate((temp,beta1),axis=0)\n",
    "beta1 = np.sort(beta1)\n",
    "print(beta1)"
   ]
  },
  {
   "cell_type": "code",
   "execution_count": 320,
   "metadata": {},
   "outputs": [
    {
     "name": "stderr",
     "output_type": "stream",
     "text": [
      "C:\\Users\\lenovo\\Anaconda3\\lib\\site-packages\\numpy\\core\\fromnumeric.py:3118: RuntimeWarning: Mean of empty slice.\n",
      "  out=out, **kwargs)\n",
      "C:\\Users\\lenovo\\Anaconda3\\lib\\site-packages\\numpy\\core\\_methods.py:85: RuntimeWarning: invalid value encountered in double_scalars\n",
      "  ret = ret.dtype.type(ret / rcount)\n"
     ]
    },
    {
     "name": "stdout",
     "output_type": "stream",
     "text": [
      "[4.9 4.6 4.6 4.6 4.6 4.6 4.6 4.6 4.6 4.6 4.6 4.6 4.6 4.5 4.6 4.5 4.4 4.5\n",
      " 4.5 4.5 nan 4.5 4.5 4.6 4.4 4.5 4.5 4.5 4.4 4.5 4.5 4.5 4.4 4.4 4.4 4.4\n",
      " 4.4 4.5 4.4 4.4 4.4 4.4 4.5 4.4 4.4 4.4 4.4 4.4 4.4 4.4 4.4 4.4 4.4 4.4\n",
      " 4.4 4.5 4.4 4.4 4.4 4.4 4.4 4.4 4.4 4.4 4.4]\n"
     ]
    }
   ],
   "source": [
    "#Finding the right stepsize\n",
    "stepsize = np.arange(1,10,0.2)\n",
    "StepSize2 = FindStepsize2(stepsize,0.9,beta1,1)\n",
    "print(StepSize2)"
   ]
  },
  {
   "cell_type": "code",
   "execution_count": 321,
   "metadata": {},
   "outputs": [
    {
     "name": "stdout",
     "output_type": "stream",
     "text": [
      "measurement took in seconds: 501.1616015434265\n"
     ]
    }
   ],
   "source": [
    "omega = 1\n",
    "alpha2 = 0.9\n",
    "EnergyTotal3 = np.zeros(len(beta1))\n",
    "CounterTotal3 = np.zeros(len(beta1))\n",
    "VarianceTotal3 = np.zeros(len(beta1))\n",
    "ElectronDistanceTotal3 = np.zeros(len(beta1))\n",
    "start = time.time()\n",
    "for i in range(len(beta1)):\n",
    "    Energy, Counter, Variance, ElectronDistance = MonteCarlo2(int(5e6),omega,alpha2,beta1[i],4.5)\n",
    "    EnergyTotal3[i] = Energy\n",
    "    CounterTotal3[i] = Counter\n",
    "    VarianceTotal3[i] = Variance\n",
    "    ElectronDistanceTotal3[i] = ElectronDistance\n",
    "end = time.time()\n",
    "print(\"measurement took in seconds:\",end-start)"
   ]
  },
  {
   "cell_type": "code",
   "execution_count": 383,
   "metadata": {},
   "outputs": [
    {
     "name": "stdout",
     "output_type": "stream",
     "text": [
      "3.504701579845564\n",
      "1.1400000000000006 1.7539313488195472\n"
     ]
    }
   ],
   "source": [
    "#Finding the minimal energy\n",
    "MinimalEnergy1, electDistMinimalEnergy1, betaMinimal1 = FindMinimalEnergy(EnergyTotal3,ElectronDistanceTotal3,alpha2,beta1,\"beta\")\n",
    "print(MinimalEnergy1)\n",
    "print(betaMinimal1,electDistMinimalEnergy1)"
   ]
  },
  {
   "cell_type": "code",
   "execution_count": 382,
   "metadata": {},
   "outputs": [
    {
     "data": {
      "text/plain": [
       "Text(0, 0.5, 'Energy')"
      ]
     },
     "execution_count": 382,
     "metadata": {},
     "output_type": "execute_result"
    },
    {
     "data": {
      "image/png": "[encoded data removed]",
      "text/plain": [
       "<Figure size 432x288 with 1 Axes>"
      ]
     },
     "metadata": {
      "needs_background": "light"
     },
     "output_type": "display_data"
    }
   ],
   "source": [
    "#plotting Energy as a function of Beta\n",
    "fig5_3,ax5_3 = plt.subplots()\n",
    "ax5_3.plot(beta1[2:-1],EnergyTotal3[2:-1],'*')\n",
    "ax5_3.plot(betaMinimal1,MinimalEnergy1,'r*')\n",
    "ax5_3.set_xlabel(r\"$\\beta$\")\n",
    "ax5_3.set_ylabel(\"Energy\")"
   ]
  },
  {
   "cell_type": "code",
   "execution_count": 324,
   "metadata": {},
   "outputs": [
    {
     "name": "stdout",
     "output_type": "stream",
     "text": [
      "[0.24922616 0.03869588 0.02099428 0.02091231 0.02096203 0.02116383\n",
      " 0.02142944 0.021833   0.02242276 0.02306216 0.02394205 0.02479412\n",
      " 0.02569541 0.02673644 0.02784827 0.02784504 0.02891976 0.03009876\n",
      " 0.03124497 0.03254425 0.03376159 0.03510312 0.036432   0.03766375\n",
      " 0.039041   0.04039757 0.04036805 0.04184386 0.0431034  0.04460172\n",
      " 0.04578164 0.04731013 0.04857969 0.04994821 0.05129458 0.05268294\n",
      " 0.05404517 0.05402182 0.05559778 0.05673996 0.05823485 0.05957438\n",
      " 0.06068161 0.06206089 0.06341146 0.06478579 0.06602165 0.0673077\n",
      " 0.06744659 0.06871759 0.06994969 0.07112317 0.07254583 0.07365676\n",
      " 0.0747061  0.07601426 0.07725137 0.07973424 0.09111754 0.10162934\n",
      " 0.11072548 0.11925722 0.1264013  0.13439763 0.14077379]\n"
     ]
    },
    {
     "data": {
      "image/png": "[encoded data removed]",
      "text/plain": [
       "<Figure size 432x288 with 1 Axes>"
      ]
     },
     "metadata": {
      "needs_background": "light"
     },
     "output_type": "display_data"
    }
   ],
   "source": [
    "#plotting Variance in Energy as a function of Beta\n",
    "fig5_4,ax5_4 = plt.subplots()\n",
    "ax5_4.plot(beta1[0:-1],VarianceTotal3[0:-1],'*')\n",
    "ax5_4.set_xlabel(r\"$\\beta$\")\n",
    "ax5_4.set_ylabel(\"Variance\")\n",
    "print(VarianceTotal3)"
   ]
  },
  {
   "cell_type": "markdown",
   "metadata": {},
   "source": [
    "# Then with $\\omega = 0.01$:"
   ]
  },
  {
   "cell_type": "code",
   "execution_count": 325,
   "metadata": {},
   "outputs": [
    {
     "name": "stdout",
     "output_type": "stream",
     "text": [
      "measurement took in seconds: 46.25438451766968\n"
     ]
    }
   ],
   "source": [
    "omega = 0.01\n",
    "EnergyTotal1 = np.zeros(len(alpha1))\n",
    "CounterTotal1= np.zeros(len(alpha1))\n",
    "VarianceTotal1 = np.zeros(len(alpha1))\n",
    "ElectronDistanceTotal1 = np.zeros(len(alpha1))\n",
    "start = time.time()\n",
    "for i in range(len(alpha1)):\n",
    "    stepTemp = StepSize1[i]\n",
    "    alphaTemp = alpha1[i]\n",
    "    Energy, Counter, Variance, ElectronDistance = MonteCarloCoulomb(1000000,omega,alphaTemp,stepTemp)\n",
    "    EnergyTotal1[i] = Energy\n",
    "    CounterTotal1[i] = Counter\n",
    "    VarianceTotal1[i] = Variance\n",
    "    ElectronDistanceTotal1[i] = ElectronDistance\n",
    "end = time.time()\n",
    "print(\"measurement took in seconds:\",end-start)"
   ]
  },
  {
   "cell_type": "code",
   "execution_count": 332,
   "metadata": {},
   "outputs": [
    {
     "name": "stdout",
     "output_type": "stream",
     "text": [
      "The minimal energy is: 0.09397719936947845\n",
      "The minimal energy is at alpha = 0.44999999999999996\n",
      "There the distance between electrons is: 23.74278954979697\n"
     ]
    }
   ],
   "source": [
    "#Finding the lowest energy\n",
    "MinimalEnergy1, electDistMinimalEnergy1, alphaMinimal1 = FindMinimalEnergy(EnergyTotal1,ElectronDistanceTotal1,alpha1,1,\"alpha\")\n",
    "print(\"The minimal energy is:\",MinimalEnergy1)\n",
    "print(\"The minimal energy is at alpha =\",alphaMinimal1)\n",
    "print(\"There the distance between electrons is:\",electDistMinimalEnergy1)"
   ]
  },
  {
   "cell_type": "markdown",
   "metadata": {},
   "source": [
    "**Plotting:**"
   ]
  },
  {
   "cell_type": "code",
   "execution_count": 328,
   "metadata": {},
   "outputs": [
    {
     "data": {
      "text/plain": [
       "Text(0.5, 0, '$\\\\alpha$')"
      ]
     },
     "execution_count": 328,
     "metadata": {},
     "output_type": "execute_result"
    },
    {
     "data": {
      "image/png": "[encoded data removed]",
      "text/plain": [
       "<Figure size 432x288 with 1 Axes>"
      ]
     },
     "metadata": {
      "needs_background": "light"
     },
     "output_type": "display_data"
    }
   ],
   "source": [
    "#Energy as a function of variational paramater alpha\n",
    "fig6_1,ax6_1 = plt.subplots()\n",
    "ax6_1.plot(alpha1,EnergyTotal1,'*')\n",
    "ax6_1.plot(alphaMinimal1,MinimalEnergy1,'r*')\n",
    "ax6_1.set_ylabel(\"Energy\")\n",
    "ax6_1.set_xlabel(r\"$\\alpha$\")"
   ]
  },
  {
   "cell_type": "code",
   "execution_count": 335,
   "metadata": {},
   "outputs": [
    {
     "data": {
      "text/plain": [
       "Text(0.5, 0, '$\\\\alpha$')"
      ]
     },
     "execution_count": 335,
     "metadata": {},
     "output_type": "execute_result"
    },
    {
     "data": {
      "image/png": "[encoded data removed]",
      "text/plain": [
       "<Figure size 432x288 with 1 Axes>"
      ]
     },
     "metadata": {
      "needs_background": "light"
     },
     "output_type": "display_data"
    }
   ],
   "source": [
    "#Variance as a function of variational parameter alpha\n",
    "fig6_2,ax6_2 = plt.subplots()\n",
    "ax6_2.plot(alpha1,VarianceTotal1,'*')\n",
    "ax6_2.set_ylabel(\"Variance\")\n",
    "ax6_2.set_xlabel(r\"$\\alpha$\")"
   ]
  },
  {
   "cell_type": "markdown",
   "metadata": {},
   "source": [
    "**Then analysis for the second trial wave function using the optimal $\\alpha$ obtained:**"
   ]
  },
  {
   "cell_type": "code",
   "execution_count": 352,
   "metadata": {},
   "outputs": [
    {
     "name": "stdout",
     "output_type": "stream",
     "text": [
      "[0.01 0.02 0.03 0.05 0.07 0.09 0.11 0.13 0.15 0.17 0.19 0.21 0.22 0.23\n",
      " 0.25 0.27 0.29 0.31 0.33 0.35 0.37 0.39 0.42 0.62 0.82 1.02 1.22 1.42\n",
      " 1.62 1.82 2.02 2.22 2.42 2.62 2.82]\n"
     ]
    }
   ],
   "source": [
    "#Setting up range in beta\n",
    "temp = np.arange(0.01,0.4,0.02)\n",
    "beta1 = np.arange(0.02,3,0.2)\n",
    "beta1 = np.concatenate((temp,beta1),axis=0)\n",
    "beta2 = np.sort(beta1)\n",
    "print(beta2)"
   ]
  },
  {
   "cell_type": "code",
   "execution_count": 342,
   "metadata": {},
   "outputs": [
    {
     "name": "stdout",
     "output_type": "stream",
     "text": [
      "[nan nan nan nan nan nan nan nan nan nan nan nan nan nan nan nan nan nan\n",
      " nan nan nan nan nan nan nan nan nan nan nan nan nan nan nan nan nan nan\n",
      " nan nan nan nan nan nan nan nan nan nan nan nan nan nan nan nan nan nan\n",
      " nan nan nan nan nan nan nan nan nan nan nan]\n"
     ]
    }
   ],
   "source": [
    "#Finding the right stepsize\n",
    "stepsize = np.arange(20,40,0.2)\n",
    "StepSize2 = FindStepsize2(stepsize,0.45,beta1,0.01)\n",
    "print(StepSize2)"
   ]
  },
  {
   "cell_type": "code",
   "execution_count": 353,
   "metadata": {},
   "outputs": [
    {
     "name": "stdout",
     "output_type": "stream",
     "text": [
      "measurement took in seconds: 56.71172046661377\n"
     ]
    }
   ],
   "source": [
    "omega = 0.01\n",
    "alpha2 = 0.45\n",
    "EnergyTotal4 = np.zeros(len(beta2))\n",
    "CounterTotal4 = np.zeros(len(beta2))\n",
    "VarianceTotal4 = np.zeros(len(beta2))\n",
    "ElectronDistanceTotal4 = np.zeros(len(beta2))\n",
    "start = time.time()\n",
    "for i in range(len(beta2)):\n",
    "    Energy, Counter, Variance, ElectronDistance = MonteCarlo2(int(1e6),omega,alpha2,beta2[i],4.5)\n",
    "    EnergyTotal4[i] = Energy\n",
    "    CounterTotal4[i] = Counter\n",
    "    VarianceTotal4[i] = Variance\n",
    "    ElectronDistanceTotal4[i] = ElectronDistance\n",
    "end = time.time()\n",
    "print(\"measurement took in seconds:\",end-start)"
   ]
  },
  {
   "cell_type": "code",
   "execution_count": 354,
   "metadata": {},
   "outputs": [
    {
     "name": "stdout",
     "output_type": "stream",
     "text": [
      "-0.1632687147365074\n",
      "0.10999999999999997 30.691367869860528\n"
     ]
    }
   ],
   "source": [
    "#Finding the minimal energy\n",
    "MinimalEnergy3, electDistMinimalEnergy3, betaMinimal3 = FindMinimalEnergy(EnergyTotal4,ElectronDistanceTotal4,alpha2,beta2,\"beta\")\n",
    "print(MinimalEnergy3)\n",
    "print(betaMinimal3,electDistMinimalEnergy3)"
   ]
  },
  {
   "cell_type": "code",
   "execution_count": 355,
   "metadata": {},
   "outputs": [
    {
     "data": {
      "text/plain": [
       "Text(0, 0.5, 'Energy')"
      ]
     },
     "execution_count": 355,
     "metadata": {},
     "output_type": "execute_result"
    },
    {
     "data": {
      "image/png": "[encoded data removed]",
      "text/plain": [
       "<Figure size 432x288 with 1 Axes>"
      ]
     },
     "metadata": {
      "needs_background": "light"
     },
     "output_type": "display_data"
    }
   ],
   "source": [
    "#plotting Energy as a function of Beta\n",
    "fig6_3,ax6_3 = plt.subplots()\n",
    "ax6_3.plot(beta2[0:-1],EnergyTotal4[0:-1],'*')\n",
    "ax6_3.set_xlabel(r\"$\\beta$\")\n",
    "ax6_3.set_ylabel(\"Energy\")"
   ]
  },
  {
   "cell_type": "markdown",
   "metadata": {},
   "source": [
    "# Then with $\\omega = 0.5$:"
   ]
  },
  {
   "cell_type": "code",
   "execution_count": 356,
   "metadata": {},
   "outputs": [
    {
     "name": "stdout",
     "output_type": "stream",
     "text": [
      "measurement took in seconds: 47.46701097488403\n"
     ]
    }
   ],
   "source": [
    "omega = 0.5\n",
    "EnergyTotal5 = np.zeros(len(alpha1))\n",
    "CounterTotal5 = np.zeros(len(alpha1))\n",
    "VarianceTotal5 = np.zeros(len(alpha1))\n",
    "ElectronDistanceTotal5 = np.zeros(len(alpha1))\n",
    "start = time.time()\n",
    "for i in range(len(alpha1)):\n",
    "    stepTemp = StepSize1[i]\n",
    "    alphaTemp = alpha1[i]\n",
    "    Energy, Counter, Variance, ElectronDistance = MonteCarloCoulomb(1000000,omega,alphaTemp,stepTemp)\n",
    "    EnergyTotal5[i] = Energy\n",
    "    CounterTotal5[i] = Counter\n",
    "    VarianceTotal5[i] = Variance\n",
    "    ElectronDistanceTotal5[i] = ElectronDistance\n",
    "end = time.time()\n",
    "print(\"measurement took in seconds:\",end-start)"
   ]
  },
  {
   "cell_type": "code",
   "execution_count": 359,
   "metadata": {},
   "outputs": [
    {
     "name": "stdout",
     "output_type": "stream",
     "text": [
      "The minimal energy is: 2.0403815130292897\n",
      "The minimal energy is at alpha = 0.8499999999999999\n",
      "There the distance between electrons is: 2.4446483621064443\n"
     ]
    }
   ],
   "source": [
    "#Finding the lowest energy\n",
    "MinimalEnergy5, electDistMinimalEnergy5, alphaMinimal5 = FindMinimalEnergy(EnergyTotal5,ElectronDistanceTotal5,alpha1,1,\"alpha\")\n",
    "print(\"The minimal energy is:\",MinimalEnergy5)\n",
    "print(\"The minimal energy is at alpha =\",alphaMinimal5)\n",
    "print(\"There the distance between electrons is:\",electDistMinimalEnergy5)"
   ]
  },
  {
   "cell_type": "code",
   "execution_count": 364,
   "metadata": {},
   "outputs": [
    {
     "data": {
      "text/plain": [
       "Text(0, 0.5, 'Energy')"
      ]
     },
     "execution_count": 364,
     "metadata": {},
     "output_type": "execute_result"
    },
    {
     "data": {
      "image/png": "[encoded data removed]",
      "text/plain": [
       "<Figure size 432x288 with 1 Axes>"
      ]
     },
     "metadata": {
      "needs_background": "light"
     },
     "output_type": "display_data"
    }
   ],
   "source": [
    "#Energy as a function of variational paramater alpha\n",
    "fig7, ax7 = plt.subplots()\n",
    "ax7.plot(alpha1,EnergyTotal5,'*')\n",
    "ax7.plot(alphaMinimal5,MinimalEnergy5,'r*')\n",
    "ax7.set_xlabel(r\"$\\alpha$\")\n",
    "ax7.set_ylabel(\"Energy\")"
   ]
  },
  {
   "cell_type": "code",
   "execution_count": 365,
   "metadata": {},
   "outputs": [
    {
     "data": {
      "text/plain": [
       "Text(0.5, 0, '$\\\\alpha$')"
      ]
     },
     "execution_count": 365,
     "metadata": {},
     "output_type": "execute_result"
    },
    {
     "data": {
      "image/png": "[encoded data removed]",
      "text/plain": [
       "<Figure size 432x288 with 1 Axes>"
      ]
     },
     "metadata": {
      "needs_background": "light"
     },
     "output_type": "display_data"
    }
   ],
   "source": [
    "#Variance as a function of variational parameter alpha\n",
    "fig7_2,ax7_2 = plt.subplots()\n",
    "ax7_2.plot(alpha1,VarianceTotal5,'*')\n",
    "ax7_2.set_ylabel(\"Variance\")\n",
    "ax7_2.set_xlabel(r\"$\\alpha$\")"
   ]
  },
  {
   "cell_type": "markdown",
   "metadata": {},
   "source": [
    "**Then for variational parameter $\\beta$:**"
   ]
  },
  {
   "cell_type": "code",
   "execution_count": 431,
   "metadata": {},
   "outputs": [
    {
     "name": "stdout",
     "output_type": "stream",
     "text": [
      "[0.02 0.22 0.4  0.42 0.42 0.44 0.46 0.48 0.5  0.52 0.54 0.56 0.58 0.6\n",
      " 0.62 0.62 0.64 0.66 0.68 0.7  0.72 0.74 0.76 0.78 0.8  0.82 0.82 0.84\n",
      " 0.86 0.88 0.9  0.92 0.94 0.96 0.98 1.   1.02 1.02 1.04 1.06 1.08 1.1\n",
      " 1.12 1.14 1.16 1.18 1.2  1.22 1.22 1.24 1.26 1.28 1.3  1.32 1.34 1.36\n",
      " 1.38 1.42 1.62 1.82 2.02 2.22 2.42 2.62 2.82]\n"
     ]
    }
   ],
   "source": [
    "#Setting up range in beta\n",
    "temp = np.arange(0.4,1.4,0.02)\n",
    "beta1 = np.arange(0.02,3,0.2)\n",
    "beta1 = np.concatenate((temp,beta1),axis=0)\n",
    "beta3 = np.sort(beta1)\n",
    "print(beta3)"
   ]
  },
  {
   "cell_type": "code",
   "execution_count": 367,
   "metadata": {},
   "outputs": [
    {
     "name": "stdout",
     "output_type": "stream",
     "text": [
      "[5.  5.1 5.  5.  5.  5.  4.9 4.8 4.8 4.8 4.8 4.8 4.8 4.8 4.8 4.8 4.8 4.8\n",
      " 4.8 4.7 4.7 4.7 4.7 4.6 4.6 4.6 4.6 4.6 4.6 4.6 4.6 4.6 4.6 4.5 4.6]\n"
     ]
    }
   ],
   "source": [
    "#Finding the right stepsize\n",
    "stepsize = np.arange(1,10,0.2)\n",
    "StepSize3 = FindStepsize2(stepsize,0.85,beta3,1)\n",
    "print(StepSize3)"
   ]
  },
  {
   "cell_type": "code",
   "execution_count": 381,
   "metadata": {},
   "outputs": [
    {
     "name": "stdout",
     "output_type": "stream",
     "text": [
      "measurement took in seconds: 341.27339792251587\n"
     ]
    }
   ],
   "source": [
    "omega = 0.5\n",
    "alpha2 = 0.85\n",
    "EnergyTotal6 = np.zeros(len(beta3))\n",
    "CounterTotal6 = np.zeros(len(beta3))\n",
    "VarianceTotal6 = np.zeros(len(beta3))\n",
    "ElectronDistanceTotal6 = np.zeros(len(beta3))\n",
    "start = time.time()\n",
    "for i in range(len(beta3)):\n",
    "    Energy, Counter, Variance, ElectronDistance = MonteCarlo2(int(3e6),omega,alpha2,beta3[i],4.6)\n",
    "    EnergyTotal6[i] = Energy\n",
    "    CounterTotal6[i] = Counter\n",
    "    VarianceTotal6[i] = Variance\n",
    "    ElectronDistanceTotal6[i] = ElectronDistance\n",
    "end = time.time()\n",
    "print(\"measurement took in seconds:\",end-start)"
   ]
  },
  {
   "cell_type": "code",
   "execution_count": 384,
   "metadata": {},
   "outputs": [
    {
     "name": "stdout",
     "output_type": "stream",
     "text": [
      "The minimum in energy is : 1.773174014917564\n",
      "Beta at that minimum is: 0.7600000000000003\n",
      "The electron distance at the minimum is 2.585320724814038\n"
     ]
    }
   ],
   "source": [
    "#Finding the minimal energy\n",
    "MinimalEnergy6, electDistMinimalEnergy6, betaMinimal6 = FindMinimalEnergy(EnergyTotal6,ElectronDistanceTotal6,alpha2,beta3,\"beta\")\n",
    "print(\"The minimum in energy is :\",MinimalEnergy6)\n",
    "print(\"Beta at that minimum is:\",betaMinimal6)\n",
    "print(\"The electron distance at the minimum is\",electDistMinimalEnergy6)"
   ]
  },
  {
   "cell_type": "code",
   "execution_count": 385,
   "metadata": {},
   "outputs": [
    {
     "data": {
      "text/plain": [
       "Text(0, 0.5, 'Energy')"
      ]
     },
     "execution_count": 385,
     "metadata": {},
     "output_type": "execute_result"
    },
    {
     "data": {
      "image/png": "[encoded data removed]",
      "text/plain": [
       "<Figure size 432x288 with 1 Axes>"
      ]
     },
     "metadata": {
      "needs_background": "light"
     },
     "output_type": "display_data"
    }
   ],
   "source": [
    "#plotting Energy as a function of Beta\n",
    "fig7_3,ax7_3 = plt.subplots()\n",
    "ax7_3.plot(beta3[2:-1],EnergyTotal6[2:-1],'*')\n",
    "ax7_3.plot(betaMinimal6,MinimalEnergy6,'r*')\n",
    "ax7_3.set_xlabel(r\"$\\beta$\")\n",
    "ax7_3.set_ylabel(\"Energy\")"
   ]
  },
  {
   "cell_type": "markdown",
   "metadata": {},
   "source": [
    "# Analysis of $\\omega = 0.25$ to check agains article: "
   ]
  },
  {
   "cell_type": "code",
   "execution_count": 484,
   "metadata": {},
   "outputs": [
    {
     "name": "stdout",
     "output_type": "stream",
     "text": [
      "measurement took in seconds: 53.806480407714844\n"
     ]
    }
   ],
   "source": [
    "omega = 0.25\n",
    "EnergyTotal7 = np.zeros(len(alpha1))\n",
    "CounterTotal7 = np.zeros(len(alpha1))\n",
    "VarianceTotal7 = np.zeros(len(alpha1))\n",
    "ElectronDistanceTotal7 = np.zeros(len(alpha1))\n",
    "start = time.time()\n",
    "for i in range(len(alpha1)):\n",
    "    stepTemp = StepSize1[i]\n",
    "    alphaTemp = alpha1[i]\n",
    "    Energy, Counter, Variance, ElectronDistance = MonteCarloCoulomb(int(1e6),omega,alphaTemp,stepTemp)\n",
    "    EnergyTotal7[i] = Energy\n",
    "    CounterTotal7[i] = Counter\n",
    "    VarianceTotal7[i] = Variance\n",
    "    ElectronDistanceTotal7[i] = ElectronDistance\n",
    "end = time.time()\n",
    "print(\"measurement took in seconds:\",end-start)"
   ]
  },
  {
   "cell_type": "code",
   "execution_count": 485,
   "metadata": {},
   "outputs": [
    {
     "name": "stdout",
     "output_type": "stream",
     "text": [
      "The minimal energy is: 1.125634197328295\n",
      "The minimal energy is at alpha = 0.7999999999999998\n",
      "There the distance between electrons is: 3.5682674846988607\n"
     ]
    }
   ],
   "source": [
    "#Finding the lowest energy\n",
    "MinimalEnergy7, electDistMinimalEnergy7, alphaMinimal7 = FindMinimalEnergy(EnergyTotal7,ElectronDistanceTotal7,alpha1,1,\"alpha\")\n",
    "print(\"The minimal energy is:\",MinimalEnergy7)\n",
    "print(\"The minimal energy is at alpha =\",alphaMinimal7)\n",
    "print(\"There the distance between electrons is:\",electDistMinimalEnergy7)"
   ]
  },
  {
   "cell_type": "code",
   "execution_count": 486,
   "metadata": {},
   "outputs": [
    {
     "data": {
      "text/plain": [
       "Text(0, 0.5, 'Energy')"
      ]
     },
     "execution_count": 486,
     "metadata": {},
     "output_type": "execute_result"
    },
    {
     "data": {
      "image/png": "[encoded data removed]",
      "text/plain": [
       "<Figure size 432x288 with 1 Axes>"
      ]
     },
     "metadata": {
      "needs_background": "light"
     },
     "output_type": "display_data"
    }
   ],
   "source": [
    "#Energy as a function of variational paramater alpha\n",
    "fig8, ax8 = plt.subplots()\n",
    "ax8.plot(alpha1,EnergyTotal7,'*')\n",
    "ax8.plot(alphaMinimal7,MinimalEnergy7,'r*')\n",
    "ax8.set_xlabel(r\"$\\alpha$\")\n",
    "ax8.set_ylabel(\"Energy\")"
   ]
  },
  {
   "cell_type": "markdown",
   "metadata": {},
   "source": [
    "**Then for variational parameter $\\beta$:**"
   ]
  },
  {
   "cell_type": "code",
   "execution_count": 565,
   "metadata": {},
   "outputs": [
    {
     "name": "stdout",
     "output_type": "stream",
     "text": [
      "[0.002 0.1   0.102 0.104 0.106 0.108 0.11  0.112 0.114 0.116 0.118 0.12\n",
      " 0.122 0.124 0.126 0.128 0.13  0.132 0.134 0.136 0.138 0.14  0.142 0.144\n",
      " 0.146 0.148 0.15  0.152 0.154 0.156 0.158 0.16  0.162 0.164 0.166 0.168\n",
      " 0.17  0.172 0.174 0.176 0.178 0.18  0.182 0.184 0.186 0.188 0.19  0.192\n",
      " 0.194 0.196 0.198 0.2   0.202 0.202 0.204 0.206 0.208 0.21  0.212 0.214\n",
      " 0.216 0.218 0.22  0.222 0.224 0.226 0.228 0.23  0.232 0.234 0.236 0.238\n",
      " 0.24  0.242 0.244 0.246 0.248 0.25  0.252 0.254 0.256 0.258 0.26  0.262\n",
      " 0.264 0.266 0.268 0.27  0.272 0.274 0.276 0.278 0.28  0.282 0.284 0.286\n",
      " 0.288 0.29  0.292 0.294 0.296 0.298 0.3   0.302 0.304 0.306 0.308 0.31\n",
      " 0.312 0.314 0.316 0.318 0.32  0.322 0.324 0.326 0.328 0.33  0.332 0.334\n",
      " 0.336 0.338 0.34  0.342 0.344 0.346 0.348 0.35  0.352 0.354 0.356 0.358\n",
      " 0.36  0.362 0.364 0.366 0.368 0.37  0.372 0.374 0.376 0.378 0.38  0.382\n",
      " 0.384 0.386 0.388 0.39  0.392 0.394 0.396 0.398 0.4   0.402 0.602 0.802\n",
      " 1.002 1.202 1.402 1.602 1.802]\n"
     ]
    }
   ],
   "source": [
    "#Setting up range in beta\n",
    "temp = np.arange(0.002,2,0.2)\n",
    "beta1 = np.arange(0.1,0.4,0.002)\n",
    "beta1 = np.concatenate((temp,beta1),axis=0)\n",
    "beta4 = np.sort(beta1)\n",
    "print(beta4)"
   ]
  },
  {
   "cell_type": "code",
   "execution_count": 488,
   "metadata": {},
   "outputs": [
    {
     "name": "stdout",
     "output_type": "stream",
     "text": [
      "[5.2 4.9 4.8 4.8 4.8 4.8 4.7 4.7 4.7 4.7 4.7 4.6 4.6 4.6 4.6 4.6 4.6 4.6\n",
      " 4.6 4.6 4.6 4.6 4.7 4.6 4.7 4.6 4.6 4.6 4.6 4.6 4.6 4.6 4.6 4.7 4.7 4.7\n",
      " 4.6 4.6]\n"
     ]
    }
   ],
   "source": [
    "#Finding the right stepsize\n",
    "stepsize = np.arange(1,10,0.2)\n",
    "StepSize4 = FindStepsize2(stepsize,0.8,beta4,1)\n",
    "print(StepSize4)"
   ]
  },
  {
   "cell_type": "code",
   "execution_count": 566,
   "metadata": {},
   "outputs": [
    {
     "name": "stdout",
     "output_type": "stream",
     "text": [
      "measurement took in seconds: 307.6930272579193\n"
     ]
    }
   ],
   "source": [
    "omega = 0.25\n",
    "alpha2 = 0.8\n",
    "EnergyTotal8 = np.zeros(len(beta4))\n",
    "CounterTotal8 = np.zeros(len(beta4))\n",
    "VarianceTotal8 = np.zeros(len(beta4))\n",
    "ElectronDistanceTotal8 = np.zeros(len(beta4))\n",
    "start = time.time()\n",
    "for i in range(len(beta4)):\n",
    "    Energy, Counter, Variance, ElectronDistance = MonteCarlo2(int(1e6),omega,alpha2,beta4[i],4.8)\n",
    "    EnergyTotal8[i] = Energy\n",
    "    CounterTotal8[i] = Counter\n",
    "    VarianceTotal8[i] = Variance\n",
    "    ElectronDistanceTotal8[i] = ElectronDistance\n",
    "end = time.time()\n",
    "print(\"measurement took in seconds:\",end-start)"
   ]
  },
  {
   "cell_type": "code",
   "execution_count": 592,
   "metadata": {},
   "outputs": [
    {
     "name": "stdout",
     "output_type": "stream",
     "text": [
      "The minimum in energy is : 1.0999098416050839\n",
      "Beta at that minimum is: 0.3420000000000002\n",
      "The electron distance at the minimum is 4.014111889586813\n",
      "The minimum in energy is (Filtered): 1.0999879653308189\n",
      "Beta at that minimum is (Filtered): 0.30200000000000016\n",
      "The electron distance at the minimum is (Filtered) 4.079513533151317\n"
     ]
    }
   ],
   "source": [
    "#Finding the minimal energy\n",
    "EnergyTotal8Filtered = savgol_filter(EnergyTotal8,window_length=5,polyorder=3)\n",
    "MinimalEnergy8, electDistMinimalEnergy8, betaMinimal8 = FindMinimalEnergy(EnergyTotal8,ElectronDistanceTotal8,alpha2,beta4,\"beta\")\n",
    "print(\"The minimum in energy is :\",MinimalEnergy8)\n",
    "print(\"Beta at that minimum is:\",betaMinimal8)\n",
    "print(\"The electron distance at the minimum is\",electDistMinimalEnergy8)\n",
    "MinimalEnergy8Filt, electDistMinimalEnergy8Filt, betaMinimal8Filt = FindMinimalEnergy(EnergyTotal8Filtered,ElectronDistanceTotal8,alpha2,beta4,\"beta\")\n",
    "print(\"The minimum in energy is (Filtered):\",MinimalEnergy8Filt)\n",
    "print(\"Beta at that minimum is (Filtered):\",betaMinimal8Filt)\n",
    "print(\"The electron distance at the minimum is (Filtered)\",electDistMinimalEnergy8Filt)"
   ]
  },
  {
   "cell_type": "code",
   "execution_count": 596,
   "metadata": {},
   "outputs": [
    {
     "data": {
      "text/plain": [
       "<matplotlib.legend.Legend at 0x17a33d22b70>"
      ]
     },
     "execution_count": 596,
     "metadata": {},
     "output_type": "execute_result"
    },
    {
     "data": {
      "image/png": "[encoded data removed]",
      "text/plain": [
       "<Figure size 432x288 with 1 Axes>"
      ]
     },
     "metadata": {
      "needs_background": "light"
     },
     "output_type": "display_data"
    }
   ],
   "source": [
    "#plotting Energy as a function of Beta\n",
    "fig8_3,ax8_3 = plt.subplots()\n",
    "ax8_3.plot(beta4[1:-1],EnergyTotal8[1:-1],'*',label=\"Original data\")#Spurning um að nota einhver filter til að ná út suði\n",
    "ax8_3.plot(betaMinimal8,MinimalEnergy8,'r*')\n",
    "ax8_3.plot(betaMinimal8Filt,MinimalEnergy8Filt,'r*')\n",
    "ax8_3.set_xlabel(r\"$\\beta$\")\n",
    "ax8_3.set_ylabel(\"Energy\")\n",
    "#Trying to filter the data\n",
    "MinimalEnergy8Filtered = savgol_filter(EnergyTotal8[1:-1],window_length=7,polyorder=5)\n",
    "ax8_3.plot(beta4[1:-1],MinimalEnergy8Filtered,label=\"Filtered Data\")\n",
    "ax8_3.legend()"
   ]
  }
 ],
 "metadata": {
  "kernelspec": {
   "display_name": "Python 3",
   "language": "python",
   "name": "python3"
  },
  "language_info": {
   "codemirror_mode": {
    "name": "ipython",
    "version": 3
   },
   "file_extension": ".py",
   "mimetype": "text/x-python",
   "name": "python",
   "nbconvert_exporter": "python",
   "pygments_lexer": "ipython3",
   "version": "3.6.5"
  }
 },
 "nbformat": 4,
 "nbformat_minor": 2
}
