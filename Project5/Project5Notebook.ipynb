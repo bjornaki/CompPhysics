{
 "cells": [
  {
   "cell_type": "code",
   "execution_count": 1,
   "metadata": {},
   "outputs": [],
   "source": [
    "import numpy as np\n",
    "import matplotlib.pyplot as plt \n",
    "from numba import jit, njit, vectorize\n",
    "import time"
   ]
  },
  {
   "cell_type": "markdown",
   "metadata": {},
   "source": [
    "## Defining functions that we need:"
   ]
  },
  {
   "cell_type": "code",
   "execution_count": 121,
   "metadata": {},
   "outputs": [],
   "source": [
    "#Trial energy 1\n",
    "def TrialEnergy1(alpha,omega,r1,r2):\n",
    "    return 0.5*omega**2*(r1**2 + r2**2)*(1 - alpha**2) + 3*omega*alpha\n",
    "\n",
    "@vectorize#By far the quickest of the three for vectors\n",
    "def TrialEnergy1Vec(alpha,omega,r1,r2):\n",
    "    #r1 = np.sqrt(x1**2 + y1**2 + z1**2)\n",
    "    #r2 = np.sqrt(x2**2 + y2**2 + z2**2)\n",
    "    return 0.5*omega**2*(r1**2 + r2**2)*(1 - alpha**2) + 3*omega*alpha\n",
    "\n",
    "@jit(nopython=True)\n",
    "def TrialEnergyJIT(alpha,omega,r1,r2):\n",
    "    return 0.5*(omega**2)*(r1**2 + r2**2)*(1 - alpha**2) + 3*omega*alpha\n",
    "\n",
    "#Athuga betur hvernig ég á að díla við að deila með núlli þegar Coulomb víxlverkun til staðar\n",
    "@jit(nopython=True)\n",
    "def TrialEnergyJITwithCoulomb(alpha,omega,x1,y1,z1,x2,y2,z2):\n",
    "    r1 = np.sqrt(x1**2 + y1**2 + z1**2)\n",
    "    r2 = np.sqrt(x2**2 + y2**2 + z2**2)\n",
    "    r_12 = np.sqrt((x1-x2)**2 + (y1-y2)**2 + (z1-z2)**2)\n",
    "    if abs(r_12) <= 1e-8:\n",
    "        return 0\n",
    "    else:\n",
    "        return 0.5*(omega**2)*(r1**2 + r2**2)*(1 - alpha**2) + 3*omega*alpha + 1/r_12\n",
    "    \n",
    "#Trial energy for the seconds trial wave function\n",
    "@jit(nopython=True)\n",
    "def TrialEnergy2JIT(alpha,beta,omega,x1,y1,z1,x2,y2,z2):\n",
    "    r1 = np.sqrt(x1**2 + y1**2 + z1**2)\n",
    "    r2 = np.sqrt(x2**2 + y2**2 + z2**2)\n",
    "    r_12 = np.sqrt((x1-x2)**2 + (y1-y2)**2 + (z1-z2)**2)\n",
    "    TrialEnergy1 = TrialEnergyJITwithCoulomb(alpha,omega,x1,y1,z1,x2,y2,z2)\n",
    "    if abs(r_12) <= 1e-8:\n",
    "        return 0\n",
    "    else:\n",
    "        TrialEnergy2Partial = (1/(2*(1+beta*r_12)**2))*(alpha*omega*r_12 - (1/2*(1+beta*r_12)**2) - 2/r_12 + (2*beta/(1+beta*r_12)))\n",
    "        return TrialEnergy1 + TrialEnergy2Partial\n",
    "    \n",
    "\n",
    "@jit\n",
    "def TrialWaveFunction1(alpha,omega,x1,y1,z1,x2,y2,z2):\n",
    "    r1 = np.sqrt(x1**2 + y1**2 + z1**2)\n",
    "    r2 = np.sqrt(x2**2 + y2**2 + z2**2)\n",
    "    return np.exp(-alpha*omega*(r1**2 + r2**2)/2)\n",
    "\n",
    "@jit\n",
    "def TrialWaveFunction2(alpha,beta,omega,x1,y1,z1,x2,y2,z2):\n",
    "    r1 = np.sqrt(x1**2 + y1**2 + z1**2)\n",
    "    r2 = np.sqrt(x2**2 + y2**2 + z2**2)\n",
    "    r_12 = np.sqrt((x1-x2)**2 - (y1-y2)**2 - (z1-z2)**2)\n",
    "    return np.exp(-alpha*omega*(r1**2 + r2**2)/2)*np.exp(r_12/(2*(1 + beta*r_12)))"
   ]
  },
  {
   "cell_type": "code",
   "execution_count": 126,
   "metadata": {},
   "outputs": [
    {
     "name": "stdout",
     "output_type": "stream",
     "text": [
      "3.0\n",
      "10000003.0\n",
      "3.907341807245056\n",
      "3.683433853170855\n"
     ]
    }
   ],
   "source": [
    "alpha = 1\n",
    "beta = 2\n",
    "trialEnergyTemp = TrialEnergyJIT(alpha,1,0,0)\n",
    "print(trialEnergyTemp)\n",
    "trialEnergyTemp = TrialEnergyJITwithCoulomb(alpha,1,1e-7,0,0,0,0,0)\n",
    "print(trialEnergyTemp)\n",
    "x1 = np.random.exponential()\n",
    "y1 = np.random.exponential()\n",
    "z1 = np.random.exponential()\n",
    "x2 = np.random.exponential()\n",
    "y2 = np.random.exponential()\n",
    "z2 = np.random.exponential()\n",
    "trialEnergyTemp = TrialEnergyJITwithCoulomb(alpha,1,x1,y1,z1,z2,y2,z2)\n",
    "print(trialEnergyTemp)\n",
    "trialEnergyTemp1 = TrialEnergy2JIT(alpha,beta,1,x1,y1,z1,z2,y2,z2)\n",
    "print(trialEnergyTemp1)"
   ]
  },
  {
   "cell_type": "markdown",
   "metadata": {},
   "source": [
    "## Monte Carlo and Metropolis algo:"
   ]
  },
  {
   "cell_type": "code",
   "execution_count": 132,
   "metadata": {},
   "outputs": [],
   "source": [
    "#Probability ratio\n",
    "@jit\n",
    "def ProbRatio(Rold,Rnew,alpha,omega):#Rold and Rnew as an array\n",
    "    new = TrialWaveFunction2(alpha,beta,omega,Rnew[0],Rnew[1],Rnew[2],Rnew[3],Rnew[4],Rnew[5])\n",
    "    new = new**2\n",
    "    old = TrialWaveFunction2(alpha,beta,omega,Rold[0],Rold[1],Rold[2],Rold[3],Rold[4],Rold[5])\n",
    "    old = old**2\n",
    "    return new/old\n",
    "\n",
    "#Probability ratio for the second trial wave function\n",
    "@jit\n",
    "def ProbRatio2(Rold,Rnew,alpha,beta,omega):#Rold and Rnew as an array\n",
    "    new = TrialWaveFunction1(alpha,omega,Rnew[0],Rnew[1],Rnew[2],Rnew[3],Rnew[4],Rnew[5])\n",
    "    new = new**2\n",
    "    old = TrialWaveFunction1(alpha,omega,Rold[0],Rold[1],Rold[2],Rold[3],Rold[4],Rold[5])\n",
    "    old = old**2\n",
    "    return new/old\n",
    "\n",
    "#Metropolis part for the first trial wave function\n",
    "@jit\n",
    "def Metropolis(Rold,Rnew,alpha,omega):\n",
    "    Acceptance = False\n",
    "    probRatio = ProbRatio(Rold,Rnew,alpha,omega)\n",
    "    if probRatio > 1:\n",
    "        Acceptance = True\n",
    "    elif np.random.random() <= probRatio:\n",
    "        Acceptance = True\n",
    "    else:\n",
    "        Acceptance = False\n",
    "    return Acceptance\n",
    "\n",
    "#Metropolis test for the second trial wave function\n",
    "@jit\n",
    "def Metropolis2(Rold,Rnew,alpha,beta,omega):\n",
    "    Acceptance = False\n",
    "    probRatio = ProbRatio2(Rold,Rnew,alpha,beta,omega)\n",
    "    if probRatio > 1:\n",
    "        Acceptance = True\n",
    "    elif np.random.random() <= probRatio:\n",
    "        Acceptance = True\n",
    "    else:\n",
    "        Acceptance = False\n",
    "    return Acceptance"
   ]
  },
  {
   "cell_type": "code",
   "execution_count": 7,
   "metadata": {},
   "outputs": [
    {
     "name": "stdout",
     "output_type": "stream",
     "text": [
      "False\n",
      "[2 3 4]\n"
     ]
    }
   ],
   "source": [
    "R1 = np.array([1,1,1,1,1,1])\n",
    "R2 = np.array([2,2,2,2,2,2])\n",
    "alpha = 1\n",
    "omega = 1\n",
    "print(Metropolis(R1,R2,alpha,omega))\n",
    "\n",
    "a = np.array([1,2,3])\n",
    "print(a+1)"
   ]
  },
  {
   "cell_type": "markdown",
   "metadata": {},
   "source": [
    "**First Monte Carlo with trial wave function 1 and without Coulomb interaction:**\n",
    "\n",
    "ATH bæta inn variance!!!"
   ]
  },
  {
   "cell_type": "code",
   "execution_count": 20,
   "metadata": {},
   "outputs": [],
   "source": [
    "#Monte Carlo part\n",
    "@jit(nopython=True)\n",
    "def MonteCarlo(MCCycles,omega,alpha,stepsize):\n",
    "    #initalizing position randomly according to exponetial distribution\n",
    "    x1 = np.random.exponential()\n",
    "    y1 = np.random.exponential()\n",
    "    z1 = np.random.exponential()\n",
    "    x2 = np.random.exponential()\n",
    "    y2 = np.random.exponential()\n",
    "    z2 = np.random.exponential()\n",
    "    r1 = np.sqrt(x1**2 + y1**2 + z1**2)\n",
    "    r2 = np.sqrt(x2**2 + y2**2 + z2**2)\n",
    "    Rold = np.array([x1,y1,z1,x2,y2,z2])\n",
    "    Energy = 0\n",
    "    EnergySquared = 0\n",
    "    #Step size for proposed steps\n",
    "    DeltaR = stepsize\n",
    "    #Counter for how many steps are accepted\n",
    "    CounterAccept = 0\n",
    "    #looping over MC cycles\n",
    "    for i in range(MCCycles):\n",
    "        #looping over each position, in total 6\n",
    "        for l in range(6):\n",
    "            randnum = np.random.random() - 0.5#creating random number on [-0.5,0.5]\n",
    "            Rnew = np.copy(Rold)\n",
    "            Rnew[l] = Rold[l] + randnum*DeltaR#The proposed move for each coordinate at a time\n",
    "            #Metropolis test\n",
    "            Acceptance = Metropolis(Rold,Rnew,alpha,omega)\n",
    "            if Acceptance:#Moving the coordinates if the move is accepted\n",
    "                Rold = Rnew\n",
    "                CounterAccept += 1\n",
    "            r1 = np.sqrt(Rold[0]**2 + Rold[1]**2 + Rold[2]**2)\n",
    "            r2 = np.sqrt(Rold[3]**2 + Rold[4]**2 + Rold[5]**2)\n",
    "            EnergyTemp = TrialEnergyJIT(alpha,omega,r1,r2)\n",
    "            Energy += EnergyTemp\n",
    "            EnergySquared += EnergyTemp**2\n",
    "\n",
    "    #End of MC loop\n",
    "    #Analysis of relevant parameters\n",
    "    AverageEnergy = Energy/MCCycles/6\n",
    "    AverageEnergySquared = EnergySquared/MCCycles/6\n",
    "    Variance = AverageEnergySquared - AverageEnergy**2\n",
    "    \n",
    "    return AverageEnergy, CounterAccept/6, Variance"
   ]
  },
  {
   "cell_type": "markdown",
   "metadata": {},
   "source": [
    "**Then MC for trial wave function 1 with Coulomb interaction: ATH LAGA ÞETTA FALL!!**"
   ]
  },
  {
   "cell_type": "code",
   "execution_count": 85,
   "metadata": {},
   "outputs": [],
   "source": [
    "#Monte Carlo part\n",
    "@jit(nopython=True)\n",
    "def MonteCarloCoulomb(MCCycles,omega,alpha,stepsize):\n",
    "    #initalizing position randomly according to exponetial distribution\n",
    "    x1 = np.random.exponential()\n",
    "    y1 = np.random.exponential()\n",
    "    z1 = np.random.exponential()\n",
    "    x2 = np.random.exponential()\n",
    "    y2 = np.random.exponential()\n",
    "    z2 = np.random.exponential()\n",
    "    r1 = np.sqrt(x1**2 + y1**2 + z1**2)\n",
    "    r2 = np.sqrt(x2**2 + y2**2 + z2**2)\n",
    "    Rold = np.array([x1,y1,z1,x2,y2,z2])\n",
    "    Energy = 0\n",
    "    EnergySquared = 0\n",
    "    ElectronDistance = 0\n",
    "    #Step size for proposed steps\n",
    "    DeltaR = stepsize\n",
    "    #Counter for how many steps are accepted\n",
    "    CounterAccept = 0\n",
    "    #looping over MC cycles\n",
    "    for i in range(MCCycles):\n",
    "        #looping over each position, in total 6\n",
    "        for l in range(6):\n",
    "            randnum = np.random.random() - 0.5#creating random number on [-0.5,0.5]\n",
    "            Rnew = np.copy(Rold)\n",
    "            Rnew[l] = Rold[l] + randnum*DeltaR#The proposed move for each coordinate at a time\n",
    "            #Metropolis test\n",
    "            Acceptance = Metropolis(Rold,Rnew,alpha,omega)\n",
    "            if Acceptance:#Moving the coordinates if the move is accepted\n",
    "                Rold = Rnew\n",
    "                CounterAccept += 1\n",
    "            r1 = np.sqrt(Rold[0]**2 + Rold[1]**2 + Rold[2]**2)\n",
    "            r2 = np.sqrt(Rold[3]**2 + Rold[4]**2 + Rold[5]**2)\n",
    "            EnergyTemp = TrialEnergyJITwithCoulomb(alpha,omega,Rold[0],Rold[1],Rold[2],Rold[3],Rold[4],Rold[5])\n",
    "            if np.isnan(EnergyTemp):\n",
    "                print(\"Error, the Energy is nan, cycle numner:\",i,l)\n",
    "                break\n",
    "            Energy += EnergyTemp\n",
    "            EnergySquared += EnergyTemp**2\n",
    "            #Updating the expectationValue of the distance between the two electrons\n",
    "            ElectronDistance += np.sqrt((Rold[0]-Rold[3])**2 + (Rold[1]-Rold[4])**2 + (Rold[2]-Rold[5])**2)\n",
    "            \n",
    "\n",
    "    #End of MC loop\n",
    "    #Analysis of relevant parameters\n",
    "    AverageEnergy = Energy/MCCycles/6\n",
    "    AverageEnergySquared = EnergySquared/MCCycles/6\n",
    "    Variance = AverageEnergySquared - AverageEnergy**2\n",
    "    ElectronDistanceAverage = ElectronDistance/MCCycles/6\n",
    "    \n",
    "    return AverageEnergy, int(CounterAccept/6), Variance, ElectronDistanceAverage"
   ]
  },
  {
   "cell_type": "markdown",
   "metadata": {},
   "source": [
    "## Trial of the MC calculations:"
   ]
  },
  {
   "cell_type": "code",
   "execution_count": 21,
   "metadata": {},
   "outputs": [
    {
     "name": "stdout",
     "output_type": "stream",
     "text": [
      "71829.83333333333 6.873207123021892\n",
      "64617.333333333336 1.7165072822441534\n",
      "59276.166666666664 0.39797493719109056\n",
      "55022.0 0.03354867630279479\n",
      "53197.833333333336 0.0\n",
      "49920.0 0.10154226551147616\n",
      "47235.0 0.35224880418301474\n",
      "44840.0 0.7532466050509008\n",
      "42639.0 1.147563402354324\n",
      "40868.166666666664 1.695743535772733\n"
     ]
    },
    {
     "data": {
      "image/png": "[encoded data removed]",
      "text/plain": [
       "<Figure size 432x288 with 1 Axes>"
      ]
     },
     "metadata": {
      "needs_background": "light"
     },
     "output_type": "display_data"
    },
    {
     "data": {
      "image/png": "[encoded data removed]",
      "text/plain": [
       "<Figure size 432x288 with 1 Axes>"
      ]
     },
     "metadata": {
      "needs_background": "light"
     },
     "output_type": "display_data"
    }
   ],
   "source": [
    "alpha = [0.3,0.5,0.7,0.9,1,1.2,1.4,1.6,1.8,2.0]\n",
    "fig, ax = plt.subplots()\n",
    "fig0, ax0 = plt.subplots()\n",
    "for alphaTemp in alpha:\n",
    "    Energy, Counter, Variance = MonteCarlo(100000,1,alphaTemp,3.8)\n",
    "    print(Counter,Variance)\n",
    "    ax.plot(alphaTemp,Energy,'r*')\n",
    "    ax0.plot(alphaTemp,Variance,'g*')"
   ]
  },
  {
   "cell_type": "markdown",
   "metadata": {},
   "source": [
    "**Device a way to find the optimal step length for each alpha so that acceptance rate is around 50%**"
   ]
  },
  {
   "cell_type": "markdown",
   "metadata": {},
   "source": [
    "**Algorithm that takes care of finding the step size such that 50 \\% acceptance rate in a brute force way:**"
   ]
  },
  {
   "cell_type": "code",
   "execution_count": 24,
   "metadata": {},
   "outputs": [],
   "source": [
    "def FindStepsize(stepsize,alpha):\n",
    "    MCCycles = 10000\n",
    "    M = len(alpha)\n",
    "    StepSize = np.zeros(M)\n",
    "    counter = 0\n",
    "    for i in alpha:\n",
    "        StepTemp = []\n",
    "        for l in stepsize:\n",
    "            Energy, Counter, Variance = MonteCarlo(10000,1,i,l)\n",
    "            if (Counter >= 4900) and (Counter <= 5100):\n",
    "                StepTemp.append(l)\n",
    "        StepSize[counter] = np.median(StepTemp)\n",
    "        counter += 1\n",
    "        \n",
    "    return StepSize"
   ]
  },
  {
   "cell_type": "code",
   "execution_count": 27,
   "metadata": {},
   "outputs": [
    {
     "name": "stdout",
     "output_type": "stream",
     "text": [
      "[0.2 0.4 0.6 0.8 1.  1.2 1.4 1.6 1.8]\n"
     ]
    }
   ],
   "source": [
    "#Trial\n",
    "stepsize = np.arange(0,10,0.05)\n",
    "alpha = np.arange(0.2,2,0.2)\n",
    "print(alpha)\n",
    "StepSize = FindStepsize(stepsize,alpha)"
   ]
  },
  {
   "cell_type": "code",
   "execution_count": 28,
   "metadata": {},
   "outputs": [
    {
     "name": "stdout",
     "output_type": "stream",
     "text": [
      "[9.275 6.55  5.35  4.65  4.175 3.8   3.525 3.275 3.1  ]\n"
     ]
    }
   ],
   "source": [
    "print(StepSize)"
   ]
  },
  {
   "cell_type": "code",
   "execution_count": 30,
   "metadata": {},
   "outputs": [
    {
     "name": "stdout",
     "output_type": "stream",
     "text": [
      "500973.6666666667\n",
      "501185.5\n",
      "501444.8333333333\n",
      "499937.0\n",
      "498667.0\n",
      "499560.5\n",
      "498734.3333333333\n",
      "501365.5\n",
      "500609.1666666667\n"
     ]
    },
    {
     "data": {
      "image/png": "[encoded data removed]",
      "text/plain": [
       "<Figure size 432x288 with 1 Axes>"
      ]
     },
     "metadata": {
      "needs_background": "light"
     },
     "output_type": "display_data"
    }
   ],
   "source": [
    "fig3, ax3 = plt.subplots()\n",
    "for i in range(len(alpha)):\n",
    "    stepTemp = StepSize[i]\n",
    "    alphaTemp = alpha[i]\n",
    "    Energy, Counter, Variance = MonteCarlo(1000000,1,alphaTemp,stepTemp)\n",
    "    print(Counter)\n",
    "    ax3.plot(alphaTemp,Energy,'r*')"
   ]
  },
  {
   "cell_type": "markdown",
   "metadata": {},
   "source": [
    "# 5.c)"
   ]
  },
  {
   "cell_type": "markdown",
   "metadata": {},
   "source": [
    "**First withhout Coulomb interaction:**"
   ]
  },
  {
   "cell_type": "code",
   "execution_count": 71,
   "metadata": {},
   "outputs": [
    {
     "name": "stdout",
     "output_type": "stream",
     "text": [
      "499003.6666666667 7.808273769298527 17.30281358301375\n",
      "500850.1666666667 6.3743725062164005 10.546490184884497\n",
      "498738.1666666667 5.454235946363128 6.891218626121301\n",
      "499033.1666666667 4.807042411954534 4.713471991573453\n",
      "502695.1666666667 4.349285505398034 3.306954137387166\n",
      "500001.5 4.009627168945303 2.3700699462089254\n",
      "497457.8333333333 3.748868776324519 1.6911840111990983\n",
      "499067.8333333333 3.5533093004490053 1.2094331600415877\n",
      "501773.8333333333 3.400486864384481 0.8544809738285792\n",
      "498737.0 3.2803623215217126 0.5883744581380945\n",
      "499810.1666666667 3.1948408479406862 0.3980819055863325\n",
      "500148.0 3.125737871082341 0.2563621833028993\n",
      "497655.8333333333 3.07385563789037 0.15143500049932435\n",
      "500766.8333333333 3.040080455555834 0.07997793861683178\n",
      "498478.1666666667 3.0163254433959263 0.033414126948146716\n",
      "495188.6666666667 3.0040147354676363 0.007897449238566168\n",
      "501012.3333333333 3.0 0.0\n",
      "503093.1666666667 3.0037044500634242 0.007128248534591819\n",
      "496846.3333333333 3.013420307074274 0.027462068161414166\n",
      "500191.5 3.0299882978554744 0.059093772397107\n",
      "499916.1666666667 3.049661269052526 0.10127512760892365\n",
      "497102.8333333333 3.074937040889575 0.1518033761516726\n",
      "499581.8333333333 3.1039078584102486 0.21202997823863257\n",
      "500955.6666666667 3.136045448279324 0.27902015726835216\n",
      "499287.8333333333 3.1720893379942807 0.3528391338853982\n",
      "497745.0 3.208853135681109 0.4337885882612653\n",
      "501997.0 3.2499249204761753 0.5225333909462577\n",
      "501354.5 3.2953658845131755 0.613156593465197\n",
      "495961.3333333333 3.3375197796845484 0.7124577111698116\n",
      "498437.5 3.3851857435386807 0.8169166961538021\n",
      "498883.3333333333 3.4318309827977784 0.9269521244864265\n",
      "499368.0 3.4817269292948905 1.0406148403073168\n",
      "496927.6666666667 3.5300957998105305 1.1632432882280401\n",
      "500734.5 3.58204049844548 1.2909972868225683\n",
      "501995.0 3.636260687621712 1.41810802553435\n",
      "503216.3333333333 3.6923300505374055 1.557660383495536\n",
      "Measurement took in seconds: 44.276692628860474\n"
     ]
    },
    {
     "data": {
      "image/png": "[encoded data removed]",
      "text/plain": [
       "<Figure size 432x288 with 1 Axes>"
      ]
     },
     "metadata": {
      "needs_background": "light"
     },
     "output_type": "display_data"
    }
   ],
   "source": [
    "#Monte Carlo calculations for the first trial wave function for more number of different alpha\n",
    "#first finding the optimal step size for each value of alpha\n",
    "alpha1 = np.arange(0.2,2,0.05)\n",
    "stepsize1 = np.arange(0,10,0.05)\n",
    "StepSize1 = FindStepsize(stepsize1,alpha1)\n",
    "#Then doing calculation for each alpha\n",
    "fig4, ax4 = plt.subplots()\n",
    "start = time.time()\n",
    "for i in range(len(alpha1)):\n",
    "    stepTemp = StepSize1[i]\n",
    "    alphaTemp = alpha1[i]\n",
    "    Energy, Counter, Variance = MonteCarlo(1000000,1,alphaTemp,stepTemp)\n",
    "    print(Counter,Energy,Variance)\n",
    "    ax4.plot(alphaTemp,Energy,'r*')\n",
    "end = time.time()\n",
    "print(\"Measurement took in seconds:\",end-start)"
   ]
  },
  {
   "cell_type": "markdown",
   "metadata": {},
   "source": [
    "**Then with Coulomb interaction:**"
   ]
  },
  {
   "cell_type": "markdown",
   "metadata": {},
   "source": [
    "**First with $\\omega = 1$:**"
   ]
  },
  {
   "cell_type": "code",
   "execution_count": 86,
   "metadata": {},
   "outputs": [
    {
     "name": "stdout",
     "output_type": "stream",
     "text": [
      "498994 8.14938796306527 16.38454928724353\n",
      "501015 6.776322034481875 9.851242254977436\n",
      "498721 5.887704398914798 6.3463922681062215\n",
      "498741 5.282755608840074 4.2418043578210884\n",
      "502651 4.857023424854552 2.927442807821105\n",
      "500020 4.54536552841516 2.0564291965573034\n",
      "497209 4.31382957259592 1.443800003514724\n",
      "498968 4.144374066083318 1.0294568536668542\n",
      "501525 4.016037421083851 0.7273714865169509\n",
      "498699 3.9252505125750745 0.5467156464526699\n",
      "499628 3.8601161358686564 0.4070034421895965\n",
      "500216 3.8153691716838716 0.3154018826980156\n",
      "498072 3.7879795599832966 0.2744008073452928\n",
      "500843 3.773467668481155 0.26146300847673487\n",
      "498824 3.7740502708288 0.2914798294264731\n",
      "495470 3.7813953689964097 0.3207058297024403\n",
      "500927 3.7981620003966357 0.3652002754695758\n",
      "502973 3.8210163868042843 0.42609835326579315\n",
      "496852 3.8513590552844126 0.5054657230051838\n",
      "500596 3.884951446126634 0.6359578532504973\n",
      "499787 3.925249130938374 0.6879267588545943\n",
      "496987 3.9667142922982426 0.8161738124451965\n",
      "500101 4.013247826426076 0.9299342527023029\n",
      "500276 4.066564919358873 1.036050305468624\n",
      "498642 4.117891135870388 1.176481172780644\n",
      "497906 4.1713061437982075 1.3665114224073278\n",
      "502115 4.226005649294165 1.4803957393743303\n",
      "501816 4.286297419666199 1.6524973237476281\n",
      "496024 4.345166682697942 1.79111936129733\n",
      "498646 4.40742819280375 1.9547768606885505\n",
      "499123 4.4737120978919105 2.1489262545677867\n",
      "499519 4.537154401857875 2.265805929733368\n",
      "497446 4.602578073363958 2.4733904746384\n",
      "500888 4.675767809510739 2.6460750669365645\n",
      "502027 4.739277437457522 2.815792037682815\n",
      "503706 4.805614927392603 3.0586037642230366\n",
      "measurement took in seconds: 47.69805645942688\n"
     ]
    },
    {
     "data": {
      "image/png": "[encoded data removed]",
      "text/plain": [
       "<Figure size 432x288 with 1 Axes>"
      ]
     },
     "metadata": {
      "needs_background": "light"
     },
     "output_type": "display_data"
    }
   ],
   "source": [
    "fig5, ax5 = plt.subplots()\n",
    "omega = 1\n",
    "EnergyTotal = np.zeros(len(alpha1))\n",
    "CounterTotal = np.zeros(len(alpha1))\n",
    "VarianceTotal = np.zeros(len(alpha1))\n",
    "ElectronDistanceTotal = np.zeros(len(alpha1))\n",
    "start = time.time()\n",
    "for i in range(len(alpha1)):\n",
    "    stepTemp = StepSize1[i]\n",
    "    alphaTemp = alpha1[i]\n",
    "    Energy, Counter, Variance, ElectronDistance = MonteCarloCoulomb(1000000,omega,alphaTemp,stepTemp)\n",
    "    EnergyTotal[i] = Energy\n",
    "    CounterTotal[i] = Counter\n",
    "    VarianceTotal[i] = Variance\n",
    "    ElectronDistanceTotal[i] = ElectronDistance\n",
    "    print(Counter, Energy,Variance)\n",
    "    ax5.plot(alphaTemp,Energy,'r*')\n",
    "end = time.time()\n",
    "print(\"measurement took in seconds:\",end-start)"
   ]
  },
  {
   "cell_type": "code",
   "execution_count": 90,
   "metadata": {},
   "outputs": [
    {
     "name": "stdout",
     "output_type": "stream",
     "text": [
      "3.773467668481155\n",
      "0.8499999999999999 1.7334738628587012\n"
     ]
    }
   ],
   "source": [
    "#Finding the lowest energy\n",
    "MinimalEnergy = np.min(EnergyTotal)\n",
    "print(MinimalEnergy)\n",
    "alhpaMinimal = alpha1[np.where(EnergyTotal == MinimalEnergy)[0][0]]\n",
    "electronDistMinimalEnergy = ElectronDistanceTotal[np.where(EnergyTotal == MinimalEnergy)[0][0]]\n",
    "print(alhpaMinimal,electronDistMinimalEnergy)"
   ]
  },
  {
   "cell_type": "markdown",
   "metadata": {},
   "source": [
    "**Plotting:**"
   ]
  },
  {
   "cell_type": "code",
   "execution_count": 100,
   "metadata": {},
   "outputs": [
    {
     "data": {
      "text/plain": [
       "Text(0.5, 0, '$\\\\alpha$')"
      ]
     },
     "execution_count": 100,
     "metadata": {},
     "output_type": "execute_result"
    },
    {
     "data": {
      "image/png": "[encoded data removed]",
      "text/plain": [
       "<Figure size 432x288 with 1 Axes>"
      ]
     },
     "metadata": {
      "needs_background": "light"
     },
     "output_type": "display_data"
    }
   ],
   "source": [
    "#Energy as a function of variational paramater alpha\n",
    "fig5_1,ax5_1 = plt.subplots()\n",
    "ax5_1.plot(alpha1,EnergyTotal,'*')\n",
    "ax5_1.set_ylabel(\"Energy\")\n",
    "ax5_1.set_xlabel(r\"$\\alpha$\")"
   ]
  },
  {
   "cell_type": "code",
   "execution_count": 98,
   "metadata": {},
   "outputs": [
    {
     "data": {
      "text/plain": [
       "[<matplotlib.lines.Line2D at 0x17a25eaf400>]"
      ]
     },
     "execution_count": 98,
     "metadata": {},
     "output_type": "execute_result"
    },
    {
     "data": {
      "image/png": "[encoded data removed]",
      "text/plain": [
       "<Figure size 432x288 with 1 Axes>"
      ]
     },
     "metadata": {
      "needs_background": "light"
     },
     "output_type": "display_data"
    }
   ],
   "source": [
    "#Variance as a function of variational parameter alpha\n",
    "fig5_2,ax5_2 = plt.subplots()\n",
    "ax5_2.plot(alpha1,VarianceTotal,'*')"
   ]
  },
  {
   "cell_type": "markdown",
   "metadata": {},
   "source": [
    "**Then with $\\omega = 0.01$:**"
   ]
  },
  {
   "cell_type": "code",
   "execution_count": 92,
   "metadata": {},
   "outputs": [
    {
     "name": "stdout",
     "output_type": "stream",
     "text": [
      "941236 0.11424873371885315 0.0016163925543017273\n",
      "941358 0.10379946253129864 0.0012055980948031553\n",
      "941010 0.09835522205888969 0.0010926655664615804\n",
      "941287 0.0952538627855975 0.0011094474565708085\n",
      "942063 0.0942639070352896 0.0013086273488339215\n",
      "941553 0.09368967435449617 0.0014334753464336613\n",
      "941073 0.09420305548732101 0.0015652316617328962\n",
      "941452 0.0946986555753876 0.0017023824485125991\n",
      "941513 0.09570562362603491 0.0018495543763275314\n",
      "941119 0.09730221259343826 0.0021269744724796633\n",
      "941320 0.09830992878974006 0.0022968258014759713\n",
      "941631 0.1005200937853109 0.0026314340633538016\n",
      "941000 0.10182330910457542 0.0026310544539783227\n",
      "941752 0.10375302906984157 0.002907223011980948\n",
      "941302 0.10594100025294916 0.0031785269334863135\n",
      "940578 0.10742840184116263 0.0034258836978197198\n",
      "941798 0.11039842294019724 0.0038253341847446377\n",
      "941721 0.11107918711449903 0.003744161843273636\n",
      "940856 0.11334001634126123 0.0040084902240391535\n",
      "941597 0.11642084829246858 0.004361534766765922\n",
      "941311 0.1178204170192082 0.004776664462804668\n",
      "940930 0.11997778993766624 0.004611301225151845\n",
      "941525 0.12173295241878457 0.004871589380922539\n",
      "941627 0.12373520729639993 0.00519129667888482\n",
      "940932 0.12622265042130718 0.005583440139518066\n",
      "941214 0.12774929889211564 0.005473683200599249\n",
      "942174 0.13066873097814308 0.0056440238875548054\n",
      "941684 0.13194252518131938 0.006359706534030278\n",
      "941013 0.134277318210461 0.006233783299599598\n",
      "941222 0.1358835272651231 0.006269458261476641\n",
      "941246 0.13822461020385562 0.006613611538139563\n",
      "941232 0.1401277237727871 0.007288105890386011\n",
      "940854 0.1423077604754752 0.007330988781399497\n",
      "941849 0.14439701538698343 0.007285392083001614\n",
      "941655 0.14573060476950392 0.00764490468044899\n",
      "942066 0.1491182734697422 0.008035788341517396\n",
      "measurement took in seconds: 42.54145622253418\n"
     ]
    },
    {
     "data": {
      "image/png": "[encoded data removed]",
      "text/plain": [
       "<Figure size 432x288 with 1 Axes>"
      ]
     },
     "metadata": {
      "needs_background": "light"
     },
     "output_type": "display_data"
    }
   ],
   "source": [
    "fig6, ax6 = plt.subplots()\n",
    "omega = 0.01\n",
    "EnergyTotal1 = np.zeros(len(alpha1))\n",
    "CounterTotal1= np.zeros(len(alpha1))\n",
    "VarianceTotal1 = np.zeros(len(alpha1))\n",
    "ElectronDistanceTotal1 = np.zeros(len(alpha1))\n",
    "start = time.time()\n",
    "for i in range(len(alpha1)):\n",
    "    stepTemp = StepSize1[i]\n",
    "    alphaTemp = alpha1[i]\n",
    "    Energy, Counter, Variance, ElectronDistance = MonteCarloCoulomb(1000000,omega,alphaTemp,stepTemp)\n",
    "    EnergyTotal1[i] = Energy\n",
    "    CounterTotal1[i] = Counter\n",
    "    VarianceTotal1[i] = Variance\n",
    "    ElectronDistanceTotal1[i] = ElectronDistance\n",
    "    print(Counter, Energy,Variance)\n",
    "    ax6.plot(alphaTemp,Energy,'r*')\n",
    "end = time.time()\n",
    "print(\"measurement took in seconds:\",end-start)"
   ]
  },
  {
   "cell_type": "code",
   "execution_count": 93,
   "metadata": {},
   "outputs": [
    {
     "name": "stdout",
     "output_type": "stream",
     "text": [
      "0.09368967435449617\n",
      "0.44999999999999996 23.61962129279101\n"
     ]
    }
   ],
   "source": [
    "#Finding the lowest energy\n",
    "MinimalEnergy1 = np.min(EnergyTotal1)\n",
    "print(MinimalEnergy1)\n",
    "alhpaMinimal1 = alpha1[np.where(EnergyTotal1 == MinimalEnergy1)[0][0]]\n",
    "electronDistMinimalEnergy1 = ElectronDistanceTotal1[np.where(EnergyTotal1 == MinimalEnergy1)[0][0]]\n",
    "print(alhpaMinimal1,electronDistMinimalEnergy1)"
   ]
  },
  {
   "cell_type": "markdown",
   "metadata": {},
   "source": [
    "**Then with $\\omega = 0.5$:**"
   ]
  },
  {
   "cell_type": "code",
   "execution_count": 94,
   "metadata": {},
   "outputs": [
    {
     "name": "stdout",
     "output_type": "stream",
     "text": [
      "617775 4.15144726928392 4.05748941523774\n",
      "619521 3.468623118320059 2.4203605452105723\n",
      "617641 3.034424526505175 1.5454170910983134\n",
      "617905 2.7428291235204774 1.0359268757964566\n",
      "621313 2.5292047964269946 0.7157565529884238\n",
      "618970 2.3816407729053823 0.5006014891990898\n",
      "616794 2.2743817708178278 0.3626091985660036\n",
      "617869 2.1938193353932682 0.26749090206904214\n",
      "620112 2.1369155058068685 0.20141467819332703\n",
      "617811 2.0955653395260665 0.16025724544318454\n",
      "618963 2.069672405103526 0.1450320549923978\n",
      "619065 2.0513551315104563 0.12994990408313623\n",
      "616974 2.042143867315431 0.1256099852349788\n",
      "619613 2.04047920249556 0.13422995006700678\n",
      "617824 2.043666167811116 0.14401037095403968\n",
      "614550 2.0525620573792036 0.15704184297849544\n",
      "619314 2.064262213497778 0.18194608356883624\n",
      "621296 2.079373317530362 0.1971973093135171\n",
      "616113 2.098514320826069 0.22427988474071459\n",
      "619045 2.1201022034383517 0.2774724524355454\n",
      "618543 2.1423376815280086 0.29255217977920545\n",
      "616090 2.1680195678754175 0.33779974755892095\n",
      "618634 2.195332619707046 0.3715499197669345\n",
      "619644 2.224152166210708 0.4075237441002857\n",
      "617856 2.2534965274587835 0.45272244240182147\n",
      "617142 2.2848786671992927 0.5123774936002805\n",
      "620902 2.3171172533314217 0.540958243366461\n",
      "620441 2.350556141344963 0.584900763290638\n",
      "615029 2.3846257453605983 0.7398892285180496\n",
      "617488 2.4162330909369634 0.7108622375888158\n",
      "618018 2.4532534387188254 0.7597751276287399\n",
      "618333 2.486673834955975 0.7922849726933912\n",
      "616191 2.5251567204999135 0.8450190637777872\n",
      "619755 2.5597324012589486 0.9040405244881775\n",
      "621183 2.600572637551786 0.9681337530180834\n",
      "621884 2.6349706947171723 1.0332798852185237\n",
      "measurement took in seconds: 42.22443628311157\n"
     ]
    },
    {
     "data": {
      "image/png": "[encoded data removed]",
      "text/plain": [
       "<Figure size 432x288 with 1 Axes>"
      ]
     },
     "metadata": {
      "needs_background": "light"
     },
     "output_type": "display_data"
    }
   ],
   "source": [
    "fig7, ax7 = plt.subplots()\n",
    "omega = 0.5\n",
    "EnergyTotal2 = np.zeros(len(alpha1))\n",
    "CounterTotal2 = np.zeros(len(alpha1))\n",
    "VarianceTotal2 = np.zeros(len(alpha1))\n",
    "ElectronDistanceTotal2 = np.zeros(len(alpha1))\n",
    "start = time.time()\n",
    "for i in range(len(alpha1)):\n",
    "    stepTemp = StepSize1[i]\n",
    "    alphaTemp = alpha1[i]\n",
    "    Energy, Counter, Variance, ElectronDistance = MonteCarloCoulomb(1000000,omega,alphaTemp,stepTemp)\n",
    "    EnergyTotal2[i] = Energy\n",
    "    CounterTotal2[i] = Counter\n",
    "    VarianceTotal2[i] = Variance\n",
    "    ElectronDistanceTotal2[i] = ElectronDistance\n",
    "    print(Counter, Energy,Variance)\n",
    "    ax7.plot(alphaTemp,Energy,'r*')\n",
    "end = time.time()\n",
    "print(\"measurement took in seconds:\",end-start)"
   ]
  },
  {
   "cell_type": "code",
   "execution_count": 95,
   "metadata": {},
   "outputs": [
    {
     "name": "stdout",
     "output_type": "stream",
     "text": [
      "2.04047920249556\n",
      "0.8499999999999999 2.448702153628894\n"
     ]
    }
   ],
   "source": [
    "#Finding the lowest energy\n",
    "MinimalEnergy2 = np.min(EnergyTotal2)\n",
    "print(MinimalEnergy2)\n",
    "alhpaMinimal2 = alpha1[np.where(EnergyTotal2 == MinimalEnergy2)[0][0]]\n",
    "electronDistMinimalEnergy2 = ElectronDistanceTotal2[np.where(EnergyTotal2 == MinimalEnergy2)[0][0]]\n",
    "print(alhpaMinimal2,electronDistMinimalEnergy2)"
   ]
  }
 ],
 "metadata": {
  "kernelspec": {
   "display_name": "Python 3",
   "language": "python",
   "name": "python3"
  },
  "language_info": {
   "codemirror_mode": {
    "name": "ipython",
    "version": 3
   },
   "file_extension": ".py",
   "mimetype": "text/x-python",
   "name": "python",
   "nbconvert_exporter": "python",
   "pygments_lexer": "ipython3",
   "version": "3.6.5"
  }
 },
 "nbformat": 4,
 "nbformat_minor": 2
}
