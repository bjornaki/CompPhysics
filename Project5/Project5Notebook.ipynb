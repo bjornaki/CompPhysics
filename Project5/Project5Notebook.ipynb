{
 "cells": [
  {
   "cell_type": "code",
   "execution_count": 2,
   "metadata": {},
   "outputs": [],
   "source": [
    "import numpy as np\n",
    "import matplotlib.pyplot as plt \n",
    "from numba import jit, njit, vectorize\n",
    "import time"
   ]
  },
  {
   "cell_type": "markdown",
   "metadata": {},
   "source": [
    "## Defining functions that we need:"
   ]
  },
  {
   "cell_type": "code",
   "execution_count": 16,
   "metadata": {},
   "outputs": [],
   "source": [
    "#Trial energy 1\n",
    "def TrialEnergy1(alpha,omega,r1,r2):\n",
    "    return 0.5*omega**2*(r1**2 + r2**2)*(1 - alpha**2) + 3*omega*alpha\n",
    "\n",
    "@vectorize#By far the quickest of the three\n",
    "def TrialEnergy1Vec(alpha,omega,x1,y1,z1,x2,y2,z2):\n",
    "    r1 = np.sqrt(x1**2 + y1**2 + z1**2)\n",
    "    r2 = np.sqrt(x2**2 + y2**2 + z2**2)\n",
    "    return 0.5*omega**2*(r1**2 + r2**2)*(1 - alpha**2) + 3*omega*alpha\n",
    "\n",
    "@jit(nopython=True)\n",
    "def TrialEnergyJIT(alpha,omega,r1,r2):\n",
    "    return 0.5*omega**2*(r1**2 + r2**2)*(1 - alpha**2) + 3*omega*alpha\n",
    "\n",
    "def TrialWaveFunction1(alpha,omega,x1,y1,z1,x2,y2,z2):\n",
    "    r1 = np.sqrt(x1**2 + y1**2 + z1**2)\n",
    "    r2 = np.sqrt(x2**2 + y2**2 + z2**2)\n",
    "    return np.exp(-alpha*omega*(r1**2 + r2**2)/2)"
   ]
  },
  {
   "cell_type": "code",
   "execution_count": 37,
   "metadata": {},
   "outputs": [
    {
     "name": "stdout",
     "output_type": "stream",
     "text": [
      "0.6220029647725376\n"
     ]
    }
   ],
   "source": [
    "#Trial energy 2\n",
    "print(np.random.exponential())"
   ]
  },
  {
   "cell_type": "markdown",
   "metadata": {},
   "source": [
    "## Monte Carlo and Metropolis algo:"
   ]
  },
  {
   "cell_type": "code",
   "execution_count": 19,
   "metadata": {},
   "outputs": [],
   "source": [
    "#Probability ratio\n",
    "def ProbRatio(Rold,Rnew,alpha,omega):#Rold and Rnew as an array\n",
    "    new = TrialWaveFunction1(alpha,omega,Rnew[0],Rnew[1],Rnew[2],Rnew[3],Rnew[4],Rnew[5])\n",
    "    new = new**2\n",
    "    old = TrialWaveFunction1(alpha,omega,Rold[0],Rold[1],Rold[2],Rold[3],Rold[4],Rold[5])\n",
    "    old = old**2\n",
    "    return new/old\n",
    "\n",
    "#Metropolis part\n",
    "def Metropolis(Rold,Rnew,alpha,omega):\n",
    "    Acceptance = False\n",
    "    probRatio = ProbRatio(Rold,Rnew,alpha,omega)\n",
    "    if probRatio > 1:\n",
    "        Acceptance = True\n",
    "    elif np.random.random() <= probRatio:\n",
    "        Acceptance = True\n",
    "    else:\n",
    "        Acceptance = False\n",
    "    return Acceptance"
   ]
  },
  {
   "cell_type": "code",
   "execution_count": 43,
   "metadata": {},
   "outputs": [
    {
     "name": "stdout",
     "output_type": "stream",
     "text": [
      "False\n",
      "[2 3 4]\n"
     ]
    }
   ],
   "source": [
    "R1 = np.array([1,1,1,1,1,1])\n",
    "R2 = np.array([2,2,2,2,2,2])\n",
    "alpha = 1\n",
    "omega = 1\n",
    "print(Metropolis(R1,R2,alpha,omega))\n",
    "\n",
    "a = np.array([1,2,3])\n",
    "print(a+1)"
   ]
  },
  {
   "cell_type": "code",
   "execution_count": 42,
   "metadata": {},
   "outputs": [],
   "source": [
    "#Monte Carlo part\n",
    "def MonteCarlo(MCCycles,omega,alpha):\n",
    "    #initalizing position randomly according to exponetial distribution\n",
    "    x1 = np.random.exponential()\n",
    "    y1 = np.random.exponential()\n",
    "    z1 = np.random.exponential()\n",
    "    x2 = np.random.exponential()\n",
    "    y2 = np.random.exponential()\n",
    "    z2 = np.random.exponential()\n",
    "    r1 = np.sqrt(x1**2 + y1**2 + z1**2)\n",
    "    r2 = np.sqrt(x2**2 + y2**2 + z2**2)\n",
    "    Rold = np.array([x1,y1,z1,x2,y2,z2])\n",
    "    Energy = TrialEnergy1Vec(alpha,omega,r1,r2)\n",
    "    #Step size for proposed steps\n",
    "    DeltaR = 0.05\n",
    "    #looping over MC cycles\n",
    "    for i in range(MCCycles):\n",
    "        Rnew = Rold + DeltaR#The proposed move\n",
    "        #Metropolis test\n",
    "        \n",
    "        "
   ]
  }
 ],
 "metadata": {
  "kernelspec": {
   "display_name": "Python 3",
   "language": "python",
   "name": "python3"
  },
  "language_info": {
   "codemirror_mode": {
    "name": "ipython",
    "version": 3
   },
   "file_extension": ".py",
   "mimetype": "text/x-python",
   "name": "python",
   "nbconvert_exporter": "python",
   "pygments_lexer": "ipython3",
   "version": "3.6.5"
  }
 },
 "nbformat": 4,
 "nbformat_minor": 2
}
