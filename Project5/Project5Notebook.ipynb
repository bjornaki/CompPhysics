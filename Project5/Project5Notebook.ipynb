{
 "cells": [
  {
   "cell_type": "code",
   "execution_count": 576,
   "metadata": {},
   "outputs": [],
   "source": [
    "import numpy as np\n",
    "import matplotlib.pyplot as plt \n",
    "from numba import jit, njit, vectorize\n",
    "import time\n",
    "from IPython.core.debugger import set_trace\n",
    "from scipy.signal import savgol_filter"
   ]
  },
  {
   "cell_type": "markdown",
   "metadata": {},
   "source": [
    "## Defining functions that we need:"
   ]
  },
  {
   "cell_type": "code",
   "execution_count": 907,
   "metadata": {},
   "outputs": [],
   "source": [
    "@vectorize#By far the quickest of the three for vectors\n",
    "def TrialEnergy1Vec(alpha,omega,r1,r2):\n",
    "    #r1 = np.sqrt(x1**2 + y1**2 + z1**2)\n",
    "    #r2 = np.sqrt(x2**2 + y2**2 + z2**2)\n",
    "    return 0.5*omega**2*(r1**2 + r2**2)*(1 - alpha**2) + 3*omega*alpha\n",
    "\n",
    "@jit(nopython=True)\n",
    "def TrialEnergyJIT(alpha,omega,r1,r2):\n",
    "    return 0.5*(omega**2)*(r1**2 + r2**2)*(1 - alpha**2) + 3*omega*alpha\n",
    "\n",
    "#Athuga betur hvernig ég á að díla við að deila með núlli þegar Coulomb víxlverkun til staðar\n",
    "@jit(nopython=True)\n",
    "def TrialEnergyJITwithCoulomb(alpha,omega,x1,y1,z1,x2,y2,z2):\n",
    "    r1 = np.sqrt(x1**2 + y1**2 + z1**2)\n",
    "    r2 = np.sqrt(x2**2 + y2**2 + z2**2)\n",
    "    r_12 = np.sqrt((x1-x2)**2 + (y1-y2)**2 + (z1-z2)**2)\n",
    "    if abs(r_12) <= 1e-12:\n",
    "        return 0\n",
    "    else:\n",
    "        return 0.5*(omega**2)*(r1**2 + r2**2)*(1 - alpha**2) + 3*omega*alpha + 1/r_12\n",
    "    \n",
    "#Trial energy for the seconds trial wave function\n",
    "@jit(nopython=True)\n",
    "def TrialEnergy2JIT(alpha,beta,omega,x1,y1,z1,x2,y2,z2):\n",
    "    r1 = np.sqrt(x1**2 + y1**2 + z1**2)\n",
    "    r2 = np.sqrt(x2**2 + y2**2 + z2**2)\n",
    "    r_12 = np.sqrt((x1-x2)**2 + (y1-y2)**2 + (z1-z2)**2)\n",
    "    TrialEnergy1 = TrialEnergyJITwithCoulomb(alpha,omega,x1,y1,z1,x2,y2,z2)\n",
    "    if abs(r_12) <= 1e-12:\n",
    "        return 0\n",
    "    else:\n",
    "        temp1 = 1/(2*(1 + beta*r_12)**2)\n",
    "        temp2 = alpha*omega*r_12\n",
    "        temp3 = 1/(2*((1 + beta*r_12))**2)\n",
    "        temp4 = (2*beta)/(1 + beta*r_12)\n",
    "        TrialEnergy2Partial = temp1*(temp2 - temp3 - 2/r_12 + temp4)\n",
    "        return TrialEnergy1 + TrialEnergy2Partial\n",
    "\n",
    "#ATH! Should there be a -2/r_12 or a plus, wierd to have a minus as that reduces energy when electrons near each other\n",
    "\n",
    "@jit\n",
    "def TrialWaveFunction1(alpha,omega,x1,y1,z1,x2,y2,z2):\n",
    "    r1 = np.sqrt(x1**2 + y1**2 + z1**2)\n",
    "    r2 = np.sqrt(x2**2 + y2**2 + z2**2)\n",
    "    return np.exp(-alpha*omega*(r1**2 + r2**2)/2)\n",
    "\n",
    "@jit\n",
    "def TrialWaveFunction2(alpha,beta,omega,x1,y1,z1,x2,y2,z2):\n",
    "    r1 = np.sqrt(x1**2 + y1**2 + z1**2)\n",
    "    r2 = np.sqrt(x2**2 + y2**2 + z2**2)\n",
    "    r_12 = np.sqrt((x1-x2)**2 + (y1-y2)**2 + (z1-z2)**2)\n",
    "    if (beta*r_12 < -1+1e-12) and (beta*r_12 > -1-1e-12):#So that not division by zero\n",
    "        return 0\n",
    "    else:\n",
    "        return np.exp(-alpha*omega*(r1**2 + r2**2)/2)*np.exp(r_12/(2*(1 + beta*r_12)))\n",
    "\n",
    "#Function to calculate the potential energy at each position for different omega\n",
    "@jit\n",
    "def PotentialEnergy1(omega,x1,y1,z1,x2,y2,z2):\n",
    "    r1 = np.sqrt(x1**2 + y1**2 + z1**2)\n",
    "    r2 = np.sqrt(x2**2 + y2**2 + z2**2)\n",
    "    r_12 = np.sqrt((x1-x2)**2 + (y1-y2)**2 + (z1-z2)**2)\n",
    "    temp1 = 0.5*(omega**2)*(r1**2)\n",
    "    temp2 = 0.5*(omega**2)*(r2**2)\n",
    "    temp3 = 1/r_12\n",
    "    return temp1 + temp2 + temp3\n",
    "\n",
    "@jit#Without the Coulomb interaction\n",
    "def PotentialEnergy2(omega,x1,y1,z1,x2,y2,z2):\n",
    "    r1 = np.sqrt(x1**2 + y1**2 + z1**2)\n",
    "    r2 = np.sqrt(x2**2 + y2**2 + z2**2)\n",
    "    temp1 = 0.5*(omega**2)*(r1**2)\n",
    "    temp2 = 0.5*(omega**2)*(r2**2)\n",
    "    return temp1 + temp2"
   ]
  },
  {
   "cell_type": "code",
   "execution_count": 910,
   "metadata": {},
   "outputs": [
    {
     "name": "stdout",
     "output_type": "stream",
     "text": [
      "6.577350269189627\n"
     ]
    }
   ],
   "source": [
    "print(PotentialEnergy1(2,1,0,0,0,1,1))"
   ]
  },
  {
   "cell_type": "code",
   "execution_count": 912,
   "metadata": {},
   "outputs": [
    {
     "name": "stdout",
     "output_type": "stream",
     "text": [
      "0.75\n",
      "112.39469949365268\n",
      "2.398588562373095\n",
      "0.8227633476483185\n"
     ]
    }
   ],
   "source": [
    "alpha = 0.25\n",
    "beta = 0\n",
    "trialEnergyTemp = TrialEnergyJIT(alpha,1,0,0)\n",
    "print(trialEnergyTemp)\n",
    "trialEnergyTemp = TrialEnergyJITwithCoulomb(alpha,1,2,3,0,0,15,0)\n",
    "print(trialEnergyTemp)\n",
    "x1 = 0\n",
    "y1 = 0\n",
    "z1 = 0\n",
    "x2 = 0\n",
    "y2 = 0\n",
    "z2 = 0.5\n",
    "trialEnergyTemp = TrialEnergyJITwithCoulomb(alpha,1,x1,y1,z1,z2,y2,z2)\n",
    "print(trialEnergyTemp)\n",
    "trialEnergyTemp1 = TrialEnergy2JIT(alpha,beta,1,x1,y1,z1,z2,y2,z2)\n",
    "print(trialEnergyTemp1)"
   ]
  },
  {
   "cell_type": "code",
   "execution_count": 504,
   "metadata": {},
   "outputs": [
    {
     "data": {
      "text/plain": [
       "[<matplotlib.lines.Line2D at 0x17a345e8ba8>]"
      ]
     },
     "execution_count": 504,
     "metadata": {},
     "output_type": "execute_result"
    },
    {
     "data": {
      "image/png": "[encoded data removed]",
      "text/plain": [
       "<Figure size 432x288 with 1 Axes>"
      ]
     },
     "metadata": {
      "needs_background": "light"
     },
     "output_type": "display_data"
    }
   ],
   "source": [
    "#Trying to plot just the addon due to trial wave function 2 to the trial energy\n",
    "alpha = 1\n",
    "omega = 1\n",
    "r_12 = 4\n",
    "beta = np.linspace(0,100,1000)\n",
    "TrialEnergy2Partial = (1/(2*(1 + beta*r_12)**2))\n",
    "TrialTemp = 2*beta/(1 + beta*r_12)*TrialEnergy2Partial\n",
    "TrialEnergyTrue = TrialEnergy2Partial*(alpha*omega*r_12 - 1/(2*(1+beta*r_12)**2) - 2/r_12 + (2*beta/(1 + beta*r_12)))\n",
    "#(alpha*omega*r_12 - (1/2*(1+beta*r_12)**2) - 2/r_12 + (2*beta/(1 + beta*r_12)))\n",
    "#plotting\n",
    "fig0,ax0 = plt.subplots()\n",
    "ax0.plot(beta,TrialEnergy2Partial)\n",
    "ax0.plot(beta,TrialTemp)\n",
    "ax0.plot(beta,TrialEnergyTrue)"
   ]
  },
  {
   "cell_type": "markdown",
   "metadata": {},
   "source": [
    "## Monte Carlo and Metropolis algo:"
   ]
  },
  {
   "cell_type": "code",
   "execution_count": 868,
   "metadata": {},
   "outputs": [],
   "source": [
    "#Probability ratio\n",
    "@jit\n",
    "def ProbRatio(Rold,Rnew,alpha,omega):#Rold and Rnew as an array\n",
    "    new = TrialWaveFunction1(alpha,omega,Rnew[0],Rnew[1],Rnew[2],Rnew[3],Rnew[4],Rnew[5])\n",
    "    new = new**2\n",
    "    old = TrialWaveFunction1(alpha,omega,Rold[0],Rold[1],Rold[2],Rold[3],Rold[4],Rold[5])\n",
    "    old = old**2\n",
    "    return new/old\n",
    "\n",
    "#Probability ratio for the second trial wave function\n",
    "@jit\n",
    "def ProbRatio2(Rold,Rnew,alpha,beta,omega):#Rold and Rnew as an array\n",
    "    new = TrialWaveFunction2(alpha,beta,omega,Rnew[0],Rnew[1],Rnew[2],Rnew[3],Rnew[4],Rnew[5])\n",
    "    new = new**2\n",
    "    old = TrialWaveFunction2(alpha,beta,omega,Rold[0],Rold[1],Rold[2],Rold[3],Rold[4],Rold[5])\n",
    "    old = old**2\n",
    "    return new/old\n",
    "\n",
    "#Metropolis part for the first trial wave function\n",
    "@jit\n",
    "def Metropolis(Rold,Rnew,alpha,omega):\n",
    "    Acceptance = False\n",
    "    probRatio = ProbRatio(Rold,Rnew,alpha,omega)\n",
    "    if probRatio > 1:\n",
    "        Acceptance = True\n",
    "    elif np.random.random() <= probRatio:\n",
    "        Acceptance = True\n",
    "    else:\n",
    "        Acceptance = False\n",
    "    return Acceptance\n",
    "\n",
    "#Metropolis test for the second trial wave function\n",
    "@jit\n",
    "def Metropolis2(Rold,Rnew,alpha,beta,omega):\n",
    "    Acceptance = False\n",
    "    probRatio = ProbRatio2(Rold,Rnew,alpha,beta,omega)\n",
    "    if probRatio > 1:\n",
    "        Acceptance = True\n",
    "    elif np.random.random() <= probRatio:\n",
    "        Acceptance = True\n",
    "    else:\n",
    "        Acceptance = False\n",
    "    return Acceptance"
   ]
  },
  {
   "cell_type": "code",
   "execution_count": 7,
   "metadata": {},
   "outputs": [
    {
     "name": "stdout",
     "output_type": "stream",
     "text": [
      "False\n",
      "[2 3 4]\n"
     ]
    }
   ],
   "source": [
    "R1 = np.array([1,1,1,1,1,1])\n",
    "R2 = np.array([2,2,2,2,2,2])\n",
    "alpha = 1\n",
    "omega = 1\n",
    "print(Metropolis(R1,R2,alpha,omega))\n",
    "\n",
    "a = np.array([1,2,3])\n",
    "print(a+1)"
   ]
  },
  {
   "cell_type": "markdown",
   "metadata": {},
   "source": [
    "**First Monte Carlo with trial wave function 1 and without Coulomb interaction:**"
   ]
  },
  {
   "cell_type": "code",
   "execution_count": 937,
   "metadata": {},
   "outputs": [],
   "source": [
    "#Monte Carlo part\n",
    "@jit(nopython=True)\n",
    "def MonteCarlo(MCCycles,omega,alpha,stepsize):\n",
    "    #initalizing position randomly according to exponetial distribution\n",
    "    x1 = np.random.exponential()\n",
    "    y1 = np.random.exponential()\n",
    "    z1 = np.random.exponential()\n",
    "    x2 = np.random.exponential()\n",
    "    y2 = np.random.exponential()\n",
    "    z2 = np.random.exponential()\n",
    "    r1 = np.sqrt(x1**2 + y1**2 + z1**2)\n",
    "    r2 = np.sqrt(x2**2 + y2**2 + z2**2)\n",
    "    Rold = np.array([x1,y1,z1,x2,y2,z2])\n",
    "    Energy = 0\n",
    "    EnergySquared = 0\n",
    "    PotentialEnergy = 0\n",
    "    #Step size for proposed steps\n",
    "    DeltaR = stepsize\n",
    "    #Counter for how many steps are accepted\n",
    "    CounterAccept = 0\n",
    "    #looping over MC cycles\n",
    "    for i in range(MCCycles):\n",
    "        #looping over each position, in total 6\n",
    "        for l in range(6):\n",
    "            randnum = np.random.random() - 0.5#creating random number on [-0.5,0.5]\n",
    "            Rnew = np.copy(Rold)\n",
    "            Rnew[l] = Rold[l] + randnum*DeltaR#The proposed move for each coordinate at a time\n",
    "            #Metropolis test\n",
    "            Acceptance = Metropolis(Rold,Rnew,alpha,omega)\n",
    "            if Acceptance:#Moving the coordinates if the move is accepted\n",
    "                Rold = Rnew\n",
    "                CounterAccept += 1\n",
    "            r1 = np.sqrt(Rold[0]**2 + Rold[1]**2 + Rold[2]**2)\n",
    "            r2 = np.sqrt(Rold[3]**2 + Rold[4]**2 + Rold[5]**2)\n",
    "            EnergyTemp = TrialEnergyJIT(alpha,omega,r1,r2)\n",
    "            PotentialTemp = PotentialEnergy2(omega,Rold[0],Rold[1],Rold[2],Rold[3],Rold[4],Rold[5])\n",
    "            PotentialEnergy += PotentialTemp\n",
    "            Energy += EnergyTemp\n",
    "            EnergySquared += EnergyTemp**2\n",
    "\n",
    "    #End of MC loop\n",
    "    #Analysis of relevant parameters\n",
    "    AverageEnergy = Energy/MCCycles/6\n",
    "    AverageEnergySquared = EnergySquared/MCCycles/6\n",
    "    AveragePotentialEnergy = PotentialEnergy/MCCycles/6\n",
    "    #AveragePotentialEnergy = PotentialEnergy2(omega,x1,y1,z1,x2,y2,z2)\n",
    "    Variance = AverageEnergySquared - AverageEnergy**2\n",
    "    \n",
    "    return AverageEnergy, CounterAccept/6, Variance, AveragePotentialEnergy"
   ]
  },
  {
   "cell_type": "markdown",
   "metadata": {},
   "source": [
    "**Then MC for trial wave function 1 with Coulomb interaction: ATH LAGA ÞETTA FALL!!**"
   ]
  },
  {
   "cell_type": "code",
   "execution_count": 914,
   "metadata": {},
   "outputs": [],
   "source": [
    "#Monte Carlo part\n",
    "@jit(nopython=True)\n",
    "def MonteCarloCoulomb(MCCycles,omega,alpha,stepsize):\n",
    "    #initalizing position randomly according to exponetial distribution\n",
    "    x1 = np.random.exponential()\n",
    "    y1 = np.random.exponential()\n",
    "    z1 = np.random.exponential()\n",
    "    x2 = np.random.exponential()\n",
    "    y2 = np.random.exponential()\n",
    "    z2 = np.random.exponential()\n",
    "    r1 = np.sqrt(x1**2 + y1**2 + z1**2)\n",
    "    r2 = np.sqrt(x2**2 + y2**2 + z2**2)\n",
    "    Rold = np.array([x1,y1,z1,x2,y2,z2])\n",
    "    Energy = 0\n",
    "    EnergySquared = 0\n",
    "    ElectronDistance = 0\n",
    "    PotentialEnergy = 0\n",
    "    #Step size for proposed steps\n",
    "    DeltaR = stepsize\n",
    "    #Counter for how many steps are accepted\n",
    "    CounterAccept = 0\n",
    "    #looping over MC cycles\n",
    "    for i in range(MCCycles):\n",
    "        #looping over each position, in total 6\n",
    "        for l in range(6):\n",
    "            randnum = np.random.random() - 0.5#creating random number on [-0.5,0.5]\n",
    "            Rnew = np.copy(Rold)\n",
    "            Rnew[l] = Rold[l] + randnum*DeltaR#The proposed move for each coordinate at a time\n",
    "            #Metropolis test\n",
    "            Acceptance = Metropolis(Rold,Rnew,alpha,omega)\n",
    "            if Acceptance:#Moving the coordinates if the move is accepted\n",
    "                Rold = Rnew\n",
    "                CounterAccept += 1\n",
    "            r1 = np.sqrt(Rold[0]**2 + Rold[1]**2 + Rold[2]**2)\n",
    "            r2 = np.sqrt(Rold[3]**2 + Rold[4]**2 + Rold[5]**2)\n",
    "            EnergyTemp = TrialEnergyJITwithCoulomb(alpha,omega,Rold[0],Rold[1],Rold[2],Rold[3],Rold[4],Rold[5])\n",
    "            if np.isnan(EnergyTemp):\n",
    "                print(\"Error, the Energy is nan, cycle numner:\",i,l)\n",
    "                break\n",
    "            Energy += EnergyTemp\n",
    "            EnergySquared += EnergyTemp**2\n",
    "            #Potential Energy Term\n",
    "            PotentialEnergyTemp = PotentialEnergy1(omega,Rold[0],Rold[1],Rold[2],Rold[3],Rold[4],Rold[5])\n",
    "            PotentialEnergy += PotentialEnergyTemp\n",
    "            #Updating the expectationValue of the distance between the two electrons\n",
    "            ElectronDistance += np.sqrt((Rold[0]-Rold[3])**2 + (Rold[1]-Rold[4])**2 + (Rold[2]-Rold[5])**2)\n",
    "            \n",
    "\n",
    "    #End of MC loop\n",
    "    #Analysis of relevant parameters\n",
    "    AverageEnergy = Energy/MCCycles/6\n",
    "    AverageEnergySquared = EnergySquared/MCCycles/6\n",
    "    AveragePotentialEnergy = PotentialEnergy/MCCycles/6\n",
    "    Variance = AverageEnergySquared - AverageEnergy**2\n",
    "    ElectronDistanceAverage = ElectronDistance/MCCycles/6\n",
    "    \n",
    "    return AverageEnergy, int(CounterAccept/6), Variance, ElectronDistanceAverage, AveragePotentialEnergy"
   ]
  },
  {
   "cell_type": "markdown",
   "metadata": {},
   "source": [
    "**Then Monte Carlo for the second trial wave function:**"
   ]
  },
  {
   "cell_type": "code",
   "execution_count": 915,
   "metadata": {},
   "outputs": [],
   "source": [
    "@jit(nopython=True)\n",
    "def MonteCarlo2(MCCycles,omega,alpha,beta,stepsize):\n",
    "    #initalizing position randomly according to exponetial distribution\n",
    "    x1 = np.random.exponential()\n",
    "    y1 = np.random.exponential()\n",
    "    z1 = np.random.exponential()\n",
    "    x2 = np.random.exponential()\n",
    "    y2 = np.random.exponential()\n",
    "    z2 = np.random.exponential()\n",
    "    r1 = np.sqrt(x1**2 + y1**2 + z1**2)\n",
    "    r2 = np.sqrt(x2**2 + y2**2 + z2**2)\n",
    "    Rold = np.array([x1,y1,z1,x2,y2,z2])\n",
    "    Energy = 0\n",
    "    EnergySquared = 0\n",
    "    ElectronDistance = 0\n",
    "    PotentialEnergy = 0\n",
    "    #Step size for proposed steps\n",
    "    DeltaR = stepsize\n",
    "    #Counter for how many steps are accepted\n",
    "    CounterAccept = 0\n",
    "    #looping over MC cycles\n",
    "    for i in range(MCCycles):\n",
    "        #looping over each position, in total 6\n",
    "        for l in range(6):\n",
    "            randnum = np.random.random() - 0.5#creating random number on [-0.5,0.5]\n",
    "            Rnew = np.copy(Rold)\n",
    "            Rnew[l] = Rold[l] + randnum*DeltaR#The proposed move for each coordinate at a time\n",
    "            #Metropolis test\n",
    "            Acceptance = Metropolis2(Rold,Rnew,alpha,beta,omega)\n",
    "            if Acceptance:#Moving the coordinates if the move is accepted\n",
    "                Rold = Rnew\n",
    "                CounterAccept += 1\n",
    "            r1 = np.sqrt(Rold[0]**2 + Rold[1]**2 + Rold[2]**2)\n",
    "            r2 = np.sqrt(Rold[3]**2 + Rold[4]**2 + Rold[5]**2)\n",
    "            EnergyTemp = TrialEnergy2JIT(alpha,beta,omega,Rold[0],Rold[1],Rold[2],Rold[3],Rold[4],Rold[5])\n",
    "            if np.isnan(EnergyTemp):\n",
    "                print(\"Error, the Energy is nan, cycle numner:\",i,l)\n",
    "                break\n",
    "            Energy += EnergyTemp\n",
    "            EnergySquared += EnergyTemp**2\n",
    "            PotentialEnergyTemp = PotentialEnergy1(omega,Rold[0],Rold[1],Rold[2],Rold[3],Rold[4],Rold[5])\n",
    "            PotentialEnergy += PotentialEnergyTemp\n",
    "            #Updating the expectationValue of the distance between the two electrons\n",
    "            ElectronDistance += np.sqrt((Rold[0]-Rold[3])**2 + (Rold[1]-Rold[4])**2 + (Rold[2]-Rold[5])**2)\n",
    "            \n",
    "\n",
    "    #End of MC loop\n",
    "    #Analysis of relevant parameters\n",
    "    AverageEnergy = Energy/MCCycles/6\n",
    "    AverageEnergySquared = EnergySquared/MCCycles/6\n",
    "    AveragePotentialEnergy = PotentialEnergy/MCCycles/6\n",
    "    Variance = AverageEnergySquared - AverageEnergy**2\n",
    "    ElectronDistanceAverage = ElectronDistance/MCCycles/6\n",
    "    \n",
    "    return AverageEnergy, int(CounterAccept/6), Variance, ElectronDistanceAverage, AveragePotentialEnergy"
   ]
  },
  {
   "cell_type": "markdown",
   "metadata": {},
   "source": [
    "## Trial of the MC calculations:"
   ]
  },
  {
   "cell_type": "code",
   "execution_count": 883,
   "metadata": {},
   "outputs": [
    {
     "name": "stdout",
     "output_type": "stream",
     "text": [
      "1.5\n",
      "265326.3333333333\n",
      "Energy: 8.17519651195193 Variance: 15.578453328325779 Potential energy: 7.500215947200288\n",
      "1.5\n",
      "232618.33333333334\n",
      "Energy: 5.620225919603572 Variance: 3.789346300330095 Potential energy: 4.493634559471661\n",
      "1.5\n",
      "209357.66666666666\n",
      "Energy: 4.787754469639846 Variance: 0.8969108015323748 Potential energy: 3.21128327380511\n",
      "1.5\n",
      "191295.83333333334\n",
      "Energy: 4.52505525821492 Variance: 0.07479559067997954 Potential energy: 2.5002908327086195\n",
      "1.5\n",
      "183877.83333333334\n",
      "Energy: 4.5 Variance: 0.0 Potential energy: 2.248799287209174\n",
      "1.5\n",
      "170663.16666666666\n",
      "Energy: 4.57186630905455 Variance: 0.22925261261913832 Potential energy: 1.8821220248763229\n",
      "1.5\n",
      "159857.0\n",
      "Energy: 4.75939539633429 Variance: 0.8085192087002078 Potential energy: 1.6047964621514204\n",
      "1.5\n",
      "150795.5\n",
      "Energy: 5.003814000078948 Variance: 1.593749114468725 Potential energy: 1.4078115384105259\n",
      "1.5\n",
      "142949.66666666666\n",
      "Energy: 5.296100725837163 Variance: 2.6079209611000316 Potential energy: 1.251740747394168\n",
      "1.5\n",
      "135784.5\n",
      "Energy: 5.622538883741005 Variance: 3.8019028446803205 Potential energy: 1.1258203720862194\n"
     ]
    },
    {
     "data": {
      "image/png": "[encoded data removed]",
      "text/plain": [
       "<Figure size 432x288 with 1 Axes>"
      ]
     },
     "metadata": {
      "needs_background": "light"
     },
     "output_type": "display_data"
    },
    {
     "data": {
      "image/png": "[encoded data removed]",
      "text/plain": [
       "<Figure size 432x288 with 1 Axes>"
      ]
     },
     "metadata": {
      "needs_background": "light"
     },
     "output_type": "display_data"
    }
   ],
   "source": [
    "alpha = [0.3,0.5,0.7,0.9,1,1.2,1.4,1.6,1.8,2.0]\n",
    "fig, ax = plt.subplots()\n",
    "fig0, ax0 = plt.subplots()\n",
    "omegaTrial = 1.5\n",
    "for alphaTemp in alpha:\n",
    "    Energy, Counter, Variance, PotEnergy = MonteCarlo(int(4e5),omegaTrial,alphaTemp,3.8)\n",
    "    print(Counter)\n",
    "    print(\"Energy:\",Energy,\"Variance:\",Variance,\"Potential energy:\",PotEnergy)\n",
    "    ax.plot(alphaTemp,Energy,'r*')\n",
    "    ax0.plot(alphaTemp,Variance,'g*')"
   ]
  },
  {
   "cell_type": "markdown",
   "metadata": {},
   "source": [
    "**Device a way to find the optimal step length for each alpha so that acceptance rate is around 50%**"
   ]
  },
  {
   "cell_type": "markdown",
   "metadata": {},
   "source": [
    "**Algorithm that takes care of finding the step size such that 50 \\% acceptance rate in a brute force way:**"
   ]
  },
  {
   "cell_type": "code",
   "execution_count": 938,
   "metadata": {},
   "outputs": [],
   "source": [
    "@jit\n",
    "def FindStepsize(stepsize,alpha,omega):\n",
    "    M = len(alpha)\n",
    "    StepSize = np.zeros(M)\n",
    "    counter = 0\n",
    "    for i in alpha:\n",
    "        StepTemp = []\n",
    "        for l in stepsize:\n",
    "            Energy, Counter, Variance, PotEnergy = MonteCarlo(1000,omega,i,l)\n",
    "            if (Counter >= 400) and (Counter <= 600):\n",
    "                StepTemp.append(l)\n",
    "        StepSize[counter] = np.median(StepTemp)\n",
    "        counter += 1\n",
    "        \n",
    "    return StepSize\n",
    "\n",
    "@jit\n",
    "def FindStepsize2(stepsize,alpha,beta,omega):\n",
    "    MCCycles = 10000\n",
    "    M = len(beta)\n",
    "    StepSize = np.zeros(M)\n",
    "    counter = 0\n",
    "    for i in beta:\n",
    "        StepTemp = []\n",
    "        for l in stepsize:\n",
    "            Energy, Counter, Variance, ElectronDistance, PotEnergy = MonteCarlo2(1000,omega,alpha,i,l)\n",
    "            if (Counter >= 480) and (Counter <= 520):\n",
    "                StepTemp.append(l)\n",
    "        StepSize[counter] = np.median(StepTemp)\n",
    "        counter += 1\n",
    "        \n",
    "    return StepSize\n",
    "\n",
    "#Function that finds the minimal energy in terms of either alpha or beta\n",
    "#as well as finding the electron distance at that minimum\n",
    "def FindMinimalEnergy(EnergyTotal,ElectronDistance,PotentialEnergyTotal,alpha,beta,VarChoice):\n",
    "    #Variable VarChoice decides which variable we are trying to find a minimum at, alpha or beta\n",
    "    MinimalEnergy = np.min(EnergyTotal)\n",
    "    MinimalEnergyIndex = np.where(EnergyTotal == MinimalEnergy)[0][0]#Index for minimal energy\n",
    "    if VarChoice == \"alpha\":\n",
    "        alphaMinimal = alpha[MinimalEnergyIndex]\n",
    "        electronDistanceMinimalEnergy = ElectronDistance[MinimalEnergyIndex]\n",
    "        PotentialEnergyMinimum = PotentialEnergyTotal[MinimalEnergyIndex]\n",
    "        return MinimalEnergy, electronDistanceMinimalEnergy, alphaMinimal, PotentialEnergyMinimum\n",
    "    elif VarChoice == \"beta\":\n",
    "        betaMinimal = beta[MinimalEnergyIndex]\n",
    "        electronDistanceMinimalEnergy = ElectronDistance[MinimalEnergyIndex]\n",
    "        PotentialEnergyMinimum = PotentialEnergyTotal[MinimalEnergyIndex]\n",
    "        return MinimalEnergy, electronDistanceMinimalEnergy, betaMinimal, PotentialEnergyMinimum\n",
    "    else:\n",
    "        assert(\"Please state wheter to find minimal with regards to beta or alpha\")"
   ]
  },
  {
   "cell_type": "code",
   "execution_count": 940,
   "metadata": {},
   "outputs": [
    {
     "name": "stdout",
     "output_type": "stream",
     "text": [
      "[0.2 0.4 0.6 0.8 1.  1.2 1.4 1.6 1.8]\n",
      "[4.85  4.75  4.575 4.625 4.575 4.6   4.575 4.6   4.575]\n"
     ]
    }
   ],
   "source": [
    "#Trial\n",
    "stepsize = np.arange(0,10,0.05)\n",
    "alpha = np.arange(0.2,2,0.2)\n",
    "print(alpha)\n",
    "StepSize = FindStepsize(stepsize,alpha,1)\n",
    "#Trial for second wave function\n",
    "beta = np.arange(0.2,2,0.2)\n",
    "StepSize2 = FindStepsize2(stepsize,0.85,beta,1)\n",
    "print(StepSize2)"
   ]
  },
  {
   "cell_type": "code",
   "execution_count": 941,
   "metadata": {},
   "outputs": [
    {
     "name": "stdout",
     "output_type": "stream",
     "text": [
      "[8.5   6.775 5.525 4.825 4.375 3.9   3.65  3.425 3.175]\n"
     ]
    }
   ],
   "source": [
    "print(StepSize)"
   ]
  },
  {
   "cell_type": "markdown",
   "metadata": {},
   "source": [
    "# 5.c)"
   ]
  },
  {
   "cell_type": "markdown",
   "metadata": {},
   "source": [
    "**First let's check our calculations without the Coulomb potential and see if we obtain the exact answer:**"
   ]
  },
  {
   "cell_type": "code",
   "execution_count": 598,
   "metadata": {},
   "outputs": [
    {
     "name": "stdout",
     "output_type": "stream",
     "text": [
      "Measurement took in seconds: 45.48872637748718\n"
     ]
    },
    {
     "data": {
      "image/png": "[encoded data removed]",
      "text/plain": [
       "<Figure size 432x288 with 1 Axes>"
      ]
     },
     "metadata": {
      "needs_background": "light"
     },
     "output_type": "display_data"
    }
   ],
   "source": [
    "#Monte Carlo calculations for the first trial wave function for more number of different alpha\n",
    "#first finding the optimal step size for each value of alpha\n",
    "alpha1 = np.arange(0.2,2,0.05)\n",
    "stepsize1 = np.arange(0,10,0.05)\n",
    "StepSize1 = FindStepsize(stepsize1,alpha1,1)\n",
    "#Then doing calculation for each alpha\n",
    "fig4, ax4 = plt.subplots()\n",
    "start = time.time()\n",
    "for i in range(len(alpha1)):\n",
    "    stepTemp = StepSize1[i]\n",
    "    alphaTemp = alpha1[i]\n",
    "    Energy, Counter, Variance = MonteCarlo(int(1e6),1,alphaTemp,stepTemp)\n",
    "    #print(Counter,Energy,Variance)\n",
    "    ax4.plot(alphaTemp,Energy,'r*')\n",
    "end = time.time()\n",
    "print(\"Measurement took in seconds:\",end-start)"
   ]
  },
  {
   "cell_type": "markdown",
   "metadata": {},
   "source": [
    "## Then we do the calculations with Coulomb interaction for both trial wave functions. Basing the optimization of paramater $\\beta$ on the initial extremum in $\\alpha$. We take measurements for three different value of $\\omega$, $\\omega \\in \\{0.01,0.5,1\\}$"
   ]
  },
  {
   "cell_type": "markdown",
   "metadata": {},
   "source": [
    "# First with $\\omega = 1$:"
   ]
  },
  {
   "cell_type": "code",
   "execution_count": 942,
   "metadata": {},
   "outputs": [],
   "source": [
    "omega1 = 1\n",
    "alpha1 = np.arange(0.2,2,0.02)\n",
    "stepsize1 = np.arange(0,10,0.05)\n",
    "StepSize1 = FindStepsize(stepsize1,alpha1,omega1)"
   ]
  },
  {
   "cell_type": "code",
   "execution_count": 943,
   "metadata": {},
   "outputs": [
    {
     "name": "stdout",
     "output_type": "stream",
     "text": [
      "measurement took in seconds: 106.16436386108398\n"
     ]
    }
   ],
   "source": [
    "EnergyTotal = np.zeros(len(alpha1))\n",
    "CounterTotal = np.zeros(len(alpha1))\n",
    "VarianceTotal = np.zeros(len(alpha1))\n",
    "ElectronDistanceTotal = np.zeros(len(alpha1))\n",
    "PotentialEnergyTotal = np.zeros(len(alpha1))\n",
    "start = time.time()\n",
    "for i in range(len(alpha1)):\n",
    "    stepTemp = StepSize1[i]\n",
    "    alphaTemp = alpha1[i]\n",
    "    Energy, Counter, Variance, ElectronDistance, PotEnergy = MonteCarloCoulomb(int(1e6),omega1,alphaTemp,stepTemp)\n",
    "    EnergyTotal[i] = Energy\n",
    "    CounterTotal[i] = Counter\n",
    "    VarianceTotal[i] = Variance\n",
    "    ElectronDistanceTotal[i] = ElectronDistance\n",
    "    PotentialEnergyTotal[i] = PotEnergy\n",
    "end = time.time()\n",
    "print(\"measurement took in seconds:\",end-start)"
   ]
  },
  {
   "cell_type": "code",
   "execution_count": 944,
   "metadata": {},
   "outputs": [
    {
     "name": "stdout",
     "output_type": "stream",
     "text": [
      "1.8866028147705398\n",
      "[7.85115298 7.18912894 6.65146661 6.17247889 5.78998337 5.43855451\n",
      " 5.12486887 4.87759177 4.65126312 4.44421837 4.25032903 4.08518001\n",
      " 3.93846972 3.7984462  3.67987062 3.56304086 3.46216996 3.36198789\n",
      " 3.27102795 3.19154463 3.118683   3.04791122 2.98511    2.92132645\n",
      " 2.86421469 2.8110367  2.75965451 2.71395893 2.66553303 2.62708491\n",
      " 2.59160648 2.55131373 2.5190786  2.48292124 2.45221762 2.42404275\n",
      " 2.39643599 2.36883572 2.34556993 2.3225483  2.29920551 2.27390587\n",
      " 2.25548707 2.23892777 2.21997191 2.20179936 2.18251112 2.16816509\n",
      " 2.15161625 2.1358859  2.12343211 2.11173194 2.09638711 2.08530178\n",
      " 2.0732648  2.06253957 2.05130568 2.04260815 2.03375358 2.02373962\n",
      " 2.01498173 2.00667337 2.00077751 1.99117899 1.98487236 1.9783736\n",
      " 1.97021623 1.96363214 1.95694529 1.95217836 1.9463139  1.94156089\n",
      " 1.93572697 1.93046809 1.92767415 1.92281811 1.91729452 1.91631083\n",
      " 1.91103911 1.90840958 1.90424458 1.90137583 1.8965424  1.8941671\n",
      " 1.89232444 1.88903796 1.88568392 1.88402125 1.88354541 1.87918755]\n"
     ]
    }
   ],
   "source": [
    "print(MinimalEnergy/2)\n",
    "print(PotentialEnergyTotal)"
   ]
  },
  {
   "cell_type": "code",
   "execution_count": 946,
   "metadata": {},
   "outputs": [
    {
     "name": "stdout",
     "output_type": "stream",
     "text": [
      "The minimum in energy is: 3.7730542609261843\n",
      "alpha at that minimum is: 0.8799999999999997\n",
      "This distance between electrons at the mininum is 1.7011177159618498\n",
      "The potential energy at that position is 2.452217620256508\n",
      "The minimum in variance is: 0.257845782416835\n",
      "alpha at that minimum is: 0.8599999999999997\n",
      "This distance between electrons at the mininum is 2.4829212385828128\n",
      "The potential energy at that position is 1.721146679235205\n"
     ]
    }
   ],
   "source": [
    "#Finding the lowest energy\n",
    "MinimalEnergy, electDistMinimalEnergy, alphaMinimal, PotEnergyMinimal = FindMinimalEnergy(EnergyTotal,ElectronDistanceTotal,PotentialEnergyTotal,alpha1,1,\"alpha\")\n",
    "print(\"The minimum in energy is:\",MinimalEnergy)\n",
    "print(\"alpha at that minimum is:\",alphaMinimal)\n",
    "print(\"This distance between electrons at the mininum is\",electDistMinimalEnergy)\n",
    "print(\"The potential energy at that position is\",PotEnergyMinimal)\n",
    "#Finding the minimum in variance\n",
    "MinimalVariance0, electDistMinimalVar0, alphaMinimal0, PotEnergyMinimal0 = FindMinimalEnergy(VarianceTotal,PotentialEnergyTotal,ElectronDistanceTotal,alpha1,1,\"alpha\")\n",
    "print(\"The minimum in variance is:\",MinimalVariance0)\n",
    "print(\"alpha at that minimum is:\",alphaMinimal0)\n",
    "print(\"This distance between electrons at the mininum is\",electDistMinimalVar0)\n",
    "print(\"The potential energy at that position is\",PotEnergyMinimal0)"
   ]
  },
  {
   "cell_type": "markdown",
   "metadata": {},
   "source": [
    "**Plotting:**"
   ]
  },
  {
   "cell_type": "code",
   "execution_count": 947,
   "metadata": {},
   "outputs": [
    {
     "data": {
      "text/plain": [
       "Text(0.5, 0, '$\\\\alpha$')"
      ]
     },
     "execution_count": 947,
     "metadata": {},
     "output_type": "execute_result"
    },
    {
     "data": {
      "image/png": "[encoded data removed]",
      "text/plain": [
       "<Figure size 432x288 with 1 Axes>"
      ]
     },
     "metadata": {
      "needs_background": "light"
     },
     "output_type": "display_data"
    }
   ],
   "source": [
    "#Energy as a function of variational paramater alpha\n",
    "fig5_1,ax5_1 = plt.subplots()\n",
    "ax5_1.plot(alpha1,EnergyTotal,'*')\n",
    "ax5_1.plot(alphaMinimal,MinimalEnergy,'r*')\n",
    "ax5_1.set_ylabel(\"Energy\")\n",
    "ax5_1.set_xlabel(r\"$\\alpha$\")"
   ]
  },
  {
   "cell_type": "code",
   "execution_count": 948,
   "metadata": {},
   "outputs": [
    {
     "data": {
      "text/plain": [
       "[<matplotlib.lines.Line2D at 0x17a38242978>]"
      ]
     },
     "execution_count": 948,
     "metadata": {},
     "output_type": "execute_result"
    },
    {
     "data": {
      "image/png": "[encoded data removed]",
      "text/plain": [
       "<Figure size 432x288 with 1 Axes>"
      ]
     },
     "metadata": {
      "needs_background": "light"
     },
     "output_type": "display_data"
    }
   ],
   "source": [
    "#Variance as a function of variational parameter alpha\n",
    "fig5_2,ax5_2 = plt.subplots()\n",
    "ax5_2.plot(alpha1,VarianceTotal,'*')"
   ]
  },
  {
   "cell_type": "markdown",
   "metadata": {},
   "source": [
    "**Then analysis for the second trial wave function using the optimal $\\alpha$ obtained:**"
   ]
  },
  {
   "cell_type": "code",
   "execution_count": 736,
   "metadata": {},
   "outputs": [
    {
     "name": "stdout",
     "output_type": "stream",
     "text": [
      "[0.02 0.22 0.4  0.42 0.42 0.44 0.46 0.48 0.5  0.52 0.54 0.56 0.58 0.6\n",
      " 0.62 0.62 0.64 0.66 0.68 0.7  0.72 0.74 0.76 0.78 0.8  0.82 0.82 0.84\n",
      " 0.86 0.88 0.9  0.92 0.94 0.96 0.98 1.   1.02 1.02 1.04 1.06 1.08 1.1\n",
      " 1.12 1.14 1.16 1.18 1.2  1.22 1.22 1.24 1.26 1.28 1.3  1.32 1.34 1.36\n",
      " 1.38 1.42 1.62 1.82 2.02 2.22 2.42 2.62 2.82]\n"
     ]
    }
   ],
   "source": [
    "#Setting up range in beta\n",
    "temp = np.arange(0.4,1.4,0.02)\n",
    "beta1 = np.arange(0.02,3,0.2)\n",
    "beta1 = np.concatenate((temp,beta1),axis=0)\n",
    "beta1 = np.sort(beta1)\n",
    "print(beta1)"
   ]
  },
  {
   "cell_type": "code",
   "execution_count": 737,
   "metadata": {},
   "outputs": [
    {
     "name": "stdout",
     "output_type": "stream",
     "text": [
      "[5.  4.8 4.6 4.7 4.5 4.7 4.6 4.6 4.7 4.6 4.6 4.6 4.6 4.5 4.5 4.6 4.6 4.7\n",
      " 4.6 4.6 4.6 4.6 4.6 4.6 4.6 4.4 4.5 4.6 4.5 4.5 4.6 4.5 4.5 4.5 4.6 4.5\n",
      " 4.4 4.6 4.6 4.4 4.4 4.5 4.4 4.4 4.6 4.5 4.4 4.5 4.5 4.5 4.5 4.5 4.4 4.5\n",
      " 4.5 4.5 4.5 4.4 4.5 4.5 4.6 4.6 4.6 4.5 4.4]\n"
     ]
    }
   ],
   "source": [
    "#Finding the right stepsize\n",
    "stepsize = np.arange(1,10,0.2)\n",
    "StepSize2 = FindStepsize2(stepsize,0.88,beta1,1)\n",
    "print(StepSize2)"
   ]
  },
  {
   "cell_type": "code",
   "execution_count": 741,
   "metadata": {},
   "outputs": [
    {
     "name": "stdout",
     "output_type": "stream",
     "text": [
      "measurement took in seconds: 619.1042504310608\n"
     ]
    }
   ],
   "source": [
    "alpha1_Minimal = 0.86\n",
    "EnergyTotal2 = np.zeros(len(beta1))\n",
    "CounterTotal2 = np.zeros(len(beta1))\n",
    "VarianceTotal2 = np.zeros(len(beta1))\n",
    "ElectronDistanceTotal2 = np.zeros(len(beta1))\n",
    "start = time.time()\n",
    "for i in range(len(beta1)):\n",
    "    Energy, Counter, Variance, ElectronDistance = MonteCarlo2(int(5e6),omega1,alpha1_Minimal,beta1[i],4.5)\n",
    "    EnergyTotal2[i] = Energy\n",
    "    CounterTotal2[i] = Counter\n",
    "    VarianceTotal2[i] = Variance\n",
    "    ElectronDistanceTotal2[i] = ElectronDistance\n",
    "end = time.time()\n",
    "print(\"measurement took in seconds:\",end-start)"
   ]
  },
  {
   "cell_type": "code",
   "execution_count": 758,
   "metadata": {},
   "outputs": [
    {
     "name": "stdout",
     "output_type": "stream",
     "text": [
      "3.749869676931379\n",
      "0.6400000000000002 1.840518118711498\n",
      "The minimum in energy is: 3.7500587687005495\n",
      "Beta at that minimum is: 0.6400000000000002\n",
      "This distance between electrons at that minimum is: 1.8446203427000079\n"
     ]
    }
   ],
   "source": [
    "#Finding the minimal energy\n",
    "MinimalEnergy2, electDistMinimalEnergy2, betaMinimal2 = FindMinimalEnergy(EnergyTotal2,ElectronDistanceTotal2,alpha1_Minimal,beta1,\"beta\")\n",
    "print(MinimalEnergy2)\n",
    "print(betaMinimal2,electDistMinimalEnergy2)\n",
    "#Filtered\n",
    "EnergyTotal2Filtered = savgol_filter(EnergyTotal2,window_length=7,polyorder=5)\n",
    "MinimalEnergy2Filt, electDistMinimalEnergy2Filt, betaMinimal2Filt = FindMinimalEnergy(EnergyTotal2Filtered,ElectronDistanceTotal2,alpha1_Minimal,beta1,\"beta\")\n",
    "print(\"The minimum in energy is:\",MinimalEnergy2Filt)\n",
    "print(\"Beta at that minimum is:\",betaMinimal2)\n",
    "print(\"This distance between electrons at that minimum is:\",electDistMinimalEnergy2Filt)"
   ]
  },
  {
   "cell_type": "code",
   "execution_count": 743,
   "metadata": {},
   "outputs": [
    {
     "data": {
      "text/plain": [
       "Text(0, 0.5, 'Energy')"
      ]
     },
     "execution_count": 743,
     "metadata": {},
     "output_type": "execute_result"
    },
    {
     "data": {
      "image/png": "[encoded data removed]",
      "text/plain": [
       "<Figure size 432x288 with 1 Axes>"
      ]
     },
     "metadata": {
      "needs_background": "light"
     },
     "output_type": "display_data"
    }
   ],
   "source": [
    "#plotting Energy as a function of Beta\n",
    "fig5_3,ax5_3 = plt.subplots()\n",
    "ax5_3.plot(beta1[2:-1],EnergyTotal2[2:-1],'*')\n",
    "ax5_3.plot(beta1[2:-1],EnergyTotal2Filtered[2:-1])\n",
    "ax5_3.plot(betaMinimal2,MinimalEnergy2,'r*')\n",
    "ax5_3.set_xlabel(r\"$\\beta$\")\n",
    "ax5_3.set_ylabel(\"Energy\")"
   ]
  },
  {
   "cell_type": "code",
   "execution_count": 746,
   "metadata": {},
   "outputs": [
    {
     "data": {
      "text/plain": [
       "Text(0, 0.5, 'Variance')"
      ]
     },
     "execution_count": 746,
     "metadata": {},
     "output_type": "execute_result"
    },
    {
     "data": {
      "image/png": "[encoded data removed]",
      "text/plain": [
       "<Figure size 432x288 with 1 Axes>"
      ]
     },
     "metadata": {
      "needs_background": "light"
     },
     "output_type": "display_data"
    }
   ],
   "source": [
    "#plotting Variance in Energy as a function of Beta\n",
    "fig5_4,ax5_4 = plt.subplots()\n",
    "ax5_4.plot(beta1[1:-1],VarianceTotal2[1:-1],'*')\n",
    "ax5_4.set_xlabel(r\"$\\beta$\")\n",
    "ax5_4.set_ylabel(\"Variance\")"
   ]
  },
  {
   "cell_type": "markdown",
   "metadata": {},
   "source": [
    "# Then with $\\omega = 0.01$:"
   ]
  },
  {
   "cell_type": "code",
   "execution_count": 952,
   "metadata": {},
   "outputs": [],
   "source": [
    "omega2 = 0.01\n",
    "alpha2 = np.arange(0.2,2,0.02)\n",
    "stepsize2 = np.arange(30,75,0.25)\n",
    "StepSize2 = FindStepsize(stepsize2,alpha2,omega2)"
   ]
  },
  {
   "cell_type": "code",
   "execution_count": 951,
   "metadata": {},
   "outputs": [
    {
     "name": "stdout",
     "output_type": "stream",
     "text": [
      "[72.625 70.625 69.    68.375 66.75  65.75  65.    64.    63.75  62.625\n",
      " 61.875 61.125 60.625 60.    60.125 59.5   58.75  58.    57.75  56.\n",
      " 55.75  55.    54.    53.125 52.25  51.25  50.875 50.375 49.625 48.5\n",
      " 48.    47.5   46.75  46.75  45.875 45.375 44.75  44.625 44.    43.125\n",
      " 43.25  42.625 42.25  41.875 41.5   41.25  41.25  40.625 40.375 40.\n",
      " 40.375 39.75  39.625 39.5   39.    39.375 38.875 38.75  38.375 38.375\n",
      " 38.375 38.    37.75  38.125 37.625 37.5   37.375 37.    36.75  36.875\n",
      " 36.625 36.375 36.125 36.375 36.    36.    35.625 35.875 35.875 35.875\n",
      " 35.5   35.25  35.5   35.125 34.875 34.75  35.125 34.875 34.625 34.75 ]\n"
     ]
    }
   ],
   "source": [
    "print(StepSize2)"
   ]
  },
  {
   "cell_type": "code",
   "execution_count": 953,
   "metadata": {},
   "outputs": [
    {
     "name": "stdout",
     "output_type": "stream",
     "text": [
      "measurement took in seconds: 113.48288464546204\n"
     ]
    }
   ],
   "source": [
    "omega2 = 0.01\n",
    "EnergyTotal3 = np.zeros(len(alpha2))\n",
    "CounterTotal3 = np.zeros(len(alpha2))\n",
    "VarianceTotal3 = np.zeros(len(alpha2))\n",
    "ElectronDistanceTotal3 = np.zeros(len(alpha2))\n",
    "PotentialEnergyTotal3 = np.zeros(len(alpha2))\n",
    "start = time.time()\n",
    "for i in range(len(alpha2)):\n",
    "    stepTemp = StepSize2[i]\n",
    "    alphaTemp = alpha2[i]\n",
    "    Energy, Counter, Variance, ElectronDistance, PotEnergy = MonteCarloCoulomb(int(1e6),omega2,alphaTemp,stepTemp)\n",
    "    EnergyTotal3[i] = Energy\n",
    "    CounterTotal3[i] = Counter\n",
    "    VarianceTotal3[i] = Variance\n",
    "    ElectronDistanceTotal3[i] = ElectronDistance\n",
    "    PotentialEnergyTotal3[i] = PotEnergy\n",
    "end = time.time()\n",
    "print(\"measurement took in seconds:\",end-start)"
   ]
  },
  {
   "cell_type": "code",
   "execution_count": 954,
   "metadata": {},
   "outputs": [
    {
     "name": "stdout",
     "output_type": "stream",
     "text": [
      "The minimal energy is: 0.0935371476355692\n",
      "The minimal energy is at alpha = 0.4399999999999999\n",
      "There the distance between electrons is: 24.074928664083988\n",
      "The Potential Energy at that position is: 0.08694051498801418\n"
     ]
    }
   ],
   "source": [
    "#Finding the lowest energy\n",
    "MinimalEnergy3, electDistMinimalEnergy3, alphaMinimal3, PotEnergyMinimal3 = FindMinimalEnergy(EnergyTotal3,ElectronDistanceTotal3,PotentialEnergyTotal3,alpha2,1,\"alpha\")\n",
    "print(\"The minimal energy is:\",MinimalEnergy3)\n",
    "print(\"The minimal energy is at alpha =\",alphaMinimal3)\n",
    "print(\"There the distance between electrons is:\",electDistMinimalEnergy3)\n",
    "print(\"The Potential Energy at that position is:\", PotEnergyMinimal3)"
   ]
  },
  {
   "cell_type": "markdown",
   "metadata": {},
   "source": [
    "**Plotting:**"
   ]
  },
  {
   "cell_type": "code",
   "execution_count": 955,
   "metadata": {},
   "outputs": [
    {
     "data": {
      "text/plain": [
       "Text(0.5, 0, '$\\\\alpha$')"
      ]
     },
     "execution_count": 955,
     "metadata": {},
     "output_type": "execute_result"
    },
    {
     "data": {
      "image/png": "[encoded data removed]",
      "text/plain": [
       "<Figure size 432x288 with 1 Axes>"
      ]
     },
     "metadata": {
      "needs_background": "light"
     },
     "output_type": "display_data"
    }
   ],
   "source": [
    "#Energy as a function of variational paramater alpha\n",
    "fig6_1,ax6_1 = plt.subplots()\n",
    "ax6_1.plot(alpha2,EnergyTotal3,'*')\n",
    "ax6_1.plot(alphaMinimal3,MinimalEnergy3,'r*')\n",
    "ax6_1.set_ylabel(\"Energy\")\n",
    "ax6_1.set_xlabel(r\"$\\alpha$\")"
   ]
  },
  {
   "cell_type": "code",
   "execution_count": 956,
   "metadata": {},
   "outputs": [
    {
     "data": {
      "text/plain": [
       "Text(0.5, 0, '$\\\\alpha$')"
      ]
     },
     "execution_count": 956,
     "metadata": {},
     "output_type": "execute_result"
    },
    {
     "data": {
      "image/png": "[encoded data removed]",
      "text/plain": [
       "<Figure size 432x288 with 1 Axes>"
      ]
     },
     "metadata": {
      "needs_background": "light"
     },
     "output_type": "display_data"
    }
   ],
   "source": [
    "#Variance as a function of variational parameter alpha\n",
    "fig6_2,ax6_2 = plt.subplots()\n",
    "ax6_2.plot(alpha2,VarianceTotal3,'*')\n",
    "ax6_2.set_ylabel(\"Variance\")\n",
    "ax6_2.set_xlabel(r\"$\\alpha$\")"
   ]
  },
  {
   "cell_type": "markdown",
   "metadata": {},
   "source": [
    "**Then analysis for the second trial wave function using the optimal $\\alpha$ obtained:**"
   ]
  },
  {
   "cell_type": "code",
   "execution_count": 673,
   "metadata": {},
   "outputs": [
    {
     "name": "stdout",
     "output_type": "stream",
     "text": [
      "[0.01 0.02 0.02 0.03 0.04 0.05 0.06 0.07 0.08 0.09 0.1  0.11 0.12 0.13\n",
      " 0.14 0.15 0.16 0.17 0.18 0.19 0.2  0.21 0.22 0.22 0.23 0.24 0.25 0.26\n",
      " 0.27 0.28 0.29 0.3  0.31 0.32 0.33 0.34 0.35 0.36 0.37 0.38 0.39 0.4\n",
      " 0.41 0.42 0.42 0.43 0.44 0.45 0.46 0.47 0.48 0.49 0.62 0.82]\n"
     ]
    }
   ],
   "source": [
    "#Setting up range in beta\n",
    "temp = np.arange(0.01,0.5,0.01)\n",
    "beta1 = np.arange(0.02,1,0.2)\n",
    "beta1 = np.concatenate((temp,beta1),axis=0)\n",
    "beta2 = np.sort(beta1)\n",
    "print(beta2)"
   ]
  },
  {
   "cell_type": "code",
   "execution_count": 674,
   "metadata": {},
   "outputs": [
    {
     "name": "stdout",
     "output_type": "stream",
     "text": [
      "[70.   69.75 68.5  67.75 67.25 68.   66.5  67.75 66.25 66.   66.   66.5\n",
      " 65.75 65.25 65.5  65.25 64.75 64.75 64.75 64.75 64.25 64.5  64.25 63.75\n",
      " 64.25 63.5  64.   63.75 63.25 63.5  64.   63.5  63.25 63.5  63.25 63.5\n",
      " 63.5  63.   63.25 62.75 63.25 62.5  63.25 63.   63.   63.5  61.75 63.75\n",
      " 62.75 69.5  64.5  62.75 63.   62.25]\n"
     ]
    }
   ],
   "source": [
    "#Finding the right stepsize\n",
    "stepsize = np.arange(40,80,0.5)\n",
    "StepSize3 = FindStepsize2(stepsize,0.45,beta1,0.01)\n",
    "print(StepSize3)"
   ]
  },
  {
   "cell_type": "code",
   "execution_count": 675,
   "metadata": {},
   "outputs": [
    {
     "name": "stdout",
     "output_type": "stream",
     "text": [
      "measurement took in seconds: 92.22953248023987\n"
     ]
    }
   ],
   "source": [
    "omega = 0.01\n",
    "alpha2 = 0.45\n",
    "EnergyTotal4 = np.zeros(len(beta2))\n",
    "CounterTotal4 = np.zeros(len(beta2))\n",
    "VarianceTotal4 = np.zeros(len(beta2))\n",
    "ElectronDistanceTotal4 = np.zeros(len(beta2))\n",
    "start = time.time()\n",
    "for i in range(len(beta2)):\n",
    "    Energy, Counter, Variance, ElectronDistance = MonteCarlo2(int(1e6),omega,alpha2,beta2[i],StepSize3[i])\n",
    "    EnergyTotal4[i] = Energy\n",
    "    CounterTotal4[i] = Counter\n",
    "    VarianceTotal4[i] = Variance\n",
    "    ElectronDistanceTotal4[i] = ElectronDistance\n",
    "end = time.time()\n",
    "print(\"measurement took in seconds:\",end-start)"
   ]
  },
  {
   "cell_type": "code",
   "execution_count": 676,
   "metadata": {},
   "outputs": [
    {
     "name": "stdout",
     "output_type": "stream",
     "text": [
      "The minimal in energy is 0.0855631473758736\n",
      "At the minimum the position in beta is 0.11\n",
      "At that minimum the distance between electrons is: 30.580747573104478\n"
     ]
    }
   ],
   "source": [
    "#Finding the minimal energy\n",
    "MinimalEnergy4, electDistMinimalEnergy4, betaMinimal4 = FindMinimalEnergy(EnergyTotal4,ElectronDistanceTotal4,alpha2,beta2,\"beta\")\n",
    "print(\"The minimal in energy is\",MinimalEnergy4)\n",
    "print(\"At the minimum the position in beta is\",betaMinimal4)\n",
    "print(\"At that minimum the distance between electrons is:\",electDistMinimalEnergy4)"
   ]
  },
  {
   "cell_type": "code",
   "execution_count": 680,
   "metadata": {},
   "outputs": [
    {
     "data": {
      "text/plain": [
       "Text(0, 0.5, 'Energy')"
      ]
     },
     "execution_count": 680,
     "metadata": {},
     "output_type": "execute_result"
    },
    {
     "data": {
      "image/png": "[encoded data removed]",
      "text/plain": [
       "<Figure size 432x288 with 1 Axes>"
      ]
     },
     "metadata": {
      "needs_background": "light"
     },
     "output_type": "display_data"
    }
   ],
   "source": [
    "#plotting Energy as a function of Beta\n",
    "fig6_3,ax6_3 = plt.subplots()\n",
    "ax6_3.plot(beta2[3:-1],EnergyTotal4[3:-1],'*')\n",
    "ax6_3.plot(betaMinimal4,MinimalEnergy4,'r*')\n",
    "ax6_3.set_xlabel(r\"$\\beta$\")\n",
    "ax6_3.set_ylabel(\"Energy\")"
   ]
  },
  {
   "cell_type": "markdown",
   "metadata": {},
   "source": [
    "# Then with $\\omega = 0.5$:"
   ]
  },
  {
   "cell_type": "code",
   "execution_count": 958,
   "metadata": {},
   "outputs": [],
   "source": [
    "omega3 = 0.5\n",
    "alpha3 = np.arange(0.2,2,0.02)\n",
    "stepsize3 = np.arange(0,10,0.05)\n",
    "StepSize3 = FindStepsize(stepsize3,alpha3,omega3)"
   ]
  },
  {
   "cell_type": "code",
   "execution_count": 959,
   "metadata": {},
   "outputs": [
    {
     "name": "stdout",
     "output_type": "stream",
     "text": [
      "measurement took in seconds: 117.50904297828674\n"
     ]
    }
   ],
   "source": [
    "EnergyTotal5 = np.zeros(len(alpha3))\n",
    "CounterTotal5 = np.zeros(len(alpha3))\n",
    "VarianceTotal5 = np.zeros(len(alpha3))\n",
    "ElectronDistanceTotal5 = np.zeros(len(alpha3))\n",
    "PotentialEnergyTotal5 = np.zeros(len(alpha3))\n",
    "start = time.time()\n",
    "for i in range(len(alpha3)):\n",
    "    stepTemp = StepSize3[i]\n",
    "    alphaTemp = alpha3[i]\n",
    "    Energy, Counter, Variance, ElectronDistance, PotEnergy = MonteCarloCoulomb(int(1e6),omega3,alphaTemp,stepTemp)\n",
    "    EnergyTotal5[i] = Energy\n",
    "    CounterTotal5[i] = Counter\n",
    "    VarianceTotal5[i] = Variance\n",
    "    ElectronDistanceTotal5[i] = ElectronDistance\n",
    "    PotentialEnergyTotal5[i] = PotEnergy\n",
    "end = time.time()\n",
    "print(\"measurement took in seconds:\",end-start)"
   ]
  },
  {
   "cell_type": "code",
   "execution_count": 960,
   "metadata": {},
   "outputs": [
    {
     "name": "stdout",
     "output_type": "stream",
     "text": [
      "The minimal energy is: 2.0400307056647056\n",
      "The minimal energy is at alpha = 0.8399999999999996\n",
      "There the distance between electrons is: 2.462966104617315\n",
      "At the minimum the potential energy is: 1.4102428880756577\n"
     ]
    }
   ],
   "source": [
    "#Finding the lowest energy\n",
    "MinimalEnergy5, electDistMinimalEnergy5, alphaMinimal5, PotEnergyMinimal5 = FindMinimalEnergy(EnergyTotal5,ElectronDistanceTotal5,PotentialEnergyTotal5,alpha3,1,\"alpha\")\n",
    "print(\"The minimal energy is:\",MinimalEnergy5)\n",
    "print(\"The minimal energy is at alpha =\",alphaMinimal5)\n",
    "print(\"There the distance between electrons is:\",electDistMinimalEnergy5)\n",
    "print(\"At the minimum the potential energy is:\",PotEnergyMinimal5)"
   ]
  },
  {
   "cell_type": "code",
   "execution_count": 689,
   "metadata": {},
   "outputs": [
    {
     "data": {
      "text/plain": [
       "Text(0, 0.5, 'Energy')"
      ]
     },
     "execution_count": 689,
     "metadata": {},
     "output_type": "execute_result"
    },
    {
     "data": {
      "image/png": "[encoded data removed]",
      "text/plain": [
       "<Figure size 432x288 with 1 Axes>"
      ]
     },
     "metadata": {
      "needs_background": "light"
     },
     "output_type": "display_data"
    }
   ],
   "source": [
    "#Energy as a function of variational paramater alpha\n",
    "fig7, ax7 = plt.subplots()\n",
    "ax7.plot(alpha3,EnergyTotal5,'*')\n",
    "ax7.plot(alphaMinimal5,MinimalEnergy5,'r*')\n",
    "ax7.set_xlabel(r\"$\\alpha$\")\n",
    "ax7.set_ylabel(\"Energy\")"
   ]
  },
  {
   "cell_type": "code",
   "execution_count": 690,
   "metadata": {},
   "outputs": [
    {
     "data": {
      "text/plain": [
       "Text(0.5, 0, '$\\\\alpha$')"
      ]
     },
     "execution_count": 690,
     "metadata": {},
     "output_type": "execute_result"
    },
    {
     "data": {
      "image/png": "[encoded data removed]",
      "text/plain": [
       "<Figure size 432x288 with 1 Axes>"
      ]
     },
     "metadata": {
      "needs_background": "light"
     },
     "output_type": "display_data"
    }
   ],
   "source": [
    "#Variance as a function of variational parameter alpha\n",
    "fig7_2,ax7_2 = plt.subplots()\n",
    "ax7_2.plot(alpha1,VarianceTotal5,'*')\n",
    "ax7_2.set_ylabel(\"Variance\")\n",
    "ax7_2.set_xlabel(r\"$\\alpha$\")"
   ]
  },
  {
   "cell_type": "markdown",
   "metadata": {},
   "source": [
    "**Then for variational parameter $\\beta$:**"
   ]
  },
  {
   "cell_type": "code",
   "execution_count": 697,
   "metadata": {},
   "outputs": [
    {
     "name": "stdout",
     "output_type": "stream",
     "text": [
      "[0.02 0.2  0.22 0.22 0.24 0.26 0.28 0.3  0.32 0.34 0.36 0.38 0.4  0.42\n",
      " 0.42 0.44 0.46 0.48 0.5  0.52 0.54 0.56 0.58 0.6  0.62 0.62 0.64 0.66\n",
      " 0.68 0.7  0.72 0.74 0.76 0.78 0.8  0.82 1.02 1.22 1.42 1.62 1.82 2.02\n",
      " 2.22 2.42 2.62 2.82]\n"
     ]
    }
   ],
   "source": [
    "#Setting up range in beta\n",
    "temp = np.arange(0.2,0.8,0.02)\n",
    "beta1 = np.arange(0.02,3,0.2)\n",
    "beta1 = np.concatenate((temp,beta1),axis=0)\n",
    "beta3 = np.sort(beta1)\n",
    "print(beta3)"
   ]
  },
  {
   "cell_type": "code",
   "execution_count": 698,
   "metadata": {},
   "outputs": [
    {
     "name": "stdout",
     "output_type": "stream",
     "text": [
      "[7.4 6.9 6.8 6.7 6.8 6.9 6.9 7.  6.8 6.8 6.7 6.7 6.9 6.8 6.8 6.9 6.7 6.7\n",
      " 6.7 6.6 6.8 6.5 6.5 6.7 6.6 6.6 6.7 6.6 6.5 6.6 6.6 6.7 6.5 6.6 6.6 6.5\n",
      " 6.5 6.5 6.5 6.2 6.4 6.4 6.4 6.5 6.6 6.4]\n"
     ]
    }
   ],
   "source": [
    "#Finding the right stepsize\n",
    "stepsize = np.arange(1,10,0.2)\n",
    "StepSize4 = FindStepsize2(stepsize,0.84,beta3,omega3)\n",
    "print(StepSize4)"
   ]
  },
  {
   "cell_type": "code",
   "execution_count": 699,
   "metadata": {},
   "outputs": [
    {
     "name": "stdout",
     "output_type": "stream",
     "text": [
      "measurement took in seconds: 80.72088384628296\n"
     ]
    }
   ],
   "source": [
    "alpha3 = 0.84\n",
    "EnergyTotal6 = np.zeros(len(beta3))\n",
    "CounterTotal6 = np.zeros(len(beta3))\n",
    "VarianceTotal6 = np.zeros(len(beta3))\n",
    "ElectronDistanceTotal6 = np.zeros(len(beta3))\n",
    "start = time.time()\n",
    "for i in range(len(beta3)):\n",
    "    Energy, Counter, Variance, ElectronDistance = MonteCarlo2(int(1e6),omega3,alpha3,beta3[i],StepSize4[i])\n",
    "    EnergyTotal6[i] = Energy\n",
    "    CounterTotal6[i] = Counter\n",
    "    VarianceTotal6[i] = Variance\n",
    "    ElectronDistanceTotal6[i] = ElectronDistance\n",
    "end = time.time()\n",
    "print(\"measurement took in seconds:\",end-start)"
   ]
  },
  {
   "cell_type": "code",
   "execution_count": 700,
   "metadata": {},
   "outputs": [
    {
     "name": "stdout",
     "output_type": "stream",
     "text": [
      "The minimum in energy is : 2.0128596173272544\n",
      "Beta at that minimum is: 0.41999999999999993\n",
      "The electron distance at the minimum is 2.7177013829051084\n"
     ]
    }
   ],
   "source": [
    "#Finding the minimal energy\n",
    "MinimalEnergy6, electDistMinimalEnergy6, betaMinimal6 = FindMinimalEnergy(EnergyTotal6,ElectronDistanceTotal6,alpha2,beta3,\"beta\")\n",
    "print(\"The minimum in energy is :\",MinimalEnergy6)\n",
    "print(\"Beta at that minimum is:\",betaMinimal6)\n",
    "print(\"The electron distance at the minimum is\",electDistMinimalEnergy6)"
   ]
  },
  {
   "cell_type": "code",
   "execution_count": 702,
   "metadata": {},
   "outputs": [
    {
     "data": {
      "text/plain": [
       "Text(0, 0.5, 'Energy')"
      ]
     },
     "execution_count": 702,
     "metadata": {},
     "output_type": "execute_result"
    },
    {
     "data": {
      "image/png": "[encoded data removed]",
      "text/plain": [
       "<Figure size 432x288 with 1 Axes>"
      ]
     },
     "metadata": {
      "needs_background": "light"
     },
     "output_type": "display_data"
    }
   ],
   "source": [
    "#plotting Energy as a function of Beta\n",
    "fig7_3,ax7_3 = plt.subplots()\n",
    "ax7_3.plot(beta3[1:-1],EnergyTotal6[1:-1],'*')\n",
    "ax7_3.plot(betaMinimal6,MinimalEnergy6,'r*')\n",
    "ax7_3.set_xlabel(r\"$\\beta$\")\n",
    "ax7_3.set_ylabel(\"Energy\")"
   ]
  },
  {
   "cell_type": "markdown",
   "metadata": {},
   "source": [
    "# Analysis of $\\omega = 0.25$ to check agains article: "
   ]
  },
  {
   "cell_type": "code",
   "execution_count": 962,
   "metadata": {},
   "outputs": [],
   "source": [
    "omega4 = 0.25\n",
    "alpha4 = np.arange(0.2,2,0.02)\n",
    "stepsize4 = np.arange(0,40,0.5)\n",
    "StepSize4 = FindStepsize(stepsize4,alpha4,omega4)"
   ]
  },
  {
   "cell_type": "code",
   "execution_count": 963,
   "metadata": {},
   "outputs": [
    {
     "name": "stdout",
     "output_type": "stream",
     "text": [
      "[19.25 18.25 17.5  16.75 16.25 15.75 15.25 15.   14.5  14.25 13.5  13.5\n",
      " 13.25 12.75 12.25 12.25 12.   11.5  11.5  11.25 11.   11.25 11.25 10.5\n",
      " 10.5  10.25 10.   10.25  9.75  9.75  9.75  9.5   9.5   9.25  9.25  9.25\n",
      "  9.    8.75  8.75  8.5   8.5   8.75  8.5   8.5   8.5   8.    8.    8.\n",
      "  8.    8.    8.    7.75  7.75  7.5   7.75  7.75  7.5   7.25  7.25  7.25\n",
      "  7.    7.25  7.    7.    7.25  7.    7.25  7.25  6.75  6.75  6.75  6.75\n",
      "  7.    6.5   6.5   6.75  6.5   6.5   6.5   6.5   6.5   6.25  6.5   6.5\n",
      "  6.25  6.5   6.25  6.25  6.    6.25]\n"
     ]
    }
   ],
   "source": [
    "print(StepSize4)"
   ]
  },
  {
   "cell_type": "code",
   "execution_count": 964,
   "metadata": {},
   "outputs": [
    {
     "name": "stdout",
     "output_type": "stream",
     "text": [
      "measurement took in seconds: 107.92413139343262\n"
     ]
    }
   ],
   "source": [
    "EnergyTotal7 = np.zeros(len(alpha4))\n",
    "CounterTotal7 = np.zeros(len(alpha4))\n",
    "VarianceTotal7 = np.zeros(len(alpha4))\n",
    "ElectronDistanceTotal7 = np.zeros(len(alpha4))\n",
    "PotentialEnergyTotal7 = np.zeros(len(alpha4))\n",
    "start = time.time()\n",
    "for i in range(len(alpha4)):\n",
    "    stepTemp = StepSize4[i]\n",
    "    alphaTemp = alpha4[i]\n",
    "    Energy, Counter, Variance, ElectronDistance, PotEnergy = MonteCarloCoulomb(int(1e6),omega4,alphaTemp,stepTemp)\n",
    "    EnergyTotal7[i] = Energy\n",
    "    CounterTotal7[i] = Counter\n",
    "    VarianceTotal7[i] = Variance\n",
    "    ElectronDistanceTotal7[i] = ElectronDistance\n",
    "    PotentialEnergyTotal7[i] = PotEnergy\n",
    "end = time.time()\n",
    "print(\"measurement took in seconds:\",end-start)"
   ]
  },
  {
   "cell_type": "code",
   "execution_count": 966,
   "metadata": {},
   "outputs": [
    {
     "name": "stdout",
     "output_type": "stream",
     "text": [
      "The minimal energy is: 1.1255795639663753\n",
      "The minimal energy is at alpha = 0.7999999999999996\n",
      "There the distance between electrons is: 3.5658542428598317\n",
      "There the potential energy is 0.8250581837269761\n"
     ]
    }
   ],
   "source": [
    "#Finding the lowest energy\n",
    "MinimalEnergy7, electDistMinimalEnergy7, alphaMinimal7, PotEnergyMinimal7 = FindMinimalEnergy(EnergyTotal7,ElectronDistanceTotal7,PotentialEnergyTotal7,alpha1,1,\"alpha\")\n",
    "print(\"The minimal energy is:\",MinimalEnergy7)\n",
    "print(\"The minimal energy is at alpha =\",alphaMinimal7)\n",
    "print(\"There the distance between electrons is:\",electDistMinimalEnergy7)\n",
    "print(\"There the potential energy is\",PotEnergyMinimal7)"
   ]
  },
  {
   "cell_type": "code",
   "execution_count": 751,
   "metadata": {},
   "outputs": [
    {
     "data": {
      "text/plain": [
       "Text(0, 0.5, 'Variance')"
      ]
     },
     "execution_count": 751,
     "metadata": {},
     "output_type": "execute_result"
    },
    {
     "data": {
      "image/png": "[encoded data removed]",
      "text/plain": [
       "<Figure size 432x288 with 1 Axes>"
      ]
     },
     "metadata": {
      "needs_background": "light"
     },
     "output_type": "display_data"
    },
    {
     "data": {
      "image/png": "[encoded data removed]",
      "text/plain": [
       "<Figure size 432x288 with 1 Axes>"
      ]
     },
     "metadata": {
      "needs_background": "light"
     },
     "output_type": "display_data"
    }
   ],
   "source": [
    "#Energy as a function of variational paramater alpha\n",
    "fig8, ax8 = plt.subplots()\n",
    "ax8.plot(alpha1,EnergyTotal7,'*')\n",
    "ax8.plot(alphaMinimal7,MinimalEnergy7,'r*')\n",
    "ax8.set_xlabel(r\"$\\alpha$\")\n",
    "ax8.set_ylabel(\"Energy\")\n",
    "#Variance\n",
    "#Energy as a function of variational paramater alpha\n",
    "fig8_1, ax8_1 = plt.subplots()\n",
    "ax8_1.plot(alpha1,VarianceTotal7,'*')\n",
    "ax8.set_xlabel(r\"$\\alpha$\")\n",
    "ax8.set_ylabel(\"Variance\")"
   ]
  },
  {
   "cell_type": "markdown",
   "metadata": {},
   "source": [
    "**Then for variational parameter $\\beta$:**"
   ]
  },
  {
   "cell_type": "code",
   "execution_count": 713,
   "metadata": {},
   "outputs": [
    {
     "name": "stdout",
     "output_type": "stream",
     "text": [
      "[0.002 0.1   0.102 0.104 0.106 0.108 0.11  0.112 0.114 0.116 0.118 0.12\n",
      " 0.122 0.124 0.126 0.128 0.13  0.132 0.134 0.136 0.138 0.14  0.142 0.144\n",
      " 0.146 0.148 0.15  0.152 0.154 0.156 0.158 0.16  0.162 0.164 0.166 0.168\n",
      " 0.17  0.172 0.174 0.176 0.178 0.18  0.182 0.184 0.186 0.188 0.19  0.192\n",
      " 0.194 0.196 0.198 0.2   0.202 0.202 0.204 0.206 0.208 0.21  0.212 0.214\n",
      " 0.216 0.218 0.22  0.222 0.224 0.226 0.228 0.23  0.232 0.234 0.236 0.238\n",
      " 0.24  0.242 0.244 0.246 0.248 0.25  0.252 0.254 0.256 0.258 0.26  0.262\n",
      " 0.264 0.266 0.268 0.27  0.272 0.274 0.276 0.278 0.28  0.282 0.284 0.286\n",
      " 0.288 0.29  0.292 0.294 0.296 0.298 0.3   0.302 0.304 0.306 0.308 0.31\n",
      " 0.312 0.314 0.316 0.318 0.32  0.322 0.324 0.326 0.328 0.33  0.332 0.334\n",
      " 0.336 0.338 0.34  0.342 0.344 0.346 0.348 0.35  0.352 0.354 0.356 0.358\n",
      " 0.36  0.362 0.364 0.366 0.368 0.37  0.372 0.374 0.376 0.378 0.38  0.382\n",
      " 0.384 0.386 0.388 0.39  0.392 0.394 0.396 0.398 0.4   0.402 0.602 0.802\n",
      " 1.002 1.202 1.402 1.602 1.802]\n"
     ]
    }
   ],
   "source": [
    "#Setting up range in beta\n",
    "temp = np.arange(0.002,2,0.2)\n",
    "beta1 = np.arange(0.1,0.4,0.002)\n",
    "beta1 = np.concatenate((temp,beta1),axis=0)\n",
    "beta4 = np.sort(beta1)\n",
    "print(beta4)"
   ]
  },
  {
   "cell_type": "code",
   "execution_count": 714,
   "metadata": {},
   "outputs": [
    {
     "name": "stdout",
     "output_type": "stream",
     "text": [
      "[5.4 5.1 5.1 5.1 5.  5.  5.1 5.1 5.1 5.  5.1 5.  5.  5.  5.1 5.  5.1 5.1\n",
      " 5.1 5.1 5.  5.  5.  5.  5.  5.  4.9 5.  5.  5.  5.  5.  4.9 4.9 5.  5.\n",
      " 5.1 5.  4.9 4.9 4.9 5.  5.  5.  4.8 5.  5.1 4.9 5.  4.9 4.8 5.1 4.9 5.\n",
      " 5.  5.1 5.  5.1 4.9 5.  4.9 4.9 4.9 4.9 5.  4.8 5.  5.1 5.  5.  5.  5.\n",
      " 4.9 5.  4.9 5.  4.8 5.  4.9 4.9 4.8 5.  4.9 4.8 4.9 5.  4.9 4.9 5.  5.\n",
      " 4.9 4.8 4.9 5.  4.8 4.9 4.9 4.9 5.  4.8 4.9 4.9 5.  5.  5.  4.9 4.9 4.9\n",
      " 4.8 4.8 4.9 4.9 4.9 4.9 4.8 5.  4.8 4.8 4.9 4.9 4.7 4.9 4.8 4.9 4.9 4.8\n",
      " 4.9 5.  4.9 4.9 4.8 5.  5.  4.8 5.  4.9 4.9 4.8 4.9 4.9 4.8 4.8 4.8 4.8\n",
      " 4.8 4.8 5.  4.9 4.9 4.9 4.9 4.8 4.8 4.9 4.8 4.8 4.8 4.8 4.8 4.6 4.7]\n"
     ]
    }
   ],
   "source": [
    "#Finding the right stepsize\n",
    "stepsize = np.arange(1,10,0.2)\n",
    "StepSize4 = FindStepsize2(stepsize,0.8,beta4,1)\n",
    "print(StepSize4)"
   ]
  },
  {
   "cell_type": "code",
   "execution_count": 715,
   "metadata": {},
   "outputs": [
    {
     "name": "stdout",
     "output_type": "stream",
     "text": [
      "measurement took in seconds: 277.67400455474854\n"
     ]
    }
   ],
   "source": [
    "omega4 = 0.25\n",
    "alpha4 = 0.8\n",
    "EnergyTotal8 = np.zeros(len(beta4))\n",
    "CounterTotal8 = np.zeros(len(beta4))\n",
    "VarianceTotal8 = np.zeros(len(beta4))\n",
    "ElectronDistanceTotal8 = np.zeros(len(beta4))\n",
    "start = time.time()\n",
    "for i in range(len(beta4)):\n",
    "    Energy, Counter, Variance, ElectronDistance = MonteCarlo2(int(1e6),omega4,alpha4,beta4[i],StepSize4[i])\n",
    "    EnergyTotal8[i] = Energy\n",
    "    CounterTotal8[i] = Counter\n",
    "    VarianceTotal8[i] = Variance\n",
    "    ElectronDistanceTotal8[i] = ElectronDistance\n",
    "end = time.time()\n",
    "print(\"measurement took in seconds:\",end-start)"
   ]
  },
  {
   "cell_type": "code",
   "execution_count": 718,
   "metadata": {},
   "outputs": [
    {
     "name": "stdout",
     "output_type": "stream",
     "text": [
      "The minimum in energy is : 1.0999148076438836\n",
      "Beta at that minimum is: 0.3240000000000002\n",
      "The electron distance at the minimum is 4.0456760555373\n",
      "The minimum in energy is (Filtered): 1.0999637389270445\n",
      "Beta at that minimum is (Filtered): 0.3240000000000002\n",
      "The electron distance at the minimum is (Filtered) 4.0456760555373\n"
     ]
    }
   ],
   "source": [
    "#Finding the minimal energy\n",
    "EnergyTotal8Filtered = savgol_filter(EnergyTotal8,window_length=5,polyorder=3)\n",
    "MinimalEnergy8, electDistMinimalEnergy8, betaMinimal8 = FindMinimalEnergy(EnergyTotal8,ElectronDistanceTotal8,alpha4,beta4,\"beta\")\n",
    "print(\"The minimum in energy is :\",MinimalEnergy8)\n",
    "print(\"Beta at that minimum is:\",betaMinimal8)\n",
    "print(\"The electron distance at the minimum is\",electDistMinimalEnergy8)\n",
    "MinimalEnergy8Filt, electDistMinimalEnergy8Filt, betaMinimal8Filt = FindMinimalEnergy(EnergyTotal8Filtered,ElectronDistanceTotal8,alpha2,beta4,\"beta\")\n",
    "print(\"The minimum in energy is (Filtered):\",MinimalEnergy8Filt)\n",
    "print(\"Beta at that minimum is (Filtered):\",betaMinimal8Filt)\n",
    "print(\"The electron distance at the minimum is (Filtered)\",electDistMinimalEnergy8Filt)"
   ]
  },
  {
   "cell_type": "code",
   "execution_count": 717,
   "metadata": {},
   "outputs": [
    {
     "data": {
      "text/plain": [
       "<matplotlib.legend.Legend at 0x17a37dfb240>"
      ]
     },
     "execution_count": 717,
     "metadata": {},
     "output_type": "execute_result"
    },
    {
     "data": {
      "image/png": "[encoded data removed]",
      "text/plain": [
       "<Figure size 432x288 with 1 Axes>"
      ]
     },
     "metadata": {
      "needs_background": "light"
     },
     "output_type": "display_data"
    }
   ],
   "source": [
    "#plotting Energy as a function of Beta\n",
    "fig8_3,ax8_3 = plt.subplots()\n",
    "ax8_3.plot(beta4[1:-1],EnergyTotal8[1:-1],'*',label=\"Original data\")#Spurning um að nota einhver filter til að ná út suði\n",
    "ax8_3.plot(betaMinimal8,MinimalEnergy8,'r*')\n",
    "ax8_3.plot(betaMinimal8Filt,MinimalEnergy8Filt,'r*')\n",
    "ax8_3.set_xlabel(r\"$\\beta$\")\n",
    "ax8_3.set_ylabel(\"Energy\")\n",
    "#Trying to filter the data\n",
    "MinimalEnergy8Filtered = savgol_filter(EnergyTotal8[1:-1],window_length=7,polyorder=5)\n",
    "ax8_3.plot(beta4[1:-1],MinimalEnergy8Filtered,label=\"Filtered Data\")\n",
    "ax8_3.legend()"
   ]
  },
  {
   "cell_type": "markdown",
   "metadata": {},
   "source": [
    "# Analysis of $\\omega = 0.05$ to check agains article: "
   ]
  },
  {
   "cell_type": "code",
   "execution_count": 967,
   "metadata": {},
   "outputs": [],
   "source": [
    "omega5 = 0.05\n",
    "alpha5 = np.arange(0.2,2,0.02)\n",
    "stepsize5 = np.arange(0,40,0.5)\n",
    "StepSize5 = FindStepsize(stepsize5,alpha5,omega5)"
   ]
  },
  {
   "cell_type": "code",
   "execution_count": 968,
   "metadata": {},
   "outputs": [
    {
     "name": "stdout",
     "output_type": "stream",
     "text": [
      "[35.25 34.75 34.25 33.5  32.75 32.5  32.25 32.   31.25 31.   30.5  29.75\n",
      " 29.25 28.75 28.   27.25 26.75 26.   25.75 25.5  25.25 24.   24.   23.5\n",
      " 23.5  23.25 22.75 22.75 22.   22.5  21.5  21.25 21.5  20.25 20.5  20.5\n",
      " 19.75 19.75 19.5  19.25 19.   18.75 18.75 19.   18.5  18.5  18.   18.25\n",
      " 17.75 17.75 17.5  17.25 17.25 17.5  17.25 17.   16.5  16.75 16.25 16.\n",
      " 16.25 16.25 16.25 16.   15.5  15.75 15.75 15.75 15.5  15.25 14.75 15.\n",
      " 15.   15.   14.75 14.75 15.   14.5  14.75 14.75 14.5  14.   14.25 14.\n",
      " 13.75 14.   14.   14.   14.   13.75]\n"
     ]
    }
   ],
   "source": [
    "print(StepSize5)"
   ]
  },
  {
   "cell_type": "code",
   "execution_count": 969,
   "metadata": {},
   "outputs": [
    {
     "name": "stdout",
     "output_type": "stream",
     "text": [
      "measurement took in seconds: 120.52262425422668\n"
     ]
    }
   ],
   "source": [
    "EnergyTotal9 = np.zeros(len(alpha5))\n",
    "CounterTotal9 = np.zeros(len(alpha5))\n",
    "VarianceTotal9 = np.zeros(len(alpha5))\n",
    "ElectronDistanceTotal9 = np.zeros(len(alpha5))\n",
    "PotentialEnergyTotal9 = np.zeros(len(alpha5))\n",
    "start = time.time()\n",
    "for i in range(len(alpha5)):\n",
    "    stepTemp = StepSize5[i]\n",
    "    alphaTemp = alpha5[i]\n",
    "    Energy, Counter, Variance, ElectronDistance, PotEnergy = MonteCarloCoulomb(int(1e6),omega5,alphaTemp,stepTemp)\n",
    "    EnergyTotal9[i] = Energy\n",
    "    CounterTotal9[i] = Counter\n",
    "    VarianceTotal9[i] = Variance\n",
    "    ElectronDistanceTotal9[i] = ElectronDistance\n",
    "    PotentialEnergyTotal9[i] = PotEnergy\n",
    "end = time.time()\n",
    "print(\"measurement took in seconds:\",end-start)"
   ]
  },
  {
   "cell_type": "code",
   "execution_count": 970,
   "metadata": {},
   "outputs": [
    {
     "name": "stdout",
     "output_type": "stream",
     "text": [
      "The minimal energy is: 0.30782050389761123\n",
      "The minimal energy is at alpha = 0.6399999999999998\n",
      "There the distance between electrons is: 8.92743671957213\n",
      "There the potential energy is 0.25984238035651025\n"
     ]
    }
   ],
   "source": [
    "#Finding the lowest energy\n",
    "MinimalEnergy9, electDistMinimalEnergy9, alphaMinimal9, PotEnergyMinimal9 = FindMinimalEnergy(EnergyTotal9,ElectronDistanceTotal9,PotentialEnergyTotal9,alpha5,omega5,\"alpha\")\n",
    "print(\"The minimal energy is:\",MinimalEnergy9)\n",
    "print(\"The minimal energy is at alpha =\",alphaMinimal9)\n",
    "print(\"There the distance between electrons is:\",electDistMinimalEnergy9)\n",
    "print(\"There the potential energy is\",PotEnergyMinimal9)"
   ]
  },
  {
   "cell_type": "code",
   "execution_count": 730,
   "metadata": {},
   "outputs": [
    {
     "data": {
      "text/plain": [
       "Text(0, 0.5, 'Energy')"
      ]
     },
     "execution_count": 730,
     "metadata": {},
     "output_type": "execute_result"
    },
    {
     "data": {
      "image/png": "[encoded data removed]",
      "text/plain": [
       "<Figure size 432x288 with 1 Axes>"
      ]
     },
     "metadata": {
      "needs_background": "light"
     },
     "output_type": "display_data"
    }
   ],
   "source": [
    "#Energy as a function of variational paramater alpha\n",
    "fig9, ax9 = plt.subplots()\n",
    "ax9.plot(alpha5,EnergyTotal9,'*')\n",
    "ax9.plot(alphaMinimal9,MinimalEnergy9,'r*')\n",
    "ax9.set_xlabel(r\"$\\alpha$\")\n",
    "ax9.set_ylabel(\"Energy\")"
   ]
  },
  {
   "cell_type": "markdown",
   "metadata": {},
   "source": [
    "# Virial Theorem"
   ]
  },
  {
   "cell_type": "markdown",
   "metadata": {},
   "source": [
    "**Having minimized the energy we can chech the Virial Theorem:**"
   ]
  },
  {
   "cell_type": "code",
   "execution_count": 784,
   "metadata": {},
   "outputs": [],
   "source": [
    "#Setting up the omega we intend to measure\n",
    "omegaVirial = np.array([0.01,0.05,0.25,0.5,1])"
   ]
  },
  {
   "cell_type": "markdown",
   "metadata": {},
   "source": [
    "**First we check for the simple harmonic oscillator with non-interacting electrons:**\n",
    "\n",
    "$\\alpha = 1$ is always a minimum "
   ]
  },
  {
   "cell_type": "code",
   "execution_count": 993,
   "metadata": {},
   "outputs": [
    {
     "name": "stdout",
     "output_type": "stream",
     "text": [
      "[0.01 0.06 0.11 0.16 0.21 0.26 0.31 0.36 0.41 0.46 0.51 0.56 0.61 0.66\n",
      " 0.71 0.76 0.81 0.86 0.91 0.96]\n"
     ]
    }
   ],
   "source": [
    "omegaVirial = np.arange(0.01,1,0.05)\n",
    "print(omegaVirial)"
   ]
  },
  {
   "cell_type": "code",
   "execution_count": 994,
   "metadata": {},
   "outputs": [],
   "source": [
    "PotentialEnergyVirial = np.zeros(len(omegaVirial))\n",
    "KineticEnergyVirial = np.zeros(len(omegaVirial))\n",
    "counter = 0\n",
    "for omegaTemp in omegaVirial:\n",
    "    Energy, Counter, Variance, PotEnergy = MonteCarlo(int(4e5),omegaTemp,1,3.8)\n",
    "    PotentialEnergyVirial[counter] = PotEnergy\n",
    "    KineticEnergyVirial[counter] = Energy - PotEnergy\n",
    "    counter += 1"
   ]
  },
  {
   "cell_type": "code",
   "execution_count": 995,
   "metadata": {},
   "outputs": [
    {
     "data": {
      "image/png": "[encoded data removed]",
      "text/plain": [
       "<Figure size 432x288 with 1 Axes>"
      ]
     },
     "metadata": {
      "needs_background": "light"
     },
     "output_type": "display_data"
    }
   ],
   "source": [
    "fig10,ax10 = plt.subplots()\n",
    "ax10.plot(omegaVirial,KineticEnergyVirial/PotentialEnergyVirial,'*')\n",
    "ax10.set_ylabel(r\"$\\frac{\\langle T\\rangle}{\\langle V\\rangle}$\")\n",
    "ax10.set_xlabel(r\"$\\omega$\")\n",
    "#ax10.set_ylim([0,2])\n",
    "#Taking the ration from the first trial wave function and including the Coulomb potential contribution\n",
    "RatioFirstTrialWaveFunction = np.array([PotEnergyMinimal0,PotEnergyMinimal3,PotEnergyMinimal5,PotEnergyMinimal7,PotEnergyMinimal9])\n",
    "omegaVirial2 = np.array([1,0.01,0.5,0.25,0.05])\n",
    "ax10.plot(omegaVirial2,RatioFirstTrialWaveFunction,'*')\n",
    "plt.show()"
   ]
  },
  {
   "cell_type": "code",
   "execution_count": 996,
   "metadata": {},
   "outputs": [
    {
     "name": "stdout",
     "output_type": "stream",
     "text": [
      "0.6733099859215188\n"
     ]
    },
    {
     "data": {
      "text/plain": [
       "[<matplotlib.lines.Line2D at 0x17a384be588>]"
      ]
     },
     "execution_count": 996,
     "metadata": {},
     "output_type": "execute_result"
    },
    {
     "data": {
      "image/png": "[encoded data removed]",
      "text/plain": [
       "<Figure size 432x288 with 1 Axes>"
      ]
     },
     "metadata": {
      "needs_background": "light"
     },
     "output_type": "display_data"
    }
   ],
   "source": [
    "p = np.polyfit(np.log(omegaVirial2),np.log(RatioFirstTrialWaveFunction),1)\n",
    "power = p[0]\n",
    "print(power)\n",
    "constant = p[1]\n",
    "x = np.linspace(0,1)\n",
    "y = x**power\n",
    "y = y*np.exp(constant)\n",
    "#plotta\n",
    "fig11,ax11 = plt.subplots()\n",
    "ax11.plot(omegaVirial,KineticEnergyVirial/PotentialEnergyVirial,'*')\n",
    "ax11.set_ylabel(r\"$\\frac{\\langle T\\rangle}{\\langle V\\rangle}$\")\n",
    "ax11.set_xlabel(r\"$\\omega$\")\n",
    "ax11.plot(omegaVirial2,RatioFirstTrialWaveFunction,'*')\n",
    "ax11.plot(x,y)"
   ]
  }
 ],
 "metadata": {
  "kernelspec": {
   "display_name": "Python 3",
   "language": "python",
   "name": "python3"
  },
  "language_info": {
   "codemirror_mode": {
    "name": "ipython",
    "version": 3
   },
   "file_extension": ".py",
   "mimetype": "text/x-python",
   "name": "python",
   "nbconvert_exporter": "python",
   "pygments_lexer": "ipython3",
   "version": "3.6.5"
  }
 },
 "nbformat": 4,
 "nbformat_minor": 2
}
